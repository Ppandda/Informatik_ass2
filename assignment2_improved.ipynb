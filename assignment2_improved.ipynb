{
 "cells": [
  {
   "cell_type": "code",
   "execution_count": 13,
   "id": "fe16fcd3",
   "metadata": {},
   "outputs": [],
   "source": [
    "################################################################################\n",
    "# Author 1:      Bernhard Lugger\n",
    "# MatNr 1:       01114792\n",
    "# Author 2:      Paula Nauta\n",
    "# MatNr 2:       11938311\n",
    "# File:          assignment2.ipynb\n",
    "# Description:   several different plots of OECD data\n",
    "# Comments:\n",
    "#\n",
    "################################################################################"
   ]
  },
  {
   "cell_type": "code",
   "execution_count": 14,
   "id": "4abf7afb",
   "metadata": {
    "jupyter": {
     "outputs_hidden": false
    },
    "pycharm": {
     "name": "#%%\n"
    }
   },
   "outputs": [],
   "source": [
    "# ========== imports ============\n",
    "\n",
    "import pandas as pd\n",
    "import pycountry as pc\n",
    "import pycountry_convert as pcc\n",
    "import plotly.express as px\n"
   ]
  },
  {
   "cell_type": "code",
   "execution_count": 15,
   "id": "77991a89",
   "metadata": {
    "pycharm": {
     "name": "#%%\n"
    }
   },
   "outputs": [],
   "source": [
    "# ========== functions ============\n",
    "\n",
    "def countries_fullname(country):\n",
    "    \"\"\"receives alpha_3 from a country (e.g. 'AUS') and returns the\n",
    "    full name of the country (e.g. 'Australia')\"\"\"\n",
    "    country_full = pc.countries.get(alpha_3=country)\n",
    "    country_name = country_full.name\n",
    "    return country_name\n",
    "\n",
    "\n",
    "    # '*' means that you can pass as many parameters (in this case 'countries' as you wish)\n",
    "def load_oecd_csv_to_df(file_path, *chosen_countries):\n",
    "    \"\"\"loads one csv from the given path and returns the relevant columns of arbitrary chosen\n",
    "    country-alpha3 names to a dataframe. With LOCATION of countries in fullname. \"\"\"\n",
    "    oecd_data = pd.read_csv(file_path, header=0, usecols=['LOCATION','SUBJECT', 'MEASURE', 'TIME', 'Value'],\n",
    "                            delimiter=\",\")     # ('header=0' --> column names)\n",
    "\n",
    "    if not chosen_countries:    # DEFAULT if no countries chosen, all rows/entries get returned\n",
    "        return oecd_data\n",
    "\n",
    "    else:\n",
    "        final_filtered_df = pd.DataFrame()\n",
    "        country_alpha3_names = []\n",
    "        for country in chosen_countries:\n",
    "            country_alpha3_names.append(country)\n",
    "\n",
    "        for country in country_alpha3_names:\n",
    "            df_mask=oecd_data['LOCATION']==country            # known from assignment1\n",
    "            filtered_df = oecd_data[df_mask]\n",
    "            final_filtered_df = final_filtered_df.append(filtered_df)\n",
    "\n",
    "        for country in chosen_countries:        # replace alpha3 names with full names of countries\n",
    "            full_name = countries_fullname(country)\n",
    "            final_filtered_df = final_filtered_df.replace([country], full_name)\n",
    "\n",
    "        return final_filtered_df\n",
    "\n",
    "\n",
    "def load_oecd_csv_to_df_alpha3(file_path, *chosen_countries):\n",
    "    \"\"\"loads one csv from the given path and returns the relevant columns of arbitrary\n",
    "    chosen country-alpha3 codes to a dataframe. With LOCATION of countries in alpha3 name.\"\"\"\n",
    "    oecd_data = pd.read_csv(file_path, header=0, usecols=['LOCATION','SUBJECT', 'MEASURE', 'TIME', 'Value'],\n",
    "                            delimiter=\",\")\n",
    "\n",
    "    if not chosen_countries:    # DEFAULT if no countries chosen, all rows/entries get returned\n",
    "        return oecd_data\n",
    "    else:\n",
    "        final_filtered_df = pd.DataFrame()\n",
    "        country_alpha3_names = []\n",
    "        for country in chosen_countries:\n",
    "            country_alpha3_names.append(country)\n",
    "\n",
    "        for country in country_alpha3_names:\n",
    "            df_mask=oecd_data['LOCATION']==country\n",
    "            filtered_df = oecd_data[df_mask]\n",
    "            final_filtered_df = final_filtered_df.append(filtered_df)\n",
    "\n",
    "        return final_filtered_df\n",
    "\n",
    "\n",
    "def filter_dataframe_or_not(df, column, value):\n",
    "    \"\"\"returns only data where the given value is in column.\"\"\"\n",
    "    if value:\n",
    "        df_mask=df[column]==value\n",
    "        filtered_df = df[df_mask]\n",
    "        return filtered_df\n",
    "    else: return df\n",
    "\n",
    "\n",
    "def alpha3_to_continent_name(country_alpha3):   # not used so far\n",
    "    \"\"\"expects alpha3 of a country and returns the continent in which it is located. \"\"\"\n",
    "    try:\n",
    "        a2 = pcc.country_alpha3_to_country_alpha2(country_alpha3)\n",
    "        continent_code = pcc.country_alpha2_to_continent_code(a2)\n",
    "        continent_name = pcc.convert_continent_code_to_continent_name(continent_code)\n",
    "        return continent_name\n",
    "    except:\n",
    "        continent_name = \"unknown continent\"\n",
    "        return continent_name\n",
    "\n",
    "\n",
    "def plot_lineplot(df, title, y_axis_text):\n",
    "    \"\"\"plots a lineplot of the given DataFrame with the given title and x-axis text.\"\"\"\n",
    "    fig = px.line(df, x=\"TIME\",y=\"Value\", color=\"LOCATION\", title=title)\n",
    "    fig.update_layout(xaxis={\"rangeslider\": {\"visible\": True}}, legend_title=\"Countries\")\n",
    "    fig.update_xaxes(title_text = 'Year')\n",
    "    fig.update_yaxes(title_text = y_axis_text)\n",
    "    fig.show()\n",
    "\n",
    "\n",
    "def plot_barplot(df, title, y_axis_text):\n",
    "    \"\"\"plots a barplot of the given DataFrame with the given title and x-axis text.\"\"\"\n",
    "    fig = px.bar(df, x=\"LOCATION\",y=\"Value\", color=\"LOCATION\", title=title)\n",
    "    fig.update_layout(legend_title=\"Countries\")\n",
    "    fig.update_xaxes(title_text = 'Location')\n",
    "    fig.update_yaxes(title_text = y_axis_text)\n",
    "    fig.show()\n",
    "\n",
    "\n",
    "def prepare_df_4_scatterplot(df1, df2, year_df1=None, subject_df1=None,\n",
    "                             measure_df1=None, year_df2=None, subject_df2=None, measure_df2=None):\n",
    "    \"\"\"prepares/edits data from 2 dataframes with optional filter parameters to one new dataframe\"\"\"\n",
    "    df1_filtered = filter_dataframe_or_not(df1, 'TIME', year_df1)\n",
    "    df1_filtered = filter_dataframe_or_not(df1_filtered, 'SUBJECT', subject_df1)\n",
    "    df1_filtered = filter_dataframe_or_not(df1_filtered, 'MEASURE', measure_df1)\n",
    "    print(df1_filtered)\n",
    "    df1_filtered_indexed = df1_filtered.set_index('LOCATION')\n",
    "    print(df1_filtered_indexed)\n",
    "    df1_filtered_indexed = df1_filtered_indexed.rename(columns={'Value': 'Values1'})\n",
    "    df1_final = df1_filtered_indexed.Values1\n",
    "    print(df1_final)\n",
    "\n",
    "    df2_filtered = filter_dataframe_or_not(df2, 'TIME', year_df2)\n",
    "    df2_filtered = filter_dataframe_or_not(df2_filtered, 'SUBJECT', subject_df2)\n",
    "    df2_filtered = filter_dataframe_or_not(df2_filtered, 'MEASURE', measure_df2)\n",
    "    df2_filtered_indexed = df2_filtered.set_index('LOCATION')\n",
    "    df2_filtered_indexed = df2_filtered_indexed.rename(columns={'Value': 'Values2'})\n",
    "    df2_final = df2_filtered_indexed.Values2\n",
    "\n",
    "    df_final = pd.concat([df1_final, df2_final], axis=1)\n",
    "    print(df1_final)\n",
    "    return df_final\n",
    "\n",
    "\n",
    "def plot_scatterplot(df, plot_title, x_axis_name, y_axis_name):\n",
    "    correlation = round(df['Values1'].corr(df['Values2']),3)\n",
    "    title_constructor = plot_title + ',        corr = ' + str(correlation)\n",
    "    fig = px.scatter(df, title = title_constructor,  x='Values1', y='Values2', color=df.index , trendline=\"ols\")\n",
    "    # size='petal_length',\n",
    "    fig.update_layout(legend_title=\"Countries\")\n",
    "    fig.update_xaxes(title_text = x_axis_name)\n",
    "    fig.update_yaxes(title_text = y_axis_name)\n",
    "    fig.show()"
   ]
  },
  {
   "cell_type": "code",
   "execution_count": 16,
   "id": "efd6e552",
   "metadata": {
    "pycharm": {
     "name": "#%%\n"
    }
   },
   "outputs": [],
   "source": [
    "# =============== Plot functions ==================\n",
    "\n",
    "# ----- Line-Plots --------\n",
    "# Government researchers\n",
    "def plot_lineplot1():\n",
    "    \"\"\"plots lineplot1 about Government researchers. \"\"\"\n",
    "    df_researchers = load_oecd_csv_to_df('datasets/DP_LIVE_02012022214642229.csv', 'AUT', 'ITA', 'NLD', 'DEU', 'BEL')\n",
    "    df_researchers_filtered = filter_dataframe_or_not(df_researchers, 'SUBJECT', 'TOT')\n",
    "    df_researchers_filtered = filter_dataframe_or_not(df_researchers_filtered, 'MEASURE', 'PC_NATIONAL')\n",
    "    plot_lineplot(df_researchers_filtered,\"Government researchers\",\"% of national total\")\n",
    "\n",
    "# Young population\n",
    "def plot_lineplot2():\n",
    "    \"\"\"plots lineplot2 about Young population. \"\"\"\n",
    "    df_young1 = load_oecd_csv_to_df('datasets/DP_LIVE_02012022233800555.csv', 'AUT', 'ITA', 'AUS', 'USA', 'BEL')\n",
    "    plot_lineplot(df_young1,\"Young population\", \"% of population\")\n",
    "\n",
    "# Fertility # solution needed: for uniformity the x-axis needs to be limited until the year 2019\n",
    "def plot_lineplot3():\n",
    "    \"\"\"\"plots lineplot3 of fertility rate\"\"\"\n",
    "    df_fertility = load_oecd_csv_to_df('datasets/renamed/Fertility_rates.csv','AUT', 'ITA', 'AUS', 'USA', 'BEL')\n",
    "    plot_lineplot(df_fertility,\"Fertility Rate\", \"% of Fertility Rate\")\n",
    "\n",
    "\n",
    "\n",
    "# ----- Bar-Plots --------\n",
    "# Discrimination in the family\n",
    "def plot_barplot1():\n",
    "    \"\"\"plots barplot1 about Attitudes towards working mothers. \"\"\"\n",
    "    df_discrimination = load_oecd_csv_to_df('datasets/DP_LIVE_03012022021117254.csv', 'AUT', 'CZE', 'AUS', 'USA', 'BEL')\n",
    "    df_discrimination_filtered = filter_dataframe_or_not(df_discrimination, 'SUBJECT', 'ATTWORKMUM')\n",
    "    plot_barplot(df_discrimination_filtered, \"Discrimination in the family 2019\", \"Attitudes towards working mothers [%]\")\n",
    "\n",
    "# Income Inequality\n",
    "def plot_barplot2():\n",
    "    \"\"\"plots barplot2 about income inequality in 2018 of different countries\"\"\"\n",
    "    df_income_inequality = load_oecd_csv_to_df('datasets/renamed/Income_inequality.csv', 'AUT', 'DEU', 'ITA', 'AUS', 'BEL')\n",
    "    df_income_inequality_filtered = filter_dataframe_or_not(df_income_inequality, 'TIME', 2018)\n",
    "    #print (df_income_inequality_filtered)\n",
    "    df_income_inequality_filtered = filter_dataframe_or_not(df_income_inequality_filtered, 'SUBJECT','GINI')\n",
    "    plot_barplot(df_income_inequality_filtered, \"Income Inequality in 2018\", \"Gini Coefficient\")\n",
    "\n",
    "# Poverty Gap\n",
    "def plot_barplot3():\n",
    "    \"\"\"plots barplot3 about the poverty rate in 2019 of different countries\"\"\"\n",
    "    df_poverty_gap = load_oecd_csv_to_df('datasets/renamed/Poverty_gap.csv', 'AUT', 'DEU', 'CZE', 'NLD', 'NOR', 'ESP')\n",
    "    df_poverty_gap_filtered = filter_dataframe_or_not(df_poverty_gap, 'TIME', 2019)\n",
    "    df_poverty_gap_filtered = filter_dataframe_or_not(df_poverty_gap_filtered, 'SUBJECT','18_65')\n",
    "    plot_barplot(df_poverty_gap_filtered, \"Poverty Gap in 2019\", \"ratio of people below the poverty line\")\n",
    "\n",
    "\n",
    "# ----- Scatter-Plots --------\n",
    "def plot_scatterplot1():\n",
    "    \"\"\"plots scatterplot1 about Greenhouse gas (GHG) in Tonnes/capita and\n",
    "    Adult tertiary education level (in % of 25-64 year-olds in 2020 or latest available).\"\"\"\n",
    "    df_ghg = load_oecd_csv_to_df_alpha3('datasets/DP_LIVE_04012022042348960.csv')# , 'AUT', 'ITA', 'AUS', 'USA', 'BEL')\n",
    "    df_edu_ter = load_oecd_csv_to_df_alpha3('datasets/DP_LIVE_04012022044322787.csv')#, 'AUT', 'ITA', 'AUS', 'USA', 'BEL')\n",
    "    df_scatter1 = prepare_df_4_scatterplot(df_ghg, df_edu_ter, year_df1=2010, year_df2=2010, subject_df1='GHG', measure_df1='TONNE_CAP', subject_df2='TRY')\n",
    "    plot_scatterplot(df_scatter1, 'GHG and adult education', 'GHG in tonns per capita',\n",
    "                     'Adult education level - Tertiary, % of 25-64 year-olds')\n",
    "\n",
    "def plot_scatterplot2():\n",
    "    \"\"\"plots scatterplot2 about Young population in people aged less than 15 years old in 2001 on x-axis and\n",
    "    ICT employment 2011 in percentage of business sector employment on the y-axis.\"\"\"\n",
    "    df1 = load_oecd_csv_to_df_alpha3('datasets/DP_LIVE_02012022233800555.csv')# , 'AUT', 'ITA', 'AUS', 'USA', 'BEL')\n",
    "    df2 = load_oecd_csv_to_df_alpha3('datasets/DP_LIVE_07012022224048726.csv')# , 'AUT', 'ITA', 'AUS', 'USA', 'BEL')\n",
    "    df_scatter = prepare_df_4_scatterplot(df1, df2, year_df1=2001)\n",
    "    plot_scatterplot(df_scatter, 'Young population (2001) & ICT employment (2011)',\n",
    "                     'Young population aged less than 15 (% of population)', 'ICT employment 2011')\n",
    "\n",
    "def plot_scatterplot3():\n",
    "    \"\"\"plots scatterplot3 about GDP 2020 in US dollars per capita\n",
    "     and unemployed tertiary educated 25-64 year-old people in % of 25-64 year-olds in the labour force. \"\"\"\n",
    "    df1 = load_oecd_csv_to_df_alpha3('datasets/DP_LIVE_07012022232019966.csv')# , 'AUT', 'ITA', 'AUS', 'USA', 'BEL')\n",
    "    df2 = load_oecd_csv_to_df_alpha3('datasets/DP_LIVE_07012022232918512.csv')# , 'AUT', 'ITA', 'AUS', 'USA', 'BEL')\n",
    "    df_scatter = prepare_df_4_scatterplot(df1, df2, year_df1=2020, measure_df1='USD_CAP', year_df2=2020, subject_df2='TRY')\n",
    "    plot_scatterplot(df_scatter, 'GDP 2020 and unemployed tertiary educated 25-64 year-old people',\n",
    "                     'GDP per capita 2020', 'unemployed tertiary educated [%]')"
   ]
  },
  {
   "cell_type": "code",
   "execution_count": 17,
   "id": "06f3072a",
   "metadata": {
    "pycharm": {
     "name": "#%%\n"
    }
   },
   "outputs": [
    {
     "data": {
      "application/vnd.plotly.v1+json": {
       "data": [
        {
         "hovertemplate": "LOCATION=Austria<br>TIME=%{x}<br>Value=%{y}<extra></extra>",
         "legendgroup": "Austria",
         "line": {
          "color": "#636efa",
          "dash": "solid"
         },
         "marker": {
          "symbol": "circle"
         },
         "mode": "lines",
         "name": "Austria",
         "orientation": "v",
         "showlegend": true,
         "x": [
          1981,
          1985,
          1989,
          1993,
          1998,
          2002,
          2004,
          2005,
          2006,
          2007,
          2008,
          2009,
          2010,
          2011,
          2012,
          2013,
          2014,
          2015,
          2016,
          2017,
          2018,
          2019
         ],
         "xaxis": "x",
         "y": [
          8.08998808104887,
          6.80772769089237,
          5.92120245957641,
          7.05093206458155,
          5.09756983777545,
          4.1398435589307,
          3.96760572062631,
          4.32601792789502,
          4.61835629668444,
          4.38507873568299,
          4.38503200679257,
          4.49836572552844,
          4.28638989199282,
          4.07153134413614,
          3.91579997330022,
          3.87576189345365,
          3.88016984540315,
          3.86116339929296,
          7.71270370228504,
          7.71237978998759,
          7.71269483780106,
          7.22994717232732
         ],
         "yaxis": "y",
         "type": "scatter"
        },
        {
         "hovertemplate": "LOCATION=Italy<br>TIME=%{x}<br>Value=%{y}<extra></extra>",
         "legendgroup": "Italy",
         "line": {
          "color": "#EF553B",
          "dash": "solid"
         },
         "marker": {
          "symbol": "circle"
         },
         "mode": "lines",
         "name": "Italy",
         "orientation": "v",
         "showlegend": true,
         "x": [
          1981,
          1982,
          1983,
          1984,
          1985,
          1986,
          1987,
          1988,
          1989,
          1990,
          1991,
          1992,
          1993,
          1994,
          1995,
          1996,
          1997,
          1998,
          1999,
          2000,
          2001,
          2002,
          2003,
          2004,
          2005,
          2006,
          2007,
          2008,
          2009,
          2010,
          2011,
          2012,
          2013,
          2014,
          2015,
          2016,
          2017,
          2018,
          2019
         ],
         "xaxis": "x",
         "y": [
          15.076834421821,
          16.4247800095226,
          15.4504054204154,
          17.6140305587376,
          17.7982716165561,
          17.0214020399741,
          17.7660298202846,
          18.6308179546457,
          18.3781581092095,
          18.6206276644923,
          16.8186288843404,
          17.625164601865,
          17.8654915764301,
          17.9432661577877,
          18.423003600932,
          17.8399026700331,
          20.8314305720462,
          20.8326957799064,
          21.0405849642078,
          21.6533050975647,
          19.4986657071752,
          19.0407343982482,
          19.8713819966075,
          19.7702886042762,
          17.5223575535618,
          18.7609126355881,
          18.5925606531606,
          16.2421436350783,
          16.3763425444962,
          16.9164306647471,
          17.6914460774385,
          18.5186657367826,
          18.3473609995584,
          17.8071296210115,
          17.1535253227408,
          16.2378651668586,
          15.7560301471741,
          14.8911046625221,
          14.4731867710958
         ],
         "yaxis": "y",
         "type": "scatter"
        },
        {
         "hovertemplate": "LOCATION=Netherlands<br>TIME=%{x}<br>Value=%{y}<extra></extra>",
         "legendgroup": "Netherlands",
         "line": {
          "color": "#00cc96",
          "dash": "solid"
         },
         "marker": {
          "symbol": "circle"
         },
         "mode": "lines",
         "name": "Netherlands",
         "orientation": "v",
         "showlegend": true,
         "x": [
          1981,
          1983,
          1985,
          1987,
          1989,
          1993,
          1994,
          1995,
          1996,
          1997,
          1998,
          1999,
          2000,
          2001,
          2002,
          2003,
          2004,
          2005,
          2006,
          2007,
          2008,
          2009,
          2010,
          2011,
          2012,
          2013,
          2014,
          2015,
          2016,
          2017,
          2018,
          2019
         ],
         "xaxis": "x",
         "y": [
          23.3638608767236,
          22.7767695099819,
          23.4782608695652,
          23.7254901960784,
          25.2998500749625,
          22.5535880708295,
          22.3828193574814,
          22.6039260969977,
          22.0374278879978,
          20.5424013875384,
          20.4600701107955,
          16.3361481233404,
          14.1062710337963,
          14.9104147020768,
          15.4757834757835,
          17.5139824220979,
          16.0158671129292,
          14.6863376102311,
          13.4167450611477,
          13.6651193763833,
          13.7993573442151,
          14.5236168490992,
          12.9583077295496,
          11.0230944516648,
          11.7170584817478,
          6.71521915045231,
          6.46637199856648,
          6.6332886163281,
          6.46943341094827,
          6.11164211243312,
          6.12202147158942,
          6.2253743104807
         ],
         "yaxis": "y",
         "type": "scatter"
        },
        {
         "hovertemplate": "LOCATION=Germany<br>TIME=%{x}<br>Value=%{y}<extra></extra>",
         "legendgroup": "Germany",
         "line": {
          "color": "#ab63fa",
          "dash": "solid"
         },
         "marker": {
          "symbol": "circle"
         },
         "mode": "lines",
         "name": "Germany",
         "orientation": "v",
         "showlegend": true,
         "x": [
          1981,
          1983,
          1985,
          1987,
          1989,
          1991,
          1993,
          1995,
          1996,
          1997,
          1998,
          1999,
          2000,
          2001,
          2002,
          2003,
          2004,
          2005,
          2006,
          2007,
          2008,
          2009,
          2010,
          2011,
          2012,
          2013,
          2014,
          2015,
          2016,
          2017,
          2018,
          2019
         ],
         "xaxis": "x",
         "y": [
          14.7574102964119,
          14.7184538189928,
          13.8550661719317,
          13.1973963868225,
          13.7866917608644,
          15.9648404714949,
          14.7805151516468,
          16.1486276002908,
          16.3721984977562,
          15.8622181320056,
          16.0740728276233,
          14.8595749359027,
          14.606745930183,
          14.5950034986856,
          14.7021202955472,
          14.3967844367931,
          15.6216346242807,
          14.6651821802843,
          14.8258535783462,
          14.9769814992453,
          14.9821075135226,
          15.518409615924,
          15.7876925328358,
          15.9984528579316,
          15.7758236644449,
          16.0115442232335,
          15.0186262335795,
          13.9210066446382,
          13.5060872611704,
          13.0392715261774,
          13.1853857646128,
          13.1399575595388
         ],
         "yaxis": "y",
         "type": "scatter"
        },
        {
         "hovertemplate": "LOCATION=Belgium<br>TIME=%{x}<br>Value=%{y}<extra></extra>",
         "legendgroup": "Belgium",
         "line": {
          "color": "#FFA15A",
          "dash": "solid"
         },
         "marker": {
          "symbol": "circle"
         },
         "mode": "lines",
         "name": "Belgium",
         "orientation": "v",
         "showlegend": true,
         "x": [
          1981,
          1982,
          1983,
          1984,
          1985,
          1986,
          1987,
          1988,
          1989,
          1991,
          1993,
          1994,
          1995,
          1996,
          1997,
          1998,
          1999,
          2000,
          2001,
          2002,
          2003,
          2004,
          2005,
          2006,
          2007,
          2008,
          2009,
          2010,
          2011,
          2012,
          2013,
          2014,
          2015,
          2016,
          2017,
          2018,
          2019
         ],
         "xaxis": "x",
         "y": [
          4.95802934023692,
          4.80984340044743,
          4.92889583798675,
          4.88997555012225,
          4.64801138288502,
          4.41260744985673,
          4.30663758180119,
          4.13312507509312,
          4.78433598183882,
          4.33581883457609,
          5.63559656818148,
          5.32967607233039,
          5.18638770765701,
          5.73268406450652,
          5.92034500498927,
          5.79286260067679,
          5.84576399527268,
          5.92326889303032,
          6.02175131264236,
          6.45576627569575,
          6.55445843904607,
          6.83507330743744,
          6.85940695527037,
          6.94935313066859,
          6.95577707018506,
          7.23522879289068,
          7.37701634018949,
          6.49043319666442,
          6.51505121844647,
          7.87551812619252,
          7.88927757934104,
          7.99291617473436,
          7.59970288465155,
          7.90342667649226,
          8.30530319118702,
          9.19493549484529,
          9.05672061937507
         ],
         "yaxis": "y",
         "type": "scatter"
        }
       ],
       "layout": {
        "template": {
         "data": {
          "bar": [
           {
            "error_x": {
             "color": "#2a3f5f"
            },
            "error_y": {
             "color": "#2a3f5f"
            },
            "marker": {
             "line": {
              "color": "#E5ECF6",
              "width": 0.5
             },
             "pattern": {
              "fillmode": "overlay",
              "size": 10,
              "solidity": 0.2
             }
            },
            "type": "bar"
           }
          ],
          "barpolar": [
           {
            "marker": {
             "line": {
              "color": "#E5ECF6",
              "width": 0.5
             },
             "pattern": {
              "fillmode": "overlay",
              "size": 10,
              "solidity": 0.2
             }
            },
            "type": "barpolar"
           }
          ],
          "carpet": [
           {
            "aaxis": {
             "endlinecolor": "#2a3f5f",
             "gridcolor": "white",
             "linecolor": "white",
             "minorgridcolor": "white",
             "startlinecolor": "#2a3f5f"
            },
            "baxis": {
             "endlinecolor": "#2a3f5f",
             "gridcolor": "white",
             "linecolor": "white",
             "minorgridcolor": "white",
             "startlinecolor": "#2a3f5f"
            },
            "type": "carpet"
           }
          ],
          "choropleth": [
           {
            "colorbar": {
             "outlinewidth": 0,
             "ticks": ""
            },
            "type": "choropleth"
           }
          ],
          "contour": [
           {
            "colorbar": {
             "outlinewidth": 0,
             "ticks": ""
            },
            "colorscale": [
             [
              0.0,
              "#0d0887"
             ],
             [
              0.1111111111111111,
              "#46039f"
             ],
             [
              0.2222222222222222,
              "#7201a8"
             ],
             [
              0.3333333333333333,
              "#9c179e"
             ],
             [
              0.4444444444444444,
              "#bd3786"
             ],
             [
              0.5555555555555556,
              "#d8576b"
             ],
             [
              0.6666666666666666,
              "#ed7953"
             ],
             [
              0.7777777777777778,
              "#fb9f3a"
             ],
             [
              0.8888888888888888,
              "#fdca26"
             ],
             [
              1.0,
              "#f0f921"
             ]
            ],
            "type": "contour"
           }
          ],
          "contourcarpet": [
           {
            "colorbar": {
             "outlinewidth": 0,
             "ticks": ""
            },
            "type": "contourcarpet"
           }
          ],
          "heatmap": [
           {
            "colorbar": {
             "outlinewidth": 0,
             "ticks": ""
            },
            "colorscale": [
             [
              0.0,
              "#0d0887"
             ],
             [
              0.1111111111111111,
              "#46039f"
             ],
             [
              0.2222222222222222,
              "#7201a8"
             ],
             [
              0.3333333333333333,
              "#9c179e"
             ],
             [
              0.4444444444444444,
              "#bd3786"
             ],
             [
              0.5555555555555556,
              "#d8576b"
             ],
             [
              0.6666666666666666,
              "#ed7953"
             ],
             [
              0.7777777777777778,
              "#fb9f3a"
             ],
             [
              0.8888888888888888,
              "#fdca26"
             ],
             [
              1.0,
              "#f0f921"
             ]
            ],
            "type": "heatmap"
           }
          ],
          "heatmapgl": [
           {
            "colorbar": {
             "outlinewidth": 0,
             "ticks": ""
            },
            "colorscale": [
             [
              0.0,
              "#0d0887"
             ],
             [
              0.1111111111111111,
              "#46039f"
             ],
             [
              0.2222222222222222,
              "#7201a8"
             ],
             [
              0.3333333333333333,
              "#9c179e"
             ],
             [
              0.4444444444444444,
              "#bd3786"
             ],
             [
              0.5555555555555556,
              "#d8576b"
             ],
             [
              0.6666666666666666,
              "#ed7953"
             ],
             [
              0.7777777777777778,
              "#fb9f3a"
             ],
             [
              0.8888888888888888,
              "#fdca26"
             ],
             [
              1.0,
              "#f0f921"
             ]
            ],
            "type": "heatmapgl"
           }
          ],
          "histogram": [
           {
            "marker": {
             "pattern": {
              "fillmode": "overlay",
              "size": 10,
              "solidity": 0.2
             }
            },
            "type": "histogram"
           }
          ],
          "histogram2d": [
           {
            "colorbar": {
             "outlinewidth": 0,
             "ticks": ""
            },
            "colorscale": [
             [
              0.0,
              "#0d0887"
             ],
             [
              0.1111111111111111,
              "#46039f"
             ],
             [
              0.2222222222222222,
              "#7201a8"
             ],
             [
              0.3333333333333333,
              "#9c179e"
             ],
             [
              0.4444444444444444,
              "#bd3786"
             ],
             [
              0.5555555555555556,
              "#d8576b"
             ],
             [
              0.6666666666666666,
              "#ed7953"
             ],
             [
              0.7777777777777778,
              "#fb9f3a"
             ],
             [
              0.8888888888888888,
              "#fdca26"
             ],
             [
              1.0,
              "#f0f921"
             ]
            ],
            "type": "histogram2d"
           }
          ],
          "histogram2dcontour": [
           {
            "colorbar": {
             "outlinewidth": 0,
             "ticks": ""
            },
            "colorscale": [
             [
              0.0,
              "#0d0887"
             ],
             [
              0.1111111111111111,
              "#46039f"
             ],
             [
              0.2222222222222222,
              "#7201a8"
             ],
             [
              0.3333333333333333,
              "#9c179e"
             ],
             [
              0.4444444444444444,
              "#bd3786"
             ],
             [
              0.5555555555555556,
              "#d8576b"
             ],
             [
              0.6666666666666666,
              "#ed7953"
             ],
             [
              0.7777777777777778,
              "#fb9f3a"
             ],
             [
              0.8888888888888888,
              "#fdca26"
             ],
             [
              1.0,
              "#f0f921"
             ]
            ],
            "type": "histogram2dcontour"
           }
          ],
          "mesh3d": [
           {
            "colorbar": {
             "outlinewidth": 0,
             "ticks": ""
            },
            "type": "mesh3d"
           }
          ],
          "parcoords": [
           {
            "line": {
             "colorbar": {
              "outlinewidth": 0,
              "ticks": ""
             }
            },
            "type": "parcoords"
           }
          ],
          "pie": [
           {
            "automargin": true,
            "type": "pie"
           }
          ],
          "scatter": [
           {
            "marker": {
             "colorbar": {
              "outlinewidth": 0,
              "ticks": ""
             }
            },
            "type": "scatter"
           }
          ],
          "scatter3d": [
           {
            "line": {
             "colorbar": {
              "outlinewidth": 0,
              "ticks": ""
             }
            },
            "marker": {
             "colorbar": {
              "outlinewidth": 0,
              "ticks": ""
             }
            },
            "type": "scatter3d"
           }
          ],
          "scattercarpet": [
           {
            "marker": {
             "colorbar": {
              "outlinewidth": 0,
              "ticks": ""
             }
            },
            "type": "scattercarpet"
           }
          ],
          "scattergeo": [
           {
            "marker": {
             "colorbar": {
              "outlinewidth": 0,
              "ticks": ""
             }
            },
            "type": "scattergeo"
           }
          ],
          "scattergl": [
           {
            "marker": {
             "colorbar": {
              "outlinewidth": 0,
              "ticks": ""
             }
            },
            "type": "scattergl"
           }
          ],
          "scattermapbox": [
           {
            "marker": {
             "colorbar": {
              "outlinewidth": 0,
              "ticks": ""
             }
            },
            "type": "scattermapbox"
           }
          ],
          "scatterpolar": [
           {
            "marker": {
             "colorbar": {
              "outlinewidth": 0,
              "ticks": ""
             }
            },
            "type": "scatterpolar"
           }
          ],
          "scatterpolargl": [
           {
            "marker": {
             "colorbar": {
              "outlinewidth": 0,
              "ticks": ""
             }
            },
            "type": "scatterpolargl"
           }
          ],
          "scatterternary": [
           {
            "marker": {
             "colorbar": {
              "outlinewidth": 0,
              "ticks": ""
             }
            },
            "type": "scatterternary"
           }
          ],
          "surface": [
           {
            "colorbar": {
             "outlinewidth": 0,
             "ticks": ""
            },
            "colorscale": [
             [
              0.0,
              "#0d0887"
             ],
             [
              0.1111111111111111,
              "#46039f"
             ],
             [
              0.2222222222222222,
              "#7201a8"
             ],
             [
              0.3333333333333333,
              "#9c179e"
             ],
             [
              0.4444444444444444,
              "#bd3786"
             ],
             [
              0.5555555555555556,
              "#d8576b"
             ],
             [
              0.6666666666666666,
              "#ed7953"
             ],
             [
              0.7777777777777778,
              "#fb9f3a"
             ],
             [
              0.8888888888888888,
              "#fdca26"
             ],
             [
              1.0,
              "#f0f921"
             ]
            ],
            "type": "surface"
           }
          ],
          "table": [
           {
            "cells": {
             "fill": {
              "color": "#EBF0F8"
             },
             "line": {
              "color": "white"
             }
            },
            "header": {
             "fill": {
              "color": "#C8D4E3"
             },
             "line": {
              "color": "white"
             }
            },
            "type": "table"
           }
          ]
         },
         "layout": {
          "annotationdefaults": {
           "arrowcolor": "#2a3f5f",
           "arrowhead": 0,
           "arrowwidth": 1
          },
          "autotypenumbers": "strict",
          "coloraxis": {
           "colorbar": {
            "outlinewidth": 0,
            "ticks": ""
           }
          },
          "colorscale": {
           "diverging": [
            [
             0,
             "#8e0152"
            ],
            [
             0.1,
             "#c51b7d"
            ],
            [
             0.2,
             "#de77ae"
            ],
            [
             0.3,
             "#f1b6da"
            ],
            [
             0.4,
             "#fde0ef"
            ],
            [
             0.5,
             "#f7f7f7"
            ],
            [
             0.6,
             "#e6f5d0"
            ],
            [
             0.7,
             "#b8e186"
            ],
            [
             0.8,
             "#7fbc41"
            ],
            [
             0.9,
             "#4d9221"
            ],
            [
             1,
             "#276419"
            ]
           ],
           "sequential": [
            [
             0.0,
             "#0d0887"
            ],
            [
             0.1111111111111111,
             "#46039f"
            ],
            [
             0.2222222222222222,
             "#7201a8"
            ],
            [
             0.3333333333333333,
             "#9c179e"
            ],
            [
             0.4444444444444444,
             "#bd3786"
            ],
            [
             0.5555555555555556,
             "#d8576b"
            ],
            [
             0.6666666666666666,
             "#ed7953"
            ],
            [
             0.7777777777777778,
             "#fb9f3a"
            ],
            [
             0.8888888888888888,
             "#fdca26"
            ],
            [
             1.0,
             "#f0f921"
            ]
           ],
           "sequentialminus": [
            [
             0.0,
             "#0d0887"
            ],
            [
             0.1111111111111111,
             "#46039f"
            ],
            [
             0.2222222222222222,
             "#7201a8"
            ],
            [
             0.3333333333333333,
             "#9c179e"
            ],
            [
             0.4444444444444444,
             "#bd3786"
            ],
            [
             0.5555555555555556,
             "#d8576b"
            ],
            [
             0.6666666666666666,
             "#ed7953"
            ],
            [
             0.7777777777777778,
             "#fb9f3a"
            ],
            [
             0.8888888888888888,
             "#fdca26"
            ],
            [
             1.0,
             "#f0f921"
            ]
           ]
          },
          "colorway": [
           "#636efa",
           "#EF553B",
           "#00cc96",
           "#ab63fa",
           "#FFA15A",
           "#19d3f3",
           "#FF6692",
           "#B6E880",
           "#FF97FF",
           "#FECB52"
          ],
          "font": {
           "color": "#2a3f5f"
          },
          "geo": {
           "bgcolor": "white",
           "lakecolor": "white",
           "landcolor": "#E5ECF6",
           "showlakes": true,
           "showland": true,
           "subunitcolor": "white"
          },
          "hoverlabel": {
           "align": "left"
          },
          "hovermode": "closest",
          "mapbox": {
           "style": "light"
          },
          "paper_bgcolor": "white",
          "plot_bgcolor": "#E5ECF6",
          "polar": {
           "angularaxis": {
            "gridcolor": "white",
            "linecolor": "white",
            "ticks": ""
           },
           "bgcolor": "#E5ECF6",
           "radialaxis": {
            "gridcolor": "white",
            "linecolor": "white",
            "ticks": ""
           }
          },
          "scene": {
           "xaxis": {
            "backgroundcolor": "#E5ECF6",
            "gridcolor": "white",
            "gridwidth": 2,
            "linecolor": "white",
            "showbackground": true,
            "ticks": "",
            "zerolinecolor": "white"
           },
           "yaxis": {
            "backgroundcolor": "#E5ECF6",
            "gridcolor": "white",
            "gridwidth": 2,
            "linecolor": "white",
            "showbackground": true,
            "ticks": "",
            "zerolinecolor": "white"
           },
           "zaxis": {
            "backgroundcolor": "#E5ECF6",
            "gridcolor": "white",
            "gridwidth": 2,
            "linecolor": "white",
            "showbackground": true,
            "ticks": "",
            "zerolinecolor": "white"
           }
          },
          "shapedefaults": {
           "line": {
            "color": "#2a3f5f"
           }
          },
          "ternary": {
           "aaxis": {
            "gridcolor": "white",
            "linecolor": "white",
            "ticks": ""
           },
           "baxis": {
            "gridcolor": "white",
            "linecolor": "white",
            "ticks": ""
           },
           "bgcolor": "#E5ECF6",
           "caxis": {
            "gridcolor": "white",
            "linecolor": "white",
            "ticks": ""
           }
          },
          "title": {
           "x": 0.05
          },
          "xaxis": {
           "automargin": true,
           "gridcolor": "white",
           "linecolor": "white",
           "ticks": "",
           "title": {
            "standoff": 15
           },
           "zerolinecolor": "white",
           "zerolinewidth": 2
          },
          "yaxis": {
           "automargin": true,
           "gridcolor": "white",
           "linecolor": "white",
           "ticks": "",
           "title": {
            "standoff": 15
           },
           "zerolinecolor": "white",
           "zerolinewidth": 2
          }
         }
        },
        "xaxis": {
         "anchor": "y",
         "domain": [
          0.0,
          1.0
         ],
         "title": {
          "text": "Year"
         },
         "rangeslider": {
          "visible": true
         }
        },
        "yaxis": {
         "anchor": "x",
         "domain": [
          0.0,
          1.0
         ],
         "title": {
          "text": "% of national total"
         }
        },
        "legend": {
         "title": {
          "text": "Countries"
         },
         "tracegroupgap": 0
        },
        "title": {
         "text": "Government researchers"
        }
       },
       "config": {
        "plotlyServerURL": "https://plot.ly"
       }
      },
      "text/html": "<div>                            <div id=\"2e781830-1c0c-44cd-b3c2-d43c93202e47\" class=\"plotly-graph-div\" style=\"height:525px; width:100%;\"></div>            <script type=\"text/javascript\">                require([\"plotly\"], function(Plotly) {                    window.PLOTLYENV=window.PLOTLYENV || {};                                    if (document.getElementById(\"2e781830-1c0c-44cd-b3c2-d43c93202e47\")) {                    Plotly.newPlot(                        \"2e781830-1c0c-44cd-b3c2-d43c93202e47\",                        [{\"hovertemplate\":\"LOCATION=Austria<br>TIME=%{x}<br>Value=%{y}<extra></extra>\",\"legendgroup\":\"Austria\",\"line\":{\"color\":\"#636efa\",\"dash\":\"solid\"},\"marker\":{\"symbol\":\"circle\"},\"mode\":\"lines\",\"name\":\"Austria\",\"orientation\":\"v\",\"showlegend\":true,\"x\":[1981,1985,1989,1993,1998,2002,2004,2005,2006,2007,2008,2009,2010,2011,2012,2013,2014,2015,2016,2017,2018,2019],\"xaxis\":\"x\",\"y\":[8.08998808104887,6.80772769089237,5.92120245957641,7.05093206458155,5.09756983777545,4.1398435589307,3.96760572062631,4.32601792789502,4.61835629668444,4.38507873568299,4.38503200679257,4.49836572552844,4.28638989199282,4.07153134413614,3.91579997330022,3.87576189345365,3.88016984540315,3.86116339929296,7.71270370228504,7.71237978998759,7.71269483780106,7.22994717232732],\"yaxis\":\"y\",\"type\":\"scatter\"},{\"hovertemplate\":\"LOCATION=Italy<br>TIME=%{x}<br>Value=%{y}<extra></extra>\",\"legendgroup\":\"Italy\",\"line\":{\"color\":\"#EF553B\",\"dash\":\"solid\"},\"marker\":{\"symbol\":\"circle\"},\"mode\":\"lines\",\"name\":\"Italy\",\"orientation\":\"v\",\"showlegend\":true,\"x\":[1981,1982,1983,1984,1985,1986,1987,1988,1989,1990,1991,1992,1993,1994,1995,1996,1997,1998,1999,2000,2001,2002,2003,2004,2005,2006,2007,2008,2009,2010,2011,2012,2013,2014,2015,2016,2017,2018,2019],\"xaxis\":\"x\",\"y\":[15.076834421821,16.4247800095226,15.4504054204154,17.6140305587376,17.7982716165561,17.0214020399741,17.7660298202846,18.6308179546457,18.3781581092095,18.6206276644923,16.8186288843404,17.625164601865,17.8654915764301,17.9432661577877,18.423003600932,17.8399026700331,20.8314305720462,20.8326957799064,21.0405849642078,21.6533050975647,19.4986657071752,19.0407343982482,19.8713819966075,19.7702886042762,17.5223575535618,18.7609126355881,18.5925606531606,16.2421436350783,16.3763425444962,16.9164306647471,17.6914460774385,18.5186657367826,18.3473609995584,17.8071296210115,17.1535253227408,16.2378651668586,15.7560301471741,14.8911046625221,14.4731867710958],\"yaxis\":\"y\",\"type\":\"scatter\"},{\"hovertemplate\":\"LOCATION=Netherlands<br>TIME=%{x}<br>Value=%{y}<extra></extra>\",\"legendgroup\":\"Netherlands\",\"line\":{\"color\":\"#00cc96\",\"dash\":\"solid\"},\"marker\":{\"symbol\":\"circle\"},\"mode\":\"lines\",\"name\":\"Netherlands\",\"orientation\":\"v\",\"showlegend\":true,\"x\":[1981,1983,1985,1987,1989,1993,1994,1995,1996,1997,1998,1999,2000,2001,2002,2003,2004,2005,2006,2007,2008,2009,2010,2011,2012,2013,2014,2015,2016,2017,2018,2019],\"xaxis\":\"x\",\"y\":[23.3638608767236,22.7767695099819,23.4782608695652,23.7254901960784,25.2998500749625,22.5535880708295,22.3828193574814,22.6039260969977,22.0374278879978,20.5424013875384,20.4600701107955,16.3361481233404,14.1062710337963,14.9104147020768,15.4757834757835,17.5139824220979,16.0158671129292,14.6863376102311,13.4167450611477,13.6651193763833,13.7993573442151,14.5236168490992,12.9583077295496,11.0230944516648,11.7170584817478,6.71521915045231,6.46637199856648,6.6332886163281,6.46943341094827,6.11164211243312,6.12202147158942,6.2253743104807],\"yaxis\":\"y\",\"type\":\"scatter\"},{\"hovertemplate\":\"LOCATION=Germany<br>TIME=%{x}<br>Value=%{y}<extra></extra>\",\"legendgroup\":\"Germany\",\"line\":{\"color\":\"#ab63fa\",\"dash\":\"solid\"},\"marker\":{\"symbol\":\"circle\"},\"mode\":\"lines\",\"name\":\"Germany\",\"orientation\":\"v\",\"showlegend\":true,\"x\":[1981,1983,1985,1987,1989,1991,1993,1995,1996,1997,1998,1999,2000,2001,2002,2003,2004,2005,2006,2007,2008,2009,2010,2011,2012,2013,2014,2015,2016,2017,2018,2019],\"xaxis\":\"x\",\"y\":[14.7574102964119,14.7184538189928,13.8550661719317,13.1973963868225,13.7866917608644,15.9648404714949,14.7805151516468,16.1486276002908,16.3721984977562,15.8622181320056,16.0740728276233,14.8595749359027,14.606745930183,14.5950034986856,14.7021202955472,14.3967844367931,15.6216346242807,14.6651821802843,14.8258535783462,14.9769814992453,14.9821075135226,15.518409615924,15.7876925328358,15.9984528579316,15.7758236644449,16.0115442232335,15.0186262335795,13.9210066446382,13.5060872611704,13.0392715261774,13.1853857646128,13.1399575595388],\"yaxis\":\"y\",\"type\":\"scatter\"},{\"hovertemplate\":\"LOCATION=Belgium<br>TIME=%{x}<br>Value=%{y}<extra></extra>\",\"legendgroup\":\"Belgium\",\"line\":{\"color\":\"#FFA15A\",\"dash\":\"solid\"},\"marker\":{\"symbol\":\"circle\"},\"mode\":\"lines\",\"name\":\"Belgium\",\"orientation\":\"v\",\"showlegend\":true,\"x\":[1981,1982,1983,1984,1985,1986,1987,1988,1989,1991,1993,1994,1995,1996,1997,1998,1999,2000,2001,2002,2003,2004,2005,2006,2007,2008,2009,2010,2011,2012,2013,2014,2015,2016,2017,2018,2019],\"xaxis\":\"x\",\"y\":[4.95802934023692,4.80984340044743,4.92889583798675,4.88997555012225,4.64801138288502,4.41260744985673,4.30663758180119,4.13312507509312,4.78433598183882,4.33581883457609,5.63559656818148,5.32967607233039,5.18638770765701,5.73268406450652,5.92034500498927,5.79286260067679,5.84576399527268,5.92326889303032,6.02175131264236,6.45576627569575,6.55445843904607,6.83507330743744,6.85940695527037,6.94935313066859,6.95577707018506,7.23522879289068,7.37701634018949,6.49043319666442,6.51505121844647,7.87551812619252,7.88927757934104,7.99291617473436,7.59970288465155,7.90342667649226,8.30530319118702,9.19493549484529,9.05672061937507],\"yaxis\":\"y\",\"type\":\"scatter\"}],                        {\"template\":{\"data\":{\"bar\":[{\"error_x\":{\"color\":\"#2a3f5f\"},\"error_y\":{\"color\":\"#2a3f5f\"},\"marker\":{\"line\":{\"color\":\"#E5ECF6\",\"width\":0.5},\"pattern\":{\"fillmode\":\"overlay\",\"size\":10,\"solidity\":0.2}},\"type\":\"bar\"}],\"barpolar\":[{\"marker\":{\"line\":{\"color\":\"#E5ECF6\",\"width\":0.5},\"pattern\":{\"fillmode\":\"overlay\",\"size\":10,\"solidity\":0.2}},\"type\":\"barpolar\"}],\"carpet\":[{\"aaxis\":{\"endlinecolor\":\"#2a3f5f\",\"gridcolor\":\"white\",\"linecolor\":\"white\",\"minorgridcolor\":\"white\",\"startlinecolor\":\"#2a3f5f\"},\"baxis\":{\"endlinecolor\":\"#2a3f5f\",\"gridcolor\":\"white\",\"linecolor\":\"white\",\"minorgridcolor\":\"white\",\"startlinecolor\":\"#2a3f5f\"},\"type\":\"carpet\"}],\"choropleth\":[{\"colorbar\":{\"outlinewidth\":0,\"ticks\":\"\"},\"type\":\"choropleth\"}],\"contour\":[{\"colorbar\":{\"outlinewidth\":0,\"ticks\":\"\"},\"colorscale\":[[0.0,\"#0d0887\"],[0.1111111111111111,\"#46039f\"],[0.2222222222222222,\"#7201a8\"],[0.3333333333333333,\"#9c179e\"],[0.4444444444444444,\"#bd3786\"],[0.5555555555555556,\"#d8576b\"],[0.6666666666666666,\"#ed7953\"],[0.7777777777777778,\"#fb9f3a\"],[0.8888888888888888,\"#fdca26\"],[1.0,\"#f0f921\"]],\"type\":\"contour\"}],\"contourcarpet\":[{\"colorbar\":{\"outlinewidth\":0,\"ticks\":\"\"},\"type\":\"contourcarpet\"}],\"heatmap\":[{\"colorbar\":{\"outlinewidth\":0,\"ticks\":\"\"},\"colorscale\":[[0.0,\"#0d0887\"],[0.1111111111111111,\"#46039f\"],[0.2222222222222222,\"#7201a8\"],[0.3333333333333333,\"#9c179e\"],[0.4444444444444444,\"#bd3786\"],[0.5555555555555556,\"#d8576b\"],[0.6666666666666666,\"#ed7953\"],[0.7777777777777778,\"#fb9f3a\"],[0.8888888888888888,\"#fdca26\"],[1.0,\"#f0f921\"]],\"type\":\"heatmap\"}],\"heatmapgl\":[{\"colorbar\":{\"outlinewidth\":0,\"ticks\":\"\"},\"colorscale\":[[0.0,\"#0d0887\"],[0.1111111111111111,\"#46039f\"],[0.2222222222222222,\"#7201a8\"],[0.3333333333333333,\"#9c179e\"],[0.4444444444444444,\"#bd3786\"],[0.5555555555555556,\"#d8576b\"],[0.6666666666666666,\"#ed7953\"],[0.7777777777777778,\"#fb9f3a\"],[0.8888888888888888,\"#fdca26\"],[1.0,\"#f0f921\"]],\"type\":\"heatmapgl\"}],\"histogram\":[{\"marker\":{\"pattern\":{\"fillmode\":\"overlay\",\"size\":10,\"solidity\":0.2}},\"type\":\"histogram\"}],\"histogram2d\":[{\"colorbar\":{\"outlinewidth\":0,\"ticks\":\"\"},\"colorscale\":[[0.0,\"#0d0887\"],[0.1111111111111111,\"#46039f\"],[0.2222222222222222,\"#7201a8\"],[0.3333333333333333,\"#9c179e\"],[0.4444444444444444,\"#bd3786\"],[0.5555555555555556,\"#d8576b\"],[0.6666666666666666,\"#ed7953\"],[0.7777777777777778,\"#fb9f3a\"],[0.8888888888888888,\"#fdca26\"],[1.0,\"#f0f921\"]],\"type\":\"histogram2d\"}],\"histogram2dcontour\":[{\"colorbar\":{\"outlinewidth\":0,\"ticks\":\"\"},\"colorscale\":[[0.0,\"#0d0887\"],[0.1111111111111111,\"#46039f\"],[0.2222222222222222,\"#7201a8\"],[0.3333333333333333,\"#9c179e\"],[0.4444444444444444,\"#bd3786\"],[0.5555555555555556,\"#d8576b\"],[0.6666666666666666,\"#ed7953\"],[0.7777777777777778,\"#fb9f3a\"],[0.8888888888888888,\"#fdca26\"],[1.0,\"#f0f921\"]],\"type\":\"histogram2dcontour\"}],\"mesh3d\":[{\"colorbar\":{\"outlinewidth\":0,\"ticks\":\"\"},\"type\":\"mesh3d\"}],\"parcoords\":[{\"line\":{\"colorbar\":{\"outlinewidth\":0,\"ticks\":\"\"}},\"type\":\"parcoords\"}],\"pie\":[{\"automargin\":true,\"type\":\"pie\"}],\"scatter\":[{\"marker\":{\"colorbar\":{\"outlinewidth\":0,\"ticks\":\"\"}},\"type\":\"scatter\"}],\"scatter3d\":[{\"line\":{\"colorbar\":{\"outlinewidth\":0,\"ticks\":\"\"}},\"marker\":{\"colorbar\":{\"outlinewidth\":0,\"ticks\":\"\"}},\"type\":\"scatter3d\"}],\"scattercarpet\":[{\"marker\":{\"colorbar\":{\"outlinewidth\":0,\"ticks\":\"\"}},\"type\":\"scattercarpet\"}],\"scattergeo\":[{\"marker\":{\"colorbar\":{\"outlinewidth\":0,\"ticks\":\"\"}},\"type\":\"scattergeo\"}],\"scattergl\":[{\"marker\":{\"colorbar\":{\"outlinewidth\":0,\"ticks\":\"\"}},\"type\":\"scattergl\"}],\"scattermapbox\":[{\"marker\":{\"colorbar\":{\"outlinewidth\":0,\"ticks\":\"\"}},\"type\":\"scattermapbox\"}],\"scatterpolar\":[{\"marker\":{\"colorbar\":{\"outlinewidth\":0,\"ticks\":\"\"}},\"type\":\"scatterpolar\"}],\"scatterpolargl\":[{\"marker\":{\"colorbar\":{\"outlinewidth\":0,\"ticks\":\"\"}},\"type\":\"scatterpolargl\"}],\"scatterternary\":[{\"marker\":{\"colorbar\":{\"outlinewidth\":0,\"ticks\":\"\"}},\"type\":\"scatterternary\"}],\"surface\":[{\"colorbar\":{\"outlinewidth\":0,\"ticks\":\"\"},\"colorscale\":[[0.0,\"#0d0887\"],[0.1111111111111111,\"#46039f\"],[0.2222222222222222,\"#7201a8\"],[0.3333333333333333,\"#9c179e\"],[0.4444444444444444,\"#bd3786\"],[0.5555555555555556,\"#d8576b\"],[0.6666666666666666,\"#ed7953\"],[0.7777777777777778,\"#fb9f3a\"],[0.8888888888888888,\"#fdca26\"],[1.0,\"#f0f921\"]],\"type\":\"surface\"}],\"table\":[{\"cells\":{\"fill\":{\"color\":\"#EBF0F8\"},\"line\":{\"color\":\"white\"}},\"header\":{\"fill\":{\"color\":\"#C8D4E3\"},\"line\":{\"color\":\"white\"}},\"type\":\"table\"}]},\"layout\":{\"annotationdefaults\":{\"arrowcolor\":\"#2a3f5f\",\"arrowhead\":0,\"arrowwidth\":1},\"autotypenumbers\":\"strict\",\"coloraxis\":{\"colorbar\":{\"outlinewidth\":0,\"ticks\":\"\"}},\"colorscale\":{\"diverging\":[[0,\"#8e0152\"],[0.1,\"#c51b7d\"],[0.2,\"#de77ae\"],[0.3,\"#f1b6da\"],[0.4,\"#fde0ef\"],[0.5,\"#f7f7f7\"],[0.6,\"#e6f5d0\"],[0.7,\"#b8e186\"],[0.8,\"#7fbc41\"],[0.9,\"#4d9221\"],[1,\"#276419\"]],\"sequential\":[[0.0,\"#0d0887\"],[0.1111111111111111,\"#46039f\"],[0.2222222222222222,\"#7201a8\"],[0.3333333333333333,\"#9c179e\"],[0.4444444444444444,\"#bd3786\"],[0.5555555555555556,\"#d8576b\"],[0.6666666666666666,\"#ed7953\"],[0.7777777777777778,\"#fb9f3a\"],[0.8888888888888888,\"#fdca26\"],[1.0,\"#f0f921\"]],\"sequentialminus\":[[0.0,\"#0d0887\"],[0.1111111111111111,\"#46039f\"],[0.2222222222222222,\"#7201a8\"],[0.3333333333333333,\"#9c179e\"],[0.4444444444444444,\"#bd3786\"],[0.5555555555555556,\"#d8576b\"],[0.6666666666666666,\"#ed7953\"],[0.7777777777777778,\"#fb9f3a\"],[0.8888888888888888,\"#fdca26\"],[1.0,\"#f0f921\"]]},\"colorway\":[\"#636efa\",\"#EF553B\",\"#00cc96\",\"#ab63fa\",\"#FFA15A\",\"#19d3f3\",\"#FF6692\",\"#B6E880\",\"#FF97FF\",\"#FECB52\"],\"font\":{\"color\":\"#2a3f5f\"},\"geo\":{\"bgcolor\":\"white\",\"lakecolor\":\"white\",\"landcolor\":\"#E5ECF6\",\"showlakes\":true,\"showland\":true,\"subunitcolor\":\"white\"},\"hoverlabel\":{\"align\":\"left\"},\"hovermode\":\"closest\",\"mapbox\":{\"style\":\"light\"},\"paper_bgcolor\":\"white\",\"plot_bgcolor\":\"#E5ECF6\",\"polar\":{\"angularaxis\":{\"gridcolor\":\"white\",\"linecolor\":\"white\",\"ticks\":\"\"},\"bgcolor\":\"#E5ECF6\",\"radialaxis\":{\"gridcolor\":\"white\",\"linecolor\":\"white\",\"ticks\":\"\"}},\"scene\":{\"xaxis\":{\"backgroundcolor\":\"#E5ECF6\",\"gridcolor\":\"white\",\"gridwidth\":2,\"linecolor\":\"white\",\"showbackground\":true,\"ticks\":\"\",\"zerolinecolor\":\"white\"},\"yaxis\":{\"backgroundcolor\":\"#E5ECF6\",\"gridcolor\":\"white\",\"gridwidth\":2,\"linecolor\":\"white\",\"showbackground\":true,\"ticks\":\"\",\"zerolinecolor\":\"white\"},\"zaxis\":{\"backgroundcolor\":\"#E5ECF6\",\"gridcolor\":\"white\",\"gridwidth\":2,\"linecolor\":\"white\",\"showbackground\":true,\"ticks\":\"\",\"zerolinecolor\":\"white\"}},\"shapedefaults\":{\"line\":{\"color\":\"#2a3f5f\"}},\"ternary\":{\"aaxis\":{\"gridcolor\":\"white\",\"linecolor\":\"white\",\"ticks\":\"\"},\"baxis\":{\"gridcolor\":\"white\",\"linecolor\":\"white\",\"ticks\":\"\"},\"bgcolor\":\"#E5ECF6\",\"caxis\":{\"gridcolor\":\"white\",\"linecolor\":\"white\",\"ticks\":\"\"}},\"title\":{\"x\":0.05},\"xaxis\":{\"automargin\":true,\"gridcolor\":\"white\",\"linecolor\":\"white\",\"ticks\":\"\",\"title\":{\"standoff\":15},\"zerolinecolor\":\"white\",\"zerolinewidth\":2},\"yaxis\":{\"automargin\":true,\"gridcolor\":\"white\",\"linecolor\":\"white\",\"ticks\":\"\",\"title\":{\"standoff\":15},\"zerolinecolor\":\"white\",\"zerolinewidth\":2}}},\"xaxis\":{\"anchor\":\"y\",\"domain\":[0.0,1.0],\"title\":{\"text\":\"Year\"},\"rangeslider\":{\"visible\":true}},\"yaxis\":{\"anchor\":\"x\",\"domain\":[0.0,1.0],\"title\":{\"text\":\"% of national total\"}},\"legend\":{\"title\":{\"text\":\"Countries\"},\"tracegroupgap\":0},\"title\":{\"text\":\"Government researchers\"}},                        {\"responsive\": true}                    ).then(function(){\n                            \nvar gd = document.getElementById('2e781830-1c0c-44cd-b3c2-d43c93202e47');\nvar x = new MutationObserver(function (mutations, observer) {{\n        var display = window.getComputedStyle(gd).display;\n        if (!display || display === 'none') {{\n            console.log([gd, 'removed!']);\n            Plotly.purge(gd);\n            observer.disconnect();\n        }}\n}});\n\n// Listen for the removal of the full notebook cells\nvar notebookContainer = gd.closest('#notebook-container');\nif (notebookContainer) {{\n    x.observe(notebookContainer, {childList: true});\n}}\n\n// Listen for the clearing of the current output cell\nvar outputEl = gd.closest('.output');\nif (outputEl) {{\n    x.observe(outputEl, {childList: true});\n}}\n\n                        })                };                });            </script>        </div>"
     },
     "metadata": {},
     "output_type": "display_data"
    },
    {
     "data": {
      "application/vnd.plotly.v1+json": {
       "data": [
        {
         "hovertemplate": "LOCATION=Austria<br>TIME=%{x}<br>Value=%{y}<extra></extra>",
         "legendgroup": "Austria",
         "line": {
          "color": "#636efa",
          "dash": "solid"
         },
         "marker": {
          "symbol": "circle"
         },
         "mode": "lines",
         "name": "Austria",
         "orientation": "v",
         "showlegend": true,
         "x": [
          1950,
          1951,
          1952,
          1953,
          1954,
          1955,
          1956,
          1957,
          1958,
          1959,
          1960,
          1961,
          1962,
          1963,
          1964,
          1965,
          1966,
          1967,
          1968,
          1969,
          1970,
          1971,
          1972,
          1973,
          1974,
          1975,
          1976,
          1977,
          1978,
          1979,
          1980,
          1981,
          1982,
          1983,
          1984,
          1985,
          1986,
          1987,
          1988,
          1989,
          1990,
          1991,
          1992,
          1993,
          1994,
          1995,
          1996,
          1997,
          1998,
          1999,
          2000,
          2001,
          2002,
          2003,
          2004,
          2005,
          2006,
          2007,
          2008,
          2009,
          2010,
          2011,
          2012,
          2013,
          2014,
          2015,
          2016,
          2017,
          2018,
          2019,
          2020
         ],
         "xaxis": "x",
         "y": [
          22.763593891941,
          22.9154095386154,
          23.0333071007533,
          23.1256968102194,
          22.8792389393461,
          22.3429781837471,
          21.925406901456,
          21.7730761169475,
          21.763519201392,
          21.7903033090397,
          22.0432976674553,
          22.4300018952065,
          22.6634336924239,
          22.8378645981618,
          23.0821973085914,
          23.3550807886078,
          23.6192899654278,
          23.8644771219946,
          24.0949817562174,
          24.2864083117246,
          24.3637076096351,
          24.3171705498393,
          24.1604909519245,
          23.8984117693971,
          23.5904728993328,
          23.2317790582621,
          22.749075576381,
          22.1729077232663,
          21.5645891034546,
          20.9559535991152,
          20.4173611448701,
          19.9719106690572,
          19.5445159450446,
          19.088709069534,
          18.6512240932077,
          18.2921999570653,
          18.0033168670112,
          17.7752817117662,
          17.6387750175767,
          17.5642943443235,
          17.5243720572817,
          17.5728840031407,
          17.6911424719372,
          17.7863831759434,
          17.8292837883711,
          17.8131288311758,
          17.7260606084973,
          17.5760014287075,
          17.4061517736021,
          17.2337254137502,
          17.0436840937215,
          16.8170694601652,
          16.6165292501807,
          16.4328127569444,
          16.2342441790081,
          16.0212578833202,
          15.7736357316229,
          15.5075309314833,
          15.2521029458366,
          15.0168501212554,
          14.8220401003747,
          14.6528106102926,
          14.485745897582,
          14.3704134487327,
          14.3004532339443,
          14.2843650961311,
          14.3616116879482,
          14.4177654921113,
          14.4312206774902,
          14.4219458398671,
          14.3933308249723
         ],
         "yaxis": "y",
         "type": "scatter"
        },
        {
         "hovertemplate": "LOCATION=Italy<br>TIME=%{x}<br>Value=%{y}<extra></extra>",
         "legendgroup": "Italy",
         "line": {
          "color": "#EF553B",
          "dash": "solid"
         },
         "marker": {
          "symbol": "circle"
         },
         "mode": "lines",
         "name": "Italy",
         "orientation": "v",
         "showlegend": true,
         "x": [
          1950,
          1951,
          1952,
          1953,
          1954,
          1955,
          1956,
          1957,
          1958,
          1959,
          1960,
          1961,
          1962,
          1963,
          1964,
          1965,
          1966,
          1967,
          1968,
          1969,
          1970,
          1971,
          1972,
          1973,
          1974,
          1975,
          1976,
          1977,
          1978,
          1979,
          1980,
          1981,
          1982,
          1983,
          1984,
          1985,
          1986,
          1987,
          1988,
          1989,
          1990,
          1991,
          1992,
          1993,
          1994,
          1995,
          1996,
          1997,
          1998,
          1999,
          2000,
          2001,
          2002,
          2003,
          2004,
          2005,
          2006,
          2007,
          2008,
          2009,
          2010,
          2011,
          2012,
          2013,
          2014,
          2015,
          2016,
          2017,
          2018,
          2019,
          2020
         ],
         "xaxis": "x",
         "y": [
          26.3187112279486,
          25.9827311023147,
          25.9786453649,
          25.6800751367653,
          25.3605031497377,
          25.0452536362679,
          24.8503196770358,
          24.7849794413556,
          24.7295414145592,
          24.7128822576802,
          24.767889741985,
          24.6723360821622,
          24.4425723934968,
          24.2877630166446,
          24.2521813228581,
          24.2971165215085,
          24.3666602086772,
          24.4636665897108,
          24.5406094193461,
          24.5856347915405,
          24.5720219157301,
          24.4909685469923,
          24.4259497443471,
          24.4121424829189,
          24.3729739704708,
          24.2361000746036,
          24.0144946362832,
          23.7362405388276,
          23.3609417281858,
          22.8561457089461,
          22.2736127499022,
          21.6529885468526,
          21.0528297494785,
          20.509533294595,
          19.9432897478555,
          19.3734480211093,
          18.7945994283675,
          18.1957009385686,
          17.6285540574498,
          17.0748498485437,
          16.551445621476,
          15.8594704069285,
          15.2925965663234,
          15.0598477194722,
          14.8560888335321,
          14.6943736716896,
          14.5701289998946,
          14.4743844261448,
          14.3938229887129,
          14.3331465796205,
          14.2833472199519,
          14.2327630725786,
          14.2139116458637,
          14.1880563569655,
          14.1454205940917,
          14.1310599724062,
          14.1215605248937,
          14.0979120058502,
          14.0843816614845,
          14.0936155370887,
          14.0883922577494,
          14.0554832434635,
          14.0132078681279,
          13.9528959064867,
          13.8595886507168,
          13.7375744440869,
          13.5893123239007,
          13.4312937643976,
          13.2559285989516,
          13.0585008035534,
          12.8616178897437
         ],
         "yaxis": "y",
         "type": "scatter"
        },
        {
         "hovertemplate": "LOCATION=Australia<br>TIME=%{x}<br>Value=%{y}<extra></extra>",
         "legendgroup": "Australia",
         "line": {
          "color": "#00cc96",
          "dash": "solid"
         },
         "marker": {
          "symbol": "circle"
         },
         "mode": "lines",
         "name": "Australia",
         "orientation": "v",
         "showlegend": true,
         "x": [
          1950,
          1951,
          1952,
          1953,
          1954,
          1955,
          1956,
          1957,
          1958,
          1959,
          1960,
          1961,
          1962,
          1963,
          1964,
          1965,
          1966,
          1967,
          1968,
          1969,
          1970,
          1971,
          1972,
          1973,
          1974,
          1975,
          1976,
          1977,
          1978,
          1979,
          1980,
          1981,
          1982,
          1983,
          1984,
          1985,
          1986,
          1987,
          1988,
          1989,
          1990,
          1991,
          1992,
          1993,
          1994,
          1995,
          1996,
          1997,
          1998,
          1999,
          2000,
          2001,
          2002,
          2003,
          2004,
          2005,
          2006,
          2007,
          2008,
          2009,
          2010,
          2011,
          2012,
          2013,
          2014,
          2015,
          2016,
          2017,
          2018,
          2019,
          2020
         ],
         "xaxis": "x",
         "y": [
          26.6044725934439,
          27.1453507011649,
          27.6014589243328,
          28.1226957675859,
          28.5906637734379,
          29.0389904018609,
          29.3873004084664,
          29.6404638907906,
          29.9865886369178,
          30.1221112923114,
          30.2053527980535,
          30.3096629299024,
          30.0490631278912,
          29.9168416323612,
          29.8176521363833,
          29.6272782583393,
          29.4815344595085,
          29.2840254128331,
          29.0325919640326,
          28.9207857057001,
          28.8280594073133,
          28.6768271707966,
          28.5089130332817,
          28.2331761367919,
          27.8683928835201,
          27.4931647207819,
          26.9869065835355,
          26.519045556887,
          26.0672785600646,
          25.6165914918913,
          25.252834977254,
          24.9646524955003,
          24.6636267178741,
          24.3676020588468,
          23.9791465532895,
          23.5968290973728,
          23.0954998486111,
          22.6719906954518,
          22.3747538434775,
          22.1531214643435,
          22.0039017580179,
          21.9018868046792,
          21.8156566573992,
          21.7255271506217,
          21.6269013541234,
          21.5251230194122,
          21.3697437119498,
          21.2146944067908,
          21.047982371059,
          20.8909039337317,
          20.7230176655367,
          20.5462746218476,
          20.3363082521296,
          20.1294150416387,
          19.938190077602,
          19.7423888493166,
          19.5706501101219,
          19.4302594890574,
          19.2990615787447,
          19.1688480356937,
          19.0574874896456,
          18.9507987994999,
          18.9324152741344,
          18.9290106432734,
          18.9120011232047,
          18.8928365159633,
          18.9021312842879,
          18.8567368483521,
          18.7840075495479,
          18.696974995215,
          18.6033570662228
         ],
         "yaxis": "y",
         "type": "scatter"
        },
        {
         "hovertemplate": "LOCATION=United States<br>TIME=%{x}<br>Value=%{y}<extra></extra>",
         "legendgroup": "United States",
         "line": {
          "color": "#ab63fa",
          "dash": "solid"
         },
         "marker": {
          "symbol": "circle"
         },
         "mode": "lines",
         "name": "United States",
         "orientation": "v",
         "showlegend": true,
         "x": [
          1950,
          1951,
          1952,
          1953,
          1954,
          1955,
          1956,
          1957,
          1958,
          1959,
          1960,
          1961,
          1962,
          1963,
          1964,
          1965,
          1966,
          1967,
          1968,
          1969,
          1970,
          1971,
          1972,
          1973,
          1974,
          1975,
          1976,
          1977,
          1978,
          1979,
          1980,
          1981,
          1982,
          1983,
          1984,
          1985,
          1986,
          1987,
          1988,
          1989,
          1990,
          1991,
          1992,
          1993,
          1994,
          1995,
          1996,
          1997,
          1998,
          1999,
          2000,
          2001,
          2002,
          2003,
          2004,
          2005,
          2006,
          2007,
          2008,
          2009,
          2010,
          2011,
          2012,
          2013,
          2014,
          2015,
          2016,
          2017,
          2018,
          2019,
          2020
         ],
         "xaxis": "x",
         "y": [
          26.9237338219556,
          27.4416576016219,
          27.9813572267928,
          28.4932922719366,
          29.0014380173098,
          29.5020269906801,
          29.9421026967835,
          30.3304153703019,
          30.5196814417117,
          30.7818351844047,
          31.0380182541366,
          31.3317083006152,
          31.0413602798237,
          30.8944538774674,
          30.7197187979573,
          30.4937645238071,
          30.1480754474486,
          29.7206139319499,
          29.2392802385451,
          28.7448889228872,
          28.2554775547027,
          27.802295954183,
          27.1786324143801,
          26.5016286157986,
          25.8131718768336,
          25.1704846951866,
          24.480444356214,
          23.8818849077544,
          23.3415096272744,
          22.8630977568656,
          22.5723155487673,
          22.3359063567989,
          22.1571977173987,
          22.014723053348,
          21.831072360628,
          21.6598390253484,
          21.4610891676824,
          21.4039129102884,
          21.4524242886214,
          21.5630228649526,
          21.6911584050967,
          21.8376652334454,
          21.9110297758771,
          21.9671222590668,
          21.96775169397,
          21.8837602043062,
          21.7910751959385,
          21.6717646824735,
          21.5622791676864,
          21.4862858024082,
          21.3635263415721,
          21.2129272116677,
          21.0562327201985,
          20.898652916189,
          20.7140384461213,
          20.4790682502407,
          20.2817638072096,
          20.1445313732053,
          20.0291327056453,
          19.9130542521761,
          19.7856620038029,
          19.63413650931,
          19.4749309684867,
          19.3279036397484,
          19.1838751971037,
          19.0279757502763,
          18.8878455190241,
          18.7648802544747,
          18.6267477872132,
          18.4610464096159,
          18.2993418471943
         ],
         "yaxis": "y",
         "type": "scatter"
        },
        {
         "hovertemplate": "LOCATION=Belgium<br>TIME=%{x}<br>Value=%{y}<extra></extra>",
         "legendgroup": "Belgium",
         "line": {
          "color": "#FFA15A",
          "dash": "solid"
         },
         "marker": {
          "symbol": "circle"
         },
         "mode": "lines",
         "name": "Belgium",
         "orientation": "v",
         "showlegend": true,
         "x": [
          1950,
          1951,
          1952,
          1953,
          1954,
          1955,
          1956,
          1957,
          1958,
          1959,
          1960,
          1961,
          1962,
          1963,
          1964,
          1965,
          1966,
          1967,
          1968,
          1969,
          1970,
          1971,
          1972,
          1973,
          1974,
          1975,
          1976,
          1977,
          1978,
          1979,
          1980,
          1981,
          1982,
          1983,
          1984,
          1985,
          1986,
          1987,
          1988,
          1989,
          1990,
          1991,
          1992,
          1993,
          1994,
          1995,
          1996,
          1997,
          1998,
          1999,
          2000,
          2001,
          2002,
          2003,
          2004,
          2005,
          2006,
          2007,
          2008,
          2009,
          2010,
          2011,
          2012,
          2013,
          2014,
          2015,
          2016,
          2017,
          2018,
          2019,
          2020
         ],
         "xaxis": "x",
         "y": [
          20.9061101568876,
          21.0592960488275,
          21.2167934935435,
          21.362965720739,
          21.5279678580362,
          21.794854591856,
          22.196821981667,
          22.6553417769397,
          23.028615930142,
          23.2844909856551,
          23.5328273696699,
          23.7548383331439,
          23.8197648780803,
          23.8061222183111,
          23.8267417094738,
          23.8704908075812,
          23.9011953221559,
          23.8758287112471,
          23.8013106892409,
          23.6949427811412,
          23.5906913640342,
          23.4625761462488,
          23.2419037360797,
          22.9679745498768,
          22.6233624833972,
          22.2143724427847,
          21.7963159951062,
          21.3716733408895,
          20.9405953574631,
          20.5009716316853,
          20.1062089655362,
          19.8438236320951,
          19.602948488901,
          19.3523711227443,
          19.0766112126463,
          18.7522931163955,
          18.4825849660266,
          18.3047635952704,
          18.1942935859777,
          18.1216432740906,
          18.1212651913071,
          18.1545358752064,
          18.1712794165153,
          18.1477496259351,
          18.079182838469,
          17.9733000921197,
          17.8613382121117,
          17.7705361406649,
          17.7033899401471,
          17.6505187201893,
          17.6070384412745,
          17.548802219904,
          17.4587330441373,
          17.3481731628266,
          17.2356211172048,
          17.1347134836592,
          17.0356891894505,
          16.93153232902,
          16.8783291391129,
          16.8902453369602,
          16.9277952756845,
          16.9637451408163,
          16.9776453168251,
          16.9850822015539,
          16.9894429030702,
          16.9787286067486,
          16.9642540156917,
          16.9528792683742,
          16.9279464456398,
          16.8764885570374,
          16.7914522525454
         ],
         "yaxis": "y",
         "type": "scatter"
        }
       ],
       "layout": {
        "template": {
         "data": {
          "bar": [
           {
            "error_x": {
             "color": "#2a3f5f"
            },
            "error_y": {
             "color": "#2a3f5f"
            },
            "marker": {
             "line": {
              "color": "#E5ECF6",
              "width": 0.5
             },
             "pattern": {
              "fillmode": "overlay",
              "size": 10,
              "solidity": 0.2
             }
            },
            "type": "bar"
           }
          ],
          "barpolar": [
           {
            "marker": {
             "line": {
              "color": "#E5ECF6",
              "width": 0.5
             },
             "pattern": {
              "fillmode": "overlay",
              "size": 10,
              "solidity": 0.2
             }
            },
            "type": "barpolar"
           }
          ],
          "carpet": [
           {
            "aaxis": {
             "endlinecolor": "#2a3f5f",
             "gridcolor": "white",
             "linecolor": "white",
             "minorgridcolor": "white",
             "startlinecolor": "#2a3f5f"
            },
            "baxis": {
             "endlinecolor": "#2a3f5f",
             "gridcolor": "white",
             "linecolor": "white",
             "minorgridcolor": "white",
             "startlinecolor": "#2a3f5f"
            },
            "type": "carpet"
           }
          ],
          "choropleth": [
           {
            "colorbar": {
             "outlinewidth": 0,
             "ticks": ""
            },
            "type": "choropleth"
           }
          ],
          "contour": [
           {
            "colorbar": {
             "outlinewidth": 0,
             "ticks": ""
            },
            "colorscale": [
             [
              0.0,
              "#0d0887"
             ],
             [
              0.1111111111111111,
              "#46039f"
             ],
             [
              0.2222222222222222,
              "#7201a8"
             ],
             [
              0.3333333333333333,
              "#9c179e"
             ],
             [
              0.4444444444444444,
              "#bd3786"
             ],
             [
              0.5555555555555556,
              "#d8576b"
             ],
             [
              0.6666666666666666,
              "#ed7953"
             ],
             [
              0.7777777777777778,
              "#fb9f3a"
             ],
             [
              0.8888888888888888,
              "#fdca26"
             ],
             [
              1.0,
              "#f0f921"
             ]
            ],
            "type": "contour"
           }
          ],
          "contourcarpet": [
           {
            "colorbar": {
             "outlinewidth": 0,
             "ticks": ""
            },
            "type": "contourcarpet"
           }
          ],
          "heatmap": [
           {
            "colorbar": {
             "outlinewidth": 0,
             "ticks": ""
            },
            "colorscale": [
             [
              0.0,
              "#0d0887"
             ],
             [
              0.1111111111111111,
              "#46039f"
             ],
             [
              0.2222222222222222,
              "#7201a8"
             ],
             [
              0.3333333333333333,
              "#9c179e"
             ],
             [
              0.4444444444444444,
              "#bd3786"
             ],
             [
              0.5555555555555556,
              "#d8576b"
             ],
             [
              0.6666666666666666,
              "#ed7953"
             ],
             [
              0.7777777777777778,
              "#fb9f3a"
             ],
             [
              0.8888888888888888,
              "#fdca26"
             ],
             [
              1.0,
              "#f0f921"
             ]
            ],
            "type": "heatmap"
           }
          ],
          "heatmapgl": [
           {
            "colorbar": {
             "outlinewidth": 0,
             "ticks": ""
            },
            "colorscale": [
             [
              0.0,
              "#0d0887"
             ],
             [
              0.1111111111111111,
              "#46039f"
             ],
             [
              0.2222222222222222,
              "#7201a8"
             ],
             [
              0.3333333333333333,
              "#9c179e"
             ],
             [
              0.4444444444444444,
              "#bd3786"
             ],
             [
              0.5555555555555556,
              "#d8576b"
             ],
             [
              0.6666666666666666,
              "#ed7953"
             ],
             [
              0.7777777777777778,
              "#fb9f3a"
             ],
             [
              0.8888888888888888,
              "#fdca26"
             ],
             [
              1.0,
              "#f0f921"
             ]
            ],
            "type": "heatmapgl"
           }
          ],
          "histogram": [
           {
            "marker": {
             "pattern": {
              "fillmode": "overlay",
              "size": 10,
              "solidity": 0.2
             }
            },
            "type": "histogram"
           }
          ],
          "histogram2d": [
           {
            "colorbar": {
             "outlinewidth": 0,
             "ticks": ""
            },
            "colorscale": [
             [
              0.0,
              "#0d0887"
             ],
             [
              0.1111111111111111,
              "#46039f"
             ],
             [
              0.2222222222222222,
              "#7201a8"
             ],
             [
              0.3333333333333333,
              "#9c179e"
             ],
             [
              0.4444444444444444,
              "#bd3786"
             ],
             [
              0.5555555555555556,
              "#d8576b"
             ],
             [
              0.6666666666666666,
              "#ed7953"
             ],
             [
              0.7777777777777778,
              "#fb9f3a"
             ],
             [
              0.8888888888888888,
              "#fdca26"
             ],
             [
              1.0,
              "#f0f921"
             ]
            ],
            "type": "histogram2d"
           }
          ],
          "histogram2dcontour": [
           {
            "colorbar": {
             "outlinewidth": 0,
             "ticks": ""
            },
            "colorscale": [
             [
              0.0,
              "#0d0887"
             ],
             [
              0.1111111111111111,
              "#46039f"
             ],
             [
              0.2222222222222222,
              "#7201a8"
             ],
             [
              0.3333333333333333,
              "#9c179e"
             ],
             [
              0.4444444444444444,
              "#bd3786"
             ],
             [
              0.5555555555555556,
              "#d8576b"
             ],
             [
              0.6666666666666666,
              "#ed7953"
             ],
             [
              0.7777777777777778,
              "#fb9f3a"
             ],
             [
              0.8888888888888888,
              "#fdca26"
             ],
             [
              1.0,
              "#f0f921"
             ]
            ],
            "type": "histogram2dcontour"
           }
          ],
          "mesh3d": [
           {
            "colorbar": {
             "outlinewidth": 0,
             "ticks": ""
            },
            "type": "mesh3d"
           }
          ],
          "parcoords": [
           {
            "line": {
             "colorbar": {
              "outlinewidth": 0,
              "ticks": ""
             }
            },
            "type": "parcoords"
           }
          ],
          "pie": [
           {
            "automargin": true,
            "type": "pie"
           }
          ],
          "scatter": [
           {
            "marker": {
             "colorbar": {
              "outlinewidth": 0,
              "ticks": ""
             }
            },
            "type": "scatter"
           }
          ],
          "scatter3d": [
           {
            "line": {
             "colorbar": {
              "outlinewidth": 0,
              "ticks": ""
             }
            },
            "marker": {
             "colorbar": {
              "outlinewidth": 0,
              "ticks": ""
             }
            },
            "type": "scatter3d"
           }
          ],
          "scattercarpet": [
           {
            "marker": {
             "colorbar": {
              "outlinewidth": 0,
              "ticks": ""
             }
            },
            "type": "scattercarpet"
           }
          ],
          "scattergeo": [
           {
            "marker": {
             "colorbar": {
              "outlinewidth": 0,
              "ticks": ""
             }
            },
            "type": "scattergeo"
           }
          ],
          "scattergl": [
           {
            "marker": {
             "colorbar": {
              "outlinewidth": 0,
              "ticks": ""
             }
            },
            "type": "scattergl"
           }
          ],
          "scattermapbox": [
           {
            "marker": {
             "colorbar": {
              "outlinewidth": 0,
              "ticks": ""
             }
            },
            "type": "scattermapbox"
           }
          ],
          "scatterpolar": [
           {
            "marker": {
             "colorbar": {
              "outlinewidth": 0,
              "ticks": ""
             }
            },
            "type": "scatterpolar"
           }
          ],
          "scatterpolargl": [
           {
            "marker": {
             "colorbar": {
              "outlinewidth": 0,
              "ticks": ""
             }
            },
            "type": "scatterpolargl"
           }
          ],
          "scatterternary": [
           {
            "marker": {
             "colorbar": {
              "outlinewidth": 0,
              "ticks": ""
             }
            },
            "type": "scatterternary"
           }
          ],
          "surface": [
           {
            "colorbar": {
             "outlinewidth": 0,
             "ticks": ""
            },
            "colorscale": [
             [
              0.0,
              "#0d0887"
             ],
             [
              0.1111111111111111,
              "#46039f"
             ],
             [
              0.2222222222222222,
              "#7201a8"
             ],
             [
              0.3333333333333333,
              "#9c179e"
             ],
             [
              0.4444444444444444,
              "#bd3786"
             ],
             [
              0.5555555555555556,
              "#d8576b"
             ],
             [
              0.6666666666666666,
              "#ed7953"
             ],
             [
              0.7777777777777778,
              "#fb9f3a"
             ],
             [
              0.8888888888888888,
              "#fdca26"
             ],
             [
              1.0,
              "#f0f921"
             ]
            ],
            "type": "surface"
           }
          ],
          "table": [
           {
            "cells": {
             "fill": {
              "color": "#EBF0F8"
             },
             "line": {
              "color": "white"
             }
            },
            "header": {
             "fill": {
              "color": "#C8D4E3"
             },
             "line": {
              "color": "white"
             }
            },
            "type": "table"
           }
          ]
         },
         "layout": {
          "annotationdefaults": {
           "arrowcolor": "#2a3f5f",
           "arrowhead": 0,
           "arrowwidth": 1
          },
          "autotypenumbers": "strict",
          "coloraxis": {
           "colorbar": {
            "outlinewidth": 0,
            "ticks": ""
           }
          },
          "colorscale": {
           "diverging": [
            [
             0,
             "#8e0152"
            ],
            [
             0.1,
             "#c51b7d"
            ],
            [
             0.2,
             "#de77ae"
            ],
            [
             0.3,
             "#f1b6da"
            ],
            [
             0.4,
             "#fde0ef"
            ],
            [
             0.5,
             "#f7f7f7"
            ],
            [
             0.6,
             "#e6f5d0"
            ],
            [
             0.7,
             "#b8e186"
            ],
            [
             0.8,
             "#7fbc41"
            ],
            [
             0.9,
             "#4d9221"
            ],
            [
             1,
             "#276419"
            ]
           ],
           "sequential": [
            [
             0.0,
             "#0d0887"
            ],
            [
             0.1111111111111111,
             "#46039f"
            ],
            [
             0.2222222222222222,
             "#7201a8"
            ],
            [
             0.3333333333333333,
             "#9c179e"
            ],
            [
             0.4444444444444444,
             "#bd3786"
            ],
            [
             0.5555555555555556,
             "#d8576b"
            ],
            [
             0.6666666666666666,
             "#ed7953"
            ],
            [
             0.7777777777777778,
             "#fb9f3a"
            ],
            [
             0.8888888888888888,
             "#fdca26"
            ],
            [
             1.0,
             "#f0f921"
            ]
           ],
           "sequentialminus": [
            [
             0.0,
             "#0d0887"
            ],
            [
             0.1111111111111111,
             "#46039f"
            ],
            [
             0.2222222222222222,
             "#7201a8"
            ],
            [
             0.3333333333333333,
             "#9c179e"
            ],
            [
             0.4444444444444444,
             "#bd3786"
            ],
            [
             0.5555555555555556,
             "#d8576b"
            ],
            [
             0.6666666666666666,
             "#ed7953"
            ],
            [
             0.7777777777777778,
             "#fb9f3a"
            ],
            [
             0.8888888888888888,
             "#fdca26"
            ],
            [
             1.0,
             "#f0f921"
            ]
           ]
          },
          "colorway": [
           "#636efa",
           "#EF553B",
           "#00cc96",
           "#ab63fa",
           "#FFA15A",
           "#19d3f3",
           "#FF6692",
           "#B6E880",
           "#FF97FF",
           "#FECB52"
          ],
          "font": {
           "color": "#2a3f5f"
          },
          "geo": {
           "bgcolor": "white",
           "lakecolor": "white",
           "landcolor": "#E5ECF6",
           "showlakes": true,
           "showland": true,
           "subunitcolor": "white"
          },
          "hoverlabel": {
           "align": "left"
          },
          "hovermode": "closest",
          "mapbox": {
           "style": "light"
          },
          "paper_bgcolor": "white",
          "plot_bgcolor": "#E5ECF6",
          "polar": {
           "angularaxis": {
            "gridcolor": "white",
            "linecolor": "white",
            "ticks": ""
           },
           "bgcolor": "#E5ECF6",
           "radialaxis": {
            "gridcolor": "white",
            "linecolor": "white",
            "ticks": ""
           }
          },
          "scene": {
           "xaxis": {
            "backgroundcolor": "#E5ECF6",
            "gridcolor": "white",
            "gridwidth": 2,
            "linecolor": "white",
            "showbackground": true,
            "ticks": "",
            "zerolinecolor": "white"
           },
           "yaxis": {
            "backgroundcolor": "#E5ECF6",
            "gridcolor": "white",
            "gridwidth": 2,
            "linecolor": "white",
            "showbackground": true,
            "ticks": "",
            "zerolinecolor": "white"
           },
           "zaxis": {
            "backgroundcolor": "#E5ECF6",
            "gridcolor": "white",
            "gridwidth": 2,
            "linecolor": "white",
            "showbackground": true,
            "ticks": "",
            "zerolinecolor": "white"
           }
          },
          "shapedefaults": {
           "line": {
            "color": "#2a3f5f"
           }
          },
          "ternary": {
           "aaxis": {
            "gridcolor": "white",
            "linecolor": "white",
            "ticks": ""
           },
           "baxis": {
            "gridcolor": "white",
            "linecolor": "white",
            "ticks": ""
           },
           "bgcolor": "#E5ECF6",
           "caxis": {
            "gridcolor": "white",
            "linecolor": "white",
            "ticks": ""
           }
          },
          "title": {
           "x": 0.05
          },
          "xaxis": {
           "automargin": true,
           "gridcolor": "white",
           "linecolor": "white",
           "ticks": "",
           "title": {
            "standoff": 15
           },
           "zerolinecolor": "white",
           "zerolinewidth": 2
          },
          "yaxis": {
           "automargin": true,
           "gridcolor": "white",
           "linecolor": "white",
           "ticks": "",
           "title": {
            "standoff": 15
           },
           "zerolinecolor": "white",
           "zerolinewidth": 2
          }
         }
        },
        "xaxis": {
         "anchor": "y",
         "domain": [
          0.0,
          1.0
         ],
         "title": {
          "text": "Year"
         },
         "rangeslider": {
          "visible": true
         }
        },
        "yaxis": {
         "anchor": "x",
         "domain": [
          0.0,
          1.0
         ],
         "title": {
          "text": "% of population"
         }
        },
        "legend": {
         "title": {
          "text": "Countries"
         },
         "tracegroupgap": 0
        },
        "title": {
         "text": "Young population"
        }
       },
       "config": {
        "plotlyServerURL": "https://plot.ly"
       }
      },
      "text/html": "<div>                            <div id=\"a69ee312-f199-4b22-8e7d-e208b931c4a0\" class=\"plotly-graph-div\" style=\"height:525px; width:100%;\"></div>            <script type=\"text/javascript\">                require([\"plotly\"], function(Plotly) {                    window.PLOTLYENV=window.PLOTLYENV || {};                                    if (document.getElementById(\"a69ee312-f199-4b22-8e7d-e208b931c4a0\")) {                    Plotly.newPlot(                        \"a69ee312-f199-4b22-8e7d-e208b931c4a0\",                        [{\"hovertemplate\":\"LOCATION=Austria<br>TIME=%{x}<br>Value=%{y}<extra></extra>\",\"legendgroup\":\"Austria\",\"line\":{\"color\":\"#636efa\",\"dash\":\"solid\"},\"marker\":{\"symbol\":\"circle\"},\"mode\":\"lines\",\"name\":\"Austria\",\"orientation\":\"v\",\"showlegend\":true,\"x\":[1950,1951,1952,1953,1954,1955,1956,1957,1958,1959,1960,1961,1962,1963,1964,1965,1966,1967,1968,1969,1970,1971,1972,1973,1974,1975,1976,1977,1978,1979,1980,1981,1982,1983,1984,1985,1986,1987,1988,1989,1990,1991,1992,1993,1994,1995,1996,1997,1998,1999,2000,2001,2002,2003,2004,2005,2006,2007,2008,2009,2010,2011,2012,2013,2014,2015,2016,2017,2018,2019,2020],\"xaxis\":\"x\",\"y\":[22.763593891941,22.9154095386154,23.0333071007533,23.1256968102194,22.8792389393461,22.3429781837471,21.925406901456,21.7730761169475,21.763519201392,21.7903033090397,22.0432976674553,22.4300018952065,22.6634336924239,22.8378645981618,23.0821973085914,23.3550807886078,23.6192899654278,23.8644771219946,24.0949817562174,24.2864083117246,24.3637076096351,24.3171705498393,24.1604909519245,23.8984117693971,23.5904728993328,23.2317790582621,22.749075576381,22.1729077232663,21.5645891034546,20.9559535991152,20.4173611448701,19.9719106690572,19.5445159450446,19.088709069534,18.6512240932077,18.2921999570653,18.0033168670112,17.7752817117662,17.6387750175767,17.5642943443235,17.5243720572817,17.5728840031407,17.6911424719372,17.7863831759434,17.8292837883711,17.8131288311758,17.7260606084973,17.5760014287075,17.4061517736021,17.2337254137502,17.0436840937215,16.8170694601652,16.6165292501807,16.4328127569444,16.2342441790081,16.0212578833202,15.7736357316229,15.5075309314833,15.2521029458366,15.0168501212554,14.8220401003747,14.6528106102926,14.485745897582,14.3704134487327,14.3004532339443,14.2843650961311,14.3616116879482,14.4177654921113,14.4312206774902,14.4219458398671,14.3933308249723],\"yaxis\":\"y\",\"type\":\"scatter\"},{\"hovertemplate\":\"LOCATION=Italy<br>TIME=%{x}<br>Value=%{y}<extra></extra>\",\"legendgroup\":\"Italy\",\"line\":{\"color\":\"#EF553B\",\"dash\":\"solid\"},\"marker\":{\"symbol\":\"circle\"},\"mode\":\"lines\",\"name\":\"Italy\",\"orientation\":\"v\",\"showlegend\":true,\"x\":[1950,1951,1952,1953,1954,1955,1956,1957,1958,1959,1960,1961,1962,1963,1964,1965,1966,1967,1968,1969,1970,1971,1972,1973,1974,1975,1976,1977,1978,1979,1980,1981,1982,1983,1984,1985,1986,1987,1988,1989,1990,1991,1992,1993,1994,1995,1996,1997,1998,1999,2000,2001,2002,2003,2004,2005,2006,2007,2008,2009,2010,2011,2012,2013,2014,2015,2016,2017,2018,2019,2020],\"xaxis\":\"x\",\"y\":[26.3187112279486,25.9827311023147,25.9786453649,25.6800751367653,25.3605031497377,25.0452536362679,24.8503196770358,24.7849794413556,24.7295414145592,24.7128822576802,24.767889741985,24.6723360821622,24.4425723934968,24.2877630166446,24.2521813228581,24.2971165215085,24.3666602086772,24.4636665897108,24.5406094193461,24.5856347915405,24.5720219157301,24.4909685469923,24.4259497443471,24.4121424829189,24.3729739704708,24.2361000746036,24.0144946362832,23.7362405388276,23.3609417281858,22.8561457089461,22.2736127499022,21.6529885468526,21.0528297494785,20.509533294595,19.9432897478555,19.3734480211093,18.7945994283675,18.1957009385686,17.6285540574498,17.0748498485437,16.551445621476,15.8594704069285,15.2925965663234,15.0598477194722,14.8560888335321,14.6943736716896,14.5701289998946,14.4743844261448,14.3938229887129,14.3331465796205,14.2833472199519,14.2327630725786,14.2139116458637,14.1880563569655,14.1454205940917,14.1310599724062,14.1215605248937,14.0979120058502,14.0843816614845,14.0936155370887,14.0883922577494,14.0554832434635,14.0132078681279,13.9528959064867,13.8595886507168,13.7375744440869,13.5893123239007,13.4312937643976,13.2559285989516,13.0585008035534,12.8616178897437],\"yaxis\":\"y\",\"type\":\"scatter\"},{\"hovertemplate\":\"LOCATION=Australia<br>TIME=%{x}<br>Value=%{y}<extra></extra>\",\"legendgroup\":\"Australia\",\"line\":{\"color\":\"#00cc96\",\"dash\":\"solid\"},\"marker\":{\"symbol\":\"circle\"},\"mode\":\"lines\",\"name\":\"Australia\",\"orientation\":\"v\",\"showlegend\":true,\"x\":[1950,1951,1952,1953,1954,1955,1956,1957,1958,1959,1960,1961,1962,1963,1964,1965,1966,1967,1968,1969,1970,1971,1972,1973,1974,1975,1976,1977,1978,1979,1980,1981,1982,1983,1984,1985,1986,1987,1988,1989,1990,1991,1992,1993,1994,1995,1996,1997,1998,1999,2000,2001,2002,2003,2004,2005,2006,2007,2008,2009,2010,2011,2012,2013,2014,2015,2016,2017,2018,2019,2020],\"xaxis\":\"x\",\"y\":[26.6044725934439,27.1453507011649,27.6014589243328,28.1226957675859,28.5906637734379,29.0389904018609,29.3873004084664,29.6404638907906,29.9865886369178,30.1221112923114,30.2053527980535,30.3096629299024,30.0490631278912,29.9168416323612,29.8176521363833,29.6272782583393,29.4815344595085,29.2840254128331,29.0325919640326,28.9207857057001,28.8280594073133,28.6768271707966,28.5089130332817,28.2331761367919,27.8683928835201,27.4931647207819,26.9869065835355,26.519045556887,26.0672785600646,25.6165914918913,25.252834977254,24.9646524955003,24.6636267178741,24.3676020588468,23.9791465532895,23.5968290973728,23.0954998486111,22.6719906954518,22.3747538434775,22.1531214643435,22.0039017580179,21.9018868046792,21.8156566573992,21.7255271506217,21.6269013541234,21.5251230194122,21.3697437119498,21.2146944067908,21.047982371059,20.8909039337317,20.7230176655367,20.5462746218476,20.3363082521296,20.1294150416387,19.938190077602,19.7423888493166,19.5706501101219,19.4302594890574,19.2990615787447,19.1688480356937,19.0574874896456,18.9507987994999,18.9324152741344,18.9290106432734,18.9120011232047,18.8928365159633,18.9021312842879,18.8567368483521,18.7840075495479,18.696974995215,18.6033570662228],\"yaxis\":\"y\",\"type\":\"scatter\"},{\"hovertemplate\":\"LOCATION=United States<br>TIME=%{x}<br>Value=%{y}<extra></extra>\",\"legendgroup\":\"United States\",\"line\":{\"color\":\"#ab63fa\",\"dash\":\"solid\"},\"marker\":{\"symbol\":\"circle\"},\"mode\":\"lines\",\"name\":\"United States\",\"orientation\":\"v\",\"showlegend\":true,\"x\":[1950,1951,1952,1953,1954,1955,1956,1957,1958,1959,1960,1961,1962,1963,1964,1965,1966,1967,1968,1969,1970,1971,1972,1973,1974,1975,1976,1977,1978,1979,1980,1981,1982,1983,1984,1985,1986,1987,1988,1989,1990,1991,1992,1993,1994,1995,1996,1997,1998,1999,2000,2001,2002,2003,2004,2005,2006,2007,2008,2009,2010,2011,2012,2013,2014,2015,2016,2017,2018,2019,2020],\"xaxis\":\"x\",\"y\":[26.9237338219556,27.4416576016219,27.9813572267928,28.4932922719366,29.0014380173098,29.5020269906801,29.9421026967835,30.3304153703019,30.5196814417117,30.7818351844047,31.0380182541366,31.3317083006152,31.0413602798237,30.8944538774674,30.7197187979573,30.4937645238071,30.1480754474486,29.7206139319499,29.2392802385451,28.7448889228872,28.2554775547027,27.802295954183,27.1786324143801,26.5016286157986,25.8131718768336,25.1704846951866,24.480444356214,23.8818849077544,23.3415096272744,22.8630977568656,22.5723155487673,22.3359063567989,22.1571977173987,22.014723053348,21.831072360628,21.6598390253484,21.4610891676824,21.4039129102884,21.4524242886214,21.5630228649526,21.6911584050967,21.8376652334454,21.9110297758771,21.9671222590668,21.96775169397,21.8837602043062,21.7910751959385,21.6717646824735,21.5622791676864,21.4862858024082,21.3635263415721,21.2129272116677,21.0562327201985,20.898652916189,20.7140384461213,20.4790682502407,20.2817638072096,20.1445313732053,20.0291327056453,19.9130542521761,19.7856620038029,19.63413650931,19.4749309684867,19.3279036397484,19.1838751971037,19.0279757502763,18.8878455190241,18.7648802544747,18.6267477872132,18.4610464096159,18.2993418471943],\"yaxis\":\"y\",\"type\":\"scatter\"},{\"hovertemplate\":\"LOCATION=Belgium<br>TIME=%{x}<br>Value=%{y}<extra></extra>\",\"legendgroup\":\"Belgium\",\"line\":{\"color\":\"#FFA15A\",\"dash\":\"solid\"},\"marker\":{\"symbol\":\"circle\"},\"mode\":\"lines\",\"name\":\"Belgium\",\"orientation\":\"v\",\"showlegend\":true,\"x\":[1950,1951,1952,1953,1954,1955,1956,1957,1958,1959,1960,1961,1962,1963,1964,1965,1966,1967,1968,1969,1970,1971,1972,1973,1974,1975,1976,1977,1978,1979,1980,1981,1982,1983,1984,1985,1986,1987,1988,1989,1990,1991,1992,1993,1994,1995,1996,1997,1998,1999,2000,2001,2002,2003,2004,2005,2006,2007,2008,2009,2010,2011,2012,2013,2014,2015,2016,2017,2018,2019,2020],\"xaxis\":\"x\",\"y\":[20.9061101568876,21.0592960488275,21.2167934935435,21.362965720739,21.5279678580362,21.794854591856,22.196821981667,22.6553417769397,23.028615930142,23.2844909856551,23.5328273696699,23.7548383331439,23.8197648780803,23.8061222183111,23.8267417094738,23.8704908075812,23.9011953221559,23.8758287112471,23.8013106892409,23.6949427811412,23.5906913640342,23.4625761462488,23.2419037360797,22.9679745498768,22.6233624833972,22.2143724427847,21.7963159951062,21.3716733408895,20.9405953574631,20.5009716316853,20.1062089655362,19.8438236320951,19.602948488901,19.3523711227443,19.0766112126463,18.7522931163955,18.4825849660266,18.3047635952704,18.1942935859777,18.1216432740906,18.1212651913071,18.1545358752064,18.1712794165153,18.1477496259351,18.079182838469,17.9733000921197,17.8613382121117,17.7705361406649,17.7033899401471,17.6505187201893,17.6070384412745,17.548802219904,17.4587330441373,17.3481731628266,17.2356211172048,17.1347134836592,17.0356891894505,16.93153232902,16.8783291391129,16.8902453369602,16.9277952756845,16.9637451408163,16.9776453168251,16.9850822015539,16.9894429030702,16.9787286067486,16.9642540156917,16.9528792683742,16.9279464456398,16.8764885570374,16.7914522525454],\"yaxis\":\"y\",\"type\":\"scatter\"}],                        {\"template\":{\"data\":{\"bar\":[{\"error_x\":{\"color\":\"#2a3f5f\"},\"error_y\":{\"color\":\"#2a3f5f\"},\"marker\":{\"line\":{\"color\":\"#E5ECF6\",\"width\":0.5},\"pattern\":{\"fillmode\":\"overlay\",\"size\":10,\"solidity\":0.2}},\"type\":\"bar\"}],\"barpolar\":[{\"marker\":{\"line\":{\"color\":\"#E5ECF6\",\"width\":0.5},\"pattern\":{\"fillmode\":\"overlay\",\"size\":10,\"solidity\":0.2}},\"type\":\"barpolar\"}],\"carpet\":[{\"aaxis\":{\"endlinecolor\":\"#2a3f5f\",\"gridcolor\":\"white\",\"linecolor\":\"white\",\"minorgridcolor\":\"white\",\"startlinecolor\":\"#2a3f5f\"},\"baxis\":{\"endlinecolor\":\"#2a3f5f\",\"gridcolor\":\"white\",\"linecolor\":\"white\",\"minorgridcolor\":\"white\",\"startlinecolor\":\"#2a3f5f\"},\"type\":\"carpet\"}],\"choropleth\":[{\"colorbar\":{\"outlinewidth\":0,\"ticks\":\"\"},\"type\":\"choropleth\"}],\"contour\":[{\"colorbar\":{\"outlinewidth\":0,\"ticks\":\"\"},\"colorscale\":[[0.0,\"#0d0887\"],[0.1111111111111111,\"#46039f\"],[0.2222222222222222,\"#7201a8\"],[0.3333333333333333,\"#9c179e\"],[0.4444444444444444,\"#bd3786\"],[0.5555555555555556,\"#d8576b\"],[0.6666666666666666,\"#ed7953\"],[0.7777777777777778,\"#fb9f3a\"],[0.8888888888888888,\"#fdca26\"],[1.0,\"#f0f921\"]],\"type\":\"contour\"}],\"contourcarpet\":[{\"colorbar\":{\"outlinewidth\":0,\"ticks\":\"\"},\"type\":\"contourcarpet\"}],\"heatmap\":[{\"colorbar\":{\"outlinewidth\":0,\"ticks\":\"\"},\"colorscale\":[[0.0,\"#0d0887\"],[0.1111111111111111,\"#46039f\"],[0.2222222222222222,\"#7201a8\"],[0.3333333333333333,\"#9c179e\"],[0.4444444444444444,\"#bd3786\"],[0.5555555555555556,\"#d8576b\"],[0.6666666666666666,\"#ed7953\"],[0.7777777777777778,\"#fb9f3a\"],[0.8888888888888888,\"#fdca26\"],[1.0,\"#f0f921\"]],\"type\":\"heatmap\"}],\"heatmapgl\":[{\"colorbar\":{\"outlinewidth\":0,\"ticks\":\"\"},\"colorscale\":[[0.0,\"#0d0887\"],[0.1111111111111111,\"#46039f\"],[0.2222222222222222,\"#7201a8\"],[0.3333333333333333,\"#9c179e\"],[0.4444444444444444,\"#bd3786\"],[0.5555555555555556,\"#d8576b\"],[0.6666666666666666,\"#ed7953\"],[0.7777777777777778,\"#fb9f3a\"],[0.8888888888888888,\"#fdca26\"],[1.0,\"#f0f921\"]],\"type\":\"heatmapgl\"}],\"histogram\":[{\"marker\":{\"pattern\":{\"fillmode\":\"overlay\",\"size\":10,\"solidity\":0.2}},\"type\":\"histogram\"}],\"histogram2d\":[{\"colorbar\":{\"outlinewidth\":0,\"ticks\":\"\"},\"colorscale\":[[0.0,\"#0d0887\"],[0.1111111111111111,\"#46039f\"],[0.2222222222222222,\"#7201a8\"],[0.3333333333333333,\"#9c179e\"],[0.4444444444444444,\"#bd3786\"],[0.5555555555555556,\"#d8576b\"],[0.6666666666666666,\"#ed7953\"],[0.7777777777777778,\"#fb9f3a\"],[0.8888888888888888,\"#fdca26\"],[1.0,\"#f0f921\"]],\"type\":\"histogram2d\"}],\"histogram2dcontour\":[{\"colorbar\":{\"outlinewidth\":0,\"ticks\":\"\"},\"colorscale\":[[0.0,\"#0d0887\"],[0.1111111111111111,\"#46039f\"],[0.2222222222222222,\"#7201a8\"],[0.3333333333333333,\"#9c179e\"],[0.4444444444444444,\"#bd3786\"],[0.5555555555555556,\"#d8576b\"],[0.6666666666666666,\"#ed7953\"],[0.7777777777777778,\"#fb9f3a\"],[0.8888888888888888,\"#fdca26\"],[1.0,\"#f0f921\"]],\"type\":\"histogram2dcontour\"}],\"mesh3d\":[{\"colorbar\":{\"outlinewidth\":0,\"ticks\":\"\"},\"type\":\"mesh3d\"}],\"parcoords\":[{\"line\":{\"colorbar\":{\"outlinewidth\":0,\"ticks\":\"\"}},\"type\":\"parcoords\"}],\"pie\":[{\"automargin\":true,\"type\":\"pie\"}],\"scatter\":[{\"marker\":{\"colorbar\":{\"outlinewidth\":0,\"ticks\":\"\"}},\"type\":\"scatter\"}],\"scatter3d\":[{\"line\":{\"colorbar\":{\"outlinewidth\":0,\"ticks\":\"\"}},\"marker\":{\"colorbar\":{\"outlinewidth\":0,\"ticks\":\"\"}},\"type\":\"scatter3d\"}],\"scattercarpet\":[{\"marker\":{\"colorbar\":{\"outlinewidth\":0,\"ticks\":\"\"}},\"type\":\"scattercarpet\"}],\"scattergeo\":[{\"marker\":{\"colorbar\":{\"outlinewidth\":0,\"ticks\":\"\"}},\"type\":\"scattergeo\"}],\"scattergl\":[{\"marker\":{\"colorbar\":{\"outlinewidth\":0,\"ticks\":\"\"}},\"type\":\"scattergl\"}],\"scattermapbox\":[{\"marker\":{\"colorbar\":{\"outlinewidth\":0,\"ticks\":\"\"}},\"type\":\"scattermapbox\"}],\"scatterpolar\":[{\"marker\":{\"colorbar\":{\"outlinewidth\":0,\"ticks\":\"\"}},\"type\":\"scatterpolar\"}],\"scatterpolargl\":[{\"marker\":{\"colorbar\":{\"outlinewidth\":0,\"ticks\":\"\"}},\"type\":\"scatterpolargl\"}],\"scatterternary\":[{\"marker\":{\"colorbar\":{\"outlinewidth\":0,\"ticks\":\"\"}},\"type\":\"scatterternary\"}],\"surface\":[{\"colorbar\":{\"outlinewidth\":0,\"ticks\":\"\"},\"colorscale\":[[0.0,\"#0d0887\"],[0.1111111111111111,\"#46039f\"],[0.2222222222222222,\"#7201a8\"],[0.3333333333333333,\"#9c179e\"],[0.4444444444444444,\"#bd3786\"],[0.5555555555555556,\"#d8576b\"],[0.6666666666666666,\"#ed7953\"],[0.7777777777777778,\"#fb9f3a\"],[0.8888888888888888,\"#fdca26\"],[1.0,\"#f0f921\"]],\"type\":\"surface\"}],\"table\":[{\"cells\":{\"fill\":{\"color\":\"#EBF0F8\"},\"line\":{\"color\":\"white\"}},\"header\":{\"fill\":{\"color\":\"#C8D4E3\"},\"line\":{\"color\":\"white\"}},\"type\":\"table\"}]},\"layout\":{\"annotationdefaults\":{\"arrowcolor\":\"#2a3f5f\",\"arrowhead\":0,\"arrowwidth\":1},\"autotypenumbers\":\"strict\",\"coloraxis\":{\"colorbar\":{\"outlinewidth\":0,\"ticks\":\"\"}},\"colorscale\":{\"diverging\":[[0,\"#8e0152\"],[0.1,\"#c51b7d\"],[0.2,\"#de77ae\"],[0.3,\"#f1b6da\"],[0.4,\"#fde0ef\"],[0.5,\"#f7f7f7\"],[0.6,\"#e6f5d0\"],[0.7,\"#b8e186\"],[0.8,\"#7fbc41\"],[0.9,\"#4d9221\"],[1,\"#276419\"]],\"sequential\":[[0.0,\"#0d0887\"],[0.1111111111111111,\"#46039f\"],[0.2222222222222222,\"#7201a8\"],[0.3333333333333333,\"#9c179e\"],[0.4444444444444444,\"#bd3786\"],[0.5555555555555556,\"#d8576b\"],[0.6666666666666666,\"#ed7953\"],[0.7777777777777778,\"#fb9f3a\"],[0.8888888888888888,\"#fdca26\"],[1.0,\"#f0f921\"]],\"sequentialminus\":[[0.0,\"#0d0887\"],[0.1111111111111111,\"#46039f\"],[0.2222222222222222,\"#7201a8\"],[0.3333333333333333,\"#9c179e\"],[0.4444444444444444,\"#bd3786\"],[0.5555555555555556,\"#d8576b\"],[0.6666666666666666,\"#ed7953\"],[0.7777777777777778,\"#fb9f3a\"],[0.8888888888888888,\"#fdca26\"],[1.0,\"#f0f921\"]]},\"colorway\":[\"#636efa\",\"#EF553B\",\"#00cc96\",\"#ab63fa\",\"#FFA15A\",\"#19d3f3\",\"#FF6692\",\"#B6E880\",\"#FF97FF\",\"#FECB52\"],\"font\":{\"color\":\"#2a3f5f\"},\"geo\":{\"bgcolor\":\"white\",\"lakecolor\":\"white\",\"landcolor\":\"#E5ECF6\",\"showlakes\":true,\"showland\":true,\"subunitcolor\":\"white\"},\"hoverlabel\":{\"align\":\"left\"},\"hovermode\":\"closest\",\"mapbox\":{\"style\":\"light\"},\"paper_bgcolor\":\"white\",\"plot_bgcolor\":\"#E5ECF6\",\"polar\":{\"angularaxis\":{\"gridcolor\":\"white\",\"linecolor\":\"white\",\"ticks\":\"\"},\"bgcolor\":\"#E5ECF6\",\"radialaxis\":{\"gridcolor\":\"white\",\"linecolor\":\"white\",\"ticks\":\"\"}},\"scene\":{\"xaxis\":{\"backgroundcolor\":\"#E5ECF6\",\"gridcolor\":\"white\",\"gridwidth\":2,\"linecolor\":\"white\",\"showbackground\":true,\"ticks\":\"\",\"zerolinecolor\":\"white\"},\"yaxis\":{\"backgroundcolor\":\"#E5ECF6\",\"gridcolor\":\"white\",\"gridwidth\":2,\"linecolor\":\"white\",\"showbackground\":true,\"ticks\":\"\",\"zerolinecolor\":\"white\"},\"zaxis\":{\"backgroundcolor\":\"#E5ECF6\",\"gridcolor\":\"white\",\"gridwidth\":2,\"linecolor\":\"white\",\"showbackground\":true,\"ticks\":\"\",\"zerolinecolor\":\"white\"}},\"shapedefaults\":{\"line\":{\"color\":\"#2a3f5f\"}},\"ternary\":{\"aaxis\":{\"gridcolor\":\"white\",\"linecolor\":\"white\",\"ticks\":\"\"},\"baxis\":{\"gridcolor\":\"white\",\"linecolor\":\"white\",\"ticks\":\"\"},\"bgcolor\":\"#E5ECF6\",\"caxis\":{\"gridcolor\":\"white\",\"linecolor\":\"white\",\"ticks\":\"\"}},\"title\":{\"x\":0.05},\"xaxis\":{\"automargin\":true,\"gridcolor\":\"white\",\"linecolor\":\"white\",\"ticks\":\"\",\"title\":{\"standoff\":15},\"zerolinecolor\":\"white\",\"zerolinewidth\":2},\"yaxis\":{\"automargin\":true,\"gridcolor\":\"white\",\"linecolor\":\"white\",\"ticks\":\"\",\"title\":{\"standoff\":15},\"zerolinecolor\":\"white\",\"zerolinewidth\":2}}},\"xaxis\":{\"anchor\":\"y\",\"domain\":[0.0,1.0],\"title\":{\"text\":\"Year\"},\"rangeslider\":{\"visible\":true}},\"yaxis\":{\"anchor\":\"x\",\"domain\":[0.0,1.0],\"title\":{\"text\":\"% of population\"}},\"legend\":{\"title\":{\"text\":\"Countries\"},\"tracegroupgap\":0},\"title\":{\"text\":\"Young population\"}},                        {\"responsive\": true}                    ).then(function(){\n                            \nvar gd = document.getElementById('a69ee312-f199-4b22-8e7d-e208b931c4a0');\nvar x = new MutationObserver(function (mutations, observer) {{\n        var display = window.getComputedStyle(gd).display;\n        if (!display || display === 'none') {{\n            console.log([gd, 'removed!']);\n            Plotly.purge(gd);\n            observer.disconnect();\n        }}\n}});\n\n// Listen for the removal of the full notebook cells\nvar notebookContainer = gd.closest('#notebook-container');\nif (notebookContainer) {{\n    x.observe(notebookContainer, {childList: true});\n}}\n\n// Listen for the clearing of the current output cell\nvar outputEl = gd.closest('.output');\nif (outputEl) {{\n    x.observe(outputEl, {childList: true});\n}}\n\n                        })                };                });            </script>        </div>"
     },
     "metadata": {},
     "output_type": "display_data"
    },
    {
     "data": {
      "application/vnd.plotly.v1+json": {
       "data": [
        {
         "hovertemplate": "LOCATION=Austria<br>TIME=%{x}<br>Value=%{y}<extra></extra>",
         "legendgroup": "Austria",
         "line": {
          "color": "#636efa",
          "dash": "solid"
         },
         "marker": {
          "symbol": "circle"
         },
         "mode": "lines",
         "name": "Austria",
         "orientation": "v",
         "showlegend": true,
         "x": [
          1960,
          1961,
          1962,
          1963,
          1964,
          1965,
          1966,
          1967,
          1968,
          1969,
          1970,
          1971,
          1972,
          1973,
          1974,
          1975,
          1976,
          1977,
          1978,
          1979,
          1980,
          1981,
          1982,
          1983,
          1984,
          1985,
          1986,
          1987,
          1988,
          1989,
          1990,
          1991,
          1992,
          1993,
          1994,
          1995,
          1996,
          1997,
          1998,
          1999,
          2000,
          2001,
          2002,
          2003,
          2004,
          2005,
          2006,
          2007,
          2008,
          2009,
          2010,
          2011,
          2012,
          2013,
          2014,
          2015,
          2016,
          2017,
          2018,
          2019,
          2020
         ],
         "xaxis": "x",
         "y": [
          2.69,
          2.78,
          2.8,
          2.82,
          2.79,
          2.7,
          2.66,
          2.62,
          2.58,
          2.49,
          2.29,
          2.2,
          2.08,
          1.94,
          1.91,
          1.83,
          1.69,
          1.63,
          1.6,
          1.6,
          1.65,
          1.67,
          1.66,
          1.56,
          1.52,
          1.47,
          1.45,
          1.43,
          1.45,
          1.45,
          1.46,
          1.51,
          1.51,
          1.5,
          1.47,
          1.42,
          1.45,
          1.39,
          1.37,
          1.34,
          1.36,
          1.33,
          1.39,
          1.38,
          1.42,
          1.41,
          1.41,
          1.39,
          1.42,
          1.4,
          1.44,
          1.43,
          1.44,
          1.44,
          1.46,
          1.49,
          1.53,
          1.52,
          1.48,
          1.46,
          1.44
         ],
         "yaxis": "y",
         "type": "scatter"
        },
        {
         "hovertemplate": "LOCATION=Italy<br>TIME=%{x}<br>Value=%{y}<extra></extra>",
         "legendgroup": "Italy",
         "line": {
          "color": "#EF553B",
          "dash": "solid"
         },
         "marker": {
          "symbol": "circle"
         },
         "mode": "lines",
         "name": "Italy",
         "orientation": "v",
         "showlegend": true,
         "x": [
          1960,
          1961,
          1962,
          1963,
          1964,
          1965,
          1966,
          1967,
          1968,
          1969,
          1970,
          1971,
          1972,
          1973,
          1974,
          1975,
          1976,
          1977,
          1978,
          1979,
          1980,
          1981,
          1982,
          1983,
          1984,
          1985,
          1986,
          1987,
          1988,
          1989,
          1990,
          1991,
          1992,
          1993,
          1994,
          1995,
          1996,
          1997,
          1998,
          1999,
          2000,
          2001,
          2002,
          2003,
          2004,
          2005,
          2006,
          2007,
          2008,
          2009,
          2010,
          2011,
          2012,
          2013,
          2014,
          2015,
          2016,
          2017,
          2018,
          2019
         ],
         "xaxis": "x",
         "y": [
          2.41,
          2.41,
          2.46,
          2.56,
          2.7,
          2.67,
          2.63,
          2.54,
          2.49,
          2.51,
          2.42,
          2.41,
          2.36,
          2.34,
          2.33,
          2.21,
          2.11,
          1.97,
          1.87,
          1.76,
          1.68,
          1.6,
          1.6,
          1.54,
          1.48,
          1.45,
          1.37,
          1.35,
          1.38,
          1.35,
          1.36,
          1.33,
          1.32,
          1.26,
          1.22,
          1.19,
          1.22,
          1.23,
          1.21,
          1.23,
          1.26,
          1.25,
          1.27,
          1.29,
          1.33,
          1.32,
          1.35,
          1.37,
          1.42,
          1.41,
          1.41,
          1.39,
          1.42,
          1.39,
          1.37,
          1.35,
          1.34,
          1.32,
          1.29,
          1.27
         ],
         "yaxis": "y",
         "type": "scatter"
        },
        {
         "hovertemplate": "LOCATION=Australia<br>TIME=%{x}<br>Value=%{y}<extra></extra>",
         "legendgroup": "Australia",
         "line": {
          "color": "#00cc96",
          "dash": "solid"
         },
         "marker": {
          "symbol": "circle"
         },
         "mode": "lines",
         "name": "Australia",
         "orientation": "v",
         "showlegend": true,
         "x": [
          1960,
          1961,
          1962,
          1963,
          1964,
          1965,
          1966,
          1967,
          1968,
          1969,
          1970,
          1971,
          1972,
          1973,
          1974,
          1975,
          1976,
          1977,
          1978,
          1979,
          1980,
          1981,
          1982,
          1983,
          1984,
          1985,
          1986,
          1987,
          1988,
          1989,
          1990,
          1991,
          1992,
          1993,
          1994,
          1995,
          1996,
          1997,
          1998,
          1999,
          2000,
          2001,
          2002,
          2003,
          2004,
          2005,
          2006,
          2007,
          2008,
          2009,
          2010,
          2011,
          2012,
          2013,
          2014,
          2015,
          2016,
          2017,
          2018,
          2019
         ],
         "xaxis": "x",
         "y": [
          3.45,
          3.55,
          3.43,
          3.34,
          3.15,
          2.97,
          2.89,
          2.85,
          2.89,
          2.89,
          2.86,
          2.95,
          2.74,
          2.49,
          2.32,
          2.15,
          2.06,
          2.01,
          1.95,
          1.91,
          1.89,
          1.94,
          1.93,
          1.92,
          1.84,
          1.92,
          1.87,
          1.85,
          1.83,
          1.84,
          1.9,
          1.85,
          1.89,
          1.86,
          1.84,
          1.82,
          1.8,
          1.78,
          1.76,
          1.76,
          1.76,
          1.73,
          1.77,
          1.77,
          1.78,
          1.85,
          1.88,
          1.99,
          2.02,
          1.97,
          1.95,
          1.92,
          1.93,
          1.88,
          1.79,
          1.79,
          1.79,
          1.74,
          1.74,
          1.66
         ],
         "yaxis": "y",
         "type": "scatter"
        },
        {
         "hovertemplate": "LOCATION=United States<br>TIME=%{x}<br>Value=%{y}<extra></extra>",
         "legendgroup": "United States",
         "line": {
          "color": "#ab63fa",
          "dash": "solid"
         },
         "marker": {
          "symbol": "circle"
         },
         "mode": "lines",
         "name": "United States",
         "orientation": "v",
         "showlegend": true,
         "x": [
          1960,
          1961,
          1962,
          1963,
          1964,
          1965,
          1966,
          1967,
          1968,
          1969,
          1970,
          1971,
          1972,
          1973,
          1974,
          1975,
          1976,
          1977,
          1978,
          1979,
          1980,
          1981,
          1982,
          1983,
          1984,
          1985,
          1986,
          1987,
          1988,
          1989,
          1990,
          1991,
          1992,
          1993,
          1994,
          1995,
          1996,
          1997,
          1998,
          1999,
          2000,
          2001,
          2002,
          2003,
          2004,
          2005,
          2006,
          2007,
          2008,
          2009,
          2010,
          2011,
          2012,
          2013,
          2014,
          2015,
          2016,
          2017,
          2018,
          2019
         ],
         "xaxis": "x",
         "y": [
          3.65,
          3.62,
          3.46,
          3.32,
          3.19,
          2.91,
          2.72,
          2.56,
          2.46,
          2.46,
          2.48,
          2.27,
          2.01,
          1.88,
          1.84,
          1.77,
          1.74,
          1.79,
          1.76,
          1.81,
          1.84,
          1.81,
          1.83,
          1.8,
          1.81,
          1.84,
          1.84,
          1.87,
          1.93,
          2.01,
          2.08,
          2.06,
          2.05,
          2.02,
          2.0,
          1.98,
          1.98,
          1.97,
          2.0,
          2.01,
          2.06,
          2.03,
          2.01,
          2.04,
          2.05,
          2.06,
          2.11,
          2.12,
          2.07,
          2.0,
          1.93,
          1.89,
          1.88,
          1.86,
          1.86,
          1.84,
          1.82,
          1.77,
          1.73,
          1.71
         ],
         "yaxis": "y",
         "type": "scatter"
        },
        {
         "hovertemplate": "LOCATION=Belgium<br>TIME=%{x}<br>Value=%{y}<extra></extra>",
         "legendgroup": "Belgium",
         "line": {
          "color": "#FFA15A",
          "dash": "solid"
         },
         "marker": {
          "symbol": "circle"
         },
         "mode": "lines",
         "name": "Belgium",
         "orientation": "v",
         "showlegend": true,
         "x": [
          1960,
          1961,
          1962,
          1963,
          1964,
          1965,
          1966,
          1967,
          1968,
          1969,
          1970,
          1971,
          1972,
          1973,
          1974,
          1975,
          1976,
          1977,
          1978,
          1979,
          1980,
          1981,
          1982,
          1983,
          1984,
          1985,
          1986,
          1987,
          1988,
          1989,
          1990,
          1991,
          1992,
          1993,
          1994,
          1995,
          1996,
          1997,
          1998,
          1999,
          2000,
          2001,
          2002,
          2003,
          2004,
          2005,
          2006,
          2007,
          2008,
          2009,
          2010,
          2011,
          2012,
          2013,
          2014,
          2015,
          2016,
          2017,
          2018,
          2019
         ],
         "xaxis": "x",
         "y": [
          2.54,
          2.63,
          2.59,
          2.68,
          2.72,
          2.62,
          2.52,
          2.41,
          2.31,
          2.28,
          2.25,
          2.21,
          2.09,
          1.95,
          1.83,
          1.74,
          1.73,
          1.71,
          1.69,
          1.69,
          1.68,
          1.67,
          1.61,
          1.56,
          1.54,
          1.51,
          1.54,
          1.54,
          1.57,
          1.58,
          1.62,
          1.65,
          1.64,
          1.6,
          1.55,
          1.55,
          1.58,
          1.59,
          1.57,
          1.59,
          1.64,
          1.64,
          1.62,
          1.64,
          1.7,
          1.74,
          1.78,
          1.8,
          1.86,
          1.83,
          1.84,
          1.81,
          1.79,
          1.74,
          1.73,
          1.69,
          1.67,
          1.64,
          1.61,
          1.57
         ],
         "yaxis": "y",
         "type": "scatter"
        }
       ],
       "layout": {
        "template": {
         "data": {
          "bar": [
           {
            "error_x": {
             "color": "#2a3f5f"
            },
            "error_y": {
             "color": "#2a3f5f"
            },
            "marker": {
             "line": {
              "color": "#E5ECF6",
              "width": 0.5
             },
             "pattern": {
              "fillmode": "overlay",
              "size": 10,
              "solidity": 0.2
             }
            },
            "type": "bar"
           }
          ],
          "barpolar": [
           {
            "marker": {
             "line": {
              "color": "#E5ECF6",
              "width": 0.5
             },
             "pattern": {
              "fillmode": "overlay",
              "size": 10,
              "solidity": 0.2
             }
            },
            "type": "barpolar"
           }
          ],
          "carpet": [
           {
            "aaxis": {
             "endlinecolor": "#2a3f5f",
             "gridcolor": "white",
             "linecolor": "white",
             "minorgridcolor": "white",
             "startlinecolor": "#2a3f5f"
            },
            "baxis": {
             "endlinecolor": "#2a3f5f",
             "gridcolor": "white",
             "linecolor": "white",
             "minorgridcolor": "white",
             "startlinecolor": "#2a3f5f"
            },
            "type": "carpet"
           }
          ],
          "choropleth": [
           {
            "colorbar": {
             "outlinewidth": 0,
             "ticks": ""
            },
            "type": "choropleth"
           }
          ],
          "contour": [
           {
            "colorbar": {
             "outlinewidth": 0,
             "ticks": ""
            },
            "colorscale": [
             [
              0.0,
              "#0d0887"
             ],
             [
              0.1111111111111111,
              "#46039f"
             ],
             [
              0.2222222222222222,
              "#7201a8"
             ],
             [
              0.3333333333333333,
              "#9c179e"
             ],
             [
              0.4444444444444444,
              "#bd3786"
             ],
             [
              0.5555555555555556,
              "#d8576b"
             ],
             [
              0.6666666666666666,
              "#ed7953"
             ],
             [
              0.7777777777777778,
              "#fb9f3a"
             ],
             [
              0.8888888888888888,
              "#fdca26"
             ],
             [
              1.0,
              "#f0f921"
             ]
            ],
            "type": "contour"
           }
          ],
          "contourcarpet": [
           {
            "colorbar": {
             "outlinewidth": 0,
             "ticks": ""
            },
            "type": "contourcarpet"
           }
          ],
          "heatmap": [
           {
            "colorbar": {
             "outlinewidth": 0,
             "ticks": ""
            },
            "colorscale": [
             [
              0.0,
              "#0d0887"
             ],
             [
              0.1111111111111111,
              "#46039f"
             ],
             [
              0.2222222222222222,
              "#7201a8"
             ],
             [
              0.3333333333333333,
              "#9c179e"
             ],
             [
              0.4444444444444444,
              "#bd3786"
             ],
             [
              0.5555555555555556,
              "#d8576b"
             ],
             [
              0.6666666666666666,
              "#ed7953"
             ],
             [
              0.7777777777777778,
              "#fb9f3a"
             ],
             [
              0.8888888888888888,
              "#fdca26"
             ],
             [
              1.0,
              "#f0f921"
             ]
            ],
            "type": "heatmap"
           }
          ],
          "heatmapgl": [
           {
            "colorbar": {
             "outlinewidth": 0,
             "ticks": ""
            },
            "colorscale": [
             [
              0.0,
              "#0d0887"
             ],
             [
              0.1111111111111111,
              "#46039f"
             ],
             [
              0.2222222222222222,
              "#7201a8"
             ],
             [
              0.3333333333333333,
              "#9c179e"
             ],
             [
              0.4444444444444444,
              "#bd3786"
             ],
             [
              0.5555555555555556,
              "#d8576b"
             ],
             [
              0.6666666666666666,
              "#ed7953"
             ],
             [
              0.7777777777777778,
              "#fb9f3a"
             ],
             [
              0.8888888888888888,
              "#fdca26"
             ],
             [
              1.0,
              "#f0f921"
             ]
            ],
            "type": "heatmapgl"
           }
          ],
          "histogram": [
           {
            "marker": {
             "pattern": {
              "fillmode": "overlay",
              "size": 10,
              "solidity": 0.2
             }
            },
            "type": "histogram"
           }
          ],
          "histogram2d": [
           {
            "colorbar": {
             "outlinewidth": 0,
             "ticks": ""
            },
            "colorscale": [
             [
              0.0,
              "#0d0887"
             ],
             [
              0.1111111111111111,
              "#46039f"
             ],
             [
              0.2222222222222222,
              "#7201a8"
             ],
             [
              0.3333333333333333,
              "#9c179e"
             ],
             [
              0.4444444444444444,
              "#bd3786"
             ],
             [
              0.5555555555555556,
              "#d8576b"
             ],
             [
              0.6666666666666666,
              "#ed7953"
             ],
             [
              0.7777777777777778,
              "#fb9f3a"
             ],
             [
              0.8888888888888888,
              "#fdca26"
             ],
             [
              1.0,
              "#f0f921"
             ]
            ],
            "type": "histogram2d"
           }
          ],
          "histogram2dcontour": [
           {
            "colorbar": {
             "outlinewidth": 0,
             "ticks": ""
            },
            "colorscale": [
             [
              0.0,
              "#0d0887"
             ],
             [
              0.1111111111111111,
              "#46039f"
             ],
             [
              0.2222222222222222,
              "#7201a8"
             ],
             [
              0.3333333333333333,
              "#9c179e"
             ],
             [
              0.4444444444444444,
              "#bd3786"
             ],
             [
              0.5555555555555556,
              "#d8576b"
             ],
             [
              0.6666666666666666,
              "#ed7953"
             ],
             [
              0.7777777777777778,
              "#fb9f3a"
             ],
             [
              0.8888888888888888,
              "#fdca26"
             ],
             [
              1.0,
              "#f0f921"
             ]
            ],
            "type": "histogram2dcontour"
           }
          ],
          "mesh3d": [
           {
            "colorbar": {
             "outlinewidth": 0,
             "ticks": ""
            },
            "type": "mesh3d"
           }
          ],
          "parcoords": [
           {
            "line": {
             "colorbar": {
              "outlinewidth": 0,
              "ticks": ""
             }
            },
            "type": "parcoords"
           }
          ],
          "pie": [
           {
            "automargin": true,
            "type": "pie"
           }
          ],
          "scatter": [
           {
            "marker": {
             "colorbar": {
              "outlinewidth": 0,
              "ticks": ""
             }
            },
            "type": "scatter"
           }
          ],
          "scatter3d": [
           {
            "line": {
             "colorbar": {
              "outlinewidth": 0,
              "ticks": ""
             }
            },
            "marker": {
             "colorbar": {
              "outlinewidth": 0,
              "ticks": ""
             }
            },
            "type": "scatter3d"
           }
          ],
          "scattercarpet": [
           {
            "marker": {
             "colorbar": {
              "outlinewidth": 0,
              "ticks": ""
             }
            },
            "type": "scattercarpet"
           }
          ],
          "scattergeo": [
           {
            "marker": {
             "colorbar": {
              "outlinewidth": 0,
              "ticks": ""
             }
            },
            "type": "scattergeo"
           }
          ],
          "scattergl": [
           {
            "marker": {
             "colorbar": {
              "outlinewidth": 0,
              "ticks": ""
             }
            },
            "type": "scattergl"
           }
          ],
          "scattermapbox": [
           {
            "marker": {
             "colorbar": {
              "outlinewidth": 0,
              "ticks": ""
             }
            },
            "type": "scattermapbox"
           }
          ],
          "scatterpolar": [
           {
            "marker": {
             "colorbar": {
              "outlinewidth": 0,
              "ticks": ""
             }
            },
            "type": "scatterpolar"
           }
          ],
          "scatterpolargl": [
           {
            "marker": {
             "colorbar": {
              "outlinewidth": 0,
              "ticks": ""
             }
            },
            "type": "scatterpolargl"
           }
          ],
          "scatterternary": [
           {
            "marker": {
             "colorbar": {
              "outlinewidth": 0,
              "ticks": ""
             }
            },
            "type": "scatterternary"
           }
          ],
          "surface": [
           {
            "colorbar": {
             "outlinewidth": 0,
             "ticks": ""
            },
            "colorscale": [
             [
              0.0,
              "#0d0887"
             ],
             [
              0.1111111111111111,
              "#46039f"
             ],
             [
              0.2222222222222222,
              "#7201a8"
             ],
             [
              0.3333333333333333,
              "#9c179e"
             ],
             [
              0.4444444444444444,
              "#bd3786"
             ],
             [
              0.5555555555555556,
              "#d8576b"
             ],
             [
              0.6666666666666666,
              "#ed7953"
             ],
             [
              0.7777777777777778,
              "#fb9f3a"
             ],
             [
              0.8888888888888888,
              "#fdca26"
             ],
             [
              1.0,
              "#f0f921"
             ]
            ],
            "type": "surface"
           }
          ],
          "table": [
           {
            "cells": {
             "fill": {
              "color": "#EBF0F8"
             },
             "line": {
              "color": "white"
             }
            },
            "header": {
             "fill": {
              "color": "#C8D4E3"
             },
             "line": {
              "color": "white"
             }
            },
            "type": "table"
           }
          ]
         },
         "layout": {
          "annotationdefaults": {
           "arrowcolor": "#2a3f5f",
           "arrowhead": 0,
           "arrowwidth": 1
          },
          "autotypenumbers": "strict",
          "coloraxis": {
           "colorbar": {
            "outlinewidth": 0,
            "ticks": ""
           }
          },
          "colorscale": {
           "diverging": [
            [
             0,
             "#8e0152"
            ],
            [
             0.1,
             "#c51b7d"
            ],
            [
             0.2,
             "#de77ae"
            ],
            [
             0.3,
             "#f1b6da"
            ],
            [
             0.4,
             "#fde0ef"
            ],
            [
             0.5,
             "#f7f7f7"
            ],
            [
             0.6,
             "#e6f5d0"
            ],
            [
             0.7,
             "#b8e186"
            ],
            [
             0.8,
             "#7fbc41"
            ],
            [
             0.9,
             "#4d9221"
            ],
            [
             1,
             "#276419"
            ]
           ],
           "sequential": [
            [
             0.0,
             "#0d0887"
            ],
            [
             0.1111111111111111,
             "#46039f"
            ],
            [
             0.2222222222222222,
             "#7201a8"
            ],
            [
             0.3333333333333333,
             "#9c179e"
            ],
            [
             0.4444444444444444,
             "#bd3786"
            ],
            [
             0.5555555555555556,
             "#d8576b"
            ],
            [
             0.6666666666666666,
             "#ed7953"
            ],
            [
             0.7777777777777778,
             "#fb9f3a"
            ],
            [
             0.8888888888888888,
             "#fdca26"
            ],
            [
             1.0,
             "#f0f921"
            ]
           ],
           "sequentialminus": [
            [
             0.0,
             "#0d0887"
            ],
            [
             0.1111111111111111,
             "#46039f"
            ],
            [
             0.2222222222222222,
             "#7201a8"
            ],
            [
             0.3333333333333333,
             "#9c179e"
            ],
            [
             0.4444444444444444,
             "#bd3786"
            ],
            [
             0.5555555555555556,
             "#d8576b"
            ],
            [
             0.6666666666666666,
             "#ed7953"
            ],
            [
             0.7777777777777778,
             "#fb9f3a"
            ],
            [
             0.8888888888888888,
             "#fdca26"
            ],
            [
             1.0,
             "#f0f921"
            ]
           ]
          },
          "colorway": [
           "#636efa",
           "#EF553B",
           "#00cc96",
           "#ab63fa",
           "#FFA15A",
           "#19d3f3",
           "#FF6692",
           "#B6E880",
           "#FF97FF",
           "#FECB52"
          ],
          "font": {
           "color": "#2a3f5f"
          },
          "geo": {
           "bgcolor": "white",
           "lakecolor": "white",
           "landcolor": "#E5ECF6",
           "showlakes": true,
           "showland": true,
           "subunitcolor": "white"
          },
          "hoverlabel": {
           "align": "left"
          },
          "hovermode": "closest",
          "mapbox": {
           "style": "light"
          },
          "paper_bgcolor": "white",
          "plot_bgcolor": "#E5ECF6",
          "polar": {
           "angularaxis": {
            "gridcolor": "white",
            "linecolor": "white",
            "ticks": ""
           },
           "bgcolor": "#E5ECF6",
           "radialaxis": {
            "gridcolor": "white",
            "linecolor": "white",
            "ticks": ""
           }
          },
          "scene": {
           "xaxis": {
            "backgroundcolor": "#E5ECF6",
            "gridcolor": "white",
            "gridwidth": 2,
            "linecolor": "white",
            "showbackground": true,
            "ticks": "",
            "zerolinecolor": "white"
           },
           "yaxis": {
            "backgroundcolor": "#E5ECF6",
            "gridcolor": "white",
            "gridwidth": 2,
            "linecolor": "white",
            "showbackground": true,
            "ticks": "",
            "zerolinecolor": "white"
           },
           "zaxis": {
            "backgroundcolor": "#E5ECF6",
            "gridcolor": "white",
            "gridwidth": 2,
            "linecolor": "white",
            "showbackground": true,
            "ticks": "",
            "zerolinecolor": "white"
           }
          },
          "shapedefaults": {
           "line": {
            "color": "#2a3f5f"
           }
          },
          "ternary": {
           "aaxis": {
            "gridcolor": "white",
            "linecolor": "white",
            "ticks": ""
           },
           "baxis": {
            "gridcolor": "white",
            "linecolor": "white",
            "ticks": ""
           },
           "bgcolor": "#E5ECF6",
           "caxis": {
            "gridcolor": "white",
            "linecolor": "white",
            "ticks": ""
           }
          },
          "title": {
           "x": 0.05
          },
          "xaxis": {
           "automargin": true,
           "gridcolor": "white",
           "linecolor": "white",
           "ticks": "",
           "title": {
            "standoff": 15
           },
           "zerolinecolor": "white",
           "zerolinewidth": 2
          },
          "yaxis": {
           "automargin": true,
           "gridcolor": "white",
           "linecolor": "white",
           "ticks": "",
           "title": {
            "standoff": 15
           },
           "zerolinecolor": "white",
           "zerolinewidth": 2
          }
         }
        },
        "xaxis": {
         "anchor": "y",
         "domain": [
          0.0,
          1.0
         ],
         "title": {
          "text": "Year"
         },
         "rangeslider": {
          "visible": true
         }
        },
        "yaxis": {
         "anchor": "x",
         "domain": [
          0.0,
          1.0
         ],
         "title": {
          "text": "% of Fertility Rate"
         }
        },
        "legend": {
         "title": {
          "text": "Countries"
         },
         "tracegroupgap": 0
        },
        "title": {
         "text": "Fertility Rate"
        }
       },
       "config": {
        "plotlyServerURL": "https://plot.ly"
       }
      },
      "text/html": "<div>                            <div id=\"b51e1dc6-620d-4d3c-b9dc-cd2a0ae48e2f\" class=\"plotly-graph-div\" style=\"height:525px; width:100%;\"></div>            <script type=\"text/javascript\">                require([\"plotly\"], function(Plotly) {                    window.PLOTLYENV=window.PLOTLYENV || {};                                    if (document.getElementById(\"b51e1dc6-620d-4d3c-b9dc-cd2a0ae48e2f\")) {                    Plotly.newPlot(                        \"b51e1dc6-620d-4d3c-b9dc-cd2a0ae48e2f\",                        [{\"hovertemplate\":\"LOCATION=Austria<br>TIME=%{x}<br>Value=%{y}<extra></extra>\",\"legendgroup\":\"Austria\",\"line\":{\"color\":\"#636efa\",\"dash\":\"solid\"},\"marker\":{\"symbol\":\"circle\"},\"mode\":\"lines\",\"name\":\"Austria\",\"orientation\":\"v\",\"showlegend\":true,\"x\":[1960,1961,1962,1963,1964,1965,1966,1967,1968,1969,1970,1971,1972,1973,1974,1975,1976,1977,1978,1979,1980,1981,1982,1983,1984,1985,1986,1987,1988,1989,1990,1991,1992,1993,1994,1995,1996,1997,1998,1999,2000,2001,2002,2003,2004,2005,2006,2007,2008,2009,2010,2011,2012,2013,2014,2015,2016,2017,2018,2019,2020],\"xaxis\":\"x\",\"y\":[2.69,2.78,2.8,2.82,2.79,2.7,2.66,2.62,2.58,2.49,2.29,2.2,2.08,1.94,1.91,1.83,1.69,1.63,1.6,1.6,1.65,1.67,1.66,1.56,1.52,1.47,1.45,1.43,1.45,1.45,1.46,1.51,1.51,1.5,1.47,1.42,1.45,1.39,1.37,1.34,1.36,1.33,1.39,1.38,1.42,1.41,1.41,1.39,1.42,1.4,1.44,1.43,1.44,1.44,1.46,1.49,1.53,1.52,1.48,1.46,1.44],\"yaxis\":\"y\",\"type\":\"scatter\"},{\"hovertemplate\":\"LOCATION=Italy<br>TIME=%{x}<br>Value=%{y}<extra></extra>\",\"legendgroup\":\"Italy\",\"line\":{\"color\":\"#EF553B\",\"dash\":\"solid\"},\"marker\":{\"symbol\":\"circle\"},\"mode\":\"lines\",\"name\":\"Italy\",\"orientation\":\"v\",\"showlegend\":true,\"x\":[1960,1961,1962,1963,1964,1965,1966,1967,1968,1969,1970,1971,1972,1973,1974,1975,1976,1977,1978,1979,1980,1981,1982,1983,1984,1985,1986,1987,1988,1989,1990,1991,1992,1993,1994,1995,1996,1997,1998,1999,2000,2001,2002,2003,2004,2005,2006,2007,2008,2009,2010,2011,2012,2013,2014,2015,2016,2017,2018,2019],\"xaxis\":\"x\",\"y\":[2.41,2.41,2.46,2.56,2.7,2.67,2.63,2.54,2.49,2.51,2.42,2.41,2.36,2.34,2.33,2.21,2.11,1.97,1.87,1.76,1.68,1.6,1.6,1.54,1.48,1.45,1.37,1.35,1.38,1.35,1.36,1.33,1.32,1.26,1.22,1.19,1.22,1.23,1.21,1.23,1.26,1.25,1.27,1.29,1.33,1.32,1.35,1.37,1.42,1.41,1.41,1.39,1.42,1.39,1.37,1.35,1.34,1.32,1.29,1.27],\"yaxis\":\"y\",\"type\":\"scatter\"},{\"hovertemplate\":\"LOCATION=Australia<br>TIME=%{x}<br>Value=%{y}<extra></extra>\",\"legendgroup\":\"Australia\",\"line\":{\"color\":\"#00cc96\",\"dash\":\"solid\"},\"marker\":{\"symbol\":\"circle\"},\"mode\":\"lines\",\"name\":\"Australia\",\"orientation\":\"v\",\"showlegend\":true,\"x\":[1960,1961,1962,1963,1964,1965,1966,1967,1968,1969,1970,1971,1972,1973,1974,1975,1976,1977,1978,1979,1980,1981,1982,1983,1984,1985,1986,1987,1988,1989,1990,1991,1992,1993,1994,1995,1996,1997,1998,1999,2000,2001,2002,2003,2004,2005,2006,2007,2008,2009,2010,2011,2012,2013,2014,2015,2016,2017,2018,2019],\"xaxis\":\"x\",\"y\":[3.45,3.55,3.43,3.34,3.15,2.97,2.89,2.85,2.89,2.89,2.86,2.95,2.74,2.49,2.32,2.15,2.06,2.01,1.95,1.91,1.89,1.94,1.93,1.92,1.84,1.92,1.87,1.85,1.83,1.84,1.9,1.85,1.89,1.86,1.84,1.82,1.8,1.78,1.76,1.76,1.76,1.73,1.77,1.77,1.78,1.85,1.88,1.99,2.02,1.97,1.95,1.92,1.93,1.88,1.79,1.79,1.79,1.74,1.74,1.66],\"yaxis\":\"y\",\"type\":\"scatter\"},{\"hovertemplate\":\"LOCATION=United States<br>TIME=%{x}<br>Value=%{y}<extra></extra>\",\"legendgroup\":\"United States\",\"line\":{\"color\":\"#ab63fa\",\"dash\":\"solid\"},\"marker\":{\"symbol\":\"circle\"},\"mode\":\"lines\",\"name\":\"United States\",\"orientation\":\"v\",\"showlegend\":true,\"x\":[1960,1961,1962,1963,1964,1965,1966,1967,1968,1969,1970,1971,1972,1973,1974,1975,1976,1977,1978,1979,1980,1981,1982,1983,1984,1985,1986,1987,1988,1989,1990,1991,1992,1993,1994,1995,1996,1997,1998,1999,2000,2001,2002,2003,2004,2005,2006,2007,2008,2009,2010,2011,2012,2013,2014,2015,2016,2017,2018,2019],\"xaxis\":\"x\",\"y\":[3.65,3.62,3.46,3.32,3.19,2.91,2.72,2.56,2.46,2.46,2.48,2.27,2.01,1.88,1.84,1.77,1.74,1.79,1.76,1.81,1.84,1.81,1.83,1.8,1.81,1.84,1.84,1.87,1.93,2.01,2.08,2.06,2.05,2.02,2.0,1.98,1.98,1.97,2.0,2.01,2.06,2.03,2.01,2.04,2.05,2.06,2.11,2.12,2.07,2.0,1.93,1.89,1.88,1.86,1.86,1.84,1.82,1.77,1.73,1.71],\"yaxis\":\"y\",\"type\":\"scatter\"},{\"hovertemplate\":\"LOCATION=Belgium<br>TIME=%{x}<br>Value=%{y}<extra></extra>\",\"legendgroup\":\"Belgium\",\"line\":{\"color\":\"#FFA15A\",\"dash\":\"solid\"},\"marker\":{\"symbol\":\"circle\"},\"mode\":\"lines\",\"name\":\"Belgium\",\"orientation\":\"v\",\"showlegend\":true,\"x\":[1960,1961,1962,1963,1964,1965,1966,1967,1968,1969,1970,1971,1972,1973,1974,1975,1976,1977,1978,1979,1980,1981,1982,1983,1984,1985,1986,1987,1988,1989,1990,1991,1992,1993,1994,1995,1996,1997,1998,1999,2000,2001,2002,2003,2004,2005,2006,2007,2008,2009,2010,2011,2012,2013,2014,2015,2016,2017,2018,2019],\"xaxis\":\"x\",\"y\":[2.54,2.63,2.59,2.68,2.72,2.62,2.52,2.41,2.31,2.28,2.25,2.21,2.09,1.95,1.83,1.74,1.73,1.71,1.69,1.69,1.68,1.67,1.61,1.56,1.54,1.51,1.54,1.54,1.57,1.58,1.62,1.65,1.64,1.6,1.55,1.55,1.58,1.59,1.57,1.59,1.64,1.64,1.62,1.64,1.7,1.74,1.78,1.8,1.86,1.83,1.84,1.81,1.79,1.74,1.73,1.69,1.67,1.64,1.61,1.57],\"yaxis\":\"y\",\"type\":\"scatter\"}],                        {\"template\":{\"data\":{\"bar\":[{\"error_x\":{\"color\":\"#2a3f5f\"},\"error_y\":{\"color\":\"#2a3f5f\"},\"marker\":{\"line\":{\"color\":\"#E5ECF6\",\"width\":0.5},\"pattern\":{\"fillmode\":\"overlay\",\"size\":10,\"solidity\":0.2}},\"type\":\"bar\"}],\"barpolar\":[{\"marker\":{\"line\":{\"color\":\"#E5ECF6\",\"width\":0.5},\"pattern\":{\"fillmode\":\"overlay\",\"size\":10,\"solidity\":0.2}},\"type\":\"barpolar\"}],\"carpet\":[{\"aaxis\":{\"endlinecolor\":\"#2a3f5f\",\"gridcolor\":\"white\",\"linecolor\":\"white\",\"minorgridcolor\":\"white\",\"startlinecolor\":\"#2a3f5f\"},\"baxis\":{\"endlinecolor\":\"#2a3f5f\",\"gridcolor\":\"white\",\"linecolor\":\"white\",\"minorgridcolor\":\"white\",\"startlinecolor\":\"#2a3f5f\"},\"type\":\"carpet\"}],\"choropleth\":[{\"colorbar\":{\"outlinewidth\":0,\"ticks\":\"\"},\"type\":\"choropleth\"}],\"contour\":[{\"colorbar\":{\"outlinewidth\":0,\"ticks\":\"\"},\"colorscale\":[[0.0,\"#0d0887\"],[0.1111111111111111,\"#46039f\"],[0.2222222222222222,\"#7201a8\"],[0.3333333333333333,\"#9c179e\"],[0.4444444444444444,\"#bd3786\"],[0.5555555555555556,\"#d8576b\"],[0.6666666666666666,\"#ed7953\"],[0.7777777777777778,\"#fb9f3a\"],[0.8888888888888888,\"#fdca26\"],[1.0,\"#f0f921\"]],\"type\":\"contour\"}],\"contourcarpet\":[{\"colorbar\":{\"outlinewidth\":0,\"ticks\":\"\"},\"type\":\"contourcarpet\"}],\"heatmap\":[{\"colorbar\":{\"outlinewidth\":0,\"ticks\":\"\"},\"colorscale\":[[0.0,\"#0d0887\"],[0.1111111111111111,\"#46039f\"],[0.2222222222222222,\"#7201a8\"],[0.3333333333333333,\"#9c179e\"],[0.4444444444444444,\"#bd3786\"],[0.5555555555555556,\"#d8576b\"],[0.6666666666666666,\"#ed7953\"],[0.7777777777777778,\"#fb9f3a\"],[0.8888888888888888,\"#fdca26\"],[1.0,\"#f0f921\"]],\"type\":\"heatmap\"}],\"heatmapgl\":[{\"colorbar\":{\"outlinewidth\":0,\"ticks\":\"\"},\"colorscale\":[[0.0,\"#0d0887\"],[0.1111111111111111,\"#46039f\"],[0.2222222222222222,\"#7201a8\"],[0.3333333333333333,\"#9c179e\"],[0.4444444444444444,\"#bd3786\"],[0.5555555555555556,\"#d8576b\"],[0.6666666666666666,\"#ed7953\"],[0.7777777777777778,\"#fb9f3a\"],[0.8888888888888888,\"#fdca26\"],[1.0,\"#f0f921\"]],\"type\":\"heatmapgl\"}],\"histogram\":[{\"marker\":{\"pattern\":{\"fillmode\":\"overlay\",\"size\":10,\"solidity\":0.2}},\"type\":\"histogram\"}],\"histogram2d\":[{\"colorbar\":{\"outlinewidth\":0,\"ticks\":\"\"},\"colorscale\":[[0.0,\"#0d0887\"],[0.1111111111111111,\"#46039f\"],[0.2222222222222222,\"#7201a8\"],[0.3333333333333333,\"#9c179e\"],[0.4444444444444444,\"#bd3786\"],[0.5555555555555556,\"#d8576b\"],[0.6666666666666666,\"#ed7953\"],[0.7777777777777778,\"#fb9f3a\"],[0.8888888888888888,\"#fdca26\"],[1.0,\"#f0f921\"]],\"type\":\"histogram2d\"}],\"histogram2dcontour\":[{\"colorbar\":{\"outlinewidth\":0,\"ticks\":\"\"},\"colorscale\":[[0.0,\"#0d0887\"],[0.1111111111111111,\"#46039f\"],[0.2222222222222222,\"#7201a8\"],[0.3333333333333333,\"#9c179e\"],[0.4444444444444444,\"#bd3786\"],[0.5555555555555556,\"#d8576b\"],[0.6666666666666666,\"#ed7953\"],[0.7777777777777778,\"#fb9f3a\"],[0.8888888888888888,\"#fdca26\"],[1.0,\"#f0f921\"]],\"type\":\"histogram2dcontour\"}],\"mesh3d\":[{\"colorbar\":{\"outlinewidth\":0,\"ticks\":\"\"},\"type\":\"mesh3d\"}],\"parcoords\":[{\"line\":{\"colorbar\":{\"outlinewidth\":0,\"ticks\":\"\"}},\"type\":\"parcoords\"}],\"pie\":[{\"automargin\":true,\"type\":\"pie\"}],\"scatter\":[{\"marker\":{\"colorbar\":{\"outlinewidth\":0,\"ticks\":\"\"}},\"type\":\"scatter\"}],\"scatter3d\":[{\"line\":{\"colorbar\":{\"outlinewidth\":0,\"ticks\":\"\"}},\"marker\":{\"colorbar\":{\"outlinewidth\":0,\"ticks\":\"\"}},\"type\":\"scatter3d\"}],\"scattercarpet\":[{\"marker\":{\"colorbar\":{\"outlinewidth\":0,\"ticks\":\"\"}},\"type\":\"scattercarpet\"}],\"scattergeo\":[{\"marker\":{\"colorbar\":{\"outlinewidth\":0,\"ticks\":\"\"}},\"type\":\"scattergeo\"}],\"scattergl\":[{\"marker\":{\"colorbar\":{\"outlinewidth\":0,\"ticks\":\"\"}},\"type\":\"scattergl\"}],\"scattermapbox\":[{\"marker\":{\"colorbar\":{\"outlinewidth\":0,\"ticks\":\"\"}},\"type\":\"scattermapbox\"}],\"scatterpolar\":[{\"marker\":{\"colorbar\":{\"outlinewidth\":0,\"ticks\":\"\"}},\"type\":\"scatterpolar\"}],\"scatterpolargl\":[{\"marker\":{\"colorbar\":{\"outlinewidth\":0,\"ticks\":\"\"}},\"type\":\"scatterpolargl\"}],\"scatterternary\":[{\"marker\":{\"colorbar\":{\"outlinewidth\":0,\"ticks\":\"\"}},\"type\":\"scatterternary\"}],\"surface\":[{\"colorbar\":{\"outlinewidth\":0,\"ticks\":\"\"},\"colorscale\":[[0.0,\"#0d0887\"],[0.1111111111111111,\"#46039f\"],[0.2222222222222222,\"#7201a8\"],[0.3333333333333333,\"#9c179e\"],[0.4444444444444444,\"#bd3786\"],[0.5555555555555556,\"#d8576b\"],[0.6666666666666666,\"#ed7953\"],[0.7777777777777778,\"#fb9f3a\"],[0.8888888888888888,\"#fdca26\"],[1.0,\"#f0f921\"]],\"type\":\"surface\"}],\"table\":[{\"cells\":{\"fill\":{\"color\":\"#EBF0F8\"},\"line\":{\"color\":\"white\"}},\"header\":{\"fill\":{\"color\":\"#C8D4E3\"},\"line\":{\"color\":\"white\"}},\"type\":\"table\"}]},\"layout\":{\"annotationdefaults\":{\"arrowcolor\":\"#2a3f5f\",\"arrowhead\":0,\"arrowwidth\":1},\"autotypenumbers\":\"strict\",\"coloraxis\":{\"colorbar\":{\"outlinewidth\":0,\"ticks\":\"\"}},\"colorscale\":{\"diverging\":[[0,\"#8e0152\"],[0.1,\"#c51b7d\"],[0.2,\"#de77ae\"],[0.3,\"#f1b6da\"],[0.4,\"#fde0ef\"],[0.5,\"#f7f7f7\"],[0.6,\"#e6f5d0\"],[0.7,\"#b8e186\"],[0.8,\"#7fbc41\"],[0.9,\"#4d9221\"],[1,\"#276419\"]],\"sequential\":[[0.0,\"#0d0887\"],[0.1111111111111111,\"#46039f\"],[0.2222222222222222,\"#7201a8\"],[0.3333333333333333,\"#9c179e\"],[0.4444444444444444,\"#bd3786\"],[0.5555555555555556,\"#d8576b\"],[0.6666666666666666,\"#ed7953\"],[0.7777777777777778,\"#fb9f3a\"],[0.8888888888888888,\"#fdca26\"],[1.0,\"#f0f921\"]],\"sequentialminus\":[[0.0,\"#0d0887\"],[0.1111111111111111,\"#46039f\"],[0.2222222222222222,\"#7201a8\"],[0.3333333333333333,\"#9c179e\"],[0.4444444444444444,\"#bd3786\"],[0.5555555555555556,\"#d8576b\"],[0.6666666666666666,\"#ed7953\"],[0.7777777777777778,\"#fb9f3a\"],[0.8888888888888888,\"#fdca26\"],[1.0,\"#f0f921\"]]},\"colorway\":[\"#636efa\",\"#EF553B\",\"#00cc96\",\"#ab63fa\",\"#FFA15A\",\"#19d3f3\",\"#FF6692\",\"#B6E880\",\"#FF97FF\",\"#FECB52\"],\"font\":{\"color\":\"#2a3f5f\"},\"geo\":{\"bgcolor\":\"white\",\"lakecolor\":\"white\",\"landcolor\":\"#E5ECF6\",\"showlakes\":true,\"showland\":true,\"subunitcolor\":\"white\"},\"hoverlabel\":{\"align\":\"left\"},\"hovermode\":\"closest\",\"mapbox\":{\"style\":\"light\"},\"paper_bgcolor\":\"white\",\"plot_bgcolor\":\"#E5ECF6\",\"polar\":{\"angularaxis\":{\"gridcolor\":\"white\",\"linecolor\":\"white\",\"ticks\":\"\"},\"bgcolor\":\"#E5ECF6\",\"radialaxis\":{\"gridcolor\":\"white\",\"linecolor\":\"white\",\"ticks\":\"\"}},\"scene\":{\"xaxis\":{\"backgroundcolor\":\"#E5ECF6\",\"gridcolor\":\"white\",\"gridwidth\":2,\"linecolor\":\"white\",\"showbackground\":true,\"ticks\":\"\",\"zerolinecolor\":\"white\"},\"yaxis\":{\"backgroundcolor\":\"#E5ECF6\",\"gridcolor\":\"white\",\"gridwidth\":2,\"linecolor\":\"white\",\"showbackground\":true,\"ticks\":\"\",\"zerolinecolor\":\"white\"},\"zaxis\":{\"backgroundcolor\":\"#E5ECF6\",\"gridcolor\":\"white\",\"gridwidth\":2,\"linecolor\":\"white\",\"showbackground\":true,\"ticks\":\"\",\"zerolinecolor\":\"white\"}},\"shapedefaults\":{\"line\":{\"color\":\"#2a3f5f\"}},\"ternary\":{\"aaxis\":{\"gridcolor\":\"white\",\"linecolor\":\"white\",\"ticks\":\"\"},\"baxis\":{\"gridcolor\":\"white\",\"linecolor\":\"white\",\"ticks\":\"\"},\"bgcolor\":\"#E5ECF6\",\"caxis\":{\"gridcolor\":\"white\",\"linecolor\":\"white\",\"ticks\":\"\"}},\"title\":{\"x\":0.05},\"xaxis\":{\"automargin\":true,\"gridcolor\":\"white\",\"linecolor\":\"white\",\"ticks\":\"\",\"title\":{\"standoff\":15},\"zerolinecolor\":\"white\",\"zerolinewidth\":2},\"yaxis\":{\"automargin\":true,\"gridcolor\":\"white\",\"linecolor\":\"white\",\"ticks\":\"\",\"title\":{\"standoff\":15},\"zerolinecolor\":\"white\",\"zerolinewidth\":2}}},\"xaxis\":{\"anchor\":\"y\",\"domain\":[0.0,1.0],\"title\":{\"text\":\"Year\"},\"rangeslider\":{\"visible\":true}},\"yaxis\":{\"anchor\":\"x\",\"domain\":[0.0,1.0],\"title\":{\"text\":\"% of Fertility Rate\"}},\"legend\":{\"title\":{\"text\":\"Countries\"},\"tracegroupgap\":0},\"title\":{\"text\":\"Fertility Rate\"}},                        {\"responsive\": true}                    ).then(function(){\n                            \nvar gd = document.getElementById('b51e1dc6-620d-4d3c-b9dc-cd2a0ae48e2f');\nvar x = new MutationObserver(function (mutations, observer) {{\n        var display = window.getComputedStyle(gd).display;\n        if (!display || display === 'none') {{\n            console.log([gd, 'removed!']);\n            Plotly.purge(gd);\n            observer.disconnect();\n        }}\n}});\n\n// Listen for the removal of the full notebook cells\nvar notebookContainer = gd.closest('#notebook-container');\nif (notebookContainer) {{\n    x.observe(notebookContainer, {childList: true});\n}}\n\n// Listen for the clearing of the current output cell\nvar outputEl = gd.closest('.output');\nif (outputEl) {{\n    x.observe(outputEl, {childList: true});\n}}\n\n                        })                };                });            </script>        </div>"
     },
     "metadata": {},
     "output_type": "display_data"
    },
    {
     "data": {
      "application/vnd.plotly.v1+json": {
       "data": [
        {
         "alignmentgroup": "True",
         "hovertemplate": "LOCATION=%{x}<br>Value=%{y}<extra></extra>",
         "legendgroup": "Austria",
         "marker": {
          "color": "#636efa",
          "pattern": {
           "shape": ""
          }
         },
         "name": "Austria",
         "offsetgroup": "Austria",
         "orientation": "v",
         "showlegend": true,
         "textposition": "auto",
         "x": [
          "Austria"
         ],
         "xaxis": "x",
         "y": [
          58.3
         ],
         "yaxis": "y",
         "type": "bar"
        },
        {
         "alignmentgroup": "True",
         "hovertemplate": "LOCATION=%{x}<br>Value=%{y}<extra></extra>",
         "legendgroup": "Czechia",
         "marker": {
          "color": "#EF553B",
          "pattern": {
           "shape": ""
          }
         },
         "name": "Czechia",
         "offsetgroup": "Czechia",
         "orientation": "v",
         "showlegend": true,
         "textposition": "auto",
         "x": [
          "Czechia"
         ],
         "xaxis": "x",
         "y": [
          32.5
         ],
         "yaxis": "y",
         "type": "bar"
        },
        {
         "alignmentgroup": "True",
         "hovertemplate": "LOCATION=%{x}<br>Value=%{y}<extra></extra>",
         "legendgroup": "Australia",
         "marker": {
          "color": "#00cc96",
          "pattern": {
           "shape": ""
          }
         },
         "name": "Australia",
         "offsetgroup": "Australia",
         "orientation": "v",
         "showlegend": true,
         "textposition": "auto",
         "x": [
          "Australia"
         ],
         "xaxis": "x",
         "y": [
          21.1
         ],
         "yaxis": "y",
         "type": "bar"
        },
        {
         "alignmentgroup": "True",
         "hovertemplate": "LOCATION=%{x}<br>Value=%{y}<extra></extra>",
         "legendgroup": "United States",
         "marker": {
          "color": "#ab63fa",
          "pattern": {
           "shape": ""
          }
         },
         "name": "United States",
         "offsetgroup": "United States",
         "orientation": "v",
         "showlegend": true,
         "textposition": "auto",
         "x": [
          "United States"
         ],
         "xaxis": "x",
         "y": [
          24.9
         ],
         "yaxis": "y",
         "type": "bar"
        },
        {
         "alignmentgroup": "True",
         "hovertemplate": "LOCATION=%{x}<br>Value=%{y}<extra></extra>",
         "legendgroup": "Belgium",
         "marker": {
          "color": "#FFA15A",
          "pattern": {
           "shape": ""
          }
         },
         "name": "Belgium",
         "offsetgroup": "Belgium",
         "orientation": "v",
         "showlegend": true,
         "textposition": "auto",
         "x": [
          "Belgium"
         ],
         "xaxis": "x",
         "y": [
          32.0
         ],
         "yaxis": "y",
         "type": "bar"
        }
       ],
       "layout": {
        "template": {
         "data": {
          "bar": [
           {
            "error_x": {
             "color": "#2a3f5f"
            },
            "error_y": {
             "color": "#2a3f5f"
            },
            "marker": {
             "line": {
              "color": "#E5ECF6",
              "width": 0.5
             },
             "pattern": {
              "fillmode": "overlay",
              "size": 10,
              "solidity": 0.2
             }
            },
            "type": "bar"
           }
          ],
          "barpolar": [
           {
            "marker": {
             "line": {
              "color": "#E5ECF6",
              "width": 0.5
             },
             "pattern": {
              "fillmode": "overlay",
              "size": 10,
              "solidity": 0.2
             }
            },
            "type": "barpolar"
           }
          ],
          "carpet": [
           {
            "aaxis": {
             "endlinecolor": "#2a3f5f",
             "gridcolor": "white",
             "linecolor": "white",
             "minorgridcolor": "white",
             "startlinecolor": "#2a3f5f"
            },
            "baxis": {
             "endlinecolor": "#2a3f5f",
             "gridcolor": "white",
             "linecolor": "white",
             "minorgridcolor": "white",
             "startlinecolor": "#2a3f5f"
            },
            "type": "carpet"
           }
          ],
          "choropleth": [
           {
            "colorbar": {
             "outlinewidth": 0,
             "ticks": ""
            },
            "type": "choropleth"
           }
          ],
          "contour": [
           {
            "colorbar": {
             "outlinewidth": 0,
             "ticks": ""
            },
            "colorscale": [
             [
              0.0,
              "#0d0887"
             ],
             [
              0.1111111111111111,
              "#46039f"
             ],
             [
              0.2222222222222222,
              "#7201a8"
             ],
             [
              0.3333333333333333,
              "#9c179e"
             ],
             [
              0.4444444444444444,
              "#bd3786"
             ],
             [
              0.5555555555555556,
              "#d8576b"
             ],
             [
              0.6666666666666666,
              "#ed7953"
             ],
             [
              0.7777777777777778,
              "#fb9f3a"
             ],
             [
              0.8888888888888888,
              "#fdca26"
             ],
             [
              1.0,
              "#f0f921"
             ]
            ],
            "type": "contour"
           }
          ],
          "contourcarpet": [
           {
            "colorbar": {
             "outlinewidth": 0,
             "ticks": ""
            },
            "type": "contourcarpet"
           }
          ],
          "heatmap": [
           {
            "colorbar": {
             "outlinewidth": 0,
             "ticks": ""
            },
            "colorscale": [
             [
              0.0,
              "#0d0887"
             ],
             [
              0.1111111111111111,
              "#46039f"
             ],
             [
              0.2222222222222222,
              "#7201a8"
             ],
             [
              0.3333333333333333,
              "#9c179e"
             ],
             [
              0.4444444444444444,
              "#bd3786"
             ],
             [
              0.5555555555555556,
              "#d8576b"
             ],
             [
              0.6666666666666666,
              "#ed7953"
             ],
             [
              0.7777777777777778,
              "#fb9f3a"
             ],
             [
              0.8888888888888888,
              "#fdca26"
             ],
             [
              1.0,
              "#f0f921"
             ]
            ],
            "type": "heatmap"
           }
          ],
          "heatmapgl": [
           {
            "colorbar": {
             "outlinewidth": 0,
             "ticks": ""
            },
            "colorscale": [
             [
              0.0,
              "#0d0887"
             ],
             [
              0.1111111111111111,
              "#46039f"
             ],
             [
              0.2222222222222222,
              "#7201a8"
             ],
             [
              0.3333333333333333,
              "#9c179e"
             ],
             [
              0.4444444444444444,
              "#bd3786"
             ],
             [
              0.5555555555555556,
              "#d8576b"
             ],
             [
              0.6666666666666666,
              "#ed7953"
             ],
             [
              0.7777777777777778,
              "#fb9f3a"
             ],
             [
              0.8888888888888888,
              "#fdca26"
             ],
             [
              1.0,
              "#f0f921"
             ]
            ],
            "type": "heatmapgl"
           }
          ],
          "histogram": [
           {
            "marker": {
             "pattern": {
              "fillmode": "overlay",
              "size": 10,
              "solidity": 0.2
             }
            },
            "type": "histogram"
           }
          ],
          "histogram2d": [
           {
            "colorbar": {
             "outlinewidth": 0,
             "ticks": ""
            },
            "colorscale": [
             [
              0.0,
              "#0d0887"
             ],
             [
              0.1111111111111111,
              "#46039f"
             ],
             [
              0.2222222222222222,
              "#7201a8"
             ],
             [
              0.3333333333333333,
              "#9c179e"
             ],
             [
              0.4444444444444444,
              "#bd3786"
             ],
             [
              0.5555555555555556,
              "#d8576b"
             ],
             [
              0.6666666666666666,
              "#ed7953"
             ],
             [
              0.7777777777777778,
              "#fb9f3a"
             ],
             [
              0.8888888888888888,
              "#fdca26"
             ],
             [
              1.0,
              "#f0f921"
             ]
            ],
            "type": "histogram2d"
           }
          ],
          "histogram2dcontour": [
           {
            "colorbar": {
             "outlinewidth": 0,
             "ticks": ""
            },
            "colorscale": [
             [
              0.0,
              "#0d0887"
             ],
             [
              0.1111111111111111,
              "#46039f"
             ],
             [
              0.2222222222222222,
              "#7201a8"
             ],
             [
              0.3333333333333333,
              "#9c179e"
             ],
             [
              0.4444444444444444,
              "#bd3786"
             ],
             [
              0.5555555555555556,
              "#d8576b"
             ],
             [
              0.6666666666666666,
              "#ed7953"
             ],
             [
              0.7777777777777778,
              "#fb9f3a"
             ],
             [
              0.8888888888888888,
              "#fdca26"
             ],
             [
              1.0,
              "#f0f921"
             ]
            ],
            "type": "histogram2dcontour"
           }
          ],
          "mesh3d": [
           {
            "colorbar": {
             "outlinewidth": 0,
             "ticks": ""
            },
            "type": "mesh3d"
           }
          ],
          "parcoords": [
           {
            "line": {
             "colorbar": {
              "outlinewidth": 0,
              "ticks": ""
             }
            },
            "type": "parcoords"
           }
          ],
          "pie": [
           {
            "automargin": true,
            "type": "pie"
           }
          ],
          "scatter": [
           {
            "marker": {
             "colorbar": {
              "outlinewidth": 0,
              "ticks": ""
             }
            },
            "type": "scatter"
           }
          ],
          "scatter3d": [
           {
            "line": {
             "colorbar": {
              "outlinewidth": 0,
              "ticks": ""
             }
            },
            "marker": {
             "colorbar": {
              "outlinewidth": 0,
              "ticks": ""
             }
            },
            "type": "scatter3d"
           }
          ],
          "scattercarpet": [
           {
            "marker": {
             "colorbar": {
              "outlinewidth": 0,
              "ticks": ""
             }
            },
            "type": "scattercarpet"
           }
          ],
          "scattergeo": [
           {
            "marker": {
             "colorbar": {
              "outlinewidth": 0,
              "ticks": ""
             }
            },
            "type": "scattergeo"
           }
          ],
          "scattergl": [
           {
            "marker": {
             "colorbar": {
              "outlinewidth": 0,
              "ticks": ""
             }
            },
            "type": "scattergl"
           }
          ],
          "scattermapbox": [
           {
            "marker": {
             "colorbar": {
              "outlinewidth": 0,
              "ticks": ""
             }
            },
            "type": "scattermapbox"
           }
          ],
          "scatterpolar": [
           {
            "marker": {
             "colorbar": {
              "outlinewidth": 0,
              "ticks": ""
             }
            },
            "type": "scatterpolar"
           }
          ],
          "scatterpolargl": [
           {
            "marker": {
             "colorbar": {
              "outlinewidth": 0,
              "ticks": ""
             }
            },
            "type": "scatterpolargl"
           }
          ],
          "scatterternary": [
           {
            "marker": {
             "colorbar": {
              "outlinewidth": 0,
              "ticks": ""
             }
            },
            "type": "scatterternary"
           }
          ],
          "surface": [
           {
            "colorbar": {
             "outlinewidth": 0,
             "ticks": ""
            },
            "colorscale": [
             [
              0.0,
              "#0d0887"
             ],
             [
              0.1111111111111111,
              "#46039f"
             ],
             [
              0.2222222222222222,
              "#7201a8"
             ],
             [
              0.3333333333333333,
              "#9c179e"
             ],
             [
              0.4444444444444444,
              "#bd3786"
             ],
             [
              0.5555555555555556,
              "#d8576b"
             ],
             [
              0.6666666666666666,
              "#ed7953"
             ],
             [
              0.7777777777777778,
              "#fb9f3a"
             ],
             [
              0.8888888888888888,
              "#fdca26"
             ],
             [
              1.0,
              "#f0f921"
             ]
            ],
            "type": "surface"
           }
          ],
          "table": [
           {
            "cells": {
             "fill": {
              "color": "#EBF0F8"
             },
             "line": {
              "color": "white"
             }
            },
            "header": {
             "fill": {
              "color": "#C8D4E3"
             },
             "line": {
              "color": "white"
             }
            },
            "type": "table"
           }
          ]
         },
         "layout": {
          "annotationdefaults": {
           "arrowcolor": "#2a3f5f",
           "arrowhead": 0,
           "arrowwidth": 1
          },
          "autotypenumbers": "strict",
          "coloraxis": {
           "colorbar": {
            "outlinewidth": 0,
            "ticks": ""
           }
          },
          "colorscale": {
           "diverging": [
            [
             0,
             "#8e0152"
            ],
            [
             0.1,
             "#c51b7d"
            ],
            [
             0.2,
             "#de77ae"
            ],
            [
             0.3,
             "#f1b6da"
            ],
            [
             0.4,
             "#fde0ef"
            ],
            [
             0.5,
             "#f7f7f7"
            ],
            [
             0.6,
             "#e6f5d0"
            ],
            [
             0.7,
             "#b8e186"
            ],
            [
             0.8,
             "#7fbc41"
            ],
            [
             0.9,
             "#4d9221"
            ],
            [
             1,
             "#276419"
            ]
           ],
           "sequential": [
            [
             0.0,
             "#0d0887"
            ],
            [
             0.1111111111111111,
             "#46039f"
            ],
            [
             0.2222222222222222,
             "#7201a8"
            ],
            [
             0.3333333333333333,
             "#9c179e"
            ],
            [
             0.4444444444444444,
             "#bd3786"
            ],
            [
             0.5555555555555556,
             "#d8576b"
            ],
            [
             0.6666666666666666,
             "#ed7953"
            ],
            [
             0.7777777777777778,
             "#fb9f3a"
            ],
            [
             0.8888888888888888,
             "#fdca26"
            ],
            [
             1.0,
             "#f0f921"
            ]
           ],
           "sequentialminus": [
            [
             0.0,
             "#0d0887"
            ],
            [
             0.1111111111111111,
             "#46039f"
            ],
            [
             0.2222222222222222,
             "#7201a8"
            ],
            [
             0.3333333333333333,
             "#9c179e"
            ],
            [
             0.4444444444444444,
             "#bd3786"
            ],
            [
             0.5555555555555556,
             "#d8576b"
            ],
            [
             0.6666666666666666,
             "#ed7953"
            ],
            [
             0.7777777777777778,
             "#fb9f3a"
            ],
            [
             0.8888888888888888,
             "#fdca26"
            ],
            [
             1.0,
             "#f0f921"
            ]
           ]
          },
          "colorway": [
           "#636efa",
           "#EF553B",
           "#00cc96",
           "#ab63fa",
           "#FFA15A",
           "#19d3f3",
           "#FF6692",
           "#B6E880",
           "#FF97FF",
           "#FECB52"
          ],
          "font": {
           "color": "#2a3f5f"
          },
          "geo": {
           "bgcolor": "white",
           "lakecolor": "white",
           "landcolor": "#E5ECF6",
           "showlakes": true,
           "showland": true,
           "subunitcolor": "white"
          },
          "hoverlabel": {
           "align": "left"
          },
          "hovermode": "closest",
          "mapbox": {
           "style": "light"
          },
          "paper_bgcolor": "white",
          "plot_bgcolor": "#E5ECF6",
          "polar": {
           "angularaxis": {
            "gridcolor": "white",
            "linecolor": "white",
            "ticks": ""
           },
           "bgcolor": "#E5ECF6",
           "radialaxis": {
            "gridcolor": "white",
            "linecolor": "white",
            "ticks": ""
           }
          },
          "scene": {
           "xaxis": {
            "backgroundcolor": "#E5ECF6",
            "gridcolor": "white",
            "gridwidth": 2,
            "linecolor": "white",
            "showbackground": true,
            "ticks": "",
            "zerolinecolor": "white"
           },
           "yaxis": {
            "backgroundcolor": "#E5ECF6",
            "gridcolor": "white",
            "gridwidth": 2,
            "linecolor": "white",
            "showbackground": true,
            "ticks": "",
            "zerolinecolor": "white"
           },
           "zaxis": {
            "backgroundcolor": "#E5ECF6",
            "gridcolor": "white",
            "gridwidth": 2,
            "linecolor": "white",
            "showbackground": true,
            "ticks": "",
            "zerolinecolor": "white"
           }
          },
          "shapedefaults": {
           "line": {
            "color": "#2a3f5f"
           }
          },
          "ternary": {
           "aaxis": {
            "gridcolor": "white",
            "linecolor": "white",
            "ticks": ""
           },
           "baxis": {
            "gridcolor": "white",
            "linecolor": "white",
            "ticks": ""
           },
           "bgcolor": "#E5ECF6",
           "caxis": {
            "gridcolor": "white",
            "linecolor": "white",
            "ticks": ""
           }
          },
          "title": {
           "x": 0.05
          },
          "xaxis": {
           "automargin": true,
           "gridcolor": "white",
           "linecolor": "white",
           "ticks": "",
           "title": {
            "standoff": 15
           },
           "zerolinecolor": "white",
           "zerolinewidth": 2
          },
          "yaxis": {
           "automargin": true,
           "gridcolor": "white",
           "linecolor": "white",
           "ticks": "",
           "title": {
            "standoff": 15
           },
           "zerolinecolor": "white",
           "zerolinewidth": 2
          }
         }
        },
        "xaxis": {
         "anchor": "y",
         "domain": [
          0.0,
          1.0
         ],
         "title": {
          "text": "Location"
         },
         "categoryorder": "array",
         "categoryarray": [
          "Austria",
          "Czechia",
          "Australia",
          "United States",
          "Belgium"
         ]
        },
        "yaxis": {
         "anchor": "x",
         "domain": [
          0.0,
          1.0
         ],
         "title": {
          "text": "Attitudes towards working mothers [%]"
         }
        },
        "legend": {
         "title": {
          "text": "Countries"
         },
         "tracegroupgap": 0
        },
        "title": {
         "text": "Discrimination in the family 2019"
        },
        "barmode": "relative"
       },
       "config": {
        "plotlyServerURL": "https://plot.ly"
       }
      },
      "text/html": "<div>                            <div id=\"58654f3e-b757-4a3b-9e6a-deae8a6719fb\" class=\"plotly-graph-div\" style=\"height:525px; width:100%;\"></div>            <script type=\"text/javascript\">                require([\"plotly\"], function(Plotly) {                    window.PLOTLYENV=window.PLOTLYENV || {};                                    if (document.getElementById(\"58654f3e-b757-4a3b-9e6a-deae8a6719fb\")) {                    Plotly.newPlot(                        \"58654f3e-b757-4a3b-9e6a-deae8a6719fb\",                        [{\"alignmentgroup\":\"True\",\"hovertemplate\":\"LOCATION=%{x}<br>Value=%{y}<extra></extra>\",\"legendgroup\":\"Austria\",\"marker\":{\"color\":\"#636efa\",\"pattern\":{\"shape\":\"\"}},\"name\":\"Austria\",\"offsetgroup\":\"Austria\",\"orientation\":\"v\",\"showlegend\":true,\"textposition\":\"auto\",\"x\":[\"Austria\"],\"xaxis\":\"x\",\"y\":[58.3],\"yaxis\":\"y\",\"type\":\"bar\"},{\"alignmentgroup\":\"True\",\"hovertemplate\":\"LOCATION=%{x}<br>Value=%{y}<extra></extra>\",\"legendgroup\":\"Czechia\",\"marker\":{\"color\":\"#EF553B\",\"pattern\":{\"shape\":\"\"}},\"name\":\"Czechia\",\"offsetgroup\":\"Czechia\",\"orientation\":\"v\",\"showlegend\":true,\"textposition\":\"auto\",\"x\":[\"Czechia\"],\"xaxis\":\"x\",\"y\":[32.5],\"yaxis\":\"y\",\"type\":\"bar\"},{\"alignmentgroup\":\"True\",\"hovertemplate\":\"LOCATION=%{x}<br>Value=%{y}<extra></extra>\",\"legendgroup\":\"Australia\",\"marker\":{\"color\":\"#00cc96\",\"pattern\":{\"shape\":\"\"}},\"name\":\"Australia\",\"offsetgroup\":\"Australia\",\"orientation\":\"v\",\"showlegend\":true,\"textposition\":\"auto\",\"x\":[\"Australia\"],\"xaxis\":\"x\",\"y\":[21.1],\"yaxis\":\"y\",\"type\":\"bar\"},{\"alignmentgroup\":\"True\",\"hovertemplate\":\"LOCATION=%{x}<br>Value=%{y}<extra></extra>\",\"legendgroup\":\"United States\",\"marker\":{\"color\":\"#ab63fa\",\"pattern\":{\"shape\":\"\"}},\"name\":\"United States\",\"offsetgroup\":\"United States\",\"orientation\":\"v\",\"showlegend\":true,\"textposition\":\"auto\",\"x\":[\"United States\"],\"xaxis\":\"x\",\"y\":[24.9],\"yaxis\":\"y\",\"type\":\"bar\"},{\"alignmentgroup\":\"True\",\"hovertemplate\":\"LOCATION=%{x}<br>Value=%{y}<extra></extra>\",\"legendgroup\":\"Belgium\",\"marker\":{\"color\":\"#FFA15A\",\"pattern\":{\"shape\":\"\"}},\"name\":\"Belgium\",\"offsetgroup\":\"Belgium\",\"orientation\":\"v\",\"showlegend\":true,\"textposition\":\"auto\",\"x\":[\"Belgium\"],\"xaxis\":\"x\",\"y\":[32.0],\"yaxis\":\"y\",\"type\":\"bar\"}],                        {\"template\":{\"data\":{\"bar\":[{\"error_x\":{\"color\":\"#2a3f5f\"},\"error_y\":{\"color\":\"#2a3f5f\"},\"marker\":{\"line\":{\"color\":\"#E5ECF6\",\"width\":0.5},\"pattern\":{\"fillmode\":\"overlay\",\"size\":10,\"solidity\":0.2}},\"type\":\"bar\"}],\"barpolar\":[{\"marker\":{\"line\":{\"color\":\"#E5ECF6\",\"width\":0.5},\"pattern\":{\"fillmode\":\"overlay\",\"size\":10,\"solidity\":0.2}},\"type\":\"barpolar\"}],\"carpet\":[{\"aaxis\":{\"endlinecolor\":\"#2a3f5f\",\"gridcolor\":\"white\",\"linecolor\":\"white\",\"minorgridcolor\":\"white\",\"startlinecolor\":\"#2a3f5f\"},\"baxis\":{\"endlinecolor\":\"#2a3f5f\",\"gridcolor\":\"white\",\"linecolor\":\"white\",\"minorgridcolor\":\"white\",\"startlinecolor\":\"#2a3f5f\"},\"type\":\"carpet\"}],\"choropleth\":[{\"colorbar\":{\"outlinewidth\":0,\"ticks\":\"\"},\"type\":\"choropleth\"}],\"contour\":[{\"colorbar\":{\"outlinewidth\":0,\"ticks\":\"\"},\"colorscale\":[[0.0,\"#0d0887\"],[0.1111111111111111,\"#46039f\"],[0.2222222222222222,\"#7201a8\"],[0.3333333333333333,\"#9c179e\"],[0.4444444444444444,\"#bd3786\"],[0.5555555555555556,\"#d8576b\"],[0.6666666666666666,\"#ed7953\"],[0.7777777777777778,\"#fb9f3a\"],[0.8888888888888888,\"#fdca26\"],[1.0,\"#f0f921\"]],\"type\":\"contour\"}],\"contourcarpet\":[{\"colorbar\":{\"outlinewidth\":0,\"ticks\":\"\"},\"type\":\"contourcarpet\"}],\"heatmap\":[{\"colorbar\":{\"outlinewidth\":0,\"ticks\":\"\"},\"colorscale\":[[0.0,\"#0d0887\"],[0.1111111111111111,\"#46039f\"],[0.2222222222222222,\"#7201a8\"],[0.3333333333333333,\"#9c179e\"],[0.4444444444444444,\"#bd3786\"],[0.5555555555555556,\"#d8576b\"],[0.6666666666666666,\"#ed7953\"],[0.7777777777777778,\"#fb9f3a\"],[0.8888888888888888,\"#fdca26\"],[1.0,\"#f0f921\"]],\"type\":\"heatmap\"}],\"heatmapgl\":[{\"colorbar\":{\"outlinewidth\":0,\"ticks\":\"\"},\"colorscale\":[[0.0,\"#0d0887\"],[0.1111111111111111,\"#46039f\"],[0.2222222222222222,\"#7201a8\"],[0.3333333333333333,\"#9c179e\"],[0.4444444444444444,\"#bd3786\"],[0.5555555555555556,\"#d8576b\"],[0.6666666666666666,\"#ed7953\"],[0.7777777777777778,\"#fb9f3a\"],[0.8888888888888888,\"#fdca26\"],[1.0,\"#f0f921\"]],\"type\":\"heatmapgl\"}],\"histogram\":[{\"marker\":{\"pattern\":{\"fillmode\":\"overlay\",\"size\":10,\"solidity\":0.2}},\"type\":\"histogram\"}],\"histogram2d\":[{\"colorbar\":{\"outlinewidth\":0,\"ticks\":\"\"},\"colorscale\":[[0.0,\"#0d0887\"],[0.1111111111111111,\"#46039f\"],[0.2222222222222222,\"#7201a8\"],[0.3333333333333333,\"#9c179e\"],[0.4444444444444444,\"#bd3786\"],[0.5555555555555556,\"#d8576b\"],[0.6666666666666666,\"#ed7953\"],[0.7777777777777778,\"#fb9f3a\"],[0.8888888888888888,\"#fdca26\"],[1.0,\"#f0f921\"]],\"type\":\"histogram2d\"}],\"histogram2dcontour\":[{\"colorbar\":{\"outlinewidth\":0,\"ticks\":\"\"},\"colorscale\":[[0.0,\"#0d0887\"],[0.1111111111111111,\"#46039f\"],[0.2222222222222222,\"#7201a8\"],[0.3333333333333333,\"#9c179e\"],[0.4444444444444444,\"#bd3786\"],[0.5555555555555556,\"#d8576b\"],[0.6666666666666666,\"#ed7953\"],[0.7777777777777778,\"#fb9f3a\"],[0.8888888888888888,\"#fdca26\"],[1.0,\"#f0f921\"]],\"type\":\"histogram2dcontour\"}],\"mesh3d\":[{\"colorbar\":{\"outlinewidth\":0,\"ticks\":\"\"},\"type\":\"mesh3d\"}],\"parcoords\":[{\"line\":{\"colorbar\":{\"outlinewidth\":0,\"ticks\":\"\"}},\"type\":\"parcoords\"}],\"pie\":[{\"automargin\":true,\"type\":\"pie\"}],\"scatter\":[{\"marker\":{\"colorbar\":{\"outlinewidth\":0,\"ticks\":\"\"}},\"type\":\"scatter\"}],\"scatter3d\":[{\"line\":{\"colorbar\":{\"outlinewidth\":0,\"ticks\":\"\"}},\"marker\":{\"colorbar\":{\"outlinewidth\":0,\"ticks\":\"\"}},\"type\":\"scatter3d\"}],\"scattercarpet\":[{\"marker\":{\"colorbar\":{\"outlinewidth\":0,\"ticks\":\"\"}},\"type\":\"scattercarpet\"}],\"scattergeo\":[{\"marker\":{\"colorbar\":{\"outlinewidth\":0,\"ticks\":\"\"}},\"type\":\"scattergeo\"}],\"scattergl\":[{\"marker\":{\"colorbar\":{\"outlinewidth\":0,\"ticks\":\"\"}},\"type\":\"scattergl\"}],\"scattermapbox\":[{\"marker\":{\"colorbar\":{\"outlinewidth\":0,\"ticks\":\"\"}},\"type\":\"scattermapbox\"}],\"scatterpolar\":[{\"marker\":{\"colorbar\":{\"outlinewidth\":0,\"ticks\":\"\"}},\"type\":\"scatterpolar\"}],\"scatterpolargl\":[{\"marker\":{\"colorbar\":{\"outlinewidth\":0,\"ticks\":\"\"}},\"type\":\"scatterpolargl\"}],\"scatterternary\":[{\"marker\":{\"colorbar\":{\"outlinewidth\":0,\"ticks\":\"\"}},\"type\":\"scatterternary\"}],\"surface\":[{\"colorbar\":{\"outlinewidth\":0,\"ticks\":\"\"},\"colorscale\":[[0.0,\"#0d0887\"],[0.1111111111111111,\"#46039f\"],[0.2222222222222222,\"#7201a8\"],[0.3333333333333333,\"#9c179e\"],[0.4444444444444444,\"#bd3786\"],[0.5555555555555556,\"#d8576b\"],[0.6666666666666666,\"#ed7953\"],[0.7777777777777778,\"#fb9f3a\"],[0.8888888888888888,\"#fdca26\"],[1.0,\"#f0f921\"]],\"type\":\"surface\"}],\"table\":[{\"cells\":{\"fill\":{\"color\":\"#EBF0F8\"},\"line\":{\"color\":\"white\"}},\"header\":{\"fill\":{\"color\":\"#C8D4E3\"},\"line\":{\"color\":\"white\"}},\"type\":\"table\"}]},\"layout\":{\"annotationdefaults\":{\"arrowcolor\":\"#2a3f5f\",\"arrowhead\":0,\"arrowwidth\":1},\"autotypenumbers\":\"strict\",\"coloraxis\":{\"colorbar\":{\"outlinewidth\":0,\"ticks\":\"\"}},\"colorscale\":{\"diverging\":[[0,\"#8e0152\"],[0.1,\"#c51b7d\"],[0.2,\"#de77ae\"],[0.3,\"#f1b6da\"],[0.4,\"#fde0ef\"],[0.5,\"#f7f7f7\"],[0.6,\"#e6f5d0\"],[0.7,\"#b8e186\"],[0.8,\"#7fbc41\"],[0.9,\"#4d9221\"],[1,\"#276419\"]],\"sequential\":[[0.0,\"#0d0887\"],[0.1111111111111111,\"#46039f\"],[0.2222222222222222,\"#7201a8\"],[0.3333333333333333,\"#9c179e\"],[0.4444444444444444,\"#bd3786\"],[0.5555555555555556,\"#d8576b\"],[0.6666666666666666,\"#ed7953\"],[0.7777777777777778,\"#fb9f3a\"],[0.8888888888888888,\"#fdca26\"],[1.0,\"#f0f921\"]],\"sequentialminus\":[[0.0,\"#0d0887\"],[0.1111111111111111,\"#46039f\"],[0.2222222222222222,\"#7201a8\"],[0.3333333333333333,\"#9c179e\"],[0.4444444444444444,\"#bd3786\"],[0.5555555555555556,\"#d8576b\"],[0.6666666666666666,\"#ed7953\"],[0.7777777777777778,\"#fb9f3a\"],[0.8888888888888888,\"#fdca26\"],[1.0,\"#f0f921\"]]},\"colorway\":[\"#636efa\",\"#EF553B\",\"#00cc96\",\"#ab63fa\",\"#FFA15A\",\"#19d3f3\",\"#FF6692\",\"#B6E880\",\"#FF97FF\",\"#FECB52\"],\"font\":{\"color\":\"#2a3f5f\"},\"geo\":{\"bgcolor\":\"white\",\"lakecolor\":\"white\",\"landcolor\":\"#E5ECF6\",\"showlakes\":true,\"showland\":true,\"subunitcolor\":\"white\"},\"hoverlabel\":{\"align\":\"left\"},\"hovermode\":\"closest\",\"mapbox\":{\"style\":\"light\"},\"paper_bgcolor\":\"white\",\"plot_bgcolor\":\"#E5ECF6\",\"polar\":{\"angularaxis\":{\"gridcolor\":\"white\",\"linecolor\":\"white\",\"ticks\":\"\"},\"bgcolor\":\"#E5ECF6\",\"radialaxis\":{\"gridcolor\":\"white\",\"linecolor\":\"white\",\"ticks\":\"\"}},\"scene\":{\"xaxis\":{\"backgroundcolor\":\"#E5ECF6\",\"gridcolor\":\"white\",\"gridwidth\":2,\"linecolor\":\"white\",\"showbackground\":true,\"ticks\":\"\",\"zerolinecolor\":\"white\"},\"yaxis\":{\"backgroundcolor\":\"#E5ECF6\",\"gridcolor\":\"white\",\"gridwidth\":2,\"linecolor\":\"white\",\"showbackground\":true,\"ticks\":\"\",\"zerolinecolor\":\"white\"},\"zaxis\":{\"backgroundcolor\":\"#E5ECF6\",\"gridcolor\":\"white\",\"gridwidth\":2,\"linecolor\":\"white\",\"showbackground\":true,\"ticks\":\"\",\"zerolinecolor\":\"white\"}},\"shapedefaults\":{\"line\":{\"color\":\"#2a3f5f\"}},\"ternary\":{\"aaxis\":{\"gridcolor\":\"white\",\"linecolor\":\"white\",\"ticks\":\"\"},\"baxis\":{\"gridcolor\":\"white\",\"linecolor\":\"white\",\"ticks\":\"\"},\"bgcolor\":\"#E5ECF6\",\"caxis\":{\"gridcolor\":\"white\",\"linecolor\":\"white\",\"ticks\":\"\"}},\"title\":{\"x\":0.05},\"xaxis\":{\"automargin\":true,\"gridcolor\":\"white\",\"linecolor\":\"white\",\"ticks\":\"\",\"title\":{\"standoff\":15},\"zerolinecolor\":\"white\",\"zerolinewidth\":2},\"yaxis\":{\"automargin\":true,\"gridcolor\":\"white\",\"linecolor\":\"white\",\"ticks\":\"\",\"title\":{\"standoff\":15},\"zerolinecolor\":\"white\",\"zerolinewidth\":2}}},\"xaxis\":{\"anchor\":\"y\",\"domain\":[0.0,1.0],\"title\":{\"text\":\"Location\"},\"categoryorder\":\"array\",\"categoryarray\":[\"Austria\",\"Czechia\",\"Australia\",\"United States\",\"Belgium\"]},\"yaxis\":{\"anchor\":\"x\",\"domain\":[0.0,1.0],\"title\":{\"text\":\"Attitudes towards working mothers [%]\"}},\"legend\":{\"title\":{\"text\":\"Countries\"},\"tracegroupgap\":0},\"title\":{\"text\":\"Discrimination in the family 2019\"},\"barmode\":\"relative\"},                        {\"responsive\": true}                    ).then(function(){\n                            \nvar gd = document.getElementById('58654f3e-b757-4a3b-9e6a-deae8a6719fb');\nvar x = new MutationObserver(function (mutations, observer) {{\n        var display = window.getComputedStyle(gd).display;\n        if (!display || display === 'none') {{\n            console.log([gd, 'removed!']);\n            Plotly.purge(gd);\n            observer.disconnect();\n        }}\n}});\n\n// Listen for the removal of the full notebook cells\nvar notebookContainer = gd.closest('#notebook-container');\nif (notebookContainer) {{\n    x.observe(notebookContainer, {childList: true});\n}}\n\n// Listen for the clearing of the current output cell\nvar outputEl = gd.closest('.output');\nif (outputEl) {{\n    x.observe(outputEl, {childList: true});\n}}\n\n                        })                };                });            </script>        </div>"
     },
     "metadata": {},
     "output_type": "display_data"
    },
    {
     "data": {
      "application/vnd.plotly.v1+json": {
       "data": [
        {
         "alignmentgroup": "True",
         "hovertemplate": "LOCATION=%{x}<br>Value=%{y}<extra></extra>",
         "legendgroup": "Austria",
         "marker": {
          "color": "#636efa",
          "pattern": {
           "shape": ""
          }
         },
         "name": "Austria",
         "offsetgroup": "Austria",
         "orientation": "v",
         "showlegend": true,
         "textposition": "auto",
         "x": [
          "Austria"
         ],
         "xaxis": "x",
         "y": [
          0.28
         ],
         "yaxis": "y",
         "type": "bar"
        },
        {
         "alignmentgroup": "True",
         "hovertemplate": "LOCATION=%{x}<br>Value=%{y}<extra></extra>",
         "legendgroup": "Germany",
         "marker": {
          "color": "#EF553B",
          "pattern": {
           "shape": ""
          }
         },
         "name": "Germany",
         "offsetgroup": "Germany",
         "orientation": "v",
         "showlegend": true,
         "textposition": "auto",
         "x": [
          "Germany"
         ],
         "xaxis": "x",
         "y": [
          0.289
         ],
         "yaxis": "y",
         "type": "bar"
        },
        {
         "alignmentgroup": "True",
         "hovertemplate": "LOCATION=%{x}<br>Value=%{y}<extra></extra>",
         "legendgroup": "Italy",
         "marker": {
          "color": "#00cc96",
          "pattern": {
           "shape": ""
          }
         },
         "name": "Italy",
         "offsetgroup": "Italy",
         "orientation": "v",
         "showlegend": true,
         "textposition": "auto",
         "x": [
          "Italy"
         ],
         "xaxis": "x",
         "y": [
          0.33
         ],
         "yaxis": "y",
         "type": "bar"
        },
        {
         "alignmentgroup": "True",
         "hovertemplate": "LOCATION=%{x}<br>Value=%{y}<extra></extra>",
         "legendgroup": "Australia",
         "marker": {
          "color": "#ab63fa",
          "pattern": {
           "shape": ""
          }
         },
         "name": "Australia",
         "offsetgroup": "Australia",
         "orientation": "v",
         "showlegend": true,
         "textposition": "auto",
         "x": [
          "Australia"
         ],
         "xaxis": "x",
         "y": [
          0.325
         ],
         "yaxis": "y",
         "type": "bar"
        },
        {
         "alignmentgroup": "True",
         "hovertemplate": "LOCATION=%{x}<br>Value=%{y}<extra></extra>",
         "legendgroup": "Belgium",
         "marker": {
          "color": "#FFA15A",
          "pattern": {
           "shape": ""
          }
         },
         "name": "Belgium",
         "offsetgroup": "Belgium",
         "orientation": "v",
         "showlegend": true,
         "textposition": "auto",
         "x": [
          "Belgium"
         ],
         "xaxis": "x",
         "y": [
          0.258
         ],
         "yaxis": "y",
         "type": "bar"
        }
       ],
       "layout": {
        "template": {
         "data": {
          "bar": [
           {
            "error_x": {
             "color": "#2a3f5f"
            },
            "error_y": {
             "color": "#2a3f5f"
            },
            "marker": {
             "line": {
              "color": "#E5ECF6",
              "width": 0.5
             },
             "pattern": {
              "fillmode": "overlay",
              "size": 10,
              "solidity": 0.2
             }
            },
            "type": "bar"
           }
          ],
          "barpolar": [
           {
            "marker": {
             "line": {
              "color": "#E5ECF6",
              "width": 0.5
             },
             "pattern": {
              "fillmode": "overlay",
              "size": 10,
              "solidity": 0.2
             }
            },
            "type": "barpolar"
           }
          ],
          "carpet": [
           {
            "aaxis": {
             "endlinecolor": "#2a3f5f",
             "gridcolor": "white",
             "linecolor": "white",
             "minorgridcolor": "white",
             "startlinecolor": "#2a3f5f"
            },
            "baxis": {
             "endlinecolor": "#2a3f5f",
             "gridcolor": "white",
             "linecolor": "white",
             "minorgridcolor": "white",
             "startlinecolor": "#2a3f5f"
            },
            "type": "carpet"
           }
          ],
          "choropleth": [
           {
            "colorbar": {
             "outlinewidth": 0,
             "ticks": ""
            },
            "type": "choropleth"
           }
          ],
          "contour": [
           {
            "colorbar": {
             "outlinewidth": 0,
             "ticks": ""
            },
            "colorscale": [
             [
              0.0,
              "#0d0887"
             ],
             [
              0.1111111111111111,
              "#46039f"
             ],
             [
              0.2222222222222222,
              "#7201a8"
             ],
             [
              0.3333333333333333,
              "#9c179e"
             ],
             [
              0.4444444444444444,
              "#bd3786"
             ],
             [
              0.5555555555555556,
              "#d8576b"
             ],
             [
              0.6666666666666666,
              "#ed7953"
             ],
             [
              0.7777777777777778,
              "#fb9f3a"
             ],
             [
              0.8888888888888888,
              "#fdca26"
             ],
             [
              1.0,
              "#f0f921"
             ]
            ],
            "type": "contour"
           }
          ],
          "contourcarpet": [
           {
            "colorbar": {
             "outlinewidth": 0,
             "ticks": ""
            },
            "type": "contourcarpet"
           }
          ],
          "heatmap": [
           {
            "colorbar": {
             "outlinewidth": 0,
             "ticks": ""
            },
            "colorscale": [
             [
              0.0,
              "#0d0887"
             ],
             [
              0.1111111111111111,
              "#46039f"
             ],
             [
              0.2222222222222222,
              "#7201a8"
             ],
             [
              0.3333333333333333,
              "#9c179e"
             ],
             [
              0.4444444444444444,
              "#bd3786"
             ],
             [
              0.5555555555555556,
              "#d8576b"
             ],
             [
              0.6666666666666666,
              "#ed7953"
             ],
             [
              0.7777777777777778,
              "#fb9f3a"
             ],
             [
              0.8888888888888888,
              "#fdca26"
             ],
             [
              1.0,
              "#f0f921"
             ]
            ],
            "type": "heatmap"
           }
          ],
          "heatmapgl": [
           {
            "colorbar": {
             "outlinewidth": 0,
             "ticks": ""
            },
            "colorscale": [
             [
              0.0,
              "#0d0887"
             ],
             [
              0.1111111111111111,
              "#46039f"
             ],
             [
              0.2222222222222222,
              "#7201a8"
             ],
             [
              0.3333333333333333,
              "#9c179e"
             ],
             [
              0.4444444444444444,
              "#bd3786"
             ],
             [
              0.5555555555555556,
              "#d8576b"
             ],
             [
              0.6666666666666666,
              "#ed7953"
             ],
             [
              0.7777777777777778,
              "#fb9f3a"
             ],
             [
              0.8888888888888888,
              "#fdca26"
             ],
             [
              1.0,
              "#f0f921"
             ]
            ],
            "type": "heatmapgl"
           }
          ],
          "histogram": [
           {
            "marker": {
             "pattern": {
              "fillmode": "overlay",
              "size": 10,
              "solidity": 0.2
             }
            },
            "type": "histogram"
           }
          ],
          "histogram2d": [
           {
            "colorbar": {
             "outlinewidth": 0,
             "ticks": ""
            },
            "colorscale": [
             [
              0.0,
              "#0d0887"
             ],
             [
              0.1111111111111111,
              "#46039f"
             ],
             [
              0.2222222222222222,
              "#7201a8"
             ],
             [
              0.3333333333333333,
              "#9c179e"
             ],
             [
              0.4444444444444444,
              "#bd3786"
             ],
             [
              0.5555555555555556,
              "#d8576b"
             ],
             [
              0.6666666666666666,
              "#ed7953"
             ],
             [
              0.7777777777777778,
              "#fb9f3a"
             ],
             [
              0.8888888888888888,
              "#fdca26"
             ],
             [
              1.0,
              "#f0f921"
             ]
            ],
            "type": "histogram2d"
           }
          ],
          "histogram2dcontour": [
           {
            "colorbar": {
             "outlinewidth": 0,
             "ticks": ""
            },
            "colorscale": [
             [
              0.0,
              "#0d0887"
             ],
             [
              0.1111111111111111,
              "#46039f"
             ],
             [
              0.2222222222222222,
              "#7201a8"
             ],
             [
              0.3333333333333333,
              "#9c179e"
             ],
             [
              0.4444444444444444,
              "#bd3786"
             ],
             [
              0.5555555555555556,
              "#d8576b"
             ],
             [
              0.6666666666666666,
              "#ed7953"
             ],
             [
              0.7777777777777778,
              "#fb9f3a"
             ],
             [
              0.8888888888888888,
              "#fdca26"
             ],
             [
              1.0,
              "#f0f921"
             ]
            ],
            "type": "histogram2dcontour"
           }
          ],
          "mesh3d": [
           {
            "colorbar": {
             "outlinewidth": 0,
             "ticks": ""
            },
            "type": "mesh3d"
           }
          ],
          "parcoords": [
           {
            "line": {
             "colorbar": {
              "outlinewidth": 0,
              "ticks": ""
             }
            },
            "type": "parcoords"
           }
          ],
          "pie": [
           {
            "automargin": true,
            "type": "pie"
           }
          ],
          "scatter": [
           {
            "marker": {
             "colorbar": {
              "outlinewidth": 0,
              "ticks": ""
             }
            },
            "type": "scatter"
           }
          ],
          "scatter3d": [
           {
            "line": {
             "colorbar": {
              "outlinewidth": 0,
              "ticks": ""
             }
            },
            "marker": {
             "colorbar": {
              "outlinewidth": 0,
              "ticks": ""
             }
            },
            "type": "scatter3d"
           }
          ],
          "scattercarpet": [
           {
            "marker": {
             "colorbar": {
              "outlinewidth": 0,
              "ticks": ""
             }
            },
            "type": "scattercarpet"
           }
          ],
          "scattergeo": [
           {
            "marker": {
             "colorbar": {
              "outlinewidth": 0,
              "ticks": ""
             }
            },
            "type": "scattergeo"
           }
          ],
          "scattergl": [
           {
            "marker": {
             "colorbar": {
              "outlinewidth": 0,
              "ticks": ""
             }
            },
            "type": "scattergl"
           }
          ],
          "scattermapbox": [
           {
            "marker": {
             "colorbar": {
              "outlinewidth": 0,
              "ticks": ""
             }
            },
            "type": "scattermapbox"
           }
          ],
          "scatterpolar": [
           {
            "marker": {
             "colorbar": {
              "outlinewidth": 0,
              "ticks": ""
             }
            },
            "type": "scatterpolar"
           }
          ],
          "scatterpolargl": [
           {
            "marker": {
             "colorbar": {
              "outlinewidth": 0,
              "ticks": ""
             }
            },
            "type": "scatterpolargl"
           }
          ],
          "scatterternary": [
           {
            "marker": {
             "colorbar": {
              "outlinewidth": 0,
              "ticks": ""
             }
            },
            "type": "scatterternary"
           }
          ],
          "surface": [
           {
            "colorbar": {
             "outlinewidth": 0,
             "ticks": ""
            },
            "colorscale": [
             [
              0.0,
              "#0d0887"
             ],
             [
              0.1111111111111111,
              "#46039f"
             ],
             [
              0.2222222222222222,
              "#7201a8"
             ],
             [
              0.3333333333333333,
              "#9c179e"
             ],
             [
              0.4444444444444444,
              "#bd3786"
             ],
             [
              0.5555555555555556,
              "#d8576b"
             ],
             [
              0.6666666666666666,
              "#ed7953"
             ],
             [
              0.7777777777777778,
              "#fb9f3a"
             ],
             [
              0.8888888888888888,
              "#fdca26"
             ],
             [
              1.0,
              "#f0f921"
             ]
            ],
            "type": "surface"
           }
          ],
          "table": [
           {
            "cells": {
             "fill": {
              "color": "#EBF0F8"
             },
             "line": {
              "color": "white"
             }
            },
            "header": {
             "fill": {
              "color": "#C8D4E3"
             },
             "line": {
              "color": "white"
             }
            },
            "type": "table"
           }
          ]
         },
         "layout": {
          "annotationdefaults": {
           "arrowcolor": "#2a3f5f",
           "arrowhead": 0,
           "arrowwidth": 1
          },
          "autotypenumbers": "strict",
          "coloraxis": {
           "colorbar": {
            "outlinewidth": 0,
            "ticks": ""
           }
          },
          "colorscale": {
           "diverging": [
            [
             0,
             "#8e0152"
            ],
            [
             0.1,
             "#c51b7d"
            ],
            [
             0.2,
             "#de77ae"
            ],
            [
             0.3,
             "#f1b6da"
            ],
            [
             0.4,
             "#fde0ef"
            ],
            [
             0.5,
             "#f7f7f7"
            ],
            [
             0.6,
             "#e6f5d0"
            ],
            [
             0.7,
             "#b8e186"
            ],
            [
             0.8,
             "#7fbc41"
            ],
            [
             0.9,
             "#4d9221"
            ],
            [
             1,
             "#276419"
            ]
           ],
           "sequential": [
            [
             0.0,
             "#0d0887"
            ],
            [
             0.1111111111111111,
             "#46039f"
            ],
            [
             0.2222222222222222,
             "#7201a8"
            ],
            [
             0.3333333333333333,
             "#9c179e"
            ],
            [
             0.4444444444444444,
             "#bd3786"
            ],
            [
             0.5555555555555556,
             "#d8576b"
            ],
            [
             0.6666666666666666,
             "#ed7953"
            ],
            [
             0.7777777777777778,
             "#fb9f3a"
            ],
            [
             0.8888888888888888,
             "#fdca26"
            ],
            [
             1.0,
             "#f0f921"
            ]
           ],
           "sequentialminus": [
            [
             0.0,
             "#0d0887"
            ],
            [
             0.1111111111111111,
             "#46039f"
            ],
            [
             0.2222222222222222,
             "#7201a8"
            ],
            [
             0.3333333333333333,
             "#9c179e"
            ],
            [
             0.4444444444444444,
             "#bd3786"
            ],
            [
             0.5555555555555556,
             "#d8576b"
            ],
            [
             0.6666666666666666,
             "#ed7953"
            ],
            [
             0.7777777777777778,
             "#fb9f3a"
            ],
            [
             0.8888888888888888,
             "#fdca26"
            ],
            [
             1.0,
             "#f0f921"
            ]
           ]
          },
          "colorway": [
           "#636efa",
           "#EF553B",
           "#00cc96",
           "#ab63fa",
           "#FFA15A",
           "#19d3f3",
           "#FF6692",
           "#B6E880",
           "#FF97FF",
           "#FECB52"
          ],
          "font": {
           "color": "#2a3f5f"
          },
          "geo": {
           "bgcolor": "white",
           "lakecolor": "white",
           "landcolor": "#E5ECF6",
           "showlakes": true,
           "showland": true,
           "subunitcolor": "white"
          },
          "hoverlabel": {
           "align": "left"
          },
          "hovermode": "closest",
          "mapbox": {
           "style": "light"
          },
          "paper_bgcolor": "white",
          "plot_bgcolor": "#E5ECF6",
          "polar": {
           "angularaxis": {
            "gridcolor": "white",
            "linecolor": "white",
            "ticks": ""
           },
           "bgcolor": "#E5ECF6",
           "radialaxis": {
            "gridcolor": "white",
            "linecolor": "white",
            "ticks": ""
           }
          },
          "scene": {
           "xaxis": {
            "backgroundcolor": "#E5ECF6",
            "gridcolor": "white",
            "gridwidth": 2,
            "linecolor": "white",
            "showbackground": true,
            "ticks": "",
            "zerolinecolor": "white"
           },
           "yaxis": {
            "backgroundcolor": "#E5ECF6",
            "gridcolor": "white",
            "gridwidth": 2,
            "linecolor": "white",
            "showbackground": true,
            "ticks": "",
            "zerolinecolor": "white"
           },
           "zaxis": {
            "backgroundcolor": "#E5ECF6",
            "gridcolor": "white",
            "gridwidth": 2,
            "linecolor": "white",
            "showbackground": true,
            "ticks": "",
            "zerolinecolor": "white"
           }
          },
          "shapedefaults": {
           "line": {
            "color": "#2a3f5f"
           }
          },
          "ternary": {
           "aaxis": {
            "gridcolor": "white",
            "linecolor": "white",
            "ticks": ""
           },
           "baxis": {
            "gridcolor": "white",
            "linecolor": "white",
            "ticks": ""
           },
           "bgcolor": "#E5ECF6",
           "caxis": {
            "gridcolor": "white",
            "linecolor": "white",
            "ticks": ""
           }
          },
          "title": {
           "x": 0.05
          },
          "xaxis": {
           "automargin": true,
           "gridcolor": "white",
           "linecolor": "white",
           "ticks": "",
           "title": {
            "standoff": 15
           },
           "zerolinecolor": "white",
           "zerolinewidth": 2
          },
          "yaxis": {
           "automargin": true,
           "gridcolor": "white",
           "linecolor": "white",
           "ticks": "",
           "title": {
            "standoff": 15
           },
           "zerolinecolor": "white",
           "zerolinewidth": 2
          }
         }
        },
        "xaxis": {
         "anchor": "y",
         "domain": [
          0.0,
          1.0
         ],
         "title": {
          "text": "Location"
         },
         "categoryorder": "array",
         "categoryarray": [
          "Austria",
          "Germany",
          "Italy",
          "Australia",
          "Belgium"
         ]
        },
        "yaxis": {
         "anchor": "x",
         "domain": [
          0.0,
          1.0
         ],
         "title": {
          "text": "Gini Coefficient"
         }
        },
        "legend": {
         "title": {
          "text": "Countries"
         },
         "tracegroupgap": 0
        },
        "title": {
         "text": "Income Inequality in 2018"
        },
        "barmode": "relative"
       },
       "config": {
        "plotlyServerURL": "https://plot.ly"
       }
      },
      "text/html": "<div>                            <div id=\"1bc9cf69-aac0-46cb-9769-32f196469efe\" class=\"plotly-graph-div\" style=\"height:525px; width:100%;\"></div>            <script type=\"text/javascript\">                require([\"plotly\"], function(Plotly) {                    window.PLOTLYENV=window.PLOTLYENV || {};                                    if (document.getElementById(\"1bc9cf69-aac0-46cb-9769-32f196469efe\")) {                    Plotly.newPlot(                        \"1bc9cf69-aac0-46cb-9769-32f196469efe\",                        [{\"alignmentgroup\":\"True\",\"hovertemplate\":\"LOCATION=%{x}<br>Value=%{y}<extra></extra>\",\"legendgroup\":\"Austria\",\"marker\":{\"color\":\"#636efa\",\"pattern\":{\"shape\":\"\"}},\"name\":\"Austria\",\"offsetgroup\":\"Austria\",\"orientation\":\"v\",\"showlegend\":true,\"textposition\":\"auto\",\"x\":[\"Austria\"],\"xaxis\":\"x\",\"y\":[0.28],\"yaxis\":\"y\",\"type\":\"bar\"},{\"alignmentgroup\":\"True\",\"hovertemplate\":\"LOCATION=%{x}<br>Value=%{y}<extra></extra>\",\"legendgroup\":\"Germany\",\"marker\":{\"color\":\"#EF553B\",\"pattern\":{\"shape\":\"\"}},\"name\":\"Germany\",\"offsetgroup\":\"Germany\",\"orientation\":\"v\",\"showlegend\":true,\"textposition\":\"auto\",\"x\":[\"Germany\"],\"xaxis\":\"x\",\"y\":[0.289],\"yaxis\":\"y\",\"type\":\"bar\"},{\"alignmentgroup\":\"True\",\"hovertemplate\":\"LOCATION=%{x}<br>Value=%{y}<extra></extra>\",\"legendgroup\":\"Italy\",\"marker\":{\"color\":\"#00cc96\",\"pattern\":{\"shape\":\"\"}},\"name\":\"Italy\",\"offsetgroup\":\"Italy\",\"orientation\":\"v\",\"showlegend\":true,\"textposition\":\"auto\",\"x\":[\"Italy\"],\"xaxis\":\"x\",\"y\":[0.33],\"yaxis\":\"y\",\"type\":\"bar\"},{\"alignmentgroup\":\"True\",\"hovertemplate\":\"LOCATION=%{x}<br>Value=%{y}<extra></extra>\",\"legendgroup\":\"Australia\",\"marker\":{\"color\":\"#ab63fa\",\"pattern\":{\"shape\":\"\"}},\"name\":\"Australia\",\"offsetgroup\":\"Australia\",\"orientation\":\"v\",\"showlegend\":true,\"textposition\":\"auto\",\"x\":[\"Australia\"],\"xaxis\":\"x\",\"y\":[0.325],\"yaxis\":\"y\",\"type\":\"bar\"},{\"alignmentgroup\":\"True\",\"hovertemplate\":\"LOCATION=%{x}<br>Value=%{y}<extra></extra>\",\"legendgroup\":\"Belgium\",\"marker\":{\"color\":\"#FFA15A\",\"pattern\":{\"shape\":\"\"}},\"name\":\"Belgium\",\"offsetgroup\":\"Belgium\",\"orientation\":\"v\",\"showlegend\":true,\"textposition\":\"auto\",\"x\":[\"Belgium\"],\"xaxis\":\"x\",\"y\":[0.258],\"yaxis\":\"y\",\"type\":\"bar\"}],                        {\"template\":{\"data\":{\"bar\":[{\"error_x\":{\"color\":\"#2a3f5f\"},\"error_y\":{\"color\":\"#2a3f5f\"},\"marker\":{\"line\":{\"color\":\"#E5ECF6\",\"width\":0.5},\"pattern\":{\"fillmode\":\"overlay\",\"size\":10,\"solidity\":0.2}},\"type\":\"bar\"}],\"barpolar\":[{\"marker\":{\"line\":{\"color\":\"#E5ECF6\",\"width\":0.5},\"pattern\":{\"fillmode\":\"overlay\",\"size\":10,\"solidity\":0.2}},\"type\":\"barpolar\"}],\"carpet\":[{\"aaxis\":{\"endlinecolor\":\"#2a3f5f\",\"gridcolor\":\"white\",\"linecolor\":\"white\",\"minorgridcolor\":\"white\",\"startlinecolor\":\"#2a3f5f\"},\"baxis\":{\"endlinecolor\":\"#2a3f5f\",\"gridcolor\":\"white\",\"linecolor\":\"white\",\"minorgridcolor\":\"white\",\"startlinecolor\":\"#2a3f5f\"},\"type\":\"carpet\"}],\"choropleth\":[{\"colorbar\":{\"outlinewidth\":0,\"ticks\":\"\"},\"type\":\"choropleth\"}],\"contour\":[{\"colorbar\":{\"outlinewidth\":0,\"ticks\":\"\"},\"colorscale\":[[0.0,\"#0d0887\"],[0.1111111111111111,\"#46039f\"],[0.2222222222222222,\"#7201a8\"],[0.3333333333333333,\"#9c179e\"],[0.4444444444444444,\"#bd3786\"],[0.5555555555555556,\"#d8576b\"],[0.6666666666666666,\"#ed7953\"],[0.7777777777777778,\"#fb9f3a\"],[0.8888888888888888,\"#fdca26\"],[1.0,\"#f0f921\"]],\"type\":\"contour\"}],\"contourcarpet\":[{\"colorbar\":{\"outlinewidth\":0,\"ticks\":\"\"},\"type\":\"contourcarpet\"}],\"heatmap\":[{\"colorbar\":{\"outlinewidth\":0,\"ticks\":\"\"},\"colorscale\":[[0.0,\"#0d0887\"],[0.1111111111111111,\"#46039f\"],[0.2222222222222222,\"#7201a8\"],[0.3333333333333333,\"#9c179e\"],[0.4444444444444444,\"#bd3786\"],[0.5555555555555556,\"#d8576b\"],[0.6666666666666666,\"#ed7953\"],[0.7777777777777778,\"#fb9f3a\"],[0.8888888888888888,\"#fdca26\"],[1.0,\"#f0f921\"]],\"type\":\"heatmap\"}],\"heatmapgl\":[{\"colorbar\":{\"outlinewidth\":0,\"ticks\":\"\"},\"colorscale\":[[0.0,\"#0d0887\"],[0.1111111111111111,\"#46039f\"],[0.2222222222222222,\"#7201a8\"],[0.3333333333333333,\"#9c179e\"],[0.4444444444444444,\"#bd3786\"],[0.5555555555555556,\"#d8576b\"],[0.6666666666666666,\"#ed7953\"],[0.7777777777777778,\"#fb9f3a\"],[0.8888888888888888,\"#fdca26\"],[1.0,\"#f0f921\"]],\"type\":\"heatmapgl\"}],\"histogram\":[{\"marker\":{\"pattern\":{\"fillmode\":\"overlay\",\"size\":10,\"solidity\":0.2}},\"type\":\"histogram\"}],\"histogram2d\":[{\"colorbar\":{\"outlinewidth\":0,\"ticks\":\"\"},\"colorscale\":[[0.0,\"#0d0887\"],[0.1111111111111111,\"#46039f\"],[0.2222222222222222,\"#7201a8\"],[0.3333333333333333,\"#9c179e\"],[0.4444444444444444,\"#bd3786\"],[0.5555555555555556,\"#d8576b\"],[0.6666666666666666,\"#ed7953\"],[0.7777777777777778,\"#fb9f3a\"],[0.8888888888888888,\"#fdca26\"],[1.0,\"#f0f921\"]],\"type\":\"histogram2d\"}],\"histogram2dcontour\":[{\"colorbar\":{\"outlinewidth\":0,\"ticks\":\"\"},\"colorscale\":[[0.0,\"#0d0887\"],[0.1111111111111111,\"#46039f\"],[0.2222222222222222,\"#7201a8\"],[0.3333333333333333,\"#9c179e\"],[0.4444444444444444,\"#bd3786\"],[0.5555555555555556,\"#d8576b\"],[0.6666666666666666,\"#ed7953\"],[0.7777777777777778,\"#fb9f3a\"],[0.8888888888888888,\"#fdca26\"],[1.0,\"#f0f921\"]],\"type\":\"histogram2dcontour\"}],\"mesh3d\":[{\"colorbar\":{\"outlinewidth\":0,\"ticks\":\"\"},\"type\":\"mesh3d\"}],\"parcoords\":[{\"line\":{\"colorbar\":{\"outlinewidth\":0,\"ticks\":\"\"}},\"type\":\"parcoords\"}],\"pie\":[{\"automargin\":true,\"type\":\"pie\"}],\"scatter\":[{\"marker\":{\"colorbar\":{\"outlinewidth\":0,\"ticks\":\"\"}},\"type\":\"scatter\"}],\"scatter3d\":[{\"line\":{\"colorbar\":{\"outlinewidth\":0,\"ticks\":\"\"}},\"marker\":{\"colorbar\":{\"outlinewidth\":0,\"ticks\":\"\"}},\"type\":\"scatter3d\"}],\"scattercarpet\":[{\"marker\":{\"colorbar\":{\"outlinewidth\":0,\"ticks\":\"\"}},\"type\":\"scattercarpet\"}],\"scattergeo\":[{\"marker\":{\"colorbar\":{\"outlinewidth\":0,\"ticks\":\"\"}},\"type\":\"scattergeo\"}],\"scattergl\":[{\"marker\":{\"colorbar\":{\"outlinewidth\":0,\"ticks\":\"\"}},\"type\":\"scattergl\"}],\"scattermapbox\":[{\"marker\":{\"colorbar\":{\"outlinewidth\":0,\"ticks\":\"\"}},\"type\":\"scattermapbox\"}],\"scatterpolar\":[{\"marker\":{\"colorbar\":{\"outlinewidth\":0,\"ticks\":\"\"}},\"type\":\"scatterpolar\"}],\"scatterpolargl\":[{\"marker\":{\"colorbar\":{\"outlinewidth\":0,\"ticks\":\"\"}},\"type\":\"scatterpolargl\"}],\"scatterternary\":[{\"marker\":{\"colorbar\":{\"outlinewidth\":0,\"ticks\":\"\"}},\"type\":\"scatterternary\"}],\"surface\":[{\"colorbar\":{\"outlinewidth\":0,\"ticks\":\"\"},\"colorscale\":[[0.0,\"#0d0887\"],[0.1111111111111111,\"#46039f\"],[0.2222222222222222,\"#7201a8\"],[0.3333333333333333,\"#9c179e\"],[0.4444444444444444,\"#bd3786\"],[0.5555555555555556,\"#d8576b\"],[0.6666666666666666,\"#ed7953\"],[0.7777777777777778,\"#fb9f3a\"],[0.8888888888888888,\"#fdca26\"],[1.0,\"#f0f921\"]],\"type\":\"surface\"}],\"table\":[{\"cells\":{\"fill\":{\"color\":\"#EBF0F8\"},\"line\":{\"color\":\"white\"}},\"header\":{\"fill\":{\"color\":\"#C8D4E3\"},\"line\":{\"color\":\"white\"}},\"type\":\"table\"}]},\"layout\":{\"annotationdefaults\":{\"arrowcolor\":\"#2a3f5f\",\"arrowhead\":0,\"arrowwidth\":1},\"autotypenumbers\":\"strict\",\"coloraxis\":{\"colorbar\":{\"outlinewidth\":0,\"ticks\":\"\"}},\"colorscale\":{\"diverging\":[[0,\"#8e0152\"],[0.1,\"#c51b7d\"],[0.2,\"#de77ae\"],[0.3,\"#f1b6da\"],[0.4,\"#fde0ef\"],[0.5,\"#f7f7f7\"],[0.6,\"#e6f5d0\"],[0.7,\"#b8e186\"],[0.8,\"#7fbc41\"],[0.9,\"#4d9221\"],[1,\"#276419\"]],\"sequential\":[[0.0,\"#0d0887\"],[0.1111111111111111,\"#46039f\"],[0.2222222222222222,\"#7201a8\"],[0.3333333333333333,\"#9c179e\"],[0.4444444444444444,\"#bd3786\"],[0.5555555555555556,\"#d8576b\"],[0.6666666666666666,\"#ed7953\"],[0.7777777777777778,\"#fb9f3a\"],[0.8888888888888888,\"#fdca26\"],[1.0,\"#f0f921\"]],\"sequentialminus\":[[0.0,\"#0d0887\"],[0.1111111111111111,\"#46039f\"],[0.2222222222222222,\"#7201a8\"],[0.3333333333333333,\"#9c179e\"],[0.4444444444444444,\"#bd3786\"],[0.5555555555555556,\"#d8576b\"],[0.6666666666666666,\"#ed7953\"],[0.7777777777777778,\"#fb9f3a\"],[0.8888888888888888,\"#fdca26\"],[1.0,\"#f0f921\"]]},\"colorway\":[\"#636efa\",\"#EF553B\",\"#00cc96\",\"#ab63fa\",\"#FFA15A\",\"#19d3f3\",\"#FF6692\",\"#B6E880\",\"#FF97FF\",\"#FECB52\"],\"font\":{\"color\":\"#2a3f5f\"},\"geo\":{\"bgcolor\":\"white\",\"lakecolor\":\"white\",\"landcolor\":\"#E5ECF6\",\"showlakes\":true,\"showland\":true,\"subunitcolor\":\"white\"},\"hoverlabel\":{\"align\":\"left\"},\"hovermode\":\"closest\",\"mapbox\":{\"style\":\"light\"},\"paper_bgcolor\":\"white\",\"plot_bgcolor\":\"#E5ECF6\",\"polar\":{\"angularaxis\":{\"gridcolor\":\"white\",\"linecolor\":\"white\",\"ticks\":\"\"},\"bgcolor\":\"#E5ECF6\",\"radialaxis\":{\"gridcolor\":\"white\",\"linecolor\":\"white\",\"ticks\":\"\"}},\"scene\":{\"xaxis\":{\"backgroundcolor\":\"#E5ECF6\",\"gridcolor\":\"white\",\"gridwidth\":2,\"linecolor\":\"white\",\"showbackground\":true,\"ticks\":\"\",\"zerolinecolor\":\"white\"},\"yaxis\":{\"backgroundcolor\":\"#E5ECF6\",\"gridcolor\":\"white\",\"gridwidth\":2,\"linecolor\":\"white\",\"showbackground\":true,\"ticks\":\"\",\"zerolinecolor\":\"white\"},\"zaxis\":{\"backgroundcolor\":\"#E5ECF6\",\"gridcolor\":\"white\",\"gridwidth\":2,\"linecolor\":\"white\",\"showbackground\":true,\"ticks\":\"\",\"zerolinecolor\":\"white\"}},\"shapedefaults\":{\"line\":{\"color\":\"#2a3f5f\"}},\"ternary\":{\"aaxis\":{\"gridcolor\":\"white\",\"linecolor\":\"white\",\"ticks\":\"\"},\"baxis\":{\"gridcolor\":\"white\",\"linecolor\":\"white\",\"ticks\":\"\"},\"bgcolor\":\"#E5ECF6\",\"caxis\":{\"gridcolor\":\"white\",\"linecolor\":\"white\",\"ticks\":\"\"}},\"title\":{\"x\":0.05},\"xaxis\":{\"automargin\":true,\"gridcolor\":\"white\",\"linecolor\":\"white\",\"ticks\":\"\",\"title\":{\"standoff\":15},\"zerolinecolor\":\"white\",\"zerolinewidth\":2},\"yaxis\":{\"automargin\":true,\"gridcolor\":\"white\",\"linecolor\":\"white\",\"ticks\":\"\",\"title\":{\"standoff\":15},\"zerolinecolor\":\"white\",\"zerolinewidth\":2}}},\"xaxis\":{\"anchor\":\"y\",\"domain\":[0.0,1.0],\"title\":{\"text\":\"Location\"},\"categoryorder\":\"array\",\"categoryarray\":[\"Austria\",\"Germany\",\"Italy\",\"Australia\",\"Belgium\"]},\"yaxis\":{\"anchor\":\"x\",\"domain\":[0.0,1.0],\"title\":{\"text\":\"Gini Coefficient\"}},\"legend\":{\"title\":{\"text\":\"Countries\"},\"tracegroupgap\":0},\"title\":{\"text\":\"Income Inequality in 2018\"},\"barmode\":\"relative\"},                        {\"responsive\": true}                    ).then(function(){\n                            \nvar gd = document.getElementById('1bc9cf69-aac0-46cb-9769-32f196469efe');\nvar x = new MutationObserver(function (mutations, observer) {{\n        var display = window.getComputedStyle(gd).display;\n        if (!display || display === 'none') {{\n            console.log([gd, 'removed!']);\n            Plotly.purge(gd);\n            observer.disconnect();\n        }}\n}});\n\n// Listen for the removal of the full notebook cells\nvar notebookContainer = gd.closest('#notebook-container');\nif (notebookContainer) {{\n    x.observe(notebookContainer, {childList: true});\n}}\n\n// Listen for the clearing of the current output cell\nvar outputEl = gd.closest('.output');\nif (outputEl) {{\n    x.observe(outputEl, {childList: true});\n}}\n\n                        })                };                });            </script>        </div>"
     },
     "metadata": {},
     "output_type": "display_data"
    },
    {
     "data": {
      "application/vnd.plotly.v1+json": {
       "data": [
        {
         "alignmentgroup": "True",
         "hovertemplate": "LOCATION=%{x}<br>Value=%{y}<extra></extra>",
         "legendgroup": "Austria",
         "marker": {
          "color": "#636efa",
          "pattern": {
           "shape": ""
          }
         },
         "name": "Austria",
         "offsetgroup": "Austria",
         "orientation": "v",
         "showlegend": true,
         "textposition": "auto",
         "x": [
          "Austria"
         ],
         "xaxis": "x",
         "y": [
          0.294
         ],
         "yaxis": "y",
         "type": "bar"
        },
        {
         "alignmentgroup": "True",
         "hovertemplate": "LOCATION=%{x}<br>Value=%{y}<extra></extra>",
         "legendgroup": "Czechia",
         "marker": {
          "color": "#EF553B",
          "pattern": {
           "shape": ""
          }
         },
         "name": "Czechia",
         "offsetgroup": "Czechia",
         "orientation": "v",
         "showlegend": true,
         "textposition": "auto",
         "x": [
          "Czechia"
         ],
         "xaxis": "x",
         "y": [
          0.24
         ],
         "yaxis": "y",
         "type": "bar"
        },
        {
         "alignmentgroup": "True",
         "hovertemplate": "LOCATION=%{x}<br>Value=%{y}<extra></extra>",
         "legendgroup": "Netherlands",
         "marker": {
          "color": "#00cc96",
          "pattern": {
           "shape": ""
          }
         },
         "name": "Netherlands",
         "offsetgroup": "Netherlands",
         "orientation": "v",
         "showlegend": true,
         "textposition": "auto",
         "x": [
          "Netherlands"
         ],
         "xaxis": "x",
         "y": [
          0.375
         ],
         "yaxis": "y",
         "type": "bar"
        },
        {
         "alignmentgroup": "True",
         "hovertemplate": "LOCATION=%{x}<br>Value=%{y}<extra></extra>",
         "legendgroup": "Norway",
         "marker": {
          "color": "#ab63fa",
          "pattern": {
           "shape": ""
          }
         },
         "name": "Norway",
         "offsetgroup": "Norway",
         "orientation": "v",
         "showlegend": true,
         "textposition": "auto",
         "x": [
          "Norway"
         ],
         "xaxis": "x",
         "y": [
          0.4
         ],
         "yaxis": "y",
         "type": "bar"
        },
        {
         "alignmentgroup": "True",
         "hovertemplate": "LOCATION=%{x}<br>Value=%{y}<extra></extra>",
         "legendgroup": "Spain",
         "marker": {
          "color": "#FFA15A",
          "pattern": {
           "shape": ""
          }
         },
         "name": "Spain",
         "offsetgroup": "Spain",
         "orientation": "v",
         "showlegend": true,
         "textposition": "auto",
         "x": [
          "Spain"
         ],
         "xaxis": "x",
         "y": [
          0.371
         ],
         "yaxis": "y",
         "type": "bar"
        }
       ],
       "layout": {
        "template": {
         "data": {
          "bar": [
           {
            "error_x": {
             "color": "#2a3f5f"
            },
            "error_y": {
             "color": "#2a3f5f"
            },
            "marker": {
             "line": {
              "color": "#E5ECF6",
              "width": 0.5
             },
             "pattern": {
              "fillmode": "overlay",
              "size": 10,
              "solidity": 0.2
             }
            },
            "type": "bar"
           }
          ],
          "barpolar": [
           {
            "marker": {
             "line": {
              "color": "#E5ECF6",
              "width": 0.5
             },
             "pattern": {
              "fillmode": "overlay",
              "size": 10,
              "solidity": 0.2
             }
            },
            "type": "barpolar"
           }
          ],
          "carpet": [
           {
            "aaxis": {
             "endlinecolor": "#2a3f5f",
             "gridcolor": "white",
             "linecolor": "white",
             "minorgridcolor": "white",
             "startlinecolor": "#2a3f5f"
            },
            "baxis": {
             "endlinecolor": "#2a3f5f",
             "gridcolor": "white",
             "linecolor": "white",
             "minorgridcolor": "white",
             "startlinecolor": "#2a3f5f"
            },
            "type": "carpet"
           }
          ],
          "choropleth": [
           {
            "colorbar": {
             "outlinewidth": 0,
             "ticks": ""
            },
            "type": "choropleth"
           }
          ],
          "contour": [
           {
            "colorbar": {
             "outlinewidth": 0,
             "ticks": ""
            },
            "colorscale": [
             [
              0.0,
              "#0d0887"
             ],
             [
              0.1111111111111111,
              "#46039f"
             ],
             [
              0.2222222222222222,
              "#7201a8"
             ],
             [
              0.3333333333333333,
              "#9c179e"
             ],
             [
              0.4444444444444444,
              "#bd3786"
             ],
             [
              0.5555555555555556,
              "#d8576b"
             ],
             [
              0.6666666666666666,
              "#ed7953"
             ],
             [
              0.7777777777777778,
              "#fb9f3a"
             ],
             [
              0.8888888888888888,
              "#fdca26"
             ],
             [
              1.0,
              "#f0f921"
             ]
            ],
            "type": "contour"
           }
          ],
          "contourcarpet": [
           {
            "colorbar": {
             "outlinewidth": 0,
             "ticks": ""
            },
            "type": "contourcarpet"
           }
          ],
          "heatmap": [
           {
            "colorbar": {
             "outlinewidth": 0,
             "ticks": ""
            },
            "colorscale": [
             [
              0.0,
              "#0d0887"
             ],
             [
              0.1111111111111111,
              "#46039f"
             ],
             [
              0.2222222222222222,
              "#7201a8"
             ],
             [
              0.3333333333333333,
              "#9c179e"
             ],
             [
              0.4444444444444444,
              "#bd3786"
             ],
             [
              0.5555555555555556,
              "#d8576b"
             ],
             [
              0.6666666666666666,
              "#ed7953"
             ],
             [
              0.7777777777777778,
              "#fb9f3a"
             ],
             [
              0.8888888888888888,
              "#fdca26"
             ],
             [
              1.0,
              "#f0f921"
             ]
            ],
            "type": "heatmap"
           }
          ],
          "heatmapgl": [
           {
            "colorbar": {
             "outlinewidth": 0,
             "ticks": ""
            },
            "colorscale": [
             [
              0.0,
              "#0d0887"
             ],
             [
              0.1111111111111111,
              "#46039f"
             ],
             [
              0.2222222222222222,
              "#7201a8"
             ],
             [
              0.3333333333333333,
              "#9c179e"
             ],
             [
              0.4444444444444444,
              "#bd3786"
             ],
             [
              0.5555555555555556,
              "#d8576b"
             ],
             [
              0.6666666666666666,
              "#ed7953"
             ],
             [
              0.7777777777777778,
              "#fb9f3a"
             ],
             [
              0.8888888888888888,
              "#fdca26"
             ],
             [
              1.0,
              "#f0f921"
             ]
            ],
            "type": "heatmapgl"
           }
          ],
          "histogram": [
           {
            "marker": {
             "pattern": {
              "fillmode": "overlay",
              "size": 10,
              "solidity": 0.2
             }
            },
            "type": "histogram"
           }
          ],
          "histogram2d": [
           {
            "colorbar": {
             "outlinewidth": 0,
             "ticks": ""
            },
            "colorscale": [
             [
              0.0,
              "#0d0887"
             ],
             [
              0.1111111111111111,
              "#46039f"
             ],
             [
              0.2222222222222222,
              "#7201a8"
             ],
             [
              0.3333333333333333,
              "#9c179e"
             ],
             [
              0.4444444444444444,
              "#bd3786"
             ],
             [
              0.5555555555555556,
              "#d8576b"
             ],
             [
              0.6666666666666666,
              "#ed7953"
             ],
             [
              0.7777777777777778,
              "#fb9f3a"
             ],
             [
              0.8888888888888888,
              "#fdca26"
             ],
             [
              1.0,
              "#f0f921"
             ]
            ],
            "type": "histogram2d"
           }
          ],
          "histogram2dcontour": [
           {
            "colorbar": {
             "outlinewidth": 0,
             "ticks": ""
            },
            "colorscale": [
             [
              0.0,
              "#0d0887"
             ],
             [
              0.1111111111111111,
              "#46039f"
             ],
             [
              0.2222222222222222,
              "#7201a8"
             ],
             [
              0.3333333333333333,
              "#9c179e"
             ],
             [
              0.4444444444444444,
              "#bd3786"
             ],
             [
              0.5555555555555556,
              "#d8576b"
             ],
             [
              0.6666666666666666,
              "#ed7953"
             ],
             [
              0.7777777777777778,
              "#fb9f3a"
             ],
             [
              0.8888888888888888,
              "#fdca26"
             ],
             [
              1.0,
              "#f0f921"
             ]
            ],
            "type": "histogram2dcontour"
           }
          ],
          "mesh3d": [
           {
            "colorbar": {
             "outlinewidth": 0,
             "ticks": ""
            },
            "type": "mesh3d"
           }
          ],
          "parcoords": [
           {
            "line": {
             "colorbar": {
              "outlinewidth": 0,
              "ticks": ""
             }
            },
            "type": "parcoords"
           }
          ],
          "pie": [
           {
            "automargin": true,
            "type": "pie"
           }
          ],
          "scatter": [
           {
            "marker": {
             "colorbar": {
              "outlinewidth": 0,
              "ticks": ""
             }
            },
            "type": "scatter"
           }
          ],
          "scatter3d": [
           {
            "line": {
             "colorbar": {
              "outlinewidth": 0,
              "ticks": ""
             }
            },
            "marker": {
             "colorbar": {
              "outlinewidth": 0,
              "ticks": ""
             }
            },
            "type": "scatter3d"
           }
          ],
          "scattercarpet": [
           {
            "marker": {
             "colorbar": {
              "outlinewidth": 0,
              "ticks": ""
             }
            },
            "type": "scattercarpet"
           }
          ],
          "scattergeo": [
           {
            "marker": {
             "colorbar": {
              "outlinewidth": 0,
              "ticks": ""
             }
            },
            "type": "scattergeo"
           }
          ],
          "scattergl": [
           {
            "marker": {
             "colorbar": {
              "outlinewidth": 0,
              "ticks": ""
             }
            },
            "type": "scattergl"
           }
          ],
          "scattermapbox": [
           {
            "marker": {
             "colorbar": {
              "outlinewidth": 0,
              "ticks": ""
             }
            },
            "type": "scattermapbox"
           }
          ],
          "scatterpolar": [
           {
            "marker": {
             "colorbar": {
              "outlinewidth": 0,
              "ticks": ""
             }
            },
            "type": "scatterpolar"
           }
          ],
          "scatterpolargl": [
           {
            "marker": {
             "colorbar": {
              "outlinewidth": 0,
              "ticks": ""
             }
            },
            "type": "scatterpolargl"
           }
          ],
          "scatterternary": [
           {
            "marker": {
             "colorbar": {
              "outlinewidth": 0,
              "ticks": ""
             }
            },
            "type": "scatterternary"
           }
          ],
          "surface": [
           {
            "colorbar": {
             "outlinewidth": 0,
             "ticks": ""
            },
            "colorscale": [
             [
              0.0,
              "#0d0887"
             ],
             [
              0.1111111111111111,
              "#46039f"
             ],
             [
              0.2222222222222222,
              "#7201a8"
             ],
             [
              0.3333333333333333,
              "#9c179e"
             ],
             [
              0.4444444444444444,
              "#bd3786"
             ],
             [
              0.5555555555555556,
              "#d8576b"
             ],
             [
              0.6666666666666666,
              "#ed7953"
             ],
             [
              0.7777777777777778,
              "#fb9f3a"
             ],
             [
              0.8888888888888888,
              "#fdca26"
             ],
             [
              1.0,
              "#f0f921"
             ]
            ],
            "type": "surface"
           }
          ],
          "table": [
           {
            "cells": {
             "fill": {
              "color": "#EBF0F8"
             },
             "line": {
              "color": "white"
             }
            },
            "header": {
             "fill": {
              "color": "#C8D4E3"
             },
             "line": {
              "color": "white"
             }
            },
            "type": "table"
           }
          ]
         },
         "layout": {
          "annotationdefaults": {
           "arrowcolor": "#2a3f5f",
           "arrowhead": 0,
           "arrowwidth": 1
          },
          "autotypenumbers": "strict",
          "coloraxis": {
           "colorbar": {
            "outlinewidth": 0,
            "ticks": ""
           }
          },
          "colorscale": {
           "diverging": [
            [
             0,
             "#8e0152"
            ],
            [
             0.1,
             "#c51b7d"
            ],
            [
             0.2,
             "#de77ae"
            ],
            [
             0.3,
             "#f1b6da"
            ],
            [
             0.4,
             "#fde0ef"
            ],
            [
             0.5,
             "#f7f7f7"
            ],
            [
             0.6,
             "#e6f5d0"
            ],
            [
             0.7,
             "#b8e186"
            ],
            [
             0.8,
             "#7fbc41"
            ],
            [
             0.9,
             "#4d9221"
            ],
            [
             1,
             "#276419"
            ]
           ],
           "sequential": [
            [
             0.0,
             "#0d0887"
            ],
            [
             0.1111111111111111,
             "#46039f"
            ],
            [
             0.2222222222222222,
             "#7201a8"
            ],
            [
             0.3333333333333333,
             "#9c179e"
            ],
            [
             0.4444444444444444,
             "#bd3786"
            ],
            [
             0.5555555555555556,
             "#d8576b"
            ],
            [
             0.6666666666666666,
             "#ed7953"
            ],
            [
             0.7777777777777778,
             "#fb9f3a"
            ],
            [
             0.8888888888888888,
             "#fdca26"
            ],
            [
             1.0,
             "#f0f921"
            ]
           ],
           "sequentialminus": [
            [
             0.0,
             "#0d0887"
            ],
            [
             0.1111111111111111,
             "#46039f"
            ],
            [
             0.2222222222222222,
             "#7201a8"
            ],
            [
             0.3333333333333333,
             "#9c179e"
            ],
            [
             0.4444444444444444,
             "#bd3786"
            ],
            [
             0.5555555555555556,
             "#d8576b"
            ],
            [
             0.6666666666666666,
             "#ed7953"
            ],
            [
             0.7777777777777778,
             "#fb9f3a"
            ],
            [
             0.8888888888888888,
             "#fdca26"
            ],
            [
             1.0,
             "#f0f921"
            ]
           ]
          },
          "colorway": [
           "#636efa",
           "#EF553B",
           "#00cc96",
           "#ab63fa",
           "#FFA15A",
           "#19d3f3",
           "#FF6692",
           "#B6E880",
           "#FF97FF",
           "#FECB52"
          ],
          "font": {
           "color": "#2a3f5f"
          },
          "geo": {
           "bgcolor": "white",
           "lakecolor": "white",
           "landcolor": "#E5ECF6",
           "showlakes": true,
           "showland": true,
           "subunitcolor": "white"
          },
          "hoverlabel": {
           "align": "left"
          },
          "hovermode": "closest",
          "mapbox": {
           "style": "light"
          },
          "paper_bgcolor": "white",
          "plot_bgcolor": "#E5ECF6",
          "polar": {
           "angularaxis": {
            "gridcolor": "white",
            "linecolor": "white",
            "ticks": ""
           },
           "bgcolor": "#E5ECF6",
           "radialaxis": {
            "gridcolor": "white",
            "linecolor": "white",
            "ticks": ""
           }
          },
          "scene": {
           "xaxis": {
            "backgroundcolor": "#E5ECF6",
            "gridcolor": "white",
            "gridwidth": 2,
            "linecolor": "white",
            "showbackground": true,
            "ticks": "",
            "zerolinecolor": "white"
           },
           "yaxis": {
            "backgroundcolor": "#E5ECF6",
            "gridcolor": "white",
            "gridwidth": 2,
            "linecolor": "white",
            "showbackground": true,
            "ticks": "",
            "zerolinecolor": "white"
           },
           "zaxis": {
            "backgroundcolor": "#E5ECF6",
            "gridcolor": "white",
            "gridwidth": 2,
            "linecolor": "white",
            "showbackground": true,
            "ticks": "",
            "zerolinecolor": "white"
           }
          },
          "shapedefaults": {
           "line": {
            "color": "#2a3f5f"
           }
          },
          "ternary": {
           "aaxis": {
            "gridcolor": "white",
            "linecolor": "white",
            "ticks": ""
           },
           "baxis": {
            "gridcolor": "white",
            "linecolor": "white",
            "ticks": ""
           },
           "bgcolor": "#E5ECF6",
           "caxis": {
            "gridcolor": "white",
            "linecolor": "white",
            "ticks": ""
           }
          },
          "title": {
           "x": 0.05
          },
          "xaxis": {
           "automargin": true,
           "gridcolor": "white",
           "linecolor": "white",
           "ticks": "",
           "title": {
            "standoff": 15
           },
           "zerolinecolor": "white",
           "zerolinewidth": 2
          },
          "yaxis": {
           "automargin": true,
           "gridcolor": "white",
           "linecolor": "white",
           "ticks": "",
           "title": {
            "standoff": 15
           },
           "zerolinecolor": "white",
           "zerolinewidth": 2
          }
         }
        },
        "xaxis": {
         "anchor": "y",
         "domain": [
          0.0,
          1.0
         ],
         "title": {
          "text": "Location"
         },
         "categoryorder": "array",
         "categoryarray": [
          "Austria",
          "Czechia",
          "Netherlands",
          "Norway",
          "Spain"
         ]
        },
        "yaxis": {
         "anchor": "x",
         "domain": [
          0.0,
          1.0
         ],
         "title": {
          "text": " % people below the poverty line"
         }
        },
        "legend": {
         "title": {
          "text": "Countries"
         },
         "tracegroupgap": 0
        },
        "title": {
         "text": "Poverty Gap in 2019"
        },
        "barmode": "relative"
       },
       "config": {
        "plotlyServerURL": "https://plot.ly"
       }
      },
      "text/html": "<div>                            <div id=\"663d8ca0-9484-4546-a0c2-d34d84d6ec90\" class=\"plotly-graph-div\" style=\"height:525px; width:100%;\"></div>            <script type=\"text/javascript\">                require([\"plotly\"], function(Plotly) {                    window.PLOTLYENV=window.PLOTLYENV || {};                                    if (document.getElementById(\"663d8ca0-9484-4546-a0c2-d34d84d6ec90\")) {                    Plotly.newPlot(                        \"663d8ca0-9484-4546-a0c2-d34d84d6ec90\",                        [{\"alignmentgroup\":\"True\",\"hovertemplate\":\"LOCATION=%{x}<br>Value=%{y}<extra></extra>\",\"legendgroup\":\"Austria\",\"marker\":{\"color\":\"#636efa\",\"pattern\":{\"shape\":\"\"}},\"name\":\"Austria\",\"offsetgroup\":\"Austria\",\"orientation\":\"v\",\"showlegend\":true,\"textposition\":\"auto\",\"x\":[\"Austria\"],\"xaxis\":\"x\",\"y\":[0.294],\"yaxis\":\"y\",\"type\":\"bar\"},{\"alignmentgroup\":\"True\",\"hovertemplate\":\"LOCATION=%{x}<br>Value=%{y}<extra></extra>\",\"legendgroup\":\"Czechia\",\"marker\":{\"color\":\"#EF553B\",\"pattern\":{\"shape\":\"\"}},\"name\":\"Czechia\",\"offsetgroup\":\"Czechia\",\"orientation\":\"v\",\"showlegend\":true,\"textposition\":\"auto\",\"x\":[\"Czechia\"],\"xaxis\":\"x\",\"y\":[0.24],\"yaxis\":\"y\",\"type\":\"bar\"},{\"alignmentgroup\":\"True\",\"hovertemplate\":\"LOCATION=%{x}<br>Value=%{y}<extra></extra>\",\"legendgroup\":\"Netherlands\",\"marker\":{\"color\":\"#00cc96\",\"pattern\":{\"shape\":\"\"}},\"name\":\"Netherlands\",\"offsetgroup\":\"Netherlands\",\"orientation\":\"v\",\"showlegend\":true,\"textposition\":\"auto\",\"x\":[\"Netherlands\"],\"xaxis\":\"x\",\"y\":[0.375],\"yaxis\":\"y\",\"type\":\"bar\"},{\"alignmentgroup\":\"True\",\"hovertemplate\":\"LOCATION=%{x}<br>Value=%{y}<extra></extra>\",\"legendgroup\":\"Norway\",\"marker\":{\"color\":\"#ab63fa\",\"pattern\":{\"shape\":\"\"}},\"name\":\"Norway\",\"offsetgroup\":\"Norway\",\"orientation\":\"v\",\"showlegend\":true,\"textposition\":\"auto\",\"x\":[\"Norway\"],\"xaxis\":\"x\",\"y\":[0.4],\"yaxis\":\"y\",\"type\":\"bar\"},{\"alignmentgroup\":\"True\",\"hovertemplate\":\"LOCATION=%{x}<br>Value=%{y}<extra></extra>\",\"legendgroup\":\"Spain\",\"marker\":{\"color\":\"#FFA15A\",\"pattern\":{\"shape\":\"\"}},\"name\":\"Spain\",\"offsetgroup\":\"Spain\",\"orientation\":\"v\",\"showlegend\":true,\"textposition\":\"auto\",\"x\":[\"Spain\"],\"xaxis\":\"x\",\"y\":[0.371],\"yaxis\":\"y\",\"type\":\"bar\"}],                        {\"template\":{\"data\":{\"bar\":[{\"error_x\":{\"color\":\"#2a3f5f\"},\"error_y\":{\"color\":\"#2a3f5f\"},\"marker\":{\"line\":{\"color\":\"#E5ECF6\",\"width\":0.5},\"pattern\":{\"fillmode\":\"overlay\",\"size\":10,\"solidity\":0.2}},\"type\":\"bar\"}],\"barpolar\":[{\"marker\":{\"line\":{\"color\":\"#E5ECF6\",\"width\":0.5},\"pattern\":{\"fillmode\":\"overlay\",\"size\":10,\"solidity\":0.2}},\"type\":\"barpolar\"}],\"carpet\":[{\"aaxis\":{\"endlinecolor\":\"#2a3f5f\",\"gridcolor\":\"white\",\"linecolor\":\"white\",\"minorgridcolor\":\"white\",\"startlinecolor\":\"#2a3f5f\"},\"baxis\":{\"endlinecolor\":\"#2a3f5f\",\"gridcolor\":\"white\",\"linecolor\":\"white\",\"minorgridcolor\":\"white\",\"startlinecolor\":\"#2a3f5f\"},\"type\":\"carpet\"}],\"choropleth\":[{\"colorbar\":{\"outlinewidth\":0,\"ticks\":\"\"},\"type\":\"choropleth\"}],\"contour\":[{\"colorbar\":{\"outlinewidth\":0,\"ticks\":\"\"},\"colorscale\":[[0.0,\"#0d0887\"],[0.1111111111111111,\"#46039f\"],[0.2222222222222222,\"#7201a8\"],[0.3333333333333333,\"#9c179e\"],[0.4444444444444444,\"#bd3786\"],[0.5555555555555556,\"#d8576b\"],[0.6666666666666666,\"#ed7953\"],[0.7777777777777778,\"#fb9f3a\"],[0.8888888888888888,\"#fdca26\"],[1.0,\"#f0f921\"]],\"type\":\"contour\"}],\"contourcarpet\":[{\"colorbar\":{\"outlinewidth\":0,\"ticks\":\"\"},\"type\":\"contourcarpet\"}],\"heatmap\":[{\"colorbar\":{\"outlinewidth\":0,\"ticks\":\"\"},\"colorscale\":[[0.0,\"#0d0887\"],[0.1111111111111111,\"#46039f\"],[0.2222222222222222,\"#7201a8\"],[0.3333333333333333,\"#9c179e\"],[0.4444444444444444,\"#bd3786\"],[0.5555555555555556,\"#d8576b\"],[0.6666666666666666,\"#ed7953\"],[0.7777777777777778,\"#fb9f3a\"],[0.8888888888888888,\"#fdca26\"],[1.0,\"#f0f921\"]],\"type\":\"heatmap\"}],\"heatmapgl\":[{\"colorbar\":{\"outlinewidth\":0,\"ticks\":\"\"},\"colorscale\":[[0.0,\"#0d0887\"],[0.1111111111111111,\"#46039f\"],[0.2222222222222222,\"#7201a8\"],[0.3333333333333333,\"#9c179e\"],[0.4444444444444444,\"#bd3786\"],[0.5555555555555556,\"#d8576b\"],[0.6666666666666666,\"#ed7953\"],[0.7777777777777778,\"#fb9f3a\"],[0.8888888888888888,\"#fdca26\"],[1.0,\"#f0f921\"]],\"type\":\"heatmapgl\"}],\"histogram\":[{\"marker\":{\"pattern\":{\"fillmode\":\"overlay\",\"size\":10,\"solidity\":0.2}},\"type\":\"histogram\"}],\"histogram2d\":[{\"colorbar\":{\"outlinewidth\":0,\"ticks\":\"\"},\"colorscale\":[[0.0,\"#0d0887\"],[0.1111111111111111,\"#46039f\"],[0.2222222222222222,\"#7201a8\"],[0.3333333333333333,\"#9c179e\"],[0.4444444444444444,\"#bd3786\"],[0.5555555555555556,\"#d8576b\"],[0.6666666666666666,\"#ed7953\"],[0.7777777777777778,\"#fb9f3a\"],[0.8888888888888888,\"#fdca26\"],[1.0,\"#f0f921\"]],\"type\":\"histogram2d\"}],\"histogram2dcontour\":[{\"colorbar\":{\"outlinewidth\":0,\"ticks\":\"\"},\"colorscale\":[[0.0,\"#0d0887\"],[0.1111111111111111,\"#46039f\"],[0.2222222222222222,\"#7201a8\"],[0.3333333333333333,\"#9c179e\"],[0.4444444444444444,\"#bd3786\"],[0.5555555555555556,\"#d8576b\"],[0.6666666666666666,\"#ed7953\"],[0.7777777777777778,\"#fb9f3a\"],[0.8888888888888888,\"#fdca26\"],[1.0,\"#f0f921\"]],\"type\":\"histogram2dcontour\"}],\"mesh3d\":[{\"colorbar\":{\"outlinewidth\":0,\"ticks\":\"\"},\"type\":\"mesh3d\"}],\"parcoords\":[{\"line\":{\"colorbar\":{\"outlinewidth\":0,\"ticks\":\"\"}},\"type\":\"parcoords\"}],\"pie\":[{\"automargin\":true,\"type\":\"pie\"}],\"scatter\":[{\"marker\":{\"colorbar\":{\"outlinewidth\":0,\"ticks\":\"\"}},\"type\":\"scatter\"}],\"scatter3d\":[{\"line\":{\"colorbar\":{\"outlinewidth\":0,\"ticks\":\"\"}},\"marker\":{\"colorbar\":{\"outlinewidth\":0,\"ticks\":\"\"}},\"type\":\"scatter3d\"}],\"scattercarpet\":[{\"marker\":{\"colorbar\":{\"outlinewidth\":0,\"ticks\":\"\"}},\"type\":\"scattercarpet\"}],\"scattergeo\":[{\"marker\":{\"colorbar\":{\"outlinewidth\":0,\"ticks\":\"\"}},\"type\":\"scattergeo\"}],\"scattergl\":[{\"marker\":{\"colorbar\":{\"outlinewidth\":0,\"ticks\":\"\"}},\"type\":\"scattergl\"}],\"scattermapbox\":[{\"marker\":{\"colorbar\":{\"outlinewidth\":0,\"ticks\":\"\"}},\"type\":\"scattermapbox\"}],\"scatterpolar\":[{\"marker\":{\"colorbar\":{\"outlinewidth\":0,\"ticks\":\"\"}},\"type\":\"scatterpolar\"}],\"scatterpolargl\":[{\"marker\":{\"colorbar\":{\"outlinewidth\":0,\"ticks\":\"\"}},\"type\":\"scatterpolargl\"}],\"scatterternary\":[{\"marker\":{\"colorbar\":{\"outlinewidth\":0,\"ticks\":\"\"}},\"type\":\"scatterternary\"}],\"surface\":[{\"colorbar\":{\"outlinewidth\":0,\"ticks\":\"\"},\"colorscale\":[[0.0,\"#0d0887\"],[0.1111111111111111,\"#46039f\"],[0.2222222222222222,\"#7201a8\"],[0.3333333333333333,\"#9c179e\"],[0.4444444444444444,\"#bd3786\"],[0.5555555555555556,\"#d8576b\"],[0.6666666666666666,\"#ed7953\"],[0.7777777777777778,\"#fb9f3a\"],[0.8888888888888888,\"#fdca26\"],[1.0,\"#f0f921\"]],\"type\":\"surface\"}],\"table\":[{\"cells\":{\"fill\":{\"color\":\"#EBF0F8\"},\"line\":{\"color\":\"white\"}},\"header\":{\"fill\":{\"color\":\"#C8D4E3\"},\"line\":{\"color\":\"white\"}},\"type\":\"table\"}]},\"layout\":{\"annotationdefaults\":{\"arrowcolor\":\"#2a3f5f\",\"arrowhead\":0,\"arrowwidth\":1},\"autotypenumbers\":\"strict\",\"coloraxis\":{\"colorbar\":{\"outlinewidth\":0,\"ticks\":\"\"}},\"colorscale\":{\"diverging\":[[0,\"#8e0152\"],[0.1,\"#c51b7d\"],[0.2,\"#de77ae\"],[0.3,\"#f1b6da\"],[0.4,\"#fde0ef\"],[0.5,\"#f7f7f7\"],[0.6,\"#e6f5d0\"],[0.7,\"#b8e186\"],[0.8,\"#7fbc41\"],[0.9,\"#4d9221\"],[1,\"#276419\"]],\"sequential\":[[0.0,\"#0d0887\"],[0.1111111111111111,\"#46039f\"],[0.2222222222222222,\"#7201a8\"],[0.3333333333333333,\"#9c179e\"],[0.4444444444444444,\"#bd3786\"],[0.5555555555555556,\"#d8576b\"],[0.6666666666666666,\"#ed7953\"],[0.7777777777777778,\"#fb9f3a\"],[0.8888888888888888,\"#fdca26\"],[1.0,\"#f0f921\"]],\"sequentialminus\":[[0.0,\"#0d0887\"],[0.1111111111111111,\"#46039f\"],[0.2222222222222222,\"#7201a8\"],[0.3333333333333333,\"#9c179e\"],[0.4444444444444444,\"#bd3786\"],[0.5555555555555556,\"#d8576b\"],[0.6666666666666666,\"#ed7953\"],[0.7777777777777778,\"#fb9f3a\"],[0.8888888888888888,\"#fdca26\"],[1.0,\"#f0f921\"]]},\"colorway\":[\"#636efa\",\"#EF553B\",\"#00cc96\",\"#ab63fa\",\"#FFA15A\",\"#19d3f3\",\"#FF6692\",\"#B6E880\",\"#FF97FF\",\"#FECB52\"],\"font\":{\"color\":\"#2a3f5f\"},\"geo\":{\"bgcolor\":\"white\",\"lakecolor\":\"white\",\"landcolor\":\"#E5ECF6\",\"showlakes\":true,\"showland\":true,\"subunitcolor\":\"white\"},\"hoverlabel\":{\"align\":\"left\"},\"hovermode\":\"closest\",\"mapbox\":{\"style\":\"light\"},\"paper_bgcolor\":\"white\",\"plot_bgcolor\":\"#E5ECF6\",\"polar\":{\"angularaxis\":{\"gridcolor\":\"white\",\"linecolor\":\"white\",\"ticks\":\"\"},\"bgcolor\":\"#E5ECF6\",\"radialaxis\":{\"gridcolor\":\"white\",\"linecolor\":\"white\",\"ticks\":\"\"}},\"scene\":{\"xaxis\":{\"backgroundcolor\":\"#E5ECF6\",\"gridcolor\":\"white\",\"gridwidth\":2,\"linecolor\":\"white\",\"showbackground\":true,\"ticks\":\"\",\"zerolinecolor\":\"white\"},\"yaxis\":{\"backgroundcolor\":\"#E5ECF6\",\"gridcolor\":\"white\",\"gridwidth\":2,\"linecolor\":\"white\",\"showbackground\":true,\"ticks\":\"\",\"zerolinecolor\":\"white\"},\"zaxis\":{\"backgroundcolor\":\"#E5ECF6\",\"gridcolor\":\"white\",\"gridwidth\":2,\"linecolor\":\"white\",\"showbackground\":true,\"ticks\":\"\",\"zerolinecolor\":\"white\"}},\"shapedefaults\":{\"line\":{\"color\":\"#2a3f5f\"}},\"ternary\":{\"aaxis\":{\"gridcolor\":\"white\",\"linecolor\":\"white\",\"ticks\":\"\"},\"baxis\":{\"gridcolor\":\"white\",\"linecolor\":\"white\",\"ticks\":\"\"},\"bgcolor\":\"#E5ECF6\",\"caxis\":{\"gridcolor\":\"white\",\"linecolor\":\"white\",\"ticks\":\"\"}},\"title\":{\"x\":0.05},\"xaxis\":{\"automargin\":true,\"gridcolor\":\"white\",\"linecolor\":\"white\",\"ticks\":\"\",\"title\":{\"standoff\":15},\"zerolinecolor\":\"white\",\"zerolinewidth\":2},\"yaxis\":{\"automargin\":true,\"gridcolor\":\"white\",\"linecolor\":\"white\",\"ticks\":\"\",\"title\":{\"standoff\":15},\"zerolinecolor\":\"white\",\"zerolinewidth\":2}}},\"xaxis\":{\"anchor\":\"y\",\"domain\":[0.0,1.0],\"title\":{\"text\":\"Location\"},\"categoryorder\":\"array\",\"categoryarray\":[\"Austria\",\"Czechia\",\"Netherlands\",\"Norway\",\"Spain\"]},\"yaxis\":{\"anchor\":\"x\",\"domain\":[0.0,1.0],\"title\":{\"text\":\" % people below the poverty line\"}},\"legend\":{\"title\":{\"text\":\"Countries\"},\"tracegroupgap\":0},\"title\":{\"text\":\"Poverty Gap in 2019\"},\"barmode\":\"relative\"},                        {\"responsive\": true}                    ).then(function(){\n                            \nvar gd = document.getElementById('663d8ca0-9484-4546-a0c2-d34d84d6ec90');\nvar x = new MutationObserver(function (mutations, observer) {{\n        var display = window.getComputedStyle(gd).display;\n        if (!display || display === 'none') {{\n            console.log([gd, 'removed!']);\n            Plotly.purge(gd);\n            observer.disconnect();\n        }}\n}});\n\n// Listen for the removal of the full notebook cells\nvar notebookContainer = gd.closest('#notebook-container');\nif (notebookContainer) {{\n    x.observe(notebookContainer, {childList: true});\n}}\n\n// Listen for the clearing of the current output cell\nvar outputEl = gd.closest('.output');\nif (outputEl) {{\n    x.observe(outputEl, {childList: true});\n}}\n\n                        })                };                });            </script>        </div>"
     },
     "metadata": {},
     "output_type": "display_data"
    },
    {
     "name": "stdout",
     "output_type": "stream",
     "text": [
      "      LOCATION SUBJECT    MEASURE  TIME   Value\n",
      "262        AUS     GHG  TONNE_CAP  2010  24.173\n",
      "684        AUT     GHG  TONNE_CAP  2010  10.028\n",
      "1106       BEL     GHG  TONNE_CAP  2010  12.217\n",
      "1528       CAN     GHG  TONNE_CAP  2010  20.581\n",
      "1950       CZE     GHG  TONNE_CAP  2010  13.250\n",
      "2372       DNK     GHG  TONNE_CAP  2010  11.641\n",
      "2794       FIN     GHG  TONNE_CAP  2010  14.093\n",
      "3216       FRA     GHG  TONNE_CAP  2010   8.166\n",
      "3638       DEU     GHG  TONNE_CAP  2010  11.652\n",
      "4060       GRC     GHG  TONNE_CAP  2010  10.884\n",
      "4482       HUN     GHG  TONNE_CAP  2010   6.654\n",
      "4904       ISL     GHG  TONNE_CAP  2010  15.191\n",
      "5326       IRL     GHG  TONNE_CAP  2010  13.602\n",
      "5748       ITA     GHG  TONNE_CAP  2010   8.706\n",
      "6170       JPN     GHG  TONNE_CAP  2010  10.117\n",
      "6552       KOR     GHG  TONNE_CAP  2010  13.247\n",
      "6932       LUX     GHG  TONNE_CAP  2010  23.975\n",
      "7234       MEX     GHG  TONNE_CAP  2010   5.864\n",
      "7528       NLD     GHG  TONNE_CAP  2010  12.688\n",
      "7950       NZL     GHG  TONNE_CAP  2010  17.921\n",
      "8372       NOR     GHG  TONNE_CAP  2010  11.311\n",
      "8796       POL     GHG  TONNE_CAP  2010  10.788\n",
      "9220       PRT     GHG  TONNE_CAP  2010   6.486\n",
      "9642       SVK     GHG  TONNE_CAP  2010   8.394\n",
      "10064      ESP     GHG  TONNE_CAP  2010   7.626\n",
      "10486      SWE     GHG  TONNE_CAP  2010   6.875\n",
      "10908      CHE     GHG  TONNE_CAP  2010   7.008\n",
      "11330      TUR     GHG  TONNE_CAP  2010   5.519\n",
      "11752      GBR     GHG  TONNE_CAP  2010   9.592\n",
      "12174      USA     GHG  TONNE_CAP  2010  22.624\n",
      "14118      CHL     GHG  TONNE_CAP  2010   5.154\n",
      "15084      EST     GHG  TONNE_CAP  2010  15.928\n",
      "16417      ISR     GHG  TONNE_CAP  2010  10.304\n",
      "18866      SVN     GHG  TONNE_CAP  2010   9.599\n",
      "20874     OECD     GHG  TONNE_CAP  2010  12.702\n",
      "21086      RUS     GHG  TONNE_CAP  2010  14.033\n",
      "21288    OECDE     GHG  TONNE_CAP  2010   9.173\n",
      "21590      BRA     GHG  TONNE_CAP  2010   4.706\n",
      "21626      CHN     GHG  TONNE_CAP  2010   7.703\n",
      "21654      COL     GHG  TONNE_CAP  2010   3.057\n",
      "21686      IND     GHG  TONNE_CAP  2010   1.702\n",
      "21707      IDN     GHG  TONNE_CAP  2010   2.835\n",
      "21756      LVA     GHG  TONNE_CAP  2010   5.579\n",
      "21786      LTU     GHG  TONNE_CAP  2010   6.640\n",
      "22899      CRI     GHG  TONNE_CAP  2010   2.733\n",
      "28408      ARG     GHG  TONNE_CAP  2010   7.294\n",
      "33166      SAU     GHG  TONNE_CAP  2010  19.158\n",
      "         SUBJECT    MEASURE  TIME   Value\n",
      "LOCATION                                 \n",
      "AUS          GHG  TONNE_CAP  2010  24.173\n",
      "AUT          GHG  TONNE_CAP  2010  10.028\n",
      "BEL          GHG  TONNE_CAP  2010  12.217\n",
      "CAN          GHG  TONNE_CAP  2010  20.581\n",
      "CZE          GHG  TONNE_CAP  2010  13.250\n",
      "DNK          GHG  TONNE_CAP  2010  11.641\n",
      "FIN          GHG  TONNE_CAP  2010  14.093\n",
      "FRA          GHG  TONNE_CAP  2010   8.166\n",
      "DEU          GHG  TONNE_CAP  2010  11.652\n",
      "GRC          GHG  TONNE_CAP  2010  10.884\n",
      "HUN          GHG  TONNE_CAP  2010   6.654\n",
      "ISL          GHG  TONNE_CAP  2010  15.191\n",
      "IRL          GHG  TONNE_CAP  2010  13.602\n",
      "ITA          GHG  TONNE_CAP  2010   8.706\n",
      "JPN          GHG  TONNE_CAP  2010  10.117\n",
      "KOR          GHG  TONNE_CAP  2010  13.247\n",
      "LUX          GHG  TONNE_CAP  2010  23.975\n",
      "MEX          GHG  TONNE_CAP  2010   5.864\n",
      "NLD          GHG  TONNE_CAP  2010  12.688\n",
      "NZL          GHG  TONNE_CAP  2010  17.921\n",
      "NOR          GHG  TONNE_CAP  2010  11.311\n",
      "POL          GHG  TONNE_CAP  2010  10.788\n",
      "PRT          GHG  TONNE_CAP  2010   6.486\n",
      "SVK          GHG  TONNE_CAP  2010   8.394\n",
      "ESP          GHG  TONNE_CAP  2010   7.626\n",
      "SWE          GHG  TONNE_CAP  2010   6.875\n",
      "CHE          GHG  TONNE_CAP  2010   7.008\n",
      "TUR          GHG  TONNE_CAP  2010   5.519\n",
      "GBR          GHG  TONNE_CAP  2010   9.592\n",
      "USA          GHG  TONNE_CAP  2010  22.624\n",
      "CHL          GHG  TONNE_CAP  2010   5.154\n",
      "EST          GHG  TONNE_CAP  2010  15.928\n",
      "ISR          GHG  TONNE_CAP  2010  10.304\n",
      "SVN          GHG  TONNE_CAP  2010   9.599\n",
      "OECD         GHG  TONNE_CAP  2010  12.702\n",
      "RUS          GHG  TONNE_CAP  2010  14.033\n",
      "OECDE        GHG  TONNE_CAP  2010   9.173\n",
      "BRA          GHG  TONNE_CAP  2010   4.706\n",
      "CHN          GHG  TONNE_CAP  2010   7.703\n",
      "COL          GHG  TONNE_CAP  2010   3.057\n",
      "IND          GHG  TONNE_CAP  2010   1.702\n",
      "IDN          GHG  TONNE_CAP  2010   2.835\n",
      "LVA          GHG  TONNE_CAP  2010   5.579\n",
      "LTU          GHG  TONNE_CAP  2010   6.640\n",
      "CRI          GHG  TONNE_CAP  2010   2.733\n",
      "ARG          GHG  TONNE_CAP  2010   7.294\n",
      "SAU          GHG  TONNE_CAP  2010  19.158\n",
      "LOCATION\n",
      "AUS      24.173\n",
      "AUT      10.028\n",
      "BEL      12.217\n",
      "CAN      20.581\n",
      "CZE      13.250\n",
      "DNK      11.641\n",
      "FIN      14.093\n",
      "FRA       8.166\n",
      "DEU      11.652\n",
      "GRC      10.884\n",
      "HUN       6.654\n",
      "ISL      15.191\n",
      "IRL      13.602\n",
      "ITA       8.706\n",
      "JPN      10.117\n",
      "KOR      13.247\n",
      "LUX      23.975\n",
      "MEX       5.864\n",
      "NLD      12.688\n",
      "NZL      17.921\n",
      "NOR      11.311\n",
      "POL      10.788\n",
      "PRT       6.486\n",
      "SVK       8.394\n",
      "ESP       7.626\n",
      "SWE       6.875\n",
      "CHE       7.008\n",
      "TUR       5.519\n",
      "GBR       9.592\n",
      "USA      22.624\n",
      "CHL       5.154\n",
      "EST      15.928\n",
      "ISR      10.304\n",
      "SVN       9.599\n",
      "OECD     12.702\n",
      "RUS      14.033\n",
      "OECDE     9.173\n",
      "BRA       4.706\n",
      "CHN       7.703\n",
      "COL       3.057\n",
      "IND       1.702\n",
      "IDN       2.835\n",
      "LVA       5.579\n",
      "LTU       6.640\n",
      "CRI       2.733\n",
      "ARG       7.294\n",
      "SAU      19.158\n",
      "Name: Values1, dtype: float64\n",
      "LOCATION\n",
      "AUS      24.173\n",
      "AUT      10.028\n",
      "BEL      12.217\n",
      "CAN      20.581\n",
      "CZE      13.250\n",
      "DNK      11.641\n",
      "FIN      14.093\n",
      "FRA       8.166\n",
      "DEU      11.652\n",
      "GRC      10.884\n",
      "HUN       6.654\n",
      "ISL      15.191\n",
      "IRL      13.602\n",
      "ITA       8.706\n",
      "JPN      10.117\n",
      "KOR      13.247\n",
      "LUX      23.975\n",
      "MEX       5.864\n",
      "NLD      12.688\n",
      "NZL      17.921\n",
      "NOR      11.311\n",
      "POL      10.788\n",
      "PRT       6.486\n",
      "SVK       8.394\n",
      "ESP       7.626\n",
      "SWE       6.875\n",
      "CHE       7.008\n",
      "TUR       5.519\n",
      "GBR       9.592\n",
      "USA      22.624\n",
      "CHL       5.154\n",
      "EST      15.928\n",
      "ISR      10.304\n",
      "SVN       9.599\n",
      "OECD     12.702\n",
      "RUS      14.033\n",
      "OECDE     9.173\n",
      "BRA       4.706\n",
      "CHN       7.703\n",
      "COL       3.057\n",
      "IND       1.702\n",
      "IDN       2.835\n",
      "LVA       5.579\n",
      "LTU       6.640\n",
      "CRI       2.733\n",
      "ARG       7.294\n",
      "SAU      19.158\n",
      "Name: Values1, dtype: float64\n"
     ]
    },
    {
     "data": {
      "application/vnd.plotly.v1+json": {
       "data": [
        {
         "hovertemplate": "LOCATION=AUS<br>Values1=%{x}<br>Values2=%{y}<extra></extra>",
         "legendgroup": "AUS",
         "marker": {
          "color": "#636efa",
          "symbol": "circle"
         },
         "mode": "markers",
         "name": "AUS",
         "orientation": "v",
         "showlegend": true,
         "x": [
          24.173
         ],
         "xaxis": "x",
         "y": [
          37.604309
         ],
         "yaxis": "y",
         "type": "scatter"
        },
        {
         "hovertemplate": "LOCATION=AUS<extra></extra>",
         "legendgroup": "AUS",
         "marker": {
          "color": "#636efa",
          "symbol": "circle"
         },
         "mode": "lines",
         "name": "AUS",
         "showlegend": false,
         "xaxis": "x",
         "yaxis": "y",
         "type": "scatter"
        },
        {
         "hovertemplate": "LOCATION=AUT<br>Values1=%{x}<br>Values2=%{y}<extra></extra>",
         "legendgroup": "AUT",
         "marker": {
          "color": "#EF553B",
          "symbol": "circle"
         },
         "mode": "markers",
         "name": "AUT",
         "orientation": "v",
         "showlegend": true,
         "x": [
          10.028
         ],
         "xaxis": "x",
         "y": [
          27.743721
         ],
         "yaxis": "y",
         "type": "scatter"
        },
        {
         "hovertemplate": "LOCATION=AUT<extra></extra>",
         "legendgroup": "AUT",
         "marker": {
          "color": "#EF553B",
          "symbol": "circle"
         },
         "mode": "lines",
         "name": "AUT",
         "showlegend": false,
         "xaxis": "x",
         "yaxis": "y",
         "type": "scatter"
        },
        {
         "hovertemplate": "LOCATION=BEL<br>Values1=%{x}<br>Values2=%{y}<extra></extra>",
         "legendgroup": "BEL",
         "marker": {
          "color": "#00cc96",
          "symbol": "circle"
         },
         "mode": "markers",
         "name": "BEL",
         "orientation": "v",
         "showlegend": true,
         "x": [
          12.217
         ],
         "xaxis": "x",
         "y": [
          34.989502
         ],
         "yaxis": "y",
         "type": "scatter"
        },
        {
         "hovertemplate": "LOCATION=BEL<extra></extra>",
         "legendgroup": "BEL",
         "marker": {
          "color": "#00cc96",
          "symbol": "circle"
         },
         "mode": "lines",
         "name": "BEL",
         "showlegend": false,
         "xaxis": "x",
         "yaxis": "y",
         "type": "scatter"
        },
        {
         "hovertemplate": "LOCATION=CAN<br>Values1=%{x}<br>Values2=%{y}<extra></extra>",
         "legendgroup": "CAN",
         "marker": {
          "color": "#ab63fa",
          "symbol": "circle"
         },
         "mode": "markers",
         "name": "CAN",
         "orientation": "v",
         "showlegend": true,
         "x": [
          20.581
         ],
         "xaxis": "x",
         "y": [
          50.311695
         ],
         "yaxis": "y",
         "type": "scatter"
        },
        {
         "hovertemplate": "LOCATION=CAN<extra></extra>",
         "legendgroup": "CAN",
         "marker": {
          "color": "#ab63fa",
          "symbol": "circle"
         },
         "mode": "lines",
         "name": "CAN",
         "showlegend": false,
         "xaxis": "x",
         "yaxis": "y",
         "type": "scatter"
        },
        {
         "hovertemplate": "LOCATION=CZE<br>Values1=%{x}<br>Values2=%{y}<extra></extra>",
         "legendgroup": "CZE",
         "marker": {
          "color": "#FFA15A",
          "symbol": "circle"
         },
         "mode": "markers",
         "name": "CZE",
         "orientation": "v",
         "showlegend": true,
         "x": [
          13.25
         ],
         "xaxis": "x",
         "y": [
          16.764982
         ],
         "yaxis": "y",
         "type": "scatter"
        },
        {
         "hovertemplate": "LOCATION=CZE<extra></extra>",
         "legendgroup": "CZE",
         "marker": {
          "color": "#FFA15A",
          "symbol": "circle"
         },
         "mode": "lines",
         "name": "CZE",
         "showlegend": false,
         "xaxis": "x",
         "yaxis": "y",
         "type": "scatter"
        },
        {
         "hovertemplate": "LOCATION=DNK<br>Values1=%{x}<br>Values2=%{y}<extra></extra>",
         "legendgroup": "DNK",
         "marker": {
          "color": "#19d3f3",
          "symbol": "circle"
         },
         "mode": "markers",
         "name": "DNK",
         "orientation": "v",
         "showlegend": true,
         "x": [
          11.641
         ],
         "xaxis": "x",
         "y": [
          33.002644
         ],
         "yaxis": "y",
         "type": "scatter"
        },
        {
         "hovertemplate": "LOCATION=DNK<extra></extra>",
         "legendgroup": "DNK",
         "marker": {
          "color": "#19d3f3",
          "symbol": "circle"
         },
         "mode": "lines",
         "name": "DNK",
         "showlegend": false,
         "xaxis": "x",
         "yaxis": "y",
         "type": "scatter"
        },
        {
         "hovertemplate": "LOCATION=FIN<br>Values1=%{x}<br>Values2=%{y}<extra></extra>",
         "legendgroup": "FIN",
         "marker": {
          "color": "#FF6692",
          "symbol": "circle"
         },
         "mode": "markers",
         "name": "FIN",
         "orientation": "v",
         "showlegend": true,
         "x": [
          14.093
         ],
         "xaxis": "x",
         "y": [
          38.146343
         ],
         "yaxis": "y",
         "type": "scatter"
        },
        {
         "hovertemplate": "LOCATION=FIN<extra></extra>",
         "legendgroup": "FIN",
         "marker": {
          "color": "#FF6692",
          "symbol": "circle"
         },
         "mode": "lines",
         "name": "FIN",
         "showlegend": false,
         "xaxis": "x",
         "yaxis": "y",
         "type": "scatter"
        },
        {
         "hovertemplate": "LOCATION=FRA<br>Values1=%{x}<br>Values2=%{y}<extra></extra>",
         "legendgroup": "FRA",
         "marker": {
          "color": "#B6E880",
          "symbol": "circle"
         },
         "mode": "markers",
         "name": "FRA",
         "orientation": "v",
         "showlegend": true,
         "x": [
          8.166
         ],
         "xaxis": "x",
         "y": [
          29.006897
         ],
         "yaxis": "y",
         "type": "scatter"
        },
        {
         "hovertemplate": "LOCATION=FRA<extra></extra>",
         "legendgroup": "FRA",
         "marker": {
          "color": "#B6E880",
          "symbol": "circle"
         },
         "mode": "lines",
         "name": "FRA",
         "showlegend": false,
         "xaxis": "x",
         "yaxis": "y",
         "type": "scatter"
        },
        {
         "hovertemplate": "LOCATION=DEU<br>Values1=%{x}<br>Values2=%{y}<extra></extra>",
         "legendgroup": "DEU",
         "marker": {
          "color": "#FF97FF",
          "symbol": "circle"
         },
         "mode": "markers",
         "name": "DEU",
         "orientation": "v",
         "showlegend": true,
         "x": [
          11.652
         ],
         "xaxis": "x",
         "y": [
          26.609148
         ],
         "yaxis": "y",
         "type": "scatter"
        },
        {
         "hovertemplate": "LOCATION=DEU<extra></extra>",
         "legendgroup": "DEU",
         "marker": {
          "color": "#FF97FF",
          "symbol": "circle"
         },
         "mode": "lines",
         "name": "DEU",
         "showlegend": false,
         "xaxis": "x",
         "yaxis": "y",
         "type": "scatter"
        },
        {
         "hovertemplate": "LOCATION=GRC<br>Values1=%{x}<br>Values2=%{y}<extra></extra>",
         "legendgroup": "GRC",
         "marker": {
          "color": "#FECB52",
          "symbol": "circle"
         },
         "mode": "markers",
         "name": "GRC",
         "orientation": "v",
         "showlegend": true,
         "x": [
          10.884
         ],
         "xaxis": "x",
         "y": [
          24.744848
         ],
         "yaxis": "y",
         "type": "scatter"
        },
        {
         "hovertemplate": "LOCATION=GRC<extra></extra>",
         "legendgroup": "GRC",
         "marker": {
          "color": "#FECB52",
          "symbol": "circle"
         },
         "mode": "lines",
         "name": "GRC",
         "showlegend": false,
         "xaxis": "x",
         "yaxis": "y",
         "type": "scatter"
        },
        {
         "hovertemplate": "LOCATION=HUN<br>Values1=%{x}<br>Values2=%{y}<extra></extra>",
         "legendgroup": "HUN",
         "marker": {
          "color": "#636efa",
          "symbol": "circle"
         },
         "mode": "markers",
         "name": "HUN",
         "orientation": "v",
         "showlegend": true,
         "x": [
          6.654
         ],
         "xaxis": "x",
         "y": [
          20.121918
         ],
         "yaxis": "y",
         "type": "scatter"
        },
        {
         "hovertemplate": "LOCATION=HUN<extra></extra>",
         "legendgroup": "HUN",
         "marker": {
          "color": "#636efa",
          "symbol": "circle"
         },
         "mode": "lines",
         "name": "HUN",
         "showlegend": false,
         "xaxis": "x",
         "yaxis": "y",
         "type": "scatter"
        },
        {
         "hovertemplate": "LOCATION=ISL<br>Values1=%{x}<br>Values2=%{y}<extra></extra>",
         "legendgroup": "ISL",
         "marker": {
          "color": "#EF553B",
          "symbol": "circle"
         },
         "mode": "markers",
         "name": "ISL",
         "orientation": "v",
         "showlegend": true,
         "x": [
          15.191
         ],
         "xaxis": "x",
         "y": [
          31.298735
         ],
         "yaxis": "y",
         "type": "scatter"
        },
        {
         "hovertemplate": "LOCATION=ISL<extra></extra>",
         "legendgroup": "ISL",
         "marker": {
          "color": "#EF553B",
          "symbol": "circle"
         },
         "mode": "lines",
         "name": "ISL",
         "showlegend": false,
         "xaxis": "x",
         "yaxis": "y",
         "type": "scatter"
        },
        {
         "hovertemplate": "LOCATION=IRL<br>Values1=%{x}<br>Values2=%{y}<extra></extra>",
         "legendgroup": "IRL",
         "marker": {
          "color": "#00cc96",
          "symbol": "circle"
         },
         "mode": "markers",
         "name": "IRL",
         "orientation": "v",
         "showlegend": true,
         "x": [
          13.602
         ],
         "xaxis": "x",
         "y": [
          37.584061
         ],
         "yaxis": "y",
         "type": "scatter"
        },
        {
         "hovertemplate": "LOCATION=IRL<extra></extra>",
         "legendgroup": "IRL",
         "marker": {
          "color": "#00cc96",
          "symbol": "circle"
         },
         "mode": "lines",
         "name": "IRL",
         "showlegend": false,
         "xaxis": "x",
         "yaxis": "y",
         "type": "scatter"
        },
        {
         "hovertemplate": "LOCATION=ITA<br>Values1=%{x}<br>Values2=%{y}<extra></extra>",
         "legendgroup": "ITA",
         "marker": {
          "color": "#ab63fa",
          "symbol": "circle"
         },
         "mode": "markers",
         "name": "ITA",
         "orientation": "v",
         "showlegend": true,
         "x": [
          8.706
         ],
         "xaxis": "x",
         "y": [
          14.802574
         ],
         "yaxis": "y",
         "type": "scatter"
        },
        {
         "hovertemplate": "LOCATION=ITA<extra></extra>",
         "legendgroup": "ITA",
         "marker": {
          "color": "#ab63fa",
          "symbol": "circle"
         },
         "mode": "lines",
         "name": "ITA",
         "showlegend": false,
         "xaxis": "x",
         "yaxis": "y",
         "type": "scatter"
        },
        {
         "hovertemplate": "LOCATION=JPN<br>Values1=%{x}<br>Values2=%{y}<extra></extra>",
         "legendgroup": "JPN",
         "marker": {
          "color": "#FFA15A",
          "symbol": "circle"
         },
         "mode": "markers",
         "name": "JPN",
         "orientation": "v",
         "showlegend": true,
         "x": [
          10.117
         ],
         "xaxis": "x",
         "y": [
          44.809975
         ],
         "yaxis": "y",
         "type": "scatter"
        },
        {
         "hovertemplate": "LOCATION=JPN<extra></extra>",
         "legendgroup": "JPN",
         "marker": {
          "color": "#FFA15A",
          "symbol": "circle"
         },
         "mode": "lines",
         "name": "JPN",
         "showlegend": false,
         "xaxis": "x",
         "yaxis": "y",
         "type": "scatter"
        },
        {
         "hovertemplate": "LOCATION=KOR<br>Values1=%{x}<br>Values2=%{y}<extra></extra>",
         "legendgroup": "KOR",
         "marker": {
          "color": "#19d3f3",
          "symbol": "circle"
         },
         "mode": "markers",
         "name": "KOR",
         "orientation": "v",
         "showlegend": true,
         "x": [
          13.247
         ],
         "xaxis": "x",
         "y": [
          39.044632
         ],
         "yaxis": "y",
         "type": "scatter"
        },
        {
         "hovertemplate": "LOCATION=KOR<extra></extra>",
         "legendgroup": "KOR",
         "marker": {
          "color": "#19d3f3",
          "symbol": "circle"
         },
         "mode": "lines",
         "name": "KOR",
         "showlegend": false,
         "xaxis": "x",
         "yaxis": "y",
         "type": "scatter"
        },
        {
         "hovertemplate": "LOCATION=LUX<br>Values1=%{x}<br>Values2=%{y}<extra></extra>",
         "legendgroup": "LUX",
         "marker": {
          "color": "#FF6692",
          "symbol": "circle"
         },
         "mode": "markers",
         "name": "LUX",
         "orientation": "v",
         "showlegend": true,
         "x": [
          23.975
         ],
         "xaxis": "x",
         "y": [
          35.475895
         ],
         "yaxis": "y",
         "type": "scatter"
        },
        {
         "hovertemplate": "LOCATION=LUX<extra></extra>",
         "legendgroup": "LUX",
         "marker": {
          "color": "#FF6692",
          "symbol": "circle"
         },
         "mode": "lines",
         "name": "LUX",
         "showlegend": false,
         "xaxis": "x",
         "yaxis": "y",
         "type": "scatter"
        },
        {
         "hovertemplate": "LOCATION=MEX<br>Values1=%{x}<br>Values2=%{y}<extra></extra>",
         "legendgroup": "MEX",
         "marker": {
          "color": "#B6E880",
          "symbol": "circle"
         },
         "mode": "markers",
         "name": "MEX",
         "orientation": "v",
         "showlegend": true,
         "x": [
          5.864
         ],
         "xaxis": "x",
         "y": [
          14.654601
         ],
         "yaxis": "y",
         "type": "scatter"
        },
        {
         "hovertemplate": "LOCATION=MEX<extra></extra>",
         "legendgroup": "MEX",
         "marker": {
          "color": "#B6E880",
          "symbol": "circle"
         },
         "mode": "lines",
         "name": "MEX",
         "showlegend": false,
         "xaxis": "x",
         "yaxis": "y",
         "type": "scatter"
        },
        {
         "hovertemplate": "LOCATION=NLD<br>Values1=%{x}<br>Values2=%{y}<extra></extra>",
         "legendgroup": "NLD",
         "marker": {
          "color": "#FF97FF",
          "symbol": "circle"
         },
         "mode": "markers",
         "name": "NLD",
         "orientation": "v",
         "showlegend": true,
         "x": [
          12.688
         ],
         "xaxis": "x",
         "y": [
          32.389164
         ],
         "yaxis": "y",
         "type": "scatter"
        },
        {
         "hovertemplate": "LOCATION=NLD<extra></extra>",
         "legendgroup": "NLD",
         "marker": {
          "color": "#FF97FF",
          "symbol": "circle"
         },
         "mode": "lines",
         "name": "NLD",
         "showlegend": false,
         "xaxis": "x",
         "yaxis": "y",
         "type": "scatter"
        },
        {
         "hovertemplate": "LOCATION=NZL<br>Values1=%{x}<br>Values2=%{y}<extra></extra>",
         "legendgroup": "NZL",
         "marker": {
          "color": "#FECB52",
          "symbol": "circle"
         },
         "mode": "markers",
         "name": "NZL",
         "orientation": "v",
         "showlegend": true,
         "x": [
          17.921
         ],
         "xaxis": "x",
         "y": [
          null
         ],
         "yaxis": "y",
         "type": "scatter"
        },
        {
         "hovertemplate": "LOCATION=NZL<extra></extra>",
         "legendgroup": "NZL",
         "marker": {
          "color": "#FECB52",
          "symbol": "circle"
         },
         "mode": "lines",
         "name": "NZL",
         "showlegend": false,
         "xaxis": "x",
         "yaxis": "y",
         "type": "scatter"
        },
        {
         "hovertemplate": "LOCATION=NOR<br>Values1=%{x}<br>Values2=%{y}<extra></extra>",
         "legendgroup": "NOR",
         "marker": {
          "color": "#636efa",
          "symbol": "circle"
         },
         "mode": "markers",
         "name": "NOR",
         "orientation": "v",
         "showlegend": true,
         "x": [
          11.311
         ],
         "xaxis": "x",
         "y": [
          37.284328
         ],
         "yaxis": "y",
         "type": "scatter"
        },
        {
         "hovertemplate": "LOCATION=NOR<extra></extra>",
         "legendgroup": "NOR",
         "marker": {
          "color": "#636efa",
          "symbol": "circle"
         },
         "mode": "lines",
         "name": "NOR",
         "showlegend": false,
         "xaxis": "x",
         "yaxis": "y",
         "type": "scatter"
        },
        {
         "hovertemplate": "LOCATION=POL<br>Values1=%{x}<br>Values2=%{y}<extra></extra>",
         "legendgroup": "POL",
         "marker": {
          "color": "#EF553B",
          "symbol": "circle"
         },
         "mode": "markers",
         "name": "POL",
         "orientation": "v",
         "showlegend": true,
         "x": [
          10.788
         ],
         "xaxis": "x",
         "y": [
          22.468407
         ],
         "yaxis": "y",
         "type": "scatter"
        },
        {
         "hovertemplate": "LOCATION=POL<extra></extra>",
         "legendgroup": "POL",
         "marker": {
          "color": "#EF553B",
          "symbol": "circle"
         },
         "mode": "lines",
         "name": "POL",
         "showlegend": false,
         "xaxis": "x",
         "yaxis": "y",
         "type": "scatter"
        },
        {
         "hovertemplate": "LOCATION=PRT<br>Values1=%{x}<br>Values2=%{y}<extra></extra>",
         "legendgroup": "PRT",
         "marker": {
          "color": "#00cc96",
          "symbol": "circle"
         },
         "mode": "markers",
         "name": "PRT",
         "orientation": "v",
         "showlegend": true,
         "x": [
          6.486
         ],
         "xaxis": "x",
         "y": [
          15.445285
         ],
         "yaxis": "y",
         "type": "scatter"
        },
        {
         "hovertemplate": "LOCATION=PRT<extra></extra>",
         "legendgroup": "PRT",
         "marker": {
          "color": "#00cc96",
          "symbol": "circle"
         },
         "mode": "lines",
         "name": "PRT",
         "showlegend": false,
         "xaxis": "x",
         "yaxis": "y",
         "type": "scatter"
        },
        {
         "hovertemplate": "LOCATION=SVK<br>Values1=%{x}<br>Values2=%{y}<extra></extra>",
         "legendgroup": "SVK",
         "marker": {
          "color": "#ab63fa",
          "symbol": "circle"
         },
         "mode": "markers",
         "name": "SVK",
         "orientation": "v",
         "showlegend": true,
         "x": [
          8.394
         ],
         "xaxis": "x",
         "y": [
          17.327984
         ],
         "yaxis": "y",
         "type": "scatter"
        },
        {
         "hovertemplate": "LOCATION=SVK<extra></extra>",
         "legendgroup": "SVK",
         "marker": {
          "color": "#ab63fa",
          "symbol": "circle"
         },
         "mode": "lines",
         "name": "SVK",
         "showlegend": false,
         "xaxis": "x",
         "yaxis": "y",
         "type": "scatter"
        },
        {
         "hovertemplate": "LOCATION=ESP<br>Values1=%{x}<br>Values2=%{y}<extra></extra>",
         "legendgroup": "ESP",
         "marker": {
          "color": "#FFA15A",
          "symbol": "circle"
         },
         "mode": "markers",
         "name": "ESP",
         "orientation": "v",
         "showlegend": true,
         "x": [
          7.626
         ],
         "xaxis": "x",
         "y": [
          31.016668
         ],
         "yaxis": "y",
         "type": "scatter"
        },
        {
         "hovertemplate": "LOCATION=ESP<extra></extra>",
         "legendgroup": "ESP",
         "marker": {
          "color": "#FFA15A",
          "symbol": "circle"
         },
         "mode": "lines",
         "name": "ESP",
         "showlegend": false,
         "xaxis": "x",
         "yaxis": "y",
         "type": "scatter"
        },
        {
         "hovertemplate": "LOCATION=SWE<br>Values1=%{x}<br>Values2=%{y}<extra></extra>",
         "legendgroup": "SWE",
         "marker": {
          "color": "#19d3f3",
          "symbol": "circle"
         },
         "mode": "markers",
         "name": "SWE",
         "orientation": "v",
         "showlegend": true,
         "x": [
          6.875
         ],
         "xaxis": "x",
         "y": [
          33.868935
         ],
         "yaxis": "y",
         "type": "scatter"
        },
        {
         "hovertemplate": "LOCATION=SWE<extra></extra>",
         "legendgroup": "SWE",
         "marker": {
          "color": "#19d3f3",
          "symbol": "circle"
         },
         "mode": "lines",
         "name": "SWE",
         "showlegend": false,
         "xaxis": "x",
         "yaxis": "y",
         "type": "scatter"
        },
        {
         "hovertemplate": "LOCATION=CHE<br>Values1=%{x}<br>Values2=%{y}<extra></extra>",
         "legendgroup": "CHE",
         "marker": {
          "color": "#FF6692",
          "symbol": "circle"
         },
         "mode": "markers",
         "name": "CHE",
         "orientation": "v",
         "showlegend": true,
         "x": [
          7.008
         ],
         "xaxis": "x",
         "y": [
          33.881504
         ],
         "yaxis": "y",
         "type": "scatter"
        },
        {
         "hovertemplate": "LOCATION=CHE<extra></extra>",
         "legendgroup": "CHE",
         "marker": {
          "color": "#FF6692",
          "symbol": "circle"
         },
         "mode": "lines",
         "name": "CHE",
         "showlegend": false,
         "xaxis": "x",
         "yaxis": "y",
         "type": "scatter"
        },
        {
         "hovertemplate": "LOCATION=TUR<br>Values1=%{x}<br>Values2=%{y}<extra></extra>",
         "legendgroup": "TUR",
         "marker": {
          "color": "#B6E880",
          "symbol": "circle"
         },
         "mode": "markers",
         "name": "TUR",
         "orientation": "v",
         "showlegend": true,
         "x": [
          5.519
         ],
         "xaxis": "x",
         "y": [
          13.118464
         ],
         "yaxis": "y",
         "type": "scatter"
        },
        {
         "hovertemplate": "LOCATION=TUR<extra></extra>",
         "legendgroup": "TUR",
         "marker": {
          "color": "#B6E880",
          "symbol": "circle"
         },
         "mode": "lines",
         "name": "TUR",
         "showlegend": false,
         "xaxis": "x",
         "yaxis": "y",
         "type": "scatter"
        },
        {
         "hovertemplate": "LOCATION=GBR<br>Values1=%{x}<br>Values2=%{y}<extra></extra>",
         "legendgroup": "GBR",
         "marker": {
          "color": "#FF97FF",
          "symbol": "circle"
         },
         "mode": "markers",
         "name": "GBR",
         "orientation": "v",
         "showlegend": true,
         "x": [
          9.592
         ],
         "xaxis": "x",
         "y": [
          38.187191
         ],
         "yaxis": "y",
         "type": "scatter"
        },
        {
         "hovertemplate": "LOCATION=GBR<extra></extra>",
         "legendgroup": "GBR",
         "marker": {
          "color": "#FF97FF",
          "symbol": "circle"
         },
         "mode": "lines",
         "name": "GBR",
         "showlegend": false,
         "xaxis": "x",
         "yaxis": "y",
         "type": "scatter"
        },
        {
         "hovertemplate": "LOCATION=USA<br>Values1=%{x}<br>Values2=%{y}<extra></extra>",
         "legendgroup": "USA",
         "marker": {
          "color": "#FECB52",
          "symbol": "circle"
         },
         "mode": "markers",
         "name": "USA",
         "orientation": "v",
         "showlegend": true,
         "x": [
          22.624
         ],
         "xaxis": "x",
         "y": [
          41.662415
         ],
         "yaxis": "y",
         "type": "scatter"
        },
        {
         "hovertemplate": "LOCATION=USA<extra></extra>",
         "legendgroup": "USA",
         "marker": {
          "color": "#FECB52",
          "symbol": "circle"
         },
         "mode": "lines",
         "name": "USA",
         "showlegend": false,
         "xaxis": "x",
         "yaxis": "y",
         "type": "scatter"
        },
        {
         "hovertemplate": "LOCATION=CHL<br>Values1=%{x}<br>Values2=%{y}<extra></extra>",
         "legendgroup": "CHL",
         "marker": {
          "color": "#636efa",
          "symbol": "circle"
         },
         "mode": "markers",
         "name": "CHL",
         "orientation": "v",
         "showlegend": true,
         "x": [
          5.154
         ],
         "xaxis": "x",
         "y": [
          null
         ],
         "yaxis": "y",
         "type": "scatter"
        },
        {
         "hovertemplate": "LOCATION=CHL<extra></extra>",
         "legendgroup": "CHL",
         "marker": {
          "color": "#636efa",
          "symbol": "circle"
         },
         "mode": "lines",
         "name": "CHL",
         "showlegend": false,
         "xaxis": "x",
         "yaxis": "y",
         "type": "scatter"
        },
        {
         "hovertemplate": "LOCATION=EST<br>Values1=%{x}<br>Values2=%{y}<extra></extra>",
         "legendgroup": "EST",
         "marker": {
          "color": "#EF553B",
          "symbol": "circle"
         },
         "mode": "markers",
         "name": "EST",
         "orientation": "v",
         "showlegend": true,
         "x": [
          15.928
         ],
         "xaxis": "x",
         "y": [
          35.423084
         ],
         "yaxis": "y",
         "type": "scatter"
        },
        {
         "hovertemplate": "LOCATION=EST<extra></extra>",
         "legendgroup": "EST",
         "marker": {
          "color": "#EF553B",
          "symbol": "circle"
         },
         "mode": "lines",
         "name": "EST",
         "showlegend": false,
         "xaxis": "x",
         "yaxis": "y",
         "type": "scatter"
        },
        {
         "hovertemplate": "LOCATION=ISR<br>Values1=%{x}<br>Values2=%{y}<extra></extra>",
         "legendgroup": "ISR",
         "marker": {
          "color": "#00cc96",
          "symbol": "circle"
         },
         "mode": "markers",
         "name": "ISR",
         "orientation": "v",
         "showlegend": true,
         "x": [
          10.304
         ],
         "xaxis": "x",
         "y": [
          45.560074
         ],
         "yaxis": "y",
         "type": "scatter"
        },
        {
         "hovertemplate": "LOCATION=ISR<extra></extra>",
         "legendgroup": "ISR",
         "marker": {
          "color": "#00cc96",
          "symbol": "circle"
         },
         "mode": "lines",
         "name": "ISR",
         "showlegend": false,
         "xaxis": "x",
         "yaxis": "y",
         "type": "scatter"
        },
        {
         "hovertemplate": "LOCATION=SVN<br>Values1=%{x}<br>Values2=%{y}<extra></extra>",
         "legendgroup": "SVN",
         "marker": {
          "color": "#ab63fa",
          "symbol": "circle"
         },
         "mode": "markers",
         "name": "SVN",
         "orientation": "v",
         "showlegend": true,
         "x": [
          9.599
         ],
         "xaxis": "x",
         "y": [
          23.716619
         ],
         "yaxis": "y",
         "type": "scatter"
        },
        {
         "hovertemplate": "LOCATION=SVN<extra></extra>",
         "legendgroup": "SVN",
         "marker": {
          "color": "#ab63fa",
          "symbol": "circle"
         },
         "mode": "lines",
         "name": "SVN",
         "showlegend": false,
         "xaxis": "x",
         "yaxis": "y",
         "type": "scatter"
        },
        {
         "hovertemplate": "LOCATION=OECD<br>Values1=%{x}<br>Values2=%{y}<extra></extra>",
         "legendgroup": "OECD",
         "marker": {
          "color": "#FFA15A",
          "symbol": "circle"
         },
         "mode": "markers",
         "name": "OECD",
         "orientation": "v",
         "showlegend": true,
         "x": [
          12.702
         ],
         "xaxis": "x",
         "y": [
          null
         ],
         "yaxis": "y",
         "type": "scatter"
        },
        {
         "hovertemplate": "LOCATION=OECD<extra></extra>",
         "legendgroup": "OECD",
         "marker": {
          "color": "#FFA15A",
          "symbol": "circle"
         },
         "mode": "lines",
         "name": "OECD",
         "showlegend": false,
         "xaxis": "x",
         "yaxis": "y",
         "type": "scatter"
        },
        {
         "hovertemplate": "LOCATION=RUS<br>Values1=%{x}<br>Values2=%{y}<extra></extra>",
         "legendgroup": "RUS",
         "marker": {
          "color": "#19d3f3",
          "symbol": "circle"
         },
         "mode": "markers",
         "name": "RUS",
         "orientation": "v",
         "showlegend": true,
         "x": [
          14.033
         ],
         "xaxis": "x",
         "y": [
          50.371468
         ],
         "yaxis": "y",
         "type": "scatter"
        },
        {
         "hovertemplate": "LOCATION=RUS<extra></extra>",
         "legendgroup": "RUS",
         "marker": {
          "color": "#19d3f3",
          "symbol": "circle"
         },
         "mode": "lines",
         "name": "RUS",
         "showlegend": false,
         "xaxis": "x",
         "yaxis": "y",
         "type": "scatter"
        },
        {
         "hovertemplate": "LOCATION=OECDE<br>Values1=%{x}<br>Values2=%{y}<extra></extra>",
         "legendgroup": "OECDE",
         "marker": {
          "color": "#FF6692",
          "symbol": "circle"
         },
         "mode": "markers",
         "name": "OECDE",
         "orientation": "v",
         "showlegend": true,
         "x": [
          9.173
         ],
         "xaxis": "x",
         "y": [
          null
         ],
         "yaxis": "y",
         "type": "scatter"
        },
        {
         "hovertemplate": "LOCATION=OECDE<extra></extra>",
         "legendgroup": "OECDE",
         "marker": {
          "color": "#FF6692",
          "symbol": "circle"
         },
         "mode": "lines",
         "name": "OECDE",
         "showlegend": false,
         "xaxis": "x",
         "yaxis": "y",
         "type": "scatter"
        },
        {
         "hovertemplate": "LOCATION=BRA<br>Values1=%{x}<br>Values2=%{y}<extra></extra>",
         "legendgroup": "BRA",
         "marker": {
          "color": "#B6E880",
          "symbol": "circle"
         },
         "mode": "markers",
         "name": "BRA",
         "orientation": "v",
         "showlegend": true,
         "x": [
          4.706
         ],
         "xaxis": "x",
         "y": [
          null
         ],
         "yaxis": "y",
         "type": "scatter"
        },
        {
         "hovertemplate": "LOCATION=BRA<extra></extra>",
         "legendgroup": "BRA",
         "marker": {
          "color": "#B6E880",
          "symbol": "circle"
         },
         "mode": "lines",
         "name": "BRA",
         "showlegend": false,
         "xaxis": "x",
         "yaxis": "y",
         "type": "scatter"
        },
        {
         "hovertemplate": "LOCATION=CHN<br>Values1=%{x}<br>Values2=%{y}<extra></extra>",
         "legendgroup": "CHN",
         "marker": {
          "color": "#FF97FF",
          "symbol": "circle"
         },
         "mode": "markers",
         "name": "CHN",
         "orientation": "v",
         "showlegend": true,
         "x": [
          7.703
         ],
         "xaxis": "x",
         "y": [
          9.6811743
         ],
         "yaxis": "y",
         "type": "scatter"
        },
        {
         "hovertemplate": "LOCATION=CHN<extra></extra>",
         "legendgroup": "CHN",
         "marker": {
          "color": "#FF97FF",
          "symbol": "circle"
         },
         "mode": "lines",
         "name": "CHN",
         "showlegend": false,
         "xaxis": "x",
         "yaxis": "y",
         "type": "scatter"
        },
        {
         "hovertemplate": "LOCATION=COL<br>Values1=%{x}<br>Values2=%{y}<extra></extra>",
         "legendgroup": "COL",
         "marker": {
          "color": "#FECB52",
          "symbol": "circle"
         },
         "mode": "markers",
         "name": "COL",
         "orientation": "v",
         "showlegend": true,
         "x": [
          3.057
         ],
         "xaxis": "x",
         "y": [
          null
         ],
         "yaxis": "y",
         "type": "scatter"
        },
        {
         "hovertemplate": "LOCATION=COL<extra></extra>",
         "legendgroup": "COL",
         "marker": {
          "color": "#FECB52",
          "symbol": "circle"
         },
         "mode": "lines",
         "name": "COL",
         "showlegend": false,
         "xaxis": "x",
         "yaxis": "y",
         "type": "scatter"
        },
        {
         "hovertemplate": "LOCATION=IND<br>Values1=%{x}<br>Values2=%{y}<extra></extra>",
         "legendgroup": "IND",
         "marker": {
          "color": "#636efa",
          "symbol": "circle"
         },
         "mode": "markers",
         "name": "IND",
         "orientation": "v",
         "showlegend": true,
         "x": [
          1.702
         ],
         "xaxis": "x",
         "y": [
          null
         ],
         "yaxis": "y",
         "type": "scatter"
        },
        {
         "hovertemplate": "LOCATION=IND<extra></extra>",
         "legendgroup": "IND",
         "marker": {
          "color": "#636efa",
          "symbol": "circle"
         },
         "mode": "lines",
         "name": "IND",
         "showlegend": false,
         "xaxis": "x",
         "yaxis": "y",
         "type": "scatter"
        },
        {
         "hovertemplate": "LOCATION=IDN<br>Values1=%{x}<br>Values2=%{y}<extra></extra>",
         "legendgroup": "IDN",
         "marker": {
          "color": "#EF553B",
          "symbol": "circle"
         },
         "mode": "markers",
         "name": "IDN",
         "orientation": "v",
         "showlegend": true,
         "x": [
          2.835
         ],
         "xaxis": "x",
         "y": [
          7.9779863
         ],
         "yaxis": "y",
         "type": "scatter"
        },
        {
         "hovertemplate": "LOCATION=IDN<extra></extra>",
         "legendgroup": "IDN",
         "marker": {
          "color": "#EF553B",
          "symbol": "circle"
         },
         "mode": "lines",
         "name": "IDN",
         "showlegend": false,
         "xaxis": "x",
         "yaxis": "y",
         "type": "scatter"
        },
        {
         "hovertemplate": "LOCATION=LVA<br>Values1=%{x}<br>Values2=%{y}<extra></extra>",
         "legendgroup": "LVA",
         "marker": {
          "color": "#00cc96",
          "symbol": "circle"
         },
         "mode": "markers",
         "name": "LVA",
         "orientation": "v",
         "showlegend": true,
         "x": [
          5.579
         ],
         "xaxis": "x",
         "y": [
          26.946114
         ],
         "yaxis": "y",
         "type": "scatter"
        },
        {
         "hovertemplate": "LOCATION=LVA<extra></extra>",
         "legendgroup": "LVA",
         "marker": {
          "color": "#00cc96",
          "symbol": "circle"
         },
         "mode": "lines",
         "name": "LVA",
         "showlegend": false,
         "xaxis": "x",
         "yaxis": "y",
         "type": "scatter"
        },
        {
         "hovertemplate": "LOCATION=LTU<br>Values1=%{x}<br>Values2=%{y}<extra></extra>",
         "legendgroup": "LTU",
         "marker": {
          "color": "#ab63fa",
          "symbol": "circle"
         },
         "mode": "markers",
         "name": "LTU",
         "orientation": "v",
         "showlegend": true,
         "x": [
          6.64
         ],
         "xaxis": "x",
         "y": [
          32.440029
         ],
         "yaxis": "y",
         "type": "scatter"
        },
        {
         "hovertemplate": "LOCATION=LTU<extra></extra>",
         "legendgroup": "LTU",
         "marker": {
          "color": "#ab63fa",
          "symbol": "circle"
         },
         "mode": "lines",
         "name": "LTU",
         "showlegend": false,
         "xaxis": "x",
         "yaxis": "y",
         "type": "scatter"
        },
        {
         "hovertemplate": "LOCATION=CRI<br>Values1=%{x}<br>Values2=%{y}<extra></extra>",
         "legendgroup": "CRI",
         "marker": {
          "color": "#FFA15A",
          "symbol": "circle"
         },
         "mode": "markers",
         "name": "CRI",
         "orientation": "v",
         "showlegend": true,
         "x": [
          2.733
         ],
         "xaxis": "x",
         "y": [
          20.980572
         ],
         "yaxis": "y",
         "type": "scatter"
        },
        {
         "hovertemplate": "LOCATION=CRI<extra></extra>",
         "legendgroup": "CRI",
         "marker": {
          "color": "#FFA15A",
          "symbol": "circle"
         },
         "mode": "lines",
         "name": "CRI",
         "showlegend": false,
         "xaxis": "x",
         "yaxis": "y",
         "type": "scatter"
        },
        {
         "hovertemplate": "LOCATION=ARG<br>Values1=%{x}<br>Values2=%{y}<extra></extra>",
         "legendgroup": "ARG",
         "marker": {
          "color": "#19d3f3",
          "symbol": "circle"
         },
         "mode": "markers",
         "name": "ARG",
         "orientation": "v",
         "showlegend": true,
         "x": [
          7.294
         ],
         "xaxis": "x",
         "y": [
          null
         ],
         "yaxis": "y",
         "type": "scatter"
        },
        {
         "hovertemplate": "LOCATION=ARG<extra></extra>",
         "legendgroup": "ARG",
         "marker": {
          "color": "#19d3f3",
          "symbol": "circle"
         },
         "mode": "lines",
         "name": "ARG",
         "showlegend": false,
         "xaxis": "x",
         "yaxis": "y",
         "type": "scatter"
        },
        {
         "hovertemplate": "LOCATION=SAU<br>Values1=%{x}<br>Values2=%{y}<extra></extra>",
         "legendgroup": "SAU",
         "marker": {
          "color": "#FF6692",
          "symbol": "circle"
         },
         "mode": "markers",
         "name": "SAU",
         "orientation": "v",
         "showlegend": true,
         "x": [
          19.158
         ],
         "xaxis": "x",
         "y": [
          null
         ],
         "yaxis": "y",
         "type": "scatter"
        },
        {
         "hovertemplate": "LOCATION=SAU<extra></extra>",
         "legendgroup": "SAU",
         "marker": {
          "color": "#FF6692",
          "symbol": "circle"
         },
         "mode": "lines",
         "name": "SAU",
         "showlegend": false,
         "xaxis": "x",
         "yaxis": "y",
         "type": "scatter"
        },
        {
         "hovertemplate": "LOCATION=ZAF<br>Values1=%{x}<br>Values2=%{y}<extra></extra>",
         "legendgroup": "ZAF",
         "marker": {
          "color": "#B6E880",
          "symbol": "circle"
         },
         "mode": "markers",
         "name": "ZAF",
         "orientation": "v",
         "showlegend": true,
         "x": [
          null
         ],
         "xaxis": "x",
         "y": [
          6.860743
         ],
         "yaxis": "y",
         "type": "scatter"
        },
        {
         "hovertemplate": "LOCATION=ZAF<extra></extra>",
         "legendgroup": "ZAF",
         "marker": {
          "color": "#B6E880",
          "symbol": "circle"
         },
         "mode": "lines",
         "name": "ZAF",
         "showlegend": false,
         "xaxis": "x",
         "yaxis": "y",
         "type": "scatter"
        },
        {
         "hovertemplate": "LOCATION=OAVG<br>Values1=%{x}<br>Values2=%{y}<extra></extra>",
         "legendgroup": "OAVG",
         "marker": {
          "color": "#FF97FF",
          "symbol": "circle"
         },
         "mode": "markers",
         "name": "OAVG",
         "orientation": "v",
         "showlegend": true,
         "x": [
          null
         ],
         "xaxis": "x",
         "y": [
          30.240952
         ],
         "yaxis": "y",
         "type": "scatter"
        },
        {
         "hovertemplate": "LOCATION=OAVG<extra></extra>",
         "legendgroup": "OAVG",
         "marker": {
          "color": "#FF97FF",
          "symbol": "circle"
         },
         "mode": "lines",
         "name": "OAVG",
         "showlegend": false,
         "xaxis": "x",
         "yaxis": "y",
         "type": "scatter"
        },
        {
         "hovertemplate": "LOCATION=G20<br>Values1=%{x}<br>Values2=%{y}<extra></extra>",
         "legendgroup": "G20",
         "marker": {
          "color": "#FECB52",
          "symbol": "circle"
         },
         "mode": "markers",
         "name": "G20",
         "orientation": "v",
         "showlegend": true,
         "x": [
          null
         ],
         "xaxis": "x",
         "y": [
          28.313552
         ],
         "yaxis": "y",
         "type": "scatter"
        },
        {
         "hovertemplate": "LOCATION=G20<extra></extra>",
         "legendgroup": "G20",
         "marker": {
          "color": "#FECB52",
          "symbol": "circle"
         },
         "mode": "lines",
         "name": "G20",
         "showlegend": false,
         "xaxis": "x",
         "yaxis": "y",
         "type": "scatter"
        }
       ],
       "layout": {
        "template": {
         "data": {
          "bar": [
           {
            "error_x": {
             "color": "#2a3f5f"
            },
            "error_y": {
             "color": "#2a3f5f"
            },
            "marker": {
             "line": {
              "color": "#E5ECF6",
              "width": 0.5
             },
             "pattern": {
              "fillmode": "overlay",
              "size": 10,
              "solidity": 0.2
             }
            },
            "type": "bar"
           }
          ],
          "barpolar": [
           {
            "marker": {
             "line": {
              "color": "#E5ECF6",
              "width": 0.5
             },
             "pattern": {
              "fillmode": "overlay",
              "size": 10,
              "solidity": 0.2
             }
            },
            "type": "barpolar"
           }
          ],
          "carpet": [
           {
            "aaxis": {
             "endlinecolor": "#2a3f5f",
             "gridcolor": "white",
             "linecolor": "white",
             "minorgridcolor": "white",
             "startlinecolor": "#2a3f5f"
            },
            "baxis": {
             "endlinecolor": "#2a3f5f",
             "gridcolor": "white",
             "linecolor": "white",
             "minorgridcolor": "white",
             "startlinecolor": "#2a3f5f"
            },
            "type": "carpet"
           }
          ],
          "choropleth": [
           {
            "colorbar": {
             "outlinewidth": 0,
             "ticks": ""
            },
            "type": "choropleth"
           }
          ],
          "contour": [
           {
            "colorbar": {
             "outlinewidth": 0,
             "ticks": ""
            },
            "colorscale": [
             [
              0.0,
              "#0d0887"
             ],
             [
              0.1111111111111111,
              "#46039f"
             ],
             [
              0.2222222222222222,
              "#7201a8"
             ],
             [
              0.3333333333333333,
              "#9c179e"
             ],
             [
              0.4444444444444444,
              "#bd3786"
             ],
             [
              0.5555555555555556,
              "#d8576b"
             ],
             [
              0.6666666666666666,
              "#ed7953"
             ],
             [
              0.7777777777777778,
              "#fb9f3a"
             ],
             [
              0.8888888888888888,
              "#fdca26"
             ],
             [
              1.0,
              "#f0f921"
             ]
            ],
            "type": "contour"
           }
          ],
          "contourcarpet": [
           {
            "colorbar": {
             "outlinewidth": 0,
             "ticks": ""
            },
            "type": "contourcarpet"
           }
          ],
          "heatmap": [
           {
            "colorbar": {
             "outlinewidth": 0,
             "ticks": ""
            },
            "colorscale": [
             [
              0.0,
              "#0d0887"
             ],
             [
              0.1111111111111111,
              "#46039f"
             ],
             [
              0.2222222222222222,
              "#7201a8"
             ],
             [
              0.3333333333333333,
              "#9c179e"
             ],
             [
              0.4444444444444444,
              "#bd3786"
             ],
             [
              0.5555555555555556,
              "#d8576b"
             ],
             [
              0.6666666666666666,
              "#ed7953"
             ],
             [
              0.7777777777777778,
              "#fb9f3a"
             ],
             [
              0.8888888888888888,
              "#fdca26"
             ],
             [
              1.0,
              "#f0f921"
             ]
            ],
            "type": "heatmap"
           }
          ],
          "heatmapgl": [
           {
            "colorbar": {
             "outlinewidth": 0,
             "ticks": ""
            },
            "colorscale": [
             [
              0.0,
              "#0d0887"
             ],
             [
              0.1111111111111111,
              "#46039f"
             ],
             [
              0.2222222222222222,
              "#7201a8"
             ],
             [
              0.3333333333333333,
              "#9c179e"
             ],
             [
              0.4444444444444444,
              "#bd3786"
             ],
             [
              0.5555555555555556,
              "#d8576b"
             ],
             [
              0.6666666666666666,
              "#ed7953"
             ],
             [
              0.7777777777777778,
              "#fb9f3a"
             ],
             [
              0.8888888888888888,
              "#fdca26"
             ],
             [
              1.0,
              "#f0f921"
             ]
            ],
            "type": "heatmapgl"
           }
          ],
          "histogram": [
           {
            "marker": {
             "pattern": {
              "fillmode": "overlay",
              "size": 10,
              "solidity": 0.2
             }
            },
            "type": "histogram"
           }
          ],
          "histogram2d": [
           {
            "colorbar": {
             "outlinewidth": 0,
             "ticks": ""
            },
            "colorscale": [
             [
              0.0,
              "#0d0887"
             ],
             [
              0.1111111111111111,
              "#46039f"
             ],
             [
              0.2222222222222222,
              "#7201a8"
             ],
             [
              0.3333333333333333,
              "#9c179e"
             ],
             [
              0.4444444444444444,
              "#bd3786"
             ],
             [
              0.5555555555555556,
              "#d8576b"
             ],
             [
              0.6666666666666666,
              "#ed7953"
             ],
             [
              0.7777777777777778,
              "#fb9f3a"
             ],
             [
              0.8888888888888888,
              "#fdca26"
             ],
             [
              1.0,
              "#f0f921"
             ]
            ],
            "type": "histogram2d"
           }
          ],
          "histogram2dcontour": [
           {
            "colorbar": {
             "outlinewidth": 0,
             "ticks": ""
            },
            "colorscale": [
             [
              0.0,
              "#0d0887"
             ],
             [
              0.1111111111111111,
              "#46039f"
             ],
             [
              0.2222222222222222,
              "#7201a8"
             ],
             [
              0.3333333333333333,
              "#9c179e"
             ],
             [
              0.4444444444444444,
              "#bd3786"
             ],
             [
              0.5555555555555556,
              "#d8576b"
             ],
             [
              0.6666666666666666,
              "#ed7953"
             ],
             [
              0.7777777777777778,
              "#fb9f3a"
             ],
             [
              0.8888888888888888,
              "#fdca26"
             ],
             [
              1.0,
              "#f0f921"
             ]
            ],
            "type": "histogram2dcontour"
           }
          ],
          "mesh3d": [
           {
            "colorbar": {
             "outlinewidth": 0,
             "ticks": ""
            },
            "type": "mesh3d"
           }
          ],
          "parcoords": [
           {
            "line": {
             "colorbar": {
              "outlinewidth": 0,
              "ticks": ""
             }
            },
            "type": "parcoords"
           }
          ],
          "pie": [
           {
            "automargin": true,
            "type": "pie"
           }
          ],
          "scatter": [
           {
            "marker": {
             "colorbar": {
              "outlinewidth": 0,
              "ticks": ""
             }
            },
            "type": "scatter"
           }
          ],
          "scatter3d": [
           {
            "line": {
             "colorbar": {
              "outlinewidth": 0,
              "ticks": ""
             }
            },
            "marker": {
             "colorbar": {
              "outlinewidth": 0,
              "ticks": ""
             }
            },
            "type": "scatter3d"
           }
          ],
          "scattercarpet": [
           {
            "marker": {
             "colorbar": {
              "outlinewidth": 0,
              "ticks": ""
             }
            },
            "type": "scattercarpet"
           }
          ],
          "scattergeo": [
           {
            "marker": {
             "colorbar": {
              "outlinewidth": 0,
              "ticks": ""
             }
            },
            "type": "scattergeo"
           }
          ],
          "scattergl": [
           {
            "marker": {
             "colorbar": {
              "outlinewidth": 0,
              "ticks": ""
             }
            },
            "type": "scattergl"
           }
          ],
          "scattermapbox": [
           {
            "marker": {
             "colorbar": {
              "outlinewidth": 0,
              "ticks": ""
             }
            },
            "type": "scattermapbox"
           }
          ],
          "scatterpolar": [
           {
            "marker": {
             "colorbar": {
              "outlinewidth": 0,
              "ticks": ""
             }
            },
            "type": "scatterpolar"
           }
          ],
          "scatterpolargl": [
           {
            "marker": {
             "colorbar": {
              "outlinewidth": 0,
              "ticks": ""
             }
            },
            "type": "scatterpolargl"
           }
          ],
          "scatterternary": [
           {
            "marker": {
             "colorbar": {
              "outlinewidth": 0,
              "ticks": ""
             }
            },
            "type": "scatterternary"
           }
          ],
          "surface": [
           {
            "colorbar": {
             "outlinewidth": 0,
             "ticks": ""
            },
            "colorscale": [
             [
              0.0,
              "#0d0887"
             ],
             [
              0.1111111111111111,
              "#46039f"
             ],
             [
              0.2222222222222222,
              "#7201a8"
             ],
             [
              0.3333333333333333,
              "#9c179e"
             ],
             [
              0.4444444444444444,
              "#bd3786"
             ],
             [
              0.5555555555555556,
              "#d8576b"
             ],
             [
              0.6666666666666666,
              "#ed7953"
             ],
             [
              0.7777777777777778,
              "#fb9f3a"
             ],
             [
              0.8888888888888888,
              "#fdca26"
             ],
             [
              1.0,
              "#f0f921"
             ]
            ],
            "type": "surface"
           }
          ],
          "table": [
           {
            "cells": {
             "fill": {
              "color": "#EBF0F8"
             },
             "line": {
              "color": "white"
             }
            },
            "header": {
             "fill": {
              "color": "#C8D4E3"
             },
             "line": {
              "color": "white"
             }
            },
            "type": "table"
           }
          ]
         },
         "layout": {
          "annotationdefaults": {
           "arrowcolor": "#2a3f5f",
           "arrowhead": 0,
           "arrowwidth": 1
          },
          "autotypenumbers": "strict",
          "coloraxis": {
           "colorbar": {
            "outlinewidth": 0,
            "ticks": ""
           }
          },
          "colorscale": {
           "diverging": [
            [
             0,
             "#8e0152"
            ],
            [
             0.1,
             "#c51b7d"
            ],
            [
             0.2,
             "#de77ae"
            ],
            [
             0.3,
             "#f1b6da"
            ],
            [
             0.4,
             "#fde0ef"
            ],
            [
             0.5,
             "#f7f7f7"
            ],
            [
             0.6,
             "#e6f5d0"
            ],
            [
             0.7,
             "#b8e186"
            ],
            [
             0.8,
             "#7fbc41"
            ],
            [
             0.9,
             "#4d9221"
            ],
            [
             1,
             "#276419"
            ]
           ],
           "sequential": [
            [
             0.0,
             "#0d0887"
            ],
            [
             0.1111111111111111,
             "#46039f"
            ],
            [
             0.2222222222222222,
             "#7201a8"
            ],
            [
             0.3333333333333333,
             "#9c179e"
            ],
            [
             0.4444444444444444,
             "#bd3786"
            ],
            [
             0.5555555555555556,
             "#d8576b"
            ],
            [
             0.6666666666666666,
             "#ed7953"
            ],
            [
             0.7777777777777778,
             "#fb9f3a"
            ],
            [
             0.8888888888888888,
             "#fdca26"
            ],
            [
             1.0,
             "#f0f921"
            ]
           ],
           "sequentialminus": [
            [
             0.0,
             "#0d0887"
            ],
            [
             0.1111111111111111,
             "#46039f"
            ],
            [
             0.2222222222222222,
             "#7201a8"
            ],
            [
             0.3333333333333333,
             "#9c179e"
            ],
            [
             0.4444444444444444,
             "#bd3786"
            ],
            [
             0.5555555555555556,
             "#d8576b"
            ],
            [
             0.6666666666666666,
             "#ed7953"
            ],
            [
             0.7777777777777778,
             "#fb9f3a"
            ],
            [
             0.8888888888888888,
             "#fdca26"
            ],
            [
             1.0,
             "#f0f921"
            ]
           ]
          },
          "colorway": [
           "#636efa",
           "#EF553B",
           "#00cc96",
           "#ab63fa",
           "#FFA15A",
           "#19d3f3",
           "#FF6692",
           "#B6E880",
           "#FF97FF",
           "#FECB52"
          ],
          "font": {
           "color": "#2a3f5f"
          },
          "geo": {
           "bgcolor": "white",
           "lakecolor": "white",
           "landcolor": "#E5ECF6",
           "showlakes": true,
           "showland": true,
           "subunitcolor": "white"
          },
          "hoverlabel": {
           "align": "left"
          },
          "hovermode": "closest",
          "mapbox": {
           "style": "light"
          },
          "paper_bgcolor": "white",
          "plot_bgcolor": "#E5ECF6",
          "polar": {
           "angularaxis": {
            "gridcolor": "white",
            "linecolor": "white",
            "ticks": ""
           },
           "bgcolor": "#E5ECF6",
           "radialaxis": {
            "gridcolor": "white",
            "linecolor": "white",
            "ticks": ""
           }
          },
          "scene": {
           "xaxis": {
            "backgroundcolor": "#E5ECF6",
            "gridcolor": "white",
            "gridwidth": 2,
            "linecolor": "white",
            "showbackground": true,
            "ticks": "",
            "zerolinecolor": "white"
           },
           "yaxis": {
            "backgroundcolor": "#E5ECF6",
            "gridcolor": "white",
            "gridwidth": 2,
            "linecolor": "white",
            "showbackground": true,
            "ticks": "",
            "zerolinecolor": "white"
           },
           "zaxis": {
            "backgroundcolor": "#E5ECF6",
            "gridcolor": "white",
            "gridwidth": 2,
            "linecolor": "white",
            "showbackground": true,
            "ticks": "",
            "zerolinecolor": "white"
           }
          },
          "shapedefaults": {
           "line": {
            "color": "#2a3f5f"
           }
          },
          "ternary": {
           "aaxis": {
            "gridcolor": "white",
            "linecolor": "white",
            "ticks": ""
           },
           "baxis": {
            "gridcolor": "white",
            "linecolor": "white",
            "ticks": ""
           },
           "bgcolor": "#E5ECF6",
           "caxis": {
            "gridcolor": "white",
            "linecolor": "white",
            "ticks": ""
           }
          },
          "title": {
           "x": 0.05
          },
          "xaxis": {
           "automargin": true,
           "gridcolor": "white",
           "linecolor": "white",
           "ticks": "",
           "title": {
            "standoff": 15
           },
           "zerolinecolor": "white",
           "zerolinewidth": 2
          },
          "yaxis": {
           "automargin": true,
           "gridcolor": "white",
           "linecolor": "white",
           "ticks": "",
           "title": {
            "standoff": 15
           },
           "zerolinecolor": "white",
           "zerolinewidth": 2
          }
         }
        },
        "xaxis": {
         "anchor": "y",
         "domain": [
          0.0,
          1.0
         ],
         "title": {
          "text": "GHG in tonns per capita"
         }
        },
        "yaxis": {
         "anchor": "x",
         "domain": [
          0.0,
          1.0
         ],
         "title": {
          "text": "Adult education level - Tertiary, % of 25-64 year-olds"
         }
        },
        "legend": {
         "title": {
          "text": "Countries"
         },
         "tracegroupgap": 0
        },
        "title": {
         "text": "GHG and adult education,        corr = 0.594"
        }
       },
       "config": {
        "plotlyServerURL": "https://plot.ly"
       }
      },
      "text/html": "<div>                            <div id=\"46a709ea-be2c-4e50-93ca-a6947bc4b7b2\" class=\"plotly-graph-div\" style=\"height:525px; width:100%;\"></div>            <script type=\"text/javascript\">                require([\"plotly\"], function(Plotly) {                    window.PLOTLYENV=window.PLOTLYENV || {};                                    if (document.getElementById(\"46a709ea-be2c-4e50-93ca-a6947bc4b7b2\")) {                    Plotly.newPlot(                        \"46a709ea-be2c-4e50-93ca-a6947bc4b7b2\",                        [{\"hovertemplate\":\"LOCATION=AUS<br>Values1=%{x}<br>Values2=%{y}<extra></extra>\",\"legendgroup\":\"AUS\",\"marker\":{\"color\":\"#636efa\",\"symbol\":\"circle\"},\"mode\":\"markers\",\"name\":\"AUS\",\"orientation\":\"v\",\"showlegend\":true,\"x\":[24.173],\"xaxis\":\"x\",\"y\":[37.604309],\"yaxis\":\"y\",\"type\":\"scatter\"},{\"hovertemplate\":\"LOCATION=AUS<extra></extra>\",\"legendgroup\":\"AUS\",\"marker\":{\"color\":\"#636efa\",\"symbol\":\"circle\"},\"mode\":\"lines\",\"name\":\"AUS\",\"showlegend\":false,\"xaxis\":\"x\",\"yaxis\":\"y\",\"type\":\"scatter\"},{\"hovertemplate\":\"LOCATION=AUT<br>Values1=%{x}<br>Values2=%{y}<extra></extra>\",\"legendgroup\":\"AUT\",\"marker\":{\"color\":\"#EF553B\",\"symbol\":\"circle\"},\"mode\":\"markers\",\"name\":\"AUT\",\"orientation\":\"v\",\"showlegend\":true,\"x\":[10.028],\"xaxis\":\"x\",\"y\":[27.743721],\"yaxis\":\"y\",\"type\":\"scatter\"},{\"hovertemplate\":\"LOCATION=AUT<extra></extra>\",\"legendgroup\":\"AUT\",\"marker\":{\"color\":\"#EF553B\",\"symbol\":\"circle\"},\"mode\":\"lines\",\"name\":\"AUT\",\"showlegend\":false,\"xaxis\":\"x\",\"yaxis\":\"y\",\"type\":\"scatter\"},{\"hovertemplate\":\"LOCATION=BEL<br>Values1=%{x}<br>Values2=%{y}<extra></extra>\",\"legendgroup\":\"BEL\",\"marker\":{\"color\":\"#00cc96\",\"symbol\":\"circle\"},\"mode\":\"markers\",\"name\":\"BEL\",\"orientation\":\"v\",\"showlegend\":true,\"x\":[12.217],\"xaxis\":\"x\",\"y\":[34.989502],\"yaxis\":\"y\",\"type\":\"scatter\"},{\"hovertemplate\":\"LOCATION=BEL<extra></extra>\",\"legendgroup\":\"BEL\",\"marker\":{\"color\":\"#00cc96\",\"symbol\":\"circle\"},\"mode\":\"lines\",\"name\":\"BEL\",\"showlegend\":false,\"xaxis\":\"x\",\"yaxis\":\"y\",\"type\":\"scatter\"},{\"hovertemplate\":\"LOCATION=CAN<br>Values1=%{x}<br>Values2=%{y}<extra></extra>\",\"legendgroup\":\"CAN\",\"marker\":{\"color\":\"#ab63fa\",\"symbol\":\"circle\"},\"mode\":\"markers\",\"name\":\"CAN\",\"orientation\":\"v\",\"showlegend\":true,\"x\":[20.581],\"xaxis\":\"x\",\"y\":[50.311695],\"yaxis\":\"y\",\"type\":\"scatter\"},{\"hovertemplate\":\"LOCATION=CAN<extra></extra>\",\"legendgroup\":\"CAN\",\"marker\":{\"color\":\"#ab63fa\",\"symbol\":\"circle\"},\"mode\":\"lines\",\"name\":\"CAN\",\"showlegend\":false,\"xaxis\":\"x\",\"yaxis\":\"y\",\"type\":\"scatter\"},{\"hovertemplate\":\"LOCATION=CZE<br>Values1=%{x}<br>Values2=%{y}<extra></extra>\",\"legendgroup\":\"CZE\",\"marker\":{\"color\":\"#FFA15A\",\"symbol\":\"circle\"},\"mode\":\"markers\",\"name\":\"CZE\",\"orientation\":\"v\",\"showlegend\":true,\"x\":[13.25],\"xaxis\":\"x\",\"y\":[16.764982],\"yaxis\":\"y\",\"type\":\"scatter\"},{\"hovertemplate\":\"LOCATION=CZE<extra></extra>\",\"legendgroup\":\"CZE\",\"marker\":{\"color\":\"#FFA15A\",\"symbol\":\"circle\"},\"mode\":\"lines\",\"name\":\"CZE\",\"showlegend\":false,\"xaxis\":\"x\",\"yaxis\":\"y\",\"type\":\"scatter\"},{\"hovertemplate\":\"LOCATION=DNK<br>Values1=%{x}<br>Values2=%{y}<extra></extra>\",\"legendgroup\":\"DNK\",\"marker\":{\"color\":\"#19d3f3\",\"symbol\":\"circle\"},\"mode\":\"markers\",\"name\":\"DNK\",\"orientation\":\"v\",\"showlegend\":true,\"x\":[11.641],\"xaxis\":\"x\",\"y\":[33.002644],\"yaxis\":\"y\",\"type\":\"scatter\"},{\"hovertemplate\":\"LOCATION=DNK<extra></extra>\",\"legendgroup\":\"DNK\",\"marker\":{\"color\":\"#19d3f3\",\"symbol\":\"circle\"},\"mode\":\"lines\",\"name\":\"DNK\",\"showlegend\":false,\"xaxis\":\"x\",\"yaxis\":\"y\",\"type\":\"scatter\"},{\"hovertemplate\":\"LOCATION=FIN<br>Values1=%{x}<br>Values2=%{y}<extra></extra>\",\"legendgroup\":\"FIN\",\"marker\":{\"color\":\"#FF6692\",\"symbol\":\"circle\"},\"mode\":\"markers\",\"name\":\"FIN\",\"orientation\":\"v\",\"showlegend\":true,\"x\":[14.093],\"xaxis\":\"x\",\"y\":[38.146343],\"yaxis\":\"y\",\"type\":\"scatter\"},{\"hovertemplate\":\"LOCATION=FIN<extra></extra>\",\"legendgroup\":\"FIN\",\"marker\":{\"color\":\"#FF6692\",\"symbol\":\"circle\"},\"mode\":\"lines\",\"name\":\"FIN\",\"showlegend\":false,\"xaxis\":\"x\",\"yaxis\":\"y\",\"type\":\"scatter\"},{\"hovertemplate\":\"LOCATION=FRA<br>Values1=%{x}<br>Values2=%{y}<extra></extra>\",\"legendgroup\":\"FRA\",\"marker\":{\"color\":\"#B6E880\",\"symbol\":\"circle\"},\"mode\":\"markers\",\"name\":\"FRA\",\"orientation\":\"v\",\"showlegend\":true,\"x\":[8.166],\"xaxis\":\"x\",\"y\":[29.006897],\"yaxis\":\"y\",\"type\":\"scatter\"},{\"hovertemplate\":\"LOCATION=FRA<extra></extra>\",\"legendgroup\":\"FRA\",\"marker\":{\"color\":\"#B6E880\",\"symbol\":\"circle\"},\"mode\":\"lines\",\"name\":\"FRA\",\"showlegend\":false,\"xaxis\":\"x\",\"yaxis\":\"y\",\"type\":\"scatter\"},{\"hovertemplate\":\"LOCATION=DEU<br>Values1=%{x}<br>Values2=%{y}<extra></extra>\",\"legendgroup\":\"DEU\",\"marker\":{\"color\":\"#FF97FF\",\"symbol\":\"circle\"},\"mode\":\"markers\",\"name\":\"DEU\",\"orientation\":\"v\",\"showlegend\":true,\"x\":[11.652],\"xaxis\":\"x\",\"y\":[26.609148],\"yaxis\":\"y\",\"type\":\"scatter\"},{\"hovertemplate\":\"LOCATION=DEU<extra></extra>\",\"legendgroup\":\"DEU\",\"marker\":{\"color\":\"#FF97FF\",\"symbol\":\"circle\"},\"mode\":\"lines\",\"name\":\"DEU\",\"showlegend\":false,\"xaxis\":\"x\",\"yaxis\":\"y\",\"type\":\"scatter\"},{\"hovertemplate\":\"LOCATION=GRC<br>Values1=%{x}<br>Values2=%{y}<extra></extra>\",\"legendgroup\":\"GRC\",\"marker\":{\"color\":\"#FECB52\",\"symbol\":\"circle\"},\"mode\":\"markers\",\"name\":\"GRC\",\"orientation\":\"v\",\"showlegend\":true,\"x\":[10.884],\"xaxis\":\"x\",\"y\":[24.744848],\"yaxis\":\"y\",\"type\":\"scatter\"},{\"hovertemplate\":\"LOCATION=GRC<extra></extra>\",\"legendgroup\":\"GRC\",\"marker\":{\"color\":\"#FECB52\",\"symbol\":\"circle\"},\"mode\":\"lines\",\"name\":\"GRC\",\"showlegend\":false,\"xaxis\":\"x\",\"yaxis\":\"y\",\"type\":\"scatter\"},{\"hovertemplate\":\"LOCATION=HUN<br>Values1=%{x}<br>Values2=%{y}<extra></extra>\",\"legendgroup\":\"HUN\",\"marker\":{\"color\":\"#636efa\",\"symbol\":\"circle\"},\"mode\":\"markers\",\"name\":\"HUN\",\"orientation\":\"v\",\"showlegend\":true,\"x\":[6.654],\"xaxis\":\"x\",\"y\":[20.121918],\"yaxis\":\"y\",\"type\":\"scatter\"},{\"hovertemplate\":\"LOCATION=HUN<extra></extra>\",\"legendgroup\":\"HUN\",\"marker\":{\"color\":\"#636efa\",\"symbol\":\"circle\"},\"mode\":\"lines\",\"name\":\"HUN\",\"showlegend\":false,\"xaxis\":\"x\",\"yaxis\":\"y\",\"type\":\"scatter\"},{\"hovertemplate\":\"LOCATION=ISL<br>Values1=%{x}<br>Values2=%{y}<extra></extra>\",\"legendgroup\":\"ISL\",\"marker\":{\"color\":\"#EF553B\",\"symbol\":\"circle\"},\"mode\":\"markers\",\"name\":\"ISL\",\"orientation\":\"v\",\"showlegend\":true,\"x\":[15.191],\"xaxis\":\"x\",\"y\":[31.298735],\"yaxis\":\"y\",\"type\":\"scatter\"},{\"hovertemplate\":\"LOCATION=ISL<extra></extra>\",\"legendgroup\":\"ISL\",\"marker\":{\"color\":\"#EF553B\",\"symbol\":\"circle\"},\"mode\":\"lines\",\"name\":\"ISL\",\"showlegend\":false,\"xaxis\":\"x\",\"yaxis\":\"y\",\"type\":\"scatter\"},{\"hovertemplate\":\"LOCATION=IRL<br>Values1=%{x}<br>Values2=%{y}<extra></extra>\",\"legendgroup\":\"IRL\",\"marker\":{\"color\":\"#00cc96\",\"symbol\":\"circle\"},\"mode\":\"markers\",\"name\":\"IRL\",\"orientation\":\"v\",\"showlegend\":true,\"x\":[13.602],\"xaxis\":\"x\",\"y\":[37.584061],\"yaxis\":\"y\",\"type\":\"scatter\"},{\"hovertemplate\":\"LOCATION=IRL<extra></extra>\",\"legendgroup\":\"IRL\",\"marker\":{\"color\":\"#00cc96\",\"symbol\":\"circle\"},\"mode\":\"lines\",\"name\":\"IRL\",\"showlegend\":false,\"xaxis\":\"x\",\"yaxis\":\"y\",\"type\":\"scatter\"},{\"hovertemplate\":\"LOCATION=ITA<br>Values1=%{x}<br>Values2=%{y}<extra></extra>\",\"legendgroup\":\"ITA\",\"marker\":{\"color\":\"#ab63fa\",\"symbol\":\"circle\"},\"mode\":\"markers\",\"name\":\"ITA\",\"orientation\":\"v\",\"showlegend\":true,\"x\":[8.706],\"xaxis\":\"x\",\"y\":[14.802574],\"yaxis\":\"y\",\"type\":\"scatter\"},{\"hovertemplate\":\"LOCATION=ITA<extra></extra>\",\"legendgroup\":\"ITA\",\"marker\":{\"color\":\"#ab63fa\",\"symbol\":\"circle\"},\"mode\":\"lines\",\"name\":\"ITA\",\"showlegend\":false,\"xaxis\":\"x\",\"yaxis\":\"y\",\"type\":\"scatter\"},{\"hovertemplate\":\"LOCATION=JPN<br>Values1=%{x}<br>Values2=%{y}<extra></extra>\",\"legendgroup\":\"JPN\",\"marker\":{\"color\":\"#FFA15A\",\"symbol\":\"circle\"},\"mode\":\"markers\",\"name\":\"JPN\",\"orientation\":\"v\",\"showlegend\":true,\"x\":[10.117],\"xaxis\":\"x\",\"y\":[44.809975],\"yaxis\":\"y\",\"type\":\"scatter\"},{\"hovertemplate\":\"LOCATION=JPN<extra></extra>\",\"legendgroup\":\"JPN\",\"marker\":{\"color\":\"#FFA15A\",\"symbol\":\"circle\"},\"mode\":\"lines\",\"name\":\"JPN\",\"showlegend\":false,\"xaxis\":\"x\",\"yaxis\":\"y\",\"type\":\"scatter\"},{\"hovertemplate\":\"LOCATION=KOR<br>Values1=%{x}<br>Values2=%{y}<extra></extra>\",\"legendgroup\":\"KOR\",\"marker\":{\"color\":\"#19d3f3\",\"symbol\":\"circle\"},\"mode\":\"markers\",\"name\":\"KOR\",\"orientation\":\"v\",\"showlegend\":true,\"x\":[13.247],\"xaxis\":\"x\",\"y\":[39.044632],\"yaxis\":\"y\",\"type\":\"scatter\"},{\"hovertemplate\":\"LOCATION=KOR<extra></extra>\",\"legendgroup\":\"KOR\",\"marker\":{\"color\":\"#19d3f3\",\"symbol\":\"circle\"},\"mode\":\"lines\",\"name\":\"KOR\",\"showlegend\":false,\"xaxis\":\"x\",\"yaxis\":\"y\",\"type\":\"scatter\"},{\"hovertemplate\":\"LOCATION=LUX<br>Values1=%{x}<br>Values2=%{y}<extra></extra>\",\"legendgroup\":\"LUX\",\"marker\":{\"color\":\"#FF6692\",\"symbol\":\"circle\"},\"mode\":\"markers\",\"name\":\"LUX\",\"orientation\":\"v\",\"showlegend\":true,\"x\":[23.975],\"xaxis\":\"x\",\"y\":[35.475895],\"yaxis\":\"y\",\"type\":\"scatter\"},{\"hovertemplate\":\"LOCATION=LUX<extra></extra>\",\"legendgroup\":\"LUX\",\"marker\":{\"color\":\"#FF6692\",\"symbol\":\"circle\"},\"mode\":\"lines\",\"name\":\"LUX\",\"showlegend\":false,\"xaxis\":\"x\",\"yaxis\":\"y\",\"type\":\"scatter\"},{\"hovertemplate\":\"LOCATION=MEX<br>Values1=%{x}<br>Values2=%{y}<extra></extra>\",\"legendgroup\":\"MEX\",\"marker\":{\"color\":\"#B6E880\",\"symbol\":\"circle\"},\"mode\":\"markers\",\"name\":\"MEX\",\"orientation\":\"v\",\"showlegend\":true,\"x\":[5.864],\"xaxis\":\"x\",\"y\":[14.654601],\"yaxis\":\"y\",\"type\":\"scatter\"},{\"hovertemplate\":\"LOCATION=MEX<extra></extra>\",\"legendgroup\":\"MEX\",\"marker\":{\"color\":\"#B6E880\",\"symbol\":\"circle\"},\"mode\":\"lines\",\"name\":\"MEX\",\"showlegend\":false,\"xaxis\":\"x\",\"yaxis\":\"y\",\"type\":\"scatter\"},{\"hovertemplate\":\"LOCATION=NLD<br>Values1=%{x}<br>Values2=%{y}<extra></extra>\",\"legendgroup\":\"NLD\",\"marker\":{\"color\":\"#FF97FF\",\"symbol\":\"circle\"},\"mode\":\"markers\",\"name\":\"NLD\",\"orientation\":\"v\",\"showlegend\":true,\"x\":[12.688],\"xaxis\":\"x\",\"y\":[32.389164],\"yaxis\":\"y\",\"type\":\"scatter\"},{\"hovertemplate\":\"LOCATION=NLD<extra></extra>\",\"legendgroup\":\"NLD\",\"marker\":{\"color\":\"#FF97FF\",\"symbol\":\"circle\"},\"mode\":\"lines\",\"name\":\"NLD\",\"showlegend\":false,\"xaxis\":\"x\",\"yaxis\":\"y\",\"type\":\"scatter\"},{\"hovertemplate\":\"LOCATION=NZL<br>Values1=%{x}<br>Values2=%{y}<extra></extra>\",\"legendgroup\":\"NZL\",\"marker\":{\"color\":\"#FECB52\",\"symbol\":\"circle\"},\"mode\":\"markers\",\"name\":\"NZL\",\"orientation\":\"v\",\"showlegend\":true,\"x\":[17.921],\"xaxis\":\"x\",\"y\":[null],\"yaxis\":\"y\",\"type\":\"scatter\"},{\"hovertemplate\":\"LOCATION=NZL<extra></extra>\",\"legendgroup\":\"NZL\",\"marker\":{\"color\":\"#FECB52\",\"symbol\":\"circle\"},\"mode\":\"lines\",\"name\":\"NZL\",\"showlegend\":false,\"xaxis\":\"x\",\"yaxis\":\"y\",\"type\":\"scatter\"},{\"hovertemplate\":\"LOCATION=NOR<br>Values1=%{x}<br>Values2=%{y}<extra></extra>\",\"legendgroup\":\"NOR\",\"marker\":{\"color\":\"#636efa\",\"symbol\":\"circle\"},\"mode\":\"markers\",\"name\":\"NOR\",\"orientation\":\"v\",\"showlegend\":true,\"x\":[11.311],\"xaxis\":\"x\",\"y\":[37.284328],\"yaxis\":\"y\",\"type\":\"scatter\"},{\"hovertemplate\":\"LOCATION=NOR<extra></extra>\",\"legendgroup\":\"NOR\",\"marker\":{\"color\":\"#636efa\",\"symbol\":\"circle\"},\"mode\":\"lines\",\"name\":\"NOR\",\"showlegend\":false,\"xaxis\":\"x\",\"yaxis\":\"y\",\"type\":\"scatter\"},{\"hovertemplate\":\"LOCATION=POL<br>Values1=%{x}<br>Values2=%{y}<extra></extra>\",\"legendgroup\":\"POL\",\"marker\":{\"color\":\"#EF553B\",\"symbol\":\"circle\"},\"mode\":\"markers\",\"name\":\"POL\",\"orientation\":\"v\",\"showlegend\":true,\"x\":[10.788],\"xaxis\":\"x\",\"y\":[22.468407],\"yaxis\":\"y\",\"type\":\"scatter\"},{\"hovertemplate\":\"LOCATION=POL<extra></extra>\",\"legendgroup\":\"POL\",\"marker\":{\"color\":\"#EF553B\",\"symbol\":\"circle\"},\"mode\":\"lines\",\"name\":\"POL\",\"showlegend\":false,\"xaxis\":\"x\",\"yaxis\":\"y\",\"type\":\"scatter\"},{\"hovertemplate\":\"LOCATION=PRT<br>Values1=%{x}<br>Values2=%{y}<extra></extra>\",\"legendgroup\":\"PRT\",\"marker\":{\"color\":\"#00cc96\",\"symbol\":\"circle\"},\"mode\":\"markers\",\"name\":\"PRT\",\"orientation\":\"v\",\"showlegend\":true,\"x\":[6.486],\"xaxis\":\"x\",\"y\":[15.445285],\"yaxis\":\"y\",\"type\":\"scatter\"},{\"hovertemplate\":\"LOCATION=PRT<extra></extra>\",\"legendgroup\":\"PRT\",\"marker\":{\"color\":\"#00cc96\",\"symbol\":\"circle\"},\"mode\":\"lines\",\"name\":\"PRT\",\"showlegend\":false,\"xaxis\":\"x\",\"yaxis\":\"y\",\"type\":\"scatter\"},{\"hovertemplate\":\"LOCATION=SVK<br>Values1=%{x}<br>Values2=%{y}<extra></extra>\",\"legendgroup\":\"SVK\",\"marker\":{\"color\":\"#ab63fa\",\"symbol\":\"circle\"},\"mode\":\"markers\",\"name\":\"SVK\",\"orientation\":\"v\",\"showlegend\":true,\"x\":[8.394],\"xaxis\":\"x\",\"y\":[17.327984],\"yaxis\":\"y\",\"type\":\"scatter\"},{\"hovertemplate\":\"LOCATION=SVK<extra></extra>\",\"legendgroup\":\"SVK\",\"marker\":{\"color\":\"#ab63fa\",\"symbol\":\"circle\"},\"mode\":\"lines\",\"name\":\"SVK\",\"showlegend\":false,\"xaxis\":\"x\",\"yaxis\":\"y\",\"type\":\"scatter\"},{\"hovertemplate\":\"LOCATION=ESP<br>Values1=%{x}<br>Values2=%{y}<extra></extra>\",\"legendgroup\":\"ESP\",\"marker\":{\"color\":\"#FFA15A\",\"symbol\":\"circle\"},\"mode\":\"markers\",\"name\":\"ESP\",\"orientation\":\"v\",\"showlegend\":true,\"x\":[7.626],\"xaxis\":\"x\",\"y\":[31.016668],\"yaxis\":\"y\",\"type\":\"scatter\"},{\"hovertemplate\":\"LOCATION=ESP<extra></extra>\",\"legendgroup\":\"ESP\",\"marker\":{\"color\":\"#FFA15A\",\"symbol\":\"circle\"},\"mode\":\"lines\",\"name\":\"ESP\",\"showlegend\":false,\"xaxis\":\"x\",\"yaxis\":\"y\",\"type\":\"scatter\"},{\"hovertemplate\":\"LOCATION=SWE<br>Values1=%{x}<br>Values2=%{y}<extra></extra>\",\"legendgroup\":\"SWE\",\"marker\":{\"color\":\"#19d3f3\",\"symbol\":\"circle\"},\"mode\":\"markers\",\"name\":\"SWE\",\"orientation\":\"v\",\"showlegend\":true,\"x\":[6.875],\"xaxis\":\"x\",\"y\":[33.868935],\"yaxis\":\"y\",\"type\":\"scatter\"},{\"hovertemplate\":\"LOCATION=SWE<extra></extra>\",\"legendgroup\":\"SWE\",\"marker\":{\"color\":\"#19d3f3\",\"symbol\":\"circle\"},\"mode\":\"lines\",\"name\":\"SWE\",\"showlegend\":false,\"xaxis\":\"x\",\"yaxis\":\"y\",\"type\":\"scatter\"},{\"hovertemplate\":\"LOCATION=CHE<br>Values1=%{x}<br>Values2=%{y}<extra></extra>\",\"legendgroup\":\"CHE\",\"marker\":{\"color\":\"#FF6692\",\"symbol\":\"circle\"},\"mode\":\"markers\",\"name\":\"CHE\",\"orientation\":\"v\",\"showlegend\":true,\"x\":[7.008],\"xaxis\":\"x\",\"y\":[33.881504],\"yaxis\":\"y\",\"type\":\"scatter\"},{\"hovertemplate\":\"LOCATION=CHE<extra></extra>\",\"legendgroup\":\"CHE\",\"marker\":{\"color\":\"#FF6692\",\"symbol\":\"circle\"},\"mode\":\"lines\",\"name\":\"CHE\",\"showlegend\":false,\"xaxis\":\"x\",\"yaxis\":\"y\",\"type\":\"scatter\"},{\"hovertemplate\":\"LOCATION=TUR<br>Values1=%{x}<br>Values2=%{y}<extra></extra>\",\"legendgroup\":\"TUR\",\"marker\":{\"color\":\"#B6E880\",\"symbol\":\"circle\"},\"mode\":\"markers\",\"name\":\"TUR\",\"orientation\":\"v\",\"showlegend\":true,\"x\":[5.519],\"xaxis\":\"x\",\"y\":[13.118464],\"yaxis\":\"y\",\"type\":\"scatter\"},{\"hovertemplate\":\"LOCATION=TUR<extra></extra>\",\"legendgroup\":\"TUR\",\"marker\":{\"color\":\"#B6E880\",\"symbol\":\"circle\"},\"mode\":\"lines\",\"name\":\"TUR\",\"showlegend\":false,\"xaxis\":\"x\",\"yaxis\":\"y\",\"type\":\"scatter\"},{\"hovertemplate\":\"LOCATION=GBR<br>Values1=%{x}<br>Values2=%{y}<extra></extra>\",\"legendgroup\":\"GBR\",\"marker\":{\"color\":\"#FF97FF\",\"symbol\":\"circle\"},\"mode\":\"markers\",\"name\":\"GBR\",\"orientation\":\"v\",\"showlegend\":true,\"x\":[9.592],\"xaxis\":\"x\",\"y\":[38.187191],\"yaxis\":\"y\",\"type\":\"scatter\"},{\"hovertemplate\":\"LOCATION=GBR<extra></extra>\",\"legendgroup\":\"GBR\",\"marker\":{\"color\":\"#FF97FF\",\"symbol\":\"circle\"},\"mode\":\"lines\",\"name\":\"GBR\",\"showlegend\":false,\"xaxis\":\"x\",\"yaxis\":\"y\",\"type\":\"scatter\"},{\"hovertemplate\":\"LOCATION=USA<br>Values1=%{x}<br>Values2=%{y}<extra></extra>\",\"legendgroup\":\"USA\",\"marker\":{\"color\":\"#FECB52\",\"symbol\":\"circle\"},\"mode\":\"markers\",\"name\":\"USA\",\"orientation\":\"v\",\"showlegend\":true,\"x\":[22.624],\"xaxis\":\"x\",\"y\":[41.662415],\"yaxis\":\"y\",\"type\":\"scatter\"},{\"hovertemplate\":\"LOCATION=USA<extra></extra>\",\"legendgroup\":\"USA\",\"marker\":{\"color\":\"#FECB52\",\"symbol\":\"circle\"},\"mode\":\"lines\",\"name\":\"USA\",\"showlegend\":false,\"xaxis\":\"x\",\"yaxis\":\"y\",\"type\":\"scatter\"},{\"hovertemplate\":\"LOCATION=CHL<br>Values1=%{x}<br>Values2=%{y}<extra></extra>\",\"legendgroup\":\"CHL\",\"marker\":{\"color\":\"#636efa\",\"symbol\":\"circle\"},\"mode\":\"markers\",\"name\":\"CHL\",\"orientation\":\"v\",\"showlegend\":true,\"x\":[5.154],\"xaxis\":\"x\",\"y\":[null],\"yaxis\":\"y\",\"type\":\"scatter\"},{\"hovertemplate\":\"LOCATION=CHL<extra></extra>\",\"legendgroup\":\"CHL\",\"marker\":{\"color\":\"#636efa\",\"symbol\":\"circle\"},\"mode\":\"lines\",\"name\":\"CHL\",\"showlegend\":false,\"xaxis\":\"x\",\"yaxis\":\"y\",\"type\":\"scatter\"},{\"hovertemplate\":\"LOCATION=EST<br>Values1=%{x}<br>Values2=%{y}<extra></extra>\",\"legendgroup\":\"EST\",\"marker\":{\"color\":\"#EF553B\",\"symbol\":\"circle\"},\"mode\":\"markers\",\"name\":\"EST\",\"orientation\":\"v\",\"showlegend\":true,\"x\":[15.928],\"xaxis\":\"x\",\"y\":[35.423084],\"yaxis\":\"y\",\"type\":\"scatter\"},{\"hovertemplate\":\"LOCATION=EST<extra></extra>\",\"legendgroup\":\"EST\",\"marker\":{\"color\":\"#EF553B\",\"symbol\":\"circle\"},\"mode\":\"lines\",\"name\":\"EST\",\"showlegend\":false,\"xaxis\":\"x\",\"yaxis\":\"y\",\"type\":\"scatter\"},{\"hovertemplate\":\"LOCATION=ISR<br>Values1=%{x}<br>Values2=%{y}<extra></extra>\",\"legendgroup\":\"ISR\",\"marker\":{\"color\":\"#00cc96\",\"symbol\":\"circle\"},\"mode\":\"markers\",\"name\":\"ISR\",\"orientation\":\"v\",\"showlegend\":true,\"x\":[10.304],\"xaxis\":\"x\",\"y\":[45.560074],\"yaxis\":\"y\",\"type\":\"scatter\"},{\"hovertemplate\":\"LOCATION=ISR<extra></extra>\",\"legendgroup\":\"ISR\",\"marker\":{\"color\":\"#00cc96\",\"symbol\":\"circle\"},\"mode\":\"lines\",\"name\":\"ISR\",\"showlegend\":false,\"xaxis\":\"x\",\"yaxis\":\"y\",\"type\":\"scatter\"},{\"hovertemplate\":\"LOCATION=SVN<br>Values1=%{x}<br>Values2=%{y}<extra></extra>\",\"legendgroup\":\"SVN\",\"marker\":{\"color\":\"#ab63fa\",\"symbol\":\"circle\"},\"mode\":\"markers\",\"name\":\"SVN\",\"orientation\":\"v\",\"showlegend\":true,\"x\":[9.599],\"xaxis\":\"x\",\"y\":[23.716619],\"yaxis\":\"y\",\"type\":\"scatter\"},{\"hovertemplate\":\"LOCATION=SVN<extra></extra>\",\"legendgroup\":\"SVN\",\"marker\":{\"color\":\"#ab63fa\",\"symbol\":\"circle\"},\"mode\":\"lines\",\"name\":\"SVN\",\"showlegend\":false,\"xaxis\":\"x\",\"yaxis\":\"y\",\"type\":\"scatter\"},{\"hovertemplate\":\"LOCATION=OECD<br>Values1=%{x}<br>Values2=%{y}<extra></extra>\",\"legendgroup\":\"OECD\",\"marker\":{\"color\":\"#FFA15A\",\"symbol\":\"circle\"},\"mode\":\"markers\",\"name\":\"OECD\",\"orientation\":\"v\",\"showlegend\":true,\"x\":[12.702],\"xaxis\":\"x\",\"y\":[null],\"yaxis\":\"y\",\"type\":\"scatter\"},{\"hovertemplate\":\"LOCATION=OECD<extra></extra>\",\"legendgroup\":\"OECD\",\"marker\":{\"color\":\"#FFA15A\",\"symbol\":\"circle\"},\"mode\":\"lines\",\"name\":\"OECD\",\"showlegend\":false,\"xaxis\":\"x\",\"yaxis\":\"y\",\"type\":\"scatter\"},{\"hovertemplate\":\"LOCATION=RUS<br>Values1=%{x}<br>Values2=%{y}<extra></extra>\",\"legendgroup\":\"RUS\",\"marker\":{\"color\":\"#19d3f3\",\"symbol\":\"circle\"},\"mode\":\"markers\",\"name\":\"RUS\",\"orientation\":\"v\",\"showlegend\":true,\"x\":[14.033],\"xaxis\":\"x\",\"y\":[50.371468],\"yaxis\":\"y\",\"type\":\"scatter\"},{\"hovertemplate\":\"LOCATION=RUS<extra></extra>\",\"legendgroup\":\"RUS\",\"marker\":{\"color\":\"#19d3f3\",\"symbol\":\"circle\"},\"mode\":\"lines\",\"name\":\"RUS\",\"showlegend\":false,\"xaxis\":\"x\",\"yaxis\":\"y\",\"type\":\"scatter\"},{\"hovertemplate\":\"LOCATION=OECDE<br>Values1=%{x}<br>Values2=%{y}<extra></extra>\",\"legendgroup\":\"OECDE\",\"marker\":{\"color\":\"#FF6692\",\"symbol\":\"circle\"},\"mode\":\"markers\",\"name\":\"OECDE\",\"orientation\":\"v\",\"showlegend\":true,\"x\":[9.173],\"xaxis\":\"x\",\"y\":[null],\"yaxis\":\"y\",\"type\":\"scatter\"},{\"hovertemplate\":\"LOCATION=OECDE<extra></extra>\",\"legendgroup\":\"OECDE\",\"marker\":{\"color\":\"#FF6692\",\"symbol\":\"circle\"},\"mode\":\"lines\",\"name\":\"OECDE\",\"showlegend\":false,\"xaxis\":\"x\",\"yaxis\":\"y\",\"type\":\"scatter\"},{\"hovertemplate\":\"LOCATION=BRA<br>Values1=%{x}<br>Values2=%{y}<extra></extra>\",\"legendgroup\":\"BRA\",\"marker\":{\"color\":\"#B6E880\",\"symbol\":\"circle\"},\"mode\":\"markers\",\"name\":\"BRA\",\"orientation\":\"v\",\"showlegend\":true,\"x\":[4.706],\"xaxis\":\"x\",\"y\":[null],\"yaxis\":\"y\",\"type\":\"scatter\"},{\"hovertemplate\":\"LOCATION=BRA<extra></extra>\",\"legendgroup\":\"BRA\",\"marker\":{\"color\":\"#B6E880\",\"symbol\":\"circle\"},\"mode\":\"lines\",\"name\":\"BRA\",\"showlegend\":false,\"xaxis\":\"x\",\"yaxis\":\"y\",\"type\":\"scatter\"},{\"hovertemplate\":\"LOCATION=CHN<br>Values1=%{x}<br>Values2=%{y}<extra></extra>\",\"legendgroup\":\"CHN\",\"marker\":{\"color\":\"#FF97FF\",\"symbol\":\"circle\"},\"mode\":\"markers\",\"name\":\"CHN\",\"orientation\":\"v\",\"showlegend\":true,\"x\":[7.703],\"xaxis\":\"x\",\"y\":[9.6811743],\"yaxis\":\"y\",\"type\":\"scatter\"},{\"hovertemplate\":\"LOCATION=CHN<extra></extra>\",\"legendgroup\":\"CHN\",\"marker\":{\"color\":\"#FF97FF\",\"symbol\":\"circle\"},\"mode\":\"lines\",\"name\":\"CHN\",\"showlegend\":false,\"xaxis\":\"x\",\"yaxis\":\"y\",\"type\":\"scatter\"},{\"hovertemplate\":\"LOCATION=COL<br>Values1=%{x}<br>Values2=%{y}<extra></extra>\",\"legendgroup\":\"COL\",\"marker\":{\"color\":\"#FECB52\",\"symbol\":\"circle\"},\"mode\":\"markers\",\"name\":\"COL\",\"orientation\":\"v\",\"showlegend\":true,\"x\":[3.057],\"xaxis\":\"x\",\"y\":[null],\"yaxis\":\"y\",\"type\":\"scatter\"},{\"hovertemplate\":\"LOCATION=COL<extra></extra>\",\"legendgroup\":\"COL\",\"marker\":{\"color\":\"#FECB52\",\"symbol\":\"circle\"},\"mode\":\"lines\",\"name\":\"COL\",\"showlegend\":false,\"xaxis\":\"x\",\"yaxis\":\"y\",\"type\":\"scatter\"},{\"hovertemplate\":\"LOCATION=IND<br>Values1=%{x}<br>Values2=%{y}<extra></extra>\",\"legendgroup\":\"IND\",\"marker\":{\"color\":\"#636efa\",\"symbol\":\"circle\"},\"mode\":\"markers\",\"name\":\"IND\",\"orientation\":\"v\",\"showlegend\":true,\"x\":[1.702],\"xaxis\":\"x\",\"y\":[null],\"yaxis\":\"y\",\"type\":\"scatter\"},{\"hovertemplate\":\"LOCATION=IND<extra></extra>\",\"legendgroup\":\"IND\",\"marker\":{\"color\":\"#636efa\",\"symbol\":\"circle\"},\"mode\":\"lines\",\"name\":\"IND\",\"showlegend\":false,\"xaxis\":\"x\",\"yaxis\":\"y\",\"type\":\"scatter\"},{\"hovertemplate\":\"LOCATION=IDN<br>Values1=%{x}<br>Values2=%{y}<extra></extra>\",\"legendgroup\":\"IDN\",\"marker\":{\"color\":\"#EF553B\",\"symbol\":\"circle\"},\"mode\":\"markers\",\"name\":\"IDN\",\"orientation\":\"v\",\"showlegend\":true,\"x\":[2.835],\"xaxis\":\"x\",\"y\":[7.9779863],\"yaxis\":\"y\",\"type\":\"scatter\"},{\"hovertemplate\":\"LOCATION=IDN<extra></extra>\",\"legendgroup\":\"IDN\",\"marker\":{\"color\":\"#EF553B\",\"symbol\":\"circle\"},\"mode\":\"lines\",\"name\":\"IDN\",\"showlegend\":false,\"xaxis\":\"x\",\"yaxis\":\"y\",\"type\":\"scatter\"},{\"hovertemplate\":\"LOCATION=LVA<br>Values1=%{x}<br>Values2=%{y}<extra></extra>\",\"legendgroup\":\"LVA\",\"marker\":{\"color\":\"#00cc96\",\"symbol\":\"circle\"},\"mode\":\"markers\",\"name\":\"LVA\",\"orientation\":\"v\",\"showlegend\":true,\"x\":[5.579],\"xaxis\":\"x\",\"y\":[26.946114],\"yaxis\":\"y\",\"type\":\"scatter\"},{\"hovertemplate\":\"LOCATION=LVA<extra></extra>\",\"legendgroup\":\"LVA\",\"marker\":{\"color\":\"#00cc96\",\"symbol\":\"circle\"},\"mode\":\"lines\",\"name\":\"LVA\",\"showlegend\":false,\"xaxis\":\"x\",\"yaxis\":\"y\",\"type\":\"scatter\"},{\"hovertemplate\":\"LOCATION=LTU<br>Values1=%{x}<br>Values2=%{y}<extra></extra>\",\"legendgroup\":\"LTU\",\"marker\":{\"color\":\"#ab63fa\",\"symbol\":\"circle\"},\"mode\":\"markers\",\"name\":\"LTU\",\"orientation\":\"v\",\"showlegend\":true,\"x\":[6.64],\"xaxis\":\"x\",\"y\":[32.440029],\"yaxis\":\"y\",\"type\":\"scatter\"},{\"hovertemplate\":\"LOCATION=LTU<extra></extra>\",\"legendgroup\":\"LTU\",\"marker\":{\"color\":\"#ab63fa\",\"symbol\":\"circle\"},\"mode\":\"lines\",\"name\":\"LTU\",\"showlegend\":false,\"xaxis\":\"x\",\"yaxis\":\"y\",\"type\":\"scatter\"},{\"hovertemplate\":\"LOCATION=CRI<br>Values1=%{x}<br>Values2=%{y}<extra></extra>\",\"legendgroup\":\"CRI\",\"marker\":{\"color\":\"#FFA15A\",\"symbol\":\"circle\"},\"mode\":\"markers\",\"name\":\"CRI\",\"orientation\":\"v\",\"showlegend\":true,\"x\":[2.733],\"xaxis\":\"x\",\"y\":[20.980572],\"yaxis\":\"y\",\"type\":\"scatter\"},{\"hovertemplate\":\"LOCATION=CRI<extra></extra>\",\"legendgroup\":\"CRI\",\"marker\":{\"color\":\"#FFA15A\",\"symbol\":\"circle\"},\"mode\":\"lines\",\"name\":\"CRI\",\"showlegend\":false,\"xaxis\":\"x\",\"yaxis\":\"y\",\"type\":\"scatter\"},{\"hovertemplate\":\"LOCATION=ARG<br>Values1=%{x}<br>Values2=%{y}<extra></extra>\",\"legendgroup\":\"ARG\",\"marker\":{\"color\":\"#19d3f3\",\"symbol\":\"circle\"},\"mode\":\"markers\",\"name\":\"ARG\",\"orientation\":\"v\",\"showlegend\":true,\"x\":[7.294],\"xaxis\":\"x\",\"y\":[null],\"yaxis\":\"y\",\"type\":\"scatter\"},{\"hovertemplate\":\"LOCATION=ARG<extra></extra>\",\"legendgroup\":\"ARG\",\"marker\":{\"color\":\"#19d3f3\",\"symbol\":\"circle\"},\"mode\":\"lines\",\"name\":\"ARG\",\"showlegend\":false,\"xaxis\":\"x\",\"yaxis\":\"y\",\"type\":\"scatter\"},{\"hovertemplate\":\"LOCATION=SAU<br>Values1=%{x}<br>Values2=%{y}<extra></extra>\",\"legendgroup\":\"SAU\",\"marker\":{\"color\":\"#FF6692\",\"symbol\":\"circle\"},\"mode\":\"markers\",\"name\":\"SAU\",\"orientation\":\"v\",\"showlegend\":true,\"x\":[19.158],\"xaxis\":\"x\",\"y\":[null],\"yaxis\":\"y\",\"type\":\"scatter\"},{\"hovertemplate\":\"LOCATION=SAU<extra></extra>\",\"legendgroup\":\"SAU\",\"marker\":{\"color\":\"#FF6692\",\"symbol\":\"circle\"},\"mode\":\"lines\",\"name\":\"SAU\",\"showlegend\":false,\"xaxis\":\"x\",\"yaxis\":\"y\",\"type\":\"scatter\"},{\"hovertemplate\":\"LOCATION=ZAF<br>Values1=%{x}<br>Values2=%{y}<extra></extra>\",\"legendgroup\":\"ZAF\",\"marker\":{\"color\":\"#B6E880\",\"symbol\":\"circle\"},\"mode\":\"markers\",\"name\":\"ZAF\",\"orientation\":\"v\",\"showlegend\":true,\"x\":[null],\"xaxis\":\"x\",\"y\":[6.860743],\"yaxis\":\"y\",\"type\":\"scatter\"},{\"hovertemplate\":\"LOCATION=ZAF<extra></extra>\",\"legendgroup\":\"ZAF\",\"marker\":{\"color\":\"#B6E880\",\"symbol\":\"circle\"},\"mode\":\"lines\",\"name\":\"ZAF\",\"showlegend\":false,\"xaxis\":\"x\",\"yaxis\":\"y\",\"type\":\"scatter\"},{\"hovertemplate\":\"LOCATION=OAVG<br>Values1=%{x}<br>Values2=%{y}<extra></extra>\",\"legendgroup\":\"OAVG\",\"marker\":{\"color\":\"#FF97FF\",\"symbol\":\"circle\"},\"mode\":\"markers\",\"name\":\"OAVG\",\"orientation\":\"v\",\"showlegend\":true,\"x\":[null],\"xaxis\":\"x\",\"y\":[30.240952],\"yaxis\":\"y\",\"type\":\"scatter\"},{\"hovertemplate\":\"LOCATION=OAVG<extra></extra>\",\"legendgroup\":\"OAVG\",\"marker\":{\"color\":\"#FF97FF\",\"symbol\":\"circle\"},\"mode\":\"lines\",\"name\":\"OAVG\",\"showlegend\":false,\"xaxis\":\"x\",\"yaxis\":\"y\",\"type\":\"scatter\"},{\"hovertemplate\":\"LOCATION=G20<br>Values1=%{x}<br>Values2=%{y}<extra></extra>\",\"legendgroup\":\"G20\",\"marker\":{\"color\":\"#FECB52\",\"symbol\":\"circle\"},\"mode\":\"markers\",\"name\":\"G20\",\"orientation\":\"v\",\"showlegend\":true,\"x\":[null],\"xaxis\":\"x\",\"y\":[28.313552],\"yaxis\":\"y\",\"type\":\"scatter\"},{\"hovertemplate\":\"LOCATION=G20<extra></extra>\",\"legendgroup\":\"G20\",\"marker\":{\"color\":\"#FECB52\",\"symbol\":\"circle\"},\"mode\":\"lines\",\"name\":\"G20\",\"showlegend\":false,\"xaxis\":\"x\",\"yaxis\":\"y\",\"type\":\"scatter\"}],                        {\"template\":{\"data\":{\"bar\":[{\"error_x\":{\"color\":\"#2a3f5f\"},\"error_y\":{\"color\":\"#2a3f5f\"},\"marker\":{\"line\":{\"color\":\"#E5ECF6\",\"width\":0.5},\"pattern\":{\"fillmode\":\"overlay\",\"size\":10,\"solidity\":0.2}},\"type\":\"bar\"}],\"barpolar\":[{\"marker\":{\"line\":{\"color\":\"#E5ECF6\",\"width\":0.5},\"pattern\":{\"fillmode\":\"overlay\",\"size\":10,\"solidity\":0.2}},\"type\":\"barpolar\"}],\"carpet\":[{\"aaxis\":{\"endlinecolor\":\"#2a3f5f\",\"gridcolor\":\"white\",\"linecolor\":\"white\",\"minorgridcolor\":\"white\",\"startlinecolor\":\"#2a3f5f\"},\"baxis\":{\"endlinecolor\":\"#2a3f5f\",\"gridcolor\":\"white\",\"linecolor\":\"white\",\"minorgridcolor\":\"white\",\"startlinecolor\":\"#2a3f5f\"},\"type\":\"carpet\"}],\"choropleth\":[{\"colorbar\":{\"outlinewidth\":0,\"ticks\":\"\"},\"type\":\"choropleth\"}],\"contour\":[{\"colorbar\":{\"outlinewidth\":0,\"ticks\":\"\"},\"colorscale\":[[0.0,\"#0d0887\"],[0.1111111111111111,\"#46039f\"],[0.2222222222222222,\"#7201a8\"],[0.3333333333333333,\"#9c179e\"],[0.4444444444444444,\"#bd3786\"],[0.5555555555555556,\"#d8576b\"],[0.6666666666666666,\"#ed7953\"],[0.7777777777777778,\"#fb9f3a\"],[0.8888888888888888,\"#fdca26\"],[1.0,\"#f0f921\"]],\"type\":\"contour\"}],\"contourcarpet\":[{\"colorbar\":{\"outlinewidth\":0,\"ticks\":\"\"},\"type\":\"contourcarpet\"}],\"heatmap\":[{\"colorbar\":{\"outlinewidth\":0,\"ticks\":\"\"},\"colorscale\":[[0.0,\"#0d0887\"],[0.1111111111111111,\"#46039f\"],[0.2222222222222222,\"#7201a8\"],[0.3333333333333333,\"#9c179e\"],[0.4444444444444444,\"#bd3786\"],[0.5555555555555556,\"#d8576b\"],[0.6666666666666666,\"#ed7953\"],[0.7777777777777778,\"#fb9f3a\"],[0.8888888888888888,\"#fdca26\"],[1.0,\"#f0f921\"]],\"type\":\"heatmap\"}],\"heatmapgl\":[{\"colorbar\":{\"outlinewidth\":0,\"ticks\":\"\"},\"colorscale\":[[0.0,\"#0d0887\"],[0.1111111111111111,\"#46039f\"],[0.2222222222222222,\"#7201a8\"],[0.3333333333333333,\"#9c179e\"],[0.4444444444444444,\"#bd3786\"],[0.5555555555555556,\"#d8576b\"],[0.6666666666666666,\"#ed7953\"],[0.7777777777777778,\"#fb9f3a\"],[0.8888888888888888,\"#fdca26\"],[1.0,\"#f0f921\"]],\"type\":\"heatmapgl\"}],\"histogram\":[{\"marker\":{\"pattern\":{\"fillmode\":\"overlay\",\"size\":10,\"solidity\":0.2}},\"type\":\"histogram\"}],\"histogram2d\":[{\"colorbar\":{\"outlinewidth\":0,\"ticks\":\"\"},\"colorscale\":[[0.0,\"#0d0887\"],[0.1111111111111111,\"#46039f\"],[0.2222222222222222,\"#7201a8\"],[0.3333333333333333,\"#9c179e\"],[0.4444444444444444,\"#bd3786\"],[0.5555555555555556,\"#d8576b\"],[0.6666666666666666,\"#ed7953\"],[0.7777777777777778,\"#fb9f3a\"],[0.8888888888888888,\"#fdca26\"],[1.0,\"#f0f921\"]],\"type\":\"histogram2d\"}],\"histogram2dcontour\":[{\"colorbar\":{\"outlinewidth\":0,\"ticks\":\"\"},\"colorscale\":[[0.0,\"#0d0887\"],[0.1111111111111111,\"#46039f\"],[0.2222222222222222,\"#7201a8\"],[0.3333333333333333,\"#9c179e\"],[0.4444444444444444,\"#bd3786\"],[0.5555555555555556,\"#d8576b\"],[0.6666666666666666,\"#ed7953\"],[0.7777777777777778,\"#fb9f3a\"],[0.8888888888888888,\"#fdca26\"],[1.0,\"#f0f921\"]],\"type\":\"histogram2dcontour\"}],\"mesh3d\":[{\"colorbar\":{\"outlinewidth\":0,\"ticks\":\"\"},\"type\":\"mesh3d\"}],\"parcoords\":[{\"line\":{\"colorbar\":{\"outlinewidth\":0,\"ticks\":\"\"}},\"type\":\"parcoords\"}],\"pie\":[{\"automargin\":true,\"type\":\"pie\"}],\"scatter\":[{\"marker\":{\"colorbar\":{\"outlinewidth\":0,\"ticks\":\"\"}},\"type\":\"scatter\"}],\"scatter3d\":[{\"line\":{\"colorbar\":{\"outlinewidth\":0,\"ticks\":\"\"}},\"marker\":{\"colorbar\":{\"outlinewidth\":0,\"ticks\":\"\"}},\"type\":\"scatter3d\"}],\"scattercarpet\":[{\"marker\":{\"colorbar\":{\"outlinewidth\":0,\"ticks\":\"\"}},\"type\":\"scattercarpet\"}],\"scattergeo\":[{\"marker\":{\"colorbar\":{\"outlinewidth\":0,\"ticks\":\"\"}},\"type\":\"scattergeo\"}],\"scattergl\":[{\"marker\":{\"colorbar\":{\"outlinewidth\":0,\"ticks\":\"\"}},\"type\":\"scattergl\"}],\"scattermapbox\":[{\"marker\":{\"colorbar\":{\"outlinewidth\":0,\"ticks\":\"\"}},\"type\":\"scattermapbox\"}],\"scatterpolar\":[{\"marker\":{\"colorbar\":{\"outlinewidth\":0,\"ticks\":\"\"}},\"type\":\"scatterpolar\"}],\"scatterpolargl\":[{\"marker\":{\"colorbar\":{\"outlinewidth\":0,\"ticks\":\"\"}},\"type\":\"scatterpolargl\"}],\"scatterternary\":[{\"marker\":{\"colorbar\":{\"outlinewidth\":0,\"ticks\":\"\"}},\"type\":\"scatterternary\"}],\"surface\":[{\"colorbar\":{\"outlinewidth\":0,\"ticks\":\"\"},\"colorscale\":[[0.0,\"#0d0887\"],[0.1111111111111111,\"#46039f\"],[0.2222222222222222,\"#7201a8\"],[0.3333333333333333,\"#9c179e\"],[0.4444444444444444,\"#bd3786\"],[0.5555555555555556,\"#d8576b\"],[0.6666666666666666,\"#ed7953\"],[0.7777777777777778,\"#fb9f3a\"],[0.8888888888888888,\"#fdca26\"],[1.0,\"#f0f921\"]],\"type\":\"surface\"}],\"table\":[{\"cells\":{\"fill\":{\"color\":\"#EBF0F8\"},\"line\":{\"color\":\"white\"}},\"header\":{\"fill\":{\"color\":\"#C8D4E3\"},\"line\":{\"color\":\"white\"}},\"type\":\"table\"}]},\"layout\":{\"annotationdefaults\":{\"arrowcolor\":\"#2a3f5f\",\"arrowhead\":0,\"arrowwidth\":1},\"autotypenumbers\":\"strict\",\"coloraxis\":{\"colorbar\":{\"outlinewidth\":0,\"ticks\":\"\"}},\"colorscale\":{\"diverging\":[[0,\"#8e0152\"],[0.1,\"#c51b7d\"],[0.2,\"#de77ae\"],[0.3,\"#f1b6da\"],[0.4,\"#fde0ef\"],[0.5,\"#f7f7f7\"],[0.6,\"#e6f5d0\"],[0.7,\"#b8e186\"],[0.8,\"#7fbc41\"],[0.9,\"#4d9221\"],[1,\"#276419\"]],\"sequential\":[[0.0,\"#0d0887\"],[0.1111111111111111,\"#46039f\"],[0.2222222222222222,\"#7201a8\"],[0.3333333333333333,\"#9c179e\"],[0.4444444444444444,\"#bd3786\"],[0.5555555555555556,\"#d8576b\"],[0.6666666666666666,\"#ed7953\"],[0.7777777777777778,\"#fb9f3a\"],[0.8888888888888888,\"#fdca26\"],[1.0,\"#f0f921\"]],\"sequentialminus\":[[0.0,\"#0d0887\"],[0.1111111111111111,\"#46039f\"],[0.2222222222222222,\"#7201a8\"],[0.3333333333333333,\"#9c179e\"],[0.4444444444444444,\"#bd3786\"],[0.5555555555555556,\"#d8576b\"],[0.6666666666666666,\"#ed7953\"],[0.7777777777777778,\"#fb9f3a\"],[0.8888888888888888,\"#fdca26\"],[1.0,\"#f0f921\"]]},\"colorway\":[\"#636efa\",\"#EF553B\",\"#00cc96\",\"#ab63fa\",\"#FFA15A\",\"#19d3f3\",\"#FF6692\",\"#B6E880\",\"#FF97FF\",\"#FECB52\"],\"font\":{\"color\":\"#2a3f5f\"},\"geo\":{\"bgcolor\":\"white\",\"lakecolor\":\"white\",\"landcolor\":\"#E5ECF6\",\"showlakes\":true,\"showland\":true,\"subunitcolor\":\"white\"},\"hoverlabel\":{\"align\":\"left\"},\"hovermode\":\"closest\",\"mapbox\":{\"style\":\"light\"},\"paper_bgcolor\":\"white\",\"plot_bgcolor\":\"#E5ECF6\",\"polar\":{\"angularaxis\":{\"gridcolor\":\"white\",\"linecolor\":\"white\",\"ticks\":\"\"},\"bgcolor\":\"#E5ECF6\",\"radialaxis\":{\"gridcolor\":\"white\",\"linecolor\":\"white\",\"ticks\":\"\"}},\"scene\":{\"xaxis\":{\"backgroundcolor\":\"#E5ECF6\",\"gridcolor\":\"white\",\"gridwidth\":2,\"linecolor\":\"white\",\"showbackground\":true,\"ticks\":\"\",\"zerolinecolor\":\"white\"},\"yaxis\":{\"backgroundcolor\":\"#E5ECF6\",\"gridcolor\":\"white\",\"gridwidth\":2,\"linecolor\":\"white\",\"showbackground\":true,\"ticks\":\"\",\"zerolinecolor\":\"white\"},\"zaxis\":{\"backgroundcolor\":\"#E5ECF6\",\"gridcolor\":\"white\",\"gridwidth\":2,\"linecolor\":\"white\",\"showbackground\":true,\"ticks\":\"\",\"zerolinecolor\":\"white\"}},\"shapedefaults\":{\"line\":{\"color\":\"#2a3f5f\"}},\"ternary\":{\"aaxis\":{\"gridcolor\":\"white\",\"linecolor\":\"white\",\"ticks\":\"\"},\"baxis\":{\"gridcolor\":\"white\",\"linecolor\":\"white\",\"ticks\":\"\"},\"bgcolor\":\"#E5ECF6\",\"caxis\":{\"gridcolor\":\"white\",\"linecolor\":\"white\",\"ticks\":\"\"}},\"title\":{\"x\":0.05},\"xaxis\":{\"automargin\":true,\"gridcolor\":\"white\",\"linecolor\":\"white\",\"ticks\":\"\",\"title\":{\"standoff\":15},\"zerolinecolor\":\"white\",\"zerolinewidth\":2},\"yaxis\":{\"automargin\":true,\"gridcolor\":\"white\",\"linecolor\":\"white\",\"ticks\":\"\",\"title\":{\"standoff\":15},\"zerolinecolor\":\"white\",\"zerolinewidth\":2}}},\"xaxis\":{\"anchor\":\"y\",\"domain\":[0.0,1.0],\"title\":{\"text\":\"GHG in tonns per capita\"}},\"yaxis\":{\"anchor\":\"x\",\"domain\":[0.0,1.0],\"title\":{\"text\":\"Adult education level - Tertiary, % of 25-64 year-olds\"}},\"legend\":{\"title\":{\"text\":\"Countries\"},\"tracegroupgap\":0},\"title\":{\"text\":\"GHG and adult education,        corr = 0.594\"}},                        {\"responsive\": true}                    ).then(function(){\n                            \nvar gd = document.getElementById('46a709ea-be2c-4e50-93ca-a6947bc4b7b2');\nvar x = new MutationObserver(function (mutations, observer) {{\n        var display = window.getComputedStyle(gd).display;\n        if (!display || display === 'none') {{\n            console.log([gd, 'removed!']);\n            Plotly.purge(gd);\n            observer.disconnect();\n        }}\n}});\n\n// Listen for the removal of the full notebook cells\nvar notebookContainer = gd.closest('#notebook-container');\nif (notebookContainer) {{\n    x.observe(notebookContainer, {childList: true});\n}}\n\n// Listen for the clearing of the current output cell\nvar outputEl = gd.closest('.output');\nif (outputEl) {{\n    x.observe(outputEl, {childList: true});\n}}\n\n                        })                };                });            </script>        </div>"
     },
     "metadata": {},
     "output_type": "display_data"
    },
    {
     "name": "stdout",
     "output_type": "stream",
     "text": [
      "     LOCATION SUBJECT MEASURE  TIME      Value\n",
      "51        AUS     TOT  PC_POP  2001  20.546275\n",
      "122       AUT     TOT  PC_POP  2001  16.817069\n",
      "193       BEL     TOT  PC_POP  2001  17.548802\n",
      "264       CAN     TOT  PC_POP  2001  18.861934\n",
      "335       CZE     TOT  PC_POP  2001  16.068487\n",
      "406       DNK     TOT  PC_POP  2001  18.657697\n",
      "477       FIN     TOT  PC_POP  2001  18.002315\n",
      "548       FRA     TOT  PC_POP  2001  19.014172\n",
      "619       DEU     TOT  PC_POP  2001  15.419616\n",
      "690       GRC     TOT  PC_POP  2001  15.085799\n",
      "761       HUN     TOT  PC_POP  2001  16.451987\n",
      "832       ISL     TOT  PC_POP  2001  23.178580\n",
      "903       IRL     TOT  PC_POP  2001  21.510330\n",
      "974       ITA     TOT  PC_POP  2001  14.232763\n",
      "1045      JPN     TOT  PC_POP  2001  14.363152\n",
      "1116      KOR     TOT  PC_POP  2001  20.798856\n",
      "1187      LUX     TOT  PC_POP  2001  18.919782\n",
      "1258      MEX     TOT  PC_POP  2001  33.772296\n",
      "1329      NLD     TOT  PC_POP  2001  18.620585\n",
      "1400      NZL     TOT  PC_POP  2001  22.605592\n",
      "1471      NOR     TOT  PC_POP  2001  20.035815\n",
      "1542      POL     TOT  PC_POP  2001  18.737777\n",
      "1613      PRT     TOT  PC_POP  2001  16.204151\n",
      "1684      SVK     TOT  PC_POP  2001  19.053028\n",
      "1755      ESP     TOT  PC_POP  2001  14.554633\n",
      "1826      SWE     TOT  PC_POP  2001  18.272749\n",
      "1897      CHE     TOT  PC_POP  2001  16.956384\n",
      "1968      TUR     TOT  PC_POP  2001  29.065146\n",
      "2039      GBR     TOT  PC_POP  2001  18.788825\n",
      "2110      USA     TOT  PC_POP  2001  21.212927\n",
      "2181      BRA     TOT  PC_POP  2001  29.597891\n",
      "2252      CHL     TOT  PC_POP  2001  26.936384\n",
      "2323      COL     TOT  PC_POP  2001  32.826706\n",
      "2394      EST     TOT  PC_POP  2001  17.152397\n",
      "2465      ISR     TOT  PC_POP  2001  28.473365\n",
      "2536      RUS     TOT  PC_POP  2001  17.337924\n",
      "2607      SVN     TOT  PC_POP  2001  15.567799\n",
      "2678     EU27     TOT  PC_POP  2001  16.665684\n",
      "2749     OECD     TOT  PC_POP  2001  20.763590\n",
      "2820      LVA     TOT  PC_POP  2001  17.042563\n",
      "2891      ARG     TOT  PC_POP  2001  27.795616\n",
      "2962      BGR     TOT  PC_POP  2001  15.230503\n",
      "3033      CHN     TOT  PC_POP  2001  24.214532\n",
      "3104      CRI     TOT  PC_POP  2001  31.035822\n",
      "3175      HRV     TOT  PC_POP  2001  16.727928\n",
      "3246      CYP     TOT  PC_POP  2001  21.902480\n",
      "3317      IND     TOT  PC_POP  2001  34.360497\n",
      "3388      IDN     TOT  PC_POP  2001  30.451961\n",
      "3459      LTU     TOT  PC_POP  2001  19.337407\n",
      "3530      MLT     TOT  PC_POP  2001  19.498102\n",
      "3601      ROU     TOT  PC_POP  2001  17.857490\n",
      "3672      SAU     TOT  PC_POP  2001  37.316814\n",
      "3743      SGP     TOT  PC_POP  2001  21.769733\n",
      "3814      ZAF     TOT  PC_POP  2001  33.266342\n",
      "3885      WLD     TOT  PC_POP  2001  29.800002\n",
      "3956      G20     TOT  PC_POP  2001  26.180795\n",
      "         SUBJECT MEASURE  TIME      Value\n",
      "LOCATION                                 \n",
      "AUS          TOT  PC_POP  2001  20.546275\n",
      "AUT          TOT  PC_POP  2001  16.817069\n",
      "BEL          TOT  PC_POP  2001  17.548802\n",
      "CAN          TOT  PC_POP  2001  18.861934\n",
      "CZE          TOT  PC_POP  2001  16.068487\n",
      "DNK          TOT  PC_POP  2001  18.657697\n",
      "FIN          TOT  PC_POP  2001  18.002315\n",
      "FRA          TOT  PC_POP  2001  19.014172\n",
      "DEU          TOT  PC_POP  2001  15.419616\n",
      "GRC          TOT  PC_POP  2001  15.085799\n",
      "HUN          TOT  PC_POP  2001  16.451987\n",
      "ISL          TOT  PC_POP  2001  23.178580\n",
      "IRL          TOT  PC_POP  2001  21.510330\n",
      "ITA          TOT  PC_POP  2001  14.232763\n",
      "JPN          TOT  PC_POP  2001  14.363152\n",
      "KOR          TOT  PC_POP  2001  20.798856\n",
      "LUX          TOT  PC_POP  2001  18.919782\n",
      "MEX          TOT  PC_POP  2001  33.772296\n",
      "NLD          TOT  PC_POP  2001  18.620585\n",
      "NZL          TOT  PC_POP  2001  22.605592\n",
      "NOR          TOT  PC_POP  2001  20.035815\n",
      "POL          TOT  PC_POP  2001  18.737777\n",
      "PRT          TOT  PC_POP  2001  16.204151\n",
      "SVK          TOT  PC_POP  2001  19.053028\n",
      "ESP          TOT  PC_POP  2001  14.554633\n",
      "SWE          TOT  PC_POP  2001  18.272749\n",
      "CHE          TOT  PC_POP  2001  16.956384\n",
      "TUR          TOT  PC_POP  2001  29.065146\n",
      "GBR          TOT  PC_POP  2001  18.788825\n",
      "USA          TOT  PC_POP  2001  21.212927\n",
      "BRA          TOT  PC_POP  2001  29.597891\n",
      "CHL          TOT  PC_POP  2001  26.936384\n",
      "COL          TOT  PC_POP  2001  32.826706\n",
      "EST          TOT  PC_POP  2001  17.152397\n",
      "ISR          TOT  PC_POP  2001  28.473365\n",
      "RUS          TOT  PC_POP  2001  17.337924\n",
      "SVN          TOT  PC_POP  2001  15.567799\n",
      "EU27         TOT  PC_POP  2001  16.665684\n",
      "OECD         TOT  PC_POP  2001  20.763590\n",
      "LVA          TOT  PC_POP  2001  17.042563\n",
      "ARG          TOT  PC_POP  2001  27.795616\n",
      "BGR          TOT  PC_POP  2001  15.230503\n",
      "CHN          TOT  PC_POP  2001  24.214532\n",
      "CRI          TOT  PC_POP  2001  31.035822\n",
      "HRV          TOT  PC_POP  2001  16.727928\n",
      "CYP          TOT  PC_POP  2001  21.902480\n",
      "IND          TOT  PC_POP  2001  34.360497\n",
      "IDN          TOT  PC_POP  2001  30.451961\n",
      "LTU          TOT  PC_POP  2001  19.337407\n",
      "MLT          TOT  PC_POP  2001  19.498102\n",
      "ROU          TOT  PC_POP  2001  17.857490\n",
      "SAU          TOT  PC_POP  2001  37.316814\n",
      "SGP          TOT  PC_POP  2001  21.769733\n",
      "ZAF          TOT  PC_POP  2001  33.266342\n",
      "WLD          TOT  PC_POP  2001  29.800002\n",
      "G20          TOT  PC_POP  2001  26.180795\n",
      "LOCATION\n",
      "AUS     20.546275\n",
      "AUT     16.817069\n",
      "BEL     17.548802\n",
      "CAN     18.861934\n",
      "CZE     16.068487\n",
      "DNK     18.657697\n",
      "FIN     18.002315\n",
      "FRA     19.014172\n",
      "DEU     15.419616\n",
      "GRC     15.085799\n",
      "HUN     16.451987\n",
      "ISL     23.178580\n",
      "IRL     21.510330\n",
      "ITA     14.232763\n",
      "JPN     14.363152\n",
      "KOR     20.798856\n",
      "LUX     18.919782\n",
      "MEX     33.772296\n",
      "NLD     18.620585\n",
      "NZL     22.605592\n",
      "NOR     20.035815\n",
      "POL     18.737777\n",
      "PRT     16.204151\n",
      "SVK     19.053028\n",
      "ESP     14.554633\n",
      "SWE     18.272749\n",
      "CHE     16.956384\n",
      "TUR     29.065146\n",
      "GBR     18.788825\n",
      "USA     21.212927\n",
      "BRA     29.597891\n",
      "CHL     26.936384\n",
      "COL     32.826706\n",
      "EST     17.152397\n",
      "ISR     28.473365\n",
      "RUS     17.337924\n",
      "SVN     15.567799\n",
      "EU27    16.665684\n",
      "OECD    20.763590\n",
      "LVA     17.042563\n",
      "ARG     27.795616\n",
      "BGR     15.230503\n",
      "CHN     24.214532\n",
      "CRI     31.035822\n",
      "HRV     16.727928\n",
      "CYP     21.902480\n",
      "IND     34.360497\n",
      "IDN     30.451961\n",
      "LTU     19.337407\n",
      "MLT     19.498102\n",
      "ROU     17.857490\n",
      "SAU     37.316814\n",
      "SGP     21.769733\n",
      "ZAF     33.266342\n",
      "WLD     29.800002\n",
      "G20     26.180795\n",
      "Name: Values1, dtype: float64\n",
      "LOCATION\n",
      "AUS     20.546275\n",
      "AUT     16.817069\n",
      "BEL     17.548802\n",
      "CAN     18.861934\n",
      "CZE     16.068487\n",
      "DNK     18.657697\n",
      "FIN     18.002315\n",
      "FRA     19.014172\n",
      "DEU     15.419616\n",
      "GRC     15.085799\n",
      "HUN     16.451987\n",
      "ISL     23.178580\n",
      "IRL     21.510330\n",
      "ITA     14.232763\n",
      "JPN     14.363152\n",
      "KOR     20.798856\n",
      "LUX     18.919782\n",
      "MEX     33.772296\n",
      "NLD     18.620585\n",
      "NZL     22.605592\n",
      "NOR     20.035815\n",
      "POL     18.737777\n",
      "PRT     16.204151\n",
      "SVK     19.053028\n",
      "ESP     14.554633\n",
      "SWE     18.272749\n",
      "CHE     16.956384\n",
      "TUR     29.065146\n",
      "GBR     18.788825\n",
      "USA     21.212927\n",
      "BRA     29.597891\n",
      "CHL     26.936384\n",
      "COL     32.826706\n",
      "EST     17.152397\n",
      "ISR     28.473365\n",
      "RUS     17.337924\n",
      "SVN     15.567799\n",
      "EU27    16.665684\n",
      "OECD    20.763590\n",
      "LVA     17.042563\n",
      "ARG     27.795616\n",
      "BGR     15.230503\n",
      "CHN     24.214532\n",
      "CRI     31.035822\n",
      "HRV     16.727928\n",
      "CYP     21.902480\n",
      "IND     34.360497\n",
      "IDN     30.451961\n",
      "LTU     19.337407\n",
      "MLT     19.498102\n",
      "ROU     17.857490\n",
      "SAU     37.316814\n",
      "SGP     21.769733\n",
      "ZAF     33.266342\n",
      "WLD     29.800002\n",
      "G20     26.180795\n",
      "Name: Values1, dtype: float64\n"
     ]
    },
    {
     "data": {
      "application/vnd.plotly.v1+json": {
       "data": [
        {
         "hovertemplate": "LOCATION=AUS<br>Values1=%{x}<br>Values2=%{y}<extra></extra>",
         "legendgroup": "AUS",
         "marker": {
          "color": "#636efa",
          "symbol": "circle"
         },
         "mode": "markers",
         "name": "AUS",
         "orientation": "v",
         "showlegend": true,
         "x": [
          20.5462746218476
         ],
         "xaxis": "x",
         "y": [
          null
         ],
         "yaxis": "y",
         "type": "scatter"
        },
        {
         "hovertemplate": "LOCATION=AUS<extra></extra>",
         "legendgroup": "AUS",
         "marker": {
          "color": "#636efa",
          "symbol": "circle"
         },
         "mode": "lines",
         "name": "AUS",
         "showlegend": false,
         "xaxis": "x",
         "yaxis": "y",
         "type": "scatter"
        },
        {
         "hovertemplate": "LOCATION=AUT<br>Values1=%{x}<br>Values2=%{y}<extra></extra>",
         "legendgroup": "AUT",
         "marker": {
          "color": "#EF553B",
          "symbol": "circle"
         },
         "mode": "markers",
         "name": "AUT",
         "orientation": "v",
         "showlegend": true,
         "x": [
          16.8170694601652
         ],
         "xaxis": "x",
         "y": [
          2.936
         ],
         "yaxis": "y",
         "type": "scatter"
        },
        {
         "hovertemplate": "LOCATION=AUT<extra></extra>",
         "legendgroup": "AUT",
         "marker": {
          "color": "#EF553B",
          "symbol": "circle"
         },
         "mode": "lines",
         "name": "AUT",
         "showlegend": false,
         "xaxis": "x",
         "yaxis": "y",
         "type": "scatter"
        },
        {
         "hovertemplate": "LOCATION=BEL<br>Values1=%{x}<br>Values2=%{y}<extra></extra>",
         "legendgroup": "BEL",
         "marker": {
          "color": "#00cc96",
          "symbol": "circle"
         },
         "mode": "markers",
         "name": "BEL",
         "orientation": "v",
         "showlegend": true,
         "x": [
          17.548802219904
         ],
         "xaxis": "x",
         "y": [
          2.671
         ],
         "yaxis": "y",
         "type": "scatter"
        },
        {
         "hovertemplate": "LOCATION=BEL<extra></extra>",
         "legendgroup": "BEL",
         "marker": {
          "color": "#00cc96",
          "symbol": "circle"
         },
         "mode": "lines",
         "name": "BEL",
         "showlegend": false,
         "xaxis": "x",
         "yaxis": "y",
         "type": "scatter"
        },
        {
         "hovertemplate": "LOCATION=CAN<br>Values1=%{x}<br>Values2=%{y}<extra></extra>",
         "legendgroup": "CAN",
         "marker": {
          "color": "#ab63fa",
          "symbol": "circle"
         },
         "mode": "markers",
         "name": "CAN",
         "orientation": "v",
         "showlegend": true,
         "x": [
          18.8619338019249
         ],
         "xaxis": "x",
         "y": [
          2.605
         ],
         "yaxis": "y",
         "type": "scatter"
        },
        {
         "hovertemplate": "LOCATION=CAN<extra></extra>",
         "legendgroup": "CAN",
         "marker": {
          "color": "#ab63fa",
          "symbol": "circle"
         },
         "mode": "lines",
         "name": "CAN",
         "showlegend": false,
         "xaxis": "x",
         "yaxis": "y",
         "type": "scatter"
        },
        {
         "hovertemplate": "LOCATION=CZE<br>Values1=%{x}<br>Values2=%{y}<extra></extra>",
         "legendgroup": "CZE",
         "marker": {
          "color": "#FFA15A",
          "symbol": "circle"
         },
         "mode": "markers",
         "name": "CZE",
         "orientation": "v",
         "showlegend": true,
         "x": [
          16.0684873679993
         ],
         "xaxis": "x",
         "y": [
          3.247
         ],
         "yaxis": "y",
         "type": "scatter"
        },
        {
         "hovertemplate": "LOCATION=CZE<extra></extra>",
         "legendgroup": "CZE",
         "marker": {
          "color": "#FFA15A",
          "symbol": "circle"
         },
         "mode": "lines",
         "name": "CZE",
         "showlegend": false,
         "xaxis": "x",
         "yaxis": "y",
         "type": "scatter"
        },
        {
         "hovertemplate": "LOCATION=DNK<br>Values1=%{x}<br>Values2=%{y}<extra></extra>",
         "legendgroup": "DNK",
         "marker": {
          "color": "#19d3f3",
          "symbol": "circle"
         },
         "mode": "markers",
         "name": "DNK",
         "orientation": "v",
         "showlegend": true,
         "x": [
          18.6576974918405
         ],
         "xaxis": "x",
         "y": [
          4.437
         ],
         "yaxis": "y",
         "type": "scatter"
        },
        {
         "hovertemplate": "LOCATION=DNK<extra></extra>",
         "legendgroup": "DNK",
         "marker": {
          "color": "#19d3f3",
          "symbol": "circle"
         },
         "mode": "lines",
         "name": "DNK",
         "showlegend": false,
         "xaxis": "x",
         "yaxis": "y",
         "type": "scatter"
        },
        {
         "hovertemplate": "LOCATION=FIN<br>Values1=%{x}<br>Values2=%{y}<extra></extra>",
         "legendgroup": "FIN",
         "marker": {
          "color": "#FF6692",
          "symbol": "circle"
         },
         "mode": "markers",
         "name": "FIN",
         "orientation": "v",
         "showlegend": true,
         "x": [
          18.0023149553634
         ],
         "xaxis": "x",
         "y": [
          6.427
         ],
         "yaxis": "y",
         "type": "scatter"
        },
        {
         "hovertemplate": "LOCATION=FIN<extra></extra>",
         "legendgroup": "FIN",
         "marker": {
          "color": "#FF6692",
          "symbol": "circle"
         },
         "mode": "lines",
         "name": "FIN",
         "showlegend": false,
         "xaxis": "x",
         "yaxis": "y",
         "type": "scatter"
        },
        {
         "hovertemplate": "LOCATION=FRA<br>Values1=%{x}<br>Values2=%{y}<extra></extra>",
         "legendgroup": "FRA",
         "marker": {
          "color": "#B6E880",
          "symbol": "circle"
         },
         "mode": "markers",
         "name": "FRA",
         "orientation": "v",
         "showlegend": true,
         "x": [
          19.0141718627482
         ],
         "xaxis": "x",
         "y": [
          3.33
         ],
         "yaxis": "y",
         "type": "scatter"
        },
        {
         "hovertemplate": "LOCATION=FRA<extra></extra>",
         "legendgroup": "FRA",
         "marker": {
          "color": "#B6E880",
          "symbol": "circle"
         },
         "mode": "lines",
         "name": "FRA",
         "showlegend": false,
         "xaxis": "x",
         "yaxis": "y",
         "type": "scatter"
        },
        {
         "hovertemplate": "LOCATION=DEU<br>Values1=%{x}<br>Values2=%{y}<extra></extra>",
         "legendgroup": "DEU",
         "marker": {
          "color": "#FF97FF",
          "symbol": "circle"
         },
         "mode": "markers",
         "name": "DEU",
         "orientation": "v",
         "showlegend": true,
         "x": [
          15.4196155561816
         ],
         "xaxis": "x",
         "y": [
          3.941
         ],
         "yaxis": "y",
         "type": "scatter"
        },
        {
         "hovertemplate": "LOCATION=DEU<extra></extra>",
         "legendgroup": "DEU",
         "marker": {
          "color": "#FF97FF",
          "symbol": "circle"
         },
         "mode": "lines",
         "name": "DEU",
         "showlegend": false,
         "xaxis": "x",
         "yaxis": "y",
         "type": "scatter"
        },
        {
         "hovertemplate": "LOCATION=GRC<br>Values1=%{x}<br>Values2=%{y}<extra></extra>",
         "legendgroup": "GRC",
         "marker": {
          "color": "#FECB52",
          "symbol": "circle"
         },
         "mode": "markers",
         "name": "GRC",
         "orientation": "v",
         "showlegend": true,
         "x": [
          15.0857994781686
         ],
         "xaxis": "x",
         "y": [
          1.846
         ],
         "yaxis": "y",
         "type": "scatter"
        },
        {
         "hovertemplate": "LOCATION=GRC<extra></extra>",
         "legendgroup": "GRC",
         "marker": {
          "color": "#FECB52",
          "symbol": "circle"
         },
         "mode": "lines",
         "name": "GRC",
         "showlegend": false,
         "xaxis": "x",
         "yaxis": "y",
         "type": "scatter"
        },
        {
         "hovertemplate": "LOCATION=HUN<br>Values1=%{x}<br>Values2=%{y}<extra></extra>",
         "legendgroup": "HUN",
         "marker": {
          "color": "#636efa",
          "symbol": "circle"
         },
         "mode": "markers",
         "name": "HUN",
         "orientation": "v",
         "showlegend": true,
         "x": [
          16.4519869197566
         ],
         "xaxis": "x",
         "y": [
          4.936
         ],
         "yaxis": "y",
         "type": "scatter"
        },
        {
         "hovertemplate": "LOCATION=HUN<extra></extra>",
         "legendgroup": "HUN",
         "marker": {
          "color": "#636efa",
          "symbol": "circle"
         },
         "mode": "lines",
         "name": "HUN",
         "showlegend": false,
         "xaxis": "x",
         "yaxis": "y",
         "type": "scatter"
        },
        {
         "hovertemplate": "LOCATION=ISL<br>Values1=%{x}<br>Values2=%{y}<extra></extra>",
         "legendgroup": "ISL",
         "marker": {
          "color": "#EF553B",
          "symbol": "circle"
         },
         "mode": "markers",
         "name": "ISL",
         "orientation": "v",
         "showlegend": true,
         "x": [
          23.1785802014247
         ],
         "xaxis": "x",
         "y": [
          null
         ],
         "yaxis": "y",
         "type": "scatter"
        },
        {
         "hovertemplate": "LOCATION=ISL<extra></extra>",
         "legendgroup": "ISL",
         "marker": {
          "color": "#EF553B",
          "symbol": "circle"
         },
         "mode": "lines",
         "name": "ISL",
         "showlegend": false,
         "xaxis": "x",
         "yaxis": "y",
         "type": "scatter"
        },
        {
         "hovertemplate": "LOCATION=IRL<br>Values1=%{x}<br>Values2=%{y}<extra></extra>",
         "legendgroup": "IRL",
         "marker": {
          "color": "#00cc96",
          "symbol": "circle"
         },
         "mode": "markers",
         "name": "IRL",
         "orientation": "v",
         "showlegend": true,
         "x": [
          21.5103303755097
         ],
         "xaxis": "x",
         "y": [
          5.247
         ],
         "yaxis": "y",
         "type": "scatter"
        },
        {
         "hovertemplate": "LOCATION=IRL<extra></extra>",
         "legendgroup": "IRL",
         "marker": {
          "color": "#00cc96",
          "symbol": "circle"
         },
         "mode": "lines",
         "name": "IRL",
         "showlegend": false,
         "xaxis": "x",
         "yaxis": "y",
         "type": "scatter"
        },
        {
         "hovertemplate": "LOCATION=ITA<br>Values1=%{x}<br>Values2=%{y}<extra></extra>",
         "legendgroup": "ITA",
         "marker": {
          "color": "#ab63fa",
          "symbol": "circle"
         },
         "mode": "markers",
         "name": "ITA",
         "orientation": "v",
         "showlegend": true,
         "x": [
          14.2327630725786
         ],
         "xaxis": "x",
         "y": [
          3.15
         ],
         "yaxis": "y",
         "type": "scatter"
        },
        {
         "hovertemplate": "LOCATION=ITA<extra></extra>",
         "legendgroup": "ITA",
         "marker": {
          "color": "#ab63fa",
          "symbol": "circle"
         },
         "mode": "lines",
         "name": "ITA",
         "showlegend": false,
         "xaxis": "x",
         "yaxis": "y",
         "type": "scatter"
        },
        {
         "hovertemplate": "LOCATION=JPN<br>Values1=%{x}<br>Values2=%{y}<extra></extra>",
         "legendgroup": "JPN",
         "marker": {
          "color": "#FFA15A",
          "symbol": "circle"
         },
         "mode": "markers",
         "name": "JPN",
         "orientation": "v",
         "showlegend": true,
         "x": [
          14.3631521474417
         ],
         "xaxis": "x",
         "y": [
          4.737
         ],
         "yaxis": "y",
         "type": "scatter"
        },
        {
         "hovertemplate": "LOCATION=JPN<extra></extra>",
         "legendgroup": "JPN",
         "marker": {
          "color": "#FFA15A",
          "symbol": "circle"
         },
         "mode": "lines",
         "name": "JPN",
         "showlegend": false,
         "xaxis": "x",
         "yaxis": "y",
         "type": "scatter"
        },
        {
         "hovertemplate": "LOCATION=KOR<br>Values1=%{x}<br>Values2=%{y}<extra></extra>",
         "legendgroup": "KOR",
         "marker": {
          "color": "#19d3f3",
          "symbol": "circle"
         },
         "mode": "markers",
         "name": "KOR",
         "orientation": "v",
         "showlegend": true,
         "x": [
          20.7988555834428
         ],
         "xaxis": "x",
         "y": [
          null
         ],
         "yaxis": "y",
         "type": "scatter"
        },
        {
         "hovertemplate": "LOCATION=KOR<extra></extra>",
         "legendgroup": "KOR",
         "marker": {
          "color": "#19d3f3",
          "symbol": "circle"
         },
         "mode": "lines",
         "name": "KOR",
         "showlegend": false,
         "xaxis": "x",
         "yaxis": "y",
         "type": "scatter"
        },
        {
         "hovertemplate": "LOCATION=LUX<br>Values1=%{x}<br>Values2=%{y}<extra></extra>",
         "legendgroup": "LUX",
         "marker": {
          "color": "#FF6692",
          "symbol": "circle"
         },
         "mode": "markers",
         "name": "LUX",
         "orientation": "v",
         "showlegend": true,
         "x": [
          18.9197820267167
         ],
         "xaxis": "x",
         "y": [
          4.426
         ],
         "yaxis": "y",
         "type": "scatter"
        },
        {
         "hovertemplate": "LOCATION=LUX<extra></extra>",
         "legendgroup": "LUX",
         "marker": {
          "color": "#FF6692",
          "symbol": "circle"
         },
         "mode": "lines",
         "name": "LUX",
         "showlegend": false,
         "xaxis": "x",
         "yaxis": "y",
         "type": "scatter"
        },
        {
         "hovertemplate": "LOCATION=MEX<br>Values1=%{x}<br>Values2=%{y}<extra></extra>",
         "legendgroup": "MEX",
         "marker": {
          "color": "#B6E880",
          "symbol": "circle"
         },
         "mode": "markers",
         "name": "MEX",
         "orientation": "v",
         "showlegend": true,
         "x": [
          33.7722961099192
         ],
         "xaxis": "x",
         "y": [
          null
         ],
         "yaxis": "y",
         "type": "scatter"
        },
        {
         "hovertemplate": "LOCATION=MEX<extra></extra>",
         "legendgroup": "MEX",
         "marker": {
          "color": "#B6E880",
          "symbol": "circle"
         },
         "mode": "lines",
         "name": "MEX",
         "showlegend": false,
         "xaxis": "x",
         "yaxis": "y",
         "type": "scatter"
        },
        {
         "hovertemplate": "LOCATION=NLD<br>Values1=%{x}<br>Values2=%{y}<extra></extra>",
         "legendgroup": "NLD",
         "marker": {
          "color": "#FF97FF",
          "symbol": "circle"
         },
         "mode": "markers",
         "name": "NLD",
         "orientation": "v",
         "showlegend": true,
         "x": [
          18.6205852582253
         ],
         "xaxis": "x",
         "y": [
          3.541
         ],
         "yaxis": "y",
         "type": "scatter"
        },
        {
         "hovertemplate": "LOCATION=NLD<extra></extra>",
         "legendgroup": "NLD",
         "marker": {
          "color": "#FF97FF",
          "symbol": "circle"
         },
         "mode": "lines",
         "name": "NLD",
         "showlegend": false,
         "xaxis": "x",
         "yaxis": "y",
         "type": "scatter"
        },
        {
         "hovertemplate": "LOCATION=NZL<br>Values1=%{x}<br>Values2=%{y}<extra></extra>",
         "legendgroup": "NZL",
         "marker": {
          "color": "#FECB52",
          "symbol": "circle"
         },
         "mode": "markers",
         "name": "NZL",
         "orientation": "v",
         "showlegend": true,
         "x": [
          22.6055920628785
         ],
         "xaxis": "x",
         "y": [
          null
         ],
         "yaxis": "y",
         "type": "scatter"
        },
        {
         "hovertemplate": "LOCATION=NZL<extra></extra>",
         "legendgroup": "NZL",
         "marker": {
          "color": "#FECB52",
          "symbol": "circle"
         },
         "mode": "lines",
         "name": "NZL",
         "showlegend": false,
         "xaxis": "x",
         "yaxis": "y",
         "type": "scatter"
        },
        {
         "hovertemplate": "LOCATION=NOR<br>Values1=%{x}<br>Values2=%{y}<extra></extra>",
         "legendgroup": "NOR",
         "marker": {
          "color": "#636efa",
          "symbol": "circle"
         },
         "mode": "markers",
         "name": "NOR",
         "orientation": "v",
         "showlegend": true,
         "x": [
          20.0358150334966
         ],
         "xaxis": "x",
         "y": [
          3.309
         ],
         "yaxis": "y",
         "type": "scatter"
        },
        {
         "hovertemplate": "LOCATION=NOR<extra></extra>",
         "legendgroup": "NOR",
         "marker": {
          "color": "#636efa",
          "symbol": "circle"
         },
         "mode": "lines",
         "name": "NOR",
         "showlegend": false,
         "xaxis": "x",
         "yaxis": "y",
         "type": "scatter"
        },
        {
         "hovertemplate": "LOCATION=POL<br>Values1=%{x}<br>Values2=%{y}<extra></extra>",
         "legendgroup": "POL",
         "marker": {
          "color": "#EF553B",
          "symbol": "circle"
         },
         "mode": "markers",
         "name": "POL",
         "orientation": "v",
         "showlegend": true,
         "x": [
          18.7377765093334
         ],
         "xaxis": "x",
         "y": [
          null
         ],
         "yaxis": "y",
         "type": "scatter"
        },
        {
         "hovertemplate": "LOCATION=POL<extra></extra>",
         "legendgroup": "POL",
         "marker": {
          "color": "#EF553B",
          "symbol": "circle"
         },
         "mode": "lines",
         "name": "POL",
         "showlegend": false,
         "xaxis": "x",
         "yaxis": "y",
         "type": "scatter"
        },
        {
         "hovertemplate": "LOCATION=PRT<br>Values1=%{x}<br>Values2=%{y}<extra></extra>",
         "legendgroup": "PRT",
         "marker": {
          "color": "#00cc96",
          "symbol": "circle"
         },
         "mode": "markers",
         "name": "PRT",
         "orientation": "v",
         "showlegend": true,
         "x": [
          16.2041506181557
         ],
         "xaxis": "x",
         "y": [
          1.879
         ],
         "yaxis": "y",
         "type": "scatter"
        },
        {
         "hovertemplate": "LOCATION=PRT<extra></extra>",
         "legendgroup": "PRT",
         "marker": {
          "color": "#00cc96",
          "symbol": "circle"
         },
         "mode": "lines",
         "name": "PRT",
         "showlegend": false,
         "xaxis": "x",
         "yaxis": "y",
         "type": "scatter"
        },
        {
         "hovertemplate": "LOCATION=SVK<br>Values1=%{x}<br>Values2=%{y}<extra></extra>",
         "legendgroup": "SVK",
         "marker": {
          "color": "#ab63fa",
          "symbol": "circle"
         },
         "mode": "markers",
         "name": "SVK",
         "orientation": "v",
         "showlegend": true,
         "x": [
          19.0530281907439
         ],
         "xaxis": "x",
         "y": [
          3.335
         ],
         "yaxis": "y",
         "type": "scatter"
        },
        {
         "hovertemplate": "LOCATION=SVK<extra></extra>",
         "legendgroup": "SVK",
         "marker": {
          "color": "#ab63fa",
          "symbol": "circle"
         },
         "mode": "lines",
         "name": "SVK",
         "showlegend": false,
         "xaxis": "x",
         "yaxis": "y",
         "type": "scatter"
        },
        {
         "hovertemplate": "LOCATION=ESP<br>Values1=%{x}<br>Values2=%{y}<extra></extra>",
         "legendgroup": "ESP",
         "marker": {
          "color": "#FFA15A",
          "symbol": "circle"
         },
         "mode": "markers",
         "name": "ESP",
         "orientation": "v",
         "showlegend": true,
         "x": [
          14.5546334401943
         ],
         "xaxis": "x",
         "y": [
          2.656
         ],
         "yaxis": "y",
         "type": "scatter"
        },
        {
         "hovertemplate": "LOCATION=ESP<extra></extra>",
         "legendgroup": "ESP",
         "marker": {
          "color": "#FFA15A",
          "symbol": "circle"
         },
         "mode": "lines",
         "name": "ESP",
         "showlegend": false,
         "xaxis": "x",
         "yaxis": "y",
         "type": "scatter"
        },
        {
         "hovertemplate": "LOCATION=SWE<br>Values1=%{x}<br>Values2=%{y}<extra></extra>",
         "legendgroup": "SWE",
         "marker": {
          "color": "#19d3f3",
          "symbol": "circle"
         },
         "mode": "markers",
         "name": "SWE",
         "orientation": "v",
         "showlegend": true,
         "x": [
          18.2727491110294
         ],
         "xaxis": "x",
         "y": [
          4.492
         ],
         "yaxis": "y",
         "type": "scatter"
        },
        {
         "hovertemplate": "LOCATION=SWE<extra></extra>",
         "legendgroup": "SWE",
         "marker": {
          "color": "#19d3f3",
          "symbol": "circle"
         },
         "mode": "lines",
         "name": "SWE",
         "showlegend": false,
         "xaxis": "x",
         "yaxis": "y",
         "type": "scatter"
        },
        {
         "hovertemplate": "LOCATION=CHE<br>Values1=%{x}<br>Values2=%{y}<extra></extra>",
         "legendgroup": "CHE",
         "marker": {
          "color": "#FF6692",
          "symbol": "circle"
         },
         "mode": "markers",
         "name": "CHE",
         "orientation": "v",
         "showlegend": true,
         "x": [
          16.9563837835168
         ],
         "xaxis": "x",
         "y": [
          5.363
         ],
         "yaxis": "y",
         "type": "scatter"
        },
        {
         "hovertemplate": "LOCATION=CHE<extra></extra>",
         "legendgroup": "CHE",
         "marker": {
          "color": "#FF6692",
          "symbol": "circle"
         },
         "mode": "lines",
         "name": "CHE",
         "showlegend": false,
         "xaxis": "x",
         "yaxis": "y",
         "type": "scatter"
        },
        {
         "hovertemplate": "LOCATION=TUR<br>Values1=%{x}<br>Values2=%{y}<extra></extra>",
         "legendgroup": "TUR",
         "marker": {
          "color": "#B6E880",
          "symbol": "circle"
         },
         "mode": "markers",
         "name": "TUR",
         "orientation": "v",
         "showlegend": true,
         "x": [
          29.0651458424531
         ],
         "xaxis": "x",
         "y": [
          null
         ],
         "yaxis": "y",
         "type": "scatter"
        },
        {
         "hovertemplate": "LOCATION=TUR<extra></extra>",
         "legendgroup": "TUR",
         "marker": {
          "color": "#B6E880",
          "symbol": "circle"
         },
         "mode": "lines",
         "name": "TUR",
         "showlegend": false,
         "xaxis": "x",
         "yaxis": "y",
         "type": "scatter"
        },
        {
         "hovertemplate": "LOCATION=GBR<br>Values1=%{x}<br>Values2=%{y}<extra></extra>",
         "legendgroup": "GBR",
         "marker": {
          "color": "#FF97FF",
          "symbol": "circle"
         },
         "mode": "markers",
         "name": "GBR",
         "orientation": "v",
         "showlegend": true,
         "x": [
          18.7888247826841
         ],
         "xaxis": "x",
         "y": [
          4.267
         ],
         "yaxis": "y",
         "type": "scatter"
        },
        {
         "hovertemplate": "LOCATION=GBR<extra></extra>",
         "legendgroup": "GBR",
         "marker": {
          "color": "#FF97FF",
          "symbol": "circle"
         },
         "mode": "lines",
         "name": "GBR",
         "showlegend": false,
         "xaxis": "x",
         "yaxis": "y",
         "type": "scatter"
        },
        {
         "hovertemplate": "LOCATION=USA<br>Values1=%{x}<br>Values2=%{y}<extra></extra>",
         "legendgroup": "USA",
         "marker": {
          "color": "#FECB52",
          "symbol": "circle"
         },
         "mode": "markers",
         "name": "USA",
         "orientation": "v",
         "showlegend": true,
         "x": [
          21.2129272116677
         ],
         "xaxis": "x",
         "y": [
          3.797
         ],
         "yaxis": "y",
         "type": "scatter"
        },
        {
         "hovertemplate": "LOCATION=USA<extra></extra>",
         "legendgroup": "USA",
         "marker": {
          "color": "#FECB52",
          "symbol": "circle"
         },
         "mode": "lines",
         "name": "USA",
         "showlegend": false,
         "xaxis": "x",
         "yaxis": "y",
         "type": "scatter"
        },
        {
         "hovertemplate": "LOCATION=BRA<br>Values1=%{x}<br>Values2=%{y}<extra></extra>",
         "legendgroup": "BRA",
         "marker": {
          "color": "#636efa",
          "symbol": "circle"
         },
         "mode": "markers",
         "name": "BRA",
         "orientation": "v",
         "showlegend": true,
         "x": [
          29.5978910138155
         ],
         "xaxis": "x",
         "y": [
          null
         ],
         "yaxis": "y",
         "type": "scatter"
        },
        {
         "hovertemplate": "LOCATION=BRA<extra></extra>",
         "legendgroup": "BRA",
         "marker": {
          "color": "#636efa",
          "symbol": "circle"
         },
         "mode": "lines",
         "name": "BRA",
         "showlegend": false,
         "xaxis": "x",
         "yaxis": "y",
         "type": "scatter"
        },
        {
         "hovertemplate": "LOCATION=CHL<br>Values1=%{x}<br>Values2=%{y}<extra></extra>",
         "legendgroup": "CHL",
         "marker": {
          "color": "#EF553B",
          "symbol": "circle"
         },
         "mode": "markers",
         "name": "CHL",
         "orientation": "v",
         "showlegend": true,
         "x": [
          26.936384028169
         ],
         "xaxis": "x",
         "y": [
          null
         ],
         "yaxis": "y",
         "type": "scatter"
        },
        {
         "hovertemplate": "LOCATION=CHL<extra></extra>",
         "legendgroup": "CHL",
         "marker": {
          "color": "#EF553B",
          "symbol": "circle"
         },
         "mode": "lines",
         "name": "CHL",
         "showlegend": false,
         "xaxis": "x",
         "yaxis": "y",
         "type": "scatter"
        },
        {
         "hovertemplate": "LOCATION=COL<br>Values1=%{x}<br>Values2=%{y}<extra></extra>",
         "legendgroup": "COL",
         "marker": {
          "color": "#00cc96",
          "symbol": "circle"
         },
         "mode": "markers",
         "name": "COL",
         "orientation": "v",
         "showlegend": true,
         "x": [
          32.8267057249456
         ],
         "xaxis": "x",
         "y": [
          null
         ],
         "yaxis": "y",
         "type": "scatter"
        },
        {
         "hovertemplate": "LOCATION=COL<extra></extra>",
         "legendgroup": "COL",
         "marker": {
          "color": "#00cc96",
          "symbol": "circle"
         },
         "mode": "lines",
         "name": "COL",
         "showlegend": false,
         "xaxis": "x",
         "yaxis": "y",
         "type": "scatter"
        },
        {
         "hovertemplate": "LOCATION=EST<br>Values1=%{x}<br>Values2=%{y}<extra></extra>",
         "legendgroup": "EST",
         "marker": {
          "color": "#ab63fa",
          "symbol": "circle"
         },
         "mode": "markers",
         "name": "EST",
         "orientation": "v",
         "showlegend": true,
         "x": [
          17.1523973157844
         ],
         "xaxis": "x",
         "y": [
          4.389
         ],
         "yaxis": "y",
         "type": "scatter"
        },
        {
         "hovertemplate": "LOCATION=EST<extra></extra>",
         "legendgroup": "EST",
         "marker": {
          "color": "#ab63fa",
          "symbol": "circle"
         },
         "mode": "lines",
         "name": "EST",
         "showlegend": false,
         "xaxis": "x",
         "yaxis": "y",
         "type": "scatter"
        },
        {
         "hovertemplate": "LOCATION=ISR<br>Values1=%{x}<br>Values2=%{y}<extra></extra>",
         "legendgroup": "ISR",
         "marker": {
          "color": "#FFA15A",
          "symbol": "circle"
         },
         "mode": "markers",
         "name": "ISR",
         "orientation": "v",
         "showlegend": true,
         "x": [
          28.4733654294145
         ],
         "xaxis": "x",
         "y": [
          null
         ],
         "yaxis": "y",
         "type": "scatter"
        },
        {
         "hovertemplate": "LOCATION=ISR<extra></extra>",
         "legendgroup": "ISR",
         "marker": {
          "color": "#FFA15A",
          "symbol": "circle"
         },
         "mode": "lines",
         "name": "ISR",
         "showlegend": false,
         "xaxis": "x",
         "yaxis": "y",
         "type": "scatter"
        },
        {
         "hovertemplate": "LOCATION=RUS<br>Values1=%{x}<br>Values2=%{y}<extra></extra>",
         "legendgroup": "RUS",
         "marker": {
          "color": "#19d3f3",
          "symbol": "circle"
         },
         "mode": "markers",
         "name": "RUS",
         "orientation": "v",
         "showlegend": true,
         "x": [
          17.3379243017016
         ],
         "xaxis": "x",
         "y": [
          null
         ],
         "yaxis": "y",
         "type": "scatter"
        },
        {
         "hovertemplate": "LOCATION=RUS<extra></extra>",
         "legendgroup": "RUS",
         "marker": {
          "color": "#19d3f3",
          "symbol": "circle"
         },
         "mode": "lines",
         "name": "RUS",
         "showlegend": false,
         "xaxis": "x",
         "yaxis": "y",
         "type": "scatter"
        },
        {
         "hovertemplate": "LOCATION=SVN<br>Values1=%{x}<br>Values2=%{y}<extra></extra>",
         "legendgroup": "SVN",
         "marker": {
          "color": "#FF6692",
          "symbol": "circle"
         },
         "mode": "markers",
         "name": "SVN",
         "orientation": "v",
         "showlegend": true,
         "x": [
          15.5677987585559
         ],
         "xaxis": "x",
         "y": [
          3.368
         ],
         "yaxis": "y",
         "type": "scatter"
        },
        {
         "hovertemplate": "LOCATION=SVN<extra></extra>",
         "legendgroup": "SVN",
         "marker": {
          "color": "#FF6692",
          "symbol": "circle"
         },
         "mode": "lines",
         "name": "SVN",
         "showlegend": false,
         "xaxis": "x",
         "yaxis": "y",
         "type": "scatter"
        },
        {
         "hovertemplate": "LOCATION=EU27<br>Values1=%{x}<br>Values2=%{y}<extra></extra>",
         "legendgroup": "EU27",
         "marker": {
          "color": "#B6E880",
          "symbol": "circle"
         },
         "mode": "markers",
         "name": "EU27",
         "orientation": "v",
         "showlegend": true,
         "x": [
          16.66568397266
         ],
         "xaxis": "x",
         "y": [
          null
         ],
         "yaxis": "y",
         "type": "scatter"
        },
        {
         "hovertemplate": "LOCATION=EU27<extra></extra>",
         "legendgroup": "EU27",
         "marker": {
          "color": "#B6E880",
          "symbol": "circle"
         },
         "mode": "lines",
         "name": "EU27",
         "showlegend": false,
         "xaxis": "x",
         "yaxis": "y",
         "type": "scatter"
        },
        {
         "hovertemplate": "LOCATION=OECD<br>Values1=%{x}<br>Values2=%{y}<extra></extra>",
         "legendgroup": "OECD",
         "marker": {
          "color": "#FF97FF",
          "symbol": "circle"
         },
         "mode": "markers",
         "name": "OECD",
         "orientation": "v",
         "showlegend": true,
         "x": [
          20.763589504355
         ],
         "xaxis": "x",
         "y": [
          3.7
         ],
         "yaxis": "y",
         "type": "scatter"
        },
        {
         "hovertemplate": "LOCATION=OECD<extra></extra>",
         "legendgroup": "OECD",
         "marker": {
          "color": "#FF97FF",
          "symbol": "circle"
         },
         "mode": "lines",
         "name": "OECD",
         "showlegend": false,
         "xaxis": "x",
         "yaxis": "y",
         "type": "scatter"
        },
        {
         "hovertemplate": "LOCATION=LVA<br>Values1=%{x}<br>Values2=%{y}<extra></extra>",
         "legendgroup": "LVA",
         "marker": {
          "color": "#FECB52",
          "symbol": "circle"
         },
         "mode": "markers",
         "name": "LVA",
         "orientation": "v",
         "showlegend": true,
         "x": [
          17.0425625499535
         ],
         "xaxis": "x",
         "y": [
          null
         ],
         "yaxis": "y",
         "type": "scatter"
        },
        {
         "hovertemplate": "LOCATION=LVA<extra></extra>",
         "legendgroup": "LVA",
         "marker": {
          "color": "#FECB52",
          "symbol": "circle"
         },
         "mode": "lines",
         "name": "LVA",
         "showlegend": false,
         "xaxis": "x",
         "yaxis": "y",
         "type": "scatter"
        },
        {
         "hovertemplate": "LOCATION=ARG<br>Values1=%{x}<br>Values2=%{y}<extra></extra>",
         "legendgroup": "ARG",
         "marker": {
          "color": "#636efa",
          "symbol": "circle"
         },
         "mode": "markers",
         "name": "ARG",
         "orientation": "v",
         "showlegend": true,
         "x": [
          27.7956163652411
         ],
         "xaxis": "x",
         "y": [
          null
         ],
         "yaxis": "y",
         "type": "scatter"
        },
        {
         "hovertemplate": "LOCATION=ARG<extra></extra>",
         "legendgroup": "ARG",
         "marker": {
          "color": "#636efa",
          "symbol": "circle"
         },
         "mode": "lines",
         "name": "ARG",
         "showlegend": false,
         "xaxis": "x",
         "yaxis": "y",
         "type": "scatter"
        },
        {
         "hovertemplate": "LOCATION=BGR<br>Values1=%{x}<br>Values2=%{y}<extra></extra>",
         "legendgroup": "BGR",
         "marker": {
          "color": "#EF553B",
          "symbol": "circle"
         },
         "mode": "markers",
         "name": "BGR",
         "orientation": "v",
         "showlegend": true,
         "x": [
          15.230502545123
         ],
         "xaxis": "x",
         "y": [
          null
         ],
         "yaxis": "y",
         "type": "scatter"
        },
        {
         "hovertemplate": "LOCATION=BGR<extra></extra>",
         "legendgroup": "BGR",
         "marker": {
          "color": "#EF553B",
          "symbol": "circle"
         },
         "mode": "lines",
         "name": "BGR",
         "showlegend": false,
         "xaxis": "x",
         "yaxis": "y",
         "type": "scatter"
        },
        {
         "hovertemplate": "LOCATION=CHN<br>Values1=%{x}<br>Values2=%{y}<extra></extra>",
         "legendgroup": "CHN",
         "marker": {
          "color": "#00cc96",
          "symbol": "circle"
         },
         "mode": "markers",
         "name": "CHN",
         "orientation": "v",
         "showlegend": true,
         "x": [
          24.2145322071514
         ],
         "xaxis": "x",
         "y": [
          null
         ],
         "yaxis": "y",
         "type": "scatter"
        },
        {
         "hovertemplate": "LOCATION=CHN<extra></extra>",
         "legendgroup": "CHN",
         "marker": {
          "color": "#00cc96",
          "symbol": "circle"
         },
         "mode": "lines",
         "name": "CHN",
         "showlegend": false,
         "xaxis": "x",
         "yaxis": "y",
         "type": "scatter"
        },
        {
         "hovertemplate": "LOCATION=CRI<br>Values1=%{x}<br>Values2=%{y}<extra></extra>",
         "legendgroup": "CRI",
         "marker": {
          "color": "#ab63fa",
          "symbol": "circle"
         },
         "mode": "markers",
         "name": "CRI",
         "orientation": "v",
         "showlegend": true,
         "x": [
          31.0358216347325
         ],
         "xaxis": "x",
         "y": [
          null
         ],
         "yaxis": "y",
         "type": "scatter"
        },
        {
         "hovertemplate": "LOCATION=CRI<extra></extra>",
         "legendgroup": "CRI",
         "marker": {
          "color": "#ab63fa",
          "symbol": "circle"
         },
         "mode": "lines",
         "name": "CRI",
         "showlegend": false,
         "xaxis": "x",
         "yaxis": "y",
         "type": "scatter"
        },
        {
         "hovertemplate": "LOCATION=HRV<br>Values1=%{x}<br>Values2=%{y}<extra></extra>",
         "legendgroup": "HRV",
         "marker": {
          "color": "#FFA15A",
          "symbol": "circle"
         },
         "mode": "markers",
         "name": "HRV",
         "orientation": "v",
         "showlegend": true,
         "x": [
          16.7279275809474
         ],
         "xaxis": "x",
         "y": [
          null
         ],
         "yaxis": "y",
         "type": "scatter"
        },
        {
         "hovertemplate": "LOCATION=HRV<extra></extra>",
         "legendgroup": "HRV",
         "marker": {
          "color": "#FFA15A",
          "symbol": "circle"
         },
         "mode": "lines",
         "name": "HRV",
         "showlegend": false,
         "xaxis": "x",
         "yaxis": "y",
         "type": "scatter"
        },
        {
         "hovertemplate": "LOCATION=CYP<br>Values1=%{x}<br>Values2=%{y}<extra></extra>",
         "legendgroup": "CYP",
         "marker": {
          "color": "#19d3f3",
          "symbol": "circle"
         },
         "mode": "markers",
         "name": "CYP",
         "orientation": "v",
         "showlegend": true,
         "x": [
          21.9024798406927
         ],
         "xaxis": "x",
         "y": [
          null
         ],
         "yaxis": "y",
         "type": "scatter"
        },
        {
         "hovertemplate": "LOCATION=CYP<extra></extra>",
         "legendgroup": "CYP",
         "marker": {
          "color": "#19d3f3",
          "symbol": "circle"
         },
         "mode": "lines",
         "name": "CYP",
         "showlegend": false,
         "xaxis": "x",
         "yaxis": "y",
         "type": "scatter"
        },
        {
         "hovertemplate": "LOCATION=IND<br>Values1=%{x}<br>Values2=%{y}<extra></extra>",
         "legendgroup": "IND",
         "marker": {
          "color": "#FF6692",
          "symbol": "circle"
         },
         "mode": "markers",
         "name": "IND",
         "orientation": "v",
         "showlegend": true,
         "x": [
          34.3604969954542
         ],
         "xaxis": "x",
         "y": [
          null
         ],
         "yaxis": "y",
         "type": "scatter"
        },
        {
         "hovertemplate": "LOCATION=IND<extra></extra>",
         "legendgroup": "IND",
         "marker": {
          "color": "#FF6692",
          "symbol": "circle"
         },
         "mode": "lines",
         "name": "IND",
         "showlegend": false,
         "xaxis": "x",
         "yaxis": "y",
         "type": "scatter"
        },
        {
         "hovertemplate": "LOCATION=IDN<br>Values1=%{x}<br>Values2=%{y}<extra></extra>",
         "legendgroup": "IDN",
         "marker": {
          "color": "#B6E880",
          "symbol": "circle"
         },
         "mode": "markers",
         "name": "IDN",
         "orientation": "v",
         "showlegend": true,
         "x": [
          30.4519609966485
         ],
         "xaxis": "x",
         "y": [
          null
         ],
         "yaxis": "y",
         "type": "scatter"
        },
        {
         "hovertemplate": "LOCATION=IDN<extra></extra>",
         "legendgroup": "IDN",
         "marker": {
          "color": "#B6E880",
          "symbol": "circle"
         },
         "mode": "lines",
         "name": "IDN",
         "showlegend": false,
         "xaxis": "x",
         "yaxis": "y",
         "type": "scatter"
        },
        {
         "hovertemplate": "LOCATION=LTU<br>Values1=%{x}<br>Values2=%{y}<extra></extra>",
         "legendgroup": "LTU",
         "marker": {
          "color": "#FF97FF",
          "symbol": "circle"
         },
         "mode": "markers",
         "name": "LTU",
         "orientation": "v",
         "showlegend": true,
         "x": [
          19.3374067258516
         ],
         "xaxis": "x",
         "y": [
          null
         ],
         "yaxis": "y",
         "type": "scatter"
        },
        {
         "hovertemplate": "LOCATION=LTU<extra></extra>",
         "legendgroup": "LTU",
         "marker": {
          "color": "#FF97FF",
          "symbol": "circle"
         },
         "mode": "lines",
         "name": "LTU",
         "showlegend": false,
         "xaxis": "x",
         "yaxis": "y",
         "type": "scatter"
        },
        {
         "hovertemplate": "LOCATION=MLT<br>Values1=%{x}<br>Values2=%{y}<extra></extra>",
         "legendgroup": "MLT",
         "marker": {
          "color": "#FECB52",
          "symbol": "circle"
         },
         "mode": "markers",
         "name": "MLT",
         "orientation": "v",
         "showlegend": true,
         "x": [
          19.4981019164029
         ],
         "xaxis": "x",
         "y": [
          null
         ],
         "yaxis": "y",
         "type": "scatter"
        },
        {
         "hovertemplate": "LOCATION=MLT<extra></extra>",
         "legendgroup": "MLT",
         "marker": {
          "color": "#FECB52",
          "symbol": "circle"
         },
         "mode": "lines",
         "name": "MLT",
         "showlegend": false,
         "xaxis": "x",
         "yaxis": "y",
         "type": "scatter"
        },
        {
         "hovertemplate": "LOCATION=ROU<br>Values1=%{x}<br>Values2=%{y}<extra></extra>",
         "legendgroup": "ROU",
         "marker": {
          "color": "#636efa",
          "symbol": "circle"
         },
         "mode": "markers",
         "name": "ROU",
         "orientation": "v",
         "showlegend": true,
         "x": [
          17.8574898018586
         ],
         "xaxis": "x",
         "y": [
          null
         ],
         "yaxis": "y",
         "type": "scatter"
        },
        {
         "hovertemplate": "LOCATION=ROU<extra></extra>",
         "legendgroup": "ROU",
         "marker": {
          "color": "#636efa",
          "symbol": "circle"
         },
         "mode": "lines",
         "name": "ROU",
         "showlegend": false,
         "xaxis": "x",
         "yaxis": "y",
         "type": "scatter"
        },
        {
         "hovertemplate": "LOCATION=SAU<br>Values1=%{x}<br>Values2=%{y}<extra></extra>",
         "legendgroup": "SAU",
         "marker": {
          "color": "#EF553B",
          "symbol": "circle"
         },
         "mode": "markers",
         "name": "SAU",
         "orientation": "v",
         "showlegend": true,
         "x": [
          37.3168141372544
         ],
         "xaxis": "x",
         "y": [
          null
         ],
         "yaxis": "y",
         "type": "scatter"
        },
        {
         "hovertemplate": "LOCATION=SAU<extra></extra>",
         "legendgroup": "SAU",
         "marker": {
          "color": "#EF553B",
          "symbol": "circle"
         },
         "mode": "lines",
         "name": "SAU",
         "showlegend": false,
         "xaxis": "x",
         "yaxis": "y",
         "type": "scatter"
        },
        {
         "hovertemplate": "LOCATION=SGP<br>Values1=%{x}<br>Values2=%{y}<extra></extra>",
         "legendgroup": "SGP",
         "marker": {
          "color": "#00cc96",
          "symbol": "circle"
         },
         "mode": "markers",
         "name": "SGP",
         "orientation": "v",
         "showlegend": true,
         "x": [
          21.7697334437395
         ],
         "xaxis": "x",
         "y": [
          null
         ],
         "yaxis": "y",
         "type": "scatter"
        },
        {
         "hovertemplate": "LOCATION=SGP<extra></extra>",
         "legendgroup": "SGP",
         "marker": {
          "color": "#00cc96",
          "symbol": "circle"
         },
         "mode": "lines",
         "name": "SGP",
         "showlegend": false,
         "xaxis": "x",
         "yaxis": "y",
         "type": "scatter"
        },
        {
         "hovertemplate": "LOCATION=ZAF<br>Values1=%{x}<br>Values2=%{y}<extra></extra>",
         "legendgroup": "ZAF",
         "marker": {
          "color": "#ab63fa",
          "symbol": "circle"
         },
         "mode": "markers",
         "name": "ZAF",
         "orientation": "v",
         "showlegend": true,
         "x": [
          33.2663415671171
         ],
         "xaxis": "x",
         "y": [
          null
         ],
         "yaxis": "y",
         "type": "scatter"
        },
        {
         "hovertemplate": "LOCATION=ZAF<extra></extra>",
         "legendgroup": "ZAF",
         "marker": {
          "color": "#ab63fa",
          "symbol": "circle"
         },
         "mode": "lines",
         "name": "ZAF",
         "showlegend": false,
         "xaxis": "x",
         "yaxis": "y",
         "type": "scatter"
        },
        {
         "hovertemplate": "LOCATION=WLD<br>Values1=%{x}<br>Values2=%{y}<extra></extra>",
         "legendgroup": "WLD",
         "marker": {
          "color": "#FFA15A",
          "symbol": "circle"
         },
         "mode": "markers",
         "name": "WLD",
         "orientation": "v",
         "showlegend": true,
         "x": [
          29.8000024228033
         ],
         "xaxis": "x",
         "y": [
          null
         ],
         "yaxis": "y",
         "type": "scatter"
        },
        {
         "hovertemplate": "LOCATION=WLD<extra></extra>",
         "legendgroup": "WLD",
         "marker": {
          "color": "#FFA15A",
          "symbol": "circle"
         },
         "mode": "lines",
         "name": "WLD",
         "showlegend": false,
         "xaxis": "x",
         "yaxis": "y",
         "type": "scatter"
        },
        {
         "hovertemplate": "LOCATION=G20<br>Values1=%{x}<br>Values2=%{y}<extra></extra>",
         "legendgroup": "G20",
         "marker": {
          "color": "#19d3f3",
          "symbol": "circle"
         },
         "mode": "markers",
         "name": "G20",
         "orientation": "v",
         "showlegend": true,
         "x": [
          26.180795446829
         ],
         "xaxis": "x",
         "y": [
          null
         ],
         "yaxis": "y",
         "type": "scatter"
        },
        {
         "hovertemplate": "LOCATION=G20<extra></extra>",
         "legendgroup": "G20",
         "marker": {
          "color": "#19d3f3",
          "symbol": "circle"
         },
         "mode": "lines",
         "name": "G20",
         "showlegend": false,
         "xaxis": "x",
         "yaxis": "y",
         "type": "scatter"
        }
       ],
       "layout": {
        "template": {
         "data": {
          "bar": [
           {
            "error_x": {
             "color": "#2a3f5f"
            },
            "error_y": {
             "color": "#2a3f5f"
            },
            "marker": {
             "line": {
              "color": "#E5ECF6",
              "width": 0.5
             },
             "pattern": {
              "fillmode": "overlay",
              "size": 10,
              "solidity": 0.2
             }
            },
            "type": "bar"
           }
          ],
          "barpolar": [
           {
            "marker": {
             "line": {
              "color": "#E5ECF6",
              "width": 0.5
             },
             "pattern": {
              "fillmode": "overlay",
              "size": 10,
              "solidity": 0.2
             }
            },
            "type": "barpolar"
           }
          ],
          "carpet": [
           {
            "aaxis": {
             "endlinecolor": "#2a3f5f",
             "gridcolor": "white",
             "linecolor": "white",
             "minorgridcolor": "white",
             "startlinecolor": "#2a3f5f"
            },
            "baxis": {
             "endlinecolor": "#2a3f5f",
             "gridcolor": "white",
             "linecolor": "white",
             "minorgridcolor": "white",
             "startlinecolor": "#2a3f5f"
            },
            "type": "carpet"
           }
          ],
          "choropleth": [
           {
            "colorbar": {
             "outlinewidth": 0,
             "ticks": ""
            },
            "type": "choropleth"
           }
          ],
          "contour": [
           {
            "colorbar": {
             "outlinewidth": 0,
             "ticks": ""
            },
            "colorscale": [
             [
              0.0,
              "#0d0887"
             ],
             [
              0.1111111111111111,
              "#46039f"
             ],
             [
              0.2222222222222222,
              "#7201a8"
             ],
             [
              0.3333333333333333,
              "#9c179e"
             ],
             [
              0.4444444444444444,
              "#bd3786"
             ],
             [
              0.5555555555555556,
              "#d8576b"
             ],
             [
              0.6666666666666666,
              "#ed7953"
             ],
             [
              0.7777777777777778,
              "#fb9f3a"
             ],
             [
              0.8888888888888888,
              "#fdca26"
             ],
             [
              1.0,
              "#f0f921"
             ]
            ],
            "type": "contour"
           }
          ],
          "contourcarpet": [
           {
            "colorbar": {
             "outlinewidth": 0,
             "ticks": ""
            },
            "type": "contourcarpet"
           }
          ],
          "heatmap": [
           {
            "colorbar": {
             "outlinewidth": 0,
             "ticks": ""
            },
            "colorscale": [
             [
              0.0,
              "#0d0887"
             ],
             [
              0.1111111111111111,
              "#46039f"
             ],
             [
              0.2222222222222222,
              "#7201a8"
             ],
             [
              0.3333333333333333,
              "#9c179e"
             ],
             [
              0.4444444444444444,
              "#bd3786"
             ],
             [
              0.5555555555555556,
              "#d8576b"
             ],
             [
              0.6666666666666666,
              "#ed7953"
             ],
             [
              0.7777777777777778,
              "#fb9f3a"
             ],
             [
              0.8888888888888888,
              "#fdca26"
             ],
             [
              1.0,
              "#f0f921"
             ]
            ],
            "type": "heatmap"
           }
          ],
          "heatmapgl": [
           {
            "colorbar": {
             "outlinewidth": 0,
             "ticks": ""
            },
            "colorscale": [
             [
              0.0,
              "#0d0887"
             ],
             [
              0.1111111111111111,
              "#46039f"
             ],
             [
              0.2222222222222222,
              "#7201a8"
             ],
             [
              0.3333333333333333,
              "#9c179e"
             ],
             [
              0.4444444444444444,
              "#bd3786"
             ],
             [
              0.5555555555555556,
              "#d8576b"
             ],
             [
              0.6666666666666666,
              "#ed7953"
             ],
             [
              0.7777777777777778,
              "#fb9f3a"
             ],
             [
              0.8888888888888888,
              "#fdca26"
             ],
             [
              1.0,
              "#f0f921"
             ]
            ],
            "type": "heatmapgl"
           }
          ],
          "histogram": [
           {
            "marker": {
             "pattern": {
              "fillmode": "overlay",
              "size": 10,
              "solidity": 0.2
             }
            },
            "type": "histogram"
           }
          ],
          "histogram2d": [
           {
            "colorbar": {
             "outlinewidth": 0,
             "ticks": ""
            },
            "colorscale": [
             [
              0.0,
              "#0d0887"
             ],
             [
              0.1111111111111111,
              "#46039f"
             ],
             [
              0.2222222222222222,
              "#7201a8"
             ],
             [
              0.3333333333333333,
              "#9c179e"
             ],
             [
              0.4444444444444444,
              "#bd3786"
             ],
             [
              0.5555555555555556,
              "#d8576b"
             ],
             [
              0.6666666666666666,
              "#ed7953"
             ],
             [
              0.7777777777777778,
              "#fb9f3a"
             ],
             [
              0.8888888888888888,
              "#fdca26"
             ],
             [
              1.0,
              "#f0f921"
             ]
            ],
            "type": "histogram2d"
           }
          ],
          "histogram2dcontour": [
           {
            "colorbar": {
             "outlinewidth": 0,
             "ticks": ""
            },
            "colorscale": [
             [
              0.0,
              "#0d0887"
             ],
             [
              0.1111111111111111,
              "#46039f"
             ],
             [
              0.2222222222222222,
              "#7201a8"
             ],
             [
              0.3333333333333333,
              "#9c179e"
             ],
             [
              0.4444444444444444,
              "#bd3786"
             ],
             [
              0.5555555555555556,
              "#d8576b"
             ],
             [
              0.6666666666666666,
              "#ed7953"
             ],
             [
              0.7777777777777778,
              "#fb9f3a"
             ],
             [
              0.8888888888888888,
              "#fdca26"
             ],
             [
              1.0,
              "#f0f921"
             ]
            ],
            "type": "histogram2dcontour"
           }
          ],
          "mesh3d": [
           {
            "colorbar": {
             "outlinewidth": 0,
             "ticks": ""
            },
            "type": "mesh3d"
           }
          ],
          "parcoords": [
           {
            "line": {
             "colorbar": {
              "outlinewidth": 0,
              "ticks": ""
             }
            },
            "type": "parcoords"
           }
          ],
          "pie": [
           {
            "automargin": true,
            "type": "pie"
           }
          ],
          "scatter": [
           {
            "marker": {
             "colorbar": {
              "outlinewidth": 0,
              "ticks": ""
             }
            },
            "type": "scatter"
           }
          ],
          "scatter3d": [
           {
            "line": {
             "colorbar": {
              "outlinewidth": 0,
              "ticks": ""
             }
            },
            "marker": {
             "colorbar": {
              "outlinewidth": 0,
              "ticks": ""
             }
            },
            "type": "scatter3d"
           }
          ],
          "scattercarpet": [
           {
            "marker": {
             "colorbar": {
              "outlinewidth": 0,
              "ticks": ""
             }
            },
            "type": "scattercarpet"
           }
          ],
          "scattergeo": [
           {
            "marker": {
             "colorbar": {
              "outlinewidth": 0,
              "ticks": ""
             }
            },
            "type": "scattergeo"
           }
          ],
          "scattergl": [
           {
            "marker": {
             "colorbar": {
              "outlinewidth": 0,
              "ticks": ""
             }
            },
            "type": "scattergl"
           }
          ],
          "scattermapbox": [
           {
            "marker": {
             "colorbar": {
              "outlinewidth": 0,
              "ticks": ""
             }
            },
            "type": "scattermapbox"
           }
          ],
          "scatterpolar": [
           {
            "marker": {
             "colorbar": {
              "outlinewidth": 0,
              "ticks": ""
             }
            },
            "type": "scatterpolar"
           }
          ],
          "scatterpolargl": [
           {
            "marker": {
             "colorbar": {
              "outlinewidth": 0,
              "ticks": ""
             }
            },
            "type": "scatterpolargl"
           }
          ],
          "scatterternary": [
           {
            "marker": {
             "colorbar": {
              "outlinewidth": 0,
              "ticks": ""
             }
            },
            "type": "scatterternary"
           }
          ],
          "surface": [
           {
            "colorbar": {
             "outlinewidth": 0,
             "ticks": ""
            },
            "colorscale": [
             [
              0.0,
              "#0d0887"
             ],
             [
              0.1111111111111111,
              "#46039f"
             ],
             [
              0.2222222222222222,
              "#7201a8"
             ],
             [
              0.3333333333333333,
              "#9c179e"
             ],
             [
              0.4444444444444444,
              "#bd3786"
             ],
             [
              0.5555555555555556,
              "#d8576b"
             ],
             [
              0.6666666666666666,
              "#ed7953"
             ],
             [
              0.7777777777777778,
              "#fb9f3a"
             ],
             [
              0.8888888888888888,
              "#fdca26"
             ],
             [
              1.0,
              "#f0f921"
             ]
            ],
            "type": "surface"
           }
          ],
          "table": [
           {
            "cells": {
             "fill": {
              "color": "#EBF0F8"
             },
             "line": {
              "color": "white"
             }
            },
            "header": {
             "fill": {
              "color": "#C8D4E3"
             },
             "line": {
              "color": "white"
             }
            },
            "type": "table"
           }
          ]
         },
         "layout": {
          "annotationdefaults": {
           "arrowcolor": "#2a3f5f",
           "arrowhead": 0,
           "arrowwidth": 1
          },
          "autotypenumbers": "strict",
          "coloraxis": {
           "colorbar": {
            "outlinewidth": 0,
            "ticks": ""
           }
          },
          "colorscale": {
           "diverging": [
            [
             0,
             "#8e0152"
            ],
            [
             0.1,
             "#c51b7d"
            ],
            [
             0.2,
             "#de77ae"
            ],
            [
             0.3,
             "#f1b6da"
            ],
            [
             0.4,
             "#fde0ef"
            ],
            [
             0.5,
             "#f7f7f7"
            ],
            [
             0.6,
             "#e6f5d0"
            ],
            [
             0.7,
             "#b8e186"
            ],
            [
             0.8,
             "#7fbc41"
            ],
            [
             0.9,
             "#4d9221"
            ],
            [
             1,
             "#276419"
            ]
           ],
           "sequential": [
            [
             0.0,
             "#0d0887"
            ],
            [
             0.1111111111111111,
             "#46039f"
            ],
            [
             0.2222222222222222,
             "#7201a8"
            ],
            [
             0.3333333333333333,
             "#9c179e"
            ],
            [
             0.4444444444444444,
             "#bd3786"
            ],
            [
             0.5555555555555556,
             "#d8576b"
            ],
            [
             0.6666666666666666,
             "#ed7953"
            ],
            [
             0.7777777777777778,
             "#fb9f3a"
            ],
            [
             0.8888888888888888,
             "#fdca26"
            ],
            [
             1.0,
             "#f0f921"
            ]
           ],
           "sequentialminus": [
            [
             0.0,
             "#0d0887"
            ],
            [
             0.1111111111111111,
             "#46039f"
            ],
            [
             0.2222222222222222,
             "#7201a8"
            ],
            [
             0.3333333333333333,
             "#9c179e"
            ],
            [
             0.4444444444444444,
             "#bd3786"
            ],
            [
             0.5555555555555556,
             "#d8576b"
            ],
            [
             0.6666666666666666,
             "#ed7953"
            ],
            [
             0.7777777777777778,
             "#fb9f3a"
            ],
            [
             0.8888888888888888,
             "#fdca26"
            ],
            [
             1.0,
             "#f0f921"
            ]
           ]
          },
          "colorway": [
           "#636efa",
           "#EF553B",
           "#00cc96",
           "#ab63fa",
           "#FFA15A",
           "#19d3f3",
           "#FF6692",
           "#B6E880",
           "#FF97FF",
           "#FECB52"
          ],
          "font": {
           "color": "#2a3f5f"
          },
          "geo": {
           "bgcolor": "white",
           "lakecolor": "white",
           "landcolor": "#E5ECF6",
           "showlakes": true,
           "showland": true,
           "subunitcolor": "white"
          },
          "hoverlabel": {
           "align": "left"
          },
          "hovermode": "closest",
          "mapbox": {
           "style": "light"
          },
          "paper_bgcolor": "white",
          "plot_bgcolor": "#E5ECF6",
          "polar": {
           "angularaxis": {
            "gridcolor": "white",
            "linecolor": "white",
            "ticks": ""
           },
           "bgcolor": "#E5ECF6",
           "radialaxis": {
            "gridcolor": "white",
            "linecolor": "white",
            "ticks": ""
           }
          },
          "scene": {
           "xaxis": {
            "backgroundcolor": "#E5ECF6",
            "gridcolor": "white",
            "gridwidth": 2,
            "linecolor": "white",
            "showbackground": true,
            "ticks": "",
            "zerolinecolor": "white"
           },
           "yaxis": {
            "backgroundcolor": "#E5ECF6",
            "gridcolor": "white",
            "gridwidth": 2,
            "linecolor": "white",
            "showbackground": true,
            "ticks": "",
            "zerolinecolor": "white"
           },
           "zaxis": {
            "backgroundcolor": "#E5ECF6",
            "gridcolor": "white",
            "gridwidth": 2,
            "linecolor": "white",
            "showbackground": true,
            "ticks": "",
            "zerolinecolor": "white"
           }
          },
          "shapedefaults": {
           "line": {
            "color": "#2a3f5f"
           }
          },
          "ternary": {
           "aaxis": {
            "gridcolor": "white",
            "linecolor": "white",
            "ticks": ""
           },
           "baxis": {
            "gridcolor": "white",
            "linecolor": "white",
            "ticks": ""
           },
           "bgcolor": "#E5ECF6",
           "caxis": {
            "gridcolor": "white",
            "linecolor": "white",
            "ticks": ""
           }
          },
          "title": {
           "x": 0.05
          },
          "xaxis": {
           "automargin": true,
           "gridcolor": "white",
           "linecolor": "white",
           "ticks": "",
           "title": {
            "standoff": 15
           },
           "zerolinecolor": "white",
           "zerolinewidth": 2
          },
          "yaxis": {
           "automargin": true,
           "gridcolor": "white",
           "linecolor": "white",
           "ticks": "",
           "title": {
            "standoff": 15
           },
           "zerolinecolor": "white",
           "zerolinewidth": 2
          }
         }
        },
        "xaxis": {
         "anchor": "y",
         "domain": [
          0.0,
          1.0
         ],
         "title": {
          "text": "Young population aged less than 15 (% of population)"
         }
        },
        "yaxis": {
         "anchor": "x",
         "domain": [
          0.0,
          1.0
         ],
         "title": {
          "text": "ICT employment 2011"
         }
        },
        "legend": {
         "title": {
          "text": "Countries"
         },
         "tracegroupgap": 0
        },
        "title": {
         "text": "Young population (2001) & ICT employment (2011),        corr = 0.255"
        }
       },
       "config": {
        "plotlyServerURL": "https://plot.ly"
       }
      },
      "text/html": "<div>                            <div id=\"59ac3fb3-6a5b-4c9b-9dbc-cee34a20ac95\" class=\"plotly-graph-div\" style=\"height:525px; width:100%;\"></div>            <script type=\"text/javascript\">                require([\"plotly\"], function(Plotly) {                    window.PLOTLYENV=window.PLOTLYENV || {};                                    if (document.getElementById(\"59ac3fb3-6a5b-4c9b-9dbc-cee34a20ac95\")) {                    Plotly.newPlot(                        \"59ac3fb3-6a5b-4c9b-9dbc-cee34a20ac95\",                        [{\"hovertemplate\":\"LOCATION=AUS<br>Values1=%{x}<br>Values2=%{y}<extra></extra>\",\"legendgroup\":\"AUS\",\"marker\":{\"color\":\"#636efa\",\"symbol\":\"circle\"},\"mode\":\"markers\",\"name\":\"AUS\",\"orientation\":\"v\",\"showlegend\":true,\"x\":[20.5462746218476],\"xaxis\":\"x\",\"y\":[null],\"yaxis\":\"y\",\"type\":\"scatter\"},{\"hovertemplate\":\"LOCATION=AUS<extra></extra>\",\"legendgroup\":\"AUS\",\"marker\":{\"color\":\"#636efa\",\"symbol\":\"circle\"},\"mode\":\"lines\",\"name\":\"AUS\",\"showlegend\":false,\"xaxis\":\"x\",\"yaxis\":\"y\",\"type\":\"scatter\"},{\"hovertemplate\":\"LOCATION=AUT<br>Values1=%{x}<br>Values2=%{y}<extra></extra>\",\"legendgroup\":\"AUT\",\"marker\":{\"color\":\"#EF553B\",\"symbol\":\"circle\"},\"mode\":\"markers\",\"name\":\"AUT\",\"orientation\":\"v\",\"showlegend\":true,\"x\":[16.8170694601652],\"xaxis\":\"x\",\"y\":[2.936],\"yaxis\":\"y\",\"type\":\"scatter\"},{\"hovertemplate\":\"LOCATION=AUT<extra></extra>\",\"legendgroup\":\"AUT\",\"marker\":{\"color\":\"#EF553B\",\"symbol\":\"circle\"},\"mode\":\"lines\",\"name\":\"AUT\",\"showlegend\":false,\"xaxis\":\"x\",\"yaxis\":\"y\",\"type\":\"scatter\"},{\"hovertemplate\":\"LOCATION=BEL<br>Values1=%{x}<br>Values2=%{y}<extra></extra>\",\"legendgroup\":\"BEL\",\"marker\":{\"color\":\"#00cc96\",\"symbol\":\"circle\"},\"mode\":\"markers\",\"name\":\"BEL\",\"orientation\":\"v\",\"showlegend\":true,\"x\":[17.548802219904],\"xaxis\":\"x\",\"y\":[2.671],\"yaxis\":\"y\",\"type\":\"scatter\"},{\"hovertemplate\":\"LOCATION=BEL<extra></extra>\",\"legendgroup\":\"BEL\",\"marker\":{\"color\":\"#00cc96\",\"symbol\":\"circle\"},\"mode\":\"lines\",\"name\":\"BEL\",\"showlegend\":false,\"xaxis\":\"x\",\"yaxis\":\"y\",\"type\":\"scatter\"},{\"hovertemplate\":\"LOCATION=CAN<br>Values1=%{x}<br>Values2=%{y}<extra></extra>\",\"legendgroup\":\"CAN\",\"marker\":{\"color\":\"#ab63fa\",\"symbol\":\"circle\"},\"mode\":\"markers\",\"name\":\"CAN\",\"orientation\":\"v\",\"showlegend\":true,\"x\":[18.8619338019249],\"xaxis\":\"x\",\"y\":[2.605],\"yaxis\":\"y\",\"type\":\"scatter\"},{\"hovertemplate\":\"LOCATION=CAN<extra></extra>\",\"legendgroup\":\"CAN\",\"marker\":{\"color\":\"#ab63fa\",\"symbol\":\"circle\"},\"mode\":\"lines\",\"name\":\"CAN\",\"showlegend\":false,\"xaxis\":\"x\",\"yaxis\":\"y\",\"type\":\"scatter\"},{\"hovertemplate\":\"LOCATION=CZE<br>Values1=%{x}<br>Values2=%{y}<extra></extra>\",\"legendgroup\":\"CZE\",\"marker\":{\"color\":\"#FFA15A\",\"symbol\":\"circle\"},\"mode\":\"markers\",\"name\":\"CZE\",\"orientation\":\"v\",\"showlegend\":true,\"x\":[16.0684873679993],\"xaxis\":\"x\",\"y\":[3.247],\"yaxis\":\"y\",\"type\":\"scatter\"},{\"hovertemplate\":\"LOCATION=CZE<extra></extra>\",\"legendgroup\":\"CZE\",\"marker\":{\"color\":\"#FFA15A\",\"symbol\":\"circle\"},\"mode\":\"lines\",\"name\":\"CZE\",\"showlegend\":false,\"xaxis\":\"x\",\"yaxis\":\"y\",\"type\":\"scatter\"},{\"hovertemplate\":\"LOCATION=DNK<br>Values1=%{x}<br>Values2=%{y}<extra></extra>\",\"legendgroup\":\"DNK\",\"marker\":{\"color\":\"#19d3f3\",\"symbol\":\"circle\"},\"mode\":\"markers\",\"name\":\"DNK\",\"orientation\":\"v\",\"showlegend\":true,\"x\":[18.6576974918405],\"xaxis\":\"x\",\"y\":[4.437],\"yaxis\":\"y\",\"type\":\"scatter\"},{\"hovertemplate\":\"LOCATION=DNK<extra></extra>\",\"legendgroup\":\"DNK\",\"marker\":{\"color\":\"#19d3f3\",\"symbol\":\"circle\"},\"mode\":\"lines\",\"name\":\"DNK\",\"showlegend\":false,\"xaxis\":\"x\",\"yaxis\":\"y\",\"type\":\"scatter\"},{\"hovertemplate\":\"LOCATION=FIN<br>Values1=%{x}<br>Values2=%{y}<extra></extra>\",\"legendgroup\":\"FIN\",\"marker\":{\"color\":\"#FF6692\",\"symbol\":\"circle\"},\"mode\":\"markers\",\"name\":\"FIN\",\"orientation\":\"v\",\"showlegend\":true,\"x\":[18.0023149553634],\"xaxis\":\"x\",\"y\":[6.427],\"yaxis\":\"y\",\"type\":\"scatter\"},{\"hovertemplate\":\"LOCATION=FIN<extra></extra>\",\"legendgroup\":\"FIN\",\"marker\":{\"color\":\"#FF6692\",\"symbol\":\"circle\"},\"mode\":\"lines\",\"name\":\"FIN\",\"showlegend\":false,\"xaxis\":\"x\",\"yaxis\":\"y\",\"type\":\"scatter\"},{\"hovertemplate\":\"LOCATION=FRA<br>Values1=%{x}<br>Values2=%{y}<extra></extra>\",\"legendgroup\":\"FRA\",\"marker\":{\"color\":\"#B6E880\",\"symbol\":\"circle\"},\"mode\":\"markers\",\"name\":\"FRA\",\"orientation\":\"v\",\"showlegend\":true,\"x\":[19.0141718627482],\"xaxis\":\"x\",\"y\":[3.33],\"yaxis\":\"y\",\"type\":\"scatter\"},{\"hovertemplate\":\"LOCATION=FRA<extra></extra>\",\"legendgroup\":\"FRA\",\"marker\":{\"color\":\"#B6E880\",\"symbol\":\"circle\"},\"mode\":\"lines\",\"name\":\"FRA\",\"showlegend\":false,\"xaxis\":\"x\",\"yaxis\":\"y\",\"type\":\"scatter\"},{\"hovertemplate\":\"LOCATION=DEU<br>Values1=%{x}<br>Values2=%{y}<extra></extra>\",\"legendgroup\":\"DEU\",\"marker\":{\"color\":\"#FF97FF\",\"symbol\":\"circle\"},\"mode\":\"markers\",\"name\":\"DEU\",\"orientation\":\"v\",\"showlegend\":true,\"x\":[15.4196155561816],\"xaxis\":\"x\",\"y\":[3.941],\"yaxis\":\"y\",\"type\":\"scatter\"},{\"hovertemplate\":\"LOCATION=DEU<extra></extra>\",\"legendgroup\":\"DEU\",\"marker\":{\"color\":\"#FF97FF\",\"symbol\":\"circle\"},\"mode\":\"lines\",\"name\":\"DEU\",\"showlegend\":false,\"xaxis\":\"x\",\"yaxis\":\"y\",\"type\":\"scatter\"},{\"hovertemplate\":\"LOCATION=GRC<br>Values1=%{x}<br>Values2=%{y}<extra></extra>\",\"legendgroup\":\"GRC\",\"marker\":{\"color\":\"#FECB52\",\"symbol\":\"circle\"},\"mode\":\"markers\",\"name\":\"GRC\",\"orientation\":\"v\",\"showlegend\":true,\"x\":[15.0857994781686],\"xaxis\":\"x\",\"y\":[1.846],\"yaxis\":\"y\",\"type\":\"scatter\"},{\"hovertemplate\":\"LOCATION=GRC<extra></extra>\",\"legendgroup\":\"GRC\",\"marker\":{\"color\":\"#FECB52\",\"symbol\":\"circle\"},\"mode\":\"lines\",\"name\":\"GRC\",\"showlegend\":false,\"xaxis\":\"x\",\"yaxis\":\"y\",\"type\":\"scatter\"},{\"hovertemplate\":\"LOCATION=HUN<br>Values1=%{x}<br>Values2=%{y}<extra></extra>\",\"legendgroup\":\"HUN\",\"marker\":{\"color\":\"#636efa\",\"symbol\":\"circle\"},\"mode\":\"markers\",\"name\":\"HUN\",\"orientation\":\"v\",\"showlegend\":true,\"x\":[16.4519869197566],\"xaxis\":\"x\",\"y\":[4.936],\"yaxis\":\"y\",\"type\":\"scatter\"},{\"hovertemplate\":\"LOCATION=HUN<extra></extra>\",\"legendgroup\":\"HUN\",\"marker\":{\"color\":\"#636efa\",\"symbol\":\"circle\"},\"mode\":\"lines\",\"name\":\"HUN\",\"showlegend\":false,\"xaxis\":\"x\",\"yaxis\":\"y\",\"type\":\"scatter\"},{\"hovertemplate\":\"LOCATION=ISL<br>Values1=%{x}<br>Values2=%{y}<extra></extra>\",\"legendgroup\":\"ISL\",\"marker\":{\"color\":\"#EF553B\",\"symbol\":\"circle\"},\"mode\":\"markers\",\"name\":\"ISL\",\"orientation\":\"v\",\"showlegend\":true,\"x\":[23.1785802014247],\"xaxis\":\"x\",\"y\":[null],\"yaxis\":\"y\",\"type\":\"scatter\"},{\"hovertemplate\":\"LOCATION=ISL<extra></extra>\",\"legendgroup\":\"ISL\",\"marker\":{\"color\":\"#EF553B\",\"symbol\":\"circle\"},\"mode\":\"lines\",\"name\":\"ISL\",\"showlegend\":false,\"xaxis\":\"x\",\"yaxis\":\"y\",\"type\":\"scatter\"},{\"hovertemplate\":\"LOCATION=IRL<br>Values1=%{x}<br>Values2=%{y}<extra></extra>\",\"legendgroup\":\"IRL\",\"marker\":{\"color\":\"#00cc96\",\"symbol\":\"circle\"},\"mode\":\"markers\",\"name\":\"IRL\",\"orientation\":\"v\",\"showlegend\":true,\"x\":[21.5103303755097],\"xaxis\":\"x\",\"y\":[5.247],\"yaxis\":\"y\",\"type\":\"scatter\"},{\"hovertemplate\":\"LOCATION=IRL<extra></extra>\",\"legendgroup\":\"IRL\",\"marker\":{\"color\":\"#00cc96\",\"symbol\":\"circle\"},\"mode\":\"lines\",\"name\":\"IRL\",\"showlegend\":false,\"xaxis\":\"x\",\"yaxis\":\"y\",\"type\":\"scatter\"},{\"hovertemplate\":\"LOCATION=ITA<br>Values1=%{x}<br>Values2=%{y}<extra></extra>\",\"legendgroup\":\"ITA\",\"marker\":{\"color\":\"#ab63fa\",\"symbol\":\"circle\"},\"mode\":\"markers\",\"name\":\"ITA\",\"orientation\":\"v\",\"showlegend\":true,\"x\":[14.2327630725786],\"xaxis\":\"x\",\"y\":[3.15],\"yaxis\":\"y\",\"type\":\"scatter\"},{\"hovertemplate\":\"LOCATION=ITA<extra></extra>\",\"legendgroup\":\"ITA\",\"marker\":{\"color\":\"#ab63fa\",\"symbol\":\"circle\"},\"mode\":\"lines\",\"name\":\"ITA\",\"showlegend\":false,\"xaxis\":\"x\",\"yaxis\":\"y\",\"type\":\"scatter\"},{\"hovertemplate\":\"LOCATION=JPN<br>Values1=%{x}<br>Values2=%{y}<extra></extra>\",\"legendgroup\":\"JPN\",\"marker\":{\"color\":\"#FFA15A\",\"symbol\":\"circle\"},\"mode\":\"markers\",\"name\":\"JPN\",\"orientation\":\"v\",\"showlegend\":true,\"x\":[14.3631521474417],\"xaxis\":\"x\",\"y\":[4.737],\"yaxis\":\"y\",\"type\":\"scatter\"},{\"hovertemplate\":\"LOCATION=JPN<extra></extra>\",\"legendgroup\":\"JPN\",\"marker\":{\"color\":\"#FFA15A\",\"symbol\":\"circle\"},\"mode\":\"lines\",\"name\":\"JPN\",\"showlegend\":false,\"xaxis\":\"x\",\"yaxis\":\"y\",\"type\":\"scatter\"},{\"hovertemplate\":\"LOCATION=KOR<br>Values1=%{x}<br>Values2=%{y}<extra></extra>\",\"legendgroup\":\"KOR\",\"marker\":{\"color\":\"#19d3f3\",\"symbol\":\"circle\"},\"mode\":\"markers\",\"name\":\"KOR\",\"orientation\":\"v\",\"showlegend\":true,\"x\":[20.7988555834428],\"xaxis\":\"x\",\"y\":[null],\"yaxis\":\"y\",\"type\":\"scatter\"},{\"hovertemplate\":\"LOCATION=KOR<extra></extra>\",\"legendgroup\":\"KOR\",\"marker\":{\"color\":\"#19d3f3\",\"symbol\":\"circle\"},\"mode\":\"lines\",\"name\":\"KOR\",\"showlegend\":false,\"xaxis\":\"x\",\"yaxis\":\"y\",\"type\":\"scatter\"},{\"hovertemplate\":\"LOCATION=LUX<br>Values1=%{x}<br>Values2=%{y}<extra></extra>\",\"legendgroup\":\"LUX\",\"marker\":{\"color\":\"#FF6692\",\"symbol\":\"circle\"},\"mode\":\"markers\",\"name\":\"LUX\",\"orientation\":\"v\",\"showlegend\":true,\"x\":[18.9197820267167],\"xaxis\":\"x\",\"y\":[4.426],\"yaxis\":\"y\",\"type\":\"scatter\"},{\"hovertemplate\":\"LOCATION=LUX<extra></extra>\",\"legendgroup\":\"LUX\",\"marker\":{\"color\":\"#FF6692\",\"symbol\":\"circle\"},\"mode\":\"lines\",\"name\":\"LUX\",\"showlegend\":false,\"xaxis\":\"x\",\"yaxis\":\"y\",\"type\":\"scatter\"},{\"hovertemplate\":\"LOCATION=MEX<br>Values1=%{x}<br>Values2=%{y}<extra></extra>\",\"legendgroup\":\"MEX\",\"marker\":{\"color\":\"#B6E880\",\"symbol\":\"circle\"},\"mode\":\"markers\",\"name\":\"MEX\",\"orientation\":\"v\",\"showlegend\":true,\"x\":[33.7722961099192],\"xaxis\":\"x\",\"y\":[null],\"yaxis\":\"y\",\"type\":\"scatter\"},{\"hovertemplate\":\"LOCATION=MEX<extra></extra>\",\"legendgroup\":\"MEX\",\"marker\":{\"color\":\"#B6E880\",\"symbol\":\"circle\"},\"mode\":\"lines\",\"name\":\"MEX\",\"showlegend\":false,\"xaxis\":\"x\",\"yaxis\":\"y\",\"type\":\"scatter\"},{\"hovertemplate\":\"LOCATION=NLD<br>Values1=%{x}<br>Values2=%{y}<extra></extra>\",\"legendgroup\":\"NLD\",\"marker\":{\"color\":\"#FF97FF\",\"symbol\":\"circle\"},\"mode\":\"markers\",\"name\":\"NLD\",\"orientation\":\"v\",\"showlegend\":true,\"x\":[18.6205852582253],\"xaxis\":\"x\",\"y\":[3.541],\"yaxis\":\"y\",\"type\":\"scatter\"},{\"hovertemplate\":\"LOCATION=NLD<extra></extra>\",\"legendgroup\":\"NLD\",\"marker\":{\"color\":\"#FF97FF\",\"symbol\":\"circle\"},\"mode\":\"lines\",\"name\":\"NLD\",\"showlegend\":false,\"xaxis\":\"x\",\"yaxis\":\"y\",\"type\":\"scatter\"},{\"hovertemplate\":\"LOCATION=NZL<br>Values1=%{x}<br>Values2=%{y}<extra></extra>\",\"legendgroup\":\"NZL\",\"marker\":{\"color\":\"#FECB52\",\"symbol\":\"circle\"},\"mode\":\"markers\",\"name\":\"NZL\",\"orientation\":\"v\",\"showlegend\":true,\"x\":[22.6055920628785],\"xaxis\":\"x\",\"y\":[null],\"yaxis\":\"y\",\"type\":\"scatter\"},{\"hovertemplate\":\"LOCATION=NZL<extra></extra>\",\"legendgroup\":\"NZL\",\"marker\":{\"color\":\"#FECB52\",\"symbol\":\"circle\"},\"mode\":\"lines\",\"name\":\"NZL\",\"showlegend\":false,\"xaxis\":\"x\",\"yaxis\":\"y\",\"type\":\"scatter\"},{\"hovertemplate\":\"LOCATION=NOR<br>Values1=%{x}<br>Values2=%{y}<extra></extra>\",\"legendgroup\":\"NOR\",\"marker\":{\"color\":\"#636efa\",\"symbol\":\"circle\"},\"mode\":\"markers\",\"name\":\"NOR\",\"orientation\":\"v\",\"showlegend\":true,\"x\":[20.0358150334966],\"xaxis\":\"x\",\"y\":[3.309],\"yaxis\":\"y\",\"type\":\"scatter\"},{\"hovertemplate\":\"LOCATION=NOR<extra></extra>\",\"legendgroup\":\"NOR\",\"marker\":{\"color\":\"#636efa\",\"symbol\":\"circle\"},\"mode\":\"lines\",\"name\":\"NOR\",\"showlegend\":false,\"xaxis\":\"x\",\"yaxis\":\"y\",\"type\":\"scatter\"},{\"hovertemplate\":\"LOCATION=POL<br>Values1=%{x}<br>Values2=%{y}<extra></extra>\",\"legendgroup\":\"POL\",\"marker\":{\"color\":\"#EF553B\",\"symbol\":\"circle\"},\"mode\":\"markers\",\"name\":\"POL\",\"orientation\":\"v\",\"showlegend\":true,\"x\":[18.7377765093334],\"xaxis\":\"x\",\"y\":[null],\"yaxis\":\"y\",\"type\":\"scatter\"},{\"hovertemplate\":\"LOCATION=POL<extra></extra>\",\"legendgroup\":\"POL\",\"marker\":{\"color\":\"#EF553B\",\"symbol\":\"circle\"},\"mode\":\"lines\",\"name\":\"POL\",\"showlegend\":false,\"xaxis\":\"x\",\"yaxis\":\"y\",\"type\":\"scatter\"},{\"hovertemplate\":\"LOCATION=PRT<br>Values1=%{x}<br>Values2=%{y}<extra></extra>\",\"legendgroup\":\"PRT\",\"marker\":{\"color\":\"#00cc96\",\"symbol\":\"circle\"},\"mode\":\"markers\",\"name\":\"PRT\",\"orientation\":\"v\",\"showlegend\":true,\"x\":[16.2041506181557],\"xaxis\":\"x\",\"y\":[1.879],\"yaxis\":\"y\",\"type\":\"scatter\"},{\"hovertemplate\":\"LOCATION=PRT<extra></extra>\",\"legendgroup\":\"PRT\",\"marker\":{\"color\":\"#00cc96\",\"symbol\":\"circle\"},\"mode\":\"lines\",\"name\":\"PRT\",\"showlegend\":false,\"xaxis\":\"x\",\"yaxis\":\"y\",\"type\":\"scatter\"},{\"hovertemplate\":\"LOCATION=SVK<br>Values1=%{x}<br>Values2=%{y}<extra></extra>\",\"legendgroup\":\"SVK\",\"marker\":{\"color\":\"#ab63fa\",\"symbol\":\"circle\"},\"mode\":\"markers\",\"name\":\"SVK\",\"orientation\":\"v\",\"showlegend\":true,\"x\":[19.0530281907439],\"xaxis\":\"x\",\"y\":[3.335],\"yaxis\":\"y\",\"type\":\"scatter\"},{\"hovertemplate\":\"LOCATION=SVK<extra></extra>\",\"legendgroup\":\"SVK\",\"marker\":{\"color\":\"#ab63fa\",\"symbol\":\"circle\"},\"mode\":\"lines\",\"name\":\"SVK\",\"showlegend\":false,\"xaxis\":\"x\",\"yaxis\":\"y\",\"type\":\"scatter\"},{\"hovertemplate\":\"LOCATION=ESP<br>Values1=%{x}<br>Values2=%{y}<extra></extra>\",\"legendgroup\":\"ESP\",\"marker\":{\"color\":\"#FFA15A\",\"symbol\":\"circle\"},\"mode\":\"markers\",\"name\":\"ESP\",\"orientation\":\"v\",\"showlegend\":true,\"x\":[14.5546334401943],\"xaxis\":\"x\",\"y\":[2.656],\"yaxis\":\"y\",\"type\":\"scatter\"},{\"hovertemplate\":\"LOCATION=ESP<extra></extra>\",\"legendgroup\":\"ESP\",\"marker\":{\"color\":\"#FFA15A\",\"symbol\":\"circle\"},\"mode\":\"lines\",\"name\":\"ESP\",\"showlegend\":false,\"xaxis\":\"x\",\"yaxis\":\"y\",\"type\":\"scatter\"},{\"hovertemplate\":\"LOCATION=SWE<br>Values1=%{x}<br>Values2=%{y}<extra></extra>\",\"legendgroup\":\"SWE\",\"marker\":{\"color\":\"#19d3f3\",\"symbol\":\"circle\"},\"mode\":\"markers\",\"name\":\"SWE\",\"orientation\":\"v\",\"showlegend\":true,\"x\":[18.2727491110294],\"xaxis\":\"x\",\"y\":[4.492],\"yaxis\":\"y\",\"type\":\"scatter\"},{\"hovertemplate\":\"LOCATION=SWE<extra></extra>\",\"legendgroup\":\"SWE\",\"marker\":{\"color\":\"#19d3f3\",\"symbol\":\"circle\"},\"mode\":\"lines\",\"name\":\"SWE\",\"showlegend\":false,\"xaxis\":\"x\",\"yaxis\":\"y\",\"type\":\"scatter\"},{\"hovertemplate\":\"LOCATION=CHE<br>Values1=%{x}<br>Values2=%{y}<extra></extra>\",\"legendgroup\":\"CHE\",\"marker\":{\"color\":\"#FF6692\",\"symbol\":\"circle\"},\"mode\":\"markers\",\"name\":\"CHE\",\"orientation\":\"v\",\"showlegend\":true,\"x\":[16.9563837835168],\"xaxis\":\"x\",\"y\":[5.363],\"yaxis\":\"y\",\"type\":\"scatter\"},{\"hovertemplate\":\"LOCATION=CHE<extra></extra>\",\"legendgroup\":\"CHE\",\"marker\":{\"color\":\"#FF6692\",\"symbol\":\"circle\"},\"mode\":\"lines\",\"name\":\"CHE\",\"showlegend\":false,\"xaxis\":\"x\",\"yaxis\":\"y\",\"type\":\"scatter\"},{\"hovertemplate\":\"LOCATION=TUR<br>Values1=%{x}<br>Values2=%{y}<extra></extra>\",\"legendgroup\":\"TUR\",\"marker\":{\"color\":\"#B6E880\",\"symbol\":\"circle\"},\"mode\":\"markers\",\"name\":\"TUR\",\"orientation\":\"v\",\"showlegend\":true,\"x\":[29.0651458424531],\"xaxis\":\"x\",\"y\":[null],\"yaxis\":\"y\",\"type\":\"scatter\"},{\"hovertemplate\":\"LOCATION=TUR<extra></extra>\",\"legendgroup\":\"TUR\",\"marker\":{\"color\":\"#B6E880\",\"symbol\":\"circle\"},\"mode\":\"lines\",\"name\":\"TUR\",\"showlegend\":false,\"xaxis\":\"x\",\"yaxis\":\"y\",\"type\":\"scatter\"},{\"hovertemplate\":\"LOCATION=GBR<br>Values1=%{x}<br>Values2=%{y}<extra></extra>\",\"legendgroup\":\"GBR\",\"marker\":{\"color\":\"#FF97FF\",\"symbol\":\"circle\"},\"mode\":\"markers\",\"name\":\"GBR\",\"orientation\":\"v\",\"showlegend\":true,\"x\":[18.7888247826841],\"xaxis\":\"x\",\"y\":[4.267],\"yaxis\":\"y\",\"type\":\"scatter\"},{\"hovertemplate\":\"LOCATION=GBR<extra></extra>\",\"legendgroup\":\"GBR\",\"marker\":{\"color\":\"#FF97FF\",\"symbol\":\"circle\"},\"mode\":\"lines\",\"name\":\"GBR\",\"showlegend\":false,\"xaxis\":\"x\",\"yaxis\":\"y\",\"type\":\"scatter\"},{\"hovertemplate\":\"LOCATION=USA<br>Values1=%{x}<br>Values2=%{y}<extra></extra>\",\"legendgroup\":\"USA\",\"marker\":{\"color\":\"#FECB52\",\"symbol\":\"circle\"},\"mode\":\"markers\",\"name\":\"USA\",\"orientation\":\"v\",\"showlegend\":true,\"x\":[21.2129272116677],\"xaxis\":\"x\",\"y\":[3.797],\"yaxis\":\"y\",\"type\":\"scatter\"},{\"hovertemplate\":\"LOCATION=USA<extra></extra>\",\"legendgroup\":\"USA\",\"marker\":{\"color\":\"#FECB52\",\"symbol\":\"circle\"},\"mode\":\"lines\",\"name\":\"USA\",\"showlegend\":false,\"xaxis\":\"x\",\"yaxis\":\"y\",\"type\":\"scatter\"},{\"hovertemplate\":\"LOCATION=BRA<br>Values1=%{x}<br>Values2=%{y}<extra></extra>\",\"legendgroup\":\"BRA\",\"marker\":{\"color\":\"#636efa\",\"symbol\":\"circle\"},\"mode\":\"markers\",\"name\":\"BRA\",\"orientation\":\"v\",\"showlegend\":true,\"x\":[29.5978910138155],\"xaxis\":\"x\",\"y\":[null],\"yaxis\":\"y\",\"type\":\"scatter\"},{\"hovertemplate\":\"LOCATION=BRA<extra></extra>\",\"legendgroup\":\"BRA\",\"marker\":{\"color\":\"#636efa\",\"symbol\":\"circle\"},\"mode\":\"lines\",\"name\":\"BRA\",\"showlegend\":false,\"xaxis\":\"x\",\"yaxis\":\"y\",\"type\":\"scatter\"},{\"hovertemplate\":\"LOCATION=CHL<br>Values1=%{x}<br>Values2=%{y}<extra></extra>\",\"legendgroup\":\"CHL\",\"marker\":{\"color\":\"#EF553B\",\"symbol\":\"circle\"},\"mode\":\"markers\",\"name\":\"CHL\",\"orientation\":\"v\",\"showlegend\":true,\"x\":[26.936384028169],\"xaxis\":\"x\",\"y\":[null],\"yaxis\":\"y\",\"type\":\"scatter\"},{\"hovertemplate\":\"LOCATION=CHL<extra></extra>\",\"legendgroup\":\"CHL\",\"marker\":{\"color\":\"#EF553B\",\"symbol\":\"circle\"},\"mode\":\"lines\",\"name\":\"CHL\",\"showlegend\":false,\"xaxis\":\"x\",\"yaxis\":\"y\",\"type\":\"scatter\"},{\"hovertemplate\":\"LOCATION=COL<br>Values1=%{x}<br>Values2=%{y}<extra></extra>\",\"legendgroup\":\"COL\",\"marker\":{\"color\":\"#00cc96\",\"symbol\":\"circle\"},\"mode\":\"markers\",\"name\":\"COL\",\"orientation\":\"v\",\"showlegend\":true,\"x\":[32.8267057249456],\"xaxis\":\"x\",\"y\":[null],\"yaxis\":\"y\",\"type\":\"scatter\"},{\"hovertemplate\":\"LOCATION=COL<extra></extra>\",\"legendgroup\":\"COL\",\"marker\":{\"color\":\"#00cc96\",\"symbol\":\"circle\"},\"mode\":\"lines\",\"name\":\"COL\",\"showlegend\":false,\"xaxis\":\"x\",\"yaxis\":\"y\",\"type\":\"scatter\"},{\"hovertemplate\":\"LOCATION=EST<br>Values1=%{x}<br>Values2=%{y}<extra></extra>\",\"legendgroup\":\"EST\",\"marker\":{\"color\":\"#ab63fa\",\"symbol\":\"circle\"},\"mode\":\"markers\",\"name\":\"EST\",\"orientation\":\"v\",\"showlegend\":true,\"x\":[17.1523973157844],\"xaxis\":\"x\",\"y\":[4.389],\"yaxis\":\"y\",\"type\":\"scatter\"},{\"hovertemplate\":\"LOCATION=EST<extra></extra>\",\"legendgroup\":\"EST\",\"marker\":{\"color\":\"#ab63fa\",\"symbol\":\"circle\"},\"mode\":\"lines\",\"name\":\"EST\",\"showlegend\":false,\"xaxis\":\"x\",\"yaxis\":\"y\",\"type\":\"scatter\"},{\"hovertemplate\":\"LOCATION=ISR<br>Values1=%{x}<br>Values2=%{y}<extra></extra>\",\"legendgroup\":\"ISR\",\"marker\":{\"color\":\"#FFA15A\",\"symbol\":\"circle\"},\"mode\":\"markers\",\"name\":\"ISR\",\"orientation\":\"v\",\"showlegend\":true,\"x\":[28.4733654294145],\"xaxis\":\"x\",\"y\":[null],\"yaxis\":\"y\",\"type\":\"scatter\"},{\"hovertemplate\":\"LOCATION=ISR<extra></extra>\",\"legendgroup\":\"ISR\",\"marker\":{\"color\":\"#FFA15A\",\"symbol\":\"circle\"},\"mode\":\"lines\",\"name\":\"ISR\",\"showlegend\":false,\"xaxis\":\"x\",\"yaxis\":\"y\",\"type\":\"scatter\"},{\"hovertemplate\":\"LOCATION=RUS<br>Values1=%{x}<br>Values2=%{y}<extra></extra>\",\"legendgroup\":\"RUS\",\"marker\":{\"color\":\"#19d3f3\",\"symbol\":\"circle\"},\"mode\":\"markers\",\"name\":\"RUS\",\"orientation\":\"v\",\"showlegend\":true,\"x\":[17.3379243017016],\"xaxis\":\"x\",\"y\":[null],\"yaxis\":\"y\",\"type\":\"scatter\"},{\"hovertemplate\":\"LOCATION=RUS<extra></extra>\",\"legendgroup\":\"RUS\",\"marker\":{\"color\":\"#19d3f3\",\"symbol\":\"circle\"},\"mode\":\"lines\",\"name\":\"RUS\",\"showlegend\":false,\"xaxis\":\"x\",\"yaxis\":\"y\",\"type\":\"scatter\"},{\"hovertemplate\":\"LOCATION=SVN<br>Values1=%{x}<br>Values2=%{y}<extra></extra>\",\"legendgroup\":\"SVN\",\"marker\":{\"color\":\"#FF6692\",\"symbol\":\"circle\"},\"mode\":\"markers\",\"name\":\"SVN\",\"orientation\":\"v\",\"showlegend\":true,\"x\":[15.5677987585559],\"xaxis\":\"x\",\"y\":[3.368],\"yaxis\":\"y\",\"type\":\"scatter\"},{\"hovertemplate\":\"LOCATION=SVN<extra></extra>\",\"legendgroup\":\"SVN\",\"marker\":{\"color\":\"#FF6692\",\"symbol\":\"circle\"},\"mode\":\"lines\",\"name\":\"SVN\",\"showlegend\":false,\"xaxis\":\"x\",\"yaxis\":\"y\",\"type\":\"scatter\"},{\"hovertemplate\":\"LOCATION=EU27<br>Values1=%{x}<br>Values2=%{y}<extra></extra>\",\"legendgroup\":\"EU27\",\"marker\":{\"color\":\"#B6E880\",\"symbol\":\"circle\"},\"mode\":\"markers\",\"name\":\"EU27\",\"orientation\":\"v\",\"showlegend\":true,\"x\":[16.66568397266],\"xaxis\":\"x\",\"y\":[null],\"yaxis\":\"y\",\"type\":\"scatter\"},{\"hovertemplate\":\"LOCATION=EU27<extra></extra>\",\"legendgroup\":\"EU27\",\"marker\":{\"color\":\"#B6E880\",\"symbol\":\"circle\"},\"mode\":\"lines\",\"name\":\"EU27\",\"showlegend\":false,\"xaxis\":\"x\",\"yaxis\":\"y\",\"type\":\"scatter\"},{\"hovertemplate\":\"LOCATION=OECD<br>Values1=%{x}<br>Values2=%{y}<extra></extra>\",\"legendgroup\":\"OECD\",\"marker\":{\"color\":\"#FF97FF\",\"symbol\":\"circle\"},\"mode\":\"markers\",\"name\":\"OECD\",\"orientation\":\"v\",\"showlegend\":true,\"x\":[20.763589504355],\"xaxis\":\"x\",\"y\":[3.7],\"yaxis\":\"y\",\"type\":\"scatter\"},{\"hovertemplate\":\"LOCATION=OECD<extra></extra>\",\"legendgroup\":\"OECD\",\"marker\":{\"color\":\"#FF97FF\",\"symbol\":\"circle\"},\"mode\":\"lines\",\"name\":\"OECD\",\"showlegend\":false,\"xaxis\":\"x\",\"yaxis\":\"y\",\"type\":\"scatter\"},{\"hovertemplate\":\"LOCATION=LVA<br>Values1=%{x}<br>Values2=%{y}<extra></extra>\",\"legendgroup\":\"LVA\",\"marker\":{\"color\":\"#FECB52\",\"symbol\":\"circle\"},\"mode\":\"markers\",\"name\":\"LVA\",\"orientation\":\"v\",\"showlegend\":true,\"x\":[17.0425625499535],\"xaxis\":\"x\",\"y\":[null],\"yaxis\":\"y\",\"type\":\"scatter\"},{\"hovertemplate\":\"LOCATION=LVA<extra></extra>\",\"legendgroup\":\"LVA\",\"marker\":{\"color\":\"#FECB52\",\"symbol\":\"circle\"},\"mode\":\"lines\",\"name\":\"LVA\",\"showlegend\":false,\"xaxis\":\"x\",\"yaxis\":\"y\",\"type\":\"scatter\"},{\"hovertemplate\":\"LOCATION=ARG<br>Values1=%{x}<br>Values2=%{y}<extra></extra>\",\"legendgroup\":\"ARG\",\"marker\":{\"color\":\"#636efa\",\"symbol\":\"circle\"},\"mode\":\"markers\",\"name\":\"ARG\",\"orientation\":\"v\",\"showlegend\":true,\"x\":[27.7956163652411],\"xaxis\":\"x\",\"y\":[null],\"yaxis\":\"y\",\"type\":\"scatter\"},{\"hovertemplate\":\"LOCATION=ARG<extra></extra>\",\"legendgroup\":\"ARG\",\"marker\":{\"color\":\"#636efa\",\"symbol\":\"circle\"},\"mode\":\"lines\",\"name\":\"ARG\",\"showlegend\":false,\"xaxis\":\"x\",\"yaxis\":\"y\",\"type\":\"scatter\"},{\"hovertemplate\":\"LOCATION=BGR<br>Values1=%{x}<br>Values2=%{y}<extra></extra>\",\"legendgroup\":\"BGR\",\"marker\":{\"color\":\"#EF553B\",\"symbol\":\"circle\"},\"mode\":\"markers\",\"name\":\"BGR\",\"orientation\":\"v\",\"showlegend\":true,\"x\":[15.230502545123],\"xaxis\":\"x\",\"y\":[null],\"yaxis\":\"y\",\"type\":\"scatter\"},{\"hovertemplate\":\"LOCATION=BGR<extra></extra>\",\"legendgroup\":\"BGR\",\"marker\":{\"color\":\"#EF553B\",\"symbol\":\"circle\"},\"mode\":\"lines\",\"name\":\"BGR\",\"showlegend\":false,\"xaxis\":\"x\",\"yaxis\":\"y\",\"type\":\"scatter\"},{\"hovertemplate\":\"LOCATION=CHN<br>Values1=%{x}<br>Values2=%{y}<extra></extra>\",\"legendgroup\":\"CHN\",\"marker\":{\"color\":\"#00cc96\",\"symbol\":\"circle\"},\"mode\":\"markers\",\"name\":\"CHN\",\"orientation\":\"v\",\"showlegend\":true,\"x\":[24.2145322071514],\"xaxis\":\"x\",\"y\":[null],\"yaxis\":\"y\",\"type\":\"scatter\"},{\"hovertemplate\":\"LOCATION=CHN<extra></extra>\",\"legendgroup\":\"CHN\",\"marker\":{\"color\":\"#00cc96\",\"symbol\":\"circle\"},\"mode\":\"lines\",\"name\":\"CHN\",\"showlegend\":false,\"xaxis\":\"x\",\"yaxis\":\"y\",\"type\":\"scatter\"},{\"hovertemplate\":\"LOCATION=CRI<br>Values1=%{x}<br>Values2=%{y}<extra></extra>\",\"legendgroup\":\"CRI\",\"marker\":{\"color\":\"#ab63fa\",\"symbol\":\"circle\"},\"mode\":\"markers\",\"name\":\"CRI\",\"orientation\":\"v\",\"showlegend\":true,\"x\":[31.0358216347325],\"xaxis\":\"x\",\"y\":[null],\"yaxis\":\"y\",\"type\":\"scatter\"},{\"hovertemplate\":\"LOCATION=CRI<extra></extra>\",\"legendgroup\":\"CRI\",\"marker\":{\"color\":\"#ab63fa\",\"symbol\":\"circle\"},\"mode\":\"lines\",\"name\":\"CRI\",\"showlegend\":false,\"xaxis\":\"x\",\"yaxis\":\"y\",\"type\":\"scatter\"},{\"hovertemplate\":\"LOCATION=HRV<br>Values1=%{x}<br>Values2=%{y}<extra></extra>\",\"legendgroup\":\"HRV\",\"marker\":{\"color\":\"#FFA15A\",\"symbol\":\"circle\"},\"mode\":\"markers\",\"name\":\"HRV\",\"orientation\":\"v\",\"showlegend\":true,\"x\":[16.7279275809474],\"xaxis\":\"x\",\"y\":[null],\"yaxis\":\"y\",\"type\":\"scatter\"},{\"hovertemplate\":\"LOCATION=HRV<extra></extra>\",\"legendgroup\":\"HRV\",\"marker\":{\"color\":\"#FFA15A\",\"symbol\":\"circle\"},\"mode\":\"lines\",\"name\":\"HRV\",\"showlegend\":false,\"xaxis\":\"x\",\"yaxis\":\"y\",\"type\":\"scatter\"},{\"hovertemplate\":\"LOCATION=CYP<br>Values1=%{x}<br>Values2=%{y}<extra></extra>\",\"legendgroup\":\"CYP\",\"marker\":{\"color\":\"#19d3f3\",\"symbol\":\"circle\"},\"mode\":\"markers\",\"name\":\"CYP\",\"orientation\":\"v\",\"showlegend\":true,\"x\":[21.9024798406927],\"xaxis\":\"x\",\"y\":[null],\"yaxis\":\"y\",\"type\":\"scatter\"},{\"hovertemplate\":\"LOCATION=CYP<extra></extra>\",\"legendgroup\":\"CYP\",\"marker\":{\"color\":\"#19d3f3\",\"symbol\":\"circle\"},\"mode\":\"lines\",\"name\":\"CYP\",\"showlegend\":false,\"xaxis\":\"x\",\"yaxis\":\"y\",\"type\":\"scatter\"},{\"hovertemplate\":\"LOCATION=IND<br>Values1=%{x}<br>Values2=%{y}<extra></extra>\",\"legendgroup\":\"IND\",\"marker\":{\"color\":\"#FF6692\",\"symbol\":\"circle\"},\"mode\":\"markers\",\"name\":\"IND\",\"orientation\":\"v\",\"showlegend\":true,\"x\":[34.3604969954542],\"xaxis\":\"x\",\"y\":[null],\"yaxis\":\"y\",\"type\":\"scatter\"},{\"hovertemplate\":\"LOCATION=IND<extra></extra>\",\"legendgroup\":\"IND\",\"marker\":{\"color\":\"#FF6692\",\"symbol\":\"circle\"},\"mode\":\"lines\",\"name\":\"IND\",\"showlegend\":false,\"xaxis\":\"x\",\"yaxis\":\"y\",\"type\":\"scatter\"},{\"hovertemplate\":\"LOCATION=IDN<br>Values1=%{x}<br>Values2=%{y}<extra></extra>\",\"legendgroup\":\"IDN\",\"marker\":{\"color\":\"#B6E880\",\"symbol\":\"circle\"},\"mode\":\"markers\",\"name\":\"IDN\",\"orientation\":\"v\",\"showlegend\":true,\"x\":[30.4519609966485],\"xaxis\":\"x\",\"y\":[null],\"yaxis\":\"y\",\"type\":\"scatter\"},{\"hovertemplate\":\"LOCATION=IDN<extra></extra>\",\"legendgroup\":\"IDN\",\"marker\":{\"color\":\"#B6E880\",\"symbol\":\"circle\"},\"mode\":\"lines\",\"name\":\"IDN\",\"showlegend\":false,\"xaxis\":\"x\",\"yaxis\":\"y\",\"type\":\"scatter\"},{\"hovertemplate\":\"LOCATION=LTU<br>Values1=%{x}<br>Values2=%{y}<extra></extra>\",\"legendgroup\":\"LTU\",\"marker\":{\"color\":\"#FF97FF\",\"symbol\":\"circle\"},\"mode\":\"markers\",\"name\":\"LTU\",\"orientation\":\"v\",\"showlegend\":true,\"x\":[19.3374067258516],\"xaxis\":\"x\",\"y\":[null],\"yaxis\":\"y\",\"type\":\"scatter\"},{\"hovertemplate\":\"LOCATION=LTU<extra></extra>\",\"legendgroup\":\"LTU\",\"marker\":{\"color\":\"#FF97FF\",\"symbol\":\"circle\"},\"mode\":\"lines\",\"name\":\"LTU\",\"showlegend\":false,\"xaxis\":\"x\",\"yaxis\":\"y\",\"type\":\"scatter\"},{\"hovertemplate\":\"LOCATION=MLT<br>Values1=%{x}<br>Values2=%{y}<extra></extra>\",\"legendgroup\":\"MLT\",\"marker\":{\"color\":\"#FECB52\",\"symbol\":\"circle\"},\"mode\":\"markers\",\"name\":\"MLT\",\"orientation\":\"v\",\"showlegend\":true,\"x\":[19.4981019164029],\"xaxis\":\"x\",\"y\":[null],\"yaxis\":\"y\",\"type\":\"scatter\"},{\"hovertemplate\":\"LOCATION=MLT<extra></extra>\",\"legendgroup\":\"MLT\",\"marker\":{\"color\":\"#FECB52\",\"symbol\":\"circle\"},\"mode\":\"lines\",\"name\":\"MLT\",\"showlegend\":false,\"xaxis\":\"x\",\"yaxis\":\"y\",\"type\":\"scatter\"},{\"hovertemplate\":\"LOCATION=ROU<br>Values1=%{x}<br>Values2=%{y}<extra></extra>\",\"legendgroup\":\"ROU\",\"marker\":{\"color\":\"#636efa\",\"symbol\":\"circle\"},\"mode\":\"markers\",\"name\":\"ROU\",\"orientation\":\"v\",\"showlegend\":true,\"x\":[17.8574898018586],\"xaxis\":\"x\",\"y\":[null],\"yaxis\":\"y\",\"type\":\"scatter\"},{\"hovertemplate\":\"LOCATION=ROU<extra></extra>\",\"legendgroup\":\"ROU\",\"marker\":{\"color\":\"#636efa\",\"symbol\":\"circle\"},\"mode\":\"lines\",\"name\":\"ROU\",\"showlegend\":false,\"xaxis\":\"x\",\"yaxis\":\"y\",\"type\":\"scatter\"},{\"hovertemplate\":\"LOCATION=SAU<br>Values1=%{x}<br>Values2=%{y}<extra></extra>\",\"legendgroup\":\"SAU\",\"marker\":{\"color\":\"#EF553B\",\"symbol\":\"circle\"},\"mode\":\"markers\",\"name\":\"SAU\",\"orientation\":\"v\",\"showlegend\":true,\"x\":[37.3168141372544],\"xaxis\":\"x\",\"y\":[null],\"yaxis\":\"y\",\"type\":\"scatter\"},{\"hovertemplate\":\"LOCATION=SAU<extra></extra>\",\"legendgroup\":\"SAU\",\"marker\":{\"color\":\"#EF553B\",\"symbol\":\"circle\"},\"mode\":\"lines\",\"name\":\"SAU\",\"showlegend\":false,\"xaxis\":\"x\",\"yaxis\":\"y\",\"type\":\"scatter\"},{\"hovertemplate\":\"LOCATION=SGP<br>Values1=%{x}<br>Values2=%{y}<extra></extra>\",\"legendgroup\":\"SGP\",\"marker\":{\"color\":\"#00cc96\",\"symbol\":\"circle\"},\"mode\":\"markers\",\"name\":\"SGP\",\"orientation\":\"v\",\"showlegend\":true,\"x\":[21.7697334437395],\"xaxis\":\"x\",\"y\":[null],\"yaxis\":\"y\",\"type\":\"scatter\"},{\"hovertemplate\":\"LOCATION=SGP<extra></extra>\",\"legendgroup\":\"SGP\",\"marker\":{\"color\":\"#00cc96\",\"symbol\":\"circle\"},\"mode\":\"lines\",\"name\":\"SGP\",\"showlegend\":false,\"xaxis\":\"x\",\"yaxis\":\"y\",\"type\":\"scatter\"},{\"hovertemplate\":\"LOCATION=ZAF<br>Values1=%{x}<br>Values2=%{y}<extra></extra>\",\"legendgroup\":\"ZAF\",\"marker\":{\"color\":\"#ab63fa\",\"symbol\":\"circle\"},\"mode\":\"markers\",\"name\":\"ZAF\",\"orientation\":\"v\",\"showlegend\":true,\"x\":[33.2663415671171],\"xaxis\":\"x\",\"y\":[null],\"yaxis\":\"y\",\"type\":\"scatter\"},{\"hovertemplate\":\"LOCATION=ZAF<extra></extra>\",\"legendgroup\":\"ZAF\",\"marker\":{\"color\":\"#ab63fa\",\"symbol\":\"circle\"},\"mode\":\"lines\",\"name\":\"ZAF\",\"showlegend\":false,\"xaxis\":\"x\",\"yaxis\":\"y\",\"type\":\"scatter\"},{\"hovertemplate\":\"LOCATION=WLD<br>Values1=%{x}<br>Values2=%{y}<extra></extra>\",\"legendgroup\":\"WLD\",\"marker\":{\"color\":\"#FFA15A\",\"symbol\":\"circle\"},\"mode\":\"markers\",\"name\":\"WLD\",\"orientation\":\"v\",\"showlegend\":true,\"x\":[29.8000024228033],\"xaxis\":\"x\",\"y\":[null],\"yaxis\":\"y\",\"type\":\"scatter\"},{\"hovertemplate\":\"LOCATION=WLD<extra></extra>\",\"legendgroup\":\"WLD\",\"marker\":{\"color\":\"#FFA15A\",\"symbol\":\"circle\"},\"mode\":\"lines\",\"name\":\"WLD\",\"showlegend\":false,\"xaxis\":\"x\",\"yaxis\":\"y\",\"type\":\"scatter\"},{\"hovertemplate\":\"LOCATION=G20<br>Values1=%{x}<br>Values2=%{y}<extra></extra>\",\"legendgroup\":\"G20\",\"marker\":{\"color\":\"#19d3f3\",\"symbol\":\"circle\"},\"mode\":\"markers\",\"name\":\"G20\",\"orientation\":\"v\",\"showlegend\":true,\"x\":[26.180795446829],\"xaxis\":\"x\",\"y\":[null],\"yaxis\":\"y\",\"type\":\"scatter\"},{\"hovertemplate\":\"LOCATION=G20<extra></extra>\",\"legendgroup\":\"G20\",\"marker\":{\"color\":\"#19d3f3\",\"symbol\":\"circle\"},\"mode\":\"lines\",\"name\":\"G20\",\"showlegend\":false,\"xaxis\":\"x\",\"yaxis\":\"y\",\"type\":\"scatter\"}],                        {\"template\":{\"data\":{\"bar\":[{\"error_x\":{\"color\":\"#2a3f5f\"},\"error_y\":{\"color\":\"#2a3f5f\"},\"marker\":{\"line\":{\"color\":\"#E5ECF6\",\"width\":0.5},\"pattern\":{\"fillmode\":\"overlay\",\"size\":10,\"solidity\":0.2}},\"type\":\"bar\"}],\"barpolar\":[{\"marker\":{\"line\":{\"color\":\"#E5ECF6\",\"width\":0.5},\"pattern\":{\"fillmode\":\"overlay\",\"size\":10,\"solidity\":0.2}},\"type\":\"barpolar\"}],\"carpet\":[{\"aaxis\":{\"endlinecolor\":\"#2a3f5f\",\"gridcolor\":\"white\",\"linecolor\":\"white\",\"minorgridcolor\":\"white\",\"startlinecolor\":\"#2a3f5f\"},\"baxis\":{\"endlinecolor\":\"#2a3f5f\",\"gridcolor\":\"white\",\"linecolor\":\"white\",\"minorgridcolor\":\"white\",\"startlinecolor\":\"#2a3f5f\"},\"type\":\"carpet\"}],\"choropleth\":[{\"colorbar\":{\"outlinewidth\":0,\"ticks\":\"\"},\"type\":\"choropleth\"}],\"contour\":[{\"colorbar\":{\"outlinewidth\":0,\"ticks\":\"\"},\"colorscale\":[[0.0,\"#0d0887\"],[0.1111111111111111,\"#46039f\"],[0.2222222222222222,\"#7201a8\"],[0.3333333333333333,\"#9c179e\"],[0.4444444444444444,\"#bd3786\"],[0.5555555555555556,\"#d8576b\"],[0.6666666666666666,\"#ed7953\"],[0.7777777777777778,\"#fb9f3a\"],[0.8888888888888888,\"#fdca26\"],[1.0,\"#f0f921\"]],\"type\":\"contour\"}],\"contourcarpet\":[{\"colorbar\":{\"outlinewidth\":0,\"ticks\":\"\"},\"type\":\"contourcarpet\"}],\"heatmap\":[{\"colorbar\":{\"outlinewidth\":0,\"ticks\":\"\"},\"colorscale\":[[0.0,\"#0d0887\"],[0.1111111111111111,\"#46039f\"],[0.2222222222222222,\"#7201a8\"],[0.3333333333333333,\"#9c179e\"],[0.4444444444444444,\"#bd3786\"],[0.5555555555555556,\"#d8576b\"],[0.6666666666666666,\"#ed7953\"],[0.7777777777777778,\"#fb9f3a\"],[0.8888888888888888,\"#fdca26\"],[1.0,\"#f0f921\"]],\"type\":\"heatmap\"}],\"heatmapgl\":[{\"colorbar\":{\"outlinewidth\":0,\"ticks\":\"\"},\"colorscale\":[[0.0,\"#0d0887\"],[0.1111111111111111,\"#46039f\"],[0.2222222222222222,\"#7201a8\"],[0.3333333333333333,\"#9c179e\"],[0.4444444444444444,\"#bd3786\"],[0.5555555555555556,\"#d8576b\"],[0.6666666666666666,\"#ed7953\"],[0.7777777777777778,\"#fb9f3a\"],[0.8888888888888888,\"#fdca26\"],[1.0,\"#f0f921\"]],\"type\":\"heatmapgl\"}],\"histogram\":[{\"marker\":{\"pattern\":{\"fillmode\":\"overlay\",\"size\":10,\"solidity\":0.2}},\"type\":\"histogram\"}],\"histogram2d\":[{\"colorbar\":{\"outlinewidth\":0,\"ticks\":\"\"},\"colorscale\":[[0.0,\"#0d0887\"],[0.1111111111111111,\"#46039f\"],[0.2222222222222222,\"#7201a8\"],[0.3333333333333333,\"#9c179e\"],[0.4444444444444444,\"#bd3786\"],[0.5555555555555556,\"#d8576b\"],[0.6666666666666666,\"#ed7953\"],[0.7777777777777778,\"#fb9f3a\"],[0.8888888888888888,\"#fdca26\"],[1.0,\"#f0f921\"]],\"type\":\"histogram2d\"}],\"histogram2dcontour\":[{\"colorbar\":{\"outlinewidth\":0,\"ticks\":\"\"},\"colorscale\":[[0.0,\"#0d0887\"],[0.1111111111111111,\"#46039f\"],[0.2222222222222222,\"#7201a8\"],[0.3333333333333333,\"#9c179e\"],[0.4444444444444444,\"#bd3786\"],[0.5555555555555556,\"#d8576b\"],[0.6666666666666666,\"#ed7953\"],[0.7777777777777778,\"#fb9f3a\"],[0.8888888888888888,\"#fdca26\"],[1.0,\"#f0f921\"]],\"type\":\"histogram2dcontour\"}],\"mesh3d\":[{\"colorbar\":{\"outlinewidth\":0,\"ticks\":\"\"},\"type\":\"mesh3d\"}],\"parcoords\":[{\"line\":{\"colorbar\":{\"outlinewidth\":0,\"ticks\":\"\"}},\"type\":\"parcoords\"}],\"pie\":[{\"automargin\":true,\"type\":\"pie\"}],\"scatter\":[{\"marker\":{\"colorbar\":{\"outlinewidth\":0,\"ticks\":\"\"}},\"type\":\"scatter\"}],\"scatter3d\":[{\"line\":{\"colorbar\":{\"outlinewidth\":0,\"ticks\":\"\"}},\"marker\":{\"colorbar\":{\"outlinewidth\":0,\"ticks\":\"\"}},\"type\":\"scatter3d\"}],\"scattercarpet\":[{\"marker\":{\"colorbar\":{\"outlinewidth\":0,\"ticks\":\"\"}},\"type\":\"scattercarpet\"}],\"scattergeo\":[{\"marker\":{\"colorbar\":{\"outlinewidth\":0,\"ticks\":\"\"}},\"type\":\"scattergeo\"}],\"scattergl\":[{\"marker\":{\"colorbar\":{\"outlinewidth\":0,\"ticks\":\"\"}},\"type\":\"scattergl\"}],\"scattermapbox\":[{\"marker\":{\"colorbar\":{\"outlinewidth\":0,\"ticks\":\"\"}},\"type\":\"scattermapbox\"}],\"scatterpolar\":[{\"marker\":{\"colorbar\":{\"outlinewidth\":0,\"ticks\":\"\"}},\"type\":\"scatterpolar\"}],\"scatterpolargl\":[{\"marker\":{\"colorbar\":{\"outlinewidth\":0,\"ticks\":\"\"}},\"type\":\"scatterpolargl\"}],\"scatterternary\":[{\"marker\":{\"colorbar\":{\"outlinewidth\":0,\"ticks\":\"\"}},\"type\":\"scatterternary\"}],\"surface\":[{\"colorbar\":{\"outlinewidth\":0,\"ticks\":\"\"},\"colorscale\":[[0.0,\"#0d0887\"],[0.1111111111111111,\"#46039f\"],[0.2222222222222222,\"#7201a8\"],[0.3333333333333333,\"#9c179e\"],[0.4444444444444444,\"#bd3786\"],[0.5555555555555556,\"#d8576b\"],[0.6666666666666666,\"#ed7953\"],[0.7777777777777778,\"#fb9f3a\"],[0.8888888888888888,\"#fdca26\"],[1.0,\"#f0f921\"]],\"type\":\"surface\"}],\"table\":[{\"cells\":{\"fill\":{\"color\":\"#EBF0F8\"},\"line\":{\"color\":\"white\"}},\"header\":{\"fill\":{\"color\":\"#C8D4E3\"},\"line\":{\"color\":\"white\"}},\"type\":\"table\"}]},\"layout\":{\"annotationdefaults\":{\"arrowcolor\":\"#2a3f5f\",\"arrowhead\":0,\"arrowwidth\":1},\"autotypenumbers\":\"strict\",\"coloraxis\":{\"colorbar\":{\"outlinewidth\":0,\"ticks\":\"\"}},\"colorscale\":{\"diverging\":[[0,\"#8e0152\"],[0.1,\"#c51b7d\"],[0.2,\"#de77ae\"],[0.3,\"#f1b6da\"],[0.4,\"#fde0ef\"],[0.5,\"#f7f7f7\"],[0.6,\"#e6f5d0\"],[0.7,\"#b8e186\"],[0.8,\"#7fbc41\"],[0.9,\"#4d9221\"],[1,\"#276419\"]],\"sequential\":[[0.0,\"#0d0887\"],[0.1111111111111111,\"#46039f\"],[0.2222222222222222,\"#7201a8\"],[0.3333333333333333,\"#9c179e\"],[0.4444444444444444,\"#bd3786\"],[0.5555555555555556,\"#d8576b\"],[0.6666666666666666,\"#ed7953\"],[0.7777777777777778,\"#fb9f3a\"],[0.8888888888888888,\"#fdca26\"],[1.0,\"#f0f921\"]],\"sequentialminus\":[[0.0,\"#0d0887\"],[0.1111111111111111,\"#46039f\"],[0.2222222222222222,\"#7201a8\"],[0.3333333333333333,\"#9c179e\"],[0.4444444444444444,\"#bd3786\"],[0.5555555555555556,\"#d8576b\"],[0.6666666666666666,\"#ed7953\"],[0.7777777777777778,\"#fb9f3a\"],[0.8888888888888888,\"#fdca26\"],[1.0,\"#f0f921\"]]},\"colorway\":[\"#636efa\",\"#EF553B\",\"#00cc96\",\"#ab63fa\",\"#FFA15A\",\"#19d3f3\",\"#FF6692\",\"#B6E880\",\"#FF97FF\",\"#FECB52\"],\"font\":{\"color\":\"#2a3f5f\"},\"geo\":{\"bgcolor\":\"white\",\"lakecolor\":\"white\",\"landcolor\":\"#E5ECF6\",\"showlakes\":true,\"showland\":true,\"subunitcolor\":\"white\"},\"hoverlabel\":{\"align\":\"left\"},\"hovermode\":\"closest\",\"mapbox\":{\"style\":\"light\"},\"paper_bgcolor\":\"white\",\"plot_bgcolor\":\"#E5ECF6\",\"polar\":{\"angularaxis\":{\"gridcolor\":\"white\",\"linecolor\":\"white\",\"ticks\":\"\"},\"bgcolor\":\"#E5ECF6\",\"radialaxis\":{\"gridcolor\":\"white\",\"linecolor\":\"white\",\"ticks\":\"\"}},\"scene\":{\"xaxis\":{\"backgroundcolor\":\"#E5ECF6\",\"gridcolor\":\"white\",\"gridwidth\":2,\"linecolor\":\"white\",\"showbackground\":true,\"ticks\":\"\",\"zerolinecolor\":\"white\"},\"yaxis\":{\"backgroundcolor\":\"#E5ECF6\",\"gridcolor\":\"white\",\"gridwidth\":2,\"linecolor\":\"white\",\"showbackground\":true,\"ticks\":\"\",\"zerolinecolor\":\"white\"},\"zaxis\":{\"backgroundcolor\":\"#E5ECF6\",\"gridcolor\":\"white\",\"gridwidth\":2,\"linecolor\":\"white\",\"showbackground\":true,\"ticks\":\"\",\"zerolinecolor\":\"white\"}},\"shapedefaults\":{\"line\":{\"color\":\"#2a3f5f\"}},\"ternary\":{\"aaxis\":{\"gridcolor\":\"white\",\"linecolor\":\"white\",\"ticks\":\"\"},\"baxis\":{\"gridcolor\":\"white\",\"linecolor\":\"white\",\"ticks\":\"\"},\"bgcolor\":\"#E5ECF6\",\"caxis\":{\"gridcolor\":\"white\",\"linecolor\":\"white\",\"ticks\":\"\"}},\"title\":{\"x\":0.05},\"xaxis\":{\"automargin\":true,\"gridcolor\":\"white\",\"linecolor\":\"white\",\"ticks\":\"\",\"title\":{\"standoff\":15},\"zerolinecolor\":\"white\",\"zerolinewidth\":2},\"yaxis\":{\"automargin\":true,\"gridcolor\":\"white\",\"linecolor\":\"white\",\"ticks\":\"\",\"title\":{\"standoff\":15},\"zerolinecolor\":\"white\",\"zerolinewidth\":2}}},\"xaxis\":{\"anchor\":\"y\",\"domain\":[0.0,1.0],\"title\":{\"text\":\"Young population aged less than 15 (% of population)\"}},\"yaxis\":{\"anchor\":\"x\",\"domain\":[0.0,1.0],\"title\":{\"text\":\"ICT employment 2011\"}},\"legend\":{\"title\":{\"text\":\"Countries\"},\"tracegroupgap\":0},\"title\":{\"text\":\"Young population (2001) & ICT employment (2011),        corr = 0.255\"}},                        {\"responsive\": true}                    ).then(function(){\n                            \nvar gd = document.getElementById('59ac3fb3-6a5b-4c9b-9dbc-cee34a20ac95');\nvar x = new MutationObserver(function (mutations, observer) {{\n        var display = window.getComputedStyle(gd).display;\n        if (!display || display === 'none') {{\n            console.log([gd, 'removed!']);\n            Plotly.purge(gd);\n            observer.disconnect();\n        }}\n}});\n\n// Listen for the removal of the full notebook cells\nvar notebookContainer = gd.closest('#notebook-container');\nif (notebookContainer) {{\n    x.observe(notebookContainer, {childList: true});\n}}\n\n// Listen for the clearing of the current output cell\nvar outputEl = gd.closest('.output');\nif (outputEl) {{\n    x.observe(outputEl, {childList: true});\n}}\n\n                        })                };                });            </script>        </div>"
     },
     "metadata": {},
     "output_type": "display_data"
    },
    {
     "name": "stdout",
     "output_type": "stream",
     "text": [
      "       LOCATION SUBJECT  MEASURE  TIME          Value\n",
      "121         AUS     TOT  USD_CAP  2020   57137.316088\n",
      "223         AUT     TOT  USD_CAP  2020   55798.232644\n",
      "325         BEL     TOT  USD_CAP  2020   53298.605116\n",
      "436         CAN     TOT  USD_CAP  2020   46051.345148\n",
      "498         CZE     TOT  USD_CAP  2020   41684.610948\n",
      "608         DNK     TOT  USD_CAP  2020   60365.764867\n",
      "710         FIN     TOT  USD_CAP  2020   50608.165962\n",
      "832         FRA     TOT  USD_CAP  2020   46785.145261\n",
      "934         DEU     TOT  USD_CAP  2020   54954.916894\n",
      "1046        GRC     TOT  USD_CAP  2020   27957.913164\n",
      "1106        HUN     TOT  USD_CAP  2020   33142.547097\n",
      "1208        ISL     TOT  USD_CAP  2020   53719.257503\n",
      "1310        IRL     TOT  USD_CAP  2020   93638.605353\n",
      "1412        ITA     TOT  USD_CAP  2020   41986.511434\n",
      "1514        JPN     TOT  USD_CAP  2020   42441.605023\n",
      "1616        KOR     TOT  USD_CAP  2020   45362.509562\n",
      "1718        LUX     TOT  USD_CAP  2020  117958.365531\n",
      "1820        MEX     TOT  USD_CAP  2020   19615.450657\n",
      "1924        NLD     TOT  USD_CAP  2020   59388.026375\n",
      "2026        NZL     TOT  USD_CAP  2020   44024.529841\n",
      "2128        NOR     TOT  USD_CAP  2020   62776.571836\n",
      "2190        POL     TOT  USD_CAP  2020   33948.534767\n",
      "2292        PRT     TOT  USD_CAP  2020   34245.860530\n",
      "2350        SVK     TOT  USD_CAP  2020   31409.414684\n",
      "2452        ESP     TOT  USD_CAP  2020   37840.152330\n",
      "2564        SWE     TOT  USD_CAP  2020   55148.580215\n",
      "2666        CHE     TOT  USD_CAP  2020   71831.736102\n",
      "2768        TUR     TOT  USD_CAP  2020   27602.526890\n",
      "2890        GBR     TOT  USD_CAP  2020   46743.999172\n",
      "2992        USA     TOT  USD_CAP  2020   63285.232257\n",
      "3062        CHL     TOT  USD_CAP  2020   24354.759077\n",
      "3242        COL     TOT  USD_CAP  2020   16126.784493\n",
      "3298        EST     TOT  USD_CAP  2020   37735.307368\n",
      "3482        ISR     TOT  USD_CAP  2020   40150.933835\n",
      "3534        RUS     TOT  USD_CAP  2020   29808.317812\n",
      "3591        SVN     TOT  USD_CAP  2020   39798.053356\n",
      "3678        ZAF     TOT  USD_CAP  2020   12354.983737\n",
      "3824       OECD     TOT  USD_CAP  2020   45181.548349\n",
      "3877      OECDE     TOT  USD_CAP  2020   43931.466243\n",
      "3930        LVA     TOT  USD_CAP  2020   31539.195384\n",
      "4025        LTU     TOT  USD_CAP  2020   38958.857900\n",
      "4127        SAU     TOT  USD_CAP  2020   46362.649888\n",
      "4179       EA19     TOT  USD_CAP  2020   47207.114538\n",
      "4272        CRI     TOT  USD_CAP  2020   22239.587759\n",
      "4324        BGR     TOT  USD_CAP  2020   24626.059448\n",
      "4376        HRV     TOT  USD_CAP  2020   29119.815227\n",
      "4428        CYP     TOT  USD_CAP  2020   39857.619929\n",
      "4480        MLT     TOT  USD_CAP  2020   44200.322498\n",
      "4548        ROU     TOT  USD_CAP  2020   31875.149114\n",
      "4829  EU27_2020     TOT  USD_CAP  2020   41584.642039\n",
      "          SUBJECT  MEASURE  TIME          Value\n",
      "LOCATION                                       \n",
      "AUS           TOT  USD_CAP  2020   57137.316088\n",
      "AUT           TOT  USD_CAP  2020   55798.232644\n",
      "BEL           TOT  USD_CAP  2020   53298.605116\n",
      "CAN           TOT  USD_CAP  2020   46051.345148\n",
      "CZE           TOT  USD_CAP  2020   41684.610948\n",
      "DNK           TOT  USD_CAP  2020   60365.764867\n",
      "FIN           TOT  USD_CAP  2020   50608.165962\n",
      "FRA           TOT  USD_CAP  2020   46785.145261\n",
      "DEU           TOT  USD_CAP  2020   54954.916894\n",
      "GRC           TOT  USD_CAP  2020   27957.913164\n",
      "HUN           TOT  USD_CAP  2020   33142.547097\n",
      "ISL           TOT  USD_CAP  2020   53719.257503\n",
      "IRL           TOT  USD_CAP  2020   93638.605353\n",
      "ITA           TOT  USD_CAP  2020   41986.511434\n",
      "JPN           TOT  USD_CAP  2020   42441.605023\n",
      "KOR           TOT  USD_CAP  2020   45362.509562\n",
      "LUX           TOT  USD_CAP  2020  117958.365531\n",
      "MEX           TOT  USD_CAP  2020   19615.450657\n",
      "NLD           TOT  USD_CAP  2020   59388.026375\n",
      "NZL           TOT  USD_CAP  2020   44024.529841\n",
      "NOR           TOT  USD_CAP  2020   62776.571836\n",
      "POL           TOT  USD_CAP  2020   33948.534767\n",
      "PRT           TOT  USD_CAP  2020   34245.860530\n",
      "SVK           TOT  USD_CAP  2020   31409.414684\n",
      "ESP           TOT  USD_CAP  2020   37840.152330\n",
      "SWE           TOT  USD_CAP  2020   55148.580215\n",
      "CHE           TOT  USD_CAP  2020   71831.736102\n",
      "TUR           TOT  USD_CAP  2020   27602.526890\n",
      "GBR           TOT  USD_CAP  2020   46743.999172\n",
      "USA           TOT  USD_CAP  2020   63285.232257\n",
      "CHL           TOT  USD_CAP  2020   24354.759077\n",
      "COL           TOT  USD_CAP  2020   16126.784493\n",
      "EST           TOT  USD_CAP  2020   37735.307368\n",
      "ISR           TOT  USD_CAP  2020   40150.933835\n",
      "RUS           TOT  USD_CAP  2020   29808.317812\n",
      "SVN           TOT  USD_CAP  2020   39798.053356\n",
      "ZAF           TOT  USD_CAP  2020   12354.983737\n",
      "OECD          TOT  USD_CAP  2020   45181.548349\n",
      "OECDE         TOT  USD_CAP  2020   43931.466243\n",
      "LVA           TOT  USD_CAP  2020   31539.195384\n",
      "LTU           TOT  USD_CAP  2020   38958.857900\n",
      "SAU           TOT  USD_CAP  2020   46362.649888\n",
      "EA19          TOT  USD_CAP  2020   47207.114538\n",
      "CRI           TOT  USD_CAP  2020   22239.587759\n",
      "BGR           TOT  USD_CAP  2020   24626.059448\n",
      "HRV           TOT  USD_CAP  2020   29119.815227\n",
      "CYP           TOT  USD_CAP  2020   39857.619929\n",
      "MLT           TOT  USD_CAP  2020   44200.322498\n",
      "ROU           TOT  USD_CAP  2020   31875.149114\n",
      "EU27_2020     TOT  USD_CAP  2020   41584.642039\n",
      "LOCATION\n",
      "AUS           57137.316088\n",
      "AUT           55798.232644\n",
      "BEL           53298.605116\n",
      "CAN           46051.345148\n",
      "CZE           41684.610948\n",
      "DNK           60365.764867\n",
      "FIN           50608.165962\n",
      "FRA           46785.145261\n",
      "DEU           54954.916894\n",
      "GRC           27957.913164\n",
      "HUN           33142.547097\n",
      "ISL           53719.257503\n",
      "IRL           93638.605353\n",
      "ITA           41986.511434\n",
      "JPN           42441.605023\n",
      "KOR           45362.509562\n",
      "LUX          117958.365531\n",
      "MEX           19615.450657\n",
      "NLD           59388.026375\n",
      "NZL           44024.529841\n",
      "NOR           62776.571836\n",
      "POL           33948.534767\n",
      "PRT           34245.860530\n",
      "SVK           31409.414684\n",
      "ESP           37840.152330\n",
      "SWE           55148.580215\n",
      "CHE           71831.736102\n",
      "TUR           27602.526890\n",
      "GBR           46743.999172\n",
      "USA           63285.232257\n",
      "CHL           24354.759077\n",
      "COL           16126.784493\n",
      "EST           37735.307368\n",
      "ISR           40150.933835\n",
      "RUS           29808.317812\n",
      "SVN           39798.053356\n",
      "ZAF           12354.983737\n",
      "OECD          45181.548349\n",
      "OECDE         43931.466243\n",
      "LVA           31539.195384\n",
      "LTU           38958.857900\n",
      "SAU           46362.649888\n",
      "EA19          47207.114538\n",
      "CRI           22239.587759\n",
      "BGR           24626.059448\n",
      "HRV           29119.815227\n",
      "CYP           39857.619929\n",
      "MLT           44200.322498\n",
      "ROU           31875.149114\n",
      "EU27_2020     41584.642039\n",
      "Name: Values1, dtype: float64\n",
      "LOCATION\n",
      "AUS           57137.316088\n",
      "AUT           55798.232644\n",
      "BEL           53298.605116\n",
      "CAN           46051.345148\n",
      "CZE           41684.610948\n",
      "DNK           60365.764867\n",
      "FIN           50608.165962\n",
      "FRA           46785.145261\n",
      "DEU           54954.916894\n",
      "GRC           27957.913164\n",
      "HUN           33142.547097\n",
      "ISL           53719.257503\n",
      "IRL           93638.605353\n",
      "ITA           41986.511434\n",
      "JPN           42441.605023\n",
      "KOR           45362.509562\n",
      "LUX          117958.365531\n",
      "MEX           19615.450657\n",
      "NLD           59388.026375\n",
      "NZL           44024.529841\n",
      "NOR           62776.571836\n",
      "POL           33948.534767\n",
      "PRT           34245.860530\n",
      "SVK           31409.414684\n",
      "ESP           37840.152330\n",
      "SWE           55148.580215\n",
      "CHE           71831.736102\n",
      "TUR           27602.526890\n",
      "GBR           46743.999172\n",
      "USA           63285.232257\n",
      "CHL           24354.759077\n",
      "COL           16126.784493\n",
      "EST           37735.307368\n",
      "ISR           40150.933835\n",
      "RUS           29808.317812\n",
      "SVN           39798.053356\n",
      "ZAF           12354.983737\n",
      "OECD          45181.548349\n",
      "OECDE         43931.466243\n",
      "LVA           31539.195384\n",
      "LTU           38958.857900\n",
      "SAU           46362.649888\n",
      "EA19          47207.114538\n",
      "CRI           22239.587759\n",
      "BGR           24626.059448\n",
      "HRV           29119.815227\n",
      "CYP           39857.619929\n",
      "MLT           44200.322498\n",
      "ROU           31875.149114\n",
      "EU27_2020     41584.642039\n",
      "Name: Values1, dtype: float64\n"
     ]
    },
    {
     "data": {
      "application/vnd.plotly.v1+json": {
       "data": [
        {
         "hovertemplate": "LOCATION=AUS<br>Values1=%{x}<br>Values2=%{y}<extra></extra>",
         "legendgroup": "AUS",
         "marker": {
          "color": "#636efa",
          "symbol": "circle"
         },
         "mode": "markers",
         "name": "AUS",
         "orientation": "v",
         "showlegend": true,
         "x": [
          57137.316088
         ],
         "xaxis": "x",
         "y": [
          4.5658488
         ],
         "yaxis": "y",
         "type": "scatter"
        },
        {
         "hovertemplate": "LOCATION=AUS<extra></extra>",
         "legendgroup": "AUS",
         "marker": {
          "color": "#636efa",
          "symbol": "circle"
         },
         "mode": "lines",
         "name": "AUS",
         "showlegend": false,
         "xaxis": "x",
         "yaxis": "y",
         "type": "scatter"
        },
        {
         "hovertemplate": "LOCATION=AUT<br>Values1=%{x}<br>Values2=%{y}<extra></extra>",
         "legendgroup": "AUT",
         "marker": {
          "color": "#EF553B",
          "symbol": "circle"
         },
         "mode": "markers",
         "name": "AUT",
         "orientation": "v",
         "showlegend": true,
         "x": [
          55798.232644
         ],
         "xaxis": "x",
         "y": [
          3.1800914
         ],
         "yaxis": "y",
         "type": "scatter"
        },
        {
         "hovertemplate": "LOCATION=AUT<extra></extra>",
         "legendgroup": "AUT",
         "marker": {
          "color": "#EF553B",
          "symbol": "circle"
         },
         "mode": "lines",
         "name": "AUT",
         "showlegend": false,
         "xaxis": "x",
         "yaxis": "y",
         "type": "scatter"
        },
        {
         "hovertemplate": "LOCATION=BEL<br>Values1=%{x}<br>Values2=%{y}<extra></extra>",
         "legendgroup": "BEL",
         "marker": {
          "color": "#00cc96",
          "symbol": "circle"
         },
         "mode": "markers",
         "name": "BEL",
         "orientation": "v",
         "showlegend": true,
         "x": [
          53298.605116
         ],
         "xaxis": "x",
         "y": [
          3.1517932
         ],
         "yaxis": "y",
         "type": "scatter"
        },
        {
         "hovertemplate": "LOCATION=BEL<extra></extra>",
         "legendgroup": "BEL",
         "marker": {
          "color": "#00cc96",
          "symbol": "circle"
         },
         "mode": "lines",
         "name": "BEL",
         "showlegend": false,
         "xaxis": "x",
         "yaxis": "y",
         "type": "scatter"
        },
        {
         "hovertemplate": "LOCATION=CAN<br>Values1=%{x}<br>Values2=%{y}<extra></extra>",
         "legendgroup": "CAN",
         "marker": {
          "color": "#ab63fa",
          "symbol": "circle"
         },
         "mode": "markers",
         "name": "CAN",
         "orientation": "v",
         "showlegend": true,
         "x": [
          46051.345148
         ],
         "xaxis": "x",
         "y": [
          6.6881471
         ],
         "yaxis": "y",
         "type": "scatter"
        },
        {
         "hovertemplate": "LOCATION=CAN<extra></extra>",
         "legendgroup": "CAN",
         "marker": {
          "color": "#ab63fa",
          "symbol": "circle"
         },
         "mode": "lines",
         "name": "CAN",
         "showlegend": false,
         "xaxis": "x",
         "yaxis": "y",
         "type": "scatter"
        },
        {
         "hovertemplate": "LOCATION=CZE<br>Values1=%{x}<br>Values2=%{y}<extra></extra>",
         "legendgroup": "CZE",
         "marker": {
          "color": "#FFA15A",
          "symbol": "circle"
         },
         "mode": "markers",
         "name": "CZE",
         "orientation": "v",
         "showlegend": true,
         "x": [
          41684.610948
         ],
         "xaxis": "x",
         "y": [
          1.3989693
         ],
         "yaxis": "y",
         "type": "scatter"
        },
        {
         "hovertemplate": "LOCATION=CZE<extra></extra>",
         "legendgroup": "CZE",
         "marker": {
          "color": "#FFA15A",
          "symbol": "circle"
         },
         "mode": "lines",
         "name": "CZE",
         "showlegend": false,
         "xaxis": "x",
         "yaxis": "y",
         "type": "scatter"
        },
        {
         "hovertemplate": "LOCATION=DNK<br>Values1=%{x}<br>Values2=%{y}<extra></extra>",
         "legendgroup": "DNK",
         "marker": {
          "color": "#19d3f3",
          "symbol": "circle"
         },
         "mode": "markers",
         "name": "DNK",
         "orientation": "v",
         "showlegend": true,
         "x": [
          60365.764867
         ],
         "xaxis": "x",
         "y": [
          4.1247706
         ],
         "yaxis": "y",
         "type": "scatter"
        },
        {
         "hovertemplate": "LOCATION=DNK<extra></extra>",
         "legendgroup": "DNK",
         "marker": {
          "color": "#19d3f3",
          "symbol": "circle"
         },
         "mode": "lines",
         "name": "DNK",
         "showlegend": false,
         "xaxis": "x",
         "yaxis": "y",
         "type": "scatter"
        },
        {
         "hovertemplate": "LOCATION=FIN<br>Values1=%{x}<br>Values2=%{y}<extra></extra>",
         "legendgroup": "FIN",
         "marker": {
          "color": "#FF6692",
          "symbol": "circle"
         },
         "mode": "markers",
         "name": "FIN",
         "orientation": "v",
         "showlegend": true,
         "x": [
          50608.165962
         ],
         "xaxis": "x",
         "y": [
          4.2009883
         ],
         "yaxis": "y",
         "type": "scatter"
        },
        {
         "hovertemplate": "LOCATION=FIN<extra></extra>",
         "legendgroup": "FIN",
         "marker": {
          "color": "#FF6692",
          "symbol": "circle"
         },
         "mode": "lines",
         "name": "FIN",
         "showlegend": false,
         "xaxis": "x",
         "yaxis": "y",
         "type": "scatter"
        },
        {
         "hovertemplate": "LOCATION=FRA<br>Values1=%{x}<br>Values2=%{y}<extra></extra>",
         "legendgroup": "FRA",
         "marker": {
          "color": "#B6E880",
          "symbol": "circle"
         },
         "mode": "markers",
         "name": "FRA",
         "orientation": "v",
         "showlegend": true,
         "x": [
          46785.145261
         ],
         "xaxis": "x",
         "y": [
          4.6870036
         ],
         "yaxis": "y",
         "type": "scatter"
        },
        {
         "hovertemplate": "LOCATION=FRA<extra></extra>",
         "legendgroup": "FRA",
         "marker": {
          "color": "#B6E880",
          "symbol": "circle"
         },
         "mode": "lines",
         "name": "FRA",
         "showlegend": false,
         "xaxis": "x",
         "yaxis": "y",
         "type": "scatter"
        },
        {
         "hovertemplate": "LOCATION=DEU<br>Values1=%{x}<br>Values2=%{y}<extra></extra>",
         "legendgroup": "DEU",
         "marker": {
          "color": "#FF97FF",
          "symbol": "circle"
         },
         "mode": "markers",
         "name": "DEU",
         "orientation": "v",
         "showlegend": true,
         "x": [
          54954.916894
         ],
         "xaxis": "x",
         "y": [
          2.5000439
         ],
         "yaxis": "y",
         "type": "scatter"
        },
        {
         "hovertemplate": "LOCATION=DEU<extra></extra>",
         "legendgroup": "DEU",
         "marker": {
          "color": "#FF97FF",
          "symbol": "circle"
         },
         "mode": "lines",
         "name": "DEU",
         "showlegend": false,
         "xaxis": "x",
         "yaxis": "y",
         "type": "scatter"
        },
        {
         "hovertemplate": "LOCATION=GRC<br>Values1=%{x}<br>Values2=%{y}<extra></extra>",
         "legendgroup": "GRC",
         "marker": {
          "color": "#FECB52",
          "symbol": "circle"
         },
         "mode": "markers",
         "name": "GRC",
         "orientation": "v",
         "showlegend": true,
         "x": [
          27957.913164
         ],
         "xaxis": "x",
         "y": [
          11.521603
         ],
         "yaxis": "y",
         "type": "scatter"
        },
        {
         "hovertemplate": "LOCATION=GRC<extra></extra>",
         "legendgroup": "GRC",
         "marker": {
          "color": "#FECB52",
          "symbol": "circle"
         },
         "mode": "lines",
         "name": "GRC",
         "showlegend": false,
         "xaxis": "x",
         "yaxis": "y",
         "type": "scatter"
        },
        {
         "hovertemplate": "LOCATION=HUN<br>Values1=%{x}<br>Values2=%{y}<extra></extra>",
         "legendgroup": "HUN",
         "marker": {
          "color": "#636efa",
          "symbol": "circle"
         },
         "mode": "markers",
         "name": "HUN",
         "orientation": "v",
         "showlegend": true,
         "x": [
          33142.547097
         ],
         "xaxis": "x",
         "y": [
          1.7294272
         ],
         "yaxis": "y",
         "type": "scatter"
        },
        {
         "hovertemplate": "LOCATION=HUN<extra></extra>",
         "legendgroup": "HUN",
         "marker": {
          "color": "#636efa",
          "symbol": "circle"
         },
         "mode": "lines",
         "name": "HUN",
         "showlegend": false,
         "xaxis": "x",
         "yaxis": "y",
         "type": "scatter"
        },
        {
         "hovertemplate": "LOCATION=ISL<br>Values1=%{x}<br>Values2=%{y}<extra></extra>",
         "legendgroup": "ISL",
         "marker": {
          "color": "#EF553B",
          "symbol": "circle"
         },
         "mode": "markers",
         "name": "ISL",
         "orientation": "v",
         "showlegend": true,
         "x": [
          53719.257503
         ],
         "xaxis": "x",
         "y": [
          4.4369426
         ],
         "yaxis": "y",
         "type": "scatter"
        },
        {
         "hovertemplate": "LOCATION=ISL<extra></extra>",
         "legendgroup": "ISL",
         "marker": {
          "color": "#EF553B",
          "symbol": "circle"
         },
         "mode": "lines",
         "name": "ISL",
         "showlegend": false,
         "xaxis": "x",
         "yaxis": "y",
         "type": "scatter"
        },
        {
         "hovertemplate": "LOCATION=IRL<br>Values1=%{x}<br>Values2=%{y}<extra></extra>",
         "legendgroup": "IRL",
         "marker": {
          "color": "#00cc96",
          "symbol": "circle"
         },
         "mode": "markers",
         "name": "IRL",
         "orientation": "v",
         "showlegend": true,
         "x": [
          93638.605353
         ],
         "xaxis": "x",
         "y": [
          3.6649835
         ],
         "yaxis": "y",
         "type": "scatter"
        },
        {
         "hovertemplate": "LOCATION=IRL<extra></extra>",
         "legendgroup": "IRL",
         "marker": {
          "color": "#00cc96",
          "symbol": "circle"
         },
         "mode": "lines",
         "name": "IRL",
         "showlegend": false,
         "xaxis": "x",
         "yaxis": "y",
         "type": "scatter"
        },
        {
         "hovertemplate": "LOCATION=ITA<br>Values1=%{x}<br>Values2=%{y}<extra></extra>",
         "legendgroup": "ITA",
         "marker": {
          "color": "#ab63fa",
          "symbol": "circle"
         },
         "mode": "markers",
         "name": "ITA",
         "orientation": "v",
         "showlegend": true,
         "x": [
          41986.511434
         ],
         "xaxis": "x",
         "y": [
          5.1372938
         ],
         "yaxis": "y",
         "type": "scatter"
        },
        {
         "hovertemplate": "LOCATION=ITA<extra></extra>",
         "legendgroup": "ITA",
         "marker": {
          "color": "#ab63fa",
          "symbol": "circle"
         },
         "mode": "lines",
         "name": "ITA",
         "showlegend": false,
         "xaxis": "x",
         "yaxis": "y",
         "type": "scatter"
        },
        {
         "hovertemplate": "LOCATION=JPN<br>Values1=%{x}<br>Values2=%{y}<extra></extra>",
         "legendgroup": "JPN",
         "marker": {
          "color": "#FFA15A",
          "symbol": "circle"
         },
         "mode": "markers",
         "name": "JPN",
         "orientation": "v",
         "showlegend": true,
         "x": [
          42441.605023
         ],
         "xaxis": "x",
         "y": [
          null
         ],
         "yaxis": "y",
         "type": "scatter"
        },
        {
         "hovertemplate": "LOCATION=JPN<extra></extra>",
         "legendgroup": "JPN",
         "marker": {
          "color": "#FFA15A",
          "symbol": "circle"
         },
         "mode": "lines",
         "name": "JPN",
         "showlegend": false,
         "xaxis": "x",
         "yaxis": "y",
         "type": "scatter"
        },
        {
         "hovertemplate": "LOCATION=KOR<br>Values1=%{x}<br>Values2=%{y}<extra></extra>",
         "legendgroup": "KOR",
         "marker": {
          "color": "#19d3f3",
          "symbol": "circle"
         },
         "mode": "markers",
         "name": "KOR",
         "orientation": "v",
         "showlegend": true,
         "x": [
          45362.509562
         ],
         "xaxis": "x",
         "y": [
          3.2222047
         ],
         "yaxis": "y",
         "type": "scatter"
        },
        {
         "hovertemplate": "LOCATION=KOR<extra></extra>",
         "legendgroup": "KOR",
         "marker": {
          "color": "#19d3f3",
          "symbol": "circle"
         },
         "mode": "lines",
         "name": "KOR",
         "showlegend": false,
         "xaxis": "x",
         "yaxis": "y",
         "type": "scatter"
        },
        {
         "hovertemplate": "LOCATION=LUX<br>Values1=%{x}<br>Values2=%{y}<extra></extra>",
         "legendgroup": "LUX",
         "marker": {
          "color": "#FF6692",
          "symbol": "circle"
         },
         "mode": "markers",
         "name": "LUX",
         "orientation": "v",
         "showlegend": true,
         "x": [
          117958.365531
         ],
         "xaxis": "x",
         "y": [
          4.6244717
         ],
         "yaxis": "y",
         "type": "scatter"
        },
        {
         "hovertemplate": "LOCATION=LUX<extra></extra>",
         "legendgroup": "LUX",
         "marker": {
          "color": "#FF6692",
          "symbol": "circle"
         },
         "mode": "lines",
         "name": "LUX",
         "showlegend": false,
         "xaxis": "x",
         "yaxis": "y",
         "type": "scatter"
        },
        {
         "hovertemplate": "LOCATION=MEX<br>Values1=%{x}<br>Values2=%{y}<extra></extra>",
         "legendgroup": "MEX",
         "marker": {
          "color": "#B6E880",
          "symbol": "circle"
         },
         "mode": "markers",
         "name": "MEX",
         "orientation": "v",
         "showlegend": true,
         "x": [
          19615.450657
         ],
         "xaxis": "x",
         "y": [
          4.7256651
         ],
         "yaxis": "y",
         "type": "scatter"
        },
        {
         "hovertemplate": "LOCATION=MEX<extra></extra>",
         "legendgroup": "MEX",
         "marker": {
          "color": "#B6E880",
          "symbol": "circle"
         },
         "mode": "lines",
         "name": "MEX",
         "showlegend": false,
         "xaxis": "x",
         "yaxis": "y",
         "type": "scatter"
        },
        {
         "hovertemplate": "LOCATION=NLD<br>Values1=%{x}<br>Values2=%{y}<extra></extra>",
         "legendgroup": "NLD",
         "marker": {
          "color": "#FF97FF",
          "symbol": "circle"
         },
         "mode": "markers",
         "name": "NLD",
         "orientation": "v",
         "showlegend": true,
         "x": [
          59388.026375
         ],
         "xaxis": "x",
         "y": [
          2.3544347
         ],
         "yaxis": "y",
         "type": "scatter"
        },
        {
         "hovertemplate": "LOCATION=NLD<extra></extra>",
         "legendgroup": "NLD",
         "marker": {
          "color": "#FF97FF",
          "symbol": "circle"
         },
         "mode": "lines",
         "name": "NLD",
         "showlegend": false,
         "xaxis": "x",
         "yaxis": "y",
         "type": "scatter"
        },
        {
         "hovertemplate": "LOCATION=NZL<br>Values1=%{x}<br>Values2=%{y}<extra></extra>",
         "legendgroup": "NZL",
         "marker": {
          "color": "#FECB52",
          "symbol": "circle"
         },
         "mode": "markers",
         "name": "NZL",
         "orientation": "v",
         "showlegend": true,
         "x": [
          44024.529841
         ],
         "xaxis": "x",
         "y": [
          2.6552417
         ],
         "yaxis": "y",
         "type": "scatter"
        },
        {
         "hovertemplate": "LOCATION=NZL<extra></extra>",
         "legendgroup": "NZL",
         "marker": {
          "color": "#FECB52",
          "symbol": "circle"
         },
         "mode": "lines",
         "name": "NZL",
         "showlegend": false,
         "xaxis": "x",
         "yaxis": "y",
         "type": "scatter"
        },
        {
         "hovertemplate": "LOCATION=NOR<br>Values1=%{x}<br>Values2=%{y}<extra></extra>",
         "legendgroup": "NOR",
         "marker": {
          "color": "#636efa",
          "symbol": "circle"
         },
         "mode": "markers",
         "name": "NOR",
         "orientation": "v",
         "showlegend": true,
         "x": [
          62776.571836
         ],
         "xaxis": "x",
         "y": [
          2.6420789
         ],
         "yaxis": "y",
         "type": "scatter"
        },
        {
         "hovertemplate": "LOCATION=NOR<extra></extra>",
         "legendgroup": "NOR",
         "marker": {
          "color": "#636efa",
          "symbol": "circle"
         },
         "mode": "lines",
         "name": "NOR",
         "showlegend": false,
         "xaxis": "x",
         "yaxis": "y",
         "type": "scatter"
        },
        {
         "hovertemplate": "LOCATION=POL<br>Values1=%{x}<br>Values2=%{y}<extra></extra>",
         "legendgroup": "POL",
         "marker": {
          "color": "#EF553B",
          "symbol": "circle"
         },
         "mode": "markers",
         "name": "POL",
         "orientation": "v",
         "showlegend": true,
         "x": [
          33948.534767
         ],
         "xaxis": "x",
         "y": [
          1.7927181
         ],
         "yaxis": "y",
         "type": "scatter"
        },
        {
         "hovertemplate": "LOCATION=POL<extra></extra>",
         "legendgroup": "POL",
         "marker": {
          "color": "#EF553B",
          "symbol": "circle"
         },
         "mode": "lines",
         "name": "POL",
         "showlegend": false,
         "xaxis": "x",
         "yaxis": "y",
         "type": "scatter"
        },
        {
         "hovertemplate": "LOCATION=PRT<br>Values1=%{x}<br>Values2=%{y}<extra></extra>",
         "legendgroup": "PRT",
         "marker": {
          "color": "#00cc96",
          "symbol": "circle"
         },
         "mode": "markers",
         "name": "PRT",
         "orientation": "v",
         "showlegend": true,
         "x": [
          34245.86053
         ],
         "xaxis": "x",
         "y": [
          5.0720205
         ],
         "yaxis": "y",
         "type": "scatter"
        },
        {
         "hovertemplate": "LOCATION=PRT<extra></extra>",
         "legendgroup": "PRT",
         "marker": {
          "color": "#00cc96",
          "symbol": "circle"
         },
         "mode": "lines",
         "name": "PRT",
         "showlegend": false,
         "xaxis": "x",
         "yaxis": "y",
         "type": "scatter"
        },
        {
         "hovertemplate": "LOCATION=SVK<br>Values1=%{x}<br>Values2=%{y}<extra></extra>",
         "legendgroup": "SVK",
         "marker": {
          "color": "#ab63fa",
          "symbol": "circle"
         },
         "mode": "markers",
         "name": "SVK",
         "orientation": "v",
         "showlegend": true,
         "x": [
          31409.414684
         ],
         "xaxis": "x",
         "y": [
          3.2723906
         ],
         "yaxis": "y",
         "type": "scatter"
        },
        {
         "hovertemplate": "LOCATION=SVK<extra></extra>",
         "legendgroup": "SVK",
         "marker": {
          "color": "#ab63fa",
          "symbol": "circle"
         },
         "mode": "lines",
         "name": "SVK",
         "showlegend": false,
         "xaxis": "x",
         "yaxis": "y",
         "type": "scatter"
        },
        {
         "hovertemplate": "LOCATION=ESP<br>Values1=%{x}<br>Values2=%{y}<extra></extra>",
         "legendgroup": "ESP",
         "marker": {
          "color": "#FFA15A",
          "symbol": "circle"
         },
         "mode": "markers",
         "name": "ESP",
         "orientation": "v",
         "showlegend": true,
         "x": [
          37840.15233
         ],
         "xaxis": "x",
         "y": [
          9.5388842
         ],
         "yaxis": "y",
         "type": "scatter"
        },
        {
         "hovertemplate": "LOCATION=ESP<extra></extra>",
         "legendgroup": "ESP",
         "marker": {
          "color": "#FFA15A",
          "symbol": "circle"
         },
         "mode": "lines",
         "name": "ESP",
         "showlegend": false,
         "xaxis": "x",
         "yaxis": "y",
         "type": "scatter"
        },
        {
         "hovertemplate": "LOCATION=SWE<br>Values1=%{x}<br>Values2=%{y}<extra></extra>",
         "legendgroup": "SWE",
         "marker": {
          "color": "#19d3f3",
          "symbol": "circle"
         },
         "mode": "markers",
         "name": "SWE",
         "orientation": "v",
         "showlegend": true,
         "x": [
          55148.580215
         ],
         "xaxis": "x",
         "y": [
          4.5763707
         ],
         "yaxis": "y",
         "type": "scatter"
        },
        {
         "hovertemplate": "LOCATION=SWE<extra></extra>",
         "legendgroup": "SWE",
         "marker": {
          "color": "#19d3f3",
          "symbol": "circle"
         },
         "mode": "lines",
         "name": "SWE",
         "showlegend": false,
         "xaxis": "x",
         "yaxis": "y",
         "type": "scatter"
        },
        {
         "hovertemplate": "LOCATION=CHE<br>Values1=%{x}<br>Values2=%{y}<extra></extra>",
         "legendgroup": "CHE",
         "marker": {
          "color": "#FF6692",
          "symbol": "circle"
         },
         "mode": "markers",
         "name": "CHE",
         "orientation": "v",
         "showlegend": true,
         "x": [
          71831.736102
         ],
         "xaxis": "x",
         "y": [
          3.518003
         ],
         "yaxis": "y",
         "type": "scatter"
        },
        {
         "hovertemplate": "LOCATION=CHE<extra></extra>",
         "legendgroup": "CHE",
         "marker": {
          "color": "#FF6692",
          "symbol": "circle"
         },
         "mode": "lines",
         "name": "CHE",
         "showlegend": false,
         "xaxis": "x",
         "yaxis": "y",
         "type": "scatter"
        },
        {
         "hovertemplate": "LOCATION=TUR<br>Values1=%{x}<br>Values2=%{y}<extra></extra>",
         "legendgroup": "TUR",
         "marker": {
          "color": "#B6E880",
          "symbol": "circle"
         },
         "mode": "markers",
         "name": "TUR",
         "orientation": "v",
         "showlegend": true,
         "x": [
          27602.52689
         ],
         "xaxis": "x",
         "y": [
          null
         ],
         "yaxis": "y",
         "type": "scatter"
        },
        {
         "hovertemplate": "LOCATION=TUR<extra></extra>",
         "legendgroup": "TUR",
         "marker": {
          "color": "#B6E880",
          "symbol": "circle"
         },
         "mode": "lines",
         "name": "TUR",
         "showlegend": false,
         "xaxis": "x",
         "yaxis": "y",
         "type": "scatter"
        },
        {
         "hovertemplate": "LOCATION=GBR<br>Values1=%{x}<br>Values2=%{y}<extra></extra>",
         "legendgroup": "GBR",
         "marker": {
          "color": "#FF97FF",
          "symbol": "circle"
         },
         "mode": "markers",
         "name": "GBR",
         "orientation": "v",
         "showlegend": true,
         "x": [
          46743.999172
         ],
         "xaxis": "x",
         "y": [
          2.719964
         ],
         "yaxis": "y",
         "type": "scatter"
        },
        {
         "hovertemplate": "LOCATION=GBR<extra></extra>",
         "legendgroup": "GBR",
         "marker": {
          "color": "#FF97FF",
          "symbol": "circle"
         },
         "mode": "lines",
         "name": "GBR",
         "showlegend": false,
         "xaxis": "x",
         "yaxis": "y",
         "type": "scatter"
        },
        {
         "hovertemplate": "LOCATION=USA<br>Values1=%{x}<br>Values2=%{y}<extra></extra>",
         "legendgroup": "USA",
         "marker": {
          "color": "#FECB52",
          "symbol": "circle"
         },
         "mode": "markers",
         "name": "USA",
         "orientation": "v",
         "showlegend": true,
         "x": [
          63285.232257
         ],
         "xaxis": "x",
         "y": [
          3.131109
         ],
         "yaxis": "y",
         "type": "scatter"
        },
        {
         "hovertemplate": "LOCATION=USA<extra></extra>",
         "legendgroup": "USA",
         "marker": {
          "color": "#FECB52",
          "symbol": "circle"
         },
         "mode": "lines",
         "name": "USA",
         "showlegend": false,
         "xaxis": "x",
         "yaxis": "y",
         "type": "scatter"
        },
        {
         "hovertemplate": "LOCATION=CHL<br>Values1=%{x}<br>Values2=%{y}<extra></extra>",
         "legendgroup": "CHL",
         "marker": {
          "color": "#636efa",
          "symbol": "circle"
         },
         "mode": "markers",
         "name": "CHL",
         "orientation": "v",
         "showlegend": true,
         "x": [
          24354.759077
         ],
         "xaxis": "x",
         "y": [
          null
         ],
         "yaxis": "y",
         "type": "scatter"
        },
        {
         "hovertemplate": "LOCATION=CHL<extra></extra>",
         "legendgroup": "CHL",
         "marker": {
          "color": "#636efa",
          "symbol": "circle"
         },
         "mode": "lines",
         "name": "CHL",
         "showlegend": false,
         "xaxis": "x",
         "yaxis": "y",
         "type": "scatter"
        },
        {
         "hovertemplate": "LOCATION=COL<br>Values1=%{x}<br>Values2=%{y}<extra></extra>",
         "legendgroup": "COL",
         "marker": {
          "color": "#EF553B",
          "symbol": "circle"
         },
         "mode": "markers",
         "name": "COL",
         "orientation": "v",
         "showlegend": true,
         "x": [
          16126.784493
         ],
         "xaxis": "x",
         "y": [
          14.626184
         ],
         "yaxis": "y",
         "type": "scatter"
        },
        {
         "hovertemplate": "LOCATION=COL<extra></extra>",
         "legendgroup": "COL",
         "marker": {
          "color": "#EF553B",
          "symbol": "circle"
         },
         "mode": "lines",
         "name": "COL",
         "showlegend": false,
         "xaxis": "x",
         "yaxis": "y",
         "type": "scatter"
        },
        {
         "hovertemplate": "LOCATION=EST<br>Values1=%{x}<br>Values2=%{y}<extra></extra>",
         "legendgroup": "EST",
         "marker": {
          "color": "#00cc96",
          "symbol": "circle"
         },
         "mode": "markers",
         "name": "EST",
         "orientation": "v",
         "showlegend": true,
         "x": [
          37735.307368
         ],
         "xaxis": "x",
         "y": [
          4.6543674
         ],
         "yaxis": "y",
         "type": "scatter"
        },
        {
         "hovertemplate": "LOCATION=EST<extra></extra>",
         "legendgroup": "EST",
         "marker": {
          "color": "#00cc96",
          "symbol": "circle"
         },
         "mode": "lines",
         "name": "EST",
         "showlegend": false,
         "xaxis": "x",
         "yaxis": "y",
         "type": "scatter"
        },
        {
         "hovertemplate": "LOCATION=ISR<br>Values1=%{x}<br>Values2=%{y}<extra></extra>",
         "legendgroup": "ISR",
         "marker": {
          "color": "#ab63fa",
          "symbol": "circle"
         },
         "mode": "markers",
         "name": "ISR",
         "orientation": "v",
         "showlegend": true,
         "x": [
          40150.933835
         ],
         "xaxis": "x",
         "y": [
          3.1695001
         ],
         "yaxis": "y",
         "type": "scatter"
        },
        {
         "hovertemplate": "LOCATION=ISR<extra></extra>",
         "legendgroup": "ISR",
         "marker": {
          "color": "#ab63fa",
          "symbol": "circle"
         },
         "mode": "lines",
         "name": "ISR",
         "showlegend": false,
         "xaxis": "x",
         "yaxis": "y",
         "type": "scatter"
        },
        {
         "hovertemplate": "LOCATION=RUS<br>Values1=%{x}<br>Values2=%{y}<extra></extra>",
         "legendgroup": "RUS",
         "marker": {
          "color": "#FFA15A",
          "symbol": "circle"
         },
         "mode": "markers",
         "name": "RUS",
         "orientation": "v",
         "showlegend": true,
         "x": [
          29808.317812
         ],
         "xaxis": "x",
         "y": [
          null
         ],
         "yaxis": "y",
         "type": "scatter"
        },
        {
         "hovertemplate": "LOCATION=RUS<extra></extra>",
         "legendgroup": "RUS",
         "marker": {
          "color": "#FFA15A",
          "symbol": "circle"
         },
         "mode": "lines",
         "name": "RUS",
         "showlegend": false,
         "xaxis": "x",
         "yaxis": "y",
         "type": "scatter"
        },
        {
         "hovertemplate": "LOCATION=SVN<br>Values1=%{x}<br>Values2=%{y}<extra></extra>",
         "legendgroup": "SVN",
         "marker": {
          "color": "#19d3f3",
          "symbol": "circle"
         },
         "mode": "markers",
         "name": "SVN",
         "orientation": "v",
         "showlegend": true,
         "x": [
          39798.053356
         ],
         "xaxis": "x",
         "y": [
          2.996057
         ],
         "yaxis": "y",
         "type": "scatter"
        },
        {
         "hovertemplate": "LOCATION=SVN<extra></extra>",
         "legendgroup": "SVN",
         "marker": {
          "color": "#19d3f3",
          "symbol": "circle"
         },
         "mode": "lines",
         "name": "SVN",
         "showlegend": false,
         "xaxis": "x",
         "yaxis": "y",
         "type": "scatter"
        },
        {
         "hovertemplate": "LOCATION=ZAF<br>Values1=%{x}<br>Values2=%{y}<extra></extra>",
         "legendgroup": "ZAF",
         "marker": {
          "color": "#FF6692",
          "symbol": "circle"
         },
         "mode": "markers",
         "name": "ZAF",
         "orientation": "v",
         "showlegend": true,
         "x": [
          12354.983737
         ],
         "xaxis": "x",
         "y": [
          13.041055
         ],
         "yaxis": "y",
         "type": "scatter"
        },
        {
         "hovertemplate": "LOCATION=ZAF<extra></extra>",
         "legendgroup": "ZAF",
         "marker": {
          "color": "#FF6692",
          "symbol": "circle"
         },
         "mode": "lines",
         "name": "ZAF",
         "showlegend": false,
         "xaxis": "x",
         "yaxis": "y",
         "type": "scatter"
        },
        {
         "hovertemplate": "LOCATION=OECD<br>Values1=%{x}<br>Values2=%{y}<extra></extra>",
         "legendgroup": "OECD",
         "marker": {
          "color": "#B6E880",
          "symbol": "circle"
         },
         "mode": "markers",
         "name": "OECD",
         "orientation": "v",
         "showlegend": true,
         "x": [
          45181.548349
         ],
         "xaxis": "x",
         "y": [
          null
         ],
         "yaxis": "y",
         "type": "scatter"
        },
        {
         "hovertemplate": "LOCATION=OECD<extra></extra>",
         "legendgroup": "OECD",
         "marker": {
          "color": "#B6E880",
          "symbol": "circle"
         },
         "mode": "lines",
         "name": "OECD",
         "showlegend": false,
         "xaxis": "x",
         "yaxis": "y",
         "type": "scatter"
        },
        {
         "hovertemplate": "LOCATION=OECDE<br>Values1=%{x}<br>Values2=%{y}<extra></extra>",
         "legendgroup": "OECDE",
         "marker": {
          "color": "#FF97FF",
          "symbol": "circle"
         },
         "mode": "markers",
         "name": "OECDE",
         "orientation": "v",
         "showlegend": true,
         "x": [
          43931.466243
         ],
         "xaxis": "x",
         "y": [
          null
         ],
         "yaxis": "y",
         "type": "scatter"
        },
        {
         "hovertemplate": "LOCATION=OECDE<extra></extra>",
         "legendgroup": "OECDE",
         "marker": {
          "color": "#FF97FF",
          "symbol": "circle"
         },
         "mode": "lines",
         "name": "OECDE",
         "showlegend": false,
         "xaxis": "x",
         "yaxis": "y",
         "type": "scatter"
        },
        {
         "hovertemplate": "LOCATION=LVA<br>Values1=%{x}<br>Values2=%{y}<extra></extra>",
         "legendgroup": "LVA",
         "marker": {
          "color": "#FECB52",
          "symbol": "circle"
         },
         "mode": "markers",
         "name": "LVA",
         "orientation": "v",
         "showlegend": true,
         "x": [
          31539.195384
         ],
         "xaxis": "x",
         "y": [
          5.1608315
         ],
         "yaxis": "y",
         "type": "scatter"
        },
        {
         "hovertemplate": "LOCATION=LVA<extra></extra>",
         "legendgroup": "LVA",
         "marker": {
          "color": "#FECB52",
          "symbol": "circle"
         },
         "mode": "lines",
         "name": "LVA",
         "showlegend": false,
         "xaxis": "x",
         "yaxis": "y",
         "type": "scatter"
        },
        {
         "hovertemplate": "LOCATION=LTU<br>Values1=%{x}<br>Values2=%{y}<extra></extra>",
         "legendgroup": "LTU",
         "marker": {
          "color": "#636efa",
          "symbol": "circle"
         },
         "mode": "markers",
         "name": "LTU",
         "orientation": "v",
         "showlegend": true,
         "x": [
          38958.8579
         ],
         "xaxis": "x",
         "y": [
          4.0719481
         ],
         "yaxis": "y",
         "type": "scatter"
        },
        {
         "hovertemplate": "LOCATION=LTU<extra></extra>",
         "legendgroup": "LTU",
         "marker": {
          "color": "#636efa",
          "symbol": "circle"
         },
         "mode": "lines",
         "name": "LTU",
         "showlegend": false,
         "xaxis": "x",
         "yaxis": "y",
         "type": "scatter"
        },
        {
         "hovertemplate": "LOCATION=SAU<br>Values1=%{x}<br>Values2=%{y}<extra></extra>",
         "legendgroup": "SAU",
         "marker": {
          "color": "#EF553B",
          "symbol": "circle"
         },
         "mode": "markers",
         "name": "SAU",
         "orientation": "v",
         "showlegend": true,
         "x": [
          46362.649888
         ],
         "xaxis": "x",
         "y": [
          null
         ],
         "yaxis": "y",
         "type": "scatter"
        },
        {
         "hovertemplate": "LOCATION=SAU<extra></extra>",
         "legendgroup": "SAU",
         "marker": {
          "color": "#EF553B",
          "symbol": "circle"
         },
         "mode": "lines",
         "name": "SAU",
         "showlegend": false,
         "xaxis": "x",
         "yaxis": "y",
         "type": "scatter"
        },
        {
         "hovertemplate": "LOCATION=EA19<br>Values1=%{x}<br>Values2=%{y}<extra></extra>",
         "legendgroup": "EA19",
         "marker": {
          "color": "#00cc96",
          "symbol": "circle"
         },
         "mode": "markers",
         "name": "EA19",
         "orientation": "v",
         "showlegend": true,
         "x": [
          47207.114538
         ],
         "xaxis": "x",
         "y": [
          null
         ],
         "yaxis": "y",
         "type": "scatter"
        },
        {
         "hovertemplate": "LOCATION=EA19<extra></extra>",
         "legendgroup": "EA19",
         "marker": {
          "color": "#00cc96",
          "symbol": "circle"
         },
         "mode": "lines",
         "name": "EA19",
         "showlegend": false,
         "xaxis": "x",
         "yaxis": "y",
         "type": "scatter"
        },
        {
         "hovertemplate": "LOCATION=CRI<br>Values1=%{x}<br>Values2=%{y}<extra></extra>",
         "legendgroup": "CRI",
         "marker": {
          "color": "#ab63fa",
          "symbol": "circle"
         },
         "mode": "markers",
         "name": "CRI",
         "orientation": "v",
         "showlegend": true,
         "x": [
          22239.587759
         ],
         "xaxis": "x",
         "y": [
          11.682704
         ],
         "yaxis": "y",
         "type": "scatter"
        },
        {
         "hovertemplate": "LOCATION=CRI<extra></extra>",
         "legendgroup": "CRI",
         "marker": {
          "color": "#ab63fa",
          "symbol": "circle"
         },
         "mode": "lines",
         "name": "CRI",
         "showlegend": false,
         "xaxis": "x",
         "yaxis": "y",
         "type": "scatter"
        },
        {
         "hovertemplate": "LOCATION=BGR<br>Values1=%{x}<br>Values2=%{y}<extra></extra>",
         "legendgroup": "BGR",
         "marker": {
          "color": "#FFA15A",
          "symbol": "circle"
         },
         "mode": "markers",
         "name": "BGR",
         "orientation": "v",
         "showlegend": true,
         "x": [
          24626.059448
         ],
         "xaxis": "x",
         "y": [
          null
         ],
         "yaxis": "y",
         "type": "scatter"
        },
        {
         "hovertemplate": "LOCATION=BGR<extra></extra>",
         "legendgroup": "BGR",
         "marker": {
          "color": "#FFA15A",
          "symbol": "circle"
         },
         "mode": "lines",
         "name": "BGR",
         "showlegend": false,
         "xaxis": "x",
         "yaxis": "y",
         "type": "scatter"
        },
        {
         "hovertemplate": "LOCATION=HRV<br>Values1=%{x}<br>Values2=%{y}<extra></extra>",
         "legendgroup": "HRV",
         "marker": {
          "color": "#19d3f3",
          "symbol": "circle"
         },
         "mode": "markers",
         "name": "HRV",
         "orientation": "v",
         "showlegend": true,
         "x": [
          29119.815227
         ],
         "xaxis": "x",
         "y": [
          null
         ],
         "yaxis": "y",
         "type": "scatter"
        },
        {
         "hovertemplate": "LOCATION=HRV<extra></extra>",
         "legendgroup": "HRV",
         "marker": {
          "color": "#19d3f3",
          "symbol": "circle"
         },
         "mode": "lines",
         "name": "HRV",
         "showlegend": false,
         "xaxis": "x",
         "yaxis": "y",
         "type": "scatter"
        },
        {
         "hovertemplate": "LOCATION=CYP<br>Values1=%{x}<br>Values2=%{y}<extra></extra>",
         "legendgroup": "CYP",
         "marker": {
          "color": "#FF6692",
          "symbol": "circle"
         },
         "mode": "markers",
         "name": "CYP",
         "orientation": "v",
         "showlegend": true,
         "x": [
          39857.619929
         ],
         "xaxis": "x",
         "y": [
          null
         ],
         "yaxis": "y",
         "type": "scatter"
        },
        {
         "hovertemplate": "LOCATION=CYP<extra></extra>",
         "legendgroup": "CYP",
         "marker": {
          "color": "#FF6692",
          "symbol": "circle"
         },
         "mode": "lines",
         "name": "CYP",
         "showlegend": false,
         "xaxis": "x",
         "yaxis": "y",
         "type": "scatter"
        },
        {
         "hovertemplate": "LOCATION=MLT<br>Values1=%{x}<br>Values2=%{y}<extra></extra>",
         "legendgroup": "MLT",
         "marker": {
          "color": "#B6E880",
          "symbol": "circle"
         },
         "mode": "markers",
         "name": "MLT",
         "orientation": "v",
         "showlegend": true,
         "x": [
          44200.322498
         ],
         "xaxis": "x",
         "y": [
          null
         ],
         "yaxis": "y",
         "type": "scatter"
        },
        {
         "hovertemplate": "LOCATION=MLT<extra></extra>",
         "legendgroup": "MLT",
         "marker": {
          "color": "#B6E880",
          "symbol": "circle"
         },
         "mode": "lines",
         "name": "MLT",
         "showlegend": false,
         "xaxis": "x",
         "yaxis": "y",
         "type": "scatter"
        },
        {
         "hovertemplate": "LOCATION=ROU<br>Values1=%{x}<br>Values2=%{y}<extra></extra>",
         "legendgroup": "ROU",
         "marker": {
          "color": "#FF97FF",
          "symbol": "circle"
         },
         "mode": "markers",
         "name": "ROU",
         "orientation": "v",
         "showlegend": true,
         "x": [
          31875.149114
         ],
         "xaxis": "x",
         "y": [
          null
         ],
         "yaxis": "y",
         "type": "scatter"
        },
        {
         "hovertemplate": "LOCATION=ROU<extra></extra>",
         "legendgroup": "ROU",
         "marker": {
          "color": "#FF97FF",
          "symbol": "circle"
         },
         "mode": "lines",
         "name": "ROU",
         "showlegend": false,
         "xaxis": "x",
         "yaxis": "y",
         "type": "scatter"
        },
        {
         "hovertemplate": "LOCATION=EU27_2020<br>Values1=%{x}<br>Values2=%{y}<extra></extra>",
         "legendgroup": "EU27_2020",
         "marker": {
          "color": "#FECB52",
          "symbol": "circle"
         },
         "mode": "markers",
         "name": "EU27_2020",
         "orientation": "v",
         "showlegend": true,
         "x": [
          41584.642039
         ],
         "xaxis": "x",
         "y": [
          null
         ],
         "yaxis": "y",
         "type": "scatter"
        },
        {
         "hovertemplate": "LOCATION=EU27_2020<extra></extra>",
         "legendgroup": "EU27_2020",
         "marker": {
          "color": "#FECB52",
          "symbol": "circle"
         },
         "mode": "lines",
         "name": "EU27_2020",
         "showlegend": false,
         "xaxis": "x",
         "yaxis": "y",
         "type": "scatter"
        },
        {
         "hovertemplate": "LOCATION=BRA<br>Values1=%{x}<br>Values2=%{y}<extra></extra>",
         "legendgroup": "BRA",
         "marker": {
          "color": "#636efa",
          "symbol": "circle"
         },
         "mode": "markers",
         "name": "BRA",
         "orientation": "v",
         "showlegend": true,
         "x": [
          null
         ],
         "xaxis": "x",
         "y": [
          6.2789159
         ],
         "yaxis": "y",
         "type": "scatter"
        },
        {
         "hovertemplate": "LOCATION=BRA<extra></extra>",
         "legendgroup": "BRA",
         "marker": {
          "color": "#636efa",
          "symbol": "circle"
         },
         "mode": "lines",
         "name": "BRA",
         "showlegend": false,
         "xaxis": "x",
         "yaxis": "y",
         "type": "scatter"
        },
        {
         "hovertemplate": "LOCATION=OAVG<br>Values1=%{x}<br>Values2=%{y}<extra></extra>",
         "legendgroup": "OAVG",
         "marker": {
          "color": "#EF553B",
          "symbol": "circle"
         },
         "mode": "markers",
         "name": "OAVG",
         "orientation": "v",
         "showlegend": true,
         "x": [
          null
         ],
         "xaxis": "x",
         "y": [
          4.605573
         ],
         "yaxis": "y",
         "type": "scatter"
        },
        {
         "hovertemplate": "LOCATION=OAVG<extra></extra>",
         "legendgroup": "OAVG",
         "marker": {
          "color": "#EF553B",
          "symbol": "circle"
         },
         "mode": "lines",
         "name": "OAVG",
         "showlegend": false,
         "xaxis": "x",
         "yaxis": "y",
         "type": "scatter"
        }
       ],
       "layout": {
        "template": {
         "data": {
          "bar": [
           {
            "error_x": {
             "color": "#2a3f5f"
            },
            "error_y": {
             "color": "#2a3f5f"
            },
            "marker": {
             "line": {
              "color": "#E5ECF6",
              "width": 0.5
             },
             "pattern": {
              "fillmode": "overlay",
              "size": 10,
              "solidity": 0.2
             }
            },
            "type": "bar"
           }
          ],
          "barpolar": [
           {
            "marker": {
             "line": {
              "color": "#E5ECF6",
              "width": 0.5
             },
             "pattern": {
              "fillmode": "overlay",
              "size": 10,
              "solidity": 0.2
             }
            },
            "type": "barpolar"
           }
          ],
          "carpet": [
           {
            "aaxis": {
             "endlinecolor": "#2a3f5f",
             "gridcolor": "white",
             "linecolor": "white",
             "minorgridcolor": "white",
             "startlinecolor": "#2a3f5f"
            },
            "baxis": {
             "endlinecolor": "#2a3f5f",
             "gridcolor": "white",
             "linecolor": "white",
             "minorgridcolor": "white",
             "startlinecolor": "#2a3f5f"
            },
            "type": "carpet"
           }
          ],
          "choropleth": [
           {
            "colorbar": {
             "outlinewidth": 0,
             "ticks": ""
            },
            "type": "choropleth"
           }
          ],
          "contour": [
           {
            "colorbar": {
             "outlinewidth": 0,
             "ticks": ""
            },
            "colorscale": [
             [
              0.0,
              "#0d0887"
             ],
             [
              0.1111111111111111,
              "#46039f"
             ],
             [
              0.2222222222222222,
              "#7201a8"
             ],
             [
              0.3333333333333333,
              "#9c179e"
             ],
             [
              0.4444444444444444,
              "#bd3786"
             ],
             [
              0.5555555555555556,
              "#d8576b"
             ],
             [
              0.6666666666666666,
              "#ed7953"
             ],
             [
              0.7777777777777778,
              "#fb9f3a"
             ],
             [
              0.8888888888888888,
              "#fdca26"
             ],
             [
              1.0,
              "#f0f921"
             ]
            ],
            "type": "contour"
           }
          ],
          "contourcarpet": [
           {
            "colorbar": {
             "outlinewidth": 0,
             "ticks": ""
            },
            "type": "contourcarpet"
           }
          ],
          "heatmap": [
           {
            "colorbar": {
             "outlinewidth": 0,
             "ticks": ""
            },
            "colorscale": [
             [
              0.0,
              "#0d0887"
             ],
             [
              0.1111111111111111,
              "#46039f"
             ],
             [
              0.2222222222222222,
              "#7201a8"
             ],
             [
              0.3333333333333333,
              "#9c179e"
             ],
             [
              0.4444444444444444,
              "#bd3786"
             ],
             [
              0.5555555555555556,
              "#d8576b"
             ],
             [
              0.6666666666666666,
              "#ed7953"
             ],
             [
              0.7777777777777778,
              "#fb9f3a"
             ],
             [
              0.8888888888888888,
              "#fdca26"
             ],
             [
              1.0,
              "#f0f921"
             ]
            ],
            "type": "heatmap"
           }
          ],
          "heatmapgl": [
           {
            "colorbar": {
             "outlinewidth": 0,
             "ticks": ""
            },
            "colorscale": [
             [
              0.0,
              "#0d0887"
             ],
             [
              0.1111111111111111,
              "#46039f"
             ],
             [
              0.2222222222222222,
              "#7201a8"
             ],
             [
              0.3333333333333333,
              "#9c179e"
             ],
             [
              0.4444444444444444,
              "#bd3786"
             ],
             [
              0.5555555555555556,
              "#d8576b"
             ],
             [
              0.6666666666666666,
              "#ed7953"
             ],
             [
              0.7777777777777778,
              "#fb9f3a"
             ],
             [
              0.8888888888888888,
              "#fdca26"
             ],
             [
              1.0,
              "#f0f921"
             ]
            ],
            "type": "heatmapgl"
           }
          ],
          "histogram": [
           {
            "marker": {
             "pattern": {
              "fillmode": "overlay",
              "size": 10,
              "solidity": 0.2
             }
            },
            "type": "histogram"
           }
          ],
          "histogram2d": [
           {
            "colorbar": {
             "outlinewidth": 0,
             "ticks": ""
            },
            "colorscale": [
             [
              0.0,
              "#0d0887"
             ],
             [
              0.1111111111111111,
              "#46039f"
             ],
             [
              0.2222222222222222,
              "#7201a8"
             ],
             [
              0.3333333333333333,
              "#9c179e"
             ],
             [
              0.4444444444444444,
              "#bd3786"
             ],
             [
              0.5555555555555556,
              "#d8576b"
             ],
             [
              0.6666666666666666,
              "#ed7953"
             ],
             [
              0.7777777777777778,
              "#fb9f3a"
             ],
             [
              0.8888888888888888,
              "#fdca26"
             ],
             [
              1.0,
              "#f0f921"
             ]
            ],
            "type": "histogram2d"
           }
          ],
          "histogram2dcontour": [
           {
            "colorbar": {
             "outlinewidth": 0,
             "ticks": ""
            },
            "colorscale": [
             [
              0.0,
              "#0d0887"
             ],
             [
              0.1111111111111111,
              "#46039f"
             ],
             [
              0.2222222222222222,
              "#7201a8"
             ],
             [
              0.3333333333333333,
              "#9c179e"
             ],
             [
              0.4444444444444444,
              "#bd3786"
             ],
             [
              0.5555555555555556,
              "#d8576b"
             ],
             [
              0.6666666666666666,
              "#ed7953"
             ],
             [
              0.7777777777777778,
              "#fb9f3a"
             ],
             [
              0.8888888888888888,
              "#fdca26"
             ],
             [
              1.0,
              "#f0f921"
             ]
            ],
            "type": "histogram2dcontour"
           }
          ],
          "mesh3d": [
           {
            "colorbar": {
             "outlinewidth": 0,
             "ticks": ""
            },
            "type": "mesh3d"
           }
          ],
          "parcoords": [
           {
            "line": {
             "colorbar": {
              "outlinewidth": 0,
              "ticks": ""
             }
            },
            "type": "parcoords"
           }
          ],
          "pie": [
           {
            "automargin": true,
            "type": "pie"
           }
          ],
          "scatter": [
           {
            "marker": {
             "colorbar": {
              "outlinewidth": 0,
              "ticks": ""
             }
            },
            "type": "scatter"
           }
          ],
          "scatter3d": [
           {
            "line": {
             "colorbar": {
              "outlinewidth": 0,
              "ticks": ""
             }
            },
            "marker": {
             "colorbar": {
              "outlinewidth": 0,
              "ticks": ""
             }
            },
            "type": "scatter3d"
           }
          ],
          "scattercarpet": [
           {
            "marker": {
             "colorbar": {
              "outlinewidth": 0,
              "ticks": ""
             }
            },
            "type": "scattercarpet"
           }
          ],
          "scattergeo": [
           {
            "marker": {
             "colorbar": {
              "outlinewidth": 0,
              "ticks": ""
             }
            },
            "type": "scattergeo"
           }
          ],
          "scattergl": [
           {
            "marker": {
             "colorbar": {
              "outlinewidth": 0,
              "ticks": ""
             }
            },
            "type": "scattergl"
           }
          ],
          "scattermapbox": [
           {
            "marker": {
             "colorbar": {
              "outlinewidth": 0,
              "ticks": ""
             }
            },
            "type": "scattermapbox"
           }
          ],
          "scatterpolar": [
           {
            "marker": {
             "colorbar": {
              "outlinewidth": 0,
              "ticks": ""
             }
            },
            "type": "scatterpolar"
           }
          ],
          "scatterpolargl": [
           {
            "marker": {
             "colorbar": {
              "outlinewidth": 0,
              "ticks": ""
             }
            },
            "type": "scatterpolargl"
           }
          ],
          "scatterternary": [
           {
            "marker": {
             "colorbar": {
              "outlinewidth": 0,
              "ticks": ""
             }
            },
            "type": "scatterternary"
           }
          ],
          "surface": [
           {
            "colorbar": {
             "outlinewidth": 0,
             "ticks": ""
            },
            "colorscale": [
             [
              0.0,
              "#0d0887"
             ],
             [
              0.1111111111111111,
              "#46039f"
             ],
             [
              0.2222222222222222,
              "#7201a8"
             ],
             [
              0.3333333333333333,
              "#9c179e"
             ],
             [
              0.4444444444444444,
              "#bd3786"
             ],
             [
              0.5555555555555556,
              "#d8576b"
             ],
             [
              0.6666666666666666,
              "#ed7953"
             ],
             [
              0.7777777777777778,
              "#fb9f3a"
             ],
             [
              0.8888888888888888,
              "#fdca26"
             ],
             [
              1.0,
              "#f0f921"
             ]
            ],
            "type": "surface"
           }
          ],
          "table": [
           {
            "cells": {
             "fill": {
              "color": "#EBF0F8"
             },
             "line": {
              "color": "white"
             }
            },
            "header": {
             "fill": {
              "color": "#C8D4E3"
             },
             "line": {
              "color": "white"
             }
            },
            "type": "table"
           }
          ]
         },
         "layout": {
          "annotationdefaults": {
           "arrowcolor": "#2a3f5f",
           "arrowhead": 0,
           "arrowwidth": 1
          },
          "autotypenumbers": "strict",
          "coloraxis": {
           "colorbar": {
            "outlinewidth": 0,
            "ticks": ""
           }
          },
          "colorscale": {
           "diverging": [
            [
             0,
             "#8e0152"
            ],
            [
             0.1,
             "#c51b7d"
            ],
            [
             0.2,
             "#de77ae"
            ],
            [
             0.3,
             "#f1b6da"
            ],
            [
             0.4,
             "#fde0ef"
            ],
            [
             0.5,
             "#f7f7f7"
            ],
            [
             0.6,
             "#e6f5d0"
            ],
            [
             0.7,
             "#b8e186"
            ],
            [
             0.8,
             "#7fbc41"
            ],
            [
             0.9,
             "#4d9221"
            ],
            [
             1,
             "#276419"
            ]
           ],
           "sequential": [
            [
             0.0,
             "#0d0887"
            ],
            [
             0.1111111111111111,
             "#46039f"
            ],
            [
             0.2222222222222222,
             "#7201a8"
            ],
            [
             0.3333333333333333,
             "#9c179e"
            ],
            [
             0.4444444444444444,
             "#bd3786"
            ],
            [
             0.5555555555555556,
             "#d8576b"
            ],
            [
             0.6666666666666666,
             "#ed7953"
            ],
            [
             0.7777777777777778,
             "#fb9f3a"
            ],
            [
             0.8888888888888888,
             "#fdca26"
            ],
            [
             1.0,
             "#f0f921"
            ]
           ],
           "sequentialminus": [
            [
             0.0,
             "#0d0887"
            ],
            [
             0.1111111111111111,
             "#46039f"
            ],
            [
             0.2222222222222222,
             "#7201a8"
            ],
            [
             0.3333333333333333,
             "#9c179e"
            ],
            [
             0.4444444444444444,
             "#bd3786"
            ],
            [
             0.5555555555555556,
             "#d8576b"
            ],
            [
             0.6666666666666666,
             "#ed7953"
            ],
            [
             0.7777777777777778,
             "#fb9f3a"
            ],
            [
             0.8888888888888888,
             "#fdca26"
            ],
            [
             1.0,
             "#f0f921"
            ]
           ]
          },
          "colorway": [
           "#636efa",
           "#EF553B",
           "#00cc96",
           "#ab63fa",
           "#FFA15A",
           "#19d3f3",
           "#FF6692",
           "#B6E880",
           "#FF97FF",
           "#FECB52"
          ],
          "font": {
           "color": "#2a3f5f"
          },
          "geo": {
           "bgcolor": "white",
           "lakecolor": "white",
           "landcolor": "#E5ECF6",
           "showlakes": true,
           "showland": true,
           "subunitcolor": "white"
          },
          "hoverlabel": {
           "align": "left"
          },
          "hovermode": "closest",
          "mapbox": {
           "style": "light"
          },
          "paper_bgcolor": "white",
          "plot_bgcolor": "#E5ECF6",
          "polar": {
           "angularaxis": {
            "gridcolor": "white",
            "linecolor": "white",
            "ticks": ""
           },
           "bgcolor": "#E5ECF6",
           "radialaxis": {
            "gridcolor": "white",
            "linecolor": "white",
            "ticks": ""
           }
          },
          "scene": {
           "xaxis": {
            "backgroundcolor": "#E5ECF6",
            "gridcolor": "white",
            "gridwidth": 2,
            "linecolor": "white",
            "showbackground": true,
            "ticks": "",
            "zerolinecolor": "white"
           },
           "yaxis": {
            "backgroundcolor": "#E5ECF6",
            "gridcolor": "white",
            "gridwidth": 2,
            "linecolor": "white",
            "showbackground": true,
            "ticks": "",
            "zerolinecolor": "white"
           },
           "zaxis": {
            "backgroundcolor": "#E5ECF6",
            "gridcolor": "white",
            "gridwidth": 2,
            "linecolor": "white",
            "showbackground": true,
            "ticks": "",
            "zerolinecolor": "white"
           }
          },
          "shapedefaults": {
           "line": {
            "color": "#2a3f5f"
           }
          },
          "ternary": {
           "aaxis": {
            "gridcolor": "white",
            "linecolor": "white",
            "ticks": ""
           },
           "baxis": {
            "gridcolor": "white",
            "linecolor": "white",
            "ticks": ""
           },
           "bgcolor": "#E5ECF6",
           "caxis": {
            "gridcolor": "white",
            "linecolor": "white",
            "ticks": ""
           }
          },
          "title": {
           "x": 0.05
          },
          "xaxis": {
           "automargin": true,
           "gridcolor": "white",
           "linecolor": "white",
           "ticks": "",
           "title": {
            "standoff": 15
           },
           "zerolinecolor": "white",
           "zerolinewidth": 2
          },
          "yaxis": {
           "automargin": true,
           "gridcolor": "white",
           "linecolor": "white",
           "ticks": "",
           "title": {
            "standoff": 15
           },
           "zerolinecolor": "white",
           "zerolinewidth": 2
          }
         }
        },
        "xaxis": {
         "anchor": "y",
         "domain": [
          0.0,
          1.0
         ],
         "title": {
          "text": "GDP per capita 2020"
         }
        },
        "yaxis": {
         "anchor": "x",
         "domain": [
          0.0,
          1.0
         ],
         "title": {
          "text": "unemployed tertiary educated [%]"
         }
        },
        "legend": {
         "title": {
          "text": "Countries"
         },
         "tracegroupgap": 0
        },
        "title": {
         "text": "GDP 2020 and unemployed tertiary educated 25-64 year-old people,        corr = -0.45"
        }
       },
       "config": {
        "plotlyServerURL": "https://plot.ly"
       }
      },
      "text/html": "<div>                            <div id=\"6bb65b37-4661-4b92-8f75-f6eefbbd728c\" class=\"plotly-graph-div\" style=\"height:525px; width:100%;\"></div>            <script type=\"text/javascript\">                require([\"plotly\"], function(Plotly) {                    window.PLOTLYENV=window.PLOTLYENV || {};                                    if (document.getElementById(\"6bb65b37-4661-4b92-8f75-f6eefbbd728c\")) {                    Plotly.newPlot(                        \"6bb65b37-4661-4b92-8f75-f6eefbbd728c\",                        [{\"hovertemplate\":\"LOCATION=AUS<br>Values1=%{x}<br>Values2=%{y}<extra></extra>\",\"legendgroup\":\"AUS\",\"marker\":{\"color\":\"#636efa\",\"symbol\":\"circle\"},\"mode\":\"markers\",\"name\":\"AUS\",\"orientation\":\"v\",\"showlegend\":true,\"x\":[57137.316088],\"xaxis\":\"x\",\"y\":[4.5658488],\"yaxis\":\"y\",\"type\":\"scatter\"},{\"hovertemplate\":\"LOCATION=AUS<extra></extra>\",\"legendgroup\":\"AUS\",\"marker\":{\"color\":\"#636efa\",\"symbol\":\"circle\"},\"mode\":\"lines\",\"name\":\"AUS\",\"showlegend\":false,\"xaxis\":\"x\",\"yaxis\":\"y\",\"type\":\"scatter\"},{\"hovertemplate\":\"LOCATION=AUT<br>Values1=%{x}<br>Values2=%{y}<extra></extra>\",\"legendgroup\":\"AUT\",\"marker\":{\"color\":\"#EF553B\",\"symbol\":\"circle\"},\"mode\":\"markers\",\"name\":\"AUT\",\"orientation\":\"v\",\"showlegend\":true,\"x\":[55798.232644],\"xaxis\":\"x\",\"y\":[3.1800914],\"yaxis\":\"y\",\"type\":\"scatter\"},{\"hovertemplate\":\"LOCATION=AUT<extra></extra>\",\"legendgroup\":\"AUT\",\"marker\":{\"color\":\"#EF553B\",\"symbol\":\"circle\"},\"mode\":\"lines\",\"name\":\"AUT\",\"showlegend\":false,\"xaxis\":\"x\",\"yaxis\":\"y\",\"type\":\"scatter\"},{\"hovertemplate\":\"LOCATION=BEL<br>Values1=%{x}<br>Values2=%{y}<extra></extra>\",\"legendgroup\":\"BEL\",\"marker\":{\"color\":\"#00cc96\",\"symbol\":\"circle\"},\"mode\":\"markers\",\"name\":\"BEL\",\"orientation\":\"v\",\"showlegend\":true,\"x\":[53298.605116],\"xaxis\":\"x\",\"y\":[3.1517932],\"yaxis\":\"y\",\"type\":\"scatter\"},{\"hovertemplate\":\"LOCATION=BEL<extra></extra>\",\"legendgroup\":\"BEL\",\"marker\":{\"color\":\"#00cc96\",\"symbol\":\"circle\"},\"mode\":\"lines\",\"name\":\"BEL\",\"showlegend\":false,\"xaxis\":\"x\",\"yaxis\":\"y\",\"type\":\"scatter\"},{\"hovertemplate\":\"LOCATION=CAN<br>Values1=%{x}<br>Values2=%{y}<extra></extra>\",\"legendgroup\":\"CAN\",\"marker\":{\"color\":\"#ab63fa\",\"symbol\":\"circle\"},\"mode\":\"markers\",\"name\":\"CAN\",\"orientation\":\"v\",\"showlegend\":true,\"x\":[46051.345148],\"xaxis\":\"x\",\"y\":[6.6881471],\"yaxis\":\"y\",\"type\":\"scatter\"},{\"hovertemplate\":\"LOCATION=CAN<extra></extra>\",\"legendgroup\":\"CAN\",\"marker\":{\"color\":\"#ab63fa\",\"symbol\":\"circle\"},\"mode\":\"lines\",\"name\":\"CAN\",\"showlegend\":false,\"xaxis\":\"x\",\"yaxis\":\"y\",\"type\":\"scatter\"},{\"hovertemplate\":\"LOCATION=CZE<br>Values1=%{x}<br>Values2=%{y}<extra></extra>\",\"legendgroup\":\"CZE\",\"marker\":{\"color\":\"#FFA15A\",\"symbol\":\"circle\"},\"mode\":\"markers\",\"name\":\"CZE\",\"orientation\":\"v\",\"showlegend\":true,\"x\":[41684.610948],\"xaxis\":\"x\",\"y\":[1.3989693],\"yaxis\":\"y\",\"type\":\"scatter\"},{\"hovertemplate\":\"LOCATION=CZE<extra></extra>\",\"legendgroup\":\"CZE\",\"marker\":{\"color\":\"#FFA15A\",\"symbol\":\"circle\"},\"mode\":\"lines\",\"name\":\"CZE\",\"showlegend\":false,\"xaxis\":\"x\",\"yaxis\":\"y\",\"type\":\"scatter\"},{\"hovertemplate\":\"LOCATION=DNK<br>Values1=%{x}<br>Values2=%{y}<extra></extra>\",\"legendgroup\":\"DNK\",\"marker\":{\"color\":\"#19d3f3\",\"symbol\":\"circle\"},\"mode\":\"markers\",\"name\":\"DNK\",\"orientation\":\"v\",\"showlegend\":true,\"x\":[60365.764867],\"xaxis\":\"x\",\"y\":[4.1247706],\"yaxis\":\"y\",\"type\":\"scatter\"},{\"hovertemplate\":\"LOCATION=DNK<extra></extra>\",\"legendgroup\":\"DNK\",\"marker\":{\"color\":\"#19d3f3\",\"symbol\":\"circle\"},\"mode\":\"lines\",\"name\":\"DNK\",\"showlegend\":false,\"xaxis\":\"x\",\"yaxis\":\"y\",\"type\":\"scatter\"},{\"hovertemplate\":\"LOCATION=FIN<br>Values1=%{x}<br>Values2=%{y}<extra></extra>\",\"legendgroup\":\"FIN\",\"marker\":{\"color\":\"#FF6692\",\"symbol\":\"circle\"},\"mode\":\"markers\",\"name\":\"FIN\",\"orientation\":\"v\",\"showlegend\":true,\"x\":[50608.165962],\"xaxis\":\"x\",\"y\":[4.2009883],\"yaxis\":\"y\",\"type\":\"scatter\"},{\"hovertemplate\":\"LOCATION=FIN<extra></extra>\",\"legendgroup\":\"FIN\",\"marker\":{\"color\":\"#FF6692\",\"symbol\":\"circle\"},\"mode\":\"lines\",\"name\":\"FIN\",\"showlegend\":false,\"xaxis\":\"x\",\"yaxis\":\"y\",\"type\":\"scatter\"},{\"hovertemplate\":\"LOCATION=FRA<br>Values1=%{x}<br>Values2=%{y}<extra></extra>\",\"legendgroup\":\"FRA\",\"marker\":{\"color\":\"#B6E880\",\"symbol\":\"circle\"},\"mode\":\"markers\",\"name\":\"FRA\",\"orientation\":\"v\",\"showlegend\":true,\"x\":[46785.145261],\"xaxis\":\"x\",\"y\":[4.6870036],\"yaxis\":\"y\",\"type\":\"scatter\"},{\"hovertemplate\":\"LOCATION=FRA<extra></extra>\",\"legendgroup\":\"FRA\",\"marker\":{\"color\":\"#B6E880\",\"symbol\":\"circle\"},\"mode\":\"lines\",\"name\":\"FRA\",\"showlegend\":false,\"xaxis\":\"x\",\"yaxis\":\"y\",\"type\":\"scatter\"},{\"hovertemplate\":\"LOCATION=DEU<br>Values1=%{x}<br>Values2=%{y}<extra></extra>\",\"legendgroup\":\"DEU\",\"marker\":{\"color\":\"#FF97FF\",\"symbol\":\"circle\"},\"mode\":\"markers\",\"name\":\"DEU\",\"orientation\":\"v\",\"showlegend\":true,\"x\":[54954.916894],\"xaxis\":\"x\",\"y\":[2.5000439],\"yaxis\":\"y\",\"type\":\"scatter\"},{\"hovertemplate\":\"LOCATION=DEU<extra></extra>\",\"legendgroup\":\"DEU\",\"marker\":{\"color\":\"#FF97FF\",\"symbol\":\"circle\"},\"mode\":\"lines\",\"name\":\"DEU\",\"showlegend\":false,\"xaxis\":\"x\",\"yaxis\":\"y\",\"type\":\"scatter\"},{\"hovertemplate\":\"LOCATION=GRC<br>Values1=%{x}<br>Values2=%{y}<extra></extra>\",\"legendgroup\":\"GRC\",\"marker\":{\"color\":\"#FECB52\",\"symbol\":\"circle\"},\"mode\":\"markers\",\"name\":\"GRC\",\"orientation\":\"v\",\"showlegend\":true,\"x\":[27957.913164],\"xaxis\":\"x\",\"y\":[11.521603],\"yaxis\":\"y\",\"type\":\"scatter\"},{\"hovertemplate\":\"LOCATION=GRC<extra></extra>\",\"legendgroup\":\"GRC\",\"marker\":{\"color\":\"#FECB52\",\"symbol\":\"circle\"},\"mode\":\"lines\",\"name\":\"GRC\",\"showlegend\":false,\"xaxis\":\"x\",\"yaxis\":\"y\",\"type\":\"scatter\"},{\"hovertemplate\":\"LOCATION=HUN<br>Values1=%{x}<br>Values2=%{y}<extra></extra>\",\"legendgroup\":\"HUN\",\"marker\":{\"color\":\"#636efa\",\"symbol\":\"circle\"},\"mode\":\"markers\",\"name\":\"HUN\",\"orientation\":\"v\",\"showlegend\":true,\"x\":[33142.547097],\"xaxis\":\"x\",\"y\":[1.7294272],\"yaxis\":\"y\",\"type\":\"scatter\"},{\"hovertemplate\":\"LOCATION=HUN<extra></extra>\",\"legendgroup\":\"HUN\",\"marker\":{\"color\":\"#636efa\",\"symbol\":\"circle\"},\"mode\":\"lines\",\"name\":\"HUN\",\"showlegend\":false,\"xaxis\":\"x\",\"yaxis\":\"y\",\"type\":\"scatter\"},{\"hovertemplate\":\"LOCATION=ISL<br>Values1=%{x}<br>Values2=%{y}<extra></extra>\",\"legendgroup\":\"ISL\",\"marker\":{\"color\":\"#EF553B\",\"symbol\":\"circle\"},\"mode\":\"markers\",\"name\":\"ISL\",\"orientation\":\"v\",\"showlegend\":true,\"x\":[53719.257503],\"xaxis\":\"x\",\"y\":[4.4369426],\"yaxis\":\"y\",\"type\":\"scatter\"},{\"hovertemplate\":\"LOCATION=ISL<extra></extra>\",\"legendgroup\":\"ISL\",\"marker\":{\"color\":\"#EF553B\",\"symbol\":\"circle\"},\"mode\":\"lines\",\"name\":\"ISL\",\"showlegend\":false,\"xaxis\":\"x\",\"yaxis\":\"y\",\"type\":\"scatter\"},{\"hovertemplate\":\"LOCATION=IRL<br>Values1=%{x}<br>Values2=%{y}<extra></extra>\",\"legendgroup\":\"IRL\",\"marker\":{\"color\":\"#00cc96\",\"symbol\":\"circle\"},\"mode\":\"markers\",\"name\":\"IRL\",\"orientation\":\"v\",\"showlegend\":true,\"x\":[93638.605353],\"xaxis\":\"x\",\"y\":[3.6649835],\"yaxis\":\"y\",\"type\":\"scatter\"},{\"hovertemplate\":\"LOCATION=IRL<extra></extra>\",\"legendgroup\":\"IRL\",\"marker\":{\"color\":\"#00cc96\",\"symbol\":\"circle\"},\"mode\":\"lines\",\"name\":\"IRL\",\"showlegend\":false,\"xaxis\":\"x\",\"yaxis\":\"y\",\"type\":\"scatter\"},{\"hovertemplate\":\"LOCATION=ITA<br>Values1=%{x}<br>Values2=%{y}<extra></extra>\",\"legendgroup\":\"ITA\",\"marker\":{\"color\":\"#ab63fa\",\"symbol\":\"circle\"},\"mode\":\"markers\",\"name\":\"ITA\",\"orientation\":\"v\",\"showlegend\":true,\"x\":[41986.511434],\"xaxis\":\"x\",\"y\":[5.1372938],\"yaxis\":\"y\",\"type\":\"scatter\"},{\"hovertemplate\":\"LOCATION=ITA<extra></extra>\",\"legendgroup\":\"ITA\",\"marker\":{\"color\":\"#ab63fa\",\"symbol\":\"circle\"},\"mode\":\"lines\",\"name\":\"ITA\",\"showlegend\":false,\"xaxis\":\"x\",\"yaxis\":\"y\",\"type\":\"scatter\"},{\"hovertemplate\":\"LOCATION=JPN<br>Values1=%{x}<br>Values2=%{y}<extra></extra>\",\"legendgroup\":\"JPN\",\"marker\":{\"color\":\"#FFA15A\",\"symbol\":\"circle\"},\"mode\":\"markers\",\"name\":\"JPN\",\"orientation\":\"v\",\"showlegend\":true,\"x\":[42441.605023],\"xaxis\":\"x\",\"y\":[null],\"yaxis\":\"y\",\"type\":\"scatter\"},{\"hovertemplate\":\"LOCATION=JPN<extra></extra>\",\"legendgroup\":\"JPN\",\"marker\":{\"color\":\"#FFA15A\",\"symbol\":\"circle\"},\"mode\":\"lines\",\"name\":\"JPN\",\"showlegend\":false,\"xaxis\":\"x\",\"yaxis\":\"y\",\"type\":\"scatter\"},{\"hovertemplate\":\"LOCATION=KOR<br>Values1=%{x}<br>Values2=%{y}<extra></extra>\",\"legendgroup\":\"KOR\",\"marker\":{\"color\":\"#19d3f3\",\"symbol\":\"circle\"},\"mode\":\"markers\",\"name\":\"KOR\",\"orientation\":\"v\",\"showlegend\":true,\"x\":[45362.509562],\"xaxis\":\"x\",\"y\":[3.2222047],\"yaxis\":\"y\",\"type\":\"scatter\"},{\"hovertemplate\":\"LOCATION=KOR<extra></extra>\",\"legendgroup\":\"KOR\",\"marker\":{\"color\":\"#19d3f3\",\"symbol\":\"circle\"},\"mode\":\"lines\",\"name\":\"KOR\",\"showlegend\":false,\"xaxis\":\"x\",\"yaxis\":\"y\",\"type\":\"scatter\"},{\"hovertemplate\":\"LOCATION=LUX<br>Values1=%{x}<br>Values2=%{y}<extra></extra>\",\"legendgroup\":\"LUX\",\"marker\":{\"color\":\"#FF6692\",\"symbol\":\"circle\"},\"mode\":\"markers\",\"name\":\"LUX\",\"orientation\":\"v\",\"showlegend\":true,\"x\":[117958.365531],\"xaxis\":\"x\",\"y\":[4.6244717],\"yaxis\":\"y\",\"type\":\"scatter\"},{\"hovertemplate\":\"LOCATION=LUX<extra></extra>\",\"legendgroup\":\"LUX\",\"marker\":{\"color\":\"#FF6692\",\"symbol\":\"circle\"},\"mode\":\"lines\",\"name\":\"LUX\",\"showlegend\":false,\"xaxis\":\"x\",\"yaxis\":\"y\",\"type\":\"scatter\"},{\"hovertemplate\":\"LOCATION=MEX<br>Values1=%{x}<br>Values2=%{y}<extra></extra>\",\"legendgroup\":\"MEX\",\"marker\":{\"color\":\"#B6E880\",\"symbol\":\"circle\"},\"mode\":\"markers\",\"name\":\"MEX\",\"orientation\":\"v\",\"showlegend\":true,\"x\":[19615.450657],\"xaxis\":\"x\",\"y\":[4.7256651],\"yaxis\":\"y\",\"type\":\"scatter\"},{\"hovertemplate\":\"LOCATION=MEX<extra></extra>\",\"legendgroup\":\"MEX\",\"marker\":{\"color\":\"#B6E880\",\"symbol\":\"circle\"},\"mode\":\"lines\",\"name\":\"MEX\",\"showlegend\":false,\"xaxis\":\"x\",\"yaxis\":\"y\",\"type\":\"scatter\"},{\"hovertemplate\":\"LOCATION=NLD<br>Values1=%{x}<br>Values2=%{y}<extra></extra>\",\"legendgroup\":\"NLD\",\"marker\":{\"color\":\"#FF97FF\",\"symbol\":\"circle\"},\"mode\":\"markers\",\"name\":\"NLD\",\"orientation\":\"v\",\"showlegend\":true,\"x\":[59388.026375],\"xaxis\":\"x\",\"y\":[2.3544347],\"yaxis\":\"y\",\"type\":\"scatter\"},{\"hovertemplate\":\"LOCATION=NLD<extra></extra>\",\"legendgroup\":\"NLD\",\"marker\":{\"color\":\"#FF97FF\",\"symbol\":\"circle\"},\"mode\":\"lines\",\"name\":\"NLD\",\"showlegend\":false,\"xaxis\":\"x\",\"yaxis\":\"y\",\"type\":\"scatter\"},{\"hovertemplate\":\"LOCATION=NZL<br>Values1=%{x}<br>Values2=%{y}<extra></extra>\",\"legendgroup\":\"NZL\",\"marker\":{\"color\":\"#FECB52\",\"symbol\":\"circle\"},\"mode\":\"markers\",\"name\":\"NZL\",\"orientation\":\"v\",\"showlegend\":true,\"x\":[44024.529841],\"xaxis\":\"x\",\"y\":[2.6552417],\"yaxis\":\"y\",\"type\":\"scatter\"},{\"hovertemplate\":\"LOCATION=NZL<extra></extra>\",\"legendgroup\":\"NZL\",\"marker\":{\"color\":\"#FECB52\",\"symbol\":\"circle\"},\"mode\":\"lines\",\"name\":\"NZL\",\"showlegend\":false,\"xaxis\":\"x\",\"yaxis\":\"y\",\"type\":\"scatter\"},{\"hovertemplate\":\"LOCATION=NOR<br>Values1=%{x}<br>Values2=%{y}<extra></extra>\",\"legendgroup\":\"NOR\",\"marker\":{\"color\":\"#636efa\",\"symbol\":\"circle\"},\"mode\":\"markers\",\"name\":\"NOR\",\"orientation\":\"v\",\"showlegend\":true,\"x\":[62776.571836],\"xaxis\":\"x\",\"y\":[2.6420789],\"yaxis\":\"y\",\"type\":\"scatter\"},{\"hovertemplate\":\"LOCATION=NOR<extra></extra>\",\"legendgroup\":\"NOR\",\"marker\":{\"color\":\"#636efa\",\"symbol\":\"circle\"},\"mode\":\"lines\",\"name\":\"NOR\",\"showlegend\":false,\"xaxis\":\"x\",\"yaxis\":\"y\",\"type\":\"scatter\"},{\"hovertemplate\":\"LOCATION=POL<br>Values1=%{x}<br>Values2=%{y}<extra></extra>\",\"legendgroup\":\"POL\",\"marker\":{\"color\":\"#EF553B\",\"symbol\":\"circle\"},\"mode\":\"markers\",\"name\":\"POL\",\"orientation\":\"v\",\"showlegend\":true,\"x\":[33948.534767],\"xaxis\":\"x\",\"y\":[1.7927181],\"yaxis\":\"y\",\"type\":\"scatter\"},{\"hovertemplate\":\"LOCATION=POL<extra></extra>\",\"legendgroup\":\"POL\",\"marker\":{\"color\":\"#EF553B\",\"symbol\":\"circle\"},\"mode\":\"lines\",\"name\":\"POL\",\"showlegend\":false,\"xaxis\":\"x\",\"yaxis\":\"y\",\"type\":\"scatter\"},{\"hovertemplate\":\"LOCATION=PRT<br>Values1=%{x}<br>Values2=%{y}<extra></extra>\",\"legendgroup\":\"PRT\",\"marker\":{\"color\":\"#00cc96\",\"symbol\":\"circle\"},\"mode\":\"markers\",\"name\":\"PRT\",\"orientation\":\"v\",\"showlegend\":true,\"x\":[34245.86053],\"xaxis\":\"x\",\"y\":[5.0720205],\"yaxis\":\"y\",\"type\":\"scatter\"},{\"hovertemplate\":\"LOCATION=PRT<extra></extra>\",\"legendgroup\":\"PRT\",\"marker\":{\"color\":\"#00cc96\",\"symbol\":\"circle\"},\"mode\":\"lines\",\"name\":\"PRT\",\"showlegend\":false,\"xaxis\":\"x\",\"yaxis\":\"y\",\"type\":\"scatter\"},{\"hovertemplate\":\"LOCATION=SVK<br>Values1=%{x}<br>Values2=%{y}<extra></extra>\",\"legendgroup\":\"SVK\",\"marker\":{\"color\":\"#ab63fa\",\"symbol\":\"circle\"},\"mode\":\"markers\",\"name\":\"SVK\",\"orientation\":\"v\",\"showlegend\":true,\"x\":[31409.414684],\"xaxis\":\"x\",\"y\":[3.2723906],\"yaxis\":\"y\",\"type\":\"scatter\"},{\"hovertemplate\":\"LOCATION=SVK<extra></extra>\",\"legendgroup\":\"SVK\",\"marker\":{\"color\":\"#ab63fa\",\"symbol\":\"circle\"},\"mode\":\"lines\",\"name\":\"SVK\",\"showlegend\":false,\"xaxis\":\"x\",\"yaxis\":\"y\",\"type\":\"scatter\"},{\"hovertemplate\":\"LOCATION=ESP<br>Values1=%{x}<br>Values2=%{y}<extra></extra>\",\"legendgroup\":\"ESP\",\"marker\":{\"color\":\"#FFA15A\",\"symbol\":\"circle\"},\"mode\":\"markers\",\"name\":\"ESP\",\"orientation\":\"v\",\"showlegend\":true,\"x\":[37840.15233],\"xaxis\":\"x\",\"y\":[9.5388842],\"yaxis\":\"y\",\"type\":\"scatter\"},{\"hovertemplate\":\"LOCATION=ESP<extra></extra>\",\"legendgroup\":\"ESP\",\"marker\":{\"color\":\"#FFA15A\",\"symbol\":\"circle\"},\"mode\":\"lines\",\"name\":\"ESP\",\"showlegend\":false,\"xaxis\":\"x\",\"yaxis\":\"y\",\"type\":\"scatter\"},{\"hovertemplate\":\"LOCATION=SWE<br>Values1=%{x}<br>Values2=%{y}<extra></extra>\",\"legendgroup\":\"SWE\",\"marker\":{\"color\":\"#19d3f3\",\"symbol\":\"circle\"},\"mode\":\"markers\",\"name\":\"SWE\",\"orientation\":\"v\",\"showlegend\":true,\"x\":[55148.580215],\"xaxis\":\"x\",\"y\":[4.5763707],\"yaxis\":\"y\",\"type\":\"scatter\"},{\"hovertemplate\":\"LOCATION=SWE<extra></extra>\",\"legendgroup\":\"SWE\",\"marker\":{\"color\":\"#19d3f3\",\"symbol\":\"circle\"},\"mode\":\"lines\",\"name\":\"SWE\",\"showlegend\":false,\"xaxis\":\"x\",\"yaxis\":\"y\",\"type\":\"scatter\"},{\"hovertemplate\":\"LOCATION=CHE<br>Values1=%{x}<br>Values2=%{y}<extra></extra>\",\"legendgroup\":\"CHE\",\"marker\":{\"color\":\"#FF6692\",\"symbol\":\"circle\"},\"mode\":\"markers\",\"name\":\"CHE\",\"orientation\":\"v\",\"showlegend\":true,\"x\":[71831.736102],\"xaxis\":\"x\",\"y\":[3.518003],\"yaxis\":\"y\",\"type\":\"scatter\"},{\"hovertemplate\":\"LOCATION=CHE<extra></extra>\",\"legendgroup\":\"CHE\",\"marker\":{\"color\":\"#FF6692\",\"symbol\":\"circle\"},\"mode\":\"lines\",\"name\":\"CHE\",\"showlegend\":false,\"xaxis\":\"x\",\"yaxis\":\"y\",\"type\":\"scatter\"},{\"hovertemplate\":\"LOCATION=TUR<br>Values1=%{x}<br>Values2=%{y}<extra></extra>\",\"legendgroup\":\"TUR\",\"marker\":{\"color\":\"#B6E880\",\"symbol\":\"circle\"},\"mode\":\"markers\",\"name\":\"TUR\",\"orientation\":\"v\",\"showlegend\":true,\"x\":[27602.52689],\"xaxis\":\"x\",\"y\":[null],\"yaxis\":\"y\",\"type\":\"scatter\"},{\"hovertemplate\":\"LOCATION=TUR<extra></extra>\",\"legendgroup\":\"TUR\",\"marker\":{\"color\":\"#B6E880\",\"symbol\":\"circle\"},\"mode\":\"lines\",\"name\":\"TUR\",\"showlegend\":false,\"xaxis\":\"x\",\"yaxis\":\"y\",\"type\":\"scatter\"},{\"hovertemplate\":\"LOCATION=GBR<br>Values1=%{x}<br>Values2=%{y}<extra></extra>\",\"legendgroup\":\"GBR\",\"marker\":{\"color\":\"#FF97FF\",\"symbol\":\"circle\"},\"mode\":\"markers\",\"name\":\"GBR\",\"orientation\":\"v\",\"showlegend\":true,\"x\":[46743.999172],\"xaxis\":\"x\",\"y\":[2.719964],\"yaxis\":\"y\",\"type\":\"scatter\"},{\"hovertemplate\":\"LOCATION=GBR<extra></extra>\",\"legendgroup\":\"GBR\",\"marker\":{\"color\":\"#FF97FF\",\"symbol\":\"circle\"},\"mode\":\"lines\",\"name\":\"GBR\",\"showlegend\":false,\"xaxis\":\"x\",\"yaxis\":\"y\",\"type\":\"scatter\"},{\"hovertemplate\":\"LOCATION=USA<br>Values1=%{x}<br>Values2=%{y}<extra></extra>\",\"legendgroup\":\"USA\",\"marker\":{\"color\":\"#FECB52\",\"symbol\":\"circle\"},\"mode\":\"markers\",\"name\":\"USA\",\"orientation\":\"v\",\"showlegend\":true,\"x\":[63285.232257],\"xaxis\":\"x\",\"y\":[3.131109],\"yaxis\":\"y\",\"type\":\"scatter\"},{\"hovertemplate\":\"LOCATION=USA<extra></extra>\",\"legendgroup\":\"USA\",\"marker\":{\"color\":\"#FECB52\",\"symbol\":\"circle\"},\"mode\":\"lines\",\"name\":\"USA\",\"showlegend\":false,\"xaxis\":\"x\",\"yaxis\":\"y\",\"type\":\"scatter\"},{\"hovertemplate\":\"LOCATION=CHL<br>Values1=%{x}<br>Values2=%{y}<extra></extra>\",\"legendgroup\":\"CHL\",\"marker\":{\"color\":\"#636efa\",\"symbol\":\"circle\"},\"mode\":\"markers\",\"name\":\"CHL\",\"orientation\":\"v\",\"showlegend\":true,\"x\":[24354.759077],\"xaxis\":\"x\",\"y\":[null],\"yaxis\":\"y\",\"type\":\"scatter\"},{\"hovertemplate\":\"LOCATION=CHL<extra></extra>\",\"legendgroup\":\"CHL\",\"marker\":{\"color\":\"#636efa\",\"symbol\":\"circle\"},\"mode\":\"lines\",\"name\":\"CHL\",\"showlegend\":false,\"xaxis\":\"x\",\"yaxis\":\"y\",\"type\":\"scatter\"},{\"hovertemplate\":\"LOCATION=COL<br>Values1=%{x}<br>Values2=%{y}<extra></extra>\",\"legendgroup\":\"COL\",\"marker\":{\"color\":\"#EF553B\",\"symbol\":\"circle\"},\"mode\":\"markers\",\"name\":\"COL\",\"orientation\":\"v\",\"showlegend\":true,\"x\":[16126.784493],\"xaxis\":\"x\",\"y\":[14.626184],\"yaxis\":\"y\",\"type\":\"scatter\"},{\"hovertemplate\":\"LOCATION=COL<extra></extra>\",\"legendgroup\":\"COL\",\"marker\":{\"color\":\"#EF553B\",\"symbol\":\"circle\"},\"mode\":\"lines\",\"name\":\"COL\",\"showlegend\":false,\"xaxis\":\"x\",\"yaxis\":\"y\",\"type\":\"scatter\"},{\"hovertemplate\":\"LOCATION=EST<br>Values1=%{x}<br>Values2=%{y}<extra></extra>\",\"legendgroup\":\"EST\",\"marker\":{\"color\":\"#00cc96\",\"symbol\":\"circle\"},\"mode\":\"markers\",\"name\":\"EST\",\"orientation\":\"v\",\"showlegend\":true,\"x\":[37735.307368],\"xaxis\":\"x\",\"y\":[4.6543674],\"yaxis\":\"y\",\"type\":\"scatter\"},{\"hovertemplate\":\"LOCATION=EST<extra></extra>\",\"legendgroup\":\"EST\",\"marker\":{\"color\":\"#00cc96\",\"symbol\":\"circle\"},\"mode\":\"lines\",\"name\":\"EST\",\"showlegend\":false,\"xaxis\":\"x\",\"yaxis\":\"y\",\"type\":\"scatter\"},{\"hovertemplate\":\"LOCATION=ISR<br>Values1=%{x}<br>Values2=%{y}<extra></extra>\",\"legendgroup\":\"ISR\",\"marker\":{\"color\":\"#ab63fa\",\"symbol\":\"circle\"},\"mode\":\"markers\",\"name\":\"ISR\",\"orientation\":\"v\",\"showlegend\":true,\"x\":[40150.933835],\"xaxis\":\"x\",\"y\":[3.1695001],\"yaxis\":\"y\",\"type\":\"scatter\"},{\"hovertemplate\":\"LOCATION=ISR<extra></extra>\",\"legendgroup\":\"ISR\",\"marker\":{\"color\":\"#ab63fa\",\"symbol\":\"circle\"},\"mode\":\"lines\",\"name\":\"ISR\",\"showlegend\":false,\"xaxis\":\"x\",\"yaxis\":\"y\",\"type\":\"scatter\"},{\"hovertemplate\":\"LOCATION=RUS<br>Values1=%{x}<br>Values2=%{y}<extra></extra>\",\"legendgroup\":\"RUS\",\"marker\":{\"color\":\"#FFA15A\",\"symbol\":\"circle\"},\"mode\":\"markers\",\"name\":\"RUS\",\"orientation\":\"v\",\"showlegend\":true,\"x\":[29808.317812],\"xaxis\":\"x\",\"y\":[null],\"yaxis\":\"y\",\"type\":\"scatter\"},{\"hovertemplate\":\"LOCATION=RUS<extra></extra>\",\"legendgroup\":\"RUS\",\"marker\":{\"color\":\"#FFA15A\",\"symbol\":\"circle\"},\"mode\":\"lines\",\"name\":\"RUS\",\"showlegend\":false,\"xaxis\":\"x\",\"yaxis\":\"y\",\"type\":\"scatter\"},{\"hovertemplate\":\"LOCATION=SVN<br>Values1=%{x}<br>Values2=%{y}<extra></extra>\",\"legendgroup\":\"SVN\",\"marker\":{\"color\":\"#19d3f3\",\"symbol\":\"circle\"},\"mode\":\"markers\",\"name\":\"SVN\",\"orientation\":\"v\",\"showlegend\":true,\"x\":[39798.053356],\"xaxis\":\"x\",\"y\":[2.996057],\"yaxis\":\"y\",\"type\":\"scatter\"},{\"hovertemplate\":\"LOCATION=SVN<extra></extra>\",\"legendgroup\":\"SVN\",\"marker\":{\"color\":\"#19d3f3\",\"symbol\":\"circle\"},\"mode\":\"lines\",\"name\":\"SVN\",\"showlegend\":false,\"xaxis\":\"x\",\"yaxis\":\"y\",\"type\":\"scatter\"},{\"hovertemplate\":\"LOCATION=ZAF<br>Values1=%{x}<br>Values2=%{y}<extra></extra>\",\"legendgroup\":\"ZAF\",\"marker\":{\"color\":\"#FF6692\",\"symbol\":\"circle\"},\"mode\":\"markers\",\"name\":\"ZAF\",\"orientation\":\"v\",\"showlegend\":true,\"x\":[12354.983737],\"xaxis\":\"x\",\"y\":[13.041055],\"yaxis\":\"y\",\"type\":\"scatter\"},{\"hovertemplate\":\"LOCATION=ZAF<extra></extra>\",\"legendgroup\":\"ZAF\",\"marker\":{\"color\":\"#FF6692\",\"symbol\":\"circle\"},\"mode\":\"lines\",\"name\":\"ZAF\",\"showlegend\":false,\"xaxis\":\"x\",\"yaxis\":\"y\",\"type\":\"scatter\"},{\"hovertemplate\":\"LOCATION=OECD<br>Values1=%{x}<br>Values2=%{y}<extra></extra>\",\"legendgroup\":\"OECD\",\"marker\":{\"color\":\"#B6E880\",\"symbol\":\"circle\"},\"mode\":\"markers\",\"name\":\"OECD\",\"orientation\":\"v\",\"showlegend\":true,\"x\":[45181.548349],\"xaxis\":\"x\",\"y\":[null],\"yaxis\":\"y\",\"type\":\"scatter\"},{\"hovertemplate\":\"LOCATION=OECD<extra></extra>\",\"legendgroup\":\"OECD\",\"marker\":{\"color\":\"#B6E880\",\"symbol\":\"circle\"},\"mode\":\"lines\",\"name\":\"OECD\",\"showlegend\":false,\"xaxis\":\"x\",\"yaxis\":\"y\",\"type\":\"scatter\"},{\"hovertemplate\":\"LOCATION=OECDE<br>Values1=%{x}<br>Values2=%{y}<extra></extra>\",\"legendgroup\":\"OECDE\",\"marker\":{\"color\":\"#FF97FF\",\"symbol\":\"circle\"},\"mode\":\"markers\",\"name\":\"OECDE\",\"orientation\":\"v\",\"showlegend\":true,\"x\":[43931.466243],\"xaxis\":\"x\",\"y\":[null],\"yaxis\":\"y\",\"type\":\"scatter\"},{\"hovertemplate\":\"LOCATION=OECDE<extra></extra>\",\"legendgroup\":\"OECDE\",\"marker\":{\"color\":\"#FF97FF\",\"symbol\":\"circle\"},\"mode\":\"lines\",\"name\":\"OECDE\",\"showlegend\":false,\"xaxis\":\"x\",\"yaxis\":\"y\",\"type\":\"scatter\"},{\"hovertemplate\":\"LOCATION=LVA<br>Values1=%{x}<br>Values2=%{y}<extra></extra>\",\"legendgroup\":\"LVA\",\"marker\":{\"color\":\"#FECB52\",\"symbol\":\"circle\"},\"mode\":\"markers\",\"name\":\"LVA\",\"orientation\":\"v\",\"showlegend\":true,\"x\":[31539.195384],\"xaxis\":\"x\",\"y\":[5.1608315],\"yaxis\":\"y\",\"type\":\"scatter\"},{\"hovertemplate\":\"LOCATION=LVA<extra></extra>\",\"legendgroup\":\"LVA\",\"marker\":{\"color\":\"#FECB52\",\"symbol\":\"circle\"},\"mode\":\"lines\",\"name\":\"LVA\",\"showlegend\":false,\"xaxis\":\"x\",\"yaxis\":\"y\",\"type\":\"scatter\"},{\"hovertemplate\":\"LOCATION=LTU<br>Values1=%{x}<br>Values2=%{y}<extra></extra>\",\"legendgroup\":\"LTU\",\"marker\":{\"color\":\"#636efa\",\"symbol\":\"circle\"},\"mode\":\"markers\",\"name\":\"LTU\",\"orientation\":\"v\",\"showlegend\":true,\"x\":[38958.8579],\"xaxis\":\"x\",\"y\":[4.0719481],\"yaxis\":\"y\",\"type\":\"scatter\"},{\"hovertemplate\":\"LOCATION=LTU<extra></extra>\",\"legendgroup\":\"LTU\",\"marker\":{\"color\":\"#636efa\",\"symbol\":\"circle\"},\"mode\":\"lines\",\"name\":\"LTU\",\"showlegend\":false,\"xaxis\":\"x\",\"yaxis\":\"y\",\"type\":\"scatter\"},{\"hovertemplate\":\"LOCATION=SAU<br>Values1=%{x}<br>Values2=%{y}<extra></extra>\",\"legendgroup\":\"SAU\",\"marker\":{\"color\":\"#EF553B\",\"symbol\":\"circle\"},\"mode\":\"markers\",\"name\":\"SAU\",\"orientation\":\"v\",\"showlegend\":true,\"x\":[46362.649888],\"xaxis\":\"x\",\"y\":[null],\"yaxis\":\"y\",\"type\":\"scatter\"},{\"hovertemplate\":\"LOCATION=SAU<extra></extra>\",\"legendgroup\":\"SAU\",\"marker\":{\"color\":\"#EF553B\",\"symbol\":\"circle\"},\"mode\":\"lines\",\"name\":\"SAU\",\"showlegend\":false,\"xaxis\":\"x\",\"yaxis\":\"y\",\"type\":\"scatter\"},{\"hovertemplate\":\"LOCATION=EA19<br>Values1=%{x}<br>Values2=%{y}<extra></extra>\",\"legendgroup\":\"EA19\",\"marker\":{\"color\":\"#00cc96\",\"symbol\":\"circle\"},\"mode\":\"markers\",\"name\":\"EA19\",\"orientation\":\"v\",\"showlegend\":true,\"x\":[47207.114538],\"xaxis\":\"x\",\"y\":[null],\"yaxis\":\"y\",\"type\":\"scatter\"},{\"hovertemplate\":\"LOCATION=EA19<extra></extra>\",\"legendgroup\":\"EA19\",\"marker\":{\"color\":\"#00cc96\",\"symbol\":\"circle\"},\"mode\":\"lines\",\"name\":\"EA19\",\"showlegend\":false,\"xaxis\":\"x\",\"yaxis\":\"y\",\"type\":\"scatter\"},{\"hovertemplate\":\"LOCATION=CRI<br>Values1=%{x}<br>Values2=%{y}<extra></extra>\",\"legendgroup\":\"CRI\",\"marker\":{\"color\":\"#ab63fa\",\"symbol\":\"circle\"},\"mode\":\"markers\",\"name\":\"CRI\",\"orientation\":\"v\",\"showlegend\":true,\"x\":[22239.587759],\"xaxis\":\"x\",\"y\":[11.682704],\"yaxis\":\"y\",\"type\":\"scatter\"},{\"hovertemplate\":\"LOCATION=CRI<extra></extra>\",\"legendgroup\":\"CRI\",\"marker\":{\"color\":\"#ab63fa\",\"symbol\":\"circle\"},\"mode\":\"lines\",\"name\":\"CRI\",\"showlegend\":false,\"xaxis\":\"x\",\"yaxis\":\"y\",\"type\":\"scatter\"},{\"hovertemplate\":\"LOCATION=BGR<br>Values1=%{x}<br>Values2=%{y}<extra></extra>\",\"legendgroup\":\"BGR\",\"marker\":{\"color\":\"#FFA15A\",\"symbol\":\"circle\"},\"mode\":\"markers\",\"name\":\"BGR\",\"orientation\":\"v\",\"showlegend\":true,\"x\":[24626.059448],\"xaxis\":\"x\",\"y\":[null],\"yaxis\":\"y\",\"type\":\"scatter\"},{\"hovertemplate\":\"LOCATION=BGR<extra></extra>\",\"legendgroup\":\"BGR\",\"marker\":{\"color\":\"#FFA15A\",\"symbol\":\"circle\"},\"mode\":\"lines\",\"name\":\"BGR\",\"showlegend\":false,\"xaxis\":\"x\",\"yaxis\":\"y\",\"type\":\"scatter\"},{\"hovertemplate\":\"LOCATION=HRV<br>Values1=%{x}<br>Values2=%{y}<extra></extra>\",\"legendgroup\":\"HRV\",\"marker\":{\"color\":\"#19d3f3\",\"symbol\":\"circle\"},\"mode\":\"markers\",\"name\":\"HRV\",\"orientation\":\"v\",\"showlegend\":true,\"x\":[29119.815227],\"xaxis\":\"x\",\"y\":[null],\"yaxis\":\"y\",\"type\":\"scatter\"},{\"hovertemplate\":\"LOCATION=HRV<extra></extra>\",\"legendgroup\":\"HRV\",\"marker\":{\"color\":\"#19d3f3\",\"symbol\":\"circle\"},\"mode\":\"lines\",\"name\":\"HRV\",\"showlegend\":false,\"xaxis\":\"x\",\"yaxis\":\"y\",\"type\":\"scatter\"},{\"hovertemplate\":\"LOCATION=CYP<br>Values1=%{x}<br>Values2=%{y}<extra></extra>\",\"legendgroup\":\"CYP\",\"marker\":{\"color\":\"#FF6692\",\"symbol\":\"circle\"},\"mode\":\"markers\",\"name\":\"CYP\",\"orientation\":\"v\",\"showlegend\":true,\"x\":[39857.619929],\"xaxis\":\"x\",\"y\":[null],\"yaxis\":\"y\",\"type\":\"scatter\"},{\"hovertemplate\":\"LOCATION=CYP<extra></extra>\",\"legendgroup\":\"CYP\",\"marker\":{\"color\":\"#FF6692\",\"symbol\":\"circle\"},\"mode\":\"lines\",\"name\":\"CYP\",\"showlegend\":false,\"xaxis\":\"x\",\"yaxis\":\"y\",\"type\":\"scatter\"},{\"hovertemplate\":\"LOCATION=MLT<br>Values1=%{x}<br>Values2=%{y}<extra></extra>\",\"legendgroup\":\"MLT\",\"marker\":{\"color\":\"#B6E880\",\"symbol\":\"circle\"},\"mode\":\"markers\",\"name\":\"MLT\",\"orientation\":\"v\",\"showlegend\":true,\"x\":[44200.322498],\"xaxis\":\"x\",\"y\":[null],\"yaxis\":\"y\",\"type\":\"scatter\"},{\"hovertemplate\":\"LOCATION=MLT<extra></extra>\",\"legendgroup\":\"MLT\",\"marker\":{\"color\":\"#B6E880\",\"symbol\":\"circle\"},\"mode\":\"lines\",\"name\":\"MLT\",\"showlegend\":false,\"xaxis\":\"x\",\"yaxis\":\"y\",\"type\":\"scatter\"},{\"hovertemplate\":\"LOCATION=ROU<br>Values1=%{x}<br>Values2=%{y}<extra></extra>\",\"legendgroup\":\"ROU\",\"marker\":{\"color\":\"#FF97FF\",\"symbol\":\"circle\"},\"mode\":\"markers\",\"name\":\"ROU\",\"orientation\":\"v\",\"showlegend\":true,\"x\":[31875.149114],\"xaxis\":\"x\",\"y\":[null],\"yaxis\":\"y\",\"type\":\"scatter\"},{\"hovertemplate\":\"LOCATION=ROU<extra></extra>\",\"legendgroup\":\"ROU\",\"marker\":{\"color\":\"#FF97FF\",\"symbol\":\"circle\"},\"mode\":\"lines\",\"name\":\"ROU\",\"showlegend\":false,\"xaxis\":\"x\",\"yaxis\":\"y\",\"type\":\"scatter\"},{\"hovertemplate\":\"LOCATION=EU27_2020<br>Values1=%{x}<br>Values2=%{y}<extra></extra>\",\"legendgroup\":\"EU27_2020\",\"marker\":{\"color\":\"#FECB52\",\"symbol\":\"circle\"},\"mode\":\"markers\",\"name\":\"EU27_2020\",\"orientation\":\"v\",\"showlegend\":true,\"x\":[41584.642039],\"xaxis\":\"x\",\"y\":[null],\"yaxis\":\"y\",\"type\":\"scatter\"},{\"hovertemplate\":\"LOCATION=EU27_2020<extra></extra>\",\"legendgroup\":\"EU27_2020\",\"marker\":{\"color\":\"#FECB52\",\"symbol\":\"circle\"},\"mode\":\"lines\",\"name\":\"EU27_2020\",\"showlegend\":false,\"xaxis\":\"x\",\"yaxis\":\"y\",\"type\":\"scatter\"},{\"hovertemplate\":\"LOCATION=BRA<br>Values1=%{x}<br>Values2=%{y}<extra></extra>\",\"legendgroup\":\"BRA\",\"marker\":{\"color\":\"#636efa\",\"symbol\":\"circle\"},\"mode\":\"markers\",\"name\":\"BRA\",\"orientation\":\"v\",\"showlegend\":true,\"x\":[null],\"xaxis\":\"x\",\"y\":[6.2789159],\"yaxis\":\"y\",\"type\":\"scatter\"},{\"hovertemplate\":\"LOCATION=BRA<extra></extra>\",\"legendgroup\":\"BRA\",\"marker\":{\"color\":\"#636efa\",\"symbol\":\"circle\"},\"mode\":\"lines\",\"name\":\"BRA\",\"showlegend\":false,\"xaxis\":\"x\",\"yaxis\":\"y\",\"type\":\"scatter\"},{\"hovertemplate\":\"LOCATION=OAVG<br>Values1=%{x}<br>Values2=%{y}<extra></extra>\",\"legendgroup\":\"OAVG\",\"marker\":{\"color\":\"#EF553B\",\"symbol\":\"circle\"},\"mode\":\"markers\",\"name\":\"OAVG\",\"orientation\":\"v\",\"showlegend\":true,\"x\":[null],\"xaxis\":\"x\",\"y\":[4.605573],\"yaxis\":\"y\",\"type\":\"scatter\"},{\"hovertemplate\":\"LOCATION=OAVG<extra></extra>\",\"legendgroup\":\"OAVG\",\"marker\":{\"color\":\"#EF553B\",\"symbol\":\"circle\"},\"mode\":\"lines\",\"name\":\"OAVG\",\"showlegend\":false,\"xaxis\":\"x\",\"yaxis\":\"y\",\"type\":\"scatter\"}],                        {\"template\":{\"data\":{\"bar\":[{\"error_x\":{\"color\":\"#2a3f5f\"},\"error_y\":{\"color\":\"#2a3f5f\"},\"marker\":{\"line\":{\"color\":\"#E5ECF6\",\"width\":0.5},\"pattern\":{\"fillmode\":\"overlay\",\"size\":10,\"solidity\":0.2}},\"type\":\"bar\"}],\"barpolar\":[{\"marker\":{\"line\":{\"color\":\"#E5ECF6\",\"width\":0.5},\"pattern\":{\"fillmode\":\"overlay\",\"size\":10,\"solidity\":0.2}},\"type\":\"barpolar\"}],\"carpet\":[{\"aaxis\":{\"endlinecolor\":\"#2a3f5f\",\"gridcolor\":\"white\",\"linecolor\":\"white\",\"minorgridcolor\":\"white\",\"startlinecolor\":\"#2a3f5f\"},\"baxis\":{\"endlinecolor\":\"#2a3f5f\",\"gridcolor\":\"white\",\"linecolor\":\"white\",\"minorgridcolor\":\"white\",\"startlinecolor\":\"#2a3f5f\"},\"type\":\"carpet\"}],\"choropleth\":[{\"colorbar\":{\"outlinewidth\":0,\"ticks\":\"\"},\"type\":\"choropleth\"}],\"contour\":[{\"colorbar\":{\"outlinewidth\":0,\"ticks\":\"\"},\"colorscale\":[[0.0,\"#0d0887\"],[0.1111111111111111,\"#46039f\"],[0.2222222222222222,\"#7201a8\"],[0.3333333333333333,\"#9c179e\"],[0.4444444444444444,\"#bd3786\"],[0.5555555555555556,\"#d8576b\"],[0.6666666666666666,\"#ed7953\"],[0.7777777777777778,\"#fb9f3a\"],[0.8888888888888888,\"#fdca26\"],[1.0,\"#f0f921\"]],\"type\":\"contour\"}],\"contourcarpet\":[{\"colorbar\":{\"outlinewidth\":0,\"ticks\":\"\"},\"type\":\"contourcarpet\"}],\"heatmap\":[{\"colorbar\":{\"outlinewidth\":0,\"ticks\":\"\"},\"colorscale\":[[0.0,\"#0d0887\"],[0.1111111111111111,\"#46039f\"],[0.2222222222222222,\"#7201a8\"],[0.3333333333333333,\"#9c179e\"],[0.4444444444444444,\"#bd3786\"],[0.5555555555555556,\"#d8576b\"],[0.6666666666666666,\"#ed7953\"],[0.7777777777777778,\"#fb9f3a\"],[0.8888888888888888,\"#fdca26\"],[1.0,\"#f0f921\"]],\"type\":\"heatmap\"}],\"heatmapgl\":[{\"colorbar\":{\"outlinewidth\":0,\"ticks\":\"\"},\"colorscale\":[[0.0,\"#0d0887\"],[0.1111111111111111,\"#46039f\"],[0.2222222222222222,\"#7201a8\"],[0.3333333333333333,\"#9c179e\"],[0.4444444444444444,\"#bd3786\"],[0.5555555555555556,\"#d8576b\"],[0.6666666666666666,\"#ed7953\"],[0.7777777777777778,\"#fb9f3a\"],[0.8888888888888888,\"#fdca26\"],[1.0,\"#f0f921\"]],\"type\":\"heatmapgl\"}],\"histogram\":[{\"marker\":{\"pattern\":{\"fillmode\":\"overlay\",\"size\":10,\"solidity\":0.2}},\"type\":\"histogram\"}],\"histogram2d\":[{\"colorbar\":{\"outlinewidth\":0,\"ticks\":\"\"},\"colorscale\":[[0.0,\"#0d0887\"],[0.1111111111111111,\"#46039f\"],[0.2222222222222222,\"#7201a8\"],[0.3333333333333333,\"#9c179e\"],[0.4444444444444444,\"#bd3786\"],[0.5555555555555556,\"#d8576b\"],[0.6666666666666666,\"#ed7953\"],[0.7777777777777778,\"#fb9f3a\"],[0.8888888888888888,\"#fdca26\"],[1.0,\"#f0f921\"]],\"type\":\"histogram2d\"}],\"histogram2dcontour\":[{\"colorbar\":{\"outlinewidth\":0,\"ticks\":\"\"},\"colorscale\":[[0.0,\"#0d0887\"],[0.1111111111111111,\"#46039f\"],[0.2222222222222222,\"#7201a8\"],[0.3333333333333333,\"#9c179e\"],[0.4444444444444444,\"#bd3786\"],[0.5555555555555556,\"#d8576b\"],[0.6666666666666666,\"#ed7953\"],[0.7777777777777778,\"#fb9f3a\"],[0.8888888888888888,\"#fdca26\"],[1.0,\"#f0f921\"]],\"type\":\"histogram2dcontour\"}],\"mesh3d\":[{\"colorbar\":{\"outlinewidth\":0,\"ticks\":\"\"},\"type\":\"mesh3d\"}],\"parcoords\":[{\"line\":{\"colorbar\":{\"outlinewidth\":0,\"ticks\":\"\"}},\"type\":\"parcoords\"}],\"pie\":[{\"automargin\":true,\"type\":\"pie\"}],\"scatter\":[{\"marker\":{\"colorbar\":{\"outlinewidth\":0,\"ticks\":\"\"}},\"type\":\"scatter\"}],\"scatter3d\":[{\"line\":{\"colorbar\":{\"outlinewidth\":0,\"ticks\":\"\"}},\"marker\":{\"colorbar\":{\"outlinewidth\":0,\"ticks\":\"\"}},\"type\":\"scatter3d\"}],\"scattercarpet\":[{\"marker\":{\"colorbar\":{\"outlinewidth\":0,\"ticks\":\"\"}},\"type\":\"scattercarpet\"}],\"scattergeo\":[{\"marker\":{\"colorbar\":{\"outlinewidth\":0,\"ticks\":\"\"}},\"type\":\"scattergeo\"}],\"scattergl\":[{\"marker\":{\"colorbar\":{\"outlinewidth\":0,\"ticks\":\"\"}},\"type\":\"scattergl\"}],\"scattermapbox\":[{\"marker\":{\"colorbar\":{\"outlinewidth\":0,\"ticks\":\"\"}},\"type\":\"scattermapbox\"}],\"scatterpolar\":[{\"marker\":{\"colorbar\":{\"outlinewidth\":0,\"ticks\":\"\"}},\"type\":\"scatterpolar\"}],\"scatterpolargl\":[{\"marker\":{\"colorbar\":{\"outlinewidth\":0,\"ticks\":\"\"}},\"type\":\"scatterpolargl\"}],\"scatterternary\":[{\"marker\":{\"colorbar\":{\"outlinewidth\":0,\"ticks\":\"\"}},\"type\":\"scatterternary\"}],\"surface\":[{\"colorbar\":{\"outlinewidth\":0,\"ticks\":\"\"},\"colorscale\":[[0.0,\"#0d0887\"],[0.1111111111111111,\"#46039f\"],[0.2222222222222222,\"#7201a8\"],[0.3333333333333333,\"#9c179e\"],[0.4444444444444444,\"#bd3786\"],[0.5555555555555556,\"#d8576b\"],[0.6666666666666666,\"#ed7953\"],[0.7777777777777778,\"#fb9f3a\"],[0.8888888888888888,\"#fdca26\"],[1.0,\"#f0f921\"]],\"type\":\"surface\"}],\"table\":[{\"cells\":{\"fill\":{\"color\":\"#EBF0F8\"},\"line\":{\"color\":\"white\"}},\"header\":{\"fill\":{\"color\":\"#C8D4E3\"},\"line\":{\"color\":\"white\"}},\"type\":\"table\"}]},\"layout\":{\"annotationdefaults\":{\"arrowcolor\":\"#2a3f5f\",\"arrowhead\":0,\"arrowwidth\":1},\"autotypenumbers\":\"strict\",\"coloraxis\":{\"colorbar\":{\"outlinewidth\":0,\"ticks\":\"\"}},\"colorscale\":{\"diverging\":[[0,\"#8e0152\"],[0.1,\"#c51b7d\"],[0.2,\"#de77ae\"],[0.3,\"#f1b6da\"],[0.4,\"#fde0ef\"],[0.5,\"#f7f7f7\"],[0.6,\"#e6f5d0\"],[0.7,\"#b8e186\"],[0.8,\"#7fbc41\"],[0.9,\"#4d9221\"],[1,\"#276419\"]],\"sequential\":[[0.0,\"#0d0887\"],[0.1111111111111111,\"#46039f\"],[0.2222222222222222,\"#7201a8\"],[0.3333333333333333,\"#9c179e\"],[0.4444444444444444,\"#bd3786\"],[0.5555555555555556,\"#d8576b\"],[0.6666666666666666,\"#ed7953\"],[0.7777777777777778,\"#fb9f3a\"],[0.8888888888888888,\"#fdca26\"],[1.0,\"#f0f921\"]],\"sequentialminus\":[[0.0,\"#0d0887\"],[0.1111111111111111,\"#46039f\"],[0.2222222222222222,\"#7201a8\"],[0.3333333333333333,\"#9c179e\"],[0.4444444444444444,\"#bd3786\"],[0.5555555555555556,\"#d8576b\"],[0.6666666666666666,\"#ed7953\"],[0.7777777777777778,\"#fb9f3a\"],[0.8888888888888888,\"#fdca26\"],[1.0,\"#f0f921\"]]},\"colorway\":[\"#636efa\",\"#EF553B\",\"#00cc96\",\"#ab63fa\",\"#FFA15A\",\"#19d3f3\",\"#FF6692\",\"#B6E880\",\"#FF97FF\",\"#FECB52\"],\"font\":{\"color\":\"#2a3f5f\"},\"geo\":{\"bgcolor\":\"white\",\"lakecolor\":\"white\",\"landcolor\":\"#E5ECF6\",\"showlakes\":true,\"showland\":true,\"subunitcolor\":\"white\"},\"hoverlabel\":{\"align\":\"left\"},\"hovermode\":\"closest\",\"mapbox\":{\"style\":\"light\"},\"paper_bgcolor\":\"white\",\"plot_bgcolor\":\"#E5ECF6\",\"polar\":{\"angularaxis\":{\"gridcolor\":\"white\",\"linecolor\":\"white\",\"ticks\":\"\"},\"bgcolor\":\"#E5ECF6\",\"radialaxis\":{\"gridcolor\":\"white\",\"linecolor\":\"white\",\"ticks\":\"\"}},\"scene\":{\"xaxis\":{\"backgroundcolor\":\"#E5ECF6\",\"gridcolor\":\"white\",\"gridwidth\":2,\"linecolor\":\"white\",\"showbackground\":true,\"ticks\":\"\",\"zerolinecolor\":\"white\"},\"yaxis\":{\"backgroundcolor\":\"#E5ECF6\",\"gridcolor\":\"white\",\"gridwidth\":2,\"linecolor\":\"white\",\"showbackground\":true,\"ticks\":\"\",\"zerolinecolor\":\"white\"},\"zaxis\":{\"backgroundcolor\":\"#E5ECF6\",\"gridcolor\":\"white\",\"gridwidth\":2,\"linecolor\":\"white\",\"showbackground\":true,\"ticks\":\"\",\"zerolinecolor\":\"white\"}},\"shapedefaults\":{\"line\":{\"color\":\"#2a3f5f\"}},\"ternary\":{\"aaxis\":{\"gridcolor\":\"white\",\"linecolor\":\"white\",\"ticks\":\"\"},\"baxis\":{\"gridcolor\":\"white\",\"linecolor\":\"white\",\"ticks\":\"\"},\"bgcolor\":\"#E5ECF6\",\"caxis\":{\"gridcolor\":\"white\",\"linecolor\":\"white\",\"ticks\":\"\"}},\"title\":{\"x\":0.05},\"xaxis\":{\"automargin\":true,\"gridcolor\":\"white\",\"linecolor\":\"white\",\"ticks\":\"\",\"title\":{\"standoff\":15},\"zerolinecolor\":\"white\",\"zerolinewidth\":2},\"yaxis\":{\"automargin\":true,\"gridcolor\":\"white\",\"linecolor\":\"white\",\"ticks\":\"\",\"title\":{\"standoff\":15},\"zerolinecolor\":\"white\",\"zerolinewidth\":2}}},\"xaxis\":{\"anchor\":\"y\",\"domain\":[0.0,1.0],\"title\":{\"text\":\"GDP per capita 2020\"}},\"yaxis\":{\"anchor\":\"x\",\"domain\":[0.0,1.0],\"title\":{\"text\":\"unemployed tertiary educated [%]\"}},\"legend\":{\"title\":{\"text\":\"Countries\"},\"tracegroupgap\":0},\"title\":{\"text\":\"GDP 2020 and unemployed tertiary educated 25-64 year-old people,        corr = -0.45\"}},                        {\"responsive\": true}                    ).then(function(){\n                            \nvar gd = document.getElementById('6bb65b37-4661-4b92-8f75-f6eefbbd728c');\nvar x = new MutationObserver(function (mutations, observer) {{\n        var display = window.getComputedStyle(gd).display;\n        if (!display || display === 'none') {{\n            console.log([gd, 'removed!']);\n            Plotly.purge(gd);\n            observer.disconnect();\n        }}\n}});\n\n// Listen for the removal of the full notebook cells\nvar notebookContainer = gd.closest('#notebook-container');\nif (notebookContainer) {{\n    x.observe(notebookContainer, {childList: true});\n}}\n\n// Listen for the clearing of the current output cell\nvar outputEl = gd.closest('.output');\nif (outputEl) {{\n    x.observe(outputEl, {childList: true});\n}}\n\n                        })                };                });            </script>        </div>"
     },
     "metadata": {},
     "output_type": "display_data"
    }
   ],
   "source": [
    "# =========== final program ============\n",
    "plot_lineplot1()\n",
    "plot_lineplot2()\n",
    "plot_lineplot3()\n",
    "plot_barplot1()\n",
    "plot_barplot2()\n",
    "plot_barplot3()\n",
    "plot_scatterplot1()\n",
    "plot_scatterplot2()\n",
    "plot_scatterplot3()"
   ]
  }
 ],
 "metadata": {
  "kernelspec": {
   "display_name": "Python 3 (ipykernel)",
   "language": "python",
   "name": "python3"
  },
  "language_info": {
   "codemirror_mode": {
    "name": "ipython",
    "version": 3
   },
   "file_extension": ".py",
   "mimetype": "text/x-python",
   "name": "python",
   "nbconvert_exporter": "python",
   "pygments_lexer": "ipython3",
   "version": "3.9.7"
  }
 },
 "nbformat": 4,
 "nbformat_minor": 5
}