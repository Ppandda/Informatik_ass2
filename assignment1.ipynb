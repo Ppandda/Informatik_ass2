{
 "cells": [
  {
   "cell_type": "code",
   "execution_count": null,
   "id": "technological-particle",
   "metadata": {
    "id": "DTTNYLhJuISK",
    "tags": []
   },
   "outputs": [],
   "source": [
    "################################################################################\n",
    "# Author:      Bernhard Lugger\n",
    "# MatNr:       01114792\n",
    "# File:        assignment1.ipynb\n",
    "# Description: solution for Assignment 1\n",
    "# Comments:    -\n",
    "################################################################################"
   ]
  },
  {
   "cell_type": "markdown",
   "id": "rolled-sponsorship",
   "metadata": {},
   "source": [
    "<center>\n",
    "    <h1>Assignment 1 (25 P)</h1>\n",
    "    <h3>- \"Basic Programming Concepts\" -</h3> \n",
    "</center>"
   ]
  },
  {
   "cell_type": "markdown",
   "id": "important-joining",
   "metadata": {},
   "source": [
    "## 1. Functions (1P)\n",
    "\n",
    "Functions:\n",
    "https://docs.python.org/3/tutorial/controlflow.html#defining-functions\n",
    "\n",
    "Numeric types (`int`, `float`):  \n",
    "https://docs.python.org/3/library/stdtypes.html#built-in-types  \n",
    "https://docs.python.org/3/library/stdtypes.html#numeric-types-int-float-complex  "
   ]
  },
  {
   "cell_type": "markdown",
   "id": "exciting-particular",
   "metadata": {},
   "source": [
    "### A simple function\n",
    "#### Required Function: `say_hello`"
   ]
  },
  {
   "cell_type": "code",
   "execution_count": 93,
   "id": "arbitrary-economics",
   "metadata": {},
   "outputs": [],
   "source": [
    "def say_hello():\n",
    "    name = \"Bernhard Lugger\"\n",
    "    mat_nr = \"01114792\"\n",
    "    string_hello = \"Hello, my name is {}, and my matriculation number is {}.\".format(name, matriculation_number)\n",
    "    print(string_hello)"
   ]
  },
  {
   "cell_type": "code",
   "execution_count": 95,
   "id": "cutting-circuit",
   "metadata": {
    "tags": []
   },
   "outputs": [
    {
     "name": "stdout",
     "output_type": "stream",
     "text": [
      "Hello, my name is Bernhard Lugger, and my matriculation number is 01114792.\n"
     ]
    }
   ],
   "source": [
    "name = \"Bernhard Lugger\"\n",
    "matriculation_number = \"01114792\"\n",
    "\n",
    "say_hello()"
   ]
  },
  {
   "cell_type": "markdown",
   "id": "inner-complexity",
   "metadata": {
    "tags": []
   },
   "source": [
    "### Calculate burned calories\n",
    "#### Required Function: `met_to_burned_calories_per_minute`"
   ]
  },
  {
   "cell_type": "code",
   "execution_count": 13,
   "id": "steady-reggae",
   "metadata": {},
   "outputs": [],
   "source": [
    "def met_to_burned_calories_per_minute(met, weight):\n",
    "    calories_per_minute = (met * 3.5 * weight) / 200\n",
    "    return calories_per_minute"
   ]
  },
  {
   "cell_type": "code",
   "execution_count": 16,
   "id": "compressed-motorcycle",
   "metadata": {
    "tags": []
   },
   "outputs": [
    {
     "name": "stdout",
     "output_type": "stream",
     "text": [
      "15.974\n"
     ]
    }
   ],
   "source": [
    "test_calories_per_minute = met_to_burned_calories_per_minute(14, 65.2)\n",
    "print(test_calories_per_minute)"
   ]
  },
  {
   "cell_type": "markdown",
   "id": "superior-gathering",
   "metadata": {},
   "source": [
    "## 2. Conditional Statements (2P)\n",
    "`if` Statement:  \n",
    "https://docs.python.org/3/tutorial/controlflow.html#if-statements\n",
    "### Calculate a student's Informatics 1 grade\n",
    "#### Required Function: `calculate_informatics1_grade`"
   ]
  },
  {
   "cell_type": "code",
   "execution_count": 1,
   "id": "sensitive-spine",
   "metadata": {},
   "outputs": [],
   "source": [
    "def calculate_informatics1_grade(is_ass1_submitted, is_ass2_submitted, ass1_points, ass2_points, lp_points, exam_points, bonus_points):\n",
    "    if is_ass1_submitted == False:\n",
    "        print(\"As you didn't submit Assignment 1, you were deregistered from the course and receive no grade.\") \n",
    "        return None\n",
    "    \n",
    "    if is_ass2_submitted == False and is_ass1_submitted == True:\n",
    "        print(\"As you didn't submit Assignment 2, your Informatics 1 grade is 5!\") \n",
    "        return 5\n",
    "    \n",
    "    if is_ass2_submitted == True and is_ass1_submitted == True:\n",
    "        max_practical_points = 75\n",
    "        practical_points = ass1_points + ass2_points + lp_points\n",
    "        if practical_points > max_practical_points:\n",
    "            practical_points = max_practical_points\n",
    "            \n",
    "        reached_points = practical_points\n",
    "        max_points_reachable = 100\n",
    "        max_exam_points_reachable = 25\n",
    "        \n",
    "        if exam_points >= (max_exam_points_reachable * 0.5):\n",
    "            reached_points = practical_points + exam_points\n",
    "            \n",
    "            if reached_points >= (max_points_reachable * 0.5):\n",
    "                reached_points = reached_points + bonus_points\n",
    "                if reached_points > max_points_reachable:\n",
    "                    reached_points = max_points_reachable\n",
    "    \n",
    "   # else: print(\"unknwnon error - you found the nivana condition. Congratz!\") \n",
    "    \n",
    "    if  90.5 <= reached_points <= 100: grade = 1\n",
    "    if  80.5 <= reached_points < 90.5: grade = 2\n",
    "    if  65.5 <= reached_points < 80.5: grade = 3\n",
    "    if  50.5 <= reached_points < 65.5: grade = 4\n",
    "    if  00.0 <= reached_points < 50.5: grade = 5\n",
    "    \n",
    "    print(f\"You have {reached_points} total points, and your Informatics 1 grade is {grade}!\")\n",
    "    return grade"
   ]
  },
  {
   "cell_type": "code",
   "execution_count": 9,
   "id": "sharp-tissue",
   "metadata": {
    "tags": []
   },
   "outputs": [
    {
     "name": "stdout",
     "output_type": "stream",
     "text": [
      "You have 53 total points, and your Informatics 1 grade is 4!\n"
     ]
    },
    {
     "data": {
      "text/plain": [
       "4"
      ]
     },
     "execution_count": 9,
     "metadata": {},
     "output_type": "execute_result"
    }
   ],
   "source": [
    "calculate_informatics1_grade(True, True, 9, 15, 13, 13, 3)"
   ]
  },
  {
   "cell_type": "markdown",
   "id": "satisfied-bridal",
   "metadata": {},
   "source": [
    "## 3. Sequences and Sets (4P)\n",
    "Sequence Types (`list`, `tuple`):  \n",
    "https://docs.python.org/3/tutorial/introduction.html#lists  \n",
    "https://docs.python.org/3/tutorial/datastructures.html#more-on-lists  \n",
    "https://docs.python.org/3/tutorial/datastructures.html#tuples-and-sequences  \n",
    "\n",
    "Set Types (`set`):     \n",
    "https://docs.python.org/3/tutorial/datastructures.html#sets  \n",
    "### Replace sport\n",
    "#### Required Function: `replace_sports`"
   ]
  },
  {
   "cell_type": "code",
   "execution_count": 98,
   "id": "intended-steering",
   "metadata": {},
   "outputs": [],
   "source": [
    "sports = [\"soccer\", \"baseball\", \"baseball\", \"soccer\", \"basketball\", \"baseball\", \"soccer\"]\n",
    "old_sport = \"soccer\"\n",
    "new_sport = \"football\""
   ]
  },
  {
   "cell_type": "code",
   "execution_count": 99,
   "id": "gothic-kinase",
   "metadata": {},
   "outputs": [],
   "source": [
    "\n",
    "def replace_sport(sports, old_sport, new_sport):\n",
    "    quantity_of_sports = len(sports)\n",
    "    quantity_of_old_sport = sports.count(old_sport)\n",
    "    old_sport_counter = 0\n",
    "    new_sport_counter = 0\n",
    "        \n",
    "    if old_sport_counter < quantity_of_old_sport:\n",
    "        sports.remove(old_sport)\n",
    "        old_sport_counter += 1\n",
    "        \n",
    "    if old_sport_counter < quantity_of_old_sport:\n",
    "        sports.remove(old_sport)\n",
    "        old_sport_counter += 1\n",
    "    \n",
    "    if old_sport_counter < quantity_of_old_sport:\n",
    "        sports.remove(old_sport)\n",
    "        old_sport_counter += 1\n",
    "        \n",
    "    if old_sport_counter < quantity_of_old_sport:\n",
    "        sports.remove(old_sport)\n",
    "        old_sport_counter += 1\n",
    "        \n",
    "    if old_sport_counter < quantity_of_old_sport:\n",
    "        sports.remove(old_sport)\n",
    "        old_sport_counter += 1\n",
    "        \n",
    "    if old_sport_counter < quantity_of_old_sport:\n",
    "        sports.remove(old_sport)\n",
    "        old_sport_counter += 1\n",
    "        \n",
    "    if old_sport_counter < quantity_of_old_sport:\n",
    "        sports.remove(old_sport)\n",
    "        old_sport_counter += 1\n",
    "\n",
    "    #   add new sport \n",
    "        \n",
    "    if new_sport_counter < quantity_of_old_sport:\n",
    "        sports.append(new_sport)\n",
    "        new_sport_counter += 1\n",
    "        \n",
    "    if new_sport_counter < quantity_of_old_sport:\n",
    "        sports.append(new_sport)\n",
    "        new_sport_counter += 1\n",
    "        \n",
    "    if new_sport_counter < quantity_of_old_sport:\n",
    "        sports.append(new_sport)\n",
    "        new_sport_counter += 1\n",
    "        \n",
    "    if new_sport_counter < quantity_of_old_sport:\n",
    "        sports.append(new_sport)\n",
    "        new_sport_counter += 1\n",
    "\n",
    "    if new_sport_counter < quantity_of_old_sport:\n",
    "        sports.append(new_sport)\n",
    "        new_sport_counter += 1\n",
    "        \n",
    "    if new_sport_counter < quantity_of_old_sport:\n",
    "        sports.append(new_sport)\n",
    "        new_sport_counter += 1\n",
    "        \n",
    "    if new_sport_counter < quantity_of_old_sport:\n",
    "        sports.append(new_sport)\n",
    "        new_sport_counter += 1\n",
    "        \n",
    "    sports.sort()\n",
    "    return sports"
   ]
  },
  {
   "cell_type": "code",
   "execution_count": 100,
   "id": "starting-complex",
   "metadata": {
    "tags": []
   },
   "outputs": [
    {
     "data": {
      "text/plain": [
       "['basketball',\n",
       " 'skateboarding',\n",
       " 'skateboarding',\n",
       " 'skateboarding',\n",
       " 'soccer',\n",
       " 'soccer',\n",
       " 'soccer']"
      ]
     },
     "execution_count": 100,
     "metadata": {},
     "output_type": "execute_result"
    }
   ],
   "source": [
    "# test\n",
    "sports = [\"soccer\", \"baseball\", \"baseball\", \"soccer\", \"basketball\", \"baseball\", \"soccer\"]\n",
    "old_sport = \"baseball\"\n",
    "new_sport = \"skateboarding\"\n",
    "\n",
    "replace_sport(sports, old_sport, new_sport)"
   ]
  },
  {
   "cell_type": "markdown",
   "id": "imposed-investigator",
   "metadata": {},
   "source": [
    "### Athletes and doping cases \n",
    "#### Required Function: `dope_de_france`"
   ]
  },
  {
   "cell_type": "code",
   "execution_count": 101,
   "id": "former-induction",
   "metadata": {},
   "outputs": [],
   "source": [
    "winning_cyclists = {'Andy Schleck', 'Lance Armstrong', 'Cadel Evans', 'Vincenzo Nibali', 'Alberto Contador', 'Carlos Sastre', 'Bradley Wiggins', 'Floyd Landis', 'Oscar Pereiro', 'Chris Froome'}\n",
    "failed_tests = {'Lance Armstrong', 'Alexander Vinokourov', 'Jan Ullrich', 'Bernhard Kohl', 'Alberto Contador', 'Denis Menchov', 'Frank Schleck', 'Alejandro Valverde', 'Levi  Vinokourov', 'Ivan Basso', 'Floyd Landis', 'Raimondas Rumsas'}"
   ]
  },
  {
   "cell_type": "code",
   "execution_count": 102,
   "id": "stuffed-edition",
   "metadata": {},
   "outputs": [],
   "source": [
    "#Write your code in this cell: \n",
    "def dope_de_france(winning_cyclists, failed_tests):\n",
    "    clean_cyclists = winning_cyclists.difference(failed_tests)\n",
    "  # clean_cyclists = winning_cyclists - failed_tests     # works also\n",
    "   \n",
    "    doped_cyclists = winning_cyclists & failed_tests\n",
    "  # doped_cyclists = winning_cyclists.intersection(failed_tests)   # works also\n",
    "    \n",
    "    number_of_winning_cyclists = len(winning_cyclists)\n",
    "    number_of_clean_cyclists = len(clean_cyclists)\n",
    "    number_of_doped_cyclists = len(doped_cyclists)\n",
    "    percentage_of_doped_winning_cyclists = (number_of_doped_cyclists / number_of_winning_cyclists)*100\n",
    "    \n",
    "    print(f\"Clean Cyclists: {clean_cyclists}\")\n",
    "  # print(doped_cyclists)\n",
    "\n",
    "    return percentage_of_doped_winning_cyclists"
   ]
  },
  {
   "cell_type": "code",
   "execution_count": 103,
   "id": "determined-blackjack",
   "metadata": {
    "tags": []
   },
   "outputs": [
    {
     "name": "stdout",
     "output_type": "stream",
     "text": [
      "Clean Cyclists: {'Chris Froome', 'Bradley Wiggins', 'Cadel Evans', 'Oscar Pereiro', 'Andy Schleck', 'Vincenzo Nibali', 'Carlos Sastre'}\n"
     ]
    },
    {
     "data": {
      "text/plain": [
       "30.0"
      ]
     },
     "execution_count": 103,
     "metadata": {},
     "output_type": "execute_result"
    }
   ],
   "source": [
    "#Test your code in this cell: \n",
    "dope_de_france(winning_cyclists, failed_tests)"
   ]
  },
  {
   "cell_type": "markdown",
   "id": "unexpected-villa",
   "metadata": {},
   "source": [
    "## 4. Loops (6P)\n",
    "`for` Statement:  \n",
    "https://docs.python.org/3/tutorial/controlflow.html#for-statements  \n",
    "https://docs.python.org/3/reference/compound_stmts.html#the-for-statement  \n",
    "\n",
    "`while` Statement:   \n",
    "https://docs.python.org/3/reference/compound_stmts.html#the-while-statement  \n",
    "\n",
    "Some Looping Techniques:   \n",
    "https://docs.python.org/3/tutorial/datastructures.html#looping-techniques\n",
    "\n",
    "For the following Tasks you may need additional Datatypes\n",
    "\n",
    "Text Sequence Type (`str`):  \n",
    "https://docs.python.org/3/tutorial/introduction.html#strings  \n",
    "https://docs.python.org/3/library/stdtypes.html#string-methods\n",
    "\n",
    "Mapping Types (`dict`):  \n",
    "https://docs.python.org/3/tutorial/datastructures.html#dictionaries \n",
    "### Spell Formula-1 Team\n",
    "#### Required Function: `spell_formula_one_teams`"
   ]
  },
  {
   "cell_type": "code",
   "execution_count": 104,
   "id": "comic-pharmacology",
   "metadata": {},
   "outputs": [],
   "source": [
    "known_teams = [\"McLaren\", \"Mercedes\", \"Ferrari\", \"Red Bull\"]\n",
    "formula_one_teams = [\"Williams\", \"Haas\", \"McLaren\", \"Alfa Romeo\", \"Mercedes\", \"Alpine\", \"Ferrari\", \"Red Bull\", \"Aston Martin\", \"Alpha Tauri\"]"
   ]
  },
  {
   "cell_type": "code",
   "execution_count": 137,
   "id": "attended-aquarium",
   "metadata": {},
   "outputs": [],
   "source": [
    "#Write your code in this cell: \n",
    "def spell_formula_one_teams(known_teams, formula_one_teams):\n",
    "    # I found help here: https://www.geeksforgeeks.org/python-intersection-two-lists/\n",
    "    # known_teams_intersection_sort = sorted(list(set(formula_one_teams) & set(known_teams))) # alphabetisch\n",
    "    not_known_teams_sort = sorted(list(set(formula_one_teams) - set(known_teams)))\n",
    "    \n",
    "    for team in formula_one_teams:\n",
    "        team_number = formula_one_teams.index(team) +1\n",
    "        if team in known_teams:\n",
    "            print(f\"Team {team_number} is {team} and Margaretha knows this team.\")\n",
    "            \n",
    "        if team in not_known_teams_sort:\n",
    "            print(f\"Team {team_number} is called {team}, which is spelled:\")\n",
    "            for letter in team:\n",
    "                print(letter)               \n",
    "      #  print(\"\\n\")"
   ]
  },
  {
   "cell_type": "code",
   "execution_count": 138,
   "id": "starting-trading",
   "metadata": {
    "tags": []
   },
   "outputs": [
    {
     "name": "stdout",
     "output_type": "stream",
     "text": [
      "Team 1 is called Williams, which is spelled:\n",
      "W\n",
      "i\n",
      "l\n",
      "l\n",
      "i\n",
      "a\n",
      "m\n",
      "s\n",
      "Team 2 is called Haas, which is spelled:\n",
      "H\n",
      "a\n",
      "a\n",
      "s\n",
      "Team 3 is McLaren and Margaretha knows this team.\n",
      "Team 4 is called Alfa Romeo, which is spelled:\n",
      "A\n",
      "l\n",
      "f\n",
      "a\n",
      " \n",
      "R\n",
      "o\n",
      "m\n",
      "e\n",
      "o\n",
      "Team 5 is Mercedes and Margaretha knows this team.\n",
      "Team 6 is called Alpine, which is spelled:\n",
      "A\n",
      "l\n",
      "p\n",
      "i\n",
      "n\n",
      "e\n",
      "Team 7 is Ferrari and Margaretha knows this team.\n",
      "Team 8 is Red Bull and Margaretha knows this team.\n",
      "Team 9 is called Aston Martin, which is spelled:\n",
      "A\n",
      "s\n",
      "t\n",
      "o\n",
      "n\n",
      " \n",
      "M\n",
      "a\n",
      "r\n",
      "t\n",
      "i\n",
      "n\n",
      "Team 10 is called Alpha Tauri, which is spelled:\n",
      "A\n",
      "l\n",
      "p\n",
      "h\n",
      "a\n",
      " \n",
      "T\n",
      "a\n",
      "u\n",
      "r\n",
      "i\n"
     ]
    }
   ],
   "source": [
    "#Test your code in this cell: \n",
    "spell_formula_one_teams(known_teams, formula_one_teams)"
   ]
  },
  {
   "cell_type": "markdown",
   "id": "french-notice",
   "metadata": {},
   "source": [
    "### Determine exercises to burn a certain amount of calories\n",
    "#### Required Function: `do_sport_and_burn_calories`"
   ]
  },
  {
   "cell_type": "code",
   "execution_count": 63,
   "id": "instructional-bottom",
   "metadata": {},
   "outputs": [],
   "source": [
    "sports_info = {\"bicycling\": {\"met\": 14,\n",
    "                             \"max_min_of_execution\": 60},\n",
    "                \"crunches\": {\"met\": 5,\n",
    "                             \"max_min_of_execution\": 15},\n",
    "                \"swimming\": {\"met\": 9.5,\n",
    "                             \"max_min_of_execution\": 30},\n",
    "                \"push ups\": {\"met\": 8,\n",
    "                             \"max_min_of_execution\": 15},\n",
    "                \"sitting\": {\"met\": 1,\n",
    "                            \"max_min_of_execution\": -1}\n",
    "}"
   ]
  },
  {
   "cell_type": "code",
   "execution_count": 139,
   "id": "authentic-number",
   "metadata": {},
   "outputs": [],
   "source": [
    "#Write your code in this cell: \n",
    "\n",
    "def met_to_burned_calories_per_minute(met, weight):\n",
    "    calories_per_minute = (met * 3.5 * weight) / 200\n",
    "    return calories_per_minute\n",
    "\n",
    "def do_sport_and_burn_calories(calories_to_burn, sports_info, weight):\n",
    "    print_string = \"To burn \" + str(calories_to_burn) + \" calories with your given sports you have to do \"    \n",
    "    \n",
    "    for sport in sports_info.keys():\n",
    "        key = sports_info[sport]\n",
    "        met_value = key[\"met\"]\n",
    "        max_min_value = key[\"max_min_of_execution\"]\n",
    "        \n",
    "        calories_burned_pm = met_to_burned_calories_per_minute(met_value, weight)\n",
    "        mins_of_sport = calories_to_burn / calories_burned_pm\n",
    "\n",
    "        if max_min_value == -1:\n",
    "            int_mins_of_sport = int(mins_of_sport)\n",
    "            print_string += str(int_mins_of_sport) + \" mins of \" + str(sport) + \", \"\n",
    "            mins_of_sport = mins_of_sport - int_mins_of_sport\n",
    "            calories_burned = calories_burned_pm * int_mins_of_sport\n",
    "            calories_to_burn = calories_to_burn - calories_burned\n",
    "            continue\n",
    "\n",
    "        if mins_of_sport > max_min_value and max_min_value > 0:\n",
    "            minutes_left = mins_of_sport - max_min_value\n",
    "            mins_of_sport = max_min_value\n",
    "            print_string += str(int(round(mins_of_sport, 0))) + \" mins of \" + str(sport) + \", \"\n",
    "            calories_burned = calories_burned_pm * mins_of_sport\n",
    "            calories_to_burn = calories_to_burn - calories_burned\n",
    "            continue\n",
    "\n",
    "        if 1 <= mins_of_sport < max_min_value and max_min_value > 0:\n",
    "            mins_of_sport = calories_to_burn / calories_burned_pm\n",
    "            int_mins_of_sport = int(mins_of_sport)\n",
    "            calories_burned = calories_burned_pm * int_mins_of_sport\n",
    "            calories_to_burn = calories_to_burn - calories_burned\n",
    "            print_string += str(int_mins_of_sport) + \" mins of \" + str(sport) + \", \"\n",
    "            continue\n",
    "\n",
    "    print_string = print_string[:-2]\n",
    "    print_string += \"! At the end you still need to burn \" + str(round(calories_to_burn, 2)) + \" calories.\"\n",
    "    print(print_string)"
   ]
  },
  {
   "cell_type": "code",
   "execution_count": 140,
   "id": "public-farmer",
   "metadata": {
    "tags": []
   },
   "outputs": [
    {
     "name": "stdout",
     "output_type": "stream",
     "text": [
      "To burn 1560 calories with your given sports you have to do 60 mins of bicycling, 15 mins of crunches, 30 mins of swimming, 15 mins of push ups, 51 mins of sitting! At the end you still need to burn 0.49 calories.\n"
     ]
    }
   ],
   "source": [
    "#Test your code in this cell: \n",
    "calories_to_burn = 1560\n",
    "weight = 65\n",
    "#met = 14\n",
    "do_sport_and_burn_calories(calories_to_burn, sports_info, weight)"
   ]
  },
  {
   "cell_type": "markdown",
   "id": "organized-milwaukee",
   "metadata": {},
   "source": [
    "### Calculate athlete statistics\n",
    "#### Required Function: `calculate_sport_statistics`"
   ]
  },
  {
   "cell_type": "code",
   "execution_count": 73,
   "id": "minus-doctor",
   "metadata": {},
   "outputs": [],
   "source": [
    "sports = ['Tug-Of-War', 'Motorboating', 'Luge', 'Taekwondo']\n",
    "names_and_sports = {'Isaac Thomas Thornycroft': 'Motorboating', 'Josef Wittmann': 'Tug-Of-War', \n",
    "                    'Albrekt Persson Almqvist': 'Tug-Of-War', 'Petra Vachnkov': 'Trampolining',\n",
    "                     'Anders Hjalmar Wollgarth': 'Tug-Of-War', 'Sophia Hope Gorham': 'Motorboating',\n",
    "                    'Adriano Arnoldo': 'Tug-Of-War', 'Leonie Adam': 'Trampolining',\n",
    "                     'Savannah Vinsant': 'Trampolining', 'Talaat Abada': 'Taekwondo',\n",
    "                    'Viktoriya Aleksandrovna Voronina': 'Trampolining', 'Vera Zozua': 'Luge', \n",
    "                    'Agnes Erika Aanonsen': 'Luge', 'Aleksandr Yuryevich Zubkov': 'Luge',\n",
    "                     'Patimat Abakarova': 'Taekwondo', 'Thomas Evelyn Ellis': 'Motorboating'}"
   ]
  },
  {
   "cell_type": "code",
   "execution_count": 74,
   "id": "centered-hostel",
   "metadata": {},
   "outputs": [],
   "source": [
    "#Write your code in this cell: \n",
    "def calculate_sport_statistics (sports, names_and_sports):\n",
    "    sport_statistics = {}\n",
    "    sport_list = []\n",
    "\n",
    "    for sport in names_and_sports.values():\n",
    "        sport_list.append(sport)\n",
    "\n",
    "    for single_sport in sports:\n",
    "        sport_statistics[single_sport] = sport_list.count(single_sport)        \n",
    "\n",
    "    return sport_statistics"
   ]
  },
  {
   "cell_type": "code",
   "execution_count": 75,
   "id": "religious-drive",
   "metadata": {
    "tags": []
   },
   "outputs": [
    {
     "data": {
      "text/plain": [
       "{'Tug-Of-War': 4, 'Motorboating': 3, 'Luge': 3, 'Taekwondo': 2}"
      ]
     },
     "execution_count": 75,
     "metadata": {},
     "output_type": "execute_result"
    }
   ],
   "source": [
    "#Test your code in this cell: \n",
    "calculate_sport_statistics (sports, names_and_sports)"
   ]
  },
  {
   "cell_type": "markdown",
   "id": "charitable-barcelona",
   "metadata": {},
   "source": [
    "### Determine competition-ranking\n",
    "#### Required Function: `athletes_ranking`"
   ]
  },
  {
   "cell_type": "code",
   "execution_count": 75,
   "id": "statewide-phase",
   "metadata": {},
   "outputs": [],
   "source": [
    "athletes_and_times = {\n",
    "    \"Auboeck Felix\":15.03,\n",
    "    \"Jervis Daniel\":14.55,\n",
    "    \"Romanchuk Mykhailo\":14.41,\n",
    "    \"Wellbrock Florian\":14.42,\n",
    "    \"Frolov Serhii\":15.04,\n",
    "    \"Finke Robert\":14.39,\n",
    "    \"Martynychev Kirill\":14.56,\n",
    "    \"Paltrinieri Gregorio\":14.45\n",
    "}"
   ]
  },
  {
   "cell_type": "code",
   "execution_count": 82,
   "id": "regulated-commander",
   "metadata": {},
   "outputs": [],
   "source": [
    "#Write your code in this cell: \n",
    "def athletes_ranking(athletes_and_times):\n",
    "    # help from here: https://stackoverflow.com/questions/16772071/sort-dict-by-value-python\n",
    "    new_list = sorted(athletes_and_times.items(), key=lambda x:x[1])\n",
    "    # key = lambda --> nach index aufsteigend sortiert\n",
    "    # x:x[1] --> sortiert wird die zweite spalte x[1]\n",
    "    \n",
    "    # further help from here: https://www.askpython.com/python/list/python-list-of-tuples\n",
    "    return new_list"
   ]
  },
  {
   "cell_type": "code",
   "execution_count": 83,
   "id": "excited-architecture",
   "metadata": {
    "tags": []
   },
   "outputs": [
    {
     "data": {
      "text/plain": [
       "[('Finke Robert', 14.39),\n",
       " ('Romanchuk Mykhailo', 14.41),\n",
       " ('Wellbrock Florian', 14.42),\n",
       " ('Paltrinieri Gregorio', 14.45),\n",
       " ('Jervis Daniel', 14.55),\n",
       " ('Martynychev Kirill', 14.56),\n",
       " ('Auboeck Felix', 15.03),\n",
       " ('Frolov Serhii', 15.04)]"
      ]
     },
     "execution_count": 83,
     "metadata": {},
     "output_type": "execute_result"
    }
   ],
   "source": [
    "#Test your code in this cell: \n",
    "athletes_ranking(athletes_and_times)"
   ]
  },
  {
   "cell_type": "markdown",
   "id": "sublime-kennedy",
   "metadata": {},
   "source": [
    "## 5. Strings (2P)\n",
    "Text Sequence Type (`str`):  \n",
    "https://docs.python.org/3/tutorial/introduction.html#strings  \n",
    "https://docs.python.org/3/library/stdtypes.html#string-methods\n",
    "### Swimming Bronze Badge\n",
    "#### Required Function: `swimming_bronze_badge`"
   ]
  },
  {
   "cell_type": "code",
   "execution_count": 3,
   "id": "floral-consistency",
   "metadata": {},
   "outputs": [],
   "source": [
    "participants = \"caroline_illgoutz(15:04), jurin_Smurli(12:45)\""
   ]
  },
  {
   "cell_type": "code",
   "execution_count": 15,
   "id": "unknown-appreciation",
   "metadata": {},
   "outputs": [],
   "source": [
    "#Write your code in this cell: \n",
    "def swimming_bronze_badge(participants):\n",
    "    swimmers = {}\n",
    "    splited_strings = participants.split(', ')\n",
    "\n",
    "    for swimmer in splited_strings:\n",
    "        split_person_list = swimmer.split('(')\n",
    "        split_person = split_person_list[0]\n",
    "        \n",
    "        split_name_list = split_person.split('_')\n",
    "        split_firstname = split_name_list[0].capitalize()\n",
    "        upper_surname = split_name_list[1].upper()\n",
    "        name = split_firstname + \" \" + upper_surname\n",
    "        \n",
    "        split_time = swimmer[-6:-1]\n",
    "        swimmer_minutes = int(swimmer[-6:-4]) \n",
    "        swimmer_seconds = int(swimmer[-3:-1])\n",
    "        swimmer_time = {\"minutes\": swimmer_minutes, \"seconds\": swimmer_seconds}\n",
    "        swimmers[name] = swimmer_time\n",
    "\n",
    "    for swimmer in swimmers.items():\n",
    "        name = swimmer[0]\n",
    "        minutes = swimmer[1]['minutes']\n",
    "        seconds = swimmer[1]['seconds']\n",
    "        \n",
    "        if minutes < 15:\n",
    "            winner_string = \"CONGRATULATIONS to\\n\" + name + \"\\nfor earning the junior's swimming badge in bronze with an unbelievable time of\\n\"\n",
    "            winner_string = winner_string + str(minutes) + \" minutes and \" + str(seconds) + \" seconds in the 200 metres swim!\\n\"\n",
    "            print(winner_string)\n",
    "            \n",
    "        if minutes >= 15:\n",
    "            loser_string = \"Thank you \" + name + \"\\nfor participating the 200 metres swim with a time of\\n\"\n",
    "            loser_string = loser_string + str(minutes) + \" minutes and \" + str(seconds) + \" seconds! Good luck next time!\\n\"\n",
    "            print(loser_string)"
   ]
  },
  {
   "cell_type": "code",
   "execution_count": 4,
   "id": "awful-caribbean",
   "metadata": {
    "tags": []
   },
   "outputs": [
    {
     "name": "stdout",
     "output_type": "stream",
     "text": [
      "Thank you Caroline ILLGOUTZ\n",
      "for participating the 200 metres swim with a time of\n",
      "15 minutes and 4 seconds! Good luck next time!\n",
      "\n",
      "CONGRATULATIONS to\n",
      "Jurin SMURLI\n",
      "for earning the junior's swimming badge in bronze with an unbelievable time of\n",
      "12 minutes and 45 seconds in the 200 metres swim!\n",
      "\n"
     ]
    }
   ],
   "source": [
    "#Test your code in this cell: \n",
    "swimming_bronze_badge(participants)"
   ]
  },
  {
   "cell_type": "markdown",
   "id": "rational-saver",
   "metadata": {},
   "source": [
    "## 6. Reading and Writing Files (5P)\n",
    "Reading and writing Files:    \n",
    "https://docs.python.org/3/tutorial/inputoutput.html#reading-and-writing-files  \n",
    "Pandas documentati  on:  \n",
    "https://pandas.pydata.org/docs/reference/index.html  \n",
    "### Pandas Data-Analysis: 120 years of Olympic Games\n",
    "#### Required Function: `load_olympic_data`"
   ]
  },
  {
   "cell_type": "code",
   "execution_count": 78,
   "id": "agricultural-right",
   "metadata": {},
   "outputs": [],
   "source": [
    "#Write your code in this cell: \n",
    "import numpy as np\n",
    "import pandas as pd\n",
    "\n",
    "def load_olympic_data(file_path):\n",
    "    #file_path_adv = r'athlete_events.csv'  # r before path to avoid '\\' in path\n",
    "    olympic_data = pd.read_csv(file_path, index_col=False) # with ID as index\n",
    "    return olympic_data"
   ]
  },
  {
   "cell_type": "code",
   "execution_count": 79,
   "id": "dated-glance",
   "metadata": {
    "tags": []
   },
   "outputs": [
    {
     "data": {
      "text/html": [
       "<div>\n",
       "<style scoped>\n",
       "    .dataframe tbody tr th:only-of-type {\n",
       "        vertical-align: middle;\n",
       "    }\n",
       "\n",
       "    .dataframe tbody tr th {\n",
       "        vertical-align: top;\n",
       "    }\n",
       "\n",
       "    .dataframe thead th {\n",
       "        text-align: right;\n",
       "    }\n",
       "</style>\n",
       "<table border=\"1\" class=\"dataframe\">\n",
       "  <thead>\n",
       "    <tr style=\"text-align: right;\">\n",
       "      <th></th>\n",
       "      <th>ID</th>\n",
       "      <th>Name</th>\n",
       "      <th>Sex</th>\n",
       "      <th>Age</th>\n",
       "      <th>Height</th>\n",
       "      <th>Weight</th>\n",
       "      <th>Team</th>\n",
       "      <th>NOC</th>\n",
       "      <th>Games</th>\n",
       "      <th>Year</th>\n",
       "      <th>Season</th>\n",
       "      <th>City</th>\n",
       "      <th>Sport</th>\n",
       "      <th>Event</th>\n",
       "      <th>Medal</th>\n",
       "    </tr>\n",
       "  </thead>\n",
       "  <tbody>\n",
       "    <tr>\n",
       "      <th>0</th>\n",
       "      <td>1</td>\n",
       "      <td>A Dijiang</td>\n",
       "      <td>M</td>\n",
       "      <td>24.0</td>\n",
       "      <td>180.0</td>\n",
       "      <td>80.0</td>\n",
       "      <td>China</td>\n",
       "      <td>CHN</td>\n",
       "      <td>1992 Summer</td>\n",
       "      <td>1992</td>\n",
       "      <td>Summer</td>\n",
       "      <td>Barcelona</td>\n",
       "      <td>Basketball</td>\n",
       "      <td>Basketball Men's Basketball</td>\n",
       "      <td>NaN</td>\n",
       "    </tr>\n",
       "    <tr>\n",
       "      <th>1</th>\n",
       "      <td>2</td>\n",
       "      <td>A Lamusi</td>\n",
       "      <td>M</td>\n",
       "      <td>23.0</td>\n",
       "      <td>170.0</td>\n",
       "      <td>60.0</td>\n",
       "      <td>China</td>\n",
       "      <td>CHN</td>\n",
       "      <td>2012 Summer</td>\n",
       "      <td>2012</td>\n",
       "      <td>Summer</td>\n",
       "      <td>London</td>\n",
       "      <td>Judo</td>\n",
       "      <td>Judo Men's Extra-Lightweight</td>\n",
       "      <td>NaN</td>\n",
       "    </tr>\n",
       "    <tr>\n",
       "      <th>2</th>\n",
       "      <td>3</td>\n",
       "      <td>Gunnar Nielsen Aaby</td>\n",
       "      <td>M</td>\n",
       "      <td>24.0</td>\n",
       "      <td>NaN</td>\n",
       "      <td>NaN</td>\n",
       "      <td>Denmark</td>\n",
       "      <td>DEN</td>\n",
       "      <td>1920 Summer</td>\n",
       "      <td>1920</td>\n",
       "      <td>Summer</td>\n",
       "      <td>Antwerpen</td>\n",
       "      <td>Football</td>\n",
       "      <td>Football Men's Football</td>\n",
       "      <td>NaN</td>\n",
       "    </tr>\n",
       "    <tr>\n",
       "      <th>3</th>\n",
       "      <td>4</td>\n",
       "      <td>Edgar Lindenau Aabye</td>\n",
       "      <td>M</td>\n",
       "      <td>34.0</td>\n",
       "      <td>NaN</td>\n",
       "      <td>NaN</td>\n",
       "      <td>Denmark/Sweden</td>\n",
       "      <td>DEN</td>\n",
       "      <td>1900 Summer</td>\n",
       "      <td>1900</td>\n",
       "      <td>Summer</td>\n",
       "      <td>Paris</td>\n",
       "      <td>Tug-Of-War</td>\n",
       "      <td>Tug-Of-War Men's Tug-Of-War</td>\n",
       "      <td>Gold</td>\n",
       "    </tr>\n",
       "    <tr>\n",
       "      <th>4</th>\n",
       "      <td>5</td>\n",
       "      <td>Christine Jacoba Aaftink</td>\n",
       "      <td>F</td>\n",
       "      <td>21.0</td>\n",
       "      <td>185.0</td>\n",
       "      <td>82.0</td>\n",
       "      <td>Netherlands</td>\n",
       "      <td>NED</td>\n",
       "      <td>1988 Winter</td>\n",
       "      <td>1988</td>\n",
       "      <td>Winter</td>\n",
       "      <td>Calgary</td>\n",
       "      <td>Speed Skating</td>\n",
       "      <td>Speed Skating Women's 500 metres</td>\n",
       "      <td>NaN</td>\n",
       "    </tr>\n",
       "    <tr>\n",
       "      <th>...</th>\n",
       "      <td>...</td>\n",
       "      <td>...</td>\n",
       "      <td>...</td>\n",
       "      <td>...</td>\n",
       "      <td>...</td>\n",
       "      <td>...</td>\n",
       "      <td>...</td>\n",
       "      <td>...</td>\n",
       "      <td>...</td>\n",
       "      <td>...</td>\n",
       "      <td>...</td>\n",
       "      <td>...</td>\n",
       "      <td>...</td>\n",
       "      <td>...</td>\n",
       "      <td>...</td>\n",
       "    </tr>\n",
       "    <tr>\n",
       "      <th>271111</th>\n",
       "      <td>135569</td>\n",
       "      <td>Andrzej ya</td>\n",
       "      <td>M</td>\n",
       "      <td>29.0</td>\n",
       "      <td>179.0</td>\n",
       "      <td>89.0</td>\n",
       "      <td>Poland-1</td>\n",
       "      <td>POL</td>\n",
       "      <td>1976 Winter</td>\n",
       "      <td>1976</td>\n",
       "      <td>Winter</td>\n",
       "      <td>Innsbruck</td>\n",
       "      <td>Luge</td>\n",
       "      <td>Luge Mixed (Men)'s Doubles</td>\n",
       "      <td>NaN</td>\n",
       "    </tr>\n",
       "    <tr>\n",
       "      <th>271112</th>\n",
       "      <td>135570</td>\n",
       "      <td>Piotr ya</td>\n",
       "      <td>M</td>\n",
       "      <td>27.0</td>\n",
       "      <td>176.0</td>\n",
       "      <td>59.0</td>\n",
       "      <td>Poland</td>\n",
       "      <td>POL</td>\n",
       "      <td>2014 Winter</td>\n",
       "      <td>2014</td>\n",
       "      <td>Winter</td>\n",
       "      <td>Sochi</td>\n",
       "      <td>Ski Jumping</td>\n",
       "      <td>Ski Jumping Men's Large Hill, Individual</td>\n",
       "      <td>NaN</td>\n",
       "    </tr>\n",
       "    <tr>\n",
       "      <th>271113</th>\n",
       "      <td>135570</td>\n",
       "      <td>Piotr ya</td>\n",
       "      <td>M</td>\n",
       "      <td>27.0</td>\n",
       "      <td>176.0</td>\n",
       "      <td>59.0</td>\n",
       "      <td>Poland</td>\n",
       "      <td>POL</td>\n",
       "      <td>2014 Winter</td>\n",
       "      <td>2014</td>\n",
       "      <td>Winter</td>\n",
       "      <td>Sochi</td>\n",
       "      <td>Ski Jumping</td>\n",
       "      <td>Ski Jumping Men's Large Hill, Team</td>\n",
       "      <td>NaN</td>\n",
       "    </tr>\n",
       "    <tr>\n",
       "      <th>271114</th>\n",
       "      <td>135571</td>\n",
       "      <td>Tomasz Ireneusz ya</td>\n",
       "      <td>M</td>\n",
       "      <td>30.0</td>\n",
       "      <td>185.0</td>\n",
       "      <td>96.0</td>\n",
       "      <td>Poland</td>\n",
       "      <td>POL</td>\n",
       "      <td>1998 Winter</td>\n",
       "      <td>1998</td>\n",
       "      <td>Winter</td>\n",
       "      <td>Nagano</td>\n",
       "      <td>Bobsleigh</td>\n",
       "      <td>Bobsleigh Men's Four</td>\n",
       "      <td>NaN</td>\n",
       "    </tr>\n",
       "    <tr>\n",
       "      <th>271115</th>\n",
       "      <td>135571</td>\n",
       "      <td>Tomasz Ireneusz ya</td>\n",
       "      <td>M</td>\n",
       "      <td>34.0</td>\n",
       "      <td>185.0</td>\n",
       "      <td>96.0</td>\n",
       "      <td>Poland</td>\n",
       "      <td>POL</td>\n",
       "      <td>2002 Winter</td>\n",
       "      <td>2002</td>\n",
       "      <td>Winter</td>\n",
       "      <td>Salt Lake City</td>\n",
       "      <td>Bobsleigh</td>\n",
       "      <td>Bobsleigh Men's Four</td>\n",
       "      <td>NaN</td>\n",
       "    </tr>\n",
       "  </tbody>\n",
       "</table>\n",
       "<p>271116 rows × 15 columns</p>\n",
       "</div>"
      ],
      "text/plain": [
       "            ID                      Name Sex   Age  Height  Weight  \\\n",
       "0            1                 A Dijiang   M  24.0   180.0    80.0   \n",
       "1            2                  A Lamusi   M  23.0   170.0    60.0   \n",
       "2            3       Gunnar Nielsen Aaby   M  24.0     NaN     NaN   \n",
       "3            4      Edgar Lindenau Aabye   M  34.0     NaN     NaN   \n",
       "4            5  Christine Jacoba Aaftink   F  21.0   185.0    82.0   \n",
       "...        ...                       ...  ..   ...     ...     ...   \n",
       "271111  135569                Andrzej ya   M  29.0   179.0    89.0   \n",
       "271112  135570                  Piotr ya   M  27.0   176.0    59.0   \n",
       "271113  135570                  Piotr ya   M  27.0   176.0    59.0   \n",
       "271114  135571        Tomasz Ireneusz ya   M  30.0   185.0    96.0   \n",
       "271115  135571        Tomasz Ireneusz ya   M  34.0   185.0    96.0   \n",
       "\n",
       "                  Team  NOC        Games  Year  Season            City  \\\n",
       "0                China  CHN  1992 Summer  1992  Summer       Barcelona   \n",
       "1                China  CHN  2012 Summer  2012  Summer          London   \n",
       "2              Denmark  DEN  1920 Summer  1920  Summer       Antwerpen   \n",
       "3       Denmark/Sweden  DEN  1900 Summer  1900  Summer           Paris   \n",
       "4          Netherlands  NED  1988 Winter  1988  Winter         Calgary   \n",
       "...                ...  ...          ...   ...     ...             ...   \n",
       "271111        Poland-1  POL  1976 Winter  1976  Winter       Innsbruck   \n",
       "271112          Poland  POL  2014 Winter  2014  Winter           Sochi   \n",
       "271113          Poland  POL  2014 Winter  2014  Winter           Sochi   \n",
       "271114          Poland  POL  1998 Winter  1998  Winter          Nagano   \n",
       "271115          Poland  POL  2002 Winter  2002  Winter  Salt Lake City   \n",
       "\n",
       "                Sport                                     Event Medal  \n",
       "0          Basketball               Basketball Men's Basketball   NaN  \n",
       "1                Judo              Judo Men's Extra-Lightweight   NaN  \n",
       "2            Football                   Football Men's Football   NaN  \n",
       "3          Tug-Of-War               Tug-Of-War Men's Tug-Of-War  Gold  \n",
       "4       Speed Skating          Speed Skating Women's 500 metres   NaN  \n",
       "...               ...                                       ...   ...  \n",
       "271111           Luge                Luge Mixed (Men)'s Doubles   NaN  \n",
       "271112    Ski Jumping  Ski Jumping Men's Large Hill, Individual   NaN  \n",
       "271113    Ski Jumping        Ski Jumping Men's Large Hill, Team   NaN  \n",
       "271114      Bobsleigh                      Bobsleigh Men's Four   NaN  \n",
       "271115      Bobsleigh                      Bobsleigh Men's Four   NaN  \n",
       "\n",
       "[271116 rows x 15 columns]"
      ]
     },
     "execution_count": 79,
     "metadata": {},
     "output_type": "execute_result"
    }
   ],
   "source": [
    "#Test your code in this cell: \n",
    "file_path = 'athlete_events.csv'\n",
    "olympic_data = load_olympic_data(file_path)\n",
    "#print(olympic_data)\n",
    "olympic_data"
   ]
  },
  {
   "cell_type": "markdown",
   "id": "rapid-plant",
   "metadata": {},
   "source": [
    "#### Required Function: `gender_distribution`"
   ]
  },
  {
   "cell_type": "code",
   "execution_count": 16,
   "id": "foreign-ozone",
   "metadata": {},
   "outputs": [],
   "source": [
    "#Write your code in this cell: \n",
    "def gender_distribution(olympic_data):\n",
    "    # from here: https://www.delftstack.com/de/howto/python-pandas/how-to-get-the-row-count-of-a-pandas-dataframe/\n",
    "    total_rows = len(olympic_data.index)\n",
    "    \n",
    "    # found here: https://www.geeksforgeeks.org/python-pandas-series-value_counts/\n",
    "    count_female = olympic_data.value_counts('Sex')['F']\n",
    "    count_male = olympic_data.value_counts('Sex')['M']\n",
    "    sex_sum = count_female + count_male\n",
    "    perc_female = (count_female * 100) / sex_sum\n",
    "    perc_male = (count_male * 100) / sex_sum\n",
    "\n",
    "    return perc_male, perc_female\n",
    "    \n"
   ]
  },
  {
   "cell_type": "code",
   "execution_count": 17,
   "id": "wrong-poverty",
   "metadata": {
    "tags": []
   },
   "outputs": [
    {
     "data": {
      "text/plain": [
       "(72.51287271868868, 27.48712728131132)"
      ]
     },
     "execution_count": 17,
     "metadata": {},
     "output_type": "execute_result"
    }
   ],
   "source": [
    "#Test your code in this cell: \n",
    "#olympic_data = 'athlete_events.csv'\n",
    "gender_distribution(olympic_data)\n"
   ]
  },
  {
   "cell_type": "markdown",
   "id": "lesbian-eugene",
   "metadata": {},
   "source": [
    "#### Required Function: `compare_countries_by_number_of_gold_medals`"
   ]
  },
  {
   "cell_type": "code",
   "execution_count": 82,
   "id": "fleet-gibraltar",
   "metadata": {},
   "outputs": [],
   "source": [
    "#Write your code in this cell: \n",
    "def compare_countries_by_number_of_gold_medals(olympic_data, file_path, first_country, second_country):\n",
    "    # help from here: https://www.delftstack.com/de/howto/python-pandas/how-to-filter-dataframe-rows-based-on-column-values-in-pandas/\n",
    "    olympic_data_mask_1 = olympic_data['Team']==first_country\n",
    "    olympic_data_1 = olympic_data[olympic_data_mask_1]\n",
    "    country_1 = olympic_data_1.value_counts('Medal')['Gold']\n",
    "    olympic_data_mask_gold_1 = olympic_data_1['Medal'] == 'Gold'\n",
    "    country_1_df = olympic_data_1[olympic_data_mask_gold_1]\n",
    "\n",
    "    olympic_data_mask_2 = olympic_data['Team']==second_country\n",
    "    olympic_data_2 = olympic_data[olympic_data_mask_2]\n",
    "    country_2 = olympic_data_2.value_counts('Medal')['Gold']\n",
    "    olympic_data_mask_gold_2 = olympic_data_2['Medal'] == 'Gold'\n",
    "    country_2_df = olympic_data_2[olympic_data_mask_gold_2]\n",
    "\n",
    "    if country_2 > country_1:\n",
    "        difference_of_gold_medals = country_2 - country_1\n",
    "        country_with_more_gold_medals = second_country\n",
    "        country_with_less_gold_medals = first_country\n",
    "        print(f\"The Team of {country_with_more_gold_medals} won {difference_of_gold_medals} more gold medals than the Team of {country_with_less_gold_medals}.\")\n",
    "\n",
    "    if country_1 > country_2:\n",
    "        difference_of_gold_medals = country_1 - country_2\n",
    "        country_with_more_gold_medals = first_country\n",
    "        country_with_less_gold_medals = second_country\n",
    "        print(f\"The Team of {country_with_more_gold_medals} won {difference_of_gold_medals} more gold medals than the Team of {country_with_less_gold_medals}.\")\n",
    "\n",
    "    if country_2 == country_1:\n",
    "        print(f\"The Team of {first_country} and {second_country} won the same amount of gold medals.\")\n",
    "\n",
    "    first_country_winners_df = country_1_df[['Name', 'Age', 'Sex', 'Team', 'Sport', 'Year']]\n",
    "    second_country_winners_df = country_2_df[['Name', 'Age', 'Sex', 'Team', 'Sport', 'Year']]\n",
    "    first_country_winners_df.to_csv(file_path + 'first_country_winners.csv', index=False)\n",
    "    second_country_winners_df.to_csv(file_path + 'second_country_winners.csv', index=False)"
   ]
  },
  {
   "cell_type": "code",
   "execution_count": 85,
   "id": "driving-fireplace",
   "metadata": {
    "tags": []
   },
   "outputs": [
    {
     "name": "stdout",
     "output_type": "stream",
     "text": [
      "The Team of Sweden won 253 more gold medals than the Team of Finland.\n"
     ]
    }
   ],
   "source": [
    "#Test your code in this cell: \n",
    "first_country = \"Sweden\"\n",
    "second_country = \"Finland\"\n",
    "#directory = 'results' + '/' \n",
    "file_path = \"\"#directory\n",
    "compare_countries_by_number_of_gold_medals(olympic_data, file_path, first_country, second_country)\n"
   ]
  },
  {
   "cell_type": "markdown",
   "id": "residential-subject",
   "metadata": {},
   "source": [
    "#### Required Function: `age_of_youngest_and_oldest_goldmedalists`"
   ]
  },
  {
   "cell_type": "code",
   "execution_count": 88,
   "id": "appropriate-stanley",
   "metadata": {},
   "outputs": [],
   "source": [
    "#Write your code in this cell: \n",
    "def age_of_youngest_and_oldest_goldmedalists(olympic_data):\n",
    "    olympic_data_mask_1 = olympic_data['Medal'] == 'Gold'\n",
    "    olympic_data_gold = olympic_data[olympic_data_mask_1]\n",
    "    \n",
    "    smallest_row = olympic_data_gold.nsmallest(1, 'Age')\n",
    "    smallest_age = smallest_row['Age']\n",
    "    samllest_row_numpy = np.int64(smallest_age)\n",
    "    samllest = samllest_row_numpy[0]\n",
    "\n",
    "    largest_row = olympic_data_gold.nlargest(1, 'Age')\n",
    "    largest_age = largest_row['Age']\n",
    "    largest_row_numpy = np.int64(largest_age)\n",
    "    largest = largest_row_numpy[0]\n",
    "\n",
    "    return samllest, largest"
   ]
  },
  {
   "cell_type": "code",
   "execution_count": 89,
   "id": "thick-divorce",
   "metadata": {
    "tags": []
   },
   "outputs": [
    {
     "data": {
      "text/plain": [
       "(13, 64)"
      ]
     },
     "execution_count": 89,
     "metadata": {},
     "output_type": "execute_result"
    }
   ],
   "source": [
    "#Test your code in this cell: \n",
    "age_of_youngest_and_oldest_goldmedalists(olympic_data)"
   ]
  },
  {
   "cell_type": "markdown",
   "id": "bronze-version",
   "metadata": {},
   "source": [
    "#### Required Function: `disciplines_youngest_and_oldest_gold_medalists`"
   ]
  },
  {
   "cell_type": "code",
   "execution_count": 90,
   "id": "mineral-singapore",
   "metadata": {},
   "outputs": [],
   "source": [
    "#Write your code in this cell: \n",
    "def disciplines_youngest_and_oldest_gold_medalists(olympic_data):\n",
    "    olympic_data_mask_1 = olympic_data['Medal'] == 'Gold'\n",
    "    olympic_data_gold = olympic_data[olympic_data_mask_1]\n",
    "    \n",
    "    smallest_row = olympic_data_gold.nsmallest(1, 'Age')\n",
    "    smallest_age = smallest_row['Age']\n",
    "    samllest_row_numpy = np.int64(smallest_age)\n",
    "    age_youngest_gold_medalists = samllest_row_numpy[0]\n",
    "    olympic_data_mask_youngest = olympic_data_gold['Age'] == age_youngest_gold_medalists\n",
    "    olympic_data_youngest = olympic_data_gold[olympic_data_mask_youngest]\n",
    "    sports_youngest = olympic_data_youngest['Sport']\n",
    "    unique_sports_youngest = sports_youngest.unique()\n",
    "    youngest_sports_string = ', '.join(unique_sports_youngest)\n",
    "\n",
    "    largest_row = olympic_data_gold.nlargest(1, 'Age')\n",
    "    largest_age = largest_row['Age']\n",
    "    largest_row_numpy = np.int64(largest_age)\n",
    "    age_oldes_gold_medalists = largest_row_numpy[0]\n",
    "    olympic_data_mask_oldest = olympic_data_gold['Age'] == age_oldes_gold_medalists\n",
    "    olympic_data_oldest = olympic_data_gold[olympic_data_mask_oldest]\n",
    "    sports_oldest = olympic_data_oldest['Sport']\n",
    "    unique_sports_oldest = sports_oldest.unique()\n",
    "    oldest_sports_string = ', '.join(unique_sports_oldest) # from here https://stackoverflow.com/questions/12453580/how-to-concatenate-items-in-a-list-to-a-single-string  \n",
    "    #print(type(unique_sports_yougest))\n",
    "    #print(youngest_sports_string)\n",
    "    print(f\"Sports of youngest winning athletes with age {age_youngest_gold_medalists}: {youngest_sports_string}\")\n",
    "    print(f\"Sports of oldest winning athletes with age {age_oldes_gold_medalists}: {oldest_sports_string}\")"
   ]
  },
  {
   "cell_type": "code",
   "execution_count": 91,
   "id": "magnetic-words",
   "metadata": {
    "tags": []
   },
   "outputs": [
    {
     "name": "stdout",
     "output_type": "stream",
     "text": [
      "Sports of youngest winning athletes with age 13: Rowing, Swimming, Diving, Short Track Speed Skating\n",
      "Sports of oldest winning athletes with age 64: Roque, Shooting\n"
     ]
    }
   ],
   "source": [
    "#Test your code in this cell: \n",
    "disciplines_youngest_and_oldest_gold_medalists(olympic_data)"
   ]
  }
 ],
 "metadata": {
  "interpreter": {
   "hash": "4cd7ab41f5fca4b9b44701077e38c5ffd31fe66a6cab21e0214b68d958d0e462"
  },
  "kernelspec": {
   "display_name": "Python 3 (ipykernel)",
   "language": "python",
   "name": "python3"
  },
  "language_info": {
   "codemirror_mode": {
    "name": "ipython",
    "version": 3
   },
   "file_extension": ".py",
   "mimetype": "text/x-python",
   "name": "python",
   "nbconvert_exporter": "python",
   "pygments_lexer": "ipython3",
   "version": "3.9.9"
  }
 },
 "nbformat": 4,
 "nbformat_minor": 5
}
