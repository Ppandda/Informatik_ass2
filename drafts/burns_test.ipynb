{
 "cells": [
  {
   "cell_type": "code",
   "execution_count": 1,
   "metadata": {
    "collapsed": true
   },
   "outputs": [],
   "source": [
    "# imports\n",
    "import matplotlib.pyplot as plt # or from matplotlib import pyplot as plt\n",
    "import matplotlib.dates as mdates # we use this to space our date-xticks\n",
    "import numpy as np\n",
    "import pandas as pd\n",
    "import plotly.express as px\n",
    "import pycountry as pc\n",
    "\n",
    "import plotly.express as px\n",
    "# Plotly express is especcialy useful if you want to plot dataframes (e.g. Pandas Dataframe).\n",
    "from plotly.subplots import make_subplots\n",
    "# import plotly.graph_objects as go"
   ]
  },
  {
   "cell_type": "code",
   "execution_count": 2,
   "outputs": [],
   "source": [
    "def load_chosen_oecd_data(file_path, *chosen_countries):\n",
    "    \"\"\"loads one csv from the given path and returns the 3 relevant columns of the chosen countries to a dataframe.\"\"\"\n",
    "    oecd_data = pd.read_csv(file_path, header=0, usecols=['LOCATION', 'TIME', 'Value'], delimiter=\",\")\n",
    "\n",
    "    final_filtered_df = pd.DataFrame()\n",
    "    country_full_names = []\n",
    "    country_alpha3_names = []\n",
    "\n",
    "    for country in chosen_countries:\n",
    "        print(country)\n",
    "        # full_name = countries_fullname(country)\n",
    "        # country_full_names.append(full_name)\n",
    "        country_alpha3_names.append(country)\n",
    "    print(country_alpha3_names)\n",
    "    for country in country_alpha3_names:\n",
    "        df_mask=oecd_data['LOCATION']==country\n",
    "        filtered_df = oecd_data[df_mask]\n",
    "        final_filtered_df = final_filtered_df.append(filtered_df)\n",
    "\n",
    "    print(final_filtered_df)\n",
    "\n",
    "    return final_filtered_df"
   ],
   "metadata": {
    "collapsed": false,
    "pycharm": {
     "name": "#%%\n"
    }
   }
  },
  {
   "cell_type": "code",
   "execution_count": 11,
   "outputs": [
    {
     "name": "stdout",
     "output_type": "stream",
     "text": [
      "AUS\n",
      "BEL\n",
      "['AUS', 'BEL']\n",
      "    LOCATION  TIME        Value\n",
      "0        AUS  1951     2.971132\n",
      "1        AUS  1952     2.550554\n",
      "2        AUS  1953     2.070283\n",
      "3        AUS  1954     1.942078\n",
      "4        AUS  1955     2.372448\n",
      "..       ...   ...          ...\n",
      "844      BEL  2016  5742.234000\n",
      "845      BEL  2017  5766.124000\n",
      "846      BEL  2018  5790.674000\n",
      "847      BEL  2019  5817.880000\n",
      "848      BEL  2020  5838.303000\n",
      "\n",
      "[566 rows x 3 columns]\n"
     ]
    },
    {
     "data": {
      "text/plain": "    LOCATION  TIME        Value\n0        AUS  1951     2.971132\n1        AUS  1952     2.550554\n2        AUS  1953     2.070283\n3        AUS  1954     1.942078\n4        AUS  1955     2.372448\n..       ...   ...          ...\n844      BEL  2016  5742.234000\n845      BEL  2017  5766.124000\n846      BEL  2018  5790.674000\n847      BEL  2019  5817.880000\n848      BEL  2020  5838.303000\n\n[566 rows x 3 columns]",
      "text/html": "<div>\n<style scoped>\n    .dataframe tbody tr th:only-of-type {\n        vertical-align: middle;\n    }\n\n    .dataframe tbody tr th {\n        vertical-align: top;\n    }\n\n    .dataframe thead th {\n        text-align: right;\n    }\n</style>\n<table border=\"1\" class=\"dataframe\">\n  <thead>\n    <tr style=\"text-align: right;\">\n      <th></th>\n      <th>LOCATION</th>\n      <th>TIME</th>\n      <th>Value</th>\n    </tr>\n  </thead>\n  <tbody>\n    <tr>\n      <th>0</th>\n      <td>AUS</td>\n      <td>1951</td>\n      <td>2.971132</td>\n    </tr>\n    <tr>\n      <th>1</th>\n      <td>AUS</td>\n      <td>1952</td>\n      <td>2.550554</td>\n    </tr>\n    <tr>\n      <th>2</th>\n      <td>AUS</td>\n      <td>1953</td>\n      <td>2.070283</td>\n    </tr>\n    <tr>\n      <th>3</th>\n      <td>AUS</td>\n      <td>1954</td>\n      <td>1.942078</td>\n    </tr>\n    <tr>\n      <th>4</th>\n      <td>AUS</td>\n      <td>1955</td>\n      <td>2.372448</td>\n    </tr>\n    <tr>\n      <th>...</th>\n      <td>...</td>\n      <td>...</td>\n      <td>...</td>\n    </tr>\n    <tr>\n      <th>844</th>\n      <td>BEL</td>\n      <td>2016</td>\n      <td>5742.234000</td>\n    </tr>\n    <tr>\n      <th>845</th>\n      <td>BEL</td>\n      <td>2017</td>\n      <td>5766.124000</td>\n    </tr>\n    <tr>\n      <th>846</th>\n      <td>BEL</td>\n      <td>2018</td>\n      <td>5790.674000</td>\n    </tr>\n    <tr>\n      <th>847</th>\n      <td>BEL</td>\n      <td>2019</td>\n      <td>5817.880000</td>\n    </tr>\n    <tr>\n      <th>848</th>\n      <td>BEL</td>\n      <td>2020</td>\n      <td>5838.303000</td>\n    </tr>\n  </tbody>\n</table>\n<p>566 rows × 3 columns</p>\n</div>"
     },
     "execution_count": 11,
     "metadata": {},
     "output_type": "execute_result"
    }
   ],
   "source": [
    "path_to_file = 'datasets/original/DP_LIVE_15122021160749354.csv'\n",
    "# df1 = load_oecd_data_to_df(path_to_file)\n",
    "# df1\n",
    "\n",
    "#countries1 = \"AUS\", \"BEL\"\n",
    "\n",
    "load_chosen_oecd_data(path_to_file, 'AUS', 'BEL')"
   ],
   "metadata": {
    "collapsed": false,
    "pycharm": {
     "name": "#%%\n"
    }
   }
  }
 ],
 "metadata": {
  "kernelspec": {
   "display_name": "Python 3",
   "language": "python",
   "name": "python3"
  },
  "language_info": {
   "codemirror_mode": {
    "name": "ipython",
    "version": 2
   },
   "file_extension": ".py",
   "mimetype": "text/x-python",
   "name": "python",
   "nbconvert_exporter": "python",
   "pygments_lexer": "ipython2",
   "version": "2.7.6"
  }
 },
 "nbformat": 4,
 "nbformat_minor": 0
}