{
 "cells": [
  {
   "cell_type": "code",
   "execution_count": 1,
   "id": "d9762908-3092-4fa4-ad89-722005436544",
   "metadata": {},
   "outputs": [],
   "source": [
    "################################################################################\n",
    "# Author 1:      Bernhard Lugger\n",
    "# MatNr 1:       01114792\n",
    "# Author 2:      Paula Nauta\n",
    "# MatNr 2:       11938311\n",
    "# File:          assignment2.ipynb\n",
    "# Description: ... short description of the file ...\n",
    "# Comments:    ... comments for the tutors ...\n",
    "#              ... can be multiline ...\n",
    "################################################################################"
   ]
  },
  {
   "cell_type": "code",
   "execution_count": 1,
   "id": "7d893ec2",
   "metadata": {
    "collapsed": false,
    "jupyter": {
     "outputs_hidden": false
    },
    "pycharm": {
     "name": "#%%\n"
    }
   },
   "outputs": [],
   "source": [
    "# imports\n",
    "import matplotlib.pyplot as plt # or from matplotlib import pyplot as plt\n",
    "import matplotlib.dates as mdates # we use this to space our date-xticks\n",
    "import numpy as np\n",
    "import pandas as pd\n",
    "\n",
    "import plotly.express as px\n",
    "# Plotly express is especcialy useful if you want to plot dataframes (e.g. Pandas Dataframe).\n",
    "from plotly.subplots import make_subplots\n",
    "# import plotly.graph_objects as go\n"
   ]
  },
  {
   "cell_type": "markdown",
   "source": [],
   "metadata": {
    "collapsed": false
   }
  },
  {
   "cell_type": "code",
   "execution_count": 33,
   "id": "c511d0e0-65b3-4ebb-bd73-2a0bbd3c2b9e",
   "metadata": {},
   "outputs": [],
   "source": [
    "# -------- functions ------------\n",
    "\n",
    "def load_oecd_data_to_df(file_path):\n",
    "    \"\"\"loads one csv from the given path and returns the 3 relevant columns to a dataframe.\"\"\"\n",
    "    oecd_data = pd.read_csv(file_path, header=0, usecols=['LOCATION', 'TIME', 'Value'])\n",
    "    return oecd_data\n",
    "\n",
    "def choosen_countries(raw_df, *countries):   # c1, c2, c3, c4, c5\n",
    "    \"\"\"ausgewählte länder aus dem dataframe in ein neues dataframe\"\"\"\n",
    "    country_names = []\n",
    "    oecd_data_df = pd.DataFrame()\n",
    "    oecd_data_df_final = pd.DataFrame()\n",
    "\n",
    "    for country in countries:\n",
    "        country_names += country\n",
    "        oecd_data_mask = raw_df['LOCATION'] == country\n",
    "        oecd_data_df = raw_df[oecd_data_mask]\n",
    "        print(oecd_data_df)    # <-- da funktioniert noch irgendetwas nicht...\n",
    "        oecd_data_df_final = oecd_data_df_final.append(oecd_data_df)\n",
    "\n",
    "    # country_1 = olympic_data_1.value_counts('Medal')['Gold']\n",
    "    # olympic_data_mask_gold_1 = olympic_data_1['Medal'] == 'Gold'\n",
    "    # country_1_df = olympic_data_1[olympic_data_mask_gold_1]\n",
    "    # from here: https://www.delftstack.com/de/howto/python-pandas/how-to-filter-dataframe-rows-based-on-column-values-in-pandas/\n",
    "\n",
    "    # print(country_names)\n",
    "\n",
    "    # raw_df\n",
    "    #TODO:\n",
    "    # - zeilen: where choosen countries, zB.\n",
    "    return oecd_data_df_final\n",
    "\n",
    "\n",
    "def plot_lineplot(df, *countries):\n",
    "    \"\"\"plots a plot...\"\"\"\n",
    "\n",
    "    \"\"\"\n",
    "    # Only use data from Austria\n",
    "    data_test = df.loc[country_names[0]]\n",
    "    fig = px.line(data_test, x=\"TIME\",y=\"Value\", title=\"bla\")\n",
    "    fig.show()\n",
    "    # return fig\n",
    "    # data_test = df.loc[df.location == country_names[0]]\n",
    "    \"\"\"\n",
    "    return 0\n",
    "    # entweder raw_df einlesen und nur einzelne Länder ausschneiden/verwenden und ploten\n",
    "    # ODER\n",
    "    # vorbereitetes cropped_df ploten <-- wirkt sinnvoller für diese funktion\n",
    "\n",
    "\n",
    "\n",
    "def plot_barplot(df, country1, country2, country3, country4, country5):\n",
    "    return 0\n",
    "\n",
    "def plot_scatterplot(df, country1, country2):\n",
    "    return 0"
   ]
  },
  {
   "cell_type": "code",
   "execution_count": 32,
   "outputs": [
    {
     "name": "stdout",
     "output_type": "stream",
     "text": [
      "Empty DataFrame\n",
      "Columns: [LOCATION, TIME, Value]\n",
      "Index: []\n"
     ]
    },
    {
     "data": {
      "text/plain": "Empty DataFrame\nColumns: [LOCATION, TIME, Value]\nIndex: []",
      "text/html": "<div>\n<style scoped>\n    .dataframe tbody tr th:only-of-type {\n        vertical-align: middle;\n    }\n\n    .dataframe tbody tr th {\n        vertical-align: top;\n    }\n\n    .dataframe thead th {\n        text-align: right;\n    }\n</style>\n<table border=\"1\" class=\"dataframe\">\n  <thead>\n    <tr style=\"text-align: right;\">\n      <th></th>\n      <th>LOCATION</th>\n      <th>TIME</th>\n      <th>Value</th>\n    </tr>\n  </thead>\n  <tbody>\n  </tbody>\n</table>\n</div>"
     },
     "execution_count": 32,
     "metadata": {},
     "output_type": "execute_result"
    }
   ],
   "source": [
    "# ------------------ Test -------------------------\n",
    "path_to_file = 'datasets/original/DP_LIVE_15122021160749354.csv'\n",
    "df1 = load_oecd_data_to_df(path_to_file)\n",
    "# df1\n",
    "\n",
    "countries = ('AUS', 'AUT')\n",
    "cee = choosen_countries(df1, countries)\n",
    "cee"
   ],
   "metadata": {
    "collapsed": false,
    "pycharm": {
     "name": "#%%\n"
    }
   }
  },
  {
   "cell_type": "code",
   "execution_count": null,
   "outputs": [],
   "source": [
    "# program\n",
    "\n",
    "plot_lineplot(land_a, land_b)\n",
    "plot_lineplot(land_a, land_b)\n",
    "plot_lineplot(land_a, land_b)\n",
    "\n",
    "bar_lineplot(country1, country2, country3, country4, country5)\n",
    "bar_lineplot(country1, country2, country3)\n",
    "bar_lineplot(country1, country2, country3)\n",
    "\n",
    "scatter\n",
    "scatter\n",
    "scatter"
   ],
   "metadata": {
    "collapsed": false,
    "pycharm": {
     "name": "#%%\n"
    }
   }
  }
 ],
 "metadata": {
  "kernelspec": {
   "display_name": "Python 3 (ipykernel)",
   "language": "python",
   "name": "python3"
  },
  "language_info": {
   "codemirror_mode": {
    "name": "ipython",
    "version": 3
   },
   "file_extension": ".py",
   "mimetype": "text/x-python",
   "name": "python",
   "nbconvert_exporter": "python",
   "pygments_lexer": "ipython3",
   "version": "3.9.9"
  }
 },
 "nbformat": 4,
 "nbformat_minor": 5
}