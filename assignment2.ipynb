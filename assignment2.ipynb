{
 "cells": [
  {
   "cell_type": "code",
   "execution_count": 1,
   "id": "d9762908-3092-4fa4-ad89-722005436544",
   "metadata": {},
   "outputs": [],
   "source": [
    "################################################################################\n",
    "# Author 1:      Bernhard Lugger\n",
    "# MatNr 1:       01114792\n",
    "# Author 2:      Paula Nauta\n",
    "# MatNr 2:       11938311\n",
    "# File:          assignment2.ipynb\n",
    "# Description: ... short description of the file ...\n",
    "# Comments:    ... comments for the tutors ...\n",
    "#              ... can be multiline ...\n",
    "################################################################################"
   ]
  },
  {
   "cell_type": "code",
   "execution_count": 3,
   "id": "7d893ec2",
   "metadata": {
    "collapsed": false,
    "jupyter": {
     "outputs_hidden": false
    },
    "pycharm": {
     "name": "#%%\n"
    }
   },
   "outputs": [],
   "source": [
    "# imports\n",
    "import matplotlib.pyplot as plt # or from matplotlib import pyplot as plt\n",
    "import matplotlib.dates as mdates # we use this to space our date-xticks\n",
    "import numpy as np\n",
    "import pandas as pd\n",
    "import pycountry as pc\n",
    "\n",
    "import plotly.express as px\n",
    "# Plotly express is especcialy useful if you want to plot dataframes (e.g. Pandas Dataframe).\n",
    "from plotly.subplots import make_subplots\n",
    "import plotly.graph_objects as go\n",
    "import plotly.express as px"
   ]
  },
  {
   "cell_type": "markdown",
   "source": [],
   "metadata": {
    "collapsed": false
   }
  },
  {
   "cell_type": "code",
   "execution_count": 13,
   "outputs": [],
   "source": [
    "# -------- functions ------------\n",
    "\n",
    "def countries_fullname(country):   # z.b 'AUS', 'BEL'\n",
    "    \"\"\"ausgewählte länder aus dem dataframe in ein neues dataframe\"\"\"\n",
    "    country_full = pc.countries.get(alpha_3=country)\n",
    "    country_name = country_full.name\n",
    "    return country_name\n",
    "\n",
    "def load_chosen_oecd_data(file_path, *chosen_countries):\n",
    "    \"\"\"loads one csv from the given path and returns the 3 relevant columns of arbitrary chosen countries to a dataframe.\"\"\"\n",
    "    oecd_data = pd.read_csv(file_path, header=0, usecols=['LOCATION', 'TIME', 'Value'], delimiter=\",\")\n",
    "\n",
    "    final_filtered_df = pd.DataFrame()\n",
    "    country_full_names = []\n",
    "    country_alpha3_names = []\n",
    "\n",
    "    for country in chosen_countries:\n",
    "        # full_name = countries_fullname(country)  <-- later needed\n",
    "        # country_full_names.append(full_name)\n",
    "        country_alpha3_names.append(country)\n",
    "\n",
    "    for country in country_alpha3_names:\n",
    "        df_mask=oecd_data['LOCATION']==country\n",
    "        filtered_df = oecd_data[df_mask]\n",
    "        final_filtered_df = final_filtered_df.append(filtered_df)\n",
    "\n",
    "    return final_filtered_df\n",
    "\n",
    "def plot_lineplot(df):\n",
    "    \"\"\"plots a plot...\"\"\"\n",
    "\n",
    "    data_test = df.loc[df.LOCATION == 'AUS']\n",
    "    fig = px.line(data_test, x=\"TIME\",y=\"Value\", title=\"Lineplot\")\n",
    "    \"\"\"\n",
    "    fig = px.line(data_test, x=\"TIME\", y=[\"hosp_patients\", \"icu_patients\"], title=\"Lineplot 2\",)\n",
    "    fig.update_xaxes(title_text = \"Date\")\n",
    "    fig.update_yaxes(title_text = \"# Hospital patients\")\n",
    "    fig.update_layout(xaxis={\"rangeslider\": {\"visible\": True}})\n",
    "    \"\"\"\n",
    "    fig.show()\n",
    "\n",
    "\n",
    "def plot_barplot(df, country1, country2, country3, country4, country5):\n",
    "    return 0\n",
    "\n",
    "\n",
    "def plot_scatterplot(df, country1, country2):\n",
    "    return 0"
   ],
   "metadata": {
    "collapsed": false,
    "pycharm": {
     "name": "#%%\n"
    }
   }
  },
  {
   "cell_type": "code",
   "execution_count": 14,
   "outputs": [
    {
     "data": {
      "text/plain": "    LOCATION  TIME        Value\n0        AUS  1951     2.971132\n1        AUS  1952     2.550554\n2        AUS  1953     2.070283\n3        AUS  1954     1.942078\n4        AUS  1955     2.372448\n..       ...   ...          ...\n844      BEL  2016  5742.234000\n845      BEL  2017  5766.124000\n846      BEL  2018  5790.674000\n847      BEL  2019  5817.880000\n848      BEL  2020  5838.303000\n\n[849 rows x 3 columns]",
      "text/html": "<div>\n<style scoped>\n    .dataframe tbody tr th:only-of-type {\n        vertical-align: middle;\n    }\n\n    .dataframe tbody tr th {\n        vertical-align: top;\n    }\n\n    .dataframe thead th {\n        text-align: right;\n    }\n</style>\n<table border=\"1\" class=\"dataframe\">\n  <thead>\n    <tr style=\"text-align: right;\">\n      <th></th>\n      <th>LOCATION</th>\n      <th>TIME</th>\n      <th>Value</th>\n    </tr>\n  </thead>\n  <tbody>\n    <tr>\n      <th>0</th>\n      <td>AUS</td>\n      <td>1951</td>\n      <td>2.971132</td>\n    </tr>\n    <tr>\n      <th>1</th>\n      <td>AUS</td>\n      <td>1952</td>\n      <td>2.550554</td>\n    </tr>\n    <tr>\n      <th>2</th>\n      <td>AUS</td>\n      <td>1953</td>\n      <td>2.070283</td>\n    </tr>\n    <tr>\n      <th>3</th>\n      <td>AUS</td>\n      <td>1954</td>\n      <td>1.942078</td>\n    </tr>\n    <tr>\n      <th>4</th>\n      <td>AUS</td>\n      <td>1955</td>\n      <td>2.372448</td>\n    </tr>\n    <tr>\n      <th>...</th>\n      <td>...</td>\n      <td>...</td>\n      <td>...</td>\n    </tr>\n    <tr>\n      <th>844</th>\n      <td>BEL</td>\n      <td>2016</td>\n      <td>5742.234000</td>\n    </tr>\n    <tr>\n      <th>845</th>\n      <td>BEL</td>\n      <td>2017</td>\n      <td>5766.124000</td>\n    </tr>\n    <tr>\n      <th>846</th>\n      <td>BEL</td>\n      <td>2018</td>\n      <td>5790.674000</td>\n    </tr>\n    <tr>\n      <th>847</th>\n      <td>BEL</td>\n      <td>2019</td>\n      <td>5817.880000</td>\n    </tr>\n    <tr>\n      <th>848</th>\n      <td>BEL</td>\n      <td>2020</td>\n      <td>5838.303000</td>\n    </tr>\n  </tbody>\n</table>\n<p>849 rows × 3 columns</p>\n</div>"
     },
     "execution_count": 14,
     "metadata": {},
     "output_type": "execute_result"
    }
   ],
   "source": [
    "# ------------------ Test -------------------------\n",
    "path_to_file = 'datasets/original/DP_LIVE_15122021160749354.csv'\n",
    "\n",
    "# works 4 arbitrary chosen countries! :D   Makes sense?\n",
    "load_chosen_oecd_data(path_to_file, 'AUS', 'AUT', 'BEL')\n",
    "\n",
    "# countries_fullname(country)\n",
    "# plot_lineplot(df1)"
   ],
   "metadata": {
    "collapsed": false,
    "pycharm": {
     "name": "#%%\n"
    }
   }
  },
  {
   "cell_type": "code",
   "execution_count": null,
   "outputs": [],
   "source": [
    "# ------------ final program (later) ----------\n",
    "\"\"\"\n",
    "\n",
    "plot_lineplot(land_a, land_b)\n",
    "plot_lineplot(land_a, land_b)\n",
    "plot_lineplot(land_a, land_b)\n",
    "\n",
    "bar_lineplot(country1, country2, country3, country4, country5)\n",
    "bar_lineplot(country1, country2, country3)\n",
    "bar_lineplot(country1, country2, country3)\n",
    "\n",
    "scatter\n",
    "scatter\n",
    "scatter\n",
    "\n",
    "\"\"\"\n"
   ],
   "metadata": {
    "collapsed": false,
    "pycharm": {
     "name": "#%%\n"
    }
   }
  }
 ],
 "metadata": {
  "kernelspec": {
   "display_name": "Python 3 (ipykernel)",
   "language": "python",
   "name": "python3"
  },
  "language_info": {
   "codemirror_mode": {
    "name": "ipython",
    "version": 3
   },
   "file_extension": ".py",
   "mimetype": "text/x-python",
   "name": "python",
   "nbconvert_exporter": "python",
   "pygments_lexer": "ipython3",
   "version": "3.9.9"
  }
 },
 "nbformat": 4,
 "nbformat_minor": 5
}