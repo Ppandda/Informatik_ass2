{
 "cells": [
  {
   "cell_type": "code",
   "execution_count": 1,
   "id": "d9762908-3092-4fa4-ad89-722005436544",
   "metadata": {},
   "outputs": [],
   "source": [
    "################################################################################\n",
    "# Author 1:      Bernhard Lugger\n",
    "# MatNr 1:       01114792\n",
    "# Author 2:      Paula Nauta\n",
    "# MatNr 2:       11938311\n",
    "# File:          assignment2.ipynb\n",
    "# Description: ... short description of the file ...\n",
    "# Comments:    ... comments for the tutors ...\n",
    "#              ... can be multiline ...\n",
    "################################################################################"
   ]
  },
  {
   "cell_type": "code",
   "execution_count": 3,
   "id": "7d893ec2",
   "metadata": {
    "collapsed": false,
    "jupyter": {
     "outputs_hidden": false
    },
    "pycharm": {
     "name": "#%%\n"
    }
   },
   "outputs": [],
   "source": [
    "# imports\n",
    "import matplotlib.pyplot as plt # or from matplotlib import pyplot as plt\n",
    "import matplotlib.dates as mdates # we use this to space our date-xticks\n",
    "import numpy as np\n",
    "import pandas as pd\n",
    "import pycountry as pc\n",
    "import plotly.express as px\n",
    "# Plotly express is especcialy useful if you want to plot dataframes (e.g. Pandas Dataframe).\n",
    "# from plotly.subplots import make_subplots\n",
    "# import plotly.graph_objects as go"
   ]
  },
  {
   "cell_type": "markdown",
   "source": [],
   "metadata": {
    "collapsed": false
   }
  },
  {
   "cell_type": "code",
   "execution_count": 10,
   "outputs": [],
   "source": [
    "# -------- functions ------------\n",
    "\n",
    "def countries_fullname(country):   # z.b 'AUS', 'BEL'\n",
    "    \"\"\"ausgewählte länder aus dem dataframe in ein neues dataframe\"\"\"\n",
    "    country_full = pc.countries.get(alpha_3=country)\n",
    "    country_name = country_full.name\n",
    "    return country_name\n",
    "\n",
    "def load_chosen_oecd_data(file_path, *chosen_countries):\n",
    "    \"\"\"loads one csv from the given path and returns the relevant columns of arbitrary chosen countries to a dataframe.\"\"\"\n",
    "    oecd_data = pd.read_csv(file_path, header=0, usecols=['LOCATION', 'SUBJECT', 'MEASURE', 'TIME', 'Value'], delimiter=\",\")\n",
    "\n",
    "    final_filtered_df = pd.DataFrame()\n",
    "    country_full_names = []\n",
    "    country_alpha3_names = []\n",
    "\n",
    "    for country in chosen_countries:\n",
    "        # full_name = countries_fullname(country)  <-- later needed\n",
    "        # country_full_names.append(full_name)\n",
    "        country_alpha3_names.append(country)\n",
    "\n",
    "    for country in country_alpha3_names:\n",
    "        df_mask=oecd_data['LOCATION']==country\n",
    "        filtered_df = oecd_data[df_mask]\n",
    "        final_filtered_df = final_filtered_df.append(filtered_df)\n",
    "\n",
    "    return final_filtered_df\n",
    "\n",
    "\n",
    "def filter_data_total(df):\n",
    "    \"\"\"return only the total values from the countries\"\"\"\n",
    "    df_mask=df['SUBJECT']=='TOT'\n",
    "    filtered_total_df = df[df_mask]\n",
    "    df_mask=filtered_total_df['MEASURE']=='PC_NATIONAL'\n",
    "    filtered_total_df = filtered_total_df[df_mask]\n",
    "    return filtered_total_df\n",
    "\n",
    "\n",
    "def plot_lineplot(df, title, xaxis_text):\n",
    "    \"\"\"plots a lineplot of the given DataFrame with the given title and x-axis text.\"\"\"\n",
    "    fig = px.line(df, x=\"TIME\",y=\"Value\", color=\"LOCATION\", title=title)\n",
    "    fig.update_layout(xaxis={\"rangeslider\": {\"visible\": True}})\n",
    "    fig.update_yaxes(title_text = xaxis_text)\n",
    "    fig.show()\n",
    "\n",
    "\n",
    "def plot_barplot(df, country1, country2, country3, country4, country5):\n",
    "    return 0\n",
    "\n",
    "\n",
    "def plot_scatterplot(df, country1, country2):\n",
    "    return 0"
   ],
   "metadata": {
    "collapsed": false,
    "pycharm": {
     "name": "#%%\n"
    }
   }
  },
  {
   "cell_type": "code",
   "execution_count": 11,
   "outputs": [
    {
     "data": {
      "application/vnd.plotly.v1+json": {
       "data": [
        {
         "hovertemplate": "LOCATION=AUT<br>TIME=%{x}<br>Value=%{y}<extra></extra>",
         "legendgroup": "AUT",
         "line": {
          "color": "#636efa",
          "dash": "solid"
         },
         "marker": {
          "symbol": "circle"
         },
         "mode": "lines",
         "name": "AUT",
         "orientation": "v",
         "showlegend": true,
         "x": [
          1981,
          1985,
          1989,
          1993,
          1998,
          2002,
          2004,
          2005,
          2006,
          2007,
          2008,
          2009,
          2010,
          2011,
          2012,
          2013,
          2014,
          2015,
          2016,
          2017,
          2018,
          2019
         ],
         "xaxis": "x",
         "y": [
          8.08998808104887,
          6.80772769089237,
          5.92120245957641,
          7.05093206458155,
          5.09756983777545,
          4.1398435589307,
          3.96760572062631,
          4.32601792789502,
          4.61835629668444,
          4.38507873568299,
          4.38503200679257,
          4.49836572552844,
          4.28638989199282,
          4.07153134413614,
          3.91579997330022,
          3.87576189345365,
          3.88016984540315,
          3.86116339929296,
          7.71270370228504,
          7.71237978998759,
          7.71269483780106,
          7.22994717232732
         ],
         "yaxis": "y",
         "type": "scatter"
        },
        {
         "hovertemplate": "LOCATION=ITA<br>TIME=%{x}<br>Value=%{y}<extra></extra>",
         "legendgroup": "ITA",
         "line": {
          "color": "#EF553B",
          "dash": "solid"
         },
         "marker": {
          "symbol": "circle"
         },
         "mode": "lines",
         "name": "ITA",
         "orientation": "v",
         "showlegend": true,
         "x": [
          1981,
          1982,
          1983,
          1984,
          1985,
          1986,
          1987,
          1988,
          1989,
          1990,
          1991,
          1992,
          1993,
          1994,
          1995,
          1996,
          1997,
          1998,
          1999,
          2000,
          2001,
          2002,
          2003,
          2004,
          2005,
          2006,
          2007,
          2008,
          2009,
          2010,
          2011,
          2012,
          2013,
          2014,
          2015,
          2016,
          2017,
          2018,
          2019
         ],
         "xaxis": "x",
         "y": [
          15.076834421821,
          16.4247800095226,
          15.4504054204154,
          17.6140305587376,
          17.7982716165561,
          17.0214020399741,
          17.7660298202846,
          18.6308179546457,
          18.3781581092095,
          18.6206276644923,
          16.8186288843404,
          17.625164601865,
          17.8654915764301,
          17.9432661577877,
          18.423003600932,
          17.8399026700331,
          20.8314305720462,
          20.8326957799064,
          21.0405849642078,
          21.6533050975647,
          19.4986657071752,
          19.0407343982482,
          19.8713819966075,
          19.7702886042762,
          17.5223575535618,
          18.7609126355881,
          18.5925606531606,
          16.2421436350783,
          16.3763425444962,
          16.9164306647471,
          17.6914460774385,
          18.5186657367826,
          18.3473609995584,
          17.8071296210115,
          17.1535253227408,
          16.2378651668586,
          15.7560301471741,
          14.8911046625221,
          14.4731867710958
         ],
         "yaxis": "y",
         "type": "scatter"
        },
        {
         "hovertemplate": "LOCATION=AUS<br>TIME=%{x}<br>Value=%{y}<extra></extra>",
         "legendgroup": "AUS",
         "line": {
          "color": "#00cc96",
          "dash": "solid"
         },
         "marker": {
          "symbol": "circle"
         },
         "mode": "lines",
         "name": "AUS",
         "orientation": "v",
         "showlegend": true,
         "x": [
          1981,
          1984,
          1985,
          1986,
          1987,
          1988,
          1990,
          1992,
          1994,
          1996,
          1998,
          2000,
          2002,
          2004,
          2006,
          2008
         ],
         "xaxis": "x",
         "y": [
          28.0651024454726,
          23.9470391993328,
          23.5384718408893,
          22.1045419509549,
          20.3838823849714,
          20.8787363790863,
          21.4957383731703,
          18.4308913472784,
          15.4843791759857,
          14.783318556322,
          13.550891202507,
          13.2185074862048,
          10.9821928853539,
          10.389018554898,
          10.0010320982558,
          8.94215575377123
         ],
         "yaxis": "y",
         "type": "scatter"
        },
        {
         "hovertemplate": "LOCATION=USA<br>TIME=%{x}<br>Value=%{y}<extra></extra>",
         "legendgroup": "USA",
         "line": {
          "color": "#ab63fa",
          "dash": "solid"
         },
         "marker": {
          "symbol": "circle"
         },
         "mode": "lines",
         "name": "USA",
         "orientation": "v",
         "showlegend": true,
         "x": [
          1981,
          1982,
          1983,
          1984,
          1985,
          1987,
          1988,
          1989,
          1990,
          1991,
          1992,
          1993,
          1995,
          1996,
          1997,
          1998,
          1999,
          2000,
          2001,
          2002
         ],
         "xaxis": "x",
         "y": [
          11.1278195488722,
          10.8590995634642,
          10.5493582617136,
          10.1008129446554,
          8.60150435523388,
          7.95322391181442,
          7.76672317363785,
          8.1587685254691,
          8.06071865242154,
          7.81338997929385,
          8.07348174779123,
          7.68008847461923,
          6.76669830317822,
          6.18162834294393,
          5.65092916934746,
          5.13935387567971,
          4.90703046500306,
          4.82473996537948,
          4.74600076035292,
          4.55796194613595
         ],
         "yaxis": "y",
         "type": "scatter"
        },
        {
         "hovertemplate": "LOCATION=BEL<br>TIME=%{x}<br>Value=%{y}<extra></extra>",
         "legendgroup": "BEL",
         "line": {
          "color": "#FFA15A",
          "dash": "solid"
         },
         "marker": {
          "symbol": "circle"
         },
         "mode": "lines",
         "name": "BEL",
         "orientation": "v",
         "showlegend": true,
         "x": [
          1981,
          1982,
          1983,
          1984,
          1985,
          1986,
          1987,
          1988,
          1989,
          1991,
          1993,
          1994,
          1995,
          1996,
          1997,
          1998,
          1999,
          2000,
          2001,
          2002,
          2003,
          2004,
          2005,
          2006,
          2007,
          2008,
          2009,
          2010,
          2011,
          2012,
          2013,
          2014,
          2015,
          2016,
          2017,
          2018,
          2019
         ],
         "xaxis": "x",
         "y": [
          4.95802934023692,
          4.80984340044743,
          4.92889583798675,
          4.88997555012225,
          4.64801138288502,
          4.41260744985673,
          4.30663758180119,
          4.13312507509312,
          4.78433598183882,
          4.33581883457609,
          5.63559656818148,
          5.32967607233039,
          5.18638770765701,
          5.73268406450652,
          5.92034500498927,
          5.79286260067679,
          5.84576399527268,
          5.92326889303032,
          6.02175131264236,
          6.45576627569575,
          6.55445843904607,
          6.83507330743744,
          6.85940695527037,
          6.94935313066859,
          6.95577707018506,
          7.23522879289068,
          7.37701634018949,
          6.49043319666442,
          6.51505121844647,
          7.87551812619252,
          7.88927757934104,
          7.99291617473436,
          7.59970288465155,
          7.90342667649226,
          8.30530319118702,
          9.19493549484529,
          9.05672061937507
         ],
         "yaxis": "y",
         "type": "scatter"
        }
       ],
       "layout": {
        "template": {
         "data": {
          "bar": [
           {
            "error_x": {
             "color": "#2a3f5f"
            },
            "error_y": {
             "color": "#2a3f5f"
            },
            "marker": {
             "line": {
              "color": "#E5ECF6",
              "width": 0.5
             },
             "pattern": {
              "fillmode": "overlay",
              "size": 10,
              "solidity": 0.2
             }
            },
            "type": "bar"
           }
          ],
          "barpolar": [
           {
            "marker": {
             "line": {
              "color": "#E5ECF6",
              "width": 0.5
             },
             "pattern": {
              "fillmode": "overlay",
              "size": 10,
              "solidity": 0.2
             }
            },
            "type": "barpolar"
           }
          ],
          "carpet": [
           {
            "aaxis": {
             "endlinecolor": "#2a3f5f",
             "gridcolor": "white",
             "linecolor": "white",
             "minorgridcolor": "white",
             "startlinecolor": "#2a3f5f"
            },
            "baxis": {
             "endlinecolor": "#2a3f5f",
             "gridcolor": "white",
             "linecolor": "white",
             "minorgridcolor": "white",
             "startlinecolor": "#2a3f5f"
            },
            "type": "carpet"
           }
          ],
          "choropleth": [
           {
            "colorbar": {
             "outlinewidth": 0,
             "ticks": ""
            },
            "type": "choropleth"
           }
          ],
          "contour": [
           {
            "colorbar": {
             "outlinewidth": 0,
             "ticks": ""
            },
            "colorscale": [
             [
              0.0,
              "#0d0887"
             ],
             [
              0.1111111111111111,
              "#46039f"
             ],
             [
              0.2222222222222222,
              "#7201a8"
             ],
             [
              0.3333333333333333,
              "#9c179e"
             ],
             [
              0.4444444444444444,
              "#bd3786"
             ],
             [
              0.5555555555555556,
              "#d8576b"
             ],
             [
              0.6666666666666666,
              "#ed7953"
             ],
             [
              0.7777777777777778,
              "#fb9f3a"
             ],
             [
              0.8888888888888888,
              "#fdca26"
             ],
             [
              1.0,
              "#f0f921"
             ]
            ],
            "type": "contour"
           }
          ],
          "contourcarpet": [
           {
            "colorbar": {
             "outlinewidth": 0,
             "ticks": ""
            },
            "type": "contourcarpet"
           }
          ],
          "heatmap": [
           {
            "colorbar": {
             "outlinewidth": 0,
             "ticks": ""
            },
            "colorscale": [
             [
              0.0,
              "#0d0887"
             ],
             [
              0.1111111111111111,
              "#46039f"
             ],
             [
              0.2222222222222222,
              "#7201a8"
             ],
             [
              0.3333333333333333,
              "#9c179e"
             ],
             [
              0.4444444444444444,
              "#bd3786"
             ],
             [
              0.5555555555555556,
              "#d8576b"
             ],
             [
              0.6666666666666666,
              "#ed7953"
             ],
             [
              0.7777777777777778,
              "#fb9f3a"
             ],
             [
              0.8888888888888888,
              "#fdca26"
             ],
             [
              1.0,
              "#f0f921"
             ]
            ],
            "type": "heatmap"
           }
          ],
          "heatmapgl": [
           {
            "colorbar": {
             "outlinewidth": 0,
             "ticks": ""
            },
            "colorscale": [
             [
              0.0,
              "#0d0887"
             ],
             [
              0.1111111111111111,
              "#46039f"
             ],
             [
              0.2222222222222222,
              "#7201a8"
             ],
             [
              0.3333333333333333,
              "#9c179e"
             ],
             [
              0.4444444444444444,
              "#bd3786"
             ],
             [
              0.5555555555555556,
              "#d8576b"
             ],
             [
              0.6666666666666666,
              "#ed7953"
             ],
             [
              0.7777777777777778,
              "#fb9f3a"
             ],
             [
              0.8888888888888888,
              "#fdca26"
             ],
             [
              1.0,
              "#f0f921"
             ]
            ],
            "type": "heatmapgl"
           }
          ],
          "histogram": [
           {
            "marker": {
             "pattern": {
              "fillmode": "overlay",
              "size": 10,
              "solidity": 0.2
             }
            },
            "type": "histogram"
           }
          ],
          "histogram2d": [
           {
            "colorbar": {
             "outlinewidth": 0,
             "ticks": ""
            },
            "colorscale": [
             [
              0.0,
              "#0d0887"
             ],
             [
              0.1111111111111111,
              "#46039f"
             ],
             [
              0.2222222222222222,
              "#7201a8"
             ],
             [
              0.3333333333333333,
              "#9c179e"
             ],
             [
              0.4444444444444444,
              "#bd3786"
             ],
             [
              0.5555555555555556,
              "#d8576b"
             ],
             [
              0.6666666666666666,
              "#ed7953"
             ],
             [
              0.7777777777777778,
              "#fb9f3a"
             ],
             [
              0.8888888888888888,
              "#fdca26"
             ],
             [
              1.0,
              "#f0f921"
             ]
            ],
            "type": "histogram2d"
           }
          ],
          "histogram2dcontour": [
           {
            "colorbar": {
             "outlinewidth": 0,
             "ticks": ""
            },
            "colorscale": [
             [
              0.0,
              "#0d0887"
             ],
             [
              0.1111111111111111,
              "#46039f"
             ],
             [
              0.2222222222222222,
              "#7201a8"
             ],
             [
              0.3333333333333333,
              "#9c179e"
             ],
             [
              0.4444444444444444,
              "#bd3786"
             ],
             [
              0.5555555555555556,
              "#d8576b"
             ],
             [
              0.6666666666666666,
              "#ed7953"
             ],
             [
              0.7777777777777778,
              "#fb9f3a"
             ],
             [
              0.8888888888888888,
              "#fdca26"
             ],
             [
              1.0,
              "#f0f921"
             ]
            ],
            "type": "histogram2dcontour"
           }
          ],
          "mesh3d": [
           {
            "colorbar": {
             "outlinewidth": 0,
             "ticks": ""
            },
            "type": "mesh3d"
           }
          ],
          "parcoords": [
           {
            "line": {
             "colorbar": {
              "outlinewidth": 0,
              "ticks": ""
             }
            },
            "type": "parcoords"
           }
          ],
          "pie": [
           {
            "automargin": true,
            "type": "pie"
           }
          ],
          "scatter": [
           {
            "marker": {
             "colorbar": {
              "outlinewidth": 0,
              "ticks": ""
             }
            },
            "type": "scatter"
           }
          ],
          "scatter3d": [
           {
            "line": {
             "colorbar": {
              "outlinewidth": 0,
              "ticks": ""
             }
            },
            "marker": {
             "colorbar": {
              "outlinewidth": 0,
              "ticks": ""
             }
            },
            "type": "scatter3d"
           }
          ],
          "scattercarpet": [
           {
            "marker": {
             "colorbar": {
              "outlinewidth": 0,
              "ticks": ""
             }
            },
            "type": "scattercarpet"
           }
          ],
          "scattergeo": [
           {
            "marker": {
             "colorbar": {
              "outlinewidth": 0,
              "ticks": ""
             }
            },
            "type": "scattergeo"
           }
          ],
          "scattergl": [
           {
            "marker": {
             "colorbar": {
              "outlinewidth": 0,
              "ticks": ""
             }
            },
            "type": "scattergl"
           }
          ],
          "scattermapbox": [
           {
            "marker": {
             "colorbar": {
              "outlinewidth": 0,
              "ticks": ""
             }
            },
            "type": "scattermapbox"
           }
          ],
          "scatterpolar": [
           {
            "marker": {
             "colorbar": {
              "outlinewidth": 0,
              "ticks": ""
             }
            },
            "type": "scatterpolar"
           }
          ],
          "scatterpolargl": [
           {
            "marker": {
             "colorbar": {
              "outlinewidth": 0,
              "ticks": ""
             }
            },
            "type": "scatterpolargl"
           }
          ],
          "scatterternary": [
           {
            "marker": {
             "colorbar": {
              "outlinewidth": 0,
              "ticks": ""
             }
            },
            "type": "scatterternary"
           }
          ],
          "surface": [
           {
            "colorbar": {
             "outlinewidth": 0,
             "ticks": ""
            },
            "colorscale": [
             [
              0.0,
              "#0d0887"
             ],
             [
              0.1111111111111111,
              "#46039f"
             ],
             [
              0.2222222222222222,
              "#7201a8"
             ],
             [
              0.3333333333333333,
              "#9c179e"
             ],
             [
              0.4444444444444444,
              "#bd3786"
             ],
             [
              0.5555555555555556,
              "#d8576b"
             ],
             [
              0.6666666666666666,
              "#ed7953"
             ],
             [
              0.7777777777777778,
              "#fb9f3a"
             ],
             [
              0.8888888888888888,
              "#fdca26"
             ],
             [
              1.0,
              "#f0f921"
             ]
            ],
            "type": "surface"
           }
          ],
          "table": [
           {
            "cells": {
             "fill": {
              "color": "#EBF0F8"
             },
             "line": {
              "color": "white"
             }
            },
            "header": {
             "fill": {
              "color": "#C8D4E3"
             },
             "line": {
              "color": "white"
             }
            },
            "type": "table"
           }
          ]
         },
         "layout": {
          "annotationdefaults": {
           "arrowcolor": "#2a3f5f",
           "arrowhead": 0,
           "arrowwidth": 1
          },
          "autotypenumbers": "strict",
          "coloraxis": {
           "colorbar": {
            "outlinewidth": 0,
            "ticks": ""
           }
          },
          "colorscale": {
           "diverging": [
            [
             0,
             "#8e0152"
            ],
            [
             0.1,
             "#c51b7d"
            ],
            [
             0.2,
             "#de77ae"
            ],
            [
             0.3,
             "#f1b6da"
            ],
            [
             0.4,
             "#fde0ef"
            ],
            [
             0.5,
             "#f7f7f7"
            ],
            [
             0.6,
             "#e6f5d0"
            ],
            [
             0.7,
             "#b8e186"
            ],
            [
             0.8,
             "#7fbc41"
            ],
            [
             0.9,
             "#4d9221"
            ],
            [
             1,
             "#276419"
            ]
           ],
           "sequential": [
            [
             0.0,
             "#0d0887"
            ],
            [
             0.1111111111111111,
             "#46039f"
            ],
            [
             0.2222222222222222,
             "#7201a8"
            ],
            [
             0.3333333333333333,
             "#9c179e"
            ],
            [
             0.4444444444444444,
             "#bd3786"
            ],
            [
             0.5555555555555556,
             "#d8576b"
            ],
            [
             0.6666666666666666,
             "#ed7953"
            ],
            [
             0.7777777777777778,
             "#fb9f3a"
            ],
            [
             0.8888888888888888,
             "#fdca26"
            ],
            [
             1.0,
             "#f0f921"
            ]
           ],
           "sequentialminus": [
            [
             0.0,
             "#0d0887"
            ],
            [
             0.1111111111111111,
             "#46039f"
            ],
            [
             0.2222222222222222,
             "#7201a8"
            ],
            [
             0.3333333333333333,
             "#9c179e"
            ],
            [
             0.4444444444444444,
             "#bd3786"
            ],
            [
             0.5555555555555556,
             "#d8576b"
            ],
            [
             0.6666666666666666,
             "#ed7953"
            ],
            [
             0.7777777777777778,
             "#fb9f3a"
            ],
            [
             0.8888888888888888,
             "#fdca26"
            ],
            [
             1.0,
             "#f0f921"
            ]
           ]
          },
          "colorway": [
           "#636efa",
           "#EF553B",
           "#00cc96",
           "#ab63fa",
           "#FFA15A",
           "#19d3f3",
           "#FF6692",
           "#B6E880",
           "#FF97FF",
           "#FECB52"
          ],
          "font": {
           "color": "#2a3f5f"
          },
          "geo": {
           "bgcolor": "white",
           "lakecolor": "white",
           "landcolor": "#E5ECF6",
           "showlakes": true,
           "showland": true,
           "subunitcolor": "white"
          },
          "hoverlabel": {
           "align": "left"
          },
          "hovermode": "closest",
          "mapbox": {
           "style": "light"
          },
          "paper_bgcolor": "white",
          "plot_bgcolor": "#E5ECF6",
          "polar": {
           "angularaxis": {
            "gridcolor": "white",
            "linecolor": "white",
            "ticks": ""
           },
           "bgcolor": "#E5ECF6",
           "radialaxis": {
            "gridcolor": "white",
            "linecolor": "white",
            "ticks": ""
           }
          },
          "scene": {
           "xaxis": {
            "backgroundcolor": "#E5ECF6",
            "gridcolor": "white",
            "gridwidth": 2,
            "linecolor": "white",
            "showbackground": true,
            "ticks": "",
            "zerolinecolor": "white"
           },
           "yaxis": {
            "backgroundcolor": "#E5ECF6",
            "gridcolor": "white",
            "gridwidth": 2,
            "linecolor": "white",
            "showbackground": true,
            "ticks": "",
            "zerolinecolor": "white"
           },
           "zaxis": {
            "backgroundcolor": "#E5ECF6",
            "gridcolor": "white",
            "gridwidth": 2,
            "linecolor": "white",
            "showbackground": true,
            "ticks": "",
            "zerolinecolor": "white"
           }
          },
          "shapedefaults": {
           "line": {
            "color": "#2a3f5f"
           }
          },
          "ternary": {
           "aaxis": {
            "gridcolor": "white",
            "linecolor": "white",
            "ticks": ""
           },
           "baxis": {
            "gridcolor": "white",
            "linecolor": "white",
            "ticks": ""
           },
           "bgcolor": "#E5ECF6",
           "caxis": {
            "gridcolor": "white",
            "linecolor": "white",
            "ticks": ""
           }
          },
          "title": {
           "x": 0.05
          },
          "xaxis": {
           "automargin": true,
           "gridcolor": "white",
           "linecolor": "white",
           "ticks": "",
           "title": {
            "standoff": 15
           },
           "zerolinecolor": "white",
           "zerolinewidth": 2
          },
          "yaxis": {
           "automargin": true,
           "gridcolor": "white",
           "linecolor": "white",
           "ticks": "",
           "title": {
            "standoff": 15
           },
           "zerolinecolor": "white",
           "zerolinewidth": 2
          }
         }
        },
        "xaxis": {
         "anchor": "y",
         "domain": [
          0.0,
          1.0
         ],
         "title": {
          "text": "TIME"
         },
         "rangeslider": {
          "visible": true
         }
        },
        "yaxis": {
         "anchor": "x",
         "domain": [
          0.0,
          1.0
         ],
         "title": {
          "text": "% of national total"
         }
        },
        "legend": {
         "title": {
          "text": "LOCATION"
         },
         "tracegroupgap": 0
        },
        "title": {
         "text": "Government researchers"
        }
       },
       "config": {
        "plotlyServerURL": "https://plot.ly"
       }
      },
      "text/html": "<div>                            <div id=\"eb980610-042a-48ba-a6f2-bb0a42b539ba\" class=\"plotly-graph-div\" style=\"height:525px; width:100%;\"></div>            <script type=\"text/javascript\">                require([\"plotly\"], function(Plotly) {                    window.PLOTLYENV=window.PLOTLYENV || {};                                    if (document.getElementById(\"eb980610-042a-48ba-a6f2-bb0a42b539ba\")) {                    Plotly.newPlot(                        \"eb980610-042a-48ba-a6f2-bb0a42b539ba\",                        [{\"hovertemplate\":\"LOCATION=AUT<br>TIME=%{x}<br>Value=%{y}<extra></extra>\",\"legendgroup\":\"AUT\",\"line\":{\"color\":\"#636efa\",\"dash\":\"solid\"},\"marker\":{\"symbol\":\"circle\"},\"mode\":\"lines\",\"name\":\"AUT\",\"orientation\":\"v\",\"showlegend\":true,\"x\":[1981,1985,1989,1993,1998,2002,2004,2005,2006,2007,2008,2009,2010,2011,2012,2013,2014,2015,2016,2017,2018,2019],\"xaxis\":\"x\",\"y\":[8.08998808104887,6.80772769089237,5.92120245957641,7.05093206458155,5.09756983777545,4.1398435589307,3.96760572062631,4.32601792789502,4.61835629668444,4.38507873568299,4.38503200679257,4.49836572552844,4.28638989199282,4.07153134413614,3.91579997330022,3.87576189345365,3.88016984540315,3.86116339929296,7.71270370228504,7.71237978998759,7.71269483780106,7.22994717232732],\"yaxis\":\"y\",\"type\":\"scatter\"},{\"hovertemplate\":\"LOCATION=ITA<br>TIME=%{x}<br>Value=%{y}<extra></extra>\",\"legendgroup\":\"ITA\",\"line\":{\"color\":\"#EF553B\",\"dash\":\"solid\"},\"marker\":{\"symbol\":\"circle\"},\"mode\":\"lines\",\"name\":\"ITA\",\"orientation\":\"v\",\"showlegend\":true,\"x\":[1981,1982,1983,1984,1985,1986,1987,1988,1989,1990,1991,1992,1993,1994,1995,1996,1997,1998,1999,2000,2001,2002,2003,2004,2005,2006,2007,2008,2009,2010,2011,2012,2013,2014,2015,2016,2017,2018,2019],\"xaxis\":\"x\",\"y\":[15.076834421821,16.4247800095226,15.4504054204154,17.6140305587376,17.7982716165561,17.0214020399741,17.7660298202846,18.6308179546457,18.3781581092095,18.6206276644923,16.8186288843404,17.625164601865,17.8654915764301,17.9432661577877,18.423003600932,17.8399026700331,20.8314305720462,20.8326957799064,21.0405849642078,21.6533050975647,19.4986657071752,19.0407343982482,19.8713819966075,19.7702886042762,17.5223575535618,18.7609126355881,18.5925606531606,16.2421436350783,16.3763425444962,16.9164306647471,17.6914460774385,18.5186657367826,18.3473609995584,17.8071296210115,17.1535253227408,16.2378651668586,15.7560301471741,14.8911046625221,14.4731867710958],\"yaxis\":\"y\",\"type\":\"scatter\"},{\"hovertemplate\":\"LOCATION=AUS<br>TIME=%{x}<br>Value=%{y}<extra></extra>\",\"legendgroup\":\"AUS\",\"line\":{\"color\":\"#00cc96\",\"dash\":\"solid\"},\"marker\":{\"symbol\":\"circle\"},\"mode\":\"lines\",\"name\":\"AUS\",\"orientation\":\"v\",\"showlegend\":true,\"x\":[1981,1984,1985,1986,1987,1988,1990,1992,1994,1996,1998,2000,2002,2004,2006,2008],\"xaxis\":\"x\",\"y\":[28.0651024454726,23.9470391993328,23.5384718408893,22.1045419509549,20.3838823849714,20.8787363790863,21.4957383731703,18.4308913472784,15.4843791759857,14.783318556322,13.550891202507,13.2185074862048,10.9821928853539,10.389018554898,10.0010320982558,8.94215575377123],\"yaxis\":\"y\",\"type\":\"scatter\"},{\"hovertemplate\":\"LOCATION=USA<br>TIME=%{x}<br>Value=%{y}<extra></extra>\",\"legendgroup\":\"USA\",\"line\":{\"color\":\"#ab63fa\",\"dash\":\"solid\"},\"marker\":{\"symbol\":\"circle\"},\"mode\":\"lines\",\"name\":\"USA\",\"orientation\":\"v\",\"showlegend\":true,\"x\":[1981,1982,1983,1984,1985,1987,1988,1989,1990,1991,1992,1993,1995,1996,1997,1998,1999,2000,2001,2002],\"xaxis\":\"x\",\"y\":[11.1278195488722,10.8590995634642,10.5493582617136,10.1008129446554,8.60150435523388,7.95322391181442,7.76672317363785,8.1587685254691,8.06071865242154,7.81338997929385,8.07348174779123,7.68008847461923,6.76669830317822,6.18162834294393,5.65092916934746,5.13935387567971,4.90703046500306,4.82473996537948,4.74600076035292,4.55796194613595],\"yaxis\":\"y\",\"type\":\"scatter\"},{\"hovertemplate\":\"LOCATION=BEL<br>TIME=%{x}<br>Value=%{y}<extra></extra>\",\"legendgroup\":\"BEL\",\"line\":{\"color\":\"#FFA15A\",\"dash\":\"solid\"},\"marker\":{\"symbol\":\"circle\"},\"mode\":\"lines\",\"name\":\"BEL\",\"orientation\":\"v\",\"showlegend\":true,\"x\":[1981,1982,1983,1984,1985,1986,1987,1988,1989,1991,1993,1994,1995,1996,1997,1998,1999,2000,2001,2002,2003,2004,2005,2006,2007,2008,2009,2010,2011,2012,2013,2014,2015,2016,2017,2018,2019],\"xaxis\":\"x\",\"y\":[4.95802934023692,4.80984340044743,4.92889583798675,4.88997555012225,4.64801138288502,4.41260744985673,4.30663758180119,4.13312507509312,4.78433598183882,4.33581883457609,5.63559656818148,5.32967607233039,5.18638770765701,5.73268406450652,5.92034500498927,5.79286260067679,5.84576399527268,5.92326889303032,6.02175131264236,6.45576627569575,6.55445843904607,6.83507330743744,6.85940695527037,6.94935313066859,6.95577707018506,7.23522879289068,7.37701634018949,6.49043319666442,6.51505121844647,7.87551812619252,7.88927757934104,7.99291617473436,7.59970288465155,7.90342667649226,8.30530319118702,9.19493549484529,9.05672061937507],\"yaxis\":\"y\",\"type\":\"scatter\"}],                        {\"template\":{\"data\":{\"bar\":[{\"error_x\":{\"color\":\"#2a3f5f\"},\"error_y\":{\"color\":\"#2a3f5f\"},\"marker\":{\"line\":{\"color\":\"#E5ECF6\",\"width\":0.5},\"pattern\":{\"fillmode\":\"overlay\",\"size\":10,\"solidity\":0.2}},\"type\":\"bar\"}],\"barpolar\":[{\"marker\":{\"line\":{\"color\":\"#E5ECF6\",\"width\":0.5},\"pattern\":{\"fillmode\":\"overlay\",\"size\":10,\"solidity\":0.2}},\"type\":\"barpolar\"}],\"carpet\":[{\"aaxis\":{\"endlinecolor\":\"#2a3f5f\",\"gridcolor\":\"white\",\"linecolor\":\"white\",\"minorgridcolor\":\"white\",\"startlinecolor\":\"#2a3f5f\"},\"baxis\":{\"endlinecolor\":\"#2a3f5f\",\"gridcolor\":\"white\",\"linecolor\":\"white\",\"minorgridcolor\":\"white\",\"startlinecolor\":\"#2a3f5f\"},\"type\":\"carpet\"}],\"choropleth\":[{\"colorbar\":{\"outlinewidth\":0,\"ticks\":\"\"},\"type\":\"choropleth\"}],\"contour\":[{\"colorbar\":{\"outlinewidth\":0,\"ticks\":\"\"},\"colorscale\":[[0.0,\"#0d0887\"],[0.1111111111111111,\"#46039f\"],[0.2222222222222222,\"#7201a8\"],[0.3333333333333333,\"#9c179e\"],[0.4444444444444444,\"#bd3786\"],[0.5555555555555556,\"#d8576b\"],[0.6666666666666666,\"#ed7953\"],[0.7777777777777778,\"#fb9f3a\"],[0.8888888888888888,\"#fdca26\"],[1.0,\"#f0f921\"]],\"type\":\"contour\"}],\"contourcarpet\":[{\"colorbar\":{\"outlinewidth\":0,\"ticks\":\"\"},\"type\":\"contourcarpet\"}],\"heatmap\":[{\"colorbar\":{\"outlinewidth\":0,\"ticks\":\"\"},\"colorscale\":[[0.0,\"#0d0887\"],[0.1111111111111111,\"#46039f\"],[0.2222222222222222,\"#7201a8\"],[0.3333333333333333,\"#9c179e\"],[0.4444444444444444,\"#bd3786\"],[0.5555555555555556,\"#d8576b\"],[0.6666666666666666,\"#ed7953\"],[0.7777777777777778,\"#fb9f3a\"],[0.8888888888888888,\"#fdca26\"],[1.0,\"#f0f921\"]],\"type\":\"heatmap\"}],\"heatmapgl\":[{\"colorbar\":{\"outlinewidth\":0,\"ticks\":\"\"},\"colorscale\":[[0.0,\"#0d0887\"],[0.1111111111111111,\"#46039f\"],[0.2222222222222222,\"#7201a8\"],[0.3333333333333333,\"#9c179e\"],[0.4444444444444444,\"#bd3786\"],[0.5555555555555556,\"#d8576b\"],[0.6666666666666666,\"#ed7953\"],[0.7777777777777778,\"#fb9f3a\"],[0.8888888888888888,\"#fdca26\"],[1.0,\"#f0f921\"]],\"type\":\"heatmapgl\"}],\"histogram\":[{\"marker\":{\"pattern\":{\"fillmode\":\"overlay\",\"size\":10,\"solidity\":0.2}},\"type\":\"histogram\"}],\"histogram2d\":[{\"colorbar\":{\"outlinewidth\":0,\"ticks\":\"\"},\"colorscale\":[[0.0,\"#0d0887\"],[0.1111111111111111,\"#46039f\"],[0.2222222222222222,\"#7201a8\"],[0.3333333333333333,\"#9c179e\"],[0.4444444444444444,\"#bd3786\"],[0.5555555555555556,\"#d8576b\"],[0.6666666666666666,\"#ed7953\"],[0.7777777777777778,\"#fb9f3a\"],[0.8888888888888888,\"#fdca26\"],[1.0,\"#f0f921\"]],\"type\":\"histogram2d\"}],\"histogram2dcontour\":[{\"colorbar\":{\"outlinewidth\":0,\"ticks\":\"\"},\"colorscale\":[[0.0,\"#0d0887\"],[0.1111111111111111,\"#46039f\"],[0.2222222222222222,\"#7201a8\"],[0.3333333333333333,\"#9c179e\"],[0.4444444444444444,\"#bd3786\"],[0.5555555555555556,\"#d8576b\"],[0.6666666666666666,\"#ed7953\"],[0.7777777777777778,\"#fb9f3a\"],[0.8888888888888888,\"#fdca26\"],[1.0,\"#f0f921\"]],\"type\":\"histogram2dcontour\"}],\"mesh3d\":[{\"colorbar\":{\"outlinewidth\":0,\"ticks\":\"\"},\"type\":\"mesh3d\"}],\"parcoords\":[{\"line\":{\"colorbar\":{\"outlinewidth\":0,\"ticks\":\"\"}},\"type\":\"parcoords\"}],\"pie\":[{\"automargin\":true,\"type\":\"pie\"}],\"scatter\":[{\"marker\":{\"colorbar\":{\"outlinewidth\":0,\"ticks\":\"\"}},\"type\":\"scatter\"}],\"scatter3d\":[{\"line\":{\"colorbar\":{\"outlinewidth\":0,\"ticks\":\"\"}},\"marker\":{\"colorbar\":{\"outlinewidth\":0,\"ticks\":\"\"}},\"type\":\"scatter3d\"}],\"scattercarpet\":[{\"marker\":{\"colorbar\":{\"outlinewidth\":0,\"ticks\":\"\"}},\"type\":\"scattercarpet\"}],\"scattergeo\":[{\"marker\":{\"colorbar\":{\"outlinewidth\":0,\"ticks\":\"\"}},\"type\":\"scattergeo\"}],\"scattergl\":[{\"marker\":{\"colorbar\":{\"outlinewidth\":0,\"ticks\":\"\"}},\"type\":\"scattergl\"}],\"scattermapbox\":[{\"marker\":{\"colorbar\":{\"outlinewidth\":0,\"ticks\":\"\"}},\"type\":\"scattermapbox\"}],\"scatterpolar\":[{\"marker\":{\"colorbar\":{\"outlinewidth\":0,\"ticks\":\"\"}},\"type\":\"scatterpolar\"}],\"scatterpolargl\":[{\"marker\":{\"colorbar\":{\"outlinewidth\":0,\"ticks\":\"\"}},\"type\":\"scatterpolargl\"}],\"scatterternary\":[{\"marker\":{\"colorbar\":{\"outlinewidth\":0,\"ticks\":\"\"}},\"type\":\"scatterternary\"}],\"surface\":[{\"colorbar\":{\"outlinewidth\":0,\"ticks\":\"\"},\"colorscale\":[[0.0,\"#0d0887\"],[0.1111111111111111,\"#46039f\"],[0.2222222222222222,\"#7201a8\"],[0.3333333333333333,\"#9c179e\"],[0.4444444444444444,\"#bd3786\"],[0.5555555555555556,\"#d8576b\"],[0.6666666666666666,\"#ed7953\"],[0.7777777777777778,\"#fb9f3a\"],[0.8888888888888888,\"#fdca26\"],[1.0,\"#f0f921\"]],\"type\":\"surface\"}],\"table\":[{\"cells\":{\"fill\":{\"color\":\"#EBF0F8\"},\"line\":{\"color\":\"white\"}},\"header\":{\"fill\":{\"color\":\"#C8D4E3\"},\"line\":{\"color\":\"white\"}},\"type\":\"table\"}]},\"layout\":{\"annotationdefaults\":{\"arrowcolor\":\"#2a3f5f\",\"arrowhead\":0,\"arrowwidth\":1},\"autotypenumbers\":\"strict\",\"coloraxis\":{\"colorbar\":{\"outlinewidth\":0,\"ticks\":\"\"}},\"colorscale\":{\"diverging\":[[0,\"#8e0152\"],[0.1,\"#c51b7d\"],[0.2,\"#de77ae\"],[0.3,\"#f1b6da\"],[0.4,\"#fde0ef\"],[0.5,\"#f7f7f7\"],[0.6,\"#e6f5d0\"],[0.7,\"#b8e186\"],[0.8,\"#7fbc41\"],[0.9,\"#4d9221\"],[1,\"#276419\"]],\"sequential\":[[0.0,\"#0d0887\"],[0.1111111111111111,\"#46039f\"],[0.2222222222222222,\"#7201a8\"],[0.3333333333333333,\"#9c179e\"],[0.4444444444444444,\"#bd3786\"],[0.5555555555555556,\"#d8576b\"],[0.6666666666666666,\"#ed7953\"],[0.7777777777777778,\"#fb9f3a\"],[0.8888888888888888,\"#fdca26\"],[1.0,\"#f0f921\"]],\"sequentialminus\":[[0.0,\"#0d0887\"],[0.1111111111111111,\"#46039f\"],[0.2222222222222222,\"#7201a8\"],[0.3333333333333333,\"#9c179e\"],[0.4444444444444444,\"#bd3786\"],[0.5555555555555556,\"#d8576b\"],[0.6666666666666666,\"#ed7953\"],[0.7777777777777778,\"#fb9f3a\"],[0.8888888888888888,\"#fdca26\"],[1.0,\"#f0f921\"]]},\"colorway\":[\"#636efa\",\"#EF553B\",\"#00cc96\",\"#ab63fa\",\"#FFA15A\",\"#19d3f3\",\"#FF6692\",\"#B6E880\",\"#FF97FF\",\"#FECB52\"],\"font\":{\"color\":\"#2a3f5f\"},\"geo\":{\"bgcolor\":\"white\",\"lakecolor\":\"white\",\"landcolor\":\"#E5ECF6\",\"showlakes\":true,\"showland\":true,\"subunitcolor\":\"white\"},\"hoverlabel\":{\"align\":\"left\"},\"hovermode\":\"closest\",\"mapbox\":{\"style\":\"light\"},\"paper_bgcolor\":\"white\",\"plot_bgcolor\":\"#E5ECF6\",\"polar\":{\"angularaxis\":{\"gridcolor\":\"white\",\"linecolor\":\"white\",\"ticks\":\"\"},\"bgcolor\":\"#E5ECF6\",\"radialaxis\":{\"gridcolor\":\"white\",\"linecolor\":\"white\",\"ticks\":\"\"}},\"scene\":{\"xaxis\":{\"backgroundcolor\":\"#E5ECF6\",\"gridcolor\":\"white\",\"gridwidth\":2,\"linecolor\":\"white\",\"showbackground\":true,\"ticks\":\"\",\"zerolinecolor\":\"white\"},\"yaxis\":{\"backgroundcolor\":\"#E5ECF6\",\"gridcolor\":\"white\",\"gridwidth\":2,\"linecolor\":\"white\",\"showbackground\":true,\"ticks\":\"\",\"zerolinecolor\":\"white\"},\"zaxis\":{\"backgroundcolor\":\"#E5ECF6\",\"gridcolor\":\"white\",\"gridwidth\":2,\"linecolor\":\"white\",\"showbackground\":true,\"ticks\":\"\",\"zerolinecolor\":\"white\"}},\"shapedefaults\":{\"line\":{\"color\":\"#2a3f5f\"}},\"ternary\":{\"aaxis\":{\"gridcolor\":\"white\",\"linecolor\":\"white\",\"ticks\":\"\"},\"baxis\":{\"gridcolor\":\"white\",\"linecolor\":\"white\",\"ticks\":\"\"},\"bgcolor\":\"#E5ECF6\",\"caxis\":{\"gridcolor\":\"white\",\"linecolor\":\"white\",\"ticks\":\"\"}},\"title\":{\"x\":0.05},\"xaxis\":{\"automargin\":true,\"gridcolor\":\"white\",\"linecolor\":\"white\",\"ticks\":\"\",\"title\":{\"standoff\":15},\"zerolinecolor\":\"white\",\"zerolinewidth\":2},\"yaxis\":{\"automargin\":true,\"gridcolor\":\"white\",\"linecolor\":\"white\",\"ticks\":\"\",\"title\":{\"standoff\":15},\"zerolinecolor\":\"white\",\"zerolinewidth\":2}}},\"xaxis\":{\"anchor\":\"y\",\"domain\":[0.0,1.0],\"title\":{\"text\":\"TIME\"},\"rangeslider\":{\"visible\":true}},\"yaxis\":{\"anchor\":\"x\",\"domain\":[0.0,1.0],\"title\":{\"text\":\"% of national total\"}},\"legend\":{\"title\":{\"text\":\"LOCATION\"},\"tracegroupgap\":0},\"title\":{\"text\":\"Government researchers\"}},                        {\"responsive\": true}                    ).then(function(){\n                            \nvar gd = document.getElementById('eb980610-042a-48ba-a6f2-bb0a42b539ba');\nvar x = new MutationObserver(function (mutations, observer) {{\n        var display = window.getComputedStyle(gd).display;\n        if (!display || display === 'none') {{\n            console.log([gd, 'removed!']);\n            Plotly.purge(gd);\n            observer.disconnect();\n        }}\n}});\n\n// Listen for the removal of the full notebook cells\nvar notebookContainer = gd.closest('#notebook-container');\nif (notebookContainer) {{\n    x.observe(notebookContainer, {childList: true});\n}}\n\n// Listen for the clearing of the current output cell\nvar outputEl = gd.closest('.output');\nif (outputEl) {{\n    x.observe(outputEl, {childList: true});\n}}\n\n                        })                };                });            </script>        </div>"
     },
     "metadata": {},
     "output_type": "display_data"
    },
    {
     "data": {
      "application/vnd.plotly.v1+json": {
       "data": [
        {
         "hovertemplate": "LOCATION=AUT<br>TIME=%{x}<br>Value=%{y}<extra></extra>",
         "legendgroup": "AUT",
         "line": {
          "color": "#636efa",
          "dash": "solid"
         },
         "marker": {
          "symbol": "circle"
         },
         "mode": "lines",
         "name": "AUT",
         "orientation": "v",
         "showlegend": true,
         "x": [
          1950,
          1951,
          1952,
          1953,
          1954,
          1955,
          1956,
          1957,
          1958,
          1959,
          1960,
          1961,
          1962,
          1963,
          1964,
          1965,
          1966,
          1967,
          1968,
          1969,
          1970,
          1971,
          1972,
          1973,
          1974,
          1975,
          1976,
          1977,
          1978,
          1979,
          1980,
          1981,
          1982,
          1983,
          1984,
          1985,
          1986,
          1987,
          1988,
          1989,
          1990,
          1991,
          1992,
          1993,
          1994,
          1995,
          1996,
          1997,
          1998,
          1999,
          2000,
          2001,
          2002,
          2003,
          2004,
          2005,
          2006,
          2007,
          2008,
          2009,
          2010,
          2011,
          2012,
          2013,
          2014,
          2015,
          2016,
          2017,
          2018,
          2019,
          2020
         ],
         "xaxis": "x",
         "y": [
          22.763593891941,
          22.9154095386154,
          23.0333071007533,
          23.1256968102194,
          22.8792389393461,
          22.3429781837471,
          21.925406901456,
          21.7730761169475,
          21.763519201392,
          21.7903033090397,
          22.0432976674553,
          22.4300018952065,
          22.6634336924239,
          22.8378645981618,
          23.0821973085914,
          23.3550807886078,
          23.6192899654278,
          23.8644771219946,
          24.0949817562174,
          24.2864083117246,
          24.3637076096351,
          24.3171705498393,
          24.1604909519245,
          23.8984117693971,
          23.5904728993328,
          23.2317790582621,
          22.749075576381,
          22.1729077232663,
          21.5645891034546,
          20.9559535991152,
          20.4173611448701,
          19.9719106690572,
          19.5445159450446,
          19.088709069534,
          18.6512240932077,
          18.2921999570653,
          18.0033168670112,
          17.7752817117662,
          17.6387750175767,
          17.5642943443235,
          17.5243720572817,
          17.5728840031407,
          17.6911424719372,
          17.7863831759434,
          17.8292837883711,
          17.8131288311758,
          17.7260606084973,
          17.5760014287075,
          17.4061517736021,
          17.2337254137502,
          17.0436840937215,
          16.8170694601652,
          16.6165292501807,
          16.4328127569444,
          16.2342441790081,
          16.0212578833202,
          15.7736357316229,
          15.5075309314833,
          15.2521029458366,
          15.0168501212554,
          14.8220401003747,
          14.6528106102926,
          14.485745897582,
          14.3704134487327,
          14.3004532339443,
          14.2843650961311,
          14.3616116879482,
          14.4177654921113,
          14.4312206774902,
          14.4219458398671,
          14.3933308249723
         ],
         "yaxis": "y",
         "type": "scatter"
        },
        {
         "hovertemplate": "LOCATION=ITA<br>TIME=%{x}<br>Value=%{y}<extra></extra>",
         "legendgroup": "ITA",
         "line": {
          "color": "#EF553B",
          "dash": "solid"
         },
         "marker": {
          "symbol": "circle"
         },
         "mode": "lines",
         "name": "ITA",
         "orientation": "v",
         "showlegend": true,
         "x": [
          1950,
          1951,
          1952,
          1953,
          1954,
          1955,
          1956,
          1957,
          1958,
          1959,
          1960,
          1961,
          1962,
          1963,
          1964,
          1965,
          1966,
          1967,
          1968,
          1969,
          1970,
          1971,
          1972,
          1973,
          1974,
          1975,
          1976,
          1977,
          1978,
          1979,
          1980,
          1981,
          1982,
          1983,
          1984,
          1985,
          1986,
          1987,
          1988,
          1989,
          1990,
          1991,
          1992,
          1993,
          1994,
          1995,
          1996,
          1997,
          1998,
          1999,
          2000,
          2001,
          2002,
          2003,
          2004,
          2005,
          2006,
          2007,
          2008,
          2009,
          2010,
          2011,
          2012,
          2013,
          2014,
          2015,
          2016,
          2017,
          2018,
          2019,
          2020
         ],
         "xaxis": "x",
         "y": [
          26.3187112279486,
          25.9827311023147,
          25.9786453649,
          25.6800751367653,
          25.3605031497377,
          25.0452536362679,
          24.8503196770358,
          24.7849794413556,
          24.7295414145592,
          24.7128822576802,
          24.767889741985,
          24.6723360821622,
          24.4425723934968,
          24.2877630166446,
          24.2521813228581,
          24.2971165215085,
          24.3666602086772,
          24.4636665897108,
          24.5406094193461,
          24.5856347915405,
          24.5720219157301,
          24.4909685469923,
          24.4259497443471,
          24.4121424829189,
          24.3729739704708,
          24.2361000746036,
          24.0144946362832,
          23.7362405388276,
          23.3609417281858,
          22.8561457089461,
          22.2736127499022,
          21.6529885468526,
          21.0528297494785,
          20.509533294595,
          19.9432897478555,
          19.3734480211093,
          18.7945994283675,
          18.1957009385686,
          17.6285540574498,
          17.0748498485437,
          16.551445621476,
          15.8594704069285,
          15.2925965663234,
          15.0598477194722,
          14.8560888335321,
          14.6943736716896,
          14.5701289998946,
          14.4743844261448,
          14.3938229887129,
          14.3331465796205,
          14.2833472199519,
          14.2327630725786,
          14.2139116458637,
          14.1880563569655,
          14.1454205940917,
          14.1310599724062,
          14.1215605248937,
          14.0979120058502,
          14.0843816614845,
          14.0936155370887,
          14.0883922577494,
          14.0554832434635,
          14.0132078681279,
          13.9528959064867,
          13.8595886507168,
          13.7375744440869,
          13.5893123239007,
          13.4312937643976,
          13.2559285989516,
          13.0585008035534,
          12.8616178897437
         ],
         "yaxis": "y",
         "type": "scatter"
        },
        {
         "hovertemplate": "LOCATION=AUS<br>TIME=%{x}<br>Value=%{y}<extra></extra>",
         "legendgroup": "AUS",
         "line": {
          "color": "#00cc96",
          "dash": "solid"
         },
         "marker": {
          "symbol": "circle"
         },
         "mode": "lines",
         "name": "AUS",
         "orientation": "v",
         "showlegend": true,
         "x": [
          1950,
          1951,
          1952,
          1953,
          1954,
          1955,
          1956,
          1957,
          1958,
          1959,
          1960,
          1961,
          1962,
          1963,
          1964,
          1965,
          1966,
          1967,
          1968,
          1969,
          1970,
          1971,
          1972,
          1973,
          1974,
          1975,
          1976,
          1977,
          1978,
          1979,
          1980,
          1981,
          1982,
          1983,
          1984,
          1985,
          1986,
          1987,
          1988,
          1989,
          1990,
          1991,
          1992,
          1993,
          1994,
          1995,
          1996,
          1997,
          1998,
          1999,
          2000,
          2001,
          2002,
          2003,
          2004,
          2005,
          2006,
          2007,
          2008,
          2009,
          2010,
          2011,
          2012,
          2013,
          2014,
          2015,
          2016,
          2017,
          2018,
          2019,
          2020
         ],
         "xaxis": "x",
         "y": [
          26.6044725934439,
          27.1453507011649,
          27.6014589243328,
          28.1226957675859,
          28.5906637734379,
          29.0389904018609,
          29.3873004084664,
          29.6404638907906,
          29.9865886369178,
          30.1221112923114,
          30.2053527980535,
          30.3096629299024,
          30.0490631278912,
          29.9168416323612,
          29.8176521363833,
          29.6272782583393,
          29.4815344595085,
          29.2840254128331,
          29.0325919640326,
          28.9207857057001,
          28.8280594073133,
          28.6768271707966,
          28.5089130332817,
          28.2331761367919,
          27.8683928835201,
          27.4931647207819,
          26.9869065835355,
          26.519045556887,
          26.0672785600646,
          25.6165914918913,
          25.252834977254,
          24.9646524955003,
          24.6636267178741,
          24.3676020588468,
          23.9791465532895,
          23.5968290973728,
          23.0954998486111,
          22.6719906954518,
          22.3747538434775,
          22.1531214643435,
          22.0039017580179,
          21.9018868046792,
          21.8156566573992,
          21.7255271506217,
          21.6269013541234,
          21.5251230194122,
          21.3697437119498,
          21.2146944067908,
          21.047982371059,
          20.8909039337317,
          20.7230176655367,
          20.5462746218476,
          20.3363082521296,
          20.1294150416387,
          19.938190077602,
          19.7423888493166,
          19.5706501101219,
          19.4302594890574,
          19.2990615787447,
          19.1688480356937,
          19.0574874896456,
          18.9507987994999,
          18.9324152741344,
          18.9290106432734,
          18.9120011232047,
          18.8928365159633,
          18.9021312842879,
          18.8567368483521,
          18.7840075495479,
          18.696974995215,
          18.6033570662228
         ],
         "yaxis": "y",
         "type": "scatter"
        },
        {
         "hovertemplate": "LOCATION=USA<br>TIME=%{x}<br>Value=%{y}<extra></extra>",
         "legendgroup": "USA",
         "line": {
          "color": "#ab63fa",
          "dash": "solid"
         },
         "marker": {
          "symbol": "circle"
         },
         "mode": "lines",
         "name": "USA",
         "orientation": "v",
         "showlegend": true,
         "x": [
          1950,
          1951,
          1952,
          1953,
          1954,
          1955,
          1956,
          1957,
          1958,
          1959,
          1960,
          1961,
          1962,
          1963,
          1964,
          1965,
          1966,
          1967,
          1968,
          1969,
          1970,
          1971,
          1972,
          1973,
          1974,
          1975,
          1976,
          1977,
          1978,
          1979,
          1980,
          1981,
          1982,
          1983,
          1984,
          1985,
          1986,
          1987,
          1988,
          1989,
          1990,
          1991,
          1992,
          1993,
          1994,
          1995,
          1996,
          1997,
          1998,
          1999,
          2000,
          2001,
          2002,
          2003,
          2004,
          2005,
          2006,
          2007,
          2008,
          2009,
          2010,
          2011,
          2012,
          2013,
          2014,
          2015,
          2016,
          2017,
          2018,
          2019,
          2020
         ],
         "xaxis": "x",
         "y": [
          26.9237338219556,
          27.4416576016219,
          27.9813572267928,
          28.4932922719366,
          29.0014380173098,
          29.5020269906801,
          29.9421026967835,
          30.3304153703019,
          30.5196814417117,
          30.7818351844047,
          31.0380182541366,
          31.3317083006152,
          31.0413602798237,
          30.8944538774674,
          30.7197187979573,
          30.4937645238071,
          30.1480754474486,
          29.7206139319499,
          29.2392802385451,
          28.7448889228872,
          28.2554775547027,
          27.802295954183,
          27.1786324143801,
          26.5016286157986,
          25.8131718768336,
          25.1704846951866,
          24.480444356214,
          23.8818849077544,
          23.3415096272744,
          22.8630977568656,
          22.5723155487673,
          22.3359063567989,
          22.1571977173987,
          22.014723053348,
          21.831072360628,
          21.6598390253484,
          21.4610891676824,
          21.4039129102884,
          21.4524242886214,
          21.5630228649526,
          21.6911584050967,
          21.8376652334454,
          21.9110297758771,
          21.9671222590668,
          21.96775169397,
          21.8837602043062,
          21.7910751959385,
          21.6717646824735,
          21.5622791676864,
          21.4862858024082,
          21.3635263415721,
          21.2129272116677,
          21.0562327201985,
          20.898652916189,
          20.7140384461213,
          20.4790682502407,
          20.2817638072096,
          20.1445313732053,
          20.0291327056453,
          19.9130542521761,
          19.7856620038029,
          19.63413650931,
          19.4749309684867,
          19.3279036397484,
          19.1838751971037,
          19.0279757502763,
          18.8878455190241,
          18.7648802544747,
          18.6267477872132,
          18.4610464096159,
          18.2993418471943
         ],
         "yaxis": "y",
         "type": "scatter"
        },
        {
         "hovertemplate": "LOCATION=BEL<br>TIME=%{x}<br>Value=%{y}<extra></extra>",
         "legendgroup": "BEL",
         "line": {
          "color": "#FFA15A",
          "dash": "solid"
         },
         "marker": {
          "symbol": "circle"
         },
         "mode": "lines",
         "name": "BEL",
         "orientation": "v",
         "showlegend": true,
         "x": [
          1950,
          1951,
          1952,
          1953,
          1954,
          1955,
          1956,
          1957,
          1958,
          1959,
          1960,
          1961,
          1962,
          1963,
          1964,
          1965,
          1966,
          1967,
          1968,
          1969,
          1970,
          1971,
          1972,
          1973,
          1974,
          1975,
          1976,
          1977,
          1978,
          1979,
          1980,
          1981,
          1982,
          1983,
          1984,
          1985,
          1986,
          1987,
          1988,
          1989,
          1990,
          1991,
          1992,
          1993,
          1994,
          1995,
          1996,
          1997,
          1998,
          1999,
          2000,
          2001,
          2002,
          2003,
          2004,
          2005,
          2006,
          2007,
          2008,
          2009,
          2010,
          2011,
          2012,
          2013,
          2014,
          2015,
          2016,
          2017,
          2018,
          2019,
          2020
         ],
         "xaxis": "x",
         "y": [
          20.9061101568876,
          21.0592960488275,
          21.2167934935435,
          21.362965720739,
          21.5279678580362,
          21.794854591856,
          22.196821981667,
          22.6553417769397,
          23.028615930142,
          23.2844909856551,
          23.5328273696699,
          23.7548383331439,
          23.8197648780803,
          23.8061222183111,
          23.8267417094738,
          23.8704908075812,
          23.9011953221559,
          23.8758287112471,
          23.8013106892409,
          23.6949427811412,
          23.5906913640342,
          23.4625761462488,
          23.2419037360797,
          22.9679745498768,
          22.6233624833972,
          22.2143724427847,
          21.7963159951062,
          21.3716733408895,
          20.9405953574631,
          20.5009716316853,
          20.1062089655362,
          19.8438236320951,
          19.602948488901,
          19.3523711227443,
          19.0766112126463,
          18.7522931163955,
          18.4825849660266,
          18.3047635952704,
          18.1942935859777,
          18.1216432740906,
          18.1212651913071,
          18.1545358752064,
          18.1712794165153,
          18.1477496259351,
          18.079182838469,
          17.9733000921197,
          17.8613382121117,
          17.7705361406649,
          17.7033899401471,
          17.6505187201893,
          17.6070384412745,
          17.548802219904,
          17.4587330441373,
          17.3481731628266,
          17.2356211172048,
          17.1347134836592,
          17.0356891894505,
          16.93153232902,
          16.8783291391129,
          16.8902453369602,
          16.9277952756845,
          16.9637451408163,
          16.9776453168251,
          16.9850822015539,
          16.9894429030702,
          16.9787286067486,
          16.9642540156917,
          16.9528792683742,
          16.9279464456398,
          16.8764885570374,
          16.7914522525454
         ],
         "yaxis": "y",
         "type": "scatter"
        }
       ],
       "layout": {
        "template": {
         "data": {
          "bar": [
           {
            "error_x": {
             "color": "#2a3f5f"
            },
            "error_y": {
             "color": "#2a3f5f"
            },
            "marker": {
             "line": {
              "color": "#E5ECF6",
              "width": 0.5
             },
             "pattern": {
              "fillmode": "overlay",
              "size": 10,
              "solidity": 0.2
             }
            },
            "type": "bar"
           }
          ],
          "barpolar": [
           {
            "marker": {
             "line": {
              "color": "#E5ECF6",
              "width": 0.5
             },
             "pattern": {
              "fillmode": "overlay",
              "size": 10,
              "solidity": 0.2
             }
            },
            "type": "barpolar"
           }
          ],
          "carpet": [
           {
            "aaxis": {
             "endlinecolor": "#2a3f5f",
             "gridcolor": "white",
             "linecolor": "white",
             "minorgridcolor": "white",
             "startlinecolor": "#2a3f5f"
            },
            "baxis": {
             "endlinecolor": "#2a3f5f",
             "gridcolor": "white",
             "linecolor": "white",
             "minorgridcolor": "white",
             "startlinecolor": "#2a3f5f"
            },
            "type": "carpet"
           }
          ],
          "choropleth": [
           {
            "colorbar": {
             "outlinewidth": 0,
             "ticks": ""
            },
            "type": "choropleth"
           }
          ],
          "contour": [
           {
            "colorbar": {
             "outlinewidth": 0,
             "ticks": ""
            },
            "colorscale": [
             [
              0.0,
              "#0d0887"
             ],
             [
              0.1111111111111111,
              "#46039f"
             ],
             [
              0.2222222222222222,
              "#7201a8"
             ],
             [
              0.3333333333333333,
              "#9c179e"
             ],
             [
              0.4444444444444444,
              "#bd3786"
             ],
             [
              0.5555555555555556,
              "#d8576b"
             ],
             [
              0.6666666666666666,
              "#ed7953"
             ],
             [
              0.7777777777777778,
              "#fb9f3a"
             ],
             [
              0.8888888888888888,
              "#fdca26"
             ],
             [
              1.0,
              "#f0f921"
             ]
            ],
            "type": "contour"
           }
          ],
          "contourcarpet": [
           {
            "colorbar": {
             "outlinewidth": 0,
             "ticks": ""
            },
            "type": "contourcarpet"
           }
          ],
          "heatmap": [
           {
            "colorbar": {
             "outlinewidth": 0,
             "ticks": ""
            },
            "colorscale": [
             [
              0.0,
              "#0d0887"
             ],
             [
              0.1111111111111111,
              "#46039f"
             ],
             [
              0.2222222222222222,
              "#7201a8"
             ],
             [
              0.3333333333333333,
              "#9c179e"
             ],
             [
              0.4444444444444444,
              "#bd3786"
             ],
             [
              0.5555555555555556,
              "#d8576b"
             ],
             [
              0.6666666666666666,
              "#ed7953"
             ],
             [
              0.7777777777777778,
              "#fb9f3a"
             ],
             [
              0.8888888888888888,
              "#fdca26"
             ],
             [
              1.0,
              "#f0f921"
             ]
            ],
            "type": "heatmap"
           }
          ],
          "heatmapgl": [
           {
            "colorbar": {
             "outlinewidth": 0,
             "ticks": ""
            },
            "colorscale": [
             [
              0.0,
              "#0d0887"
             ],
             [
              0.1111111111111111,
              "#46039f"
             ],
             [
              0.2222222222222222,
              "#7201a8"
             ],
             [
              0.3333333333333333,
              "#9c179e"
             ],
             [
              0.4444444444444444,
              "#bd3786"
             ],
             [
              0.5555555555555556,
              "#d8576b"
             ],
             [
              0.6666666666666666,
              "#ed7953"
             ],
             [
              0.7777777777777778,
              "#fb9f3a"
             ],
             [
              0.8888888888888888,
              "#fdca26"
             ],
             [
              1.0,
              "#f0f921"
             ]
            ],
            "type": "heatmapgl"
           }
          ],
          "histogram": [
           {
            "marker": {
             "pattern": {
              "fillmode": "overlay",
              "size": 10,
              "solidity": 0.2
             }
            },
            "type": "histogram"
           }
          ],
          "histogram2d": [
           {
            "colorbar": {
             "outlinewidth": 0,
             "ticks": ""
            },
            "colorscale": [
             [
              0.0,
              "#0d0887"
             ],
             [
              0.1111111111111111,
              "#46039f"
             ],
             [
              0.2222222222222222,
              "#7201a8"
             ],
             [
              0.3333333333333333,
              "#9c179e"
             ],
             [
              0.4444444444444444,
              "#bd3786"
             ],
             [
              0.5555555555555556,
              "#d8576b"
             ],
             [
              0.6666666666666666,
              "#ed7953"
             ],
             [
              0.7777777777777778,
              "#fb9f3a"
             ],
             [
              0.8888888888888888,
              "#fdca26"
             ],
             [
              1.0,
              "#f0f921"
             ]
            ],
            "type": "histogram2d"
           }
          ],
          "histogram2dcontour": [
           {
            "colorbar": {
             "outlinewidth": 0,
             "ticks": ""
            },
            "colorscale": [
             [
              0.0,
              "#0d0887"
             ],
             [
              0.1111111111111111,
              "#46039f"
             ],
             [
              0.2222222222222222,
              "#7201a8"
             ],
             [
              0.3333333333333333,
              "#9c179e"
             ],
             [
              0.4444444444444444,
              "#bd3786"
             ],
             [
              0.5555555555555556,
              "#d8576b"
             ],
             [
              0.6666666666666666,
              "#ed7953"
             ],
             [
              0.7777777777777778,
              "#fb9f3a"
             ],
             [
              0.8888888888888888,
              "#fdca26"
             ],
             [
              1.0,
              "#f0f921"
             ]
            ],
            "type": "histogram2dcontour"
           }
          ],
          "mesh3d": [
           {
            "colorbar": {
             "outlinewidth": 0,
             "ticks": ""
            },
            "type": "mesh3d"
           }
          ],
          "parcoords": [
           {
            "line": {
             "colorbar": {
              "outlinewidth": 0,
              "ticks": ""
             }
            },
            "type": "parcoords"
           }
          ],
          "pie": [
           {
            "automargin": true,
            "type": "pie"
           }
          ],
          "scatter": [
           {
            "marker": {
             "colorbar": {
              "outlinewidth": 0,
              "ticks": ""
             }
            },
            "type": "scatter"
           }
          ],
          "scatter3d": [
           {
            "line": {
             "colorbar": {
              "outlinewidth": 0,
              "ticks": ""
             }
            },
            "marker": {
             "colorbar": {
              "outlinewidth": 0,
              "ticks": ""
             }
            },
            "type": "scatter3d"
           }
          ],
          "scattercarpet": [
           {
            "marker": {
             "colorbar": {
              "outlinewidth": 0,
              "ticks": ""
             }
            },
            "type": "scattercarpet"
           }
          ],
          "scattergeo": [
           {
            "marker": {
             "colorbar": {
              "outlinewidth": 0,
              "ticks": ""
             }
            },
            "type": "scattergeo"
           }
          ],
          "scattergl": [
           {
            "marker": {
             "colorbar": {
              "outlinewidth": 0,
              "ticks": ""
             }
            },
            "type": "scattergl"
           }
          ],
          "scattermapbox": [
           {
            "marker": {
             "colorbar": {
              "outlinewidth": 0,
              "ticks": ""
             }
            },
            "type": "scattermapbox"
           }
          ],
          "scatterpolar": [
           {
            "marker": {
             "colorbar": {
              "outlinewidth": 0,
              "ticks": ""
             }
            },
            "type": "scatterpolar"
           }
          ],
          "scatterpolargl": [
           {
            "marker": {
             "colorbar": {
              "outlinewidth": 0,
              "ticks": ""
             }
            },
            "type": "scatterpolargl"
           }
          ],
          "scatterternary": [
           {
            "marker": {
             "colorbar": {
              "outlinewidth": 0,
              "ticks": ""
             }
            },
            "type": "scatterternary"
           }
          ],
          "surface": [
           {
            "colorbar": {
             "outlinewidth": 0,
             "ticks": ""
            },
            "colorscale": [
             [
              0.0,
              "#0d0887"
             ],
             [
              0.1111111111111111,
              "#46039f"
             ],
             [
              0.2222222222222222,
              "#7201a8"
             ],
             [
              0.3333333333333333,
              "#9c179e"
             ],
             [
              0.4444444444444444,
              "#bd3786"
             ],
             [
              0.5555555555555556,
              "#d8576b"
             ],
             [
              0.6666666666666666,
              "#ed7953"
             ],
             [
              0.7777777777777778,
              "#fb9f3a"
             ],
             [
              0.8888888888888888,
              "#fdca26"
             ],
             [
              1.0,
              "#f0f921"
             ]
            ],
            "type": "surface"
           }
          ],
          "table": [
           {
            "cells": {
             "fill": {
              "color": "#EBF0F8"
             },
             "line": {
              "color": "white"
             }
            },
            "header": {
             "fill": {
              "color": "#C8D4E3"
             },
             "line": {
              "color": "white"
             }
            },
            "type": "table"
           }
          ]
         },
         "layout": {
          "annotationdefaults": {
           "arrowcolor": "#2a3f5f",
           "arrowhead": 0,
           "arrowwidth": 1
          },
          "autotypenumbers": "strict",
          "coloraxis": {
           "colorbar": {
            "outlinewidth": 0,
            "ticks": ""
           }
          },
          "colorscale": {
           "diverging": [
            [
             0,
             "#8e0152"
            ],
            [
             0.1,
             "#c51b7d"
            ],
            [
             0.2,
             "#de77ae"
            ],
            [
             0.3,
             "#f1b6da"
            ],
            [
             0.4,
             "#fde0ef"
            ],
            [
             0.5,
             "#f7f7f7"
            ],
            [
             0.6,
             "#e6f5d0"
            ],
            [
             0.7,
             "#b8e186"
            ],
            [
             0.8,
             "#7fbc41"
            ],
            [
             0.9,
             "#4d9221"
            ],
            [
             1,
             "#276419"
            ]
           ],
           "sequential": [
            [
             0.0,
             "#0d0887"
            ],
            [
             0.1111111111111111,
             "#46039f"
            ],
            [
             0.2222222222222222,
             "#7201a8"
            ],
            [
             0.3333333333333333,
             "#9c179e"
            ],
            [
             0.4444444444444444,
             "#bd3786"
            ],
            [
             0.5555555555555556,
             "#d8576b"
            ],
            [
             0.6666666666666666,
             "#ed7953"
            ],
            [
             0.7777777777777778,
             "#fb9f3a"
            ],
            [
             0.8888888888888888,
             "#fdca26"
            ],
            [
             1.0,
             "#f0f921"
            ]
           ],
           "sequentialminus": [
            [
             0.0,
             "#0d0887"
            ],
            [
             0.1111111111111111,
             "#46039f"
            ],
            [
             0.2222222222222222,
             "#7201a8"
            ],
            [
             0.3333333333333333,
             "#9c179e"
            ],
            [
             0.4444444444444444,
             "#bd3786"
            ],
            [
             0.5555555555555556,
             "#d8576b"
            ],
            [
             0.6666666666666666,
             "#ed7953"
            ],
            [
             0.7777777777777778,
             "#fb9f3a"
            ],
            [
             0.8888888888888888,
             "#fdca26"
            ],
            [
             1.0,
             "#f0f921"
            ]
           ]
          },
          "colorway": [
           "#636efa",
           "#EF553B",
           "#00cc96",
           "#ab63fa",
           "#FFA15A",
           "#19d3f3",
           "#FF6692",
           "#B6E880",
           "#FF97FF",
           "#FECB52"
          ],
          "font": {
           "color": "#2a3f5f"
          },
          "geo": {
           "bgcolor": "white",
           "lakecolor": "white",
           "landcolor": "#E5ECF6",
           "showlakes": true,
           "showland": true,
           "subunitcolor": "white"
          },
          "hoverlabel": {
           "align": "left"
          },
          "hovermode": "closest",
          "mapbox": {
           "style": "light"
          },
          "paper_bgcolor": "white",
          "plot_bgcolor": "#E5ECF6",
          "polar": {
           "angularaxis": {
            "gridcolor": "white",
            "linecolor": "white",
            "ticks": ""
           },
           "bgcolor": "#E5ECF6",
           "radialaxis": {
            "gridcolor": "white",
            "linecolor": "white",
            "ticks": ""
           }
          },
          "scene": {
           "xaxis": {
            "backgroundcolor": "#E5ECF6",
            "gridcolor": "white",
            "gridwidth": 2,
            "linecolor": "white",
            "showbackground": true,
            "ticks": "",
            "zerolinecolor": "white"
           },
           "yaxis": {
            "backgroundcolor": "#E5ECF6",
            "gridcolor": "white",
            "gridwidth": 2,
            "linecolor": "white",
            "showbackground": true,
            "ticks": "",
            "zerolinecolor": "white"
           },
           "zaxis": {
            "backgroundcolor": "#E5ECF6",
            "gridcolor": "white",
            "gridwidth": 2,
            "linecolor": "white",
            "showbackground": true,
            "ticks": "",
            "zerolinecolor": "white"
           }
          },
          "shapedefaults": {
           "line": {
            "color": "#2a3f5f"
           }
          },
          "ternary": {
           "aaxis": {
            "gridcolor": "white",
            "linecolor": "white",
            "ticks": ""
           },
           "baxis": {
            "gridcolor": "white",
            "linecolor": "white",
            "ticks": ""
           },
           "bgcolor": "#E5ECF6",
           "caxis": {
            "gridcolor": "white",
            "linecolor": "white",
            "ticks": ""
           }
          },
          "title": {
           "x": 0.05
          },
          "xaxis": {
           "automargin": true,
           "gridcolor": "white",
           "linecolor": "white",
           "ticks": "",
           "title": {
            "standoff": 15
           },
           "zerolinecolor": "white",
           "zerolinewidth": 2
          },
          "yaxis": {
           "automargin": true,
           "gridcolor": "white",
           "linecolor": "white",
           "ticks": "",
           "title": {
            "standoff": 15
           },
           "zerolinecolor": "white",
           "zerolinewidth": 2
          }
         }
        },
        "xaxis": {
         "anchor": "y",
         "domain": [
          0.0,
          1.0
         ],
         "title": {
          "text": "TIME"
         },
         "rangeslider": {
          "visible": true
         }
        },
        "yaxis": {
         "anchor": "x",
         "domain": [
          0.0,
          1.0
         ],
         "title": {
          "text": "% of population"
         }
        },
        "legend": {
         "title": {
          "text": "LOCATION"
         },
         "tracegroupgap": 0
        },
        "title": {
         "text": "Young population"
        }
       },
       "config": {
        "plotlyServerURL": "https://plot.ly"
       }
      },
      "text/html": "<div>                            <div id=\"a6345625-2030-487c-8e98-e0e0a9602512\" class=\"plotly-graph-div\" style=\"height:525px; width:100%;\"></div>            <script type=\"text/javascript\">                require([\"plotly\"], function(Plotly) {                    window.PLOTLYENV=window.PLOTLYENV || {};                                    if (document.getElementById(\"a6345625-2030-487c-8e98-e0e0a9602512\")) {                    Plotly.newPlot(                        \"a6345625-2030-487c-8e98-e0e0a9602512\",                        [{\"hovertemplate\":\"LOCATION=AUT<br>TIME=%{x}<br>Value=%{y}<extra></extra>\",\"legendgroup\":\"AUT\",\"line\":{\"color\":\"#636efa\",\"dash\":\"solid\"},\"marker\":{\"symbol\":\"circle\"},\"mode\":\"lines\",\"name\":\"AUT\",\"orientation\":\"v\",\"showlegend\":true,\"x\":[1950,1951,1952,1953,1954,1955,1956,1957,1958,1959,1960,1961,1962,1963,1964,1965,1966,1967,1968,1969,1970,1971,1972,1973,1974,1975,1976,1977,1978,1979,1980,1981,1982,1983,1984,1985,1986,1987,1988,1989,1990,1991,1992,1993,1994,1995,1996,1997,1998,1999,2000,2001,2002,2003,2004,2005,2006,2007,2008,2009,2010,2011,2012,2013,2014,2015,2016,2017,2018,2019,2020],\"xaxis\":\"x\",\"y\":[22.763593891941,22.9154095386154,23.0333071007533,23.1256968102194,22.8792389393461,22.3429781837471,21.925406901456,21.7730761169475,21.763519201392,21.7903033090397,22.0432976674553,22.4300018952065,22.6634336924239,22.8378645981618,23.0821973085914,23.3550807886078,23.6192899654278,23.8644771219946,24.0949817562174,24.2864083117246,24.3637076096351,24.3171705498393,24.1604909519245,23.8984117693971,23.5904728993328,23.2317790582621,22.749075576381,22.1729077232663,21.5645891034546,20.9559535991152,20.4173611448701,19.9719106690572,19.5445159450446,19.088709069534,18.6512240932077,18.2921999570653,18.0033168670112,17.7752817117662,17.6387750175767,17.5642943443235,17.5243720572817,17.5728840031407,17.6911424719372,17.7863831759434,17.8292837883711,17.8131288311758,17.7260606084973,17.5760014287075,17.4061517736021,17.2337254137502,17.0436840937215,16.8170694601652,16.6165292501807,16.4328127569444,16.2342441790081,16.0212578833202,15.7736357316229,15.5075309314833,15.2521029458366,15.0168501212554,14.8220401003747,14.6528106102926,14.485745897582,14.3704134487327,14.3004532339443,14.2843650961311,14.3616116879482,14.4177654921113,14.4312206774902,14.4219458398671,14.3933308249723],\"yaxis\":\"y\",\"type\":\"scatter\"},{\"hovertemplate\":\"LOCATION=ITA<br>TIME=%{x}<br>Value=%{y}<extra></extra>\",\"legendgroup\":\"ITA\",\"line\":{\"color\":\"#EF553B\",\"dash\":\"solid\"},\"marker\":{\"symbol\":\"circle\"},\"mode\":\"lines\",\"name\":\"ITA\",\"orientation\":\"v\",\"showlegend\":true,\"x\":[1950,1951,1952,1953,1954,1955,1956,1957,1958,1959,1960,1961,1962,1963,1964,1965,1966,1967,1968,1969,1970,1971,1972,1973,1974,1975,1976,1977,1978,1979,1980,1981,1982,1983,1984,1985,1986,1987,1988,1989,1990,1991,1992,1993,1994,1995,1996,1997,1998,1999,2000,2001,2002,2003,2004,2005,2006,2007,2008,2009,2010,2011,2012,2013,2014,2015,2016,2017,2018,2019,2020],\"xaxis\":\"x\",\"y\":[26.3187112279486,25.9827311023147,25.9786453649,25.6800751367653,25.3605031497377,25.0452536362679,24.8503196770358,24.7849794413556,24.7295414145592,24.7128822576802,24.767889741985,24.6723360821622,24.4425723934968,24.2877630166446,24.2521813228581,24.2971165215085,24.3666602086772,24.4636665897108,24.5406094193461,24.5856347915405,24.5720219157301,24.4909685469923,24.4259497443471,24.4121424829189,24.3729739704708,24.2361000746036,24.0144946362832,23.7362405388276,23.3609417281858,22.8561457089461,22.2736127499022,21.6529885468526,21.0528297494785,20.509533294595,19.9432897478555,19.3734480211093,18.7945994283675,18.1957009385686,17.6285540574498,17.0748498485437,16.551445621476,15.8594704069285,15.2925965663234,15.0598477194722,14.8560888335321,14.6943736716896,14.5701289998946,14.4743844261448,14.3938229887129,14.3331465796205,14.2833472199519,14.2327630725786,14.2139116458637,14.1880563569655,14.1454205940917,14.1310599724062,14.1215605248937,14.0979120058502,14.0843816614845,14.0936155370887,14.0883922577494,14.0554832434635,14.0132078681279,13.9528959064867,13.8595886507168,13.7375744440869,13.5893123239007,13.4312937643976,13.2559285989516,13.0585008035534,12.8616178897437],\"yaxis\":\"y\",\"type\":\"scatter\"},{\"hovertemplate\":\"LOCATION=AUS<br>TIME=%{x}<br>Value=%{y}<extra></extra>\",\"legendgroup\":\"AUS\",\"line\":{\"color\":\"#00cc96\",\"dash\":\"solid\"},\"marker\":{\"symbol\":\"circle\"},\"mode\":\"lines\",\"name\":\"AUS\",\"orientation\":\"v\",\"showlegend\":true,\"x\":[1950,1951,1952,1953,1954,1955,1956,1957,1958,1959,1960,1961,1962,1963,1964,1965,1966,1967,1968,1969,1970,1971,1972,1973,1974,1975,1976,1977,1978,1979,1980,1981,1982,1983,1984,1985,1986,1987,1988,1989,1990,1991,1992,1993,1994,1995,1996,1997,1998,1999,2000,2001,2002,2003,2004,2005,2006,2007,2008,2009,2010,2011,2012,2013,2014,2015,2016,2017,2018,2019,2020],\"xaxis\":\"x\",\"y\":[26.6044725934439,27.1453507011649,27.6014589243328,28.1226957675859,28.5906637734379,29.0389904018609,29.3873004084664,29.6404638907906,29.9865886369178,30.1221112923114,30.2053527980535,30.3096629299024,30.0490631278912,29.9168416323612,29.8176521363833,29.6272782583393,29.4815344595085,29.2840254128331,29.0325919640326,28.9207857057001,28.8280594073133,28.6768271707966,28.5089130332817,28.2331761367919,27.8683928835201,27.4931647207819,26.9869065835355,26.519045556887,26.0672785600646,25.6165914918913,25.252834977254,24.9646524955003,24.6636267178741,24.3676020588468,23.9791465532895,23.5968290973728,23.0954998486111,22.6719906954518,22.3747538434775,22.1531214643435,22.0039017580179,21.9018868046792,21.8156566573992,21.7255271506217,21.6269013541234,21.5251230194122,21.3697437119498,21.2146944067908,21.047982371059,20.8909039337317,20.7230176655367,20.5462746218476,20.3363082521296,20.1294150416387,19.938190077602,19.7423888493166,19.5706501101219,19.4302594890574,19.2990615787447,19.1688480356937,19.0574874896456,18.9507987994999,18.9324152741344,18.9290106432734,18.9120011232047,18.8928365159633,18.9021312842879,18.8567368483521,18.7840075495479,18.696974995215,18.6033570662228],\"yaxis\":\"y\",\"type\":\"scatter\"},{\"hovertemplate\":\"LOCATION=USA<br>TIME=%{x}<br>Value=%{y}<extra></extra>\",\"legendgroup\":\"USA\",\"line\":{\"color\":\"#ab63fa\",\"dash\":\"solid\"},\"marker\":{\"symbol\":\"circle\"},\"mode\":\"lines\",\"name\":\"USA\",\"orientation\":\"v\",\"showlegend\":true,\"x\":[1950,1951,1952,1953,1954,1955,1956,1957,1958,1959,1960,1961,1962,1963,1964,1965,1966,1967,1968,1969,1970,1971,1972,1973,1974,1975,1976,1977,1978,1979,1980,1981,1982,1983,1984,1985,1986,1987,1988,1989,1990,1991,1992,1993,1994,1995,1996,1997,1998,1999,2000,2001,2002,2003,2004,2005,2006,2007,2008,2009,2010,2011,2012,2013,2014,2015,2016,2017,2018,2019,2020],\"xaxis\":\"x\",\"y\":[26.9237338219556,27.4416576016219,27.9813572267928,28.4932922719366,29.0014380173098,29.5020269906801,29.9421026967835,30.3304153703019,30.5196814417117,30.7818351844047,31.0380182541366,31.3317083006152,31.0413602798237,30.8944538774674,30.7197187979573,30.4937645238071,30.1480754474486,29.7206139319499,29.2392802385451,28.7448889228872,28.2554775547027,27.802295954183,27.1786324143801,26.5016286157986,25.8131718768336,25.1704846951866,24.480444356214,23.8818849077544,23.3415096272744,22.8630977568656,22.5723155487673,22.3359063567989,22.1571977173987,22.014723053348,21.831072360628,21.6598390253484,21.4610891676824,21.4039129102884,21.4524242886214,21.5630228649526,21.6911584050967,21.8376652334454,21.9110297758771,21.9671222590668,21.96775169397,21.8837602043062,21.7910751959385,21.6717646824735,21.5622791676864,21.4862858024082,21.3635263415721,21.2129272116677,21.0562327201985,20.898652916189,20.7140384461213,20.4790682502407,20.2817638072096,20.1445313732053,20.0291327056453,19.9130542521761,19.7856620038029,19.63413650931,19.4749309684867,19.3279036397484,19.1838751971037,19.0279757502763,18.8878455190241,18.7648802544747,18.6267477872132,18.4610464096159,18.2993418471943],\"yaxis\":\"y\",\"type\":\"scatter\"},{\"hovertemplate\":\"LOCATION=BEL<br>TIME=%{x}<br>Value=%{y}<extra></extra>\",\"legendgroup\":\"BEL\",\"line\":{\"color\":\"#FFA15A\",\"dash\":\"solid\"},\"marker\":{\"symbol\":\"circle\"},\"mode\":\"lines\",\"name\":\"BEL\",\"orientation\":\"v\",\"showlegend\":true,\"x\":[1950,1951,1952,1953,1954,1955,1956,1957,1958,1959,1960,1961,1962,1963,1964,1965,1966,1967,1968,1969,1970,1971,1972,1973,1974,1975,1976,1977,1978,1979,1980,1981,1982,1983,1984,1985,1986,1987,1988,1989,1990,1991,1992,1993,1994,1995,1996,1997,1998,1999,2000,2001,2002,2003,2004,2005,2006,2007,2008,2009,2010,2011,2012,2013,2014,2015,2016,2017,2018,2019,2020],\"xaxis\":\"x\",\"y\":[20.9061101568876,21.0592960488275,21.2167934935435,21.362965720739,21.5279678580362,21.794854591856,22.196821981667,22.6553417769397,23.028615930142,23.2844909856551,23.5328273696699,23.7548383331439,23.8197648780803,23.8061222183111,23.8267417094738,23.8704908075812,23.9011953221559,23.8758287112471,23.8013106892409,23.6949427811412,23.5906913640342,23.4625761462488,23.2419037360797,22.9679745498768,22.6233624833972,22.2143724427847,21.7963159951062,21.3716733408895,20.9405953574631,20.5009716316853,20.1062089655362,19.8438236320951,19.602948488901,19.3523711227443,19.0766112126463,18.7522931163955,18.4825849660266,18.3047635952704,18.1942935859777,18.1216432740906,18.1212651913071,18.1545358752064,18.1712794165153,18.1477496259351,18.079182838469,17.9733000921197,17.8613382121117,17.7705361406649,17.7033899401471,17.6505187201893,17.6070384412745,17.548802219904,17.4587330441373,17.3481731628266,17.2356211172048,17.1347134836592,17.0356891894505,16.93153232902,16.8783291391129,16.8902453369602,16.9277952756845,16.9637451408163,16.9776453168251,16.9850822015539,16.9894429030702,16.9787286067486,16.9642540156917,16.9528792683742,16.9279464456398,16.8764885570374,16.7914522525454],\"yaxis\":\"y\",\"type\":\"scatter\"}],                        {\"template\":{\"data\":{\"bar\":[{\"error_x\":{\"color\":\"#2a3f5f\"},\"error_y\":{\"color\":\"#2a3f5f\"},\"marker\":{\"line\":{\"color\":\"#E5ECF6\",\"width\":0.5},\"pattern\":{\"fillmode\":\"overlay\",\"size\":10,\"solidity\":0.2}},\"type\":\"bar\"}],\"barpolar\":[{\"marker\":{\"line\":{\"color\":\"#E5ECF6\",\"width\":0.5},\"pattern\":{\"fillmode\":\"overlay\",\"size\":10,\"solidity\":0.2}},\"type\":\"barpolar\"}],\"carpet\":[{\"aaxis\":{\"endlinecolor\":\"#2a3f5f\",\"gridcolor\":\"white\",\"linecolor\":\"white\",\"minorgridcolor\":\"white\",\"startlinecolor\":\"#2a3f5f\"},\"baxis\":{\"endlinecolor\":\"#2a3f5f\",\"gridcolor\":\"white\",\"linecolor\":\"white\",\"minorgridcolor\":\"white\",\"startlinecolor\":\"#2a3f5f\"},\"type\":\"carpet\"}],\"choropleth\":[{\"colorbar\":{\"outlinewidth\":0,\"ticks\":\"\"},\"type\":\"choropleth\"}],\"contour\":[{\"colorbar\":{\"outlinewidth\":0,\"ticks\":\"\"},\"colorscale\":[[0.0,\"#0d0887\"],[0.1111111111111111,\"#46039f\"],[0.2222222222222222,\"#7201a8\"],[0.3333333333333333,\"#9c179e\"],[0.4444444444444444,\"#bd3786\"],[0.5555555555555556,\"#d8576b\"],[0.6666666666666666,\"#ed7953\"],[0.7777777777777778,\"#fb9f3a\"],[0.8888888888888888,\"#fdca26\"],[1.0,\"#f0f921\"]],\"type\":\"contour\"}],\"contourcarpet\":[{\"colorbar\":{\"outlinewidth\":0,\"ticks\":\"\"},\"type\":\"contourcarpet\"}],\"heatmap\":[{\"colorbar\":{\"outlinewidth\":0,\"ticks\":\"\"},\"colorscale\":[[0.0,\"#0d0887\"],[0.1111111111111111,\"#46039f\"],[0.2222222222222222,\"#7201a8\"],[0.3333333333333333,\"#9c179e\"],[0.4444444444444444,\"#bd3786\"],[0.5555555555555556,\"#d8576b\"],[0.6666666666666666,\"#ed7953\"],[0.7777777777777778,\"#fb9f3a\"],[0.8888888888888888,\"#fdca26\"],[1.0,\"#f0f921\"]],\"type\":\"heatmap\"}],\"heatmapgl\":[{\"colorbar\":{\"outlinewidth\":0,\"ticks\":\"\"},\"colorscale\":[[0.0,\"#0d0887\"],[0.1111111111111111,\"#46039f\"],[0.2222222222222222,\"#7201a8\"],[0.3333333333333333,\"#9c179e\"],[0.4444444444444444,\"#bd3786\"],[0.5555555555555556,\"#d8576b\"],[0.6666666666666666,\"#ed7953\"],[0.7777777777777778,\"#fb9f3a\"],[0.8888888888888888,\"#fdca26\"],[1.0,\"#f0f921\"]],\"type\":\"heatmapgl\"}],\"histogram\":[{\"marker\":{\"pattern\":{\"fillmode\":\"overlay\",\"size\":10,\"solidity\":0.2}},\"type\":\"histogram\"}],\"histogram2d\":[{\"colorbar\":{\"outlinewidth\":0,\"ticks\":\"\"},\"colorscale\":[[0.0,\"#0d0887\"],[0.1111111111111111,\"#46039f\"],[0.2222222222222222,\"#7201a8\"],[0.3333333333333333,\"#9c179e\"],[0.4444444444444444,\"#bd3786\"],[0.5555555555555556,\"#d8576b\"],[0.6666666666666666,\"#ed7953\"],[0.7777777777777778,\"#fb9f3a\"],[0.8888888888888888,\"#fdca26\"],[1.0,\"#f0f921\"]],\"type\":\"histogram2d\"}],\"histogram2dcontour\":[{\"colorbar\":{\"outlinewidth\":0,\"ticks\":\"\"},\"colorscale\":[[0.0,\"#0d0887\"],[0.1111111111111111,\"#46039f\"],[0.2222222222222222,\"#7201a8\"],[0.3333333333333333,\"#9c179e\"],[0.4444444444444444,\"#bd3786\"],[0.5555555555555556,\"#d8576b\"],[0.6666666666666666,\"#ed7953\"],[0.7777777777777778,\"#fb9f3a\"],[0.8888888888888888,\"#fdca26\"],[1.0,\"#f0f921\"]],\"type\":\"histogram2dcontour\"}],\"mesh3d\":[{\"colorbar\":{\"outlinewidth\":0,\"ticks\":\"\"},\"type\":\"mesh3d\"}],\"parcoords\":[{\"line\":{\"colorbar\":{\"outlinewidth\":0,\"ticks\":\"\"}},\"type\":\"parcoords\"}],\"pie\":[{\"automargin\":true,\"type\":\"pie\"}],\"scatter\":[{\"marker\":{\"colorbar\":{\"outlinewidth\":0,\"ticks\":\"\"}},\"type\":\"scatter\"}],\"scatter3d\":[{\"line\":{\"colorbar\":{\"outlinewidth\":0,\"ticks\":\"\"}},\"marker\":{\"colorbar\":{\"outlinewidth\":0,\"ticks\":\"\"}},\"type\":\"scatter3d\"}],\"scattercarpet\":[{\"marker\":{\"colorbar\":{\"outlinewidth\":0,\"ticks\":\"\"}},\"type\":\"scattercarpet\"}],\"scattergeo\":[{\"marker\":{\"colorbar\":{\"outlinewidth\":0,\"ticks\":\"\"}},\"type\":\"scattergeo\"}],\"scattergl\":[{\"marker\":{\"colorbar\":{\"outlinewidth\":0,\"ticks\":\"\"}},\"type\":\"scattergl\"}],\"scattermapbox\":[{\"marker\":{\"colorbar\":{\"outlinewidth\":0,\"ticks\":\"\"}},\"type\":\"scattermapbox\"}],\"scatterpolar\":[{\"marker\":{\"colorbar\":{\"outlinewidth\":0,\"ticks\":\"\"}},\"type\":\"scatterpolar\"}],\"scatterpolargl\":[{\"marker\":{\"colorbar\":{\"outlinewidth\":0,\"ticks\":\"\"}},\"type\":\"scatterpolargl\"}],\"scatterternary\":[{\"marker\":{\"colorbar\":{\"outlinewidth\":0,\"ticks\":\"\"}},\"type\":\"scatterternary\"}],\"surface\":[{\"colorbar\":{\"outlinewidth\":0,\"ticks\":\"\"},\"colorscale\":[[0.0,\"#0d0887\"],[0.1111111111111111,\"#46039f\"],[0.2222222222222222,\"#7201a8\"],[0.3333333333333333,\"#9c179e\"],[0.4444444444444444,\"#bd3786\"],[0.5555555555555556,\"#d8576b\"],[0.6666666666666666,\"#ed7953\"],[0.7777777777777778,\"#fb9f3a\"],[0.8888888888888888,\"#fdca26\"],[1.0,\"#f0f921\"]],\"type\":\"surface\"}],\"table\":[{\"cells\":{\"fill\":{\"color\":\"#EBF0F8\"},\"line\":{\"color\":\"white\"}},\"header\":{\"fill\":{\"color\":\"#C8D4E3\"},\"line\":{\"color\":\"white\"}},\"type\":\"table\"}]},\"layout\":{\"annotationdefaults\":{\"arrowcolor\":\"#2a3f5f\",\"arrowhead\":0,\"arrowwidth\":1},\"autotypenumbers\":\"strict\",\"coloraxis\":{\"colorbar\":{\"outlinewidth\":0,\"ticks\":\"\"}},\"colorscale\":{\"diverging\":[[0,\"#8e0152\"],[0.1,\"#c51b7d\"],[0.2,\"#de77ae\"],[0.3,\"#f1b6da\"],[0.4,\"#fde0ef\"],[0.5,\"#f7f7f7\"],[0.6,\"#e6f5d0\"],[0.7,\"#b8e186\"],[0.8,\"#7fbc41\"],[0.9,\"#4d9221\"],[1,\"#276419\"]],\"sequential\":[[0.0,\"#0d0887\"],[0.1111111111111111,\"#46039f\"],[0.2222222222222222,\"#7201a8\"],[0.3333333333333333,\"#9c179e\"],[0.4444444444444444,\"#bd3786\"],[0.5555555555555556,\"#d8576b\"],[0.6666666666666666,\"#ed7953\"],[0.7777777777777778,\"#fb9f3a\"],[0.8888888888888888,\"#fdca26\"],[1.0,\"#f0f921\"]],\"sequentialminus\":[[0.0,\"#0d0887\"],[0.1111111111111111,\"#46039f\"],[0.2222222222222222,\"#7201a8\"],[0.3333333333333333,\"#9c179e\"],[0.4444444444444444,\"#bd3786\"],[0.5555555555555556,\"#d8576b\"],[0.6666666666666666,\"#ed7953\"],[0.7777777777777778,\"#fb9f3a\"],[0.8888888888888888,\"#fdca26\"],[1.0,\"#f0f921\"]]},\"colorway\":[\"#636efa\",\"#EF553B\",\"#00cc96\",\"#ab63fa\",\"#FFA15A\",\"#19d3f3\",\"#FF6692\",\"#B6E880\",\"#FF97FF\",\"#FECB52\"],\"font\":{\"color\":\"#2a3f5f\"},\"geo\":{\"bgcolor\":\"white\",\"lakecolor\":\"white\",\"landcolor\":\"#E5ECF6\",\"showlakes\":true,\"showland\":true,\"subunitcolor\":\"white\"},\"hoverlabel\":{\"align\":\"left\"},\"hovermode\":\"closest\",\"mapbox\":{\"style\":\"light\"},\"paper_bgcolor\":\"white\",\"plot_bgcolor\":\"#E5ECF6\",\"polar\":{\"angularaxis\":{\"gridcolor\":\"white\",\"linecolor\":\"white\",\"ticks\":\"\"},\"bgcolor\":\"#E5ECF6\",\"radialaxis\":{\"gridcolor\":\"white\",\"linecolor\":\"white\",\"ticks\":\"\"}},\"scene\":{\"xaxis\":{\"backgroundcolor\":\"#E5ECF6\",\"gridcolor\":\"white\",\"gridwidth\":2,\"linecolor\":\"white\",\"showbackground\":true,\"ticks\":\"\",\"zerolinecolor\":\"white\"},\"yaxis\":{\"backgroundcolor\":\"#E5ECF6\",\"gridcolor\":\"white\",\"gridwidth\":2,\"linecolor\":\"white\",\"showbackground\":true,\"ticks\":\"\",\"zerolinecolor\":\"white\"},\"zaxis\":{\"backgroundcolor\":\"#E5ECF6\",\"gridcolor\":\"white\",\"gridwidth\":2,\"linecolor\":\"white\",\"showbackground\":true,\"ticks\":\"\",\"zerolinecolor\":\"white\"}},\"shapedefaults\":{\"line\":{\"color\":\"#2a3f5f\"}},\"ternary\":{\"aaxis\":{\"gridcolor\":\"white\",\"linecolor\":\"white\",\"ticks\":\"\"},\"baxis\":{\"gridcolor\":\"white\",\"linecolor\":\"white\",\"ticks\":\"\"},\"bgcolor\":\"#E5ECF6\",\"caxis\":{\"gridcolor\":\"white\",\"linecolor\":\"white\",\"ticks\":\"\"}},\"title\":{\"x\":0.05},\"xaxis\":{\"automargin\":true,\"gridcolor\":\"white\",\"linecolor\":\"white\",\"ticks\":\"\",\"title\":{\"standoff\":15},\"zerolinecolor\":\"white\",\"zerolinewidth\":2},\"yaxis\":{\"automargin\":true,\"gridcolor\":\"white\",\"linecolor\":\"white\",\"ticks\":\"\",\"title\":{\"standoff\":15},\"zerolinecolor\":\"white\",\"zerolinewidth\":2}}},\"xaxis\":{\"anchor\":\"y\",\"domain\":[0.0,1.0],\"title\":{\"text\":\"TIME\"},\"rangeslider\":{\"visible\":true}},\"yaxis\":{\"anchor\":\"x\",\"domain\":[0.0,1.0],\"title\":{\"text\":\"% of population\"}},\"legend\":{\"title\":{\"text\":\"LOCATION\"},\"tracegroupgap\":0},\"title\":{\"text\":\"Young population\"}},                        {\"responsive\": true}                    ).then(function(){\n                            \nvar gd = document.getElementById('a6345625-2030-487c-8e98-e0e0a9602512');\nvar x = new MutationObserver(function (mutations, observer) {{\n        var display = window.getComputedStyle(gd).display;\n        if (!display || display === 'none') {{\n            console.log([gd, 'removed!']);\n            Plotly.purge(gd);\n            observer.disconnect();\n        }}\n}});\n\n// Listen for the removal of the full notebook cells\nvar notebookContainer = gd.closest('#notebook-container');\nif (notebookContainer) {{\n    x.observe(notebookContainer, {childList: true});\n}}\n\n// Listen for the clearing of the current output cell\nvar outputEl = gd.closest('.output');\nif (outputEl) {{\n    x.observe(outputEl, {childList: true});\n}}\n\n                        })                };                });            </script>        </div>"
     },
     "metadata": {},
     "output_type": "display_data"
    }
   ],
   "source": [
    "# =============== Test ==================\n",
    "path_to_file = 'datasets/used/DP_LIVE_02012022214642229.csv'\n",
    "# works 4 arbitrary chosen countries! :D   Makes sense?\n",
    "df1 = load_chosen_oecd_data(path_to_file, 'AUS', 'AUT', 'BEL')\n",
    "\n",
    "# ----- Line-charts --------\n",
    "# Government researchers\n",
    "path_to_file = 'datasets/used/DP_LIVE_02012022214642229.csv'\n",
    "df_researchers = load_chosen_oecd_data(path_to_file, 'AUT', 'ITA', 'AUS', 'USA', 'BEL')\n",
    "df_researchers_filtered = filter_data_total(df_researchers)\n",
    "plot_lineplot(df_researchers_filtered,\"Government researchers\",\"% of national total\")\n",
    "\n",
    "# Young population\n",
    "path_to_file = 'datasets/used/DP_LIVE_02012022233800555.csv'\n",
    "df_young = load_chosen_oecd_data(path_to_file, 'AUT', 'ITA', 'AUS', 'USA', 'BEL')\n",
    "plot_lineplot(df_young,\"Young population\", \"% of population\")"
   ],
   "metadata": {
    "collapsed": false,
    "pycharm": {
     "name": "#%%\n"
    }
   }
  },
  {
   "cell_type": "code",
   "execution_count": null,
   "outputs": [],
   "source": [
    "# ------------ final program (later) ----------\n",
    "\"\"\"\n",
    "\n",
    "plot_lineplot(land_a, land_b)\n",
    "plot_lineplot(land_a, land_b)\n",
    "plot_lineplot(land_a, land_b)\n",
    "\n",
    "bar_lineplot(country1, country2, country3, country4, country5)\n",
    "bar_lineplot(country1, country2, country3)\n",
    "bar_lineplot(country1, country2, country3)\n",
    "\n",
    "scatter\n",
    "scatter\n",
    "scatter\n",
    "\n",
    "\"\"\"\n"
   ],
   "metadata": {
    "collapsed": false,
    "pycharm": {
     "name": "#%%\n"
    }
   }
  }
 ],
 "metadata": {
  "kernelspec": {
   "display_name": "Python 3 (ipykernel)",
   "language": "python",
   "name": "python3"
  },
  "language_info": {
   "codemirror_mode": {
    "name": "ipython",
    "version": 3
   },
   "file_extension": ".py",
   "mimetype": "text/x-python",
   "name": "python",
   "nbconvert_exporter": "python",
   "pygments_lexer": "ipython3",
   "version": "3.9.9"
  }
 },
 "nbformat": 4,
 "nbformat_minor": 5
}