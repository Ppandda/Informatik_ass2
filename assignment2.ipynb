{
 "cells": [
  {
   "cell_type": "code",
   "execution_count": null,
   "metadata": {},
   "outputs": [],
   "source": [
    "################################################################################\n",
    "# Author 1:      Bernhard Lugger\n",
    "# MatNr 1:       01114792\n",
    "# Author 2:      Paula Nauta\n",
    "# MatNr 2:       11938311\n",
    "# File:          assignment2.ipynb\n",
    "# Description:   several different plots of OECD data\n",
    "# Comments:    ... comments for the tutors ...\n",
    "#              ... can be multiline ...\n",
    "################################################################################"
   ]
  },
  {
   "cell_type": "code",
   "execution_count": 3,
   "metadata": {
    "jupyter": {
     "outputs_hidden": false
    },
    "pycharm": {
     "name": "#%%\n"
    }
   },
   "outputs": [],
   "source": [
    "# ========== imports ============\n",
    "\n",
    "import pandas as pd\n",
    "import pycountry as pc\n",
    "import pycountry_convert as pcc\n",
    "import plotly.express as px\n"
   ]
  },
  {
   "cell_type": "code",
   "execution_count": 16,
   "metadata": {
    "pycharm": {
     "name": "#%%\n"
    }
   },
   "outputs": [],
   "source": [
    "# ========== functions ============\n",
    "\n",
    "def countries_fullname(country):\n",
    "    \"\"\"receives alpha_3 from a country (e.g. 'AUS') and returns the\n",
    "    full name of the country (e.g. 'Australia')\"\"\"\n",
    "    country_full = pc.countries.get(alpha_3=country)\n",
    "    country_name = country_full.name\n",
    "    return country_name\n",
    "\n",
    "\n",
    "    # '*' means that you can pass as many parameters (in this case 'countries' as you wish)\n",
    "def load_oecd_csv_to_df(file_path, *chosen_countries):\n",
    "    \"\"\"loads one csv from the given path and returns the relevant columns of arbitrary chosen\n",
    "    country-alpha3 names to a dataframe. With LOCATION of countries in fullname. \"\"\"\n",
    "    oecd_data = pd.read_csv(file_path, header=0, usecols=['LOCATION','SUBJECT', 'MEASURE', 'TIME', 'Value'],\n",
    "                            delimiter=\",\")     # ('header=0' --> column names)\n",
    "\n",
    "    if not chosen_countries:    # DEFAULT if no countries chosen, all rows/entries get returned\n",
    "        return oecd_data\n",
    "\n",
    "    else:\n",
    "        final_filtered_df = pd.DataFrame()\n",
    "        country_alpha3_names = []\n",
    "        for country in chosen_countries:\n",
    "            country_alpha3_names.append(country)\n",
    "\n",
    "        for country in country_alpha3_names:\n",
    "            df_mask=oecd_data['LOCATION']==country            # known from assignment1\n",
    "            filtered_df = oecd_data[df_mask]\n",
    "            final_filtered_df = final_filtered_df.append(filtered_df)\n",
    "\n",
    "        for country in chosen_countries:        # replace alpha3 names with full names of countries\n",
    "            full_name = countries_fullname(country)\n",
    "            final_filtered_df = final_filtered_df.replace([country], full_name)\n",
    "\n",
    "        return final_filtered_df\n",
    "\n",
    "\n",
    "def load_oecd_csv_to_df_alpha3(file_path, *chosen_countries):\n",
    "    \"\"\"loads one csv from the given path and returns the relevant columns of arbitrary\n",
    "    chosen country-alpha3 codes to a dataframe. With LOCATION of countries in alpha3 name.\"\"\"\n",
    "    oecd_data = pd.read_csv(file_path, header=0, usecols=['LOCATION','SUBJECT', 'MEASURE', 'TIME', 'Value'],\n",
    "                            delimiter=\",\")\n",
    "\n",
    "    if not chosen_countries:    # DEFAULT if no countries chosen, all rows/entries get returned\n",
    "        return oecd_data\n",
    "    else:\n",
    "        final_filtered_df = pd.DataFrame()\n",
    "        country_alpha3_names = []\n",
    "        for country in chosen_countries:\n",
    "            country_alpha3_names.append(country)\n",
    "\n",
    "        for country in country_alpha3_names:\n",
    "            df_mask=oecd_data['LOCATION']==country\n",
    "            filtered_df = oecd_data[df_mask]\n",
    "            final_filtered_df = final_filtered_df.append(filtered_df)\n",
    "\n",
    "        return final_filtered_df\n",
    "\n",
    "\n",
    "def filter_dataframe(df, column, value):\n",
    "    \"\"\"returns only data where the given value is in column.\"\"\"\n",
    "    df_mask=df[column]==value\n",
    "    filtered_df = df[df_mask]\n",
    "    return filtered_df\n",
    "\n",
    "\n",
    "def prepare_scatterplot1_df(df1, df2, year):\n",
    "    \"\"\"prepares/edits data from 2 dataframes from one year [int] to one new dataframe\"\"\"\n",
    "    df1_filtered = filter_dataframe(df1, 'SUBJECT', 'GHG')\n",
    "    df1_filtered = filter_dataframe(df1_filtered, 'MEASURE', 'TONNE_CAP')\n",
    "    df1_filtered = filter_dataframe(df1_filtered, 'TIME', year)\n",
    "\n",
    "    df1_filtered_indexed = df1_filtered.set_index('LOCATION')\n",
    "    df1_filtered_indexed = df1_filtered_indexed.rename(columns={'Value': 'Values1'})\n",
    "    df1_final = df1_filtered_indexed.Values1\n",
    "\n",
    "\n",
    "    df2_filtered = filter_dataframe(df2, 'SUBJECT', 'TRY')\n",
    "    df2_filtered = filter_dataframe(df2_filtered, 'TIME', year)\n",
    "\n",
    "    df2_filtered_indexed = df2_filtered.set_index('LOCATION')\n",
    "    df2_filtered_indexed = df2_filtered_indexed.rename(columns={'Value': 'Values2'})\n",
    "    df2_final = df2_filtered_indexed.Values2\n",
    "\n",
    "    df_final = pd.concat([df1_final, df2_final], axis=1) # <-- works but i guess not clean\n",
    "    return df_final\n",
    "\n",
    "\n",
    "def alpha3_to_continent_name(country_alpha3):\n",
    "    \"\"\"expects alpha3 of a country and returns the continent in which it is located. \"\"\"\n",
    "    try:\n",
    "        a2 = pcc.country_alpha3_to_country_alpha2(country_alpha3)\n",
    "        continent_code = pcc.country_alpha2_to_continent_code(a2)\n",
    "        continent_name = pcc.convert_continent_code_to_continent_name(continent_code)\n",
    "        return continent_name\n",
    "    except:\n",
    "        continent_name = \"unknown continent\"\n",
    "        return continent_name\n",
    "\n",
    "\n",
    "def plot_lineplot(df, title, xaxis_text):\n",
    "    \"\"\"plots a lineplot of the given DataFrame with the given title and x-axis text.\"\"\"\n",
    "    fig = px.line(df, x=\"TIME\",y=\"Value\", color=\"LOCATION\", title=title)\n",
    "    fig.update_layout(xaxis={\"rangeslider\": {\"visible\": True}})\n",
    "    fig.update_yaxes(title_text = xaxis_text)\n",
    "    fig.show()\n",
    "\n",
    "\n",
    "def plot_barplot(df, title, xaxis_text):\n",
    "    \"\"\"plots a barplot of the given DataFrame with the given title and x-axis text.\"\"\"\n",
    "    fig = px.bar(df, x=\"LOCATION\",y=\"Value\", color=\"LOCATION\", title=title)\n",
    "    fig.update_yaxes(title_text = xaxis_text)\n",
    "    fig.show()\n",
    "\n",
    "\n",
    "def plot_scatterplot(df):\n",
    "    fig = px.scatter(df, x=\"Values1\", y=\"Values2\")\n",
    "    # size='petal_length', hover_data=['petal_width'],color=\"LOCATION\n",
    "    fig.show()"
   ]
  },
  {
   "cell_type": "code",
   "execution_count": 14,
   "metadata": {
    "pycharm": {
     "name": "#%%\n"
    }
   },
   "outputs": [],
   "source": [
    "# =============== Plot functions ==================\n",
    "\n",
    "# ----- Line-Plots --------\n",
    "# Government researchers\n",
    "def plot_lineplot1():\n",
    "    \"\"\"plots lineplot1 about Government researchers. \"\"\"\n",
    "    df_researchers = load_oecd_csv_to_df('datasets/DP_LIVE_02012022214642229.csv')#, 'AUT', 'ITA', 'AUS', 'USA', 'BEL')\n",
    "    df_researchers_filtered = filter_dataframe(df_researchers, 'SUBJECT', 'TOT')\n",
    "    df_researchers_filtered = filter_dataframe(df_researchers_filtered, 'MEASURE', 'PC_NATIONAL')\n",
    "    plot_lineplot(df_researchers_filtered,\"Government researchers\",\"% of national total\")\n",
    "\n",
    "# Young population\n",
    "def plot_lineplot2():\n",
    "    \"\"\"plots lineplot2 about Young population. \"\"\"\n",
    "    df_young = load_oecd_csv_to_df('datasets/DP_LIVE_02012022233800555.csv', 'AUT', 'ITA', 'AUS', 'USA', 'BEL')\n",
    "    plot_lineplot(df_young,\"Young population\", \"% of population\")\n",
    "\n",
    "\n",
    "# ----- Bar-Plots --------\n",
    "# Discrimination in the family\n",
    "def plot_barplot1():\n",
    "    \"\"\"plots barplot1 about Attitudes towards working mothers. \"\"\"\n",
    "    df_discrimination = load_oecd_csv_to_df('datasets/DP_LIVE_03012022021117254.csv', 'AUT', 'ITA', 'AUS', 'USA', 'BEL')\n",
    "    df_discrimination_filtered = filter_dataframe(df_discrimination, 'SUBJECT', 'ATTWORKMUM')\n",
    "    plot_barplot(df_discrimination_filtered, \"Discrimination in the family 2019\", \"Attitudes towards working mothers [%]\")\n",
    "\n",
    "\n",
    "# ----- Scatter-Plots --------\n",
    "# Greenhouse gas (GHG), Tonnes/capita;   Adult education level - Tertiary, % of 25-64 year-olds, 2020 or latest available\n",
    "def plot_scatterplot1():\n",
    "    \"\"\"plots scatterplot1 about Greenhouse gas (GHG), Tonnes/capita and  Adult education level - Tertiary. \"\"\"\n",
    "    df_ghg = load_oecd_csv_to_df_alpha3('datasets/DP_LIVE_04012022042348960.csv', 'AUT', 'ITA', 'AUS', 'USA', 'BEL')\n",
    "    df_edu_ter = load_oecd_csv_to_df_alpha3('datasets/DP_LIVE_04012022044322787.csv', 'AUT', 'ITA', 'AUS', 'USA', 'BEL')\n",
    "    df_scatter1 = prepare_scatterplot1_df(df_ghg, df_edu_ter, 2010)\n",
    "    plot_scatterplot(df_scatter1)"
   ]
  },
  {
   "cell_type": "code",
   "execution_count": 17,
   "metadata": {
    "pycharm": {
     "name": "#%%\n"
    }
   },
   "outputs": [
    {
     "data": {
      "application/vnd.plotly.v1+json": {
       "data": [
        {
         "hovertemplate": "LOCATION=TWN<br>TIME=%{x}<br>Value=%{y}<extra></extra>",
         "legendgroup": "TWN",
         "line": {
          "color": "#636efa",
          "dash": "solid"
         },
         "marker": {
          "symbol": "circle"
         },
         "mode": "lines",
         "name": "TWN",
         "showlegend": true,
         "x": [
          1998,
          1999,
          2000,
          2001,
          2002,
          2003,
          2004,
          2005,
          2006,
          2007,
          2008,
          2009,
          2010,
          2011,
          2012,
          2013,
          2014,
          2015,
          2016,
          2017,
          2018,
          2019
         ],
         "xaxis": "x",
         "y": [
          23.3292599098931,
          21.3277660272774,
          21.0212088300443,
          19.8087045476777,
          19.6493582571598,
          18.2263734720736,
          16.3542460366117,
          15.5181808640215,
          14.6429834270334,
          13.7827096831611,
          12.2780902284559,
          11.8391969568221,
          11.642724111665,
          10.7409701813734,
          10.225387363286,
          10.1017178599197,
          9.98800443375462,
          9.90263675311035,
          10.0566653730823,
          10.0371584406546,
          10.1869661256518,
          10.5706440324192
         ],
         "yaxis": "y",
         "type": "scattergl"
        },
        {
         "hovertemplate": "LOCATION=MEX<br>TIME=%{x}<br>Value=%{y}<extra></extra>",
         "legendgroup": "MEX",
         "line": {
          "color": "#EF553B",
          "dash": "solid"
         },
         "marker": {
          "symbol": "circle"
         },
         "mode": "lines",
         "name": "MEX",
         "showlegend": true,
         "x": [
          1993,
          1994,
          1995,
          1996,
          1997,
          1998,
          1999,
          2001,
          2002,
          2003,
          2004,
          2005,
          2006,
          2007,
          2008,
          2009,
          2010,
          2011,
          2012,
          2013,
          2014,
          2015,
          2016,
          2017,
          2018,
          2019,
          2020
         ],
         "xaxis": "x",
         "y": [
          38.3393604197689,
          31.9207549381631,
          30.9509107749305,
          30.567005127174,
          29.3878694495027,
          31.605222734255,
          34.4622697563874,
          30.3159756883222,
          20.5126557882565,
          19.0625186244711,
          17.0023159802638,
          15.0015937343473,
          20.2156408559453,
          19.3039810176641,
          21.3041270704578,
          19.2747210232052,
          21.1962515765365,
          20.7476679864494,
          24.764552359781,
          24.3084163764734,
          21.6265135070885,
          19.830299995528,
          17.153718863926,
          16.4842008955447,
          15.7915226832885,
          14.4538227954826,
          13.0070789017256
         ],
         "yaxis": "y",
         "type": "scattergl"
        },
        {
         "hovertemplate": "LOCATION=ISL<br>TIME=%{x}<br>Value=%{y}<extra></extra>",
         "legendgroup": "ISL",
         "line": {
          "color": "#00cc96",
          "dash": "solid"
         },
         "marker": {
          "symbol": "circle"
         },
         "mode": "lines",
         "name": "ISL",
         "showlegend": true,
         "x": [
          1981,
          1983,
          1985,
          1987,
          1989,
          1990,
          1991,
          1992,
          1993,
          1994,
          1995,
          1997,
          1998,
          1999,
          2001,
          2003,
          2005,
          2006,
          2007,
          2008,
          2009,
          2011,
          2013,
          2015,
          2017
         ],
         "xaxis": "x",
         "y": [
          50.4062681369704,
          48.4760522496372,
          42.4598930481284,
          45.8452138492872,
          43.3323606653049,
          43.3284023668639,
          42.1358940782773,
          40.3558316859644,
          39.2957919273709,
          39.041699752786,
          30.0938400074329,
          29.0625699157282,
          28.3810356128469,
          26.7194928684628,
          22.8084328277939,
          24.3609806990089,
          23.2632604761242,
          22.011367803447,
          20.7897477697777,
          20.7897477697777,
          21.8234801005948,
          18.1995306203782,
          9.78317920857976,
          12.2914566661867,
          12.0487804878049
         ],
         "yaxis": "y",
         "type": "scattergl"
        },
        {
         "hovertemplate": "LOCATION=JPN<br>TIME=%{x}<br>Value=%{y}<extra></extra>",
         "legendgroup": "JPN",
         "line": {
          "color": "#ab63fa",
          "dash": "solid"
         },
         "marker": {
          "symbol": "circle"
         },
         "mode": "lines",
         "name": "JPN",
         "showlegend": true,
         "x": [
          1981,
          1982,
          1983,
          1984,
          1985,
          1986,
          1987,
          1988,
          1989,
          1990,
          1991,
          1992,
          1993,
          1994,
          1995,
          1996,
          1997,
          1998,
          1999,
          2000,
          2001,
          2002,
          2003,
          2004,
          2005,
          2006,
          2007,
          2008,
          2009,
          2010,
          2011,
          2012,
          2013,
          2014,
          2015,
          2016,
          2017,
          2018,
          2019
         ],
         "xaxis": "x",
         "y": [
          9.32850578630387,
          8.98187176587506,
          8.2784525934028,
          8.06287351433624,
          7.58743673853152,
          7.35633529356381,
          6.95675401212361,
          6.73840370142853,
          6.40887914557021,
          6.17662692051747,
          6.02787201029522,
          5.84544208428903,
          5.68033109148891,
          5.59374509024704,
          5.4975633616551,
          4.89839884023228,
          4.83050386766479,
          4.73466136678691,
          4.70276669044331,
          4.82232091566652,
          5.16828708418259,
          5.43966229826575,
          5.16747423620681,
          5.18457446076234,
          5.00050688258396,
          4.90491820512671,
          4.77925972255305,
          4.8806412903776,
          4.99061827833966,
          4.94213696892835,
          4.89818792631093,
          4.88390910764651,
          4.67895756023189,
          4.44742178977502,
          4.56778804690132,
          4.54320082456135,
          4.52615142571552,
          4.51017055626174,
          4.47800815756628
         ],
         "yaxis": "y",
         "type": "scattergl"
        },
        {
         "hovertemplate": "LOCATION=NOR<br>TIME=%{x}<br>Value=%{y}<extra></extra>",
         "legendgroup": "NOR",
         "line": {
          "color": "#FFA15A",
          "dash": "solid"
         },
         "marker": {
          "symbol": "circle"
         },
         "mode": "lines",
         "name": "NOR",
         "showlegend": true,
         "x": [
          1981,
          1983,
          1985,
          1987,
          1989,
          1991,
          1993,
          1995,
          1997,
          1999,
          2001,
          2003,
          2004,
          2005,
          2006,
          2007,
          2008,
          2009,
          2010,
          2011,
          2012,
          2013,
          2014,
          2015,
          2016,
          2017,
          2018,
          2019
         ],
         "xaxis": "x",
         "y": [
          18.4849293144839,
          18.4353495110467,
          16.0235245563351,
          16.2668992586132,
          19.9325435998684,
          19.1827637444279,
          19.5420984894669,
          18.9253656393196,
          17.4442538593482,
          16.6001639792293,
          15.6565913131826,
          15.8564837346935,
          15.9711164778365,
          16.268637707957,
          15.6335807543092,
          15.9256856093895,
          15.3647665962937,
          16.9375404407567,
          16.9331972326188,
          16.8980461289849,
          16.7163535792536,
          16.6183950268437,
          15.825837124192,
          15.4576913032123,
          15.0032901952183,
          14.1294005708849,
          13.4170137169817,
          12.5968020502535
         ],
         "yaxis": "y",
         "type": "scattergl"
        },
        {
         "hovertemplate": "LOCATION=CHL<br>TIME=%{x}<br>Value=%{y}<extra></extra>",
         "legendgroup": "CHL",
         "line": {
          "color": "#19d3f3",
          "dash": "solid"
         },
         "marker": {
          "symbol": "circle"
         },
         "mode": "lines",
         "name": "CHL",
         "showlegend": true,
         "x": [
          2007,
          2008,
          2009,
          2010,
          2011,
          2012,
          2013,
          2014,
          2015,
          2016,
          2017,
          2018
         ],
         "xaxis": "x",
         "y": [
          8.94983413563789,
          9.44156589333611,
          5.53611854291006,
          5.36764705882353,
          5.53780600157937,
          5.94600478669493,
          12.0527409073545,
          10.13676502857,
          10.5562394379942,
          14.4251927433039,
          12.7841501974404,
          14.2989142620232
         ],
         "yaxis": "y",
         "type": "scattergl"
        },
        {
         "hovertemplate": "LOCATION=CZE<br>TIME=%{x}<br>Value=%{y}<extra></extra>",
         "legendgroup": "CZE",
         "line": {
          "color": "#FF6692",
          "dash": "solid"
         },
         "marker": {
          "symbol": "circle"
         },
         "mode": "lines",
         "name": "CZE",
         "showlegend": true,
         "x": [
          1995,
          1996,
          1997,
          1998,
          1999,
          2000,
          2001,
          2002,
          2003,
          2004,
          2005,
          2006,
          2007,
          2008,
          2009,
          2010,
          2011,
          2012,
          2013,
          2014,
          2015,
          2016,
          2017,
          2018,
          2019
         ],
         "xaxis": "x",
         "y": [
          36.1511394101877,
          35.285042042737,
          36.5421303656598,
          36.5748846092631,
          31.6291097155523,
          31.9376263355472,
          32.274638019617,
          29.577935087485,
          30.5711936238851,
          29.6146999565283,
          27.1592179060016,
          26.6186491936505,
          25.6596005092205,
          24.4711790919636,
          22.5953731176869,
          22.5037509222445,
          21.5473495972148,
          19.4278033506987,
          19.6231863383098,
          19.3644560859275,
          19.4136491911838,
          20.086210579835,
          20.182750271503,
          19.1246300898192,
          18.7485547174446
         ],
         "yaxis": "y",
         "type": "scattergl"
        },
        {
         "hovertemplate": "LOCATION=TUR<br>TIME=%{x}<br>Value=%{y}<extra></extra>",
         "legendgroup": "TUR",
         "line": {
          "color": "#B6E880",
          "dash": "solid"
         },
         "marker": {
          "symbol": "circle"
         },
         "mode": "lines",
         "name": "TUR",
         "showlegend": true,
         "x": [
          1990,
          1991,
          1992,
          1993,
          1994,
          1995,
          1996,
          1997,
          1998,
          1999,
          2000,
          2001,
          2002,
          2003,
          2004,
          2005,
          2006,
          2007,
          2008,
          2009,
          2010,
          2011,
          2012,
          2013,
          2014,
          2015,
          2016,
          2017,
          2018,
          2019
         ],
         "xaxis": "x",
         "y": [
          14.5835189309577,
          15.9022430532307,
          15.8116599061481,
          13.0393237780228,
          12.1438450899032,
          11.7257474454396,
          12.9886646392038,
          11.8732811508356,
          10.9114927344782,
          10.9494144031896,
          10.7395052636139,
          11.0651043960885,
          11.4773911231507,
          11.1635027556644,
          11.105587788603,
          10.8566016492953,
          11.0377592615377,
          9.72870176169035,
          9.22850070247582,
          9.87317644697025,
          9.45998182433201,
          8.40400636604247,
          7.65638991015329,
          7.06578974227408,
          7.29592630242242,
          6.88823645462129,
          6.6894306994948,
          5.96283949844941,
          5.30805199940372,
          4.24628758750591
         ],
         "yaxis": "y",
         "type": "scattergl"
        },
        {
         "hovertemplate": "LOCATION=AUT<br>TIME=%{x}<br>Value=%{y}<extra></extra>",
         "legendgroup": "AUT",
         "line": {
          "color": "#FF97FF",
          "dash": "solid"
         },
         "marker": {
          "symbol": "circle"
         },
         "mode": "lines",
         "name": "AUT",
         "showlegend": true,
         "x": [
          1981,
          1985,
          1989,
          1993,
          1998,
          2002,
          2004,
          2005,
          2006,
          2007,
          2008,
          2009,
          2010,
          2011,
          2012,
          2013,
          2014,
          2015,
          2016,
          2017,
          2018,
          2019
         ],
         "xaxis": "x",
         "y": [
          8.08998808104887,
          6.80772769089237,
          5.92120245957641,
          7.05093206458155,
          5.09756983777545,
          4.1398435589307,
          3.96760572062631,
          4.32601792789502,
          4.61835629668444,
          4.38507873568299,
          4.38503200679257,
          4.49836572552844,
          4.28638989199282,
          4.07153134413614,
          3.91579997330022,
          3.87576189345365,
          3.88016984540315,
          3.86116339929296,
          7.71270370228504,
          7.71237978998759,
          7.71269483780106,
          7.22994717232732
         ],
         "yaxis": "y",
         "type": "scattergl"
        },
        {
         "hovertemplate": "LOCATION=PRT<br>TIME=%{x}<br>Value=%{y}<extra></extra>",
         "legendgroup": "PRT",
         "line": {
          "color": "#FECB52",
          "dash": "solid"
         },
         "marker": {
          "symbol": "circle"
         },
         "mode": "lines",
         "name": "PRT",
         "showlegend": true,
         "x": [
          1982,
          1983,
          1984,
          1985,
          1986,
          1987,
          1988,
          1989,
          1990,
          1991,
          1992,
          1993,
          1994,
          1995,
          1996,
          1997,
          1998,
          1999,
          2000,
          2001,
          2002,
          2003,
          2004,
          2005,
          2006,
          2007,
          2008,
          2009,
          2010,
          2011,
          2012,
          2013,
          2014,
          2015,
          2016,
          2017,
          2018,
          2019
         ],
         "xaxis": "x",
         "y": [
          44.411356466877,
          41.1191635974813,
          38.1905937815692,
          35.1592744708865,
          32.7998042950253,
          31.237330771673,
          29.8744055602975,
          28.3609962859601,
          27.0775435285602,
          23.7704584198798,
          21.063379536557,
          21.3970788870976,
          21.6644843174939,
          23.6283536795641,
          22.4637907954001,
          21.4736360631008,
          21.6861305064957,
          21.870171079146,
          21.1827868423427,
          20.5719398717582,
          18.6635987455991,
          16.9925402586225,
          16.3826662914215,
          15.7983189376473,
          13.1764382364597,
          11.2105550019439,
          7.92610807030568,
          6.94062627720313,
          5.87623738408671,
          5.74586889413474,
          3.95828529208296,
          3.66634767957175,
          3.79360702365246,
          3.49399221136871,
          3.24078217929468,
          3.28765239048286,
          3.26946056031353,
          3.18888450397133
         ],
         "yaxis": "y",
         "type": "scattergl"
        },
        {
         "hovertemplate": "LOCATION=SWE<br>TIME=%{x}<br>Value=%{y}<extra></extra>",
         "legendgroup": "SWE",
         "line": {
          "color": "#636efa",
          "dash": "solid"
         },
         "marker": {
          "symbol": "circle"
         },
         "mode": "lines",
         "name": "SWE",
         "showlegend": true,
         "x": [
          1981,
          1983,
          1985,
          1987,
          1989,
          1991,
          1993,
          1995,
          1997,
          1999,
          2001,
          2003,
          2004,
          2005,
          2006,
          2007,
          2008,
          2009,
          2010,
          2011,
          2012,
          2013,
          2014,
          2015,
          2016,
          2017,
          2018,
          2019
         ],
         "xaxis": "x",
         "y": [
          8.03531515422441,
          7.73682289765914,
          6.61217407187543,
          6.63586358635864,
          6.03869454758648,
          6.46426551008863,
          7.88664022972788,
          8.13307589484628,
          6.61369922446988,
          6.06952115095784,
          4.9135376961957,
          4.74619183995351,
          4.80690390291899,
          5.32535772076871,
          5.45676398284556,
          4.23688116650659,
          3.52449223416965,
          3.13477635917815,
          3.83679428942245,
          4.30577799679685,
          4.0625,
          3.71685827335888,
          3.45722731569707,
          4.97797224802949,
          4.77746831126016,
          5.17967510802385,
          4.92342084602999,
          5.041930206495
         ],
         "yaxis": "y",
         "type": "scattergl"
        },
        {
         "hovertemplate": "LOCATION=ROU<br>TIME=%{x}<br>Value=%{y}<extra></extra>",
         "legendgroup": "ROU",
         "line": {
          "color": "#EF553B",
          "dash": "solid"
         },
         "marker": {
          "symbol": "circle"
         },
         "mode": "lines",
         "name": "ROU",
         "showlegend": true,
         "x": [
          1993,
          1994,
          1995,
          1996,
          1997,
          1998,
          1999,
          2000,
          2001,
          2002,
          2003,
          2004,
          2005,
          2006,
          2007,
          2008,
          2009,
          2010,
          2011,
          2012,
          2013,
          2014,
          2015,
          2016,
          2017,
          2018,
          2019
         ],
         "xaxis": "x",
         "y": [
          25.4532269760696,
          25.7473852626589,
          25.7199511897499,
          24.7368247368247,
          22.3558791460026,
          23.9761402487816,
          24.2959996591829,
          25.6104707950772,
          28.3838588664707,
          29.2517006802721,
          28.8242308609587,
          29.7596085995202,
          30.8476348113947,
          29.3622837915988,
          30.9336452573373,
          31.8088068474786,
          29.8064449172332,
          28.2608695652174,
          36.3557213930348,
          35.3685612788632,
          35.4381998277347,
          35.3912419239052,
          38.1407869866545,
          37.4321179208689,
          37.2531110857404,
          38.3256840759891,
          39.1988472622478
         ],
         "yaxis": "y",
         "type": "scattergl"
        },
        {
         "hovertemplate": "LOCATION=GBR<br>TIME=%{x}<br>Value=%{y}<extra></extra>",
         "legendgroup": "GBR",
         "line": {
          "color": "#00cc96",
          "dash": "solid"
         },
         "marker": {
          "symbol": "circle"
         },
         "mode": "lines",
         "name": "GBR",
         "showlegend": true,
         "x": [
          1981,
          1982,
          1983,
          1984,
          1985,
          1986,
          1987,
          1988,
          1989,
          1990,
          1991,
          1992,
          1993,
          1994,
          1995,
          1996,
          1997,
          1998,
          1999,
          2000,
          2001,
          2002,
          2003,
          2004,
          2005,
          2006,
          2007,
          2008,
          2009,
          2010,
          2011,
          2012,
          2013,
          2014,
          2015,
          2016,
          2017,
          2018,
          2019
         ],
         "xaxis": "x",
         "y": [
          15.748031496063,
          15.625,
          15.748031496063,
          14.7286821705426,
          14.5038167938931,
          11.1940298507463,
          11.1940298507463,
          10.9627737226277,
          11.2781954887218,
          11.3240601503759,
          11.73984375,
          11.677519379845,
          10.7152671755725,
          10.4716417910448,
          9.38609076493242,
          8.99644177289529,
          8.58012705196057,
          9.11316614022402,
          8.93930246412564,
          8.79694741366669,
          5.48912332143651,
          4.66368642619323,
          4.35890242584944,
          4.01997492325274,
          3.74522373956805,
          3.51803282560854,
          3.36591057697027,
          3.45115362616138,
          3.39726701569555,
          3.35945259643573,
          3.01188426369443,
          3.01741436091388,
          2.85421845845233,
          2.8089497649537,
          2.4806403194567,
          2.43906659928977,
          2.37046098116472,
          2.24641057965398,
          2.16869519201693
         ],
         "yaxis": "y",
         "type": "scattergl"
        },
        {
         "hovertemplate": "LOCATION=NZL<br>TIME=%{x}<br>Value=%{y}<extra></extra>",
         "legendgroup": "NZL",
         "line": {
          "color": "#ab63fa",
          "dash": "solid"
         },
         "marker": {
          "symbol": "circle"
         },
         "mode": "lines",
         "name": "NZL",
         "showlegend": true,
         "x": [
          1989,
          1990,
          1991,
          1992,
          1993,
          1995,
          1997,
          1999,
          2001,
          2003,
          2005,
          2007,
          2009,
          2011,
          2013,
          2015,
          2017,
          2019
         ],
         "xaxis": "x",
         "y": [
          29.7218762972188,
          31.1874105865522,
          32.0917508417509,
          26.3594782314078,
          26.8870967741936,
          24.5412844036697,
          21.3608898994126,
          18.602707397354,
          19.3638960158784,
          14.5595729191944,
          13.8610811643308,
          14.3835616438356,
          13.6645962732919,
          11.6564417177914,
          11.1731843575419,
          7.6,
          7.91666666666667,
          6.78571428571429
         ],
         "yaxis": "y",
         "type": "scattergl"
        },
        {
         "hovertemplate": "LOCATION=EST<br>TIME=%{x}<br>Value=%{y}<extra></extra>",
         "legendgroup": "EST",
         "line": {
          "color": "#FFA15A",
          "dash": "solid"
         },
         "marker": {
          "symbol": "circle"
         },
         "mode": "lines",
         "name": "EST",
         "showlegend": true,
         "x": [
          1998,
          1999,
          2000,
          2001,
          2002,
          2003,
          2004,
          2005,
          2006,
          2007,
          2008,
          2009,
          2010,
          2011,
          2012,
          2013,
          2014,
          2015,
          2016,
          2017,
          2018,
          2019
         ],
         "xaxis": "x",
         "y": [
          21.2222968435191,
          20.6528980679547,
          20.9677419354839,
          16.0395286963132,
          15.1356652500817,
          15.8435531985416,
          14.4256455921638,
          14.2299609726809,
          14.602903501281,
          14.769647696477,
          13.3450615732596,
          11.8915159944367,
          13.4412558253618,
          11.8820660607404,
          11.9161938018333,
          12.548218742909,
          12.3360854783876,
          12.2760926677812,
          11.6182572614108,
          11.7458279845956,
          9.84540440436411,
          10.4802514363502
         ],
         "yaxis": "y",
         "type": "scattergl"
        },
        {
         "hovertemplate": "LOCATION=CHE<br>TIME=%{x}<br>Value=%{y}<extra></extra>",
         "legendgroup": "CHE",
         "line": {
          "color": "#19d3f3",
          "dash": "solid"
         },
         "marker": {
          "symbol": "circle"
         },
         "mode": "lines",
         "name": "CHE",
         "showlegend": true,
         "x": [
          1992,
          1996,
          2000,
          2004,
          2008,
          2012,
          2015,
          2017
         ],
         "xaxis": "x",
         "y": [
          3.55731225296443,
          2.5107441755259,
          1.55142692970695,
          1.67322834645669,
          1.93980519964684,
          1.20162079083415,
          1.07910379515318,
          0.98724179829891
         ],
         "yaxis": "y",
         "type": "scattergl"
        },
        {
         "hovertemplate": "LOCATION=RUS<br>TIME=%{x}<br>Value=%{y}<extra></extra>",
         "legendgroup": "RUS",
         "line": {
          "color": "#FF6692",
          "dash": "solid"
         },
         "marker": {
          "symbol": "circle"
         },
         "mode": "lines",
         "name": "RUS",
         "showlegend": true,
         "x": [
          1994,
          1995,
          1996,
          1997,
          1998,
          1999,
          2000,
          2001,
          2002,
          2003,
          2004,
          2005,
          2006,
          2007,
          2008,
          2009,
          2010,
          2011,
          2012,
          2013,
          2014,
          2015,
          2016,
          2017,
          2018,
          2019
         ],
         "xaxis": "x",
         "y": [
          25.2390678524904,
          25.851100257718,
          27.003220239472,
          28.5764992891605,
          29.9154913562399,
          28.8753193972195,
          28.0776825559812,
          28.612553333676,
          29.6062153415836,
          30.0260319974071,
          30.9634520890951,
          33.3264453470577,
          33.0842433730944,
          32.629893663287,
          32.3545642523598,
          33.0597404711676,
          32.8128287085106,
          31.630617164791,
          33.7476791744968,
          32.8602459025696,
          32.5267215896958,
          32.6906807961174,
          34.0315796345865,
          33.9681503688352,
          35.6229606774248,
          30.9943768204202
         ],
         "yaxis": "y",
         "type": "scattergl"
        },
        {
         "hovertemplate": "LOCATION=ARG<br>TIME=%{x}<br>Value=%{y}<extra></extra>",
         "legendgroup": "ARG",
         "line": {
          "color": "#B6E880",
          "dash": "solid"
         },
         "marker": {
          "symbol": "circle"
         },
         "mode": "lines",
         "name": "ARG",
         "showlegend": true,
         "x": [
          1997,
          1998,
          1999,
          2000,
          2001,
          2002,
          2003,
          2004,
          2005,
          2006,
          2007,
          2008,
          2009,
          2010,
          2011,
          2012,
          2013,
          2014,
          2015,
          2016,
          2017,
          2018,
          2019
         ],
         "xaxis": "x",
         "y": [
          35.7240767618126,
          37.1965852315197,
          37.2135056145208,
          36.1392884178653,
          36.7633302151544,
          37.5646973124257,
          37.2748200387328,
          38.7533507515863,
          41.6875862934605,
          42.3744292237443,
          44.0681471523487,
          45.0882643354286,
          47.631360455462,
          46.43390549579,
          46.0258214526097,
          46.0229748465043,
          46.1632371763316,
          48.0286460853576,
          49.5865584292996,
          49.5721193321777,
          50.7201413959086,
          49.2091258953726,
          48.0894146677795
         ],
         "yaxis": "y",
         "type": "scattergl"
        },
        {
         "hovertemplate": "LOCATION=SVK<br>TIME=%{x}<br>Value=%{y}<extra></extra>",
         "legendgroup": "SVK",
         "line": {
          "color": "#FF97FF",
          "dash": "solid"
         },
         "marker": {
          "symbol": "circle"
         },
         "mode": "lines",
         "name": "SVK",
         "showlegend": true,
         "x": [
          1994,
          1995,
          1996,
          1997,
          1998,
          1999,
          2000,
          2001,
          2002,
          2003,
          2004,
          2005,
          2006,
          2007,
          2008,
          2009,
          2010,
          2011,
          2012,
          2013,
          2014,
          2015,
          2016,
          2017,
          2018,
          2019
         ],
         "xaxis": "x",
         "y": [
          38.0817640745439,
          37.6274328081557,
          38.4715284715285,
          24.6972881016712,
          25.2045342533268,
          26.3798348544111,
          25.3741838272225,
          25.4355764214919,
          25.9231020585993,
          25.3038329697725,
          21.8822892757842,
          22.9190703807483,
          21.1746023658489,
          23.3912353693481,
          22.6521970557626,
          20.7885628291949,
          19.7499802407988,
          18.8680599508022,
          19.4271457477948,
          17.8904626750139,
          21.1834054618714,
          21.4084898129187,
          21.8177963106933,
          20.2154209904111,
          18.9018791699823,
          18.201448572234
         ],
         "yaxis": "y",
         "type": "scattergl"
        },
        {
         "hovertemplate": "LOCATION=DEU<br>TIME=%{x}<br>Value=%{y}<extra></extra>",
         "legendgroup": "DEU",
         "line": {
          "color": "#FECB52",
          "dash": "solid"
         },
         "marker": {
          "symbol": "circle"
         },
         "mode": "lines",
         "name": "DEU",
         "showlegend": true,
         "x": [
          1981,
          1983,
          1985,
          1987,
          1989,
          1991,
          1993,
          1995,
          1996,
          1997,
          1998,
          1999,
          2000,
          2001,
          2002,
          2003,
          2004,
          2005,
          2006,
          2007,
          2008,
          2009,
          2010,
          2011,
          2012,
          2013,
          2014,
          2015,
          2016,
          2017,
          2018,
          2019
         ],
         "xaxis": "x",
         "y": [
          14.7574102964119,
          14.7184538189928,
          13.8550661719317,
          13.1973963868225,
          13.7866917608644,
          15.9648404714949,
          14.7805151516468,
          16.1486276002908,
          16.3721984977562,
          15.8622181320056,
          16.0740728276233,
          14.8595749359027,
          14.606745930183,
          14.5950034986856,
          14.7021202955472,
          14.3967844367931,
          15.6216346242807,
          14.6651821802843,
          14.8258535783462,
          14.9769814992453,
          14.9821075135226,
          15.518409615924,
          15.7876925328358,
          15.9984528579316,
          15.7758236644449,
          16.0115442232335,
          15.0186262335795,
          13.9210066446382,
          13.5060872611704,
          13.0392715261774,
          13.1853857646128,
          13.1399575595388
         ],
         "yaxis": "y",
         "type": "scattergl"
        },
        {
         "hovertemplate": "LOCATION=CHN<br>TIME=%{x}<br>Value=%{y}<extra></extra>",
         "legendgroup": "CHN",
         "line": {
          "color": "#636efa",
          "dash": "solid"
         },
         "marker": {
          "symbol": "circle"
         },
         "mode": "lines",
         "name": "CHN",
         "showlegend": true,
         "x": [
          1991,
          1992,
          1993,
          1994,
          1995,
          1996,
          1997,
          1998,
          1999,
          2000,
          2001,
          2002,
          2003,
          2004,
          2005,
          2006,
          2007,
          2008,
          2009,
          2010,
          2011,
          2012,
          2013,
          2014,
          2015,
          2016,
          2017,
          2018,
          2019
         ],
         "xaxis": "x",
         "y": [
          42.5753075943997,
          44.0771349862259,
          39.6565821749796,
          35.2717391304348,
          35.4214559386973,
          32.8102189781022,
          32.8010871411585,
          33.4088568486097,
          31.406514780644,
          27.818093925434,
          25.122185031896,
          23.3368495728078,
          22.2660037953482,
          20.5666492488005,
          17.9116258364635,
          17.1724862889379,
          16.2052184200857,
          15.0067193328393,
          19.0472016669111,
          19.1354057445042,
          18.9858628344433,
          19.2006934388971,
          19.451986358586,
          19.4123876035136,
          18.8808505252875,
          19.862368909897,
          20.500835936982,
          19.8335809787725,
          18.4966407039376
         ],
         "yaxis": "y",
         "type": "scattergl"
        },
        {
         "hovertemplate": "LOCATION=BEL<br>TIME=%{x}<br>Value=%{y}<extra></extra>",
         "legendgroup": "BEL",
         "line": {
          "color": "#EF553B",
          "dash": "solid"
         },
         "marker": {
          "symbol": "circle"
         },
         "mode": "lines",
         "name": "BEL",
         "showlegend": true,
         "x": [
          1981,
          1982,
          1983,
          1984,
          1985,
          1986,
          1987,
          1988,
          1989,
          1991,
          1993,
          1994,
          1995,
          1996,
          1997,
          1998,
          1999,
          2000,
          2001,
          2002,
          2003,
          2004,
          2005,
          2006,
          2007,
          2008,
          2009,
          2010,
          2011,
          2012,
          2013,
          2014,
          2015,
          2016,
          2017,
          2018,
          2019
         ],
         "xaxis": "x",
         "y": [
          4.95802934023692,
          4.80984340044743,
          4.92889583798675,
          4.88997555012225,
          4.64801138288502,
          4.41260744985673,
          4.30663758180119,
          4.13312507509312,
          4.78433598183882,
          4.33581883457609,
          5.63559656818148,
          5.32967607233039,
          5.18638770765701,
          5.73268406450652,
          5.92034500498927,
          5.79286260067679,
          5.84576399527268,
          5.92326889303032,
          6.02175131264236,
          6.45576627569575,
          6.55445843904607,
          6.83507330743744,
          6.85940695527037,
          6.94935313066859,
          6.95577707018506,
          7.23522879289068,
          7.37701634018949,
          6.49043319666442,
          6.51505121844647,
          7.87551812619252,
          7.88927757934104,
          7.99291617473436,
          7.59970288465155,
          7.90342667649226,
          8.30530319118702,
          9.19493549484529,
          9.05672061937507
         ],
         "yaxis": "y",
         "type": "scattergl"
        },
        {
         "hovertemplate": "LOCATION=DNK<br>TIME=%{x}<br>Value=%{y}<extra></extra>",
         "legendgroup": "DNK",
         "line": {
          "color": "#00cc96",
          "dash": "solid"
         },
         "marker": {
          "symbol": "circle"
         },
         "mode": "lines",
         "name": "DNK",
         "showlegend": true,
         "x": [
          1981,
          1982,
          1983,
          1984,
          1985,
          1986,
          1987,
          1988,
          1989,
          1990,
          1991,
          1992,
          1993,
          1995,
          1996,
          1997,
          1999,
          2001,
          2002,
          2003,
          2004,
          2005,
          2006,
          2007,
          2008,
          2009,
          2010,
          2011,
          2012,
          2013,
          2014,
          2015,
          2016,
          2017,
          2018,
          2019
         ],
         "xaxis": "x",
         "y": [
          25.8658806190125,
          25.7477601654032,
          25.3126628452319,
          24.830727563708,
          24.4192832963698,
          23.587786259542,
          22.8542199488491,
          22.567267817533,
          22.304324028462,
          21.8079096045198,
          21.3544692505602,
          21.7012673975585,
          22.0157987126975,
          22.4081734988091,
          21.4982933109767,
          20.9753868996631,
          20.6809184481394,
          18.0486300313576,
          8.87935522509581,
          9.39386304248553,
          8.73885012294383,
          7.46875042866014,
          7.53213288892199,
          3.98591106325539,
          3.24746654404311,
          3.03079724917774,
          3.24855550005209,
          3.01421607411756,
          3.01394949638601,
          3.14461938241351,
          3.34226858895409,
          3.3297529538131,
          3.10610286734352,
          3.71878269571942,
          3.61305891995265,
          3.53025452754584
         ],
         "yaxis": "y",
         "type": "scattergl"
        },
        {
         "hovertemplate": "LOCATION=IRL<br>TIME=%{x}<br>Value=%{y}<extra></extra>",
         "legendgroup": "IRL",
         "line": {
          "color": "#ab63fa",
          "dash": "solid"
         },
         "marker": {
          "symbol": "circle"
         },
         "mode": "lines",
         "name": "IRL",
         "showlegend": true,
         "x": [
          1981,
          1982,
          1983,
          1984,
          1985,
          1986,
          1987,
          1988,
          1989,
          1990,
          1991,
          1992,
          1993,
          1994,
          1995,
          1996,
          1997,
          1998,
          1999,
          2000,
          2001,
          2002,
          2003,
          2004,
          2005,
          2006,
          2007,
          2008,
          2009,
          2010,
          2011,
          2012,
          2013,
          2014,
          2015,
          2016,
          2017,
          2018,
          2019
         ],
         "xaxis": "x",
         "y": [
          30.2270577105014,
          29.7250109122654,
          27.0621698496546,
          23.7701840030041,
          21.9717708962918,
          20.3795462972326,
          16.4767800005981,
          13.8633193863319,
          10.8104150906562,
          8.55311593261444,
          6.83922966636959,
          4.52537636347246,
          5.37739242022704,
          5.52213703287418,
          4.90966741284959,
          4.89070340412667,
          4.28524062385832,
          4.01577980746713,
          3.80855655706487,
          8.6542977923908,
          5.64308861325288,
          6.26066552901024,
          5.50851678454029,
          5.0772025431426,
          3.6161215154915,
          3.98455471574105,
          4.11982953516034,
          3.7029375258585,
          3.66481076890549,
          3.96444695259594,
          3.58242190058288,
          2.21298283261803,
          1.8433374108913,
          1.87833598174632,
          2.01457109567411,
          2.07273514821302,
          2.2603840105512,
          2.58057345663417,
          2.45286225195233
         ],
         "yaxis": "y",
         "type": "scattergl"
        },
        {
         "hovertemplate": "LOCATION=SGP<br>TIME=%{x}<br>Value=%{y}<extra></extra>",
         "legendgroup": "SGP",
         "line": {
          "color": "#FFA15A",
          "dash": "solid"
         },
         "marker": {
          "symbol": "circle"
         },
         "mode": "lines",
         "name": "SGP",
         "showlegend": true,
         "x": [
          1994,
          1995,
          1996,
          1997,
          1998,
          1999,
          2000,
          2001,
          2002,
          2003,
          2004,
          2005,
          2006,
          2007,
          2008,
          2009,
          2010,
          2011,
          2012,
          2013,
          2014,
          2015,
          2016,
          2017,
          2018
         ],
         "xaxis": "x",
         "y": [
          10.9394655294082,
          6.99980505555917,
          7.47804128238911,
          5.50179820900444,
          7.21825887803723,
          7.87424137312457,
          7.49602743012155,
          6.31011647258552,
          7.16514083982378,
          6.76782936348405,
          6.25088369331839,
          5.73492883988649,
          5.79365504193994,
          5.79274322928495,
          6.05941853030554,
          6.03219279116551,
          5.48643822222791,
          5.41846953077106,
          5.14391232367681,
          5.11903999915583,
          5.32077440800068,
          5.47688275462957,
          6.13798136887036,
          6.22823761198316,
          6.36837122158551
         ],
         "yaxis": "y",
         "type": "scattergl"
        },
        {
         "hovertemplate": "LOCATION=FIN<br>TIME=%{x}<br>Value=%{y}<extra></extra>",
         "legendgroup": "FIN",
         "line": {
          "color": "#19d3f3",
          "dash": "solid"
         },
         "marker": {
          "symbol": "circle"
         },
         "mode": "lines",
         "name": "FIN",
         "showlegend": true,
         "x": [
          2004,
          2005,
          2006,
          2007,
          2008,
          2009,
          2010,
          2011,
          2012,
          2013,
          2014,
          2015,
          2016,
          2017,
          2018,
          2019
         ],
         "xaxis": "x",
         "y": [
          10.2430212034297,
          11.0504774897681,
          11.0611207655437,
          11.4919363404779,
          11.1071845584904,
          11.0275137471695,
          10.9853858520281,
          11.5752450046446,
          10.9520020559251,
          11.4337614360576,
          10.6813895288998,
          9.46347938735146,
          8.93667741630046,
          8.95523193823978,
          8.54076936069589,
          8.15328169588259
         ],
         "yaxis": "y",
         "type": "scattergl"
        },
        {
         "hovertemplate": "LOCATION=GRC<br>TIME=%{x}<br>Value=%{y}<extra></extra>",
         "legendgroup": "GRC",
         "line": {
          "color": "#FF6692",
          "dash": "solid"
         },
         "marker": {
          "symbol": "circle"
         },
         "mode": "lines",
         "name": "GRC",
         "showlegend": true,
         "x": [
          1989,
          1991,
          1993,
          1995,
          1997,
          1999,
          2001,
          2003,
          2005,
          2006,
          2007,
          2011,
          2012,
          2013,
          2014,
          2015,
          2016,
          2017,
          2018,
          2019
         ],
         "xaxis": "x",
         "y": [
          38.4728071781725,
          30.7865168539326,
          23.7205827418752,
          20.7316444896891,
          18.1066907445916,
          13.5645524060476,
          13.7785629841678,
          13.6663966948282,
          10.5972688125537,
          11.3459152354209,
          10.4739697344627,
          17.7105687102951,
          18.1853015328226,
          19.7684157513419,
          19.5600374735291,
          20.9058430333064,
          21.3005475631738,
          20.5262028577559,
          21.1724352977861,
          20.8582862424745
         ],
         "yaxis": "y",
         "type": "scattergl"
        },
        {
         "hovertemplate": "LOCATION=NLD<br>TIME=%{x}<br>Value=%{y}<extra></extra>",
         "legendgroup": "NLD",
         "line": {
          "color": "#B6E880",
          "dash": "solid"
         },
         "marker": {
          "symbol": "circle"
         },
         "mode": "lines",
         "name": "NLD",
         "showlegend": true,
         "x": [
          1981,
          1983,
          1985,
          1987,
          1989,
          1993,
          1994,
          1995,
          1996,
          1997,
          1998,
          1999,
          2000,
          2001,
          2002,
          2003,
          2004,
          2005,
          2006,
          2007,
          2008,
          2009,
          2010,
          2011,
          2012,
          2013,
          2014,
          2015,
          2016,
          2017,
          2018,
          2019
         ],
         "xaxis": "x",
         "y": [
          23.3638608767236,
          22.7767695099819,
          23.4782608695652,
          23.7254901960784,
          25.2998500749625,
          22.5535880708295,
          22.3828193574814,
          22.6039260969977,
          22.0374278879978,
          20.5424013875384,
          20.4600701107955,
          16.3361481233404,
          14.1062710337963,
          14.9104147020768,
          15.4757834757835,
          17.5139824220979,
          16.0158671129292,
          14.6863376102311,
          13.4167450611477,
          13.6651193763833,
          13.7993573442151,
          14.5236168490992,
          12.9583077295496,
          11.0230944516648,
          11.7170584817478,
          6.71521915045231,
          6.46637199856648,
          6.6332886163281,
          6.46943341094827,
          6.11164211243312,
          6.12202147158942,
          6.2253743104807
         ],
         "yaxis": "y",
         "type": "scattergl"
        },
        {
         "hovertemplate": "LOCATION=POL<br>TIME=%{x}<br>Value=%{y}<extra></extra>",
         "legendgroup": "POL",
         "line": {
          "color": "#FF97FF",
          "dash": "solid"
         },
         "marker": {
          "symbol": "circle"
         },
         "mode": "lines",
         "name": "POL",
         "showlegend": true,
         "x": [
          1994,
          1995,
          1996,
          1997,
          1998,
          1999,
          2000,
          2001,
          2002,
          2003,
          2004,
          2005,
          2006,
          2007,
          2008,
          2009,
          2010,
          2011,
          2012,
          2013,
          2014,
          2015,
          2016,
          2017,
          2018,
          2019
         ],
         "xaxis": "x",
         "y": [
          22.6656547129636,
          22.2984630639564,
          20.8751000495484,
          21.0729829862235,
          20.5948842094021,
          19.1572306983503,
          20.1181716025664,
          18.9445750516492,
          25.893345085941,
          22.5838382114515,
          21.0094512995537,
          19.5850532960545,
          20.8783553540464,
          20.8691870550352,
          20.8990505653246,
          21.5911954831847,
          21.0081675866634,
          21.5551168824689,
          20.2722952561761,
          18.9879155980709,
          17.6120139553992,
          16.4878804755793,
          2.68700731582828,
          2.96024785094035,
          2.64041056639655,
          1.83788250236173
         ],
         "yaxis": "y",
         "type": "scattergl"
        },
        {
         "hovertemplate": "LOCATION=ESP<br>TIME=%{x}<br>Value=%{y}<extra></extra>",
         "legendgroup": "ESP",
         "line": {
          "color": "#FECB52",
          "dash": "solid"
         },
         "marker": {
          "symbol": "circle"
         },
         "mode": "lines",
         "name": "ESP",
         "showlegend": true,
         "x": [
          1981,
          1982,
          1983,
          1984,
          1985,
          1986,
          1987,
          1988,
          1989,
          1990,
          1991,
          1992,
          1993,
          1994,
          1995,
          1996,
          1997,
          1998,
          1999,
          2000,
          2001,
          2002,
          2003,
          2004,
          2005,
          2006,
          2007,
          2008,
          2009,
          2010,
          2011,
          2012,
          2013,
          2014,
          2015,
          2016,
          2017,
          2018,
          2019
         ],
         "xaxis": "x",
         "y": [
          18.8499065808595,
          17.8415504206155,
          14.7609254498715,
          14.2251048473618,
          13.2323467723141,
          16.5545361875637,
          17.110682840192,
          18.3060635226179,
          17.8161268761014,
          20.2330396008069,
          19.8784508636386,
          18.3776780787409,
          17.8407544907418,
          16.3369335868135,
          17.6566262515314,
          17.6747428969845,
          19.4681068240447,
          18.2863495329274,
          19.383445945946,
          16.5746050917116,
          16.6647103043684,
          15.1527044641121,
          16.7407565927064,
          16.9823277330228,
          18.6342910108704,
          17.3255416309725,
          17.4614125608261,
          17.2368407993813,
          18.05992971778,
          18.103718446674,
          17.5779303397169,
          17.234760465281,
          16.7764272754858,
          16.5092946027026,
          16.3038950644005,
          16.3174187230734,
          15.6473246477669,
          15.2882420152426,
          15.3823713881474
         ],
         "yaxis": "y",
         "type": "scattergl"
        },
        {
         "hovertemplate": "LOCATION=KOR<br>TIME=%{x}<br>Value=%{y}<extra></extra>",
         "legendgroup": "KOR",
         "line": {
          "color": "#636efa",
          "dash": "solid"
         },
         "marker": {
          "symbol": "circle"
         },
         "mode": "lines",
         "name": "KOR",
         "showlegend": true,
         "x": [
          1995,
          1996,
          1997,
          1998,
          1999,
          2000,
          2001,
          2002,
          2003,
          2004,
          2005,
          2006,
          2007,
          2008,
          2009,
          2010,
          2011,
          2012,
          2013,
          2014,
          2015,
          2016,
          2017,
          2018,
          2019
         ],
         "xaxis": "x",
         "y": [
          12.6533009476786,
          12.3922641376605,
          12.003701539061,
          10.9119201218919,
          11.7203871869075,
          10.6708498661991,
          8.83105833339446,
          8.00186024225428,
          7.91648485329314,
          7.78800668389235,
          7.11355726115563,
          7.02725062221026,
          7.14577858602666,
          6.58618153394371,
          7.46349940475491,
          7.47899703411282,
          7.33910867694157,
          7.03570309108643,
          7.23701683496146,
          7.16442519085516,
          7.41502605245208,
          7.52016611574524,
          7.09606171475714,
          6.70080489574919,
          6.66057370487611
         ],
         "yaxis": "y",
         "type": "scattergl"
        },
        {
         "hovertemplate": "LOCATION=FRA<br>TIME=%{x}<br>Value=%{y}<extra></extra>",
         "legendgroup": "FRA",
         "line": {
          "color": "#EF553B",
          "dash": "solid"
         },
         "marker": {
          "symbol": "circle"
         },
         "mode": "lines",
         "name": "FRA",
         "showlegend": true,
         "x": [
          1981,
          1982,
          1983,
          1984,
          1985,
          1986,
          1987,
          1988,
          1989,
          1990,
          1991,
          1992,
          1993,
          1994,
          1995,
          1996,
          1997,
          1998,
          1999,
          2000,
          2001,
          2002,
          2003,
          2004,
          2005,
          2006,
          2007,
          2008,
          2009,
          2010,
          2011,
          2012,
          2013,
          2014,
          2015,
          2016,
          2017,
          2018,
          2019
         ],
         "xaxis": "x",
         "y": [
          18.3625730994152,
          20.3805675207603,
          20.6372326881164,
          20.5019855411873,
          20.7475575288745,
          20.6978361742875,
          20.3001124735961,
          20.1705408855275,
          20.1353483351324,
          20.1084413174329,
          19.9946062567422,
          17.9937901347823,
          17.6287543352205,
          17.6972109951539,
          17.9803019989904,
          17.9574621997455,
          15.6705595880638,
          15.5502859362125,
          15.7002692863911,
          15.1868425640728,
          12.9360891234242,
          12.9492543718485,
          12.7292765326116,
          12.2437310131774,
          12.7841046712557,
          12.1757572992171,
          11.9571220694753,
          12.0222842320803,
          12.2465947414957,
          10.9271943554695,
          10.7554927529603,
          10.5877263791312,
          10.5070362446733,
          10.3267562264974,
          10.2456890683862,
          10.1195146556072,
          9.83148156914192,
          9.56833300134423,
          9.33139707315362
         ],
         "yaxis": "y",
         "type": "scattergl"
        },
        {
         "hovertemplate": "LOCATION=ITA<br>TIME=%{x}<br>Value=%{y}<extra></extra>",
         "legendgroup": "ITA",
         "line": {
          "color": "#00cc96",
          "dash": "solid"
         },
         "marker": {
          "symbol": "circle"
         },
         "mode": "lines",
         "name": "ITA",
         "showlegend": true,
         "x": [
          1981,
          1982,
          1983,
          1984,
          1985,
          1986,
          1987,
          1988,
          1989,
          1990,
          1991,
          1992,
          1993,
          1994,
          1995,
          1996,
          1997,
          1998,
          1999,
          2000,
          2001,
          2002,
          2003,
          2004,
          2005,
          2006,
          2007,
          2008,
          2009,
          2010,
          2011,
          2012,
          2013,
          2014,
          2015,
          2016,
          2017,
          2018,
          2019
         ],
         "xaxis": "x",
         "y": [
          15.076834421821,
          16.4247800095226,
          15.4504054204154,
          17.6140305587376,
          17.7982716165561,
          17.0214020399741,
          17.7660298202846,
          18.6308179546457,
          18.3781581092095,
          18.6206276644923,
          16.8186288843404,
          17.625164601865,
          17.8654915764301,
          17.9432661577877,
          18.423003600932,
          17.8399026700331,
          20.8314305720462,
          20.8326957799064,
          21.0405849642078,
          21.6533050975647,
          19.4986657071752,
          19.0407343982482,
          19.8713819966075,
          19.7702886042762,
          17.5223575535618,
          18.7609126355881,
          18.5925606531606,
          16.2421436350783,
          16.3763425444962,
          16.9164306647471,
          17.6914460774385,
          18.5186657367826,
          18.3473609995584,
          17.8071296210115,
          17.1535253227408,
          16.2378651668586,
          15.7560301471741,
          14.8911046625221,
          14.4731867710958
         ],
         "yaxis": "y",
         "type": "scattergl"
        },
        {
         "hovertemplate": "LOCATION=LUX<br>TIME=%{x}<br>Value=%{y}<extra></extra>",
         "legendgroup": "LUX",
         "line": {
          "color": "#ab63fa",
          "dash": "solid"
         },
         "marker": {
          "symbol": "circle"
         },
         "mode": "lines",
         "name": "LUX",
         "showlegend": true,
         "x": [
          2000,
          2003,
          2004,
          2005,
          2006,
          2007,
          2008,
          2009,
          2010,
          2011,
          2012,
          2013,
          2014,
          2015,
          2016,
          2017,
          2018,
          2019
         ],
         "xaxis": "x",
         "y": [
          13.6485172581429,
          16.6700872242175,
          16.8406539294859,
          16.793893129771,
          21.1858631097264,
          22.8392256657275,
          24.1606924287463,
          24.9123685528292,
          25.3417423117547,
          26.3708392648352,
          31.7004129190869,
          29.2911096109831,
          26.9201217192849,
          23.6301632308989,
          21.7282879757129,
          20.8446866485014,
          22.481838502375,
          20.810250484315
         ],
         "yaxis": "y",
         "type": "scattergl"
        },
        {
         "hovertemplate": "LOCATION=HUN<br>TIME=%{x}<br>Value=%{y}<extra></extra>",
         "legendgroup": "HUN",
         "line": {
          "color": "#FFA15A",
          "dash": "solid"
         },
         "marker": {
          "symbol": "circle"
         },
         "mode": "lines",
         "name": "HUN",
         "showlegend": true,
         "x": [
          1981,
          1982,
          1983,
          1984,
          1985,
          1986,
          1987,
          1988,
          1989,
          1990,
          1991,
          1992,
          1993,
          1994,
          1995,
          1996,
          1997,
          1998,
          1999,
          2000,
          2001,
          2002,
          2003,
          2004,
          2005,
          2006,
          2007,
          2008,
          2009,
          2010,
          2011,
          2012,
          2013,
          2014,
          2015,
          2016,
          2017,
          2018,
          2019
         ],
         "xaxis": "x",
         "y": [
          22.4727174742893,
          22.799271734183,
          22.9577082956805,
          24.7091215916156,
          22.0783842697629,
          21.8507878471315,
          22.6126368695028,
          23.022354972698,
          23.9195340414077,
          26.8774928774929,
          29.0512058599959,
          31.1347575339128,
          31.8920291081401,
          32.6157249829816,
          33.6127250214306,
          37.7113758647195,
          35.0636542944235,
          36.5612479754497,
          36.1713967723984,
          32.2990420658059,
          31.7537160780036,
          30.8853992649516,
          31.231884057971,
          31.4881910896404,
          31.2318931855397,
          29.7828688664729,
          26.2894600655512,
          25.5079982706442,
          24.5614035087719,
          23.5544934870209,
          22.8984751726834,
          19.6081721693166,
          19.0989695662593,
          18.2199671918514,
          18.4863327539896,
          19.2412029142769,
          17.1216491943995,
          17.529117693985,
          16.5288204606184
         ],
         "yaxis": "y",
         "type": "scattergl"
        },
        {
         "hovertemplate": "LOCATION=ZAF<br>TIME=%{x}<br>Value=%{y}<extra></extra>",
         "legendgroup": "ZAF",
         "line": {
          "color": "#19d3f3",
          "dash": "solid"
         },
         "marker": {
          "symbol": "circle"
         },
         "mode": "lines",
         "name": "ZAF",
         "showlegend": true,
         "x": [
          2001,
          2003,
          2004,
          2005,
          2006,
          2007,
          2008,
          2009,
          2010,
          2011,
          2012,
          2013,
          2014,
          2015,
          2016,
          2017
         ],
         "xaxis": "x",
         "y": [
          15.0472429840643,
          16.580684882067,
          11.3867473908022,
          11.4078929574144,
          14.8997321344443,
          15.8268927779515,
          15.7430770111735,
          14.8125121001983,
          14.1639088546466,
          13.1480592153342,
          13.0410992217899,
          11.5865623290661,
          11.6044951828236,
          10.6313600464842,
          10.5206789074421,
          9.11797370983513
         ],
         "yaxis": "y",
         "type": "scattergl"
        },
        {
         "hovertemplate": "LOCATION=SVN<br>TIME=%{x}<br>Value=%{y}<extra></extra>",
         "legendgroup": "SVN",
         "line": {
          "color": "#FF6692",
          "dash": "solid"
         },
         "marker": {
          "symbol": "circle"
         },
         "mode": "lines",
         "name": "SVN",
         "showlegend": true,
         "x": [
          1993,
          1994,
          1995,
          1996,
          1997,
          1998,
          1999,
          2000,
          2001,
          2002,
          2003,
          2004,
          2005,
          2006,
          2007,
          2008,
          2009,
          2010,
          2011,
          2012,
          2013,
          2014,
          2015,
          2016,
          2017,
          2018,
          2019
         ],
         "xaxis": "x",
         "y": [
          39.4392523364486,
          33.6479966435914,
          32.8160098019195,
          35.219425261751,
          34.808552958727,
          35.0058343057176,
          34.1088773435735,
          34.4787822878229,
          32.281013783904,
          32.1628608358466,
          27.6556291390729,
          27.8908188585608,
          30.2874547877403,
          30.8007512378351,
          31.968,
          30.6598407281001,
          29.1565941445071,
          26.4312605478385,
          20.7089126966036,
          20.8239531742458,
          20.9601470081544,
          20.3405644973175,
          20.620253164557,
          20.5320852321715,
          16.1488012041716,
          16.4978148589591,
          16.9220519653564
         ],
         "yaxis": "y",
         "type": "scattergl"
        },
        {
         "hovertemplate": "LOCATION=LVA<br>TIME=%{x}<br>Value=%{y}<extra></extra>",
         "legendgroup": "LVA",
         "line": {
          "color": "#B6E880",
          "dash": "solid"
         },
         "marker": {
          "symbol": "circle"
         },
         "mode": "lines",
         "name": "LVA",
         "showlegend": true,
         "x": [
          1993,
          1994,
          1995,
          1996,
          1997,
          1998,
          1999,
          2000,
          2001,
          2002,
          2003,
          2004,
          2005,
          2006,
          2007,
          2008,
          2009,
          2010,
          2011,
          2012,
          2013,
          2014,
          2015,
          2016,
          2017,
          2018,
          2019
         ],
         "xaxis": "x",
         "y": [
          39.7349337334334,
          44.6511627906977,
          43.9127604166667,
          45.8612187389926,
          39.5019157088123,
          32.1079389910051,
          28.6367098248286,
          17.3571054011536,
          16.3282813840435,
          15.9084323384526,
          16.1411177021542,
          14.7412755716005,
          17.9463741620963,
          15.1969504447268,
          17.8975222516238,
          19.4736842105263,
          19.5526097763049,
          16.2987679671458,
          17.3802888269572,
          18.0071721311475,
          19.5034482758621,
          18.1696905016009,
          19.1253805701633,
          19.8604060913706,
          16.398621481907,
          16.5509259259259,
          15.5837004405286
         ],
         "yaxis": "y",
         "type": "scattergl"
        },
        {
         "hovertemplate": "LOCATION=AUS<br>TIME=%{x}<br>Value=%{y}<extra></extra>",
         "legendgroup": "AUS",
         "line": {
          "color": "#FF97FF",
          "dash": "solid"
         },
         "marker": {
          "symbol": "circle"
         },
         "mode": "lines",
         "name": "AUS",
         "showlegend": true,
         "x": [
          1981,
          1984,
          1985,
          1986,
          1987,
          1988,
          1990,
          1992,
          1994,
          1996,
          1998,
          2000,
          2002,
          2004,
          2006,
          2008
         ],
         "xaxis": "x",
         "y": [
          28.0651024454726,
          23.9470391993328,
          23.5384718408893,
          22.1045419509549,
          20.3838823849714,
          20.8787363790863,
          21.4957383731703,
          18.4308913472784,
          15.4843791759857,
          14.783318556322,
          13.550891202507,
          13.2185074862048,
          10.9821928853539,
          10.389018554898,
          10.0010320982558,
          8.94215575377123
         ],
         "yaxis": "y",
         "type": "scattergl"
        },
        {
         "hovertemplate": "LOCATION=CAN<br>TIME=%{x}<br>Value=%{y}<extra></extra>",
         "legendgroup": "CAN",
         "line": {
          "color": "#FECB52",
          "dash": "solid"
         },
         "marker": {
          "symbol": "circle"
         },
         "mode": "lines",
         "name": "CAN",
         "showlegend": true,
         "x": [
          1981,
          1982,
          1983,
          1984,
          1985,
          1986,
          1987,
          1988,
          1989,
          1990,
          1991,
          1992,
          1993,
          1994,
          1995,
          1996,
          1997,
          1998,
          1999,
          2000,
          2001,
          2002,
          2003,
          2004,
          2005,
          2006,
          2007,
          2008,
          2009,
          2010,
          2011,
          2012,
          2013,
          2014,
          2015,
          2016,
          2017,
          2018
         ],
         "xaxis": "x",
         "y": [
          17.1449777337952,
          17.3755656108597,
          16.5025169621361,
          15.5469070053257,
          14.4135567402894,
          14.5150034891835,
          12.7379949452401,
          13.0051314945478,
          13.0598183526464,
          12.5513464171611,
          12.3283626162705,
          11.3778271125295,
          11.1273016293549,
          9.63911525029104,
          8.89219501029984,
          8.54238037352194,
          7.87722687271947,
          7.67744239292541,
          7.40004865785419,
          6.8952734012975,
          5.99074316653568,
          6.45050017247327,
          5.92388217154914,
          5.5146494861175,
          6.11558156547184,
          5.81544149011802,
          5.76884953413071,
          5.64249363867685,
          6.10438024231128,
          6.05697718391529,
          5.72380375529982,
          5.87252475247525,
          5.57666380683907,
          5.71051104443704,
          4.86622484045165,
          4.65467354384199,
          4.88765774084334,
          4.60463449593884
         ],
         "yaxis": "y",
         "type": "scattergl"
        },
        {
         "hovertemplate": "LOCATION=USA<br>TIME=%{x}<br>Value=%{y}<extra></extra>",
         "legendgroup": "USA",
         "line": {
          "color": "#636efa",
          "dash": "solid"
         },
         "marker": {
          "symbol": "circle"
         },
         "mode": "lines",
         "name": "USA",
         "showlegend": true,
         "x": [
          1981,
          1982,
          1983,
          1984,
          1985,
          1987,
          1988,
          1989,
          1990,
          1991,
          1992,
          1993,
          1995,
          1996,
          1997,
          1998,
          1999,
          2000,
          2001,
          2002
         ],
         "xaxis": "x",
         "y": [
          11.1278195488722,
          10.8590995634642,
          10.5493582617136,
          10.1008129446554,
          8.60150435523388,
          7.95322391181442,
          7.76672317363785,
          8.1587685254691,
          8.06071865242154,
          7.81338997929385,
          8.07348174779123,
          7.68008847461923,
          6.76669830317822,
          6.18162834294393,
          5.65092916934746,
          5.13935387567971,
          4.90703046500306,
          4.82473996537948,
          4.74600076035292,
          4.55796194613595
         ],
         "yaxis": "y",
         "type": "scattergl"
        },
        {
         "hovertemplate": "LOCATION=OECD<br>TIME=%{x}<br>Value=%{y}<extra></extra>",
         "legendgroup": "OECD",
         "line": {
          "color": "#EF553B",
          "dash": "solid"
         },
         "marker": {
          "symbol": "circle"
         },
         "mode": "lines",
         "name": "OECD",
         "showlegend": true,
         "x": [
          1991,
          1993,
          1995,
          1996,
          1997,
          1998,
          1999,
          2000,
          2001,
          2002,
          2003,
          2004,
          2005,
          2006,
          2007,
          2008,
          2009,
          2010,
          2011,
          2012,
          2013,
          2014,
          2015,
          2016,
          2017,
          2018
         ],
         "xaxis": "x",
         "y": [
          11.3343638256306,
          11.0130367720198,
          10.6651950949141,
          10.1297359903123,
          9.6220783302943,
          9.26475533489742,
          9.03226390927854,
          8.87586595810629,
          8.40305295451974,
          8.2790048974948,
          8.00007987289273,
          8.02994842572391,
          7.95726276546884,
          7.91941069232058,
          7.90995706984751,
          7.77161173070347,
          7.92164516214708,
          8.03295945916212,
          7.89797531267854,
          7.74042366960176,
          7.46931331703416,
          7.20347274960417,
          7.11141954454351,
          6.77713637153885,
          6.59863238079152,
          6.48761396510494
         ],
         "yaxis": "y",
         "type": "scattergl"
        },
        {
         "hovertemplate": "LOCATION=LTU<br>TIME=%{x}<br>Value=%{y}<extra></extra>",
         "legendgroup": "LTU",
         "line": {
          "color": "#00cc96",
          "dash": "solid"
         },
         "marker": {
          "symbol": "circle"
         },
         "mode": "lines",
         "name": "LTU",
         "showlegend": true,
         "x": [
          1996,
          1997,
          1998,
          1999,
          2000,
          2001,
          2002,
          2003,
          2004,
          2005,
          2006,
          2007,
          2008,
          2009,
          2010,
          2011,
          2012,
          2013,
          2014,
          2015,
          2016,
          2017,
          2018,
          2019
         ],
         "xaxis": "x",
         "y": [
          38.7015400955922,
          38.5128205128205,
          34.9573257467994,
          33.2357418901511,
          32.8790021859329,
          30.1176470588235,
          29.57635156497,
          25.5222524977293,
          22.784121805329,
          23.6349351839728,
          20.6892230576441,
          19.5228534309673,
          19.4829835171351,
          20.4122497055359,
          17.0601232701477,
          16.4004767580453,
          17.1008350990901,
          16.3024424447821,
          15.4269972451791,
          17.7421329741643,
          18.4938416422287,
          18.4484790243791,
          17.7260368998736,
          15.9504870298449
         ],
         "yaxis": "y",
         "type": "scattergl"
        },
        {
         "hovertemplate": "LOCATION=EU27_2020<br>TIME=%{x}<br>Value=%{y}<extra></extra>",
         "legendgroup": "EU27_2020",
         "line": {
          "color": "#ab63fa",
          "dash": "solid"
         },
         "marker": {
          "symbol": "circle"
         },
         "mode": "lines",
         "name": "EU27_2020",
         "showlegend": true,
         "x": [
          1993,
          1995,
          1996,
          1997,
          1998,
          1999,
          2000,
          2001,
          2002,
          2003,
          2004,
          2005,
          2006,
          2007,
          2008,
          2009,
          2010,
          2011,
          2012,
          2013,
          2014,
          2015,
          2016,
          2017,
          2018,
          2019
         ],
         "xaxis": "x",
         "y": [
          18.3060393892483,
          18.6221856663518,
          18.4946508522799,
          17.7293072242304,
          17.584654400793,
          16.8217534603119,
          16.2348292708396,
          15.4897451497457,
          15.4690318565294,
          15.369220196577,
          15.3208943437817,
          15.1140849838164,
          14.8676237901632,
          14.7148813843091,
          14.2456860394635,
          14.4483922647887,
          14.1232034767594,
          14.0645440169552,
          13.7413698985936,
          13.3385733994293,
          12.8361574284562,
          12.5520253414756,
          11.6311978354064,
          11.253709484484,
          11.1542943541773,
          10.9651711522681
         ],
         "yaxis": "y",
         "type": "scattergl"
        }
       ],
       "layout": {
        "template": {
         "data": {
          "bar": [
           {
            "error_x": {
             "color": "#2a3f5f"
            },
            "error_y": {
             "color": "#2a3f5f"
            },
            "marker": {
             "line": {
              "color": "#E5ECF6",
              "width": 0.5
             },
             "pattern": {
              "fillmode": "overlay",
              "size": 10,
              "solidity": 0.2
             }
            },
            "type": "bar"
           }
          ],
          "barpolar": [
           {
            "marker": {
             "line": {
              "color": "#E5ECF6",
              "width": 0.5
             },
             "pattern": {
              "fillmode": "overlay",
              "size": 10,
              "solidity": 0.2
             }
            },
            "type": "barpolar"
           }
          ],
          "carpet": [
           {
            "aaxis": {
             "endlinecolor": "#2a3f5f",
             "gridcolor": "white",
             "linecolor": "white",
             "minorgridcolor": "white",
             "startlinecolor": "#2a3f5f"
            },
            "baxis": {
             "endlinecolor": "#2a3f5f",
             "gridcolor": "white",
             "linecolor": "white",
             "minorgridcolor": "white",
             "startlinecolor": "#2a3f5f"
            },
            "type": "carpet"
           }
          ],
          "choropleth": [
           {
            "colorbar": {
             "outlinewidth": 0,
             "ticks": ""
            },
            "type": "choropleth"
           }
          ],
          "contour": [
           {
            "colorbar": {
             "outlinewidth": 0,
             "ticks": ""
            },
            "colorscale": [
             [
              0.0,
              "#0d0887"
             ],
             [
              0.1111111111111111,
              "#46039f"
             ],
             [
              0.2222222222222222,
              "#7201a8"
             ],
             [
              0.3333333333333333,
              "#9c179e"
             ],
             [
              0.4444444444444444,
              "#bd3786"
             ],
             [
              0.5555555555555556,
              "#d8576b"
             ],
             [
              0.6666666666666666,
              "#ed7953"
             ],
             [
              0.7777777777777778,
              "#fb9f3a"
             ],
             [
              0.8888888888888888,
              "#fdca26"
             ],
             [
              1.0,
              "#f0f921"
             ]
            ],
            "type": "contour"
           }
          ],
          "contourcarpet": [
           {
            "colorbar": {
             "outlinewidth": 0,
             "ticks": ""
            },
            "type": "contourcarpet"
           }
          ],
          "heatmap": [
           {
            "colorbar": {
             "outlinewidth": 0,
             "ticks": ""
            },
            "colorscale": [
             [
              0.0,
              "#0d0887"
             ],
             [
              0.1111111111111111,
              "#46039f"
             ],
             [
              0.2222222222222222,
              "#7201a8"
             ],
             [
              0.3333333333333333,
              "#9c179e"
             ],
             [
              0.4444444444444444,
              "#bd3786"
             ],
             [
              0.5555555555555556,
              "#d8576b"
             ],
             [
              0.6666666666666666,
              "#ed7953"
             ],
             [
              0.7777777777777778,
              "#fb9f3a"
             ],
             [
              0.8888888888888888,
              "#fdca26"
             ],
             [
              1.0,
              "#f0f921"
             ]
            ],
            "type": "heatmap"
           }
          ],
          "heatmapgl": [
           {
            "colorbar": {
             "outlinewidth": 0,
             "ticks": ""
            },
            "colorscale": [
             [
              0.0,
              "#0d0887"
             ],
             [
              0.1111111111111111,
              "#46039f"
             ],
             [
              0.2222222222222222,
              "#7201a8"
             ],
             [
              0.3333333333333333,
              "#9c179e"
             ],
             [
              0.4444444444444444,
              "#bd3786"
             ],
             [
              0.5555555555555556,
              "#d8576b"
             ],
             [
              0.6666666666666666,
              "#ed7953"
             ],
             [
              0.7777777777777778,
              "#fb9f3a"
             ],
             [
              0.8888888888888888,
              "#fdca26"
             ],
             [
              1.0,
              "#f0f921"
             ]
            ],
            "type": "heatmapgl"
           }
          ],
          "histogram": [
           {
            "marker": {
             "pattern": {
              "fillmode": "overlay",
              "size": 10,
              "solidity": 0.2
             }
            },
            "type": "histogram"
           }
          ],
          "histogram2d": [
           {
            "colorbar": {
             "outlinewidth": 0,
             "ticks": ""
            },
            "colorscale": [
             [
              0.0,
              "#0d0887"
             ],
             [
              0.1111111111111111,
              "#46039f"
             ],
             [
              0.2222222222222222,
              "#7201a8"
             ],
             [
              0.3333333333333333,
              "#9c179e"
             ],
             [
              0.4444444444444444,
              "#bd3786"
             ],
             [
              0.5555555555555556,
              "#d8576b"
             ],
             [
              0.6666666666666666,
              "#ed7953"
             ],
             [
              0.7777777777777778,
              "#fb9f3a"
             ],
             [
              0.8888888888888888,
              "#fdca26"
             ],
             [
              1.0,
              "#f0f921"
             ]
            ],
            "type": "histogram2d"
           }
          ],
          "histogram2dcontour": [
           {
            "colorbar": {
             "outlinewidth": 0,
             "ticks": ""
            },
            "colorscale": [
             [
              0.0,
              "#0d0887"
             ],
             [
              0.1111111111111111,
              "#46039f"
             ],
             [
              0.2222222222222222,
              "#7201a8"
             ],
             [
              0.3333333333333333,
              "#9c179e"
             ],
             [
              0.4444444444444444,
              "#bd3786"
             ],
             [
              0.5555555555555556,
              "#d8576b"
             ],
             [
              0.6666666666666666,
              "#ed7953"
             ],
             [
              0.7777777777777778,
              "#fb9f3a"
             ],
             [
              0.8888888888888888,
              "#fdca26"
             ],
             [
              1.0,
              "#f0f921"
             ]
            ],
            "type": "histogram2dcontour"
           }
          ],
          "mesh3d": [
           {
            "colorbar": {
             "outlinewidth": 0,
             "ticks": ""
            },
            "type": "mesh3d"
           }
          ],
          "parcoords": [
           {
            "line": {
             "colorbar": {
              "outlinewidth": 0,
              "ticks": ""
             }
            },
            "type": "parcoords"
           }
          ],
          "pie": [
           {
            "automargin": true,
            "type": "pie"
           }
          ],
          "scatter": [
           {
            "marker": {
             "colorbar": {
              "outlinewidth": 0,
              "ticks": ""
             }
            },
            "type": "scatter"
           }
          ],
          "scatter3d": [
           {
            "line": {
             "colorbar": {
              "outlinewidth": 0,
              "ticks": ""
             }
            },
            "marker": {
             "colorbar": {
              "outlinewidth": 0,
              "ticks": ""
             }
            },
            "type": "scatter3d"
           }
          ],
          "scattercarpet": [
           {
            "marker": {
             "colorbar": {
              "outlinewidth": 0,
              "ticks": ""
             }
            },
            "type": "scattercarpet"
           }
          ],
          "scattergeo": [
           {
            "marker": {
             "colorbar": {
              "outlinewidth": 0,
              "ticks": ""
             }
            },
            "type": "scattergeo"
           }
          ],
          "scattergl": [
           {
            "marker": {
             "colorbar": {
              "outlinewidth": 0,
              "ticks": ""
             }
            },
            "type": "scattergl"
           }
          ],
          "scattermapbox": [
           {
            "marker": {
             "colorbar": {
              "outlinewidth": 0,
              "ticks": ""
             }
            },
            "type": "scattermapbox"
           }
          ],
          "scatterpolar": [
           {
            "marker": {
             "colorbar": {
              "outlinewidth": 0,
              "ticks": ""
             }
            },
            "type": "scatterpolar"
           }
          ],
          "scatterpolargl": [
           {
            "marker": {
             "colorbar": {
              "outlinewidth": 0,
              "ticks": ""
             }
            },
            "type": "scatterpolargl"
           }
          ],
          "scatterternary": [
           {
            "marker": {
             "colorbar": {
              "outlinewidth": 0,
              "ticks": ""
             }
            },
            "type": "scatterternary"
           }
          ],
          "surface": [
           {
            "colorbar": {
             "outlinewidth": 0,
             "ticks": ""
            },
            "colorscale": [
             [
              0.0,
              "#0d0887"
             ],
             [
              0.1111111111111111,
              "#46039f"
             ],
             [
              0.2222222222222222,
              "#7201a8"
             ],
             [
              0.3333333333333333,
              "#9c179e"
             ],
             [
              0.4444444444444444,
              "#bd3786"
             ],
             [
              0.5555555555555556,
              "#d8576b"
             ],
             [
              0.6666666666666666,
              "#ed7953"
             ],
             [
              0.7777777777777778,
              "#fb9f3a"
             ],
             [
              0.8888888888888888,
              "#fdca26"
             ],
             [
              1.0,
              "#f0f921"
             ]
            ],
            "type": "surface"
           }
          ],
          "table": [
           {
            "cells": {
             "fill": {
              "color": "#EBF0F8"
             },
             "line": {
              "color": "white"
             }
            },
            "header": {
             "fill": {
              "color": "#C8D4E3"
             },
             "line": {
              "color": "white"
             }
            },
            "type": "table"
           }
          ]
         },
         "layout": {
          "annotationdefaults": {
           "arrowcolor": "#2a3f5f",
           "arrowhead": 0,
           "arrowwidth": 1
          },
          "autotypenumbers": "strict",
          "coloraxis": {
           "colorbar": {
            "outlinewidth": 0,
            "ticks": ""
           }
          },
          "colorscale": {
           "diverging": [
            [
             0,
             "#8e0152"
            ],
            [
             0.1,
             "#c51b7d"
            ],
            [
             0.2,
             "#de77ae"
            ],
            [
             0.3,
             "#f1b6da"
            ],
            [
             0.4,
             "#fde0ef"
            ],
            [
             0.5,
             "#f7f7f7"
            ],
            [
             0.6,
             "#e6f5d0"
            ],
            [
             0.7,
             "#b8e186"
            ],
            [
             0.8,
             "#7fbc41"
            ],
            [
             0.9,
             "#4d9221"
            ],
            [
             1,
             "#276419"
            ]
           ],
           "sequential": [
            [
             0.0,
             "#0d0887"
            ],
            [
             0.1111111111111111,
             "#46039f"
            ],
            [
             0.2222222222222222,
             "#7201a8"
            ],
            [
             0.3333333333333333,
             "#9c179e"
            ],
            [
             0.4444444444444444,
             "#bd3786"
            ],
            [
             0.5555555555555556,
             "#d8576b"
            ],
            [
             0.6666666666666666,
             "#ed7953"
            ],
            [
             0.7777777777777778,
             "#fb9f3a"
            ],
            [
             0.8888888888888888,
             "#fdca26"
            ],
            [
             1.0,
             "#f0f921"
            ]
           ],
           "sequentialminus": [
            [
             0.0,
             "#0d0887"
            ],
            [
             0.1111111111111111,
             "#46039f"
            ],
            [
             0.2222222222222222,
             "#7201a8"
            ],
            [
             0.3333333333333333,
             "#9c179e"
            ],
            [
             0.4444444444444444,
             "#bd3786"
            ],
            [
             0.5555555555555556,
             "#d8576b"
            ],
            [
             0.6666666666666666,
             "#ed7953"
            ],
            [
             0.7777777777777778,
             "#fb9f3a"
            ],
            [
             0.8888888888888888,
             "#fdca26"
            ],
            [
             1.0,
             "#f0f921"
            ]
           ]
          },
          "colorway": [
           "#636efa",
           "#EF553B",
           "#00cc96",
           "#ab63fa",
           "#FFA15A",
           "#19d3f3",
           "#FF6692",
           "#B6E880",
           "#FF97FF",
           "#FECB52"
          ],
          "font": {
           "color": "#2a3f5f"
          },
          "geo": {
           "bgcolor": "white",
           "lakecolor": "white",
           "landcolor": "#E5ECF6",
           "showlakes": true,
           "showland": true,
           "subunitcolor": "white"
          },
          "hoverlabel": {
           "align": "left"
          },
          "hovermode": "closest",
          "mapbox": {
           "style": "light"
          },
          "paper_bgcolor": "white",
          "plot_bgcolor": "#E5ECF6",
          "polar": {
           "angularaxis": {
            "gridcolor": "white",
            "linecolor": "white",
            "ticks": ""
           },
           "bgcolor": "#E5ECF6",
           "radialaxis": {
            "gridcolor": "white",
            "linecolor": "white",
            "ticks": ""
           }
          },
          "scene": {
           "xaxis": {
            "backgroundcolor": "#E5ECF6",
            "gridcolor": "white",
            "gridwidth": 2,
            "linecolor": "white",
            "showbackground": true,
            "ticks": "",
            "zerolinecolor": "white"
           },
           "yaxis": {
            "backgroundcolor": "#E5ECF6",
            "gridcolor": "white",
            "gridwidth": 2,
            "linecolor": "white",
            "showbackground": true,
            "ticks": "",
            "zerolinecolor": "white"
           },
           "zaxis": {
            "backgroundcolor": "#E5ECF6",
            "gridcolor": "white",
            "gridwidth": 2,
            "linecolor": "white",
            "showbackground": true,
            "ticks": "",
            "zerolinecolor": "white"
           }
          },
          "shapedefaults": {
           "line": {
            "color": "#2a3f5f"
           }
          },
          "ternary": {
           "aaxis": {
            "gridcolor": "white",
            "linecolor": "white",
            "ticks": ""
           },
           "baxis": {
            "gridcolor": "white",
            "linecolor": "white",
            "ticks": ""
           },
           "bgcolor": "#E5ECF6",
           "caxis": {
            "gridcolor": "white",
            "linecolor": "white",
            "ticks": ""
           }
          },
          "title": {
           "x": 0.05
          },
          "xaxis": {
           "automargin": true,
           "gridcolor": "white",
           "linecolor": "white",
           "ticks": "",
           "title": {
            "standoff": 15
           },
           "zerolinecolor": "white",
           "zerolinewidth": 2
          },
          "yaxis": {
           "automargin": true,
           "gridcolor": "white",
           "linecolor": "white",
           "ticks": "",
           "title": {
            "standoff": 15
           },
           "zerolinecolor": "white",
           "zerolinewidth": 2
          }
         }
        },
        "xaxis": {
         "anchor": "y",
         "domain": [
          0.0,
          1.0
         ],
         "title": {
          "text": "TIME"
         },
         "rangeslider": {
          "visible": true
         }
        },
        "yaxis": {
         "anchor": "x",
         "domain": [
          0.0,
          1.0
         ],
         "title": {
          "text": "% of national total"
         }
        },
        "legend": {
         "title": {
          "text": "LOCATION"
         },
         "tracegroupgap": 0
        },
        "title": {
         "text": "Government researchers"
        }
       },
       "config": {
        "plotlyServerURL": "https://plot.ly"
       }
      },
      "text/html": "<div>                            <div id=\"5808644a-2587-45a7-b70e-0b77353c83d0\" class=\"plotly-graph-div\" style=\"height:525px; width:100%;\"></div>            <script type=\"text/javascript\">                require([\"plotly\"], function(Plotly) {                    window.PLOTLYENV=window.PLOTLYENV || {};                                    if (document.getElementById(\"5808644a-2587-45a7-b70e-0b77353c83d0\")) {                    Plotly.newPlot(                        \"5808644a-2587-45a7-b70e-0b77353c83d0\",                        [{\"hovertemplate\":\"LOCATION=TWN<br>TIME=%{x}<br>Value=%{y}<extra></extra>\",\"legendgroup\":\"TWN\",\"line\":{\"color\":\"#636efa\",\"dash\":\"solid\"},\"marker\":{\"symbol\":\"circle\"},\"mode\":\"lines\",\"name\":\"TWN\",\"showlegend\":true,\"x\":[1998,1999,2000,2001,2002,2003,2004,2005,2006,2007,2008,2009,2010,2011,2012,2013,2014,2015,2016,2017,2018,2019],\"xaxis\":\"x\",\"y\":[23.3292599098931,21.3277660272774,21.0212088300443,19.8087045476777,19.6493582571598,18.2263734720736,16.3542460366117,15.5181808640215,14.6429834270334,13.7827096831611,12.2780902284559,11.8391969568221,11.642724111665,10.7409701813734,10.225387363286,10.1017178599197,9.98800443375462,9.90263675311035,10.0566653730823,10.0371584406546,10.1869661256518,10.5706440324192],\"yaxis\":\"y\",\"type\":\"scattergl\"},{\"hovertemplate\":\"LOCATION=MEX<br>TIME=%{x}<br>Value=%{y}<extra></extra>\",\"legendgroup\":\"MEX\",\"line\":{\"color\":\"#EF553B\",\"dash\":\"solid\"},\"marker\":{\"symbol\":\"circle\"},\"mode\":\"lines\",\"name\":\"MEX\",\"showlegend\":true,\"x\":[1993,1994,1995,1996,1997,1998,1999,2001,2002,2003,2004,2005,2006,2007,2008,2009,2010,2011,2012,2013,2014,2015,2016,2017,2018,2019,2020],\"xaxis\":\"x\",\"y\":[38.3393604197689,31.9207549381631,30.9509107749305,30.567005127174,29.3878694495027,31.605222734255,34.4622697563874,30.3159756883222,20.5126557882565,19.0625186244711,17.0023159802638,15.0015937343473,20.2156408559453,19.3039810176641,21.3041270704578,19.2747210232052,21.1962515765365,20.7476679864494,24.764552359781,24.3084163764734,21.6265135070885,19.830299995528,17.153718863926,16.4842008955447,15.7915226832885,14.4538227954826,13.0070789017256],\"yaxis\":\"y\",\"type\":\"scattergl\"},{\"hovertemplate\":\"LOCATION=ISL<br>TIME=%{x}<br>Value=%{y}<extra></extra>\",\"legendgroup\":\"ISL\",\"line\":{\"color\":\"#00cc96\",\"dash\":\"solid\"},\"marker\":{\"symbol\":\"circle\"},\"mode\":\"lines\",\"name\":\"ISL\",\"showlegend\":true,\"x\":[1981,1983,1985,1987,1989,1990,1991,1992,1993,1994,1995,1997,1998,1999,2001,2003,2005,2006,2007,2008,2009,2011,2013,2015,2017],\"xaxis\":\"x\",\"y\":[50.4062681369704,48.4760522496372,42.4598930481284,45.8452138492872,43.3323606653049,43.3284023668639,42.1358940782773,40.3558316859644,39.2957919273709,39.041699752786,30.0938400074329,29.0625699157282,28.3810356128469,26.7194928684628,22.8084328277939,24.3609806990089,23.2632604761242,22.011367803447,20.7897477697777,20.7897477697777,21.8234801005948,18.1995306203782,9.78317920857976,12.2914566661867,12.0487804878049],\"yaxis\":\"y\",\"type\":\"scattergl\"},{\"hovertemplate\":\"LOCATION=JPN<br>TIME=%{x}<br>Value=%{y}<extra></extra>\",\"legendgroup\":\"JPN\",\"line\":{\"color\":\"#ab63fa\",\"dash\":\"solid\"},\"marker\":{\"symbol\":\"circle\"},\"mode\":\"lines\",\"name\":\"JPN\",\"showlegend\":true,\"x\":[1981,1982,1983,1984,1985,1986,1987,1988,1989,1990,1991,1992,1993,1994,1995,1996,1997,1998,1999,2000,2001,2002,2003,2004,2005,2006,2007,2008,2009,2010,2011,2012,2013,2014,2015,2016,2017,2018,2019],\"xaxis\":\"x\",\"y\":[9.32850578630387,8.98187176587506,8.2784525934028,8.06287351433624,7.58743673853152,7.35633529356381,6.95675401212361,6.73840370142853,6.40887914557021,6.17662692051747,6.02787201029522,5.84544208428903,5.68033109148891,5.59374509024704,5.4975633616551,4.89839884023228,4.83050386766479,4.73466136678691,4.70276669044331,4.82232091566652,5.16828708418259,5.43966229826575,5.16747423620681,5.18457446076234,5.00050688258396,4.90491820512671,4.77925972255305,4.8806412903776,4.99061827833966,4.94213696892835,4.89818792631093,4.88390910764651,4.67895756023189,4.44742178977502,4.56778804690132,4.54320082456135,4.52615142571552,4.51017055626174,4.47800815756628],\"yaxis\":\"y\",\"type\":\"scattergl\"},{\"hovertemplate\":\"LOCATION=NOR<br>TIME=%{x}<br>Value=%{y}<extra></extra>\",\"legendgroup\":\"NOR\",\"line\":{\"color\":\"#FFA15A\",\"dash\":\"solid\"},\"marker\":{\"symbol\":\"circle\"},\"mode\":\"lines\",\"name\":\"NOR\",\"showlegend\":true,\"x\":[1981,1983,1985,1987,1989,1991,1993,1995,1997,1999,2001,2003,2004,2005,2006,2007,2008,2009,2010,2011,2012,2013,2014,2015,2016,2017,2018,2019],\"xaxis\":\"x\",\"y\":[18.4849293144839,18.4353495110467,16.0235245563351,16.2668992586132,19.9325435998684,19.1827637444279,19.5420984894669,18.9253656393196,17.4442538593482,16.6001639792293,15.6565913131826,15.8564837346935,15.9711164778365,16.268637707957,15.6335807543092,15.9256856093895,15.3647665962937,16.9375404407567,16.9331972326188,16.8980461289849,16.7163535792536,16.6183950268437,15.825837124192,15.4576913032123,15.0032901952183,14.1294005708849,13.4170137169817,12.5968020502535],\"yaxis\":\"y\",\"type\":\"scattergl\"},{\"hovertemplate\":\"LOCATION=CHL<br>TIME=%{x}<br>Value=%{y}<extra></extra>\",\"legendgroup\":\"CHL\",\"line\":{\"color\":\"#19d3f3\",\"dash\":\"solid\"},\"marker\":{\"symbol\":\"circle\"},\"mode\":\"lines\",\"name\":\"CHL\",\"showlegend\":true,\"x\":[2007,2008,2009,2010,2011,2012,2013,2014,2015,2016,2017,2018],\"xaxis\":\"x\",\"y\":[8.94983413563789,9.44156589333611,5.53611854291006,5.36764705882353,5.53780600157937,5.94600478669493,12.0527409073545,10.13676502857,10.5562394379942,14.4251927433039,12.7841501974404,14.2989142620232],\"yaxis\":\"y\",\"type\":\"scattergl\"},{\"hovertemplate\":\"LOCATION=CZE<br>TIME=%{x}<br>Value=%{y}<extra></extra>\",\"legendgroup\":\"CZE\",\"line\":{\"color\":\"#FF6692\",\"dash\":\"solid\"},\"marker\":{\"symbol\":\"circle\"},\"mode\":\"lines\",\"name\":\"CZE\",\"showlegend\":true,\"x\":[1995,1996,1997,1998,1999,2000,2001,2002,2003,2004,2005,2006,2007,2008,2009,2010,2011,2012,2013,2014,2015,2016,2017,2018,2019],\"xaxis\":\"x\",\"y\":[36.1511394101877,35.285042042737,36.5421303656598,36.5748846092631,31.6291097155523,31.9376263355472,32.274638019617,29.577935087485,30.5711936238851,29.6146999565283,27.1592179060016,26.6186491936505,25.6596005092205,24.4711790919636,22.5953731176869,22.5037509222445,21.5473495972148,19.4278033506987,19.6231863383098,19.3644560859275,19.4136491911838,20.086210579835,20.182750271503,19.1246300898192,18.7485547174446],\"yaxis\":\"y\",\"type\":\"scattergl\"},{\"hovertemplate\":\"LOCATION=TUR<br>TIME=%{x}<br>Value=%{y}<extra></extra>\",\"legendgroup\":\"TUR\",\"line\":{\"color\":\"#B6E880\",\"dash\":\"solid\"},\"marker\":{\"symbol\":\"circle\"},\"mode\":\"lines\",\"name\":\"TUR\",\"showlegend\":true,\"x\":[1990,1991,1992,1993,1994,1995,1996,1997,1998,1999,2000,2001,2002,2003,2004,2005,2006,2007,2008,2009,2010,2011,2012,2013,2014,2015,2016,2017,2018,2019],\"xaxis\":\"x\",\"y\":[14.5835189309577,15.9022430532307,15.8116599061481,13.0393237780228,12.1438450899032,11.7257474454396,12.9886646392038,11.8732811508356,10.9114927344782,10.9494144031896,10.7395052636139,11.0651043960885,11.4773911231507,11.1635027556644,11.105587788603,10.8566016492953,11.0377592615377,9.72870176169035,9.22850070247582,9.87317644697025,9.45998182433201,8.40400636604247,7.65638991015329,7.06578974227408,7.29592630242242,6.88823645462129,6.6894306994948,5.96283949844941,5.30805199940372,4.24628758750591],\"yaxis\":\"y\",\"type\":\"scattergl\"},{\"hovertemplate\":\"LOCATION=AUT<br>TIME=%{x}<br>Value=%{y}<extra></extra>\",\"legendgroup\":\"AUT\",\"line\":{\"color\":\"#FF97FF\",\"dash\":\"solid\"},\"marker\":{\"symbol\":\"circle\"},\"mode\":\"lines\",\"name\":\"AUT\",\"showlegend\":true,\"x\":[1981,1985,1989,1993,1998,2002,2004,2005,2006,2007,2008,2009,2010,2011,2012,2013,2014,2015,2016,2017,2018,2019],\"xaxis\":\"x\",\"y\":[8.08998808104887,6.80772769089237,5.92120245957641,7.05093206458155,5.09756983777545,4.1398435589307,3.96760572062631,4.32601792789502,4.61835629668444,4.38507873568299,4.38503200679257,4.49836572552844,4.28638989199282,4.07153134413614,3.91579997330022,3.87576189345365,3.88016984540315,3.86116339929296,7.71270370228504,7.71237978998759,7.71269483780106,7.22994717232732],\"yaxis\":\"y\",\"type\":\"scattergl\"},{\"hovertemplate\":\"LOCATION=PRT<br>TIME=%{x}<br>Value=%{y}<extra></extra>\",\"legendgroup\":\"PRT\",\"line\":{\"color\":\"#FECB52\",\"dash\":\"solid\"},\"marker\":{\"symbol\":\"circle\"},\"mode\":\"lines\",\"name\":\"PRT\",\"showlegend\":true,\"x\":[1982,1983,1984,1985,1986,1987,1988,1989,1990,1991,1992,1993,1994,1995,1996,1997,1998,1999,2000,2001,2002,2003,2004,2005,2006,2007,2008,2009,2010,2011,2012,2013,2014,2015,2016,2017,2018,2019],\"xaxis\":\"x\",\"y\":[44.411356466877,41.1191635974813,38.1905937815692,35.1592744708865,32.7998042950253,31.237330771673,29.8744055602975,28.3609962859601,27.0775435285602,23.7704584198798,21.063379536557,21.3970788870976,21.6644843174939,23.6283536795641,22.4637907954001,21.4736360631008,21.6861305064957,21.870171079146,21.1827868423427,20.5719398717582,18.6635987455991,16.9925402586225,16.3826662914215,15.7983189376473,13.1764382364597,11.2105550019439,7.92610807030568,6.94062627720313,5.87623738408671,5.74586889413474,3.95828529208296,3.66634767957175,3.79360702365246,3.49399221136871,3.24078217929468,3.28765239048286,3.26946056031353,3.18888450397133],\"yaxis\":\"y\",\"type\":\"scattergl\"},{\"hovertemplate\":\"LOCATION=SWE<br>TIME=%{x}<br>Value=%{y}<extra></extra>\",\"legendgroup\":\"SWE\",\"line\":{\"color\":\"#636efa\",\"dash\":\"solid\"},\"marker\":{\"symbol\":\"circle\"},\"mode\":\"lines\",\"name\":\"SWE\",\"showlegend\":true,\"x\":[1981,1983,1985,1987,1989,1991,1993,1995,1997,1999,2001,2003,2004,2005,2006,2007,2008,2009,2010,2011,2012,2013,2014,2015,2016,2017,2018,2019],\"xaxis\":\"x\",\"y\":[8.03531515422441,7.73682289765914,6.61217407187543,6.63586358635864,6.03869454758648,6.46426551008863,7.88664022972788,8.13307589484628,6.61369922446988,6.06952115095784,4.9135376961957,4.74619183995351,4.80690390291899,5.32535772076871,5.45676398284556,4.23688116650659,3.52449223416965,3.13477635917815,3.83679428942245,4.30577799679685,4.0625,3.71685827335888,3.45722731569707,4.97797224802949,4.77746831126016,5.17967510802385,4.92342084602999,5.041930206495],\"yaxis\":\"y\",\"type\":\"scattergl\"},{\"hovertemplate\":\"LOCATION=ROU<br>TIME=%{x}<br>Value=%{y}<extra></extra>\",\"legendgroup\":\"ROU\",\"line\":{\"color\":\"#EF553B\",\"dash\":\"solid\"},\"marker\":{\"symbol\":\"circle\"},\"mode\":\"lines\",\"name\":\"ROU\",\"showlegend\":true,\"x\":[1993,1994,1995,1996,1997,1998,1999,2000,2001,2002,2003,2004,2005,2006,2007,2008,2009,2010,2011,2012,2013,2014,2015,2016,2017,2018,2019],\"xaxis\":\"x\",\"y\":[25.4532269760696,25.7473852626589,25.7199511897499,24.7368247368247,22.3558791460026,23.9761402487816,24.2959996591829,25.6104707950772,28.3838588664707,29.2517006802721,28.8242308609587,29.7596085995202,30.8476348113947,29.3622837915988,30.9336452573373,31.8088068474786,29.8064449172332,28.2608695652174,36.3557213930348,35.3685612788632,35.4381998277347,35.3912419239052,38.1407869866545,37.4321179208689,37.2531110857404,38.3256840759891,39.1988472622478],\"yaxis\":\"y\",\"type\":\"scattergl\"},{\"hovertemplate\":\"LOCATION=GBR<br>TIME=%{x}<br>Value=%{y}<extra></extra>\",\"legendgroup\":\"GBR\",\"line\":{\"color\":\"#00cc96\",\"dash\":\"solid\"},\"marker\":{\"symbol\":\"circle\"},\"mode\":\"lines\",\"name\":\"GBR\",\"showlegend\":true,\"x\":[1981,1982,1983,1984,1985,1986,1987,1988,1989,1990,1991,1992,1993,1994,1995,1996,1997,1998,1999,2000,2001,2002,2003,2004,2005,2006,2007,2008,2009,2010,2011,2012,2013,2014,2015,2016,2017,2018,2019],\"xaxis\":\"x\",\"y\":[15.748031496063,15.625,15.748031496063,14.7286821705426,14.5038167938931,11.1940298507463,11.1940298507463,10.9627737226277,11.2781954887218,11.3240601503759,11.73984375,11.677519379845,10.7152671755725,10.4716417910448,9.38609076493242,8.99644177289529,8.58012705196057,9.11316614022402,8.93930246412564,8.79694741366669,5.48912332143651,4.66368642619323,4.35890242584944,4.01997492325274,3.74522373956805,3.51803282560854,3.36591057697027,3.45115362616138,3.39726701569555,3.35945259643573,3.01188426369443,3.01741436091388,2.85421845845233,2.8089497649537,2.4806403194567,2.43906659928977,2.37046098116472,2.24641057965398,2.16869519201693],\"yaxis\":\"y\",\"type\":\"scattergl\"},{\"hovertemplate\":\"LOCATION=NZL<br>TIME=%{x}<br>Value=%{y}<extra></extra>\",\"legendgroup\":\"NZL\",\"line\":{\"color\":\"#ab63fa\",\"dash\":\"solid\"},\"marker\":{\"symbol\":\"circle\"},\"mode\":\"lines\",\"name\":\"NZL\",\"showlegend\":true,\"x\":[1989,1990,1991,1992,1993,1995,1997,1999,2001,2003,2005,2007,2009,2011,2013,2015,2017,2019],\"xaxis\":\"x\",\"y\":[29.7218762972188,31.1874105865522,32.0917508417509,26.3594782314078,26.8870967741936,24.5412844036697,21.3608898994126,18.602707397354,19.3638960158784,14.5595729191944,13.8610811643308,14.3835616438356,13.6645962732919,11.6564417177914,11.1731843575419,7.6,7.91666666666667,6.78571428571429],\"yaxis\":\"y\",\"type\":\"scattergl\"},{\"hovertemplate\":\"LOCATION=EST<br>TIME=%{x}<br>Value=%{y}<extra></extra>\",\"legendgroup\":\"EST\",\"line\":{\"color\":\"#FFA15A\",\"dash\":\"solid\"},\"marker\":{\"symbol\":\"circle\"},\"mode\":\"lines\",\"name\":\"EST\",\"showlegend\":true,\"x\":[1998,1999,2000,2001,2002,2003,2004,2005,2006,2007,2008,2009,2010,2011,2012,2013,2014,2015,2016,2017,2018,2019],\"xaxis\":\"x\",\"y\":[21.2222968435191,20.6528980679547,20.9677419354839,16.0395286963132,15.1356652500817,15.8435531985416,14.4256455921638,14.2299609726809,14.602903501281,14.769647696477,13.3450615732596,11.8915159944367,13.4412558253618,11.8820660607404,11.9161938018333,12.548218742909,12.3360854783876,12.2760926677812,11.6182572614108,11.7458279845956,9.84540440436411,10.4802514363502],\"yaxis\":\"y\",\"type\":\"scattergl\"},{\"hovertemplate\":\"LOCATION=CHE<br>TIME=%{x}<br>Value=%{y}<extra></extra>\",\"legendgroup\":\"CHE\",\"line\":{\"color\":\"#19d3f3\",\"dash\":\"solid\"},\"marker\":{\"symbol\":\"circle\"},\"mode\":\"lines\",\"name\":\"CHE\",\"showlegend\":true,\"x\":[1992,1996,2000,2004,2008,2012,2015,2017],\"xaxis\":\"x\",\"y\":[3.55731225296443,2.5107441755259,1.55142692970695,1.67322834645669,1.93980519964684,1.20162079083415,1.07910379515318,0.98724179829891],\"yaxis\":\"y\",\"type\":\"scattergl\"},{\"hovertemplate\":\"LOCATION=RUS<br>TIME=%{x}<br>Value=%{y}<extra></extra>\",\"legendgroup\":\"RUS\",\"line\":{\"color\":\"#FF6692\",\"dash\":\"solid\"},\"marker\":{\"symbol\":\"circle\"},\"mode\":\"lines\",\"name\":\"RUS\",\"showlegend\":true,\"x\":[1994,1995,1996,1997,1998,1999,2000,2001,2002,2003,2004,2005,2006,2007,2008,2009,2010,2011,2012,2013,2014,2015,2016,2017,2018,2019],\"xaxis\":\"x\",\"y\":[25.2390678524904,25.851100257718,27.003220239472,28.5764992891605,29.9154913562399,28.8753193972195,28.0776825559812,28.612553333676,29.6062153415836,30.0260319974071,30.9634520890951,33.3264453470577,33.0842433730944,32.629893663287,32.3545642523598,33.0597404711676,32.8128287085106,31.630617164791,33.7476791744968,32.8602459025696,32.5267215896958,32.6906807961174,34.0315796345865,33.9681503688352,35.6229606774248,30.9943768204202],\"yaxis\":\"y\",\"type\":\"scattergl\"},{\"hovertemplate\":\"LOCATION=ARG<br>TIME=%{x}<br>Value=%{y}<extra></extra>\",\"legendgroup\":\"ARG\",\"line\":{\"color\":\"#B6E880\",\"dash\":\"solid\"},\"marker\":{\"symbol\":\"circle\"},\"mode\":\"lines\",\"name\":\"ARG\",\"showlegend\":true,\"x\":[1997,1998,1999,2000,2001,2002,2003,2004,2005,2006,2007,2008,2009,2010,2011,2012,2013,2014,2015,2016,2017,2018,2019],\"xaxis\":\"x\",\"y\":[35.7240767618126,37.1965852315197,37.2135056145208,36.1392884178653,36.7633302151544,37.5646973124257,37.2748200387328,38.7533507515863,41.6875862934605,42.3744292237443,44.0681471523487,45.0882643354286,47.631360455462,46.43390549579,46.0258214526097,46.0229748465043,46.1632371763316,48.0286460853576,49.5865584292996,49.5721193321777,50.7201413959086,49.2091258953726,48.0894146677795],\"yaxis\":\"y\",\"type\":\"scattergl\"},{\"hovertemplate\":\"LOCATION=SVK<br>TIME=%{x}<br>Value=%{y}<extra></extra>\",\"legendgroup\":\"SVK\",\"line\":{\"color\":\"#FF97FF\",\"dash\":\"solid\"},\"marker\":{\"symbol\":\"circle\"},\"mode\":\"lines\",\"name\":\"SVK\",\"showlegend\":true,\"x\":[1994,1995,1996,1997,1998,1999,2000,2001,2002,2003,2004,2005,2006,2007,2008,2009,2010,2011,2012,2013,2014,2015,2016,2017,2018,2019],\"xaxis\":\"x\",\"y\":[38.0817640745439,37.6274328081557,38.4715284715285,24.6972881016712,25.2045342533268,26.3798348544111,25.3741838272225,25.4355764214919,25.9231020585993,25.3038329697725,21.8822892757842,22.9190703807483,21.1746023658489,23.3912353693481,22.6521970557626,20.7885628291949,19.7499802407988,18.8680599508022,19.4271457477948,17.8904626750139,21.1834054618714,21.4084898129187,21.8177963106933,20.2154209904111,18.9018791699823,18.201448572234],\"yaxis\":\"y\",\"type\":\"scattergl\"},{\"hovertemplate\":\"LOCATION=DEU<br>TIME=%{x}<br>Value=%{y}<extra></extra>\",\"legendgroup\":\"DEU\",\"line\":{\"color\":\"#FECB52\",\"dash\":\"solid\"},\"marker\":{\"symbol\":\"circle\"},\"mode\":\"lines\",\"name\":\"DEU\",\"showlegend\":true,\"x\":[1981,1983,1985,1987,1989,1991,1993,1995,1996,1997,1998,1999,2000,2001,2002,2003,2004,2005,2006,2007,2008,2009,2010,2011,2012,2013,2014,2015,2016,2017,2018,2019],\"xaxis\":\"x\",\"y\":[14.7574102964119,14.7184538189928,13.8550661719317,13.1973963868225,13.7866917608644,15.9648404714949,14.7805151516468,16.1486276002908,16.3721984977562,15.8622181320056,16.0740728276233,14.8595749359027,14.606745930183,14.5950034986856,14.7021202955472,14.3967844367931,15.6216346242807,14.6651821802843,14.8258535783462,14.9769814992453,14.9821075135226,15.518409615924,15.7876925328358,15.9984528579316,15.7758236644449,16.0115442232335,15.0186262335795,13.9210066446382,13.5060872611704,13.0392715261774,13.1853857646128,13.1399575595388],\"yaxis\":\"y\",\"type\":\"scattergl\"},{\"hovertemplate\":\"LOCATION=CHN<br>TIME=%{x}<br>Value=%{y}<extra></extra>\",\"legendgroup\":\"CHN\",\"line\":{\"color\":\"#636efa\",\"dash\":\"solid\"},\"marker\":{\"symbol\":\"circle\"},\"mode\":\"lines\",\"name\":\"CHN\",\"showlegend\":true,\"x\":[1991,1992,1993,1994,1995,1996,1997,1998,1999,2000,2001,2002,2003,2004,2005,2006,2007,2008,2009,2010,2011,2012,2013,2014,2015,2016,2017,2018,2019],\"xaxis\":\"x\",\"y\":[42.5753075943997,44.0771349862259,39.6565821749796,35.2717391304348,35.4214559386973,32.8102189781022,32.8010871411585,33.4088568486097,31.406514780644,27.818093925434,25.122185031896,23.3368495728078,22.2660037953482,20.5666492488005,17.9116258364635,17.1724862889379,16.2052184200857,15.0067193328393,19.0472016669111,19.1354057445042,18.9858628344433,19.2006934388971,19.451986358586,19.4123876035136,18.8808505252875,19.862368909897,20.500835936982,19.8335809787725,18.4966407039376],\"yaxis\":\"y\",\"type\":\"scattergl\"},{\"hovertemplate\":\"LOCATION=BEL<br>TIME=%{x}<br>Value=%{y}<extra></extra>\",\"legendgroup\":\"BEL\",\"line\":{\"color\":\"#EF553B\",\"dash\":\"solid\"},\"marker\":{\"symbol\":\"circle\"},\"mode\":\"lines\",\"name\":\"BEL\",\"showlegend\":true,\"x\":[1981,1982,1983,1984,1985,1986,1987,1988,1989,1991,1993,1994,1995,1996,1997,1998,1999,2000,2001,2002,2003,2004,2005,2006,2007,2008,2009,2010,2011,2012,2013,2014,2015,2016,2017,2018,2019],\"xaxis\":\"x\",\"y\":[4.95802934023692,4.80984340044743,4.92889583798675,4.88997555012225,4.64801138288502,4.41260744985673,4.30663758180119,4.13312507509312,4.78433598183882,4.33581883457609,5.63559656818148,5.32967607233039,5.18638770765701,5.73268406450652,5.92034500498927,5.79286260067679,5.84576399527268,5.92326889303032,6.02175131264236,6.45576627569575,6.55445843904607,6.83507330743744,6.85940695527037,6.94935313066859,6.95577707018506,7.23522879289068,7.37701634018949,6.49043319666442,6.51505121844647,7.87551812619252,7.88927757934104,7.99291617473436,7.59970288465155,7.90342667649226,8.30530319118702,9.19493549484529,9.05672061937507],\"yaxis\":\"y\",\"type\":\"scattergl\"},{\"hovertemplate\":\"LOCATION=DNK<br>TIME=%{x}<br>Value=%{y}<extra></extra>\",\"legendgroup\":\"DNK\",\"line\":{\"color\":\"#00cc96\",\"dash\":\"solid\"},\"marker\":{\"symbol\":\"circle\"},\"mode\":\"lines\",\"name\":\"DNK\",\"showlegend\":true,\"x\":[1981,1982,1983,1984,1985,1986,1987,1988,1989,1990,1991,1992,1993,1995,1996,1997,1999,2001,2002,2003,2004,2005,2006,2007,2008,2009,2010,2011,2012,2013,2014,2015,2016,2017,2018,2019],\"xaxis\":\"x\",\"y\":[25.8658806190125,25.7477601654032,25.3126628452319,24.830727563708,24.4192832963698,23.587786259542,22.8542199488491,22.567267817533,22.304324028462,21.8079096045198,21.3544692505602,21.7012673975585,22.0157987126975,22.4081734988091,21.4982933109767,20.9753868996631,20.6809184481394,18.0486300313576,8.87935522509581,9.39386304248553,8.73885012294383,7.46875042866014,7.53213288892199,3.98591106325539,3.24746654404311,3.03079724917774,3.24855550005209,3.01421607411756,3.01394949638601,3.14461938241351,3.34226858895409,3.3297529538131,3.10610286734352,3.71878269571942,3.61305891995265,3.53025452754584],\"yaxis\":\"y\",\"type\":\"scattergl\"},{\"hovertemplate\":\"LOCATION=IRL<br>TIME=%{x}<br>Value=%{y}<extra></extra>\",\"legendgroup\":\"IRL\",\"line\":{\"color\":\"#ab63fa\",\"dash\":\"solid\"},\"marker\":{\"symbol\":\"circle\"},\"mode\":\"lines\",\"name\":\"IRL\",\"showlegend\":true,\"x\":[1981,1982,1983,1984,1985,1986,1987,1988,1989,1990,1991,1992,1993,1994,1995,1996,1997,1998,1999,2000,2001,2002,2003,2004,2005,2006,2007,2008,2009,2010,2011,2012,2013,2014,2015,2016,2017,2018,2019],\"xaxis\":\"x\",\"y\":[30.2270577105014,29.7250109122654,27.0621698496546,23.7701840030041,21.9717708962918,20.3795462972326,16.4767800005981,13.8633193863319,10.8104150906562,8.55311593261444,6.83922966636959,4.52537636347246,5.37739242022704,5.52213703287418,4.90966741284959,4.89070340412667,4.28524062385832,4.01577980746713,3.80855655706487,8.6542977923908,5.64308861325288,6.26066552901024,5.50851678454029,5.0772025431426,3.6161215154915,3.98455471574105,4.11982953516034,3.7029375258585,3.66481076890549,3.96444695259594,3.58242190058288,2.21298283261803,1.8433374108913,1.87833598174632,2.01457109567411,2.07273514821302,2.2603840105512,2.58057345663417,2.45286225195233],\"yaxis\":\"y\",\"type\":\"scattergl\"},{\"hovertemplate\":\"LOCATION=SGP<br>TIME=%{x}<br>Value=%{y}<extra></extra>\",\"legendgroup\":\"SGP\",\"line\":{\"color\":\"#FFA15A\",\"dash\":\"solid\"},\"marker\":{\"symbol\":\"circle\"},\"mode\":\"lines\",\"name\":\"SGP\",\"showlegend\":true,\"x\":[1994,1995,1996,1997,1998,1999,2000,2001,2002,2003,2004,2005,2006,2007,2008,2009,2010,2011,2012,2013,2014,2015,2016,2017,2018],\"xaxis\":\"x\",\"y\":[10.9394655294082,6.99980505555917,7.47804128238911,5.50179820900444,7.21825887803723,7.87424137312457,7.49602743012155,6.31011647258552,7.16514083982378,6.76782936348405,6.25088369331839,5.73492883988649,5.79365504193994,5.79274322928495,6.05941853030554,6.03219279116551,5.48643822222791,5.41846953077106,5.14391232367681,5.11903999915583,5.32077440800068,5.47688275462957,6.13798136887036,6.22823761198316,6.36837122158551],\"yaxis\":\"y\",\"type\":\"scattergl\"},{\"hovertemplate\":\"LOCATION=FIN<br>TIME=%{x}<br>Value=%{y}<extra></extra>\",\"legendgroup\":\"FIN\",\"line\":{\"color\":\"#19d3f3\",\"dash\":\"solid\"},\"marker\":{\"symbol\":\"circle\"},\"mode\":\"lines\",\"name\":\"FIN\",\"showlegend\":true,\"x\":[2004,2005,2006,2007,2008,2009,2010,2011,2012,2013,2014,2015,2016,2017,2018,2019],\"xaxis\":\"x\",\"y\":[10.2430212034297,11.0504774897681,11.0611207655437,11.4919363404779,11.1071845584904,11.0275137471695,10.9853858520281,11.5752450046446,10.9520020559251,11.4337614360576,10.6813895288998,9.46347938735146,8.93667741630046,8.95523193823978,8.54076936069589,8.15328169588259],\"yaxis\":\"y\",\"type\":\"scattergl\"},{\"hovertemplate\":\"LOCATION=GRC<br>TIME=%{x}<br>Value=%{y}<extra></extra>\",\"legendgroup\":\"GRC\",\"line\":{\"color\":\"#FF6692\",\"dash\":\"solid\"},\"marker\":{\"symbol\":\"circle\"},\"mode\":\"lines\",\"name\":\"GRC\",\"showlegend\":true,\"x\":[1989,1991,1993,1995,1997,1999,2001,2003,2005,2006,2007,2011,2012,2013,2014,2015,2016,2017,2018,2019],\"xaxis\":\"x\",\"y\":[38.4728071781725,30.7865168539326,23.7205827418752,20.7316444896891,18.1066907445916,13.5645524060476,13.7785629841678,13.6663966948282,10.5972688125537,11.3459152354209,10.4739697344627,17.7105687102951,18.1853015328226,19.7684157513419,19.5600374735291,20.9058430333064,21.3005475631738,20.5262028577559,21.1724352977861,20.8582862424745],\"yaxis\":\"y\",\"type\":\"scattergl\"},{\"hovertemplate\":\"LOCATION=NLD<br>TIME=%{x}<br>Value=%{y}<extra></extra>\",\"legendgroup\":\"NLD\",\"line\":{\"color\":\"#B6E880\",\"dash\":\"solid\"},\"marker\":{\"symbol\":\"circle\"},\"mode\":\"lines\",\"name\":\"NLD\",\"showlegend\":true,\"x\":[1981,1983,1985,1987,1989,1993,1994,1995,1996,1997,1998,1999,2000,2001,2002,2003,2004,2005,2006,2007,2008,2009,2010,2011,2012,2013,2014,2015,2016,2017,2018,2019],\"xaxis\":\"x\",\"y\":[23.3638608767236,22.7767695099819,23.4782608695652,23.7254901960784,25.2998500749625,22.5535880708295,22.3828193574814,22.6039260969977,22.0374278879978,20.5424013875384,20.4600701107955,16.3361481233404,14.1062710337963,14.9104147020768,15.4757834757835,17.5139824220979,16.0158671129292,14.6863376102311,13.4167450611477,13.6651193763833,13.7993573442151,14.5236168490992,12.9583077295496,11.0230944516648,11.7170584817478,6.71521915045231,6.46637199856648,6.6332886163281,6.46943341094827,6.11164211243312,6.12202147158942,6.2253743104807],\"yaxis\":\"y\",\"type\":\"scattergl\"},{\"hovertemplate\":\"LOCATION=POL<br>TIME=%{x}<br>Value=%{y}<extra></extra>\",\"legendgroup\":\"POL\",\"line\":{\"color\":\"#FF97FF\",\"dash\":\"solid\"},\"marker\":{\"symbol\":\"circle\"},\"mode\":\"lines\",\"name\":\"POL\",\"showlegend\":true,\"x\":[1994,1995,1996,1997,1998,1999,2000,2001,2002,2003,2004,2005,2006,2007,2008,2009,2010,2011,2012,2013,2014,2015,2016,2017,2018,2019],\"xaxis\":\"x\",\"y\":[22.6656547129636,22.2984630639564,20.8751000495484,21.0729829862235,20.5948842094021,19.1572306983503,20.1181716025664,18.9445750516492,25.893345085941,22.5838382114515,21.0094512995537,19.5850532960545,20.8783553540464,20.8691870550352,20.8990505653246,21.5911954831847,21.0081675866634,21.5551168824689,20.2722952561761,18.9879155980709,17.6120139553992,16.4878804755793,2.68700731582828,2.96024785094035,2.64041056639655,1.83788250236173],\"yaxis\":\"y\",\"type\":\"scattergl\"},{\"hovertemplate\":\"LOCATION=ESP<br>TIME=%{x}<br>Value=%{y}<extra></extra>\",\"legendgroup\":\"ESP\",\"line\":{\"color\":\"#FECB52\",\"dash\":\"solid\"},\"marker\":{\"symbol\":\"circle\"},\"mode\":\"lines\",\"name\":\"ESP\",\"showlegend\":true,\"x\":[1981,1982,1983,1984,1985,1986,1987,1988,1989,1990,1991,1992,1993,1994,1995,1996,1997,1998,1999,2000,2001,2002,2003,2004,2005,2006,2007,2008,2009,2010,2011,2012,2013,2014,2015,2016,2017,2018,2019],\"xaxis\":\"x\",\"y\":[18.8499065808595,17.8415504206155,14.7609254498715,14.2251048473618,13.2323467723141,16.5545361875637,17.110682840192,18.3060635226179,17.8161268761014,20.2330396008069,19.8784508636386,18.3776780787409,17.8407544907418,16.3369335868135,17.6566262515314,17.6747428969845,19.4681068240447,18.2863495329274,19.383445945946,16.5746050917116,16.6647103043684,15.1527044641121,16.7407565927064,16.9823277330228,18.6342910108704,17.3255416309725,17.4614125608261,17.2368407993813,18.05992971778,18.103718446674,17.5779303397169,17.234760465281,16.7764272754858,16.5092946027026,16.3038950644005,16.3174187230734,15.6473246477669,15.2882420152426,15.3823713881474],\"yaxis\":\"y\",\"type\":\"scattergl\"},{\"hovertemplate\":\"LOCATION=KOR<br>TIME=%{x}<br>Value=%{y}<extra></extra>\",\"legendgroup\":\"KOR\",\"line\":{\"color\":\"#636efa\",\"dash\":\"solid\"},\"marker\":{\"symbol\":\"circle\"},\"mode\":\"lines\",\"name\":\"KOR\",\"showlegend\":true,\"x\":[1995,1996,1997,1998,1999,2000,2001,2002,2003,2004,2005,2006,2007,2008,2009,2010,2011,2012,2013,2014,2015,2016,2017,2018,2019],\"xaxis\":\"x\",\"y\":[12.6533009476786,12.3922641376605,12.003701539061,10.9119201218919,11.7203871869075,10.6708498661991,8.83105833339446,8.00186024225428,7.91648485329314,7.78800668389235,7.11355726115563,7.02725062221026,7.14577858602666,6.58618153394371,7.46349940475491,7.47899703411282,7.33910867694157,7.03570309108643,7.23701683496146,7.16442519085516,7.41502605245208,7.52016611574524,7.09606171475714,6.70080489574919,6.66057370487611],\"yaxis\":\"y\",\"type\":\"scattergl\"},{\"hovertemplate\":\"LOCATION=FRA<br>TIME=%{x}<br>Value=%{y}<extra></extra>\",\"legendgroup\":\"FRA\",\"line\":{\"color\":\"#EF553B\",\"dash\":\"solid\"},\"marker\":{\"symbol\":\"circle\"},\"mode\":\"lines\",\"name\":\"FRA\",\"showlegend\":true,\"x\":[1981,1982,1983,1984,1985,1986,1987,1988,1989,1990,1991,1992,1993,1994,1995,1996,1997,1998,1999,2000,2001,2002,2003,2004,2005,2006,2007,2008,2009,2010,2011,2012,2013,2014,2015,2016,2017,2018,2019],\"xaxis\":\"x\",\"y\":[18.3625730994152,20.3805675207603,20.6372326881164,20.5019855411873,20.7475575288745,20.6978361742875,20.3001124735961,20.1705408855275,20.1353483351324,20.1084413174329,19.9946062567422,17.9937901347823,17.6287543352205,17.6972109951539,17.9803019989904,17.9574621997455,15.6705595880638,15.5502859362125,15.7002692863911,15.1868425640728,12.9360891234242,12.9492543718485,12.7292765326116,12.2437310131774,12.7841046712557,12.1757572992171,11.9571220694753,12.0222842320803,12.2465947414957,10.9271943554695,10.7554927529603,10.5877263791312,10.5070362446733,10.3267562264974,10.2456890683862,10.1195146556072,9.83148156914192,9.56833300134423,9.33139707315362],\"yaxis\":\"y\",\"type\":\"scattergl\"},{\"hovertemplate\":\"LOCATION=ITA<br>TIME=%{x}<br>Value=%{y}<extra></extra>\",\"legendgroup\":\"ITA\",\"line\":{\"color\":\"#00cc96\",\"dash\":\"solid\"},\"marker\":{\"symbol\":\"circle\"},\"mode\":\"lines\",\"name\":\"ITA\",\"showlegend\":true,\"x\":[1981,1982,1983,1984,1985,1986,1987,1988,1989,1990,1991,1992,1993,1994,1995,1996,1997,1998,1999,2000,2001,2002,2003,2004,2005,2006,2007,2008,2009,2010,2011,2012,2013,2014,2015,2016,2017,2018,2019],\"xaxis\":\"x\",\"y\":[15.076834421821,16.4247800095226,15.4504054204154,17.6140305587376,17.7982716165561,17.0214020399741,17.7660298202846,18.6308179546457,18.3781581092095,18.6206276644923,16.8186288843404,17.625164601865,17.8654915764301,17.9432661577877,18.423003600932,17.8399026700331,20.8314305720462,20.8326957799064,21.0405849642078,21.6533050975647,19.4986657071752,19.0407343982482,19.8713819966075,19.7702886042762,17.5223575535618,18.7609126355881,18.5925606531606,16.2421436350783,16.3763425444962,16.9164306647471,17.6914460774385,18.5186657367826,18.3473609995584,17.8071296210115,17.1535253227408,16.2378651668586,15.7560301471741,14.8911046625221,14.4731867710958],\"yaxis\":\"y\",\"type\":\"scattergl\"},{\"hovertemplate\":\"LOCATION=LUX<br>TIME=%{x}<br>Value=%{y}<extra></extra>\",\"legendgroup\":\"LUX\",\"line\":{\"color\":\"#ab63fa\",\"dash\":\"solid\"},\"marker\":{\"symbol\":\"circle\"},\"mode\":\"lines\",\"name\":\"LUX\",\"showlegend\":true,\"x\":[2000,2003,2004,2005,2006,2007,2008,2009,2010,2011,2012,2013,2014,2015,2016,2017,2018,2019],\"xaxis\":\"x\",\"y\":[13.6485172581429,16.6700872242175,16.8406539294859,16.793893129771,21.1858631097264,22.8392256657275,24.1606924287463,24.9123685528292,25.3417423117547,26.3708392648352,31.7004129190869,29.2911096109831,26.9201217192849,23.6301632308989,21.7282879757129,20.8446866485014,22.481838502375,20.810250484315],\"yaxis\":\"y\",\"type\":\"scattergl\"},{\"hovertemplate\":\"LOCATION=HUN<br>TIME=%{x}<br>Value=%{y}<extra></extra>\",\"legendgroup\":\"HUN\",\"line\":{\"color\":\"#FFA15A\",\"dash\":\"solid\"},\"marker\":{\"symbol\":\"circle\"},\"mode\":\"lines\",\"name\":\"HUN\",\"showlegend\":true,\"x\":[1981,1982,1983,1984,1985,1986,1987,1988,1989,1990,1991,1992,1993,1994,1995,1996,1997,1998,1999,2000,2001,2002,2003,2004,2005,2006,2007,2008,2009,2010,2011,2012,2013,2014,2015,2016,2017,2018,2019],\"xaxis\":\"x\",\"y\":[22.4727174742893,22.799271734183,22.9577082956805,24.7091215916156,22.0783842697629,21.8507878471315,22.6126368695028,23.022354972698,23.9195340414077,26.8774928774929,29.0512058599959,31.1347575339128,31.8920291081401,32.6157249829816,33.6127250214306,37.7113758647195,35.0636542944235,36.5612479754497,36.1713967723984,32.2990420658059,31.7537160780036,30.8853992649516,31.231884057971,31.4881910896404,31.2318931855397,29.7828688664729,26.2894600655512,25.5079982706442,24.5614035087719,23.5544934870209,22.8984751726834,19.6081721693166,19.0989695662593,18.2199671918514,18.4863327539896,19.2412029142769,17.1216491943995,17.529117693985,16.5288204606184],\"yaxis\":\"y\",\"type\":\"scattergl\"},{\"hovertemplate\":\"LOCATION=ZAF<br>TIME=%{x}<br>Value=%{y}<extra></extra>\",\"legendgroup\":\"ZAF\",\"line\":{\"color\":\"#19d3f3\",\"dash\":\"solid\"},\"marker\":{\"symbol\":\"circle\"},\"mode\":\"lines\",\"name\":\"ZAF\",\"showlegend\":true,\"x\":[2001,2003,2004,2005,2006,2007,2008,2009,2010,2011,2012,2013,2014,2015,2016,2017],\"xaxis\":\"x\",\"y\":[15.0472429840643,16.580684882067,11.3867473908022,11.4078929574144,14.8997321344443,15.8268927779515,15.7430770111735,14.8125121001983,14.1639088546466,13.1480592153342,13.0410992217899,11.5865623290661,11.6044951828236,10.6313600464842,10.5206789074421,9.11797370983513],\"yaxis\":\"y\",\"type\":\"scattergl\"},{\"hovertemplate\":\"LOCATION=SVN<br>TIME=%{x}<br>Value=%{y}<extra></extra>\",\"legendgroup\":\"SVN\",\"line\":{\"color\":\"#FF6692\",\"dash\":\"solid\"},\"marker\":{\"symbol\":\"circle\"},\"mode\":\"lines\",\"name\":\"SVN\",\"showlegend\":true,\"x\":[1993,1994,1995,1996,1997,1998,1999,2000,2001,2002,2003,2004,2005,2006,2007,2008,2009,2010,2011,2012,2013,2014,2015,2016,2017,2018,2019],\"xaxis\":\"x\",\"y\":[39.4392523364486,33.6479966435914,32.8160098019195,35.219425261751,34.808552958727,35.0058343057176,34.1088773435735,34.4787822878229,32.281013783904,32.1628608358466,27.6556291390729,27.8908188585608,30.2874547877403,30.8007512378351,31.968,30.6598407281001,29.1565941445071,26.4312605478385,20.7089126966036,20.8239531742458,20.9601470081544,20.3405644973175,20.620253164557,20.5320852321715,16.1488012041716,16.4978148589591,16.9220519653564],\"yaxis\":\"y\",\"type\":\"scattergl\"},{\"hovertemplate\":\"LOCATION=LVA<br>TIME=%{x}<br>Value=%{y}<extra></extra>\",\"legendgroup\":\"LVA\",\"line\":{\"color\":\"#B6E880\",\"dash\":\"solid\"},\"marker\":{\"symbol\":\"circle\"},\"mode\":\"lines\",\"name\":\"LVA\",\"showlegend\":true,\"x\":[1993,1994,1995,1996,1997,1998,1999,2000,2001,2002,2003,2004,2005,2006,2007,2008,2009,2010,2011,2012,2013,2014,2015,2016,2017,2018,2019],\"xaxis\":\"x\",\"y\":[39.7349337334334,44.6511627906977,43.9127604166667,45.8612187389926,39.5019157088123,32.1079389910051,28.6367098248286,17.3571054011536,16.3282813840435,15.9084323384526,16.1411177021542,14.7412755716005,17.9463741620963,15.1969504447268,17.8975222516238,19.4736842105263,19.5526097763049,16.2987679671458,17.3802888269572,18.0071721311475,19.5034482758621,18.1696905016009,19.1253805701633,19.8604060913706,16.398621481907,16.5509259259259,15.5837004405286],\"yaxis\":\"y\",\"type\":\"scattergl\"},{\"hovertemplate\":\"LOCATION=AUS<br>TIME=%{x}<br>Value=%{y}<extra></extra>\",\"legendgroup\":\"AUS\",\"line\":{\"color\":\"#FF97FF\",\"dash\":\"solid\"},\"marker\":{\"symbol\":\"circle\"},\"mode\":\"lines\",\"name\":\"AUS\",\"showlegend\":true,\"x\":[1981,1984,1985,1986,1987,1988,1990,1992,1994,1996,1998,2000,2002,2004,2006,2008],\"xaxis\":\"x\",\"y\":[28.0651024454726,23.9470391993328,23.5384718408893,22.1045419509549,20.3838823849714,20.8787363790863,21.4957383731703,18.4308913472784,15.4843791759857,14.783318556322,13.550891202507,13.2185074862048,10.9821928853539,10.389018554898,10.0010320982558,8.94215575377123],\"yaxis\":\"y\",\"type\":\"scattergl\"},{\"hovertemplate\":\"LOCATION=CAN<br>TIME=%{x}<br>Value=%{y}<extra></extra>\",\"legendgroup\":\"CAN\",\"line\":{\"color\":\"#FECB52\",\"dash\":\"solid\"},\"marker\":{\"symbol\":\"circle\"},\"mode\":\"lines\",\"name\":\"CAN\",\"showlegend\":true,\"x\":[1981,1982,1983,1984,1985,1986,1987,1988,1989,1990,1991,1992,1993,1994,1995,1996,1997,1998,1999,2000,2001,2002,2003,2004,2005,2006,2007,2008,2009,2010,2011,2012,2013,2014,2015,2016,2017,2018],\"xaxis\":\"x\",\"y\":[17.1449777337952,17.3755656108597,16.5025169621361,15.5469070053257,14.4135567402894,14.5150034891835,12.7379949452401,13.0051314945478,13.0598183526464,12.5513464171611,12.3283626162705,11.3778271125295,11.1273016293549,9.63911525029104,8.89219501029984,8.54238037352194,7.87722687271947,7.67744239292541,7.40004865785419,6.8952734012975,5.99074316653568,6.45050017247327,5.92388217154914,5.5146494861175,6.11558156547184,5.81544149011802,5.76884953413071,5.64249363867685,6.10438024231128,6.05697718391529,5.72380375529982,5.87252475247525,5.57666380683907,5.71051104443704,4.86622484045165,4.65467354384199,4.88765774084334,4.60463449593884],\"yaxis\":\"y\",\"type\":\"scattergl\"},{\"hovertemplate\":\"LOCATION=USA<br>TIME=%{x}<br>Value=%{y}<extra></extra>\",\"legendgroup\":\"USA\",\"line\":{\"color\":\"#636efa\",\"dash\":\"solid\"},\"marker\":{\"symbol\":\"circle\"},\"mode\":\"lines\",\"name\":\"USA\",\"showlegend\":true,\"x\":[1981,1982,1983,1984,1985,1987,1988,1989,1990,1991,1992,1993,1995,1996,1997,1998,1999,2000,2001,2002],\"xaxis\":\"x\",\"y\":[11.1278195488722,10.8590995634642,10.5493582617136,10.1008129446554,8.60150435523388,7.95322391181442,7.76672317363785,8.1587685254691,8.06071865242154,7.81338997929385,8.07348174779123,7.68008847461923,6.76669830317822,6.18162834294393,5.65092916934746,5.13935387567971,4.90703046500306,4.82473996537948,4.74600076035292,4.55796194613595],\"yaxis\":\"y\",\"type\":\"scattergl\"},{\"hovertemplate\":\"LOCATION=OECD<br>TIME=%{x}<br>Value=%{y}<extra></extra>\",\"legendgroup\":\"OECD\",\"line\":{\"color\":\"#EF553B\",\"dash\":\"solid\"},\"marker\":{\"symbol\":\"circle\"},\"mode\":\"lines\",\"name\":\"OECD\",\"showlegend\":true,\"x\":[1991,1993,1995,1996,1997,1998,1999,2000,2001,2002,2003,2004,2005,2006,2007,2008,2009,2010,2011,2012,2013,2014,2015,2016,2017,2018],\"xaxis\":\"x\",\"y\":[11.3343638256306,11.0130367720198,10.6651950949141,10.1297359903123,9.6220783302943,9.26475533489742,9.03226390927854,8.87586595810629,8.40305295451974,8.2790048974948,8.00007987289273,8.02994842572391,7.95726276546884,7.91941069232058,7.90995706984751,7.77161173070347,7.92164516214708,8.03295945916212,7.89797531267854,7.74042366960176,7.46931331703416,7.20347274960417,7.11141954454351,6.77713637153885,6.59863238079152,6.48761396510494],\"yaxis\":\"y\",\"type\":\"scattergl\"},{\"hovertemplate\":\"LOCATION=LTU<br>TIME=%{x}<br>Value=%{y}<extra></extra>\",\"legendgroup\":\"LTU\",\"line\":{\"color\":\"#00cc96\",\"dash\":\"solid\"},\"marker\":{\"symbol\":\"circle\"},\"mode\":\"lines\",\"name\":\"LTU\",\"showlegend\":true,\"x\":[1996,1997,1998,1999,2000,2001,2002,2003,2004,2005,2006,2007,2008,2009,2010,2011,2012,2013,2014,2015,2016,2017,2018,2019],\"xaxis\":\"x\",\"y\":[38.7015400955922,38.5128205128205,34.9573257467994,33.2357418901511,32.8790021859329,30.1176470588235,29.57635156497,25.5222524977293,22.784121805329,23.6349351839728,20.6892230576441,19.5228534309673,19.4829835171351,20.4122497055359,17.0601232701477,16.4004767580453,17.1008350990901,16.3024424447821,15.4269972451791,17.7421329741643,18.4938416422287,18.4484790243791,17.7260368998736,15.9504870298449],\"yaxis\":\"y\",\"type\":\"scattergl\"},{\"hovertemplate\":\"LOCATION=EU27_2020<br>TIME=%{x}<br>Value=%{y}<extra></extra>\",\"legendgroup\":\"EU27_2020\",\"line\":{\"color\":\"#ab63fa\",\"dash\":\"solid\"},\"marker\":{\"symbol\":\"circle\"},\"mode\":\"lines\",\"name\":\"EU27_2020\",\"showlegend\":true,\"x\":[1993,1995,1996,1997,1998,1999,2000,2001,2002,2003,2004,2005,2006,2007,2008,2009,2010,2011,2012,2013,2014,2015,2016,2017,2018,2019],\"xaxis\":\"x\",\"y\":[18.3060393892483,18.6221856663518,18.4946508522799,17.7293072242304,17.584654400793,16.8217534603119,16.2348292708396,15.4897451497457,15.4690318565294,15.369220196577,15.3208943437817,15.1140849838164,14.8676237901632,14.7148813843091,14.2456860394635,14.4483922647887,14.1232034767594,14.0645440169552,13.7413698985936,13.3385733994293,12.8361574284562,12.5520253414756,11.6311978354064,11.253709484484,11.1542943541773,10.9651711522681],\"yaxis\":\"y\",\"type\":\"scattergl\"}],                        {\"template\":{\"data\":{\"bar\":[{\"error_x\":{\"color\":\"#2a3f5f\"},\"error_y\":{\"color\":\"#2a3f5f\"},\"marker\":{\"line\":{\"color\":\"#E5ECF6\",\"width\":0.5},\"pattern\":{\"fillmode\":\"overlay\",\"size\":10,\"solidity\":0.2}},\"type\":\"bar\"}],\"barpolar\":[{\"marker\":{\"line\":{\"color\":\"#E5ECF6\",\"width\":0.5},\"pattern\":{\"fillmode\":\"overlay\",\"size\":10,\"solidity\":0.2}},\"type\":\"barpolar\"}],\"carpet\":[{\"aaxis\":{\"endlinecolor\":\"#2a3f5f\",\"gridcolor\":\"white\",\"linecolor\":\"white\",\"minorgridcolor\":\"white\",\"startlinecolor\":\"#2a3f5f\"},\"baxis\":{\"endlinecolor\":\"#2a3f5f\",\"gridcolor\":\"white\",\"linecolor\":\"white\",\"minorgridcolor\":\"white\",\"startlinecolor\":\"#2a3f5f\"},\"type\":\"carpet\"}],\"choropleth\":[{\"colorbar\":{\"outlinewidth\":0,\"ticks\":\"\"},\"type\":\"choropleth\"}],\"contour\":[{\"colorbar\":{\"outlinewidth\":0,\"ticks\":\"\"},\"colorscale\":[[0.0,\"#0d0887\"],[0.1111111111111111,\"#46039f\"],[0.2222222222222222,\"#7201a8\"],[0.3333333333333333,\"#9c179e\"],[0.4444444444444444,\"#bd3786\"],[0.5555555555555556,\"#d8576b\"],[0.6666666666666666,\"#ed7953\"],[0.7777777777777778,\"#fb9f3a\"],[0.8888888888888888,\"#fdca26\"],[1.0,\"#f0f921\"]],\"type\":\"contour\"}],\"contourcarpet\":[{\"colorbar\":{\"outlinewidth\":0,\"ticks\":\"\"},\"type\":\"contourcarpet\"}],\"heatmap\":[{\"colorbar\":{\"outlinewidth\":0,\"ticks\":\"\"},\"colorscale\":[[0.0,\"#0d0887\"],[0.1111111111111111,\"#46039f\"],[0.2222222222222222,\"#7201a8\"],[0.3333333333333333,\"#9c179e\"],[0.4444444444444444,\"#bd3786\"],[0.5555555555555556,\"#d8576b\"],[0.6666666666666666,\"#ed7953\"],[0.7777777777777778,\"#fb9f3a\"],[0.8888888888888888,\"#fdca26\"],[1.0,\"#f0f921\"]],\"type\":\"heatmap\"}],\"heatmapgl\":[{\"colorbar\":{\"outlinewidth\":0,\"ticks\":\"\"},\"colorscale\":[[0.0,\"#0d0887\"],[0.1111111111111111,\"#46039f\"],[0.2222222222222222,\"#7201a8\"],[0.3333333333333333,\"#9c179e\"],[0.4444444444444444,\"#bd3786\"],[0.5555555555555556,\"#d8576b\"],[0.6666666666666666,\"#ed7953\"],[0.7777777777777778,\"#fb9f3a\"],[0.8888888888888888,\"#fdca26\"],[1.0,\"#f0f921\"]],\"type\":\"heatmapgl\"}],\"histogram\":[{\"marker\":{\"pattern\":{\"fillmode\":\"overlay\",\"size\":10,\"solidity\":0.2}},\"type\":\"histogram\"}],\"histogram2d\":[{\"colorbar\":{\"outlinewidth\":0,\"ticks\":\"\"},\"colorscale\":[[0.0,\"#0d0887\"],[0.1111111111111111,\"#46039f\"],[0.2222222222222222,\"#7201a8\"],[0.3333333333333333,\"#9c179e\"],[0.4444444444444444,\"#bd3786\"],[0.5555555555555556,\"#d8576b\"],[0.6666666666666666,\"#ed7953\"],[0.7777777777777778,\"#fb9f3a\"],[0.8888888888888888,\"#fdca26\"],[1.0,\"#f0f921\"]],\"type\":\"histogram2d\"}],\"histogram2dcontour\":[{\"colorbar\":{\"outlinewidth\":0,\"ticks\":\"\"},\"colorscale\":[[0.0,\"#0d0887\"],[0.1111111111111111,\"#46039f\"],[0.2222222222222222,\"#7201a8\"],[0.3333333333333333,\"#9c179e\"],[0.4444444444444444,\"#bd3786\"],[0.5555555555555556,\"#d8576b\"],[0.6666666666666666,\"#ed7953\"],[0.7777777777777778,\"#fb9f3a\"],[0.8888888888888888,\"#fdca26\"],[1.0,\"#f0f921\"]],\"type\":\"histogram2dcontour\"}],\"mesh3d\":[{\"colorbar\":{\"outlinewidth\":0,\"ticks\":\"\"},\"type\":\"mesh3d\"}],\"parcoords\":[{\"line\":{\"colorbar\":{\"outlinewidth\":0,\"ticks\":\"\"}},\"type\":\"parcoords\"}],\"pie\":[{\"automargin\":true,\"type\":\"pie\"}],\"scatter\":[{\"marker\":{\"colorbar\":{\"outlinewidth\":0,\"ticks\":\"\"}},\"type\":\"scatter\"}],\"scatter3d\":[{\"line\":{\"colorbar\":{\"outlinewidth\":0,\"ticks\":\"\"}},\"marker\":{\"colorbar\":{\"outlinewidth\":0,\"ticks\":\"\"}},\"type\":\"scatter3d\"}],\"scattercarpet\":[{\"marker\":{\"colorbar\":{\"outlinewidth\":0,\"ticks\":\"\"}},\"type\":\"scattercarpet\"}],\"scattergeo\":[{\"marker\":{\"colorbar\":{\"outlinewidth\":0,\"ticks\":\"\"}},\"type\":\"scattergeo\"}],\"scattergl\":[{\"marker\":{\"colorbar\":{\"outlinewidth\":0,\"ticks\":\"\"}},\"type\":\"scattergl\"}],\"scattermapbox\":[{\"marker\":{\"colorbar\":{\"outlinewidth\":0,\"ticks\":\"\"}},\"type\":\"scattermapbox\"}],\"scatterpolar\":[{\"marker\":{\"colorbar\":{\"outlinewidth\":0,\"ticks\":\"\"}},\"type\":\"scatterpolar\"}],\"scatterpolargl\":[{\"marker\":{\"colorbar\":{\"outlinewidth\":0,\"ticks\":\"\"}},\"type\":\"scatterpolargl\"}],\"scatterternary\":[{\"marker\":{\"colorbar\":{\"outlinewidth\":0,\"ticks\":\"\"}},\"type\":\"scatterternary\"}],\"surface\":[{\"colorbar\":{\"outlinewidth\":0,\"ticks\":\"\"},\"colorscale\":[[0.0,\"#0d0887\"],[0.1111111111111111,\"#46039f\"],[0.2222222222222222,\"#7201a8\"],[0.3333333333333333,\"#9c179e\"],[0.4444444444444444,\"#bd3786\"],[0.5555555555555556,\"#d8576b\"],[0.6666666666666666,\"#ed7953\"],[0.7777777777777778,\"#fb9f3a\"],[0.8888888888888888,\"#fdca26\"],[1.0,\"#f0f921\"]],\"type\":\"surface\"}],\"table\":[{\"cells\":{\"fill\":{\"color\":\"#EBF0F8\"},\"line\":{\"color\":\"white\"}},\"header\":{\"fill\":{\"color\":\"#C8D4E3\"},\"line\":{\"color\":\"white\"}},\"type\":\"table\"}]},\"layout\":{\"annotationdefaults\":{\"arrowcolor\":\"#2a3f5f\",\"arrowhead\":0,\"arrowwidth\":1},\"autotypenumbers\":\"strict\",\"coloraxis\":{\"colorbar\":{\"outlinewidth\":0,\"ticks\":\"\"}},\"colorscale\":{\"diverging\":[[0,\"#8e0152\"],[0.1,\"#c51b7d\"],[0.2,\"#de77ae\"],[0.3,\"#f1b6da\"],[0.4,\"#fde0ef\"],[0.5,\"#f7f7f7\"],[0.6,\"#e6f5d0\"],[0.7,\"#b8e186\"],[0.8,\"#7fbc41\"],[0.9,\"#4d9221\"],[1,\"#276419\"]],\"sequential\":[[0.0,\"#0d0887\"],[0.1111111111111111,\"#46039f\"],[0.2222222222222222,\"#7201a8\"],[0.3333333333333333,\"#9c179e\"],[0.4444444444444444,\"#bd3786\"],[0.5555555555555556,\"#d8576b\"],[0.6666666666666666,\"#ed7953\"],[0.7777777777777778,\"#fb9f3a\"],[0.8888888888888888,\"#fdca26\"],[1.0,\"#f0f921\"]],\"sequentialminus\":[[0.0,\"#0d0887\"],[0.1111111111111111,\"#46039f\"],[0.2222222222222222,\"#7201a8\"],[0.3333333333333333,\"#9c179e\"],[0.4444444444444444,\"#bd3786\"],[0.5555555555555556,\"#d8576b\"],[0.6666666666666666,\"#ed7953\"],[0.7777777777777778,\"#fb9f3a\"],[0.8888888888888888,\"#fdca26\"],[1.0,\"#f0f921\"]]},\"colorway\":[\"#636efa\",\"#EF553B\",\"#00cc96\",\"#ab63fa\",\"#FFA15A\",\"#19d3f3\",\"#FF6692\",\"#B6E880\",\"#FF97FF\",\"#FECB52\"],\"font\":{\"color\":\"#2a3f5f\"},\"geo\":{\"bgcolor\":\"white\",\"lakecolor\":\"white\",\"landcolor\":\"#E5ECF6\",\"showlakes\":true,\"showland\":true,\"subunitcolor\":\"white\"},\"hoverlabel\":{\"align\":\"left\"},\"hovermode\":\"closest\",\"mapbox\":{\"style\":\"light\"},\"paper_bgcolor\":\"white\",\"plot_bgcolor\":\"#E5ECF6\",\"polar\":{\"angularaxis\":{\"gridcolor\":\"white\",\"linecolor\":\"white\",\"ticks\":\"\"},\"bgcolor\":\"#E5ECF6\",\"radialaxis\":{\"gridcolor\":\"white\",\"linecolor\":\"white\",\"ticks\":\"\"}},\"scene\":{\"xaxis\":{\"backgroundcolor\":\"#E5ECF6\",\"gridcolor\":\"white\",\"gridwidth\":2,\"linecolor\":\"white\",\"showbackground\":true,\"ticks\":\"\",\"zerolinecolor\":\"white\"},\"yaxis\":{\"backgroundcolor\":\"#E5ECF6\",\"gridcolor\":\"white\",\"gridwidth\":2,\"linecolor\":\"white\",\"showbackground\":true,\"ticks\":\"\",\"zerolinecolor\":\"white\"},\"zaxis\":{\"backgroundcolor\":\"#E5ECF6\",\"gridcolor\":\"white\",\"gridwidth\":2,\"linecolor\":\"white\",\"showbackground\":true,\"ticks\":\"\",\"zerolinecolor\":\"white\"}},\"shapedefaults\":{\"line\":{\"color\":\"#2a3f5f\"}},\"ternary\":{\"aaxis\":{\"gridcolor\":\"white\",\"linecolor\":\"white\",\"ticks\":\"\"},\"baxis\":{\"gridcolor\":\"white\",\"linecolor\":\"white\",\"ticks\":\"\"},\"bgcolor\":\"#E5ECF6\",\"caxis\":{\"gridcolor\":\"white\",\"linecolor\":\"white\",\"ticks\":\"\"}},\"title\":{\"x\":0.05},\"xaxis\":{\"automargin\":true,\"gridcolor\":\"white\",\"linecolor\":\"white\",\"ticks\":\"\",\"title\":{\"standoff\":15},\"zerolinecolor\":\"white\",\"zerolinewidth\":2},\"yaxis\":{\"automargin\":true,\"gridcolor\":\"white\",\"linecolor\":\"white\",\"ticks\":\"\",\"title\":{\"standoff\":15},\"zerolinecolor\":\"white\",\"zerolinewidth\":2}}},\"xaxis\":{\"anchor\":\"y\",\"domain\":[0.0,1.0],\"title\":{\"text\":\"TIME\"},\"rangeslider\":{\"visible\":true}},\"yaxis\":{\"anchor\":\"x\",\"domain\":[0.0,1.0],\"title\":{\"text\":\"% of national total\"}},\"legend\":{\"title\":{\"text\":\"LOCATION\"},\"tracegroupgap\":0},\"title\":{\"text\":\"Government researchers\"}},                        {\"responsive\": true}                    ).then(function(){\n                            \nvar gd = document.getElementById('5808644a-2587-45a7-b70e-0b77353c83d0');\nvar x = new MutationObserver(function (mutations, observer) {{\n        var display = window.getComputedStyle(gd).display;\n        if (!display || display === 'none') {{\n            console.log([gd, 'removed!']);\n            Plotly.purge(gd);\n            observer.disconnect();\n        }}\n}});\n\n// Listen for the removal of the full notebook cells\nvar notebookContainer = gd.closest('#notebook-container');\nif (notebookContainer) {{\n    x.observe(notebookContainer, {childList: true});\n}}\n\n// Listen for the clearing of the current output cell\nvar outputEl = gd.closest('.output');\nif (outputEl) {{\n    x.observe(outputEl, {childList: true});\n}}\n\n                        })                };                });            </script>        </div>"
     },
     "metadata": {},
     "output_type": "display_data"
    },
    {
     "data": {
      "application/vnd.plotly.v1+json": {
       "data": [
        {
         "hovertemplate": "LOCATION=Austria<br>TIME=%{x}<br>Value=%{y}<extra></extra>",
         "legendgroup": "Austria",
         "line": {
          "color": "#636efa",
          "dash": "solid"
         },
         "marker": {
          "symbol": "circle"
         },
         "mode": "lines",
         "name": "Austria",
         "orientation": "v",
         "showlegend": true,
         "x": [
          1950,
          1951,
          1952,
          1953,
          1954,
          1955,
          1956,
          1957,
          1958,
          1959,
          1960,
          1961,
          1962,
          1963,
          1964,
          1965,
          1966,
          1967,
          1968,
          1969,
          1970,
          1971,
          1972,
          1973,
          1974,
          1975,
          1976,
          1977,
          1978,
          1979,
          1980,
          1981,
          1982,
          1983,
          1984,
          1985,
          1986,
          1987,
          1988,
          1989,
          1990,
          1991,
          1992,
          1993,
          1994,
          1995,
          1996,
          1997,
          1998,
          1999,
          2000,
          2001,
          2002,
          2003,
          2004,
          2005,
          2006,
          2007,
          2008,
          2009,
          2010,
          2011,
          2012,
          2013,
          2014,
          2015,
          2016,
          2017,
          2018,
          2019,
          2020
         ],
         "xaxis": "x",
         "y": [
          22.763593891941,
          22.9154095386154,
          23.0333071007533,
          23.1256968102194,
          22.8792389393461,
          22.3429781837471,
          21.925406901456,
          21.7730761169475,
          21.763519201392,
          21.7903033090397,
          22.0432976674553,
          22.4300018952065,
          22.6634336924239,
          22.8378645981618,
          23.0821973085914,
          23.3550807886078,
          23.6192899654278,
          23.8644771219946,
          24.0949817562174,
          24.2864083117246,
          24.3637076096351,
          24.3171705498393,
          24.1604909519245,
          23.8984117693971,
          23.5904728993328,
          23.2317790582621,
          22.749075576381,
          22.1729077232663,
          21.5645891034546,
          20.9559535991152,
          20.4173611448701,
          19.9719106690572,
          19.5445159450446,
          19.088709069534,
          18.6512240932077,
          18.2921999570653,
          18.0033168670112,
          17.7752817117662,
          17.6387750175767,
          17.5642943443235,
          17.5243720572817,
          17.5728840031407,
          17.6911424719372,
          17.7863831759434,
          17.8292837883711,
          17.8131288311758,
          17.7260606084973,
          17.5760014287075,
          17.4061517736021,
          17.2337254137502,
          17.0436840937215,
          16.8170694601652,
          16.6165292501807,
          16.4328127569444,
          16.2342441790081,
          16.0212578833202,
          15.7736357316229,
          15.5075309314833,
          15.2521029458366,
          15.0168501212554,
          14.8220401003747,
          14.6528106102926,
          14.485745897582,
          14.3704134487327,
          14.3004532339443,
          14.2843650961311,
          14.3616116879482,
          14.4177654921113,
          14.4312206774902,
          14.4219458398671,
          14.3933308249723
         ],
         "yaxis": "y",
         "type": "scatter"
        },
        {
         "hovertemplate": "LOCATION=Italy<br>TIME=%{x}<br>Value=%{y}<extra></extra>",
         "legendgroup": "Italy",
         "line": {
          "color": "#EF553B",
          "dash": "solid"
         },
         "marker": {
          "symbol": "circle"
         },
         "mode": "lines",
         "name": "Italy",
         "orientation": "v",
         "showlegend": true,
         "x": [
          1950,
          1951,
          1952,
          1953,
          1954,
          1955,
          1956,
          1957,
          1958,
          1959,
          1960,
          1961,
          1962,
          1963,
          1964,
          1965,
          1966,
          1967,
          1968,
          1969,
          1970,
          1971,
          1972,
          1973,
          1974,
          1975,
          1976,
          1977,
          1978,
          1979,
          1980,
          1981,
          1982,
          1983,
          1984,
          1985,
          1986,
          1987,
          1988,
          1989,
          1990,
          1991,
          1992,
          1993,
          1994,
          1995,
          1996,
          1997,
          1998,
          1999,
          2000,
          2001,
          2002,
          2003,
          2004,
          2005,
          2006,
          2007,
          2008,
          2009,
          2010,
          2011,
          2012,
          2013,
          2014,
          2015,
          2016,
          2017,
          2018,
          2019,
          2020
         ],
         "xaxis": "x",
         "y": [
          26.3187112279486,
          25.9827311023147,
          25.9786453649,
          25.6800751367653,
          25.3605031497377,
          25.0452536362679,
          24.8503196770358,
          24.7849794413556,
          24.7295414145592,
          24.7128822576802,
          24.767889741985,
          24.6723360821622,
          24.4425723934968,
          24.2877630166446,
          24.2521813228581,
          24.2971165215085,
          24.3666602086772,
          24.4636665897108,
          24.5406094193461,
          24.5856347915405,
          24.5720219157301,
          24.4909685469923,
          24.4259497443471,
          24.4121424829189,
          24.3729739704708,
          24.2361000746036,
          24.0144946362832,
          23.7362405388276,
          23.3609417281858,
          22.8561457089461,
          22.2736127499022,
          21.6529885468526,
          21.0528297494785,
          20.509533294595,
          19.9432897478555,
          19.3734480211093,
          18.7945994283675,
          18.1957009385686,
          17.6285540574498,
          17.0748498485437,
          16.551445621476,
          15.8594704069285,
          15.2925965663234,
          15.0598477194722,
          14.8560888335321,
          14.6943736716896,
          14.5701289998946,
          14.4743844261448,
          14.3938229887129,
          14.3331465796205,
          14.2833472199519,
          14.2327630725786,
          14.2139116458637,
          14.1880563569655,
          14.1454205940917,
          14.1310599724062,
          14.1215605248937,
          14.0979120058502,
          14.0843816614845,
          14.0936155370887,
          14.0883922577494,
          14.0554832434635,
          14.0132078681279,
          13.9528959064867,
          13.8595886507168,
          13.7375744440869,
          13.5893123239007,
          13.4312937643976,
          13.2559285989516,
          13.0585008035534,
          12.8616178897437
         ],
         "yaxis": "y",
         "type": "scatter"
        },
        {
         "hovertemplate": "LOCATION=Australia<br>TIME=%{x}<br>Value=%{y}<extra></extra>",
         "legendgroup": "Australia",
         "line": {
          "color": "#00cc96",
          "dash": "solid"
         },
         "marker": {
          "symbol": "circle"
         },
         "mode": "lines",
         "name": "Australia",
         "orientation": "v",
         "showlegend": true,
         "x": [
          1950,
          1951,
          1952,
          1953,
          1954,
          1955,
          1956,
          1957,
          1958,
          1959,
          1960,
          1961,
          1962,
          1963,
          1964,
          1965,
          1966,
          1967,
          1968,
          1969,
          1970,
          1971,
          1972,
          1973,
          1974,
          1975,
          1976,
          1977,
          1978,
          1979,
          1980,
          1981,
          1982,
          1983,
          1984,
          1985,
          1986,
          1987,
          1988,
          1989,
          1990,
          1991,
          1992,
          1993,
          1994,
          1995,
          1996,
          1997,
          1998,
          1999,
          2000,
          2001,
          2002,
          2003,
          2004,
          2005,
          2006,
          2007,
          2008,
          2009,
          2010,
          2011,
          2012,
          2013,
          2014,
          2015,
          2016,
          2017,
          2018,
          2019,
          2020
         ],
         "xaxis": "x",
         "y": [
          26.6044725934439,
          27.1453507011649,
          27.6014589243328,
          28.1226957675859,
          28.5906637734379,
          29.0389904018609,
          29.3873004084664,
          29.6404638907906,
          29.9865886369178,
          30.1221112923114,
          30.2053527980535,
          30.3096629299024,
          30.0490631278912,
          29.9168416323612,
          29.8176521363833,
          29.6272782583393,
          29.4815344595085,
          29.2840254128331,
          29.0325919640326,
          28.9207857057001,
          28.8280594073133,
          28.6768271707966,
          28.5089130332817,
          28.2331761367919,
          27.8683928835201,
          27.4931647207819,
          26.9869065835355,
          26.519045556887,
          26.0672785600646,
          25.6165914918913,
          25.252834977254,
          24.9646524955003,
          24.6636267178741,
          24.3676020588468,
          23.9791465532895,
          23.5968290973728,
          23.0954998486111,
          22.6719906954518,
          22.3747538434775,
          22.1531214643435,
          22.0039017580179,
          21.9018868046792,
          21.8156566573992,
          21.7255271506217,
          21.6269013541234,
          21.5251230194122,
          21.3697437119498,
          21.2146944067908,
          21.047982371059,
          20.8909039337317,
          20.7230176655367,
          20.5462746218476,
          20.3363082521296,
          20.1294150416387,
          19.938190077602,
          19.7423888493166,
          19.5706501101219,
          19.4302594890574,
          19.2990615787447,
          19.1688480356937,
          19.0574874896456,
          18.9507987994999,
          18.9324152741344,
          18.9290106432734,
          18.9120011232047,
          18.8928365159633,
          18.9021312842879,
          18.8567368483521,
          18.7840075495479,
          18.696974995215,
          18.6033570662228
         ],
         "yaxis": "y",
         "type": "scatter"
        },
        {
         "hovertemplate": "LOCATION=United States<br>TIME=%{x}<br>Value=%{y}<extra></extra>",
         "legendgroup": "United States",
         "line": {
          "color": "#ab63fa",
          "dash": "solid"
         },
         "marker": {
          "symbol": "circle"
         },
         "mode": "lines",
         "name": "United States",
         "orientation": "v",
         "showlegend": true,
         "x": [
          1950,
          1951,
          1952,
          1953,
          1954,
          1955,
          1956,
          1957,
          1958,
          1959,
          1960,
          1961,
          1962,
          1963,
          1964,
          1965,
          1966,
          1967,
          1968,
          1969,
          1970,
          1971,
          1972,
          1973,
          1974,
          1975,
          1976,
          1977,
          1978,
          1979,
          1980,
          1981,
          1982,
          1983,
          1984,
          1985,
          1986,
          1987,
          1988,
          1989,
          1990,
          1991,
          1992,
          1993,
          1994,
          1995,
          1996,
          1997,
          1998,
          1999,
          2000,
          2001,
          2002,
          2003,
          2004,
          2005,
          2006,
          2007,
          2008,
          2009,
          2010,
          2011,
          2012,
          2013,
          2014,
          2015,
          2016,
          2017,
          2018,
          2019,
          2020
         ],
         "xaxis": "x",
         "y": [
          26.9237338219556,
          27.4416576016219,
          27.9813572267928,
          28.4932922719366,
          29.0014380173098,
          29.5020269906801,
          29.9421026967835,
          30.3304153703019,
          30.5196814417117,
          30.7818351844047,
          31.0380182541366,
          31.3317083006152,
          31.0413602798237,
          30.8944538774674,
          30.7197187979573,
          30.4937645238071,
          30.1480754474486,
          29.7206139319499,
          29.2392802385451,
          28.7448889228872,
          28.2554775547027,
          27.802295954183,
          27.1786324143801,
          26.5016286157986,
          25.8131718768336,
          25.1704846951866,
          24.480444356214,
          23.8818849077544,
          23.3415096272744,
          22.8630977568656,
          22.5723155487673,
          22.3359063567989,
          22.1571977173987,
          22.014723053348,
          21.831072360628,
          21.6598390253484,
          21.4610891676824,
          21.4039129102884,
          21.4524242886214,
          21.5630228649526,
          21.6911584050967,
          21.8376652334454,
          21.9110297758771,
          21.9671222590668,
          21.96775169397,
          21.8837602043062,
          21.7910751959385,
          21.6717646824735,
          21.5622791676864,
          21.4862858024082,
          21.3635263415721,
          21.2129272116677,
          21.0562327201985,
          20.898652916189,
          20.7140384461213,
          20.4790682502407,
          20.2817638072096,
          20.1445313732053,
          20.0291327056453,
          19.9130542521761,
          19.7856620038029,
          19.63413650931,
          19.4749309684867,
          19.3279036397484,
          19.1838751971037,
          19.0279757502763,
          18.8878455190241,
          18.7648802544747,
          18.6267477872132,
          18.4610464096159,
          18.2993418471943
         ],
         "yaxis": "y",
         "type": "scatter"
        },
        {
         "hovertemplate": "LOCATION=Belgium<br>TIME=%{x}<br>Value=%{y}<extra></extra>",
         "legendgroup": "Belgium",
         "line": {
          "color": "#FFA15A",
          "dash": "solid"
         },
         "marker": {
          "symbol": "circle"
         },
         "mode": "lines",
         "name": "Belgium",
         "orientation": "v",
         "showlegend": true,
         "x": [
          1950,
          1951,
          1952,
          1953,
          1954,
          1955,
          1956,
          1957,
          1958,
          1959,
          1960,
          1961,
          1962,
          1963,
          1964,
          1965,
          1966,
          1967,
          1968,
          1969,
          1970,
          1971,
          1972,
          1973,
          1974,
          1975,
          1976,
          1977,
          1978,
          1979,
          1980,
          1981,
          1982,
          1983,
          1984,
          1985,
          1986,
          1987,
          1988,
          1989,
          1990,
          1991,
          1992,
          1993,
          1994,
          1995,
          1996,
          1997,
          1998,
          1999,
          2000,
          2001,
          2002,
          2003,
          2004,
          2005,
          2006,
          2007,
          2008,
          2009,
          2010,
          2011,
          2012,
          2013,
          2014,
          2015,
          2016,
          2017,
          2018,
          2019,
          2020
         ],
         "xaxis": "x",
         "y": [
          20.9061101568876,
          21.0592960488275,
          21.2167934935435,
          21.362965720739,
          21.5279678580362,
          21.794854591856,
          22.196821981667,
          22.6553417769397,
          23.028615930142,
          23.2844909856551,
          23.5328273696699,
          23.7548383331439,
          23.8197648780803,
          23.8061222183111,
          23.8267417094738,
          23.8704908075812,
          23.9011953221559,
          23.8758287112471,
          23.8013106892409,
          23.6949427811412,
          23.5906913640342,
          23.4625761462488,
          23.2419037360797,
          22.9679745498768,
          22.6233624833972,
          22.2143724427847,
          21.7963159951062,
          21.3716733408895,
          20.9405953574631,
          20.5009716316853,
          20.1062089655362,
          19.8438236320951,
          19.602948488901,
          19.3523711227443,
          19.0766112126463,
          18.7522931163955,
          18.4825849660266,
          18.3047635952704,
          18.1942935859777,
          18.1216432740906,
          18.1212651913071,
          18.1545358752064,
          18.1712794165153,
          18.1477496259351,
          18.079182838469,
          17.9733000921197,
          17.8613382121117,
          17.7705361406649,
          17.7033899401471,
          17.6505187201893,
          17.6070384412745,
          17.548802219904,
          17.4587330441373,
          17.3481731628266,
          17.2356211172048,
          17.1347134836592,
          17.0356891894505,
          16.93153232902,
          16.8783291391129,
          16.8902453369602,
          16.9277952756845,
          16.9637451408163,
          16.9776453168251,
          16.9850822015539,
          16.9894429030702,
          16.9787286067486,
          16.9642540156917,
          16.9528792683742,
          16.9279464456398,
          16.8764885570374,
          16.7914522525454
         ],
         "yaxis": "y",
         "type": "scatter"
        }
       ],
       "layout": {
        "template": {
         "data": {
          "bar": [
           {
            "error_x": {
             "color": "#2a3f5f"
            },
            "error_y": {
             "color": "#2a3f5f"
            },
            "marker": {
             "line": {
              "color": "#E5ECF6",
              "width": 0.5
             },
             "pattern": {
              "fillmode": "overlay",
              "size": 10,
              "solidity": 0.2
             }
            },
            "type": "bar"
           }
          ],
          "barpolar": [
           {
            "marker": {
             "line": {
              "color": "#E5ECF6",
              "width": 0.5
             },
             "pattern": {
              "fillmode": "overlay",
              "size": 10,
              "solidity": 0.2
             }
            },
            "type": "barpolar"
           }
          ],
          "carpet": [
           {
            "aaxis": {
             "endlinecolor": "#2a3f5f",
             "gridcolor": "white",
             "linecolor": "white",
             "minorgridcolor": "white",
             "startlinecolor": "#2a3f5f"
            },
            "baxis": {
             "endlinecolor": "#2a3f5f",
             "gridcolor": "white",
             "linecolor": "white",
             "minorgridcolor": "white",
             "startlinecolor": "#2a3f5f"
            },
            "type": "carpet"
           }
          ],
          "choropleth": [
           {
            "colorbar": {
             "outlinewidth": 0,
             "ticks": ""
            },
            "type": "choropleth"
           }
          ],
          "contour": [
           {
            "colorbar": {
             "outlinewidth": 0,
             "ticks": ""
            },
            "colorscale": [
             [
              0.0,
              "#0d0887"
             ],
             [
              0.1111111111111111,
              "#46039f"
             ],
             [
              0.2222222222222222,
              "#7201a8"
             ],
             [
              0.3333333333333333,
              "#9c179e"
             ],
             [
              0.4444444444444444,
              "#bd3786"
             ],
             [
              0.5555555555555556,
              "#d8576b"
             ],
             [
              0.6666666666666666,
              "#ed7953"
             ],
             [
              0.7777777777777778,
              "#fb9f3a"
             ],
             [
              0.8888888888888888,
              "#fdca26"
             ],
             [
              1.0,
              "#f0f921"
             ]
            ],
            "type": "contour"
           }
          ],
          "contourcarpet": [
           {
            "colorbar": {
             "outlinewidth": 0,
             "ticks": ""
            },
            "type": "contourcarpet"
           }
          ],
          "heatmap": [
           {
            "colorbar": {
             "outlinewidth": 0,
             "ticks": ""
            },
            "colorscale": [
             [
              0.0,
              "#0d0887"
             ],
             [
              0.1111111111111111,
              "#46039f"
             ],
             [
              0.2222222222222222,
              "#7201a8"
             ],
             [
              0.3333333333333333,
              "#9c179e"
             ],
             [
              0.4444444444444444,
              "#bd3786"
             ],
             [
              0.5555555555555556,
              "#d8576b"
             ],
             [
              0.6666666666666666,
              "#ed7953"
             ],
             [
              0.7777777777777778,
              "#fb9f3a"
             ],
             [
              0.8888888888888888,
              "#fdca26"
             ],
             [
              1.0,
              "#f0f921"
             ]
            ],
            "type": "heatmap"
           }
          ],
          "heatmapgl": [
           {
            "colorbar": {
             "outlinewidth": 0,
             "ticks": ""
            },
            "colorscale": [
             [
              0.0,
              "#0d0887"
             ],
             [
              0.1111111111111111,
              "#46039f"
             ],
             [
              0.2222222222222222,
              "#7201a8"
             ],
             [
              0.3333333333333333,
              "#9c179e"
             ],
             [
              0.4444444444444444,
              "#bd3786"
             ],
             [
              0.5555555555555556,
              "#d8576b"
             ],
             [
              0.6666666666666666,
              "#ed7953"
             ],
             [
              0.7777777777777778,
              "#fb9f3a"
             ],
             [
              0.8888888888888888,
              "#fdca26"
             ],
             [
              1.0,
              "#f0f921"
             ]
            ],
            "type": "heatmapgl"
           }
          ],
          "histogram": [
           {
            "marker": {
             "pattern": {
              "fillmode": "overlay",
              "size": 10,
              "solidity": 0.2
             }
            },
            "type": "histogram"
           }
          ],
          "histogram2d": [
           {
            "colorbar": {
             "outlinewidth": 0,
             "ticks": ""
            },
            "colorscale": [
             [
              0.0,
              "#0d0887"
             ],
             [
              0.1111111111111111,
              "#46039f"
             ],
             [
              0.2222222222222222,
              "#7201a8"
             ],
             [
              0.3333333333333333,
              "#9c179e"
             ],
             [
              0.4444444444444444,
              "#bd3786"
             ],
             [
              0.5555555555555556,
              "#d8576b"
             ],
             [
              0.6666666666666666,
              "#ed7953"
             ],
             [
              0.7777777777777778,
              "#fb9f3a"
             ],
             [
              0.8888888888888888,
              "#fdca26"
             ],
             [
              1.0,
              "#f0f921"
             ]
            ],
            "type": "histogram2d"
           }
          ],
          "histogram2dcontour": [
           {
            "colorbar": {
             "outlinewidth": 0,
             "ticks": ""
            },
            "colorscale": [
             [
              0.0,
              "#0d0887"
             ],
             [
              0.1111111111111111,
              "#46039f"
             ],
             [
              0.2222222222222222,
              "#7201a8"
             ],
             [
              0.3333333333333333,
              "#9c179e"
             ],
             [
              0.4444444444444444,
              "#bd3786"
             ],
             [
              0.5555555555555556,
              "#d8576b"
             ],
             [
              0.6666666666666666,
              "#ed7953"
             ],
             [
              0.7777777777777778,
              "#fb9f3a"
             ],
             [
              0.8888888888888888,
              "#fdca26"
             ],
             [
              1.0,
              "#f0f921"
             ]
            ],
            "type": "histogram2dcontour"
           }
          ],
          "mesh3d": [
           {
            "colorbar": {
             "outlinewidth": 0,
             "ticks": ""
            },
            "type": "mesh3d"
           }
          ],
          "parcoords": [
           {
            "line": {
             "colorbar": {
              "outlinewidth": 0,
              "ticks": ""
             }
            },
            "type": "parcoords"
           }
          ],
          "pie": [
           {
            "automargin": true,
            "type": "pie"
           }
          ],
          "scatter": [
           {
            "marker": {
             "colorbar": {
              "outlinewidth": 0,
              "ticks": ""
             }
            },
            "type": "scatter"
           }
          ],
          "scatter3d": [
           {
            "line": {
             "colorbar": {
              "outlinewidth": 0,
              "ticks": ""
             }
            },
            "marker": {
             "colorbar": {
              "outlinewidth": 0,
              "ticks": ""
             }
            },
            "type": "scatter3d"
           }
          ],
          "scattercarpet": [
           {
            "marker": {
             "colorbar": {
              "outlinewidth": 0,
              "ticks": ""
             }
            },
            "type": "scattercarpet"
           }
          ],
          "scattergeo": [
           {
            "marker": {
             "colorbar": {
              "outlinewidth": 0,
              "ticks": ""
             }
            },
            "type": "scattergeo"
           }
          ],
          "scattergl": [
           {
            "marker": {
             "colorbar": {
              "outlinewidth": 0,
              "ticks": ""
             }
            },
            "type": "scattergl"
           }
          ],
          "scattermapbox": [
           {
            "marker": {
             "colorbar": {
              "outlinewidth": 0,
              "ticks": ""
             }
            },
            "type": "scattermapbox"
           }
          ],
          "scatterpolar": [
           {
            "marker": {
             "colorbar": {
              "outlinewidth": 0,
              "ticks": ""
             }
            },
            "type": "scatterpolar"
           }
          ],
          "scatterpolargl": [
           {
            "marker": {
             "colorbar": {
              "outlinewidth": 0,
              "ticks": ""
             }
            },
            "type": "scatterpolargl"
           }
          ],
          "scatterternary": [
           {
            "marker": {
             "colorbar": {
              "outlinewidth": 0,
              "ticks": ""
             }
            },
            "type": "scatterternary"
           }
          ],
          "surface": [
           {
            "colorbar": {
             "outlinewidth": 0,
             "ticks": ""
            },
            "colorscale": [
             [
              0.0,
              "#0d0887"
             ],
             [
              0.1111111111111111,
              "#46039f"
             ],
             [
              0.2222222222222222,
              "#7201a8"
             ],
             [
              0.3333333333333333,
              "#9c179e"
             ],
             [
              0.4444444444444444,
              "#bd3786"
             ],
             [
              0.5555555555555556,
              "#d8576b"
             ],
             [
              0.6666666666666666,
              "#ed7953"
             ],
             [
              0.7777777777777778,
              "#fb9f3a"
             ],
             [
              0.8888888888888888,
              "#fdca26"
             ],
             [
              1.0,
              "#f0f921"
             ]
            ],
            "type": "surface"
           }
          ],
          "table": [
           {
            "cells": {
             "fill": {
              "color": "#EBF0F8"
             },
             "line": {
              "color": "white"
             }
            },
            "header": {
             "fill": {
              "color": "#C8D4E3"
             },
             "line": {
              "color": "white"
             }
            },
            "type": "table"
           }
          ]
         },
         "layout": {
          "annotationdefaults": {
           "arrowcolor": "#2a3f5f",
           "arrowhead": 0,
           "arrowwidth": 1
          },
          "autotypenumbers": "strict",
          "coloraxis": {
           "colorbar": {
            "outlinewidth": 0,
            "ticks": ""
           }
          },
          "colorscale": {
           "diverging": [
            [
             0,
             "#8e0152"
            ],
            [
             0.1,
             "#c51b7d"
            ],
            [
             0.2,
             "#de77ae"
            ],
            [
             0.3,
             "#f1b6da"
            ],
            [
             0.4,
             "#fde0ef"
            ],
            [
             0.5,
             "#f7f7f7"
            ],
            [
             0.6,
             "#e6f5d0"
            ],
            [
             0.7,
             "#b8e186"
            ],
            [
             0.8,
             "#7fbc41"
            ],
            [
             0.9,
             "#4d9221"
            ],
            [
             1,
             "#276419"
            ]
           ],
           "sequential": [
            [
             0.0,
             "#0d0887"
            ],
            [
             0.1111111111111111,
             "#46039f"
            ],
            [
             0.2222222222222222,
             "#7201a8"
            ],
            [
             0.3333333333333333,
             "#9c179e"
            ],
            [
             0.4444444444444444,
             "#bd3786"
            ],
            [
             0.5555555555555556,
             "#d8576b"
            ],
            [
             0.6666666666666666,
             "#ed7953"
            ],
            [
             0.7777777777777778,
             "#fb9f3a"
            ],
            [
             0.8888888888888888,
             "#fdca26"
            ],
            [
             1.0,
             "#f0f921"
            ]
           ],
           "sequentialminus": [
            [
             0.0,
             "#0d0887"
            ],
            [
             0.1111111111111111,
             "#46039f"
            ],
            [
             0.2222222222222222,
             "#7201a8"
            ],
            [
             0.3333333333333333,
             "#9c179e"
            ],
            [
             0.4444444444444444,
             "#bd3786"
            ],
            [
             0.5555555555555556,
             "#d8576b"
            ],
            [
             0.6666666666666666,
             "#ed7953"
            ],
            [
             0.7777777777777778,
             "#fb9f3a"
            ],
            [
             0.8888888888888888,
             "#fdca26"
            ],
            [
             1.0,
             "#f0f921"
            ]
           ]
          },
          "colorway": [
           "#636efa",
           "#EF553B",
           "#00cc96",
           "#ab63fa",
           "#FFA15A",
           "#19d3f3",
           "#FF6692",
           "#B6E880",
           "#FF97FF",
           "#FECB52"
          ],
          "font": {
           "color": "#2a3f5f"
          },
          "geo": {
           "bgcolor": "white",
           "lakecolor": "white",
           "landcolor": "#E5ECF6",
           "showlakes": true,
           "showland": true,
           "subunitcolor": "white"
          },
          "hoverlabel": {
           "align": "left"
          },
          "hovermode": "closest",
          "mapbox": {
           "style": "light"
          },
          "paper_bgcolor": "white",
          "plot_bgcolor": "#E5ECF6",
          "polar": {
           "angularaxis": {
            "gridcolor": "white",
            "linecolor": "white",
            "ticks": ""
           },
           "bgcolor": "#E5ECF6",
           "radialaxis": {
            "gridcolor": "white",
            "linecolor": "white",
            "ticks": ""
           }
          },
          "scene": {
           "xaxis": {
            "backgroundcolor": "#E5ECF6",
            "gridcolor": "white",
            "gridwidth": 2,
            "linecolor": "white",
            "showbackground": true,
            "ticks": "",
            "zerolinecolor": "white"
           },
           "yaxis": {
            "backgroundcolor": "#E5ECF6",
            "gridcolor": "white",
            "gridwidth": 2,
            "linecolor": "white",
            "showbackground": true,
            "ticks": "",
            "zerolinecolor": "white"
           },
           "zaxis": {
            "backgroundcolor": "#E5ECF6",
            "gridcolor": "white",
            "gridwidth": 2,
            "linecolor": "white",
            "showbackground": true,
            "ticks": "",
            "zerolinecolor": "white"
           }
          },
          "shapedefaults": {
           "line": {
            "color": "#2a3f5f"
           }
          },
          "ternary": {
           "aaxis": {
            "gridcolor": "white",
            "linecolor": "white",
            "ticks": ""
           },
           "baxis": {
            "gridcolor": "white",
            "linecolor": "white",
            "ticks": ""
           },
           "bgcolor": "#E5ECF6",
           "caxis": {
            "gridcolor": "white",
            "linecolor": "white",
            "ticks": ""
           }
          },
          "title": {
           "x": 0.05
          },
          "xaxis": {
           "automargin": true,
           "gridcolor": "white",
           "linecolor": "white",
           "ticks": "",
           "title": {
            "standoff": 15
           },
           "zerolinecolor": "white",
           "zerolinewidth": 2
          },
          "yaxis": {
           "automargin": true,
           "gridcolor": "white",
           "linecolor": "white",
           "ticks": "",
           "title": {
            "standoff": 15
           },
           "zerolinecolor": "white",
           "zerolinewidth": 2
          }
         }
        },
        "xaxis": {
         "anchor": "y",
         "domain": [
          0.0,
          1.0
         ],
         "title": {
          "text": "TIME"
         },
         "rangeslider": {
          "visible": true
         }
        },
        "yaxis": {
         "anchor": "x",
         "domain": [
          0.0,
          1.0
         ],
         "title": {
          "text": "% of population"
         }
        },
        "legend": {
         "title": {
          "text": "LOCATION"
         },
         "tracegroupgap": 0
        },
        "title": {
         "text": "Young population"
        }
       },
       "config": {
        "plotlyServerURL": "https://plot.ly"
       }
      },
      "text/html": "<div>                            <div id=\"ccaa0cd2-7791-45d9-a24e-d868e3aebc83\" class=\"plotly-graph-div\" style=\"height:525px; width:100%;\"></div>            <script type=\"text/javascript\">                require([\"plotly\"], function(Plotly) {                    window.PLOTLYENV=window.PLOTLYENV || {};                                    if (document.getElementById(\"ccaa0cd2-7791-45d9-a24e-d868e3aebc83\")) {                    Plotly.newPlot(                        \"ccaa0cd2-7791-45d9-a24e-d868e3aebc83\",                        [{\"hovertemplate\":\"LOCATION=Austria<br>TIME=%{x}<br>Value=%{y}<extra></extra>\",\"legendgroup\":\"Austria\",\"line\":{\"color\":\"#636efa\",\"dash\":\"solid\"},\"marker\":{\"symbol\":\"circle\"},\"mode\":\"lines\",\"name\":\"Austria\",\"orientation\":\"v\",\"showlegend\":true,\"x\":[1950,1951,1952,1953,1954,1955,1956,1957,1958,1959,1960,1961,1962,1963,1964,1965,1966,1967,1968,1969,1970,1971,1972,1973,1974,1975,1976,1977,1978,1979,1980,1981,1982,1983,1984,1985,1986,1987,1988,1989,1990,1991,1992,1993,1994,1995,1996,1997,1998,1999,2000,2001,2002,2003,2004,2005,2006,2007,2008,2009,2010,2011,2012,2013,2014,2015,2016,2017,2018,2019,2020],\"xaxis\":\"x\",\"y\":[22.763593891941,22.9154095386154,23.0333071007533,23.1256968102194,22.8792389393461,22.3429781837471,21.925406901456,21.7730761169475,21.763519201392,21.7903033090397,22.0432976674553,22.4300018952065,22.6634336924239,22.8378645981618,23.0821973085914,23.3550807886078,23.6192899654278,23.8644771219946,24.0949817562174,24.2864083117246,24.3637076096351,24.3171705498393,24.1604909519245,23.8984117693971,23.5904728993328,23.2317790582621,22.749075576381,22.1729077232663,21.5645891034546,20.9559535991152,20.4173611448701,19.9719106690572,19.5445159450446,19.088709069534,18.6512240932077,18.2921999570653,18.0033168670112,17.7752817117662,17.6387750175767,17.5642943443235,17.5243720572817,17.5728840031407,17.6911424719372,17.7863831759434,17.8292837883711,17.8131288311758,17.7260606084973,17.5760014287075,17.4061517736021,17.2337254137502,17.0436840937215,16.8170694601652,16.6165292501807,16.4328127569444,16.2342441790081,16.0212578833202,15.7736357316229,15.5075309314833,15.2521029458366,15.0168501212554,14.8220401003747,14.6528106102926,14.485745897582,14.3704134487327,14.3004532339443,14.2843650961311,14.3616116879482,14.4177654921113,14.4312206774902,14.4219458398671,14.3933308249723],\"yaxis\":\"y\",\"type\":\"scatter\"},{\"hovertemplate\":\"LOCATION=Italy<br>TIME=%{x}<br>Value=%{y}<extra></extra>\",\"legendgroup\":\"Italy\",\"line\":{\"color\":\"#EF553B\",\"dash\":\"solid\"},\"marker\":{\"symbol\":\"circle\"},\"mode\":\"lines\",\"name\":\"Italy\",\"orientation\":\"v\",\"showlegend\":true,\"x\":[1950,1951,1952,1953,1954,1955,1956,1957,1958,1959,1960,1961,1962,1963,1964,1965,1966,1967,1968,1969,1970,1971,1972,1973,1974,1975,1976,1977,1978,1979,1980,1981,1982,1983,1984,1985,1986,1987,1988,1989,1990,1991,1992,1993,1994,1995,1996,1997,1998,1999,2000,2001,2002,2003,2004,2005,2006,2007,2008,2009,2010,2011,2012,2013,2014,2015,2016,2017,2018,2019,2020],\"xaxis\":\"x\",\"y\":[26.3187112279486,25.9827311023147,25.9786453649,25.6800751367653,25.3605031497377,25.0452536362679,24.8503196770358,24.7849794413556,24.7295414145592,24.7128822576802,24.767889741985,24.6723360821622,24.4425723934968,24.2877630166446,24.2521813228581,24.2971165215085,24.3666602086772,24.4636665897108,24.5406094193461,24.5856347915405,24.5720219157301,24.4909685469923,24.4259497443471,24.4121424829189,24.3729739704708,24.2361000746036,24.0144946362832,23.7362405388276,23.3609417281858,22.8561457089461,22.2736127499022,21.6529885468526,21.0528297494785,20.509533294595,19.9432897478555,19.3734480211093,18.7945994283675,18.1957009385686,17.6285540574498,17.0748498485437,16.551445621476,15.8594704069285,15.2925965663234,15.0598477194722,14.8560888335321,14.6943736716896,14.5701289998946,14.4743844261448,14.3938229887129,14.3331465796205,14.2833472199519,14.2327630725786,14.2139116458637,14.1880563569655,14.1454205940917,14.1310599724062,14.1215605248937,14.0979120058502,14.0843816614845,14.0936155370887,14.0883922577494,14.0554832434635,14.0132078681279,13.9528959064867,13.8595886507168,13.7375744440869,13.5893123239007,13.4312937643976,13.2559285989516,13.0585008035534,12.8616178897437],\"yaxis\":\"y\",\"type\":\"scatter\"},{\"hovertemplate\":\"LOCATION=Australia<br>TIME=%{x}<br>Value=%{y}<extra></extra>\",\"legendgroup\":\"Australia\",\"line\":{\"color\":\"#00cc96\",\"dash\":\"solid\"},\"marker\":{\"symbol\":\"circle\"},\"mode\":\"lines\",\"name\":\"Australia\",\"orientation\":\"v\",\"showlegend\":true,\"x\":[1950,1951,1952,1953,1954,1955,1956,1957,1958,1959,1960,1961,1962,1963,1964,1965,1966,1967,1968,1969,1970,1971,1972,1973,1974,1975,1976,1977,1978,1979,1980,1981,1982,1983,1984,1985,1986,1987,1988,1989,1990,1991,1992,1993,1994,1995,1996,1997,1998,1999,2000,2001,2002,2003,2004,2005,2006,2007,2008,2009,2010,2011,2012,2013,2014,2015,2016,2017,2018,2019,2020],\"xaxis\":\"x\",\"y\":[26.6044725934439,27.1453507011649,27.6014589243328,28.1226957675859,28.5906637734379,29.0389904018609,29.3873004084664,29.6404638907906,29.9865886369178,30.1221112923114,30.2053527980535,30.3096629299024,30.0490631278912,29.9168416323612,29.8176521363833,29.6272782583393,29.4815344595085,29.2840254128331,29.0325919640326,28.9207857057001,28.8280594073133,28.6768271707966,28.5089130332817,28.2331761367919,27.8683928835201,27.4931647207819,26.9869065835355,26.519045556887,26.0672785600646,25.6165914918913,25.252834977254,24.9646524955003,24.6636267178741,24.3676020588468,23.9791465532895,23.5968290973728,23.0954998486111,22.6719906954518,22.3747538434775,22.1531214643435,22.0039017580179,21.9018868046792,21.8156566573992,21.7255271506217,21.6269013541234,21.5251230194122,21.3697437119498,21.2146944067908,21.047982371059,20.8909039337317,20.7230176655367,20.5462746218476,20.3363082521296,20.1294150416387,19.938190077602,19.7423888493166,19.5706501101219,19.4302594890574,19.2990615787447,19.1688480356937,19.0574874896456,18.9507987994999,18.9324152741344,18.9290106432734,18.9120011232047,18.8928365159633,18.9021312842879,18.8567368483521,18.7840075495479,18.696974995215,18.6033570662228],\"yaxis\":\"y\",\"type\":\"scatter\"},{\"hovertemplate\":\"LOCATION=United States<br>TIME=%{x}<br>Value=%{y}<extra></extra>\",\"legendgroup\":\"United States\",\"line\":{\"color\":\"#ab63fa\",\"dash\":\"solid\"},\"marker\":{\"symbol\":\"circle\"},\"mode\":\"lines\",\"name\":\"United States\",\"orientation\":\"v\",\"showlegend\":true,\"x\":[1950,1951,1952,1953,1954,1955,1956,1957,1958,1959,1960,1961,1962,1963,1964,1965,1966,1967,1968,1969,1970,1971,1972,1973,1974,1975,1976,1977,1978,1979,1980,1981,1982,1983,1984,1985,1986,1987,1988,1989,1990,1991,1992,1993,1994,1995,1996,1997,1998,1999,2000,2001,2002,2003,2004,2005,2006,2007,2008,2009,2010,2011,2012,2013,2014,2015,2016,2017,2018,2019,2020],\"xaxis\":\"x\",\"y\":[26.9237338219556,27.4416576016219,27.9813572267928,28.4932922719366,29.0014380173098,29.5020269906801,29.9421026967835,30.3304153703019,30.5196814417117,30.7818351844047,31.0380182541366,31.3317083006152,31.0413602798237,30.8944538774674,30.7197187979573,30.4937645238071,30.1480754474486,29.7206139319499,29.2392802385451,28.7448889228872,28.2554775547027,27.802295954183,27.1786324143801,26.5016286157986,25.8131718768336,25.1704846951866,24.480444356214,23.8818849077544,23.3415096272744,22.8630977568656,22.5723155487673,22.3359063567989,22.1571977173987,22.014723053348,21.831072360628,21.6598390253484,21.4610891676824,21.4039129102884,21.4524242886214,21.5630228649526,21.6911584050967,21.8376652334454,21.9110297758771,21.9671222590668,21.96775169397,21.8837602043062,21.7910751959385,21.6717646824735,21.5622791676864,21.4862858024082,21.3635263415721,21.2129272116677,21.0562327201985,20.898652916189,20.7140384461213,20.4790682502407,20.2817638072096,20.1445313732053,20.0291327056453,19.9130542521761,19.7856620038029,19.63413650931,19.4749309684867,19.3279036397484,19.1838751971037,19.0279757502763,18.8878455190241,18.7648802544747,18.6267477872132,18.4610464096159,18.2993418471943],\"yaxis\":\"y\",\"type\":\"scatter\"},{\"hovertemplate\":\"LOCATION=Belgium<br>TIME=%{x}<br>Value=%{y}<extra></extra>\",\"legendgroup\":\"Belgium\",\"line\":{\"color\":\"#FFA15A\",\"dash\":\"solid\"},\"marker\":{\"symbol\":\"circle\"},\"mode\":\"lines\",\"name\":\"Belgium\",\"orientation\":\"v\",\"showlegend\":true,\"x\":[1950,1951,1952,1953,1954,1955,1956,1957,1958,1959,1960,1961,1962,1963,1964,1965,1966,1967,1968,1969,1970,1971,1972,1973,1974,1975,1976,1977,1978,1979,1980,1981,1982,1983,1984,1985,1986,1987,1988,1989,1990,1991,1992,1993,1994,1995,1996,1997,1998,1999,2000,2001,2002,2003,2004,2005,2006,2007,2008,2009,2010,2011,2012,2013,2014,2015,2016,2017,2018,2019,2020],\"xaxis\":\"x\",\"y\":[20.9061101568876,21.0592960488275,21.2167934935435,21.362965720739,21.5279678580362,21.794854591856,22.196821981667,22.6553417769397,23.028615930142,23.2844909856551,23.5328273696699,23.7548383331439,23.8197648780803,23.8061222183111,23.8267417094738,23.8704908075812,23.9011953221559,23.8758287112471,23.8013106892409,23.6949427811412,23.5906913640342,23.4625761462488,23.2419037360797,22.9679745498768,22.6233624833972,22.2143724427847,21.7963159951062,21.3716733408895,20.9405953574631,20.5009716316853,20.1062089655362,19.8438236320951,19.602948488901,19.3523711227443,19.0766112126463,18.7522931163955,18.4825849660266,18.3047635952704,18.1942935859777,18.1216432740906,18.1212651913071,18.1545358752064,18.1712794165153,18.1477496259351,18.079182838469,17.9733000921197,17.8613382121117,17.7705361406649,17.7033899401471,17.6505187201893,17.6070384412745,17.548802219904,17.4587330441373,17.3481731628266,17.2356211172048,17.1347134836592,17.0356891894505,16.93153232902,16.8783291391129,16.8902453369602,16.9277952756845,16.9637451408163,16.9776453168251,16.9850822015539,16.9894429030702,16.9787286067486,16.9642540156917,16.9528792683742,16.9279464456398,16.8764885570374,16.7914522525454],\"yaxis\":\"y\",\"type\":\"scatter\"}],                        {\"template\":{\"data\":{\"bar\":[{\"error_x\":{\"color\":\"#2a3f5f\"},\"error_y\":{\"color\":\"#2a3f5f\"},\"marker\":{\"line\":{\"color\":\"#E5ECF6\",\"width\":0.5},\"pattern\":{\"fillmode\":\"overlay\",\"size\":10,\"solidity\":0.2}},\"type\":\"bar\"}],\"barpolar\":[{\"marker\":{\"line\":{\"color\":\"#E5ECF6\",\"width\":0.5},\"pattern\":{\"fillmode\":\"overlay\",\"size\":10,\"solidity\":0.2}},\"type\":\"barpolar\"}],\"carpet\":[{\"aaxis\":{\"endlinecolor\":\"#2a3f5f\",\"gridcolor\":\"white\",\"linecolor\":\"white\",\"minorgridcolor\":\"white\",\"startlinecolor\":\"#2a3f5f\"},\"baxis\":{\"endlinecolor\":\"#2a3f5f\",\"gridcolor\":\"white\",\"linecolor\":\"white\",\"minorgridcolor\":\"white\",\"startlinecolor\":\"#2a3f5f\"},\"type\":\"carpet\"}],\"choropleth\":[{\"colorbar\":{\"outlinewidth\":0,\"ticks\":\"\"},\"type\":\"choropleth\"}],\"contour\":[{\"colorbar\":{\"outlinewidth\":0,\"ticks\":\"\"},\"colorscale\":[[0.0,\"#0d0887\"],[0.1111111111111111,\"#46039f\"],[0.2222222222222222,\"#7201a8\"],[0.3333333333333333,\"#9c179e\"],[0.4444444444444444,\"#bd3786\"],[0.5555555555555556,\"#d8576b\"],[0.6666666666666666,\"#ed7953\"],[0.7777777777777778,\"#fb9f3a\"],[0.8888888888888888,\"#fdca26\"],[1.0,\"#f0f921\"]],\"type\":\"contour\"}],\"contourcarpet\":[{\"colorbar\":{\"outlinewidth\":0,\"ticks\":\"\"},\"type\":\"contourcarpet\"}],\"heatmap\":[{\"colorbar\":{\"outlinewidth\":0,\"ticks\":\"\"},\"colorscale\":[[0.0,\"#0d0887\"],[0.1111111111111111,\"#46039f\"],[0.2222222222222222,\"#7201a8\"],[0.3333333333333333,\"#9c179e\"],[0.4444444444444444,\"#bd3786\"],[0.5555555555555556,\"#d8576b\"],[0.6666666666666666,\"#ed7953\"],[0.7777777777777778,\"#fb9f3a\"],[0.8888888888888888,\"#fdca26\"],[1.0,\"#f0f921\"]],\"type\":\"heatmap\"}],\"heatmapgl\":[{\"colorbar\":{\"outlinewidth\":0,\"ticks\":\"\"},\"colorscale\":[[0.0,\"#0d0887\"],[0.1111111111111111,\"#46039f\"],[0.2222222222222222,\"#7201a8\"],[0.3333333333333333,\"#9c179e\"],[0.4444444444444444,\"#bd3786\"],[0.5555555555555556,\"#d8576b\"],[0.6666666666666666,\"#ed7953\"],[0.7777777777777778,\"#fb9f3a\"],[0.8888888888888888,\"#fdca26\"],[1.0,\"#f0f921\"]],\"type\":\"heatmapgl\"}],\"histogram\":[{\"marker\":{\"pattern\":{\"fillmode\":\"overlay\",\"size\":10,\"solidity\":0.2}},\"type\":\"histogram\"}],\"histogram2d\":[{\"colorbar\":{\"outlinewidth\":0,\"ticks\":\"\"},\"colorscale\":[[0.0,\"#0d0887\"],[0.1111111111111111,\"#46039f\"],[0.2222222222222222,\"#7201a8\"],[0.3333333333333333,\"#9c179e\"],[0.4444444444444444,\"#bd3786\"],[0.5555555555555556,\"#d8576b\"],[0.6666666666666666,\"#ed7953\"],[0.7777777777777778,\"#fb9f3a\"],[0.8888888888888888,\"#fdca26\"],[1.0,\"#f0f921\"]],\"type\":\"histogram2d\"}],\"histogram2dcontour\":[{\"colorbar\":{\"outlinewidth\":0,\"ticks\":\"\"},\"colorscale\":[[0.0,\"#0d0887\"],[0.1111111111111111,\"#46039f\"],[0.2222222222222222,\"#7201a8\"],[0.3333333333333333,\"#9c179e\"],[0.4444444444444444,\"#bd3786\"],[0.5555555555555556,\"#d8576b\"],[0.6666666666666666,\"#ed7953\"],[0.7777777777777778,\"#fb9f3a\"],[0.8888888888888888,\"#fdca26\"],[1.0,\"#f0f921\"]],\"type\":\"histogram2dcontour\"}],\"mesh3d\":[{\"colorbar\":{\"outlinewidth\":0,\"ticks\":\"\"},\"type\":\"mesh3d\"}],\"parcoords\":[{\"line\":{\"colorbar\":{\"outlinewidth\":0,\"ticks\":\"\"}},\"type\":\"parcoords\"}],\"pie\":[{\"automargin\":true,\"type\":\"pie\"}],\"scatter\":[{\"marker\":{\"colorbar\":{\"outlinewidth\":0,\"ticks\":\"\"}},\"type\":\"scatter\"}],\"scatter3d\":[{\"line\":{\"colorbar\":{\"outlinewidth\":0,\"ticks\":\"\"}},\"marker\":{\"colorbar\":{\"outlinewidth\":0,\"ticks\":\"\"}},\"type\":\"scatter3d\"}],\"scattercarpet\":[{\"marker\":{\"colorbar\":{\"outlinewidth\":0,\"ticks\":\"\"}},\"type\":\"scattercarpet\"}],\"scattergeo\":[{\"marker\":{\"colorbar\":{\"outlinewidth\":0,\"ticks\":\"\"}},\"type\":\"scattergeo\"}],\"scattergl\":[{\"marker\":{\"colorbar\":{\"outlinewidth\":0,\"ticks\":\"\"}},\"type\":\"scattergl\"}],\"scattermapbox\":[{\"marker\":{\"colorbar\":{\"outlinewidth\":0,\"ticks\":\"\"}},\"type\":\"scattermapbox\"}],\"scatterpolar\":[{\"marker\":{\"colorbar\":{\"outlinewidth\":0,\"ticks\":\"\"}},\"type\":\"scatterpolar\"}],\"scatterpolargl\":[{\"marker\":{\"colorbar\":{\"outlinewidth\":0,\"ticks\":\"\"}},\"type\":\"scatterpolargl\"}],\"scatterternary\":[{\"marker\":{\"colorbar\":{\"outlinewidth\":0,\"ticks\":\"\"}},\"type\":\"scatterternary\"}],\"surface\":[{\"colorbar\":{\"outlinewidth\":0,\"ticks\":\"\"},\"colorscale\":[[0.0,\"#0d0887\"],[0.1111111111111111,\"#46039f\"],[0.2222222222222222,\"#7201a8\"],[0.3333333333333333,\"#9c179e\"],[0.4444444444444444,\"#bd3786\"],[0.5555555555555556,\"#d8576b\"],[0.6666666666666666,\"#ed7953\"],[0.7777777777777778,\"#fb9f3a\"],[0.8888888888888888,\"#fdca26\"],[1.0,\"#f0f921\"]],\"type\":\"surface\"}],\"table\":[{\"cells\":{\"fill\":{\"color\":\"#EBF0F8\"},\"line\":{\"color\":\"white\"}},\"header\":{\"fill\":{\"color\":\"#C8D4E3\"},\"line\":{\"color\":\"white\"}},\"type\":\"table\"}]},\"layout\":{\"annotationdefaults\":{\"arrowcolor\":\"#2a3f5f\",\"arrowhead\":0,\"arrowwidth\":1},\"autotypenumbers\":\"strict\",\"coloraxis\":{\"colorbar\":{\"outlinewidth\":0,\"ticks\":\"\"}},\"colorscale\":{\"diverging\":[[0,\"#8e0152\"],[0.1,\"#c51b7d\"],[0.2,\"#de77ae\"],[0.3,\"#f1b6da\"],[0.4,\"#fde0ef\"],[0.5,\"#f7f7f7\"],[0.6,\"#e6f5d0\"],[0.7,\"#b8e186\"],[0.8,\"#7fbc41\"],[0.9,\"#4d9221\"],[1,\"#276419\"]],\"sequential\":[[0.0,\"#0d0887\"],[0.1111111111111111,\"#46039f\"],[0.2222222222222222,\"#7201a8\"],[0.3333333333333333,\"#9c179e\"],[0.4444444444444444,\"#bd3786\"],[0.5555555555555556,\"#d8576b\"],[0.6666666666666666,\"#ed7953\"],[0.7777777777777778,\"#fb9f3a\"],[0.8888888888888888,\"#fdca26\"],[1.0,\"#f0f921\"]],\"sequentialminus\":[[0.0,\"#0d0887\"],[0.1111111111111111,\"#46039f\"],[0.2222222222222222,\"#7201a8\"],[0.3333333333333333,\"#9c179e\"],[0.4444444444444444,\"#bd3786\"],[0.5555555555555556,\"#d8576b\"],[0.6666666666666666,\"#ed7953\"],[0.7777777777777778,\"#fb9f3a\"],[0.8888888888888888,\"#fdca26\"],[1.0,\"#f0f921\"]]},\"colorway\":[\"#636efa\",\"#EF553B\",\"#00cc96\",\"#ab63fa\",\"#FFA15A\",\"#19d3f3\",\"#FF6692\",\"#B6E880\",\"#FF97FF\",\"#FECB52\"],\"font\":{\"color\":\"#2a3f5f\"},\"geo\":{\"bgcolor\":\"white\",\"lakecolor\":\"white\",\"landcolor\":\"#E5ECF6\",\"showlakes\":true,\"showland\":true,\"subunitcolor\":\"white\"},\"hoverlabel\":{\"align\":\"left\"},\"hovermode\":\"closest\",\"mapbox\":{\"style\":\"light\"},\"paper_bgcolor\":\"white\",\"plot_bgcolor\":\"#E5ECF6\",\"polar\":{\"angularaxis\":{\"gridcolor\":\"white\",\"linecolor\":\"white\",\"ticks\":\"\"},\"bgcolor\":\"#E5ECF6\",\"radialaxis\":{\"gridcolor\":\"white\",\"linecolor\":\"white\",\"ticks\":\"\"}},\"scene\":{\"xaxis\":{\"backgroundcolor\":\"#E5ECF6\",\"gridcolor\":\"white\",\"gridwidth\":2,\"linecolor\":\"white\",\"showbackground\":true,\"ticks\":\"\",\"zerolinecolor\":\"white\"},\"yaxis\":{\"backgroundcolor\":\"#E5ECF6\",\"gridcolor\":\"white\",\"gridwidth\":2,\"linecolor\":\"white\",\"showbackground\":true,\"ticks\":\"\",\"zerolinecolor\":\"white\"},\"zaxis\":{\"backgroundcolor\":\"#E5ECF6\",\"gridcolor\":\"white\",\"gridwidth\":2,\"linecolor\":\"white\",\"showbackground\":true,\"ticks\":\"\",\"zerolinecolor\":\"white\"}},\"shapedefaults\":{\"line\":{\"color\":\"#2a3f5f\"}},\"ternary\":{\"aaxis\":{\"gridcolor\":\"white\",\"linecolor\":\"white\",\"ticks\":\"\"},\"baxis\":{\"gridcolor\":\"white\",\"linecolor\":\"white\",\"ticks\":\"\"},\"bgcolor\":\"#E5ECF6\",\"caxis\":{\"gridcolor\":\"white\",\"linecolor\":\"white\",\"ticks\":\"\"}},\"title\":{\"x\":0.05},\"xaxis\":{\"automargin\":true,\"gridcolor\":\"white\",\"linecolor\":\"white\",\"ticks\":\"\",\"title\":{\"standoff\":15},\"zerolinecolor\":\"white\",\"zerolinewidth\":2},\"yaxis\":{\"automargin\":true,\"gridcolor\":\"white\",\"linecolor\":\"white\",\"ticks\":\"\",\"title\":{\"standoff\":15},\"zerolinecolor\":\"white\",\"zerolinewidth\":2}}},\"xaxis\":{\"anchor\":\"y\",\"domain\":[0.0,1.0],\"title\":{\"text\":\"TIME\"},\"rangeslider\":{\"visible\":true}},\"yaxis\":{\"anchor\":\"x\",\"domain\":[0.0,1.0],\"title\":{\"text\":\"% of population\"}},\"legend\":{\"title\":{\"text\":\"LOCATION\"},\"tracegroupgap\":0},\"title\":{\"text\":\"Young population\"}},                        {\"responsive\": true}                    ).then(function(){\n                            \nvar gd = document.getElementById('ccaa0cd2-7791-45d9-a24e-d868e3aebc83');\nvar x = new MutationObserver(function (mutations, observer) {{\n        var display = window.getComputedStyle(gd).display;\n        if (!display || display === 'none') {{\n            console.log([gd, 'removed!']);\n            Plotly.purge(gd);\n            observer.disconnect();\n        }}\n}});\n\n// Listen for the removal of the full notebook cells\nvar notebookContainer = gd.closest('#notebook-container');\nif (notebookContainer) {{\n    x.observe(notebookContainer, {childList: true});\n}}\n\n// Listen for the clearing of the current output cell\nvar outputEl = gd.closest('.output');\nif (outputEl) {{\n    x.observe(outputEl, {childList: true});\n}}\n\n                        })                };                });            </script>        </div>"
     },
     "metadata": {},
     "output_type": "display_data"
    },
    {
     "data": {
      "application/vnd.plotly.v1+json": {
       "data": [
        {
         "alignmentgroup": "True",
         "hovertemplate": "LOCATION=%{x}<br>Value=%{y}<extra></extra>",
         "legendgroup": "Austria",
         "marker": {
          "color": "#636efa",
          "pattern": {
           "shape": ""
          }
         },
         "name": "Austria",
         "offsetgroup": "Austria",
         "orientation": "v",
         "showlegend": true,
         "textposition": "auto",
         "x": [
          "Austria"
         ],
         "xaxis": "x",
         "y": [
          58.3
         ],
         "yaxis": "y",
         "type": "bar"
        },
        {
         "alignmentgroup": "True",
         "hovertemplate": "LOCATION=%{x}<br>Value=%{y}<extra></extra>",
         "legendgroup": "Australia",
         "marker": {
          "color": "#EF553B",
          "pattern": {
           "shape": ""
          }
         },
         "name": "Australia",
         "offsetgroup": "Australia",
         "orientation": "v",
         "showlegend": true,
         "textposition": "auto",
         "x": [
          "Australia"
         ],
         "xaxis": "x",
         "y": [
          21.1
         ],
         "yaxis": "y",
         "type": "bar"
        },
        {
         "alignmentgroup": "True",
         "hovertemplate": "LOCATION=%{x}<br>Value=%{y}<extra></extra>",
         "legendgroup": "United States",
         "marker": {
          "color": "#00cc96",
          "pattern": {
           "shape": ""
          }
         },
         "name": "United States",
         "offsetgroup": "United States",
         "orientation": "v",
         "showlegend": true,
         "textposition": "auto",
         "x": [
          "United States"
         ],
         "xaxis": "x",
         "y": [
          24.9
         ],
         "yaxis": "y",
         "type": "bar"
        },
        {
         "alignmentgroup": "True",
         "hovertemplate": "LOCATION=%{x}<br>Value=%{y}<extra></extra>",
         "legendgroup": "Belgium",
         "marker": {
          "color": "#ab63fa",
          "pattern": {
           "shape": ""
          }
         },
         "name": "Belgium",
         "offsetgroup": "Belgium",
         "orientation": "v",
         "showlegend": true,
         "textposition": "auto",
         "x": [
          "Belgium"
         ],
         "xaxis": "x",
         "y": [
          32.0
         ],
         "yaxis": "y",
         "type": "bar"
        }
       ],
       "layout": {
        "template": {
         "data": {
          "bar": [
           {
            "error_x": {
             "color": "#2a3f5f"
            },
            "error_y": {
             "color": "#2a3f5f"
            },
            "marker": {
             "line": {
              "color": "#E5ECF6",
              "width": 0.5
             },
             "pattern": {
              "fillmode": "overlay",
              "size": 10,
              "solidity": 0.2
             }
            },
            "type": "bar"
           }
          ],
          "barpolar": [
           {
            "marker": {
             "line": {
              "color": "#E5ECF6",
              "width": 0.5
             },
             "pattern": {
              "fillmode": "overlay",
              "size": 10,
              "solidity": 0.2
             }
            },
            "type": "barpolar"
           }
          ],
          "carpet": [
           {
            "aaxis": {
             "endlinecolor": "#2a3f5f",
             "gridcolor": "white",
             "linecolor": "white",
             "minorgridcolor": "white",
             "startlinecolor": "#2a3f5f"
            },
            "baxis": {
             "endlinecolor": "#2a3f5f",
             "gridcolor": "white",
             "linecolor": "white",
             "minorgridcolor": "white",
             "startlinecolor": "#2a3f5f"
            },
            "type": "carpet"
           }
          ],
          "choropleth": [
           {
            "colorbar": {
             "outlinewidth": 0,
             "ticks": ""
            },
            "type": "choropleth"
           }
          ],
          "contour": [
           {
            "colorbar": {
             "outlinewidth": 0,
             "ticks": ""
            },
            "colorscale": [
             [
              0.0,
              "#0d0887"
             ],
             [
              0.1111111111111111,
              "#46039f"
             ],
             [
              0.2222222222222222,
              "#7201a8"
             ],
             [
              0.3333333333333333,
              "#9c179e"
             ],
             [
              0.4444444444444444,
              "#bd3786"
             ],
             [
              0.5555555555555556,
              "#d8576b"
             ],
             [
              0.6666666666666666,
              "#ed7953"
             ],
             [
              0.7777777777777778,
              "#fb9f3a"
             ],
             [
              0.8888888888888888,
              "#fdca26"
             ],
             [
              1.0,
              "#f0f921"
             ]
            ],
            "type": "contour"
           }
          ],
          "contourcarpet": [
           {
            "colorbar": {
             "outlinewidth": 0,
             "ticks": ""
            },
            "type": "contourcarpet"
           }
          ],
          "heatmap": [
           {
            "colorbar": {
             "outlinewidth": 0,
             "ticks": ""
            },
            "colorscale": [
             [
              0.0,
              "#0d0887"
             ],
             [
              0.1111111111111111,
              "#46039f"
             ],
             [
              0.2222222222222222,
              "#7201a8"
             ],
             [
              0.3333333333333333,
              "#9c179e"
             ],
             [
              0.4444444444444444,
              "#bd3786"
             ],
             [
              0.5555555555555556,
              "#d8576b"
             ],
             [
              0.6666666666666666,
              "#ed7953"
             ],
             [
              0.7777777777777778,
              "#fb9f3a"
             ],
             [
              0.8888888888888888,
              "#fdca26"
             ],
             [
              1.0,
              "#f0f921"
             ]
            ],
            "type": "heatmap"
           }
          ],
          "heatmapgl": [
           {
            "colorbar": {
             "outlinewidth": 0,
             "ticks": ""
            },
            "colorscale": [
             [
              0.0,
              "#0d0887"
             ],
             [
              0.1111111111111111,
              "#46039f"
             ],
             [
              0.2222222222222222,
              "#7201a8"
             ],
             [
              0.3333333333333333,
              "#9c179e"
             ],
             [
              0.4444444444444444,
              "#bd3786"
             ],
             [
              0.5555555555555556,
              "#d8576b"
             ],
             [
              0.6666666666666666,
              "#ed7953"
             ],
             [
              0.7777777777777778,
              "#fb9f3a"
             ],
             [
              0.8888888888888888,
              "#fdca26"
             ],
             [
              1.0,
              "#f0f921"
             ]
            ],
            "type": "heatmapgl"
           }
          ],
          "histogram": [
           {
            "marker": {
             "pattern": {
              "fillmode": "overlay",
              "size": 10,
              "solidity": 0.2
             }
            },
            "type": "histogram"
           }
          ],
          "histogram2d": [
           {
            "colorbar": {
             "outlinewidth": 0,
             "ticks": ""
            },
            "colorscale": [
             [
              0.0,
              "#0d0887"
             ],
             [
              0.1111111111111111,
              "#46039f"
             ],
             [
              0.2222222222222222,
              "#7201a8"
             ],
             [
              0.3333333333333333,
              "#9c179e"
             ],
             [
              0.4444444444444444,
              "#bd3786"
             ],
             [
              0.5555555555555556,
              "#d8576b"
             ],
             [
              0.6666666666666666,
              "#ed7953"
             ],
             [
              0.7777777777777778,
              "#fb9f3a"
             ],
             [
              0.8888888888888888,
              "#fdca26"
             ],
             [
              1.0,
              "#f0f921"
             ]
            ],
            "type": "histogram2d"
           }
          ],
          "histogram2dcontour": [
           {
            "colorbar": {
             "outlinewidth": 0,
             "ticks": ""
            },
            "colorscale": [
             [
              0.0,
              "#0d0887"
             ],
             [
              0.1111111111111111,
              "#46039f"
             ],
             [
              0.2222222222222222,
              "#7201a8"
             ],
             [
              0.3333333333333333,
              "#9c179e"
             ],
             [
              0.4444444444444444,
              "#bd3786"
             ],
             [
              0.5555555555555556,
              "#d8576b"
             ],
             [
              0.6666666666666666,
              "#ed7953"
             ],
             [
              0.7777777777777778,
              "#fb9f3a"
             ],
             [
              0.8888888888888888,
              "#fdca26"
             ],
             [
              1.0,
              "#f0f921"
             ]
            ],
            "type": "histogram2dcontour"
           }
          ],
          "mesh3d": [
           {
            "colorbar": {
             "outlinewidth": 0,
             "ticks": ""
            },
            "type": "mesh3d"
           }
          ],
          "parcoords": [
           {
            "line": {
             "colorbar": {
              "outlinewidth": 0,
              "ticks": ""
             }
            },
            "type": "parcoords"
           }
          ],
          "pie": [
           {
            "automargin": true,
            "type": "pie"
           }
          ],
          "scatter": [
           {
            "marker": {
             "colorbar": {
              "outlinewidth": 0,
              "ticks": ""
             }
            },
            "type": "scatter"
           }
          ],
          "scatter3d": [
           {
            "line": {
             "colorbar": {
              "outlinewidth": 0,
              "ticks": ""
             }
            },
            "marker": {
             "colorbar": {
              "outlinewidth": 0,
              "ticks": ""
             }
            },
            "type": "scatter3d"
           }
          ],
          "scattercarpet": [
           {
            "marker": {
             "colorbar": {
              "outlinewidth": 0,
              "ticks": ""
             }
            },
            "type": "scattercarpet"
           }
          ],
          "scattergeo": [
           {
            "marker": {
             "colorbar": {
              "outlinewidth": 0,
              "ticks": ""
             }
            },
            "type": "scattergeo"
           }
          ],
          "scattergl": [
           {
            "marker": {
             "colorbar": {
              "outlinewidth": 0,
              "ticks": ""
             }
            },
            "type": "scattergl"
           }
          ],
          "scattermapbox": [
           {
            "marker": {
             "colorbar": {
              "outlinewidth": 0,
              "ticks": ""
             }
            },
            "type": "scattermapbox"
           }
          ],
          "scatterpolar": [
           {
            "marker": {
             "colorbar": {
              "outlinewidth": 0,
              "ticks": ""
             }
            },
            "type": "scatterpolar"
           }
          ],
          "scatterpolargl": [
           {
            "marker": {
             "colorbar": {
              "outlinewidth": 0,
              "ticks": ""
             }
            },
            "type": "scatterpolargl"
           }
          ],
          "scatterternary": [
           {
            "marker": {
             "colorbar": {
              "outlinewidth": 0,
              "ticks": ""
             }
            },
            "type": "scatterternary"
           }
          ],
          "surface": [
           {
            "colorbar": {
             "outlinewidth": 0,
             "ticks": ""
            },
            "colorscale": [
             [
              0.0,
              "#0d0887"
             ],
             [
              0.1111111111111111,
              "#46039f"
             ],
             [
              0.2222222222222222,
              "#7201a8"
             ],
             [
              0.3333333333333333,
              "#9c179e"
             ],
             [
              0.4444444444444444,
              "#bd3786"
             ],
             [
              0.5555555555555556,
              "#d8576b"
             ],
             [
              0.6666666666666666,
              "#ed7953"
             ],
             [
              0.7777777777777778,
              "#fb9f3a"
             ],
             [
              0.8888888888888888,
              "#fdca26"
             ],
             [
              1.0,
              "#f0f921"
             ]
            ],
            "type": "surface"
           }
          ],
          "table": [
           {
            "cells": {
             "fill": {
              "color": "#EBF0F8"
             },
             "line": {
              "color": "white"
             }
            },
            "header": {
             "fill": {
              "color": "#C8D4E3"
             },
             "line": {
              "color": "white"
             }
            },
            "type": "table"
           }
          ]
         },
         "layout": {
          "annotationdefaults": {
           "arrowcolor": "#2a3f5f",
           "arrowhead": 0,
           "arrowwidth": 1
          },
          "autotypenumbers": "strict",
          "coloraxis": {
           "colorbar": {
            "outlinewidth": 0,
            "ticks": ""
           }
          },
          "colorscale": {
           "diverging": [
            [
             0,
             "#8e0152"
            ],
            [
             0.1,
             "#c51b7d"
            ],
            [
             0.2,
             "#de77ae"
            ],
            [
             0.3,
             "#f1b6da"
            ],
            [
             0.4,
             "#fde0ef"
            ],
            [
             0.5,
             "#f7f7f7"
            ],
            [
             0.6,
             "#e6f5d0"
            ],
            [
             0.7,
             "#b8e186"
            ],
            [
             0.8,
             "#7fbc41"
            ],
            [
             0.9,
             "#4d9221"
            ],
            [
             1,
             "#276419"
            ]
           ],
           "sequential": [
            [
             0.0,
             "#0d0887"
            ],
            [
             0.1111111111111111,
             "#46039f"
            ],
            [
             0.2222222222222222,
             "#7201a8"
            ],
            [
             0.3333333333333333,
             "#9c179e"
            ],
            [
             0.4444444444444444,
             "#bd3786"
            ],
            [
             0.5555555555555556,
             "#d8576b"
            ],
            [
             0.6666666666666666,
             "#ed7953"
            ],
            [
             0.7777777777777778,
             "#fb9f3a"
            ],
            [
             0.8888888888888888,
             "#fdca26"
            ],
            [
             1.0,
             "#f0f921"
            ]
           ],
           "sequentialminus": [
            [
             0.0,
             "#0d0887"
            ],
            [
             0.1111111111111111,
             "#46039f"
            ],
            [
             0.2222222222222222,
             "#7201a8"
            ],
            [
             0.3333333333333333,
             "#9c179e"
            ],
            [
             0.4444444444444444,
             "#bd3786"
            ],
            [
             0.5555555555555556,
             "#d8576b"
            ],
            [
             0.6666666666666666,
             "#ed7953"
            ],
            [
             0.7777777777777778,
             "#fb9f3a"
            ],
            [
             0.8888888888888888,
             "#fdca26"
            ],
            [
             1.0,
             "#f0f921"
            ]
           ]
          },
          "colorway": [
           "#636efa",
           "#EF553B",
           "#00cc96",
           "#ab63fa",
           "#FFA15A",
           "#19d3f3",
           "#FF6692",
           "#B6E880",
           "#FF97FF",
           "#FECB52"
          ],
          "font": {
           "color": "#2a3f5f"
          },
          "geo": {
           "bgcolor": "white",
           "lakecolor": "white",
           "landcolor": "#E5ECF6",
           "showlakes": true,
           "showland": true,
           "subunitcolor": "white"
          },
          "hoverlabel": {
           "align": "left"
          },
          "hovermode": "closest",
          "mapbox": {
           "style": "light"
          },
          "paper_bgcolor": "white",
          "plot_bgcolor": "#E5ECF6",
          "polar": {
           "angularaxis": {
            "gridcolor": "white",
            "linecolor": "white",
            "ticks": ""
           },
           "bgcolor": "#E5ECF6",
           "radialaxis": {
            "gridcolor": "white",
            "linecolor": "white",
            "ticks": ""
           }
          },
          "scene": {
           "xaxis": {
            "backgroundcolor": "#E5ECF6",
            "gridcolor": "white",
            "gridwidth": 2,
            "linecolor": "white",
            "showbackground": true,
            "ticks": "",
            "zerolinecolor": "white"
           },
           "yaxis": {
            "backgroundcolor": "#E5ECF6",
            "gridcolor": "white",
            "gridwidth": 2,
            "linecolor": "white",
            "showbackground": true,
            "ticks": "",
            "zerolinecolor": "white"
           },
           "zaxis": {
            "backgroundcolor": "#E5ECF6",
            "gridcolor": "white",
            "gridwidth": 2,
            "linecolor": "white",
            "showbackground": true,
            "ticks": "",
            "zerolinecolor": "white"
           }
          },
          "shapedefaults": {
           "line": {
            "color": "#2a3f5f"
           }
          },
          "ternary": {
           "aaxis": {
            "gridcolor": "white",
            "linecolor": "white",
            "ticks": ""
           },
           "baxis": {
            "gridcolor": "white",
            "linecolor": "white",
            "ticks": ""
           },
           "bgcolor": "#E5ECF6",
           "caxis": {
            "gridcolor": "white",
            "linecolor": "white",
            "ticks": ""
           }
          },
          "title": {
           "x": 0.05
          },
          "xaxis": {
           "automargin": true,
           "gridcolor": "white",
           "linecolor": "white",
           "ticks": "",
           "title": {
            "standoff": 15
           },
           "zerolinecolor": "white",
           "zerolinewidth": 2
          },
          "yaxis": {
           "automargin": true,
           "gridcolor": "white",
           "linecolor": "white",
           "ticks": "",
           "title": {
            "standoff": 15
           },
           "zerolinecolor": "white",
           "zerolinewidth": 2
          }
         }
        },
        "xaxis": {
         "anchor": "y",
         "domain": [
          0.0,
          1.0
         ],
         "title": {
          "text": "LOCATION"
         },
         "categoryorder": "array",
         "categoryarray": [
          "Austria",
          "Australia",
          "United States",
          "Belgium"
         ]
        },
        "yaxis": {
         "anchor": "x",
         "domain": [
          0.0,
          1.0
         ],
         "title": {
          "text": "Attitudes towards working mothers [%]"
         }
        },
        "legend": {
         "title": {
          "text": "LOCATION"
         },
         "tracegroupgap": 0
        },
        "title": {
         "text": "Discrimination in the family 2019"
        },
        "barmode": "relative"
       },
       "config": {
        "plotlyServerURL": "https://plot.ly"
       }
      },
      "text/html": "<div>                            <div id=\"b4e3b35f-945a-4c6f-b279-f24e620e86a2\" class=\"plotly-graph-div\" style=\"height:525px; width:100%;\"></div>            <script type=\"text/javascript\">                require([\"plotly\"], function(Plotly) {                    window.PLOTLYENV=window.PLOTLYENV || {};                                    if (document.getElementById(\"b4e3b35f-945a-4c6f-b279-f24e620e86a2\")) {                    Plotly.newPlot(                        \"b4e3b35f-945a-4c6f-b279-f24e620e86a2\",                        [{\"alignmentgroup\":\"True\",\"hovertemplate\":\"LOCATION=%{x}<br>Value=%{y}<extra></extra>\",\"legendgroup\":\"Austria\",\"marker\":{\"color\":\"#636efa\",\"pattern\":{\"shape\":\"\"}},\"name\":\"Austria\",\"offsetgroup\":\"Austria\",\"orientation\":\"v\",\"showlegend\":true,\"textposition\":\"auto\",\"x\":[\"Austria\"],\"xaxis\":\"x\",\"y\":[58.3],\"yaxis\":\"y\",\"type\":\"bar\"},{\"alignmentgroup\":\"True\",\"hovertemplate\":\"LOCATION=%{x}<br>Value=%{y}<extra></extra>\",\"legendgroup\":\"Australia\",\"marker\":{\"color\":\"#EF553B\",\"pattern\":{\"shape\":\"\"}},\"name\":\"Australia\",\"offsetgroup\":\"Australia\",\"orientation\":\"v\",\"showlegend\":true,\"textposition\":\"auto\",\"x\":[\"Australia\"],\"xaxis\":\"x\",\"y\":[21.1],\"yaxis\":\"y\",\"type\":\"bar\"},{\"alignmentgroup\":\"True\",\"hovertemplate\":\"LOCATION=%{x}<br>Value=%{y}<extra></extra>\",\"legendgroup\":\"United States\",\"marker\":{\"color\":\"#00cc96\",\"pattern\":{\"shape\":\"\"}},\"name\":\"United States\",\"offsetgroup\":\"United States\",\"orientation\":\"v\",\"showlegend\":true,\"textposition\":\"auto\",\"x\":[\"United States\"],\"xaxis\":\"x\",\"y\":[24.9],\"yaxis\":\"y\",\"type\":\"bar\"},{\"alignmentgroup\":\"True\",\"hovertemplate\":\"LOCATION=%{x}<br>Value=%{y}<extra></extra>\",\"legendgroup\":\"Belgium\",\"marker\":{\"color\":\"#ab63fa\",\"pattern\":{\"shape\":\"\"}},\"name\":\"Belgium\",\"offsetgroup\":\"Belgium\",\"orientation\":\"v\",\"showlegend\":true,\"textposition\":\"auto\",\"x\":[\"Belgium\"],\"xaxis\":\"x\",\"y\":[32.0],\"yaxis\":\"y\",\"type\":\"bar\"}],                        {\"template\":{\"data\":{\"bar\":[{\"error_x\":{\"color\":\"#2a3f5f\"},\"error_y\":{\"color\":\"#2a3f5f\"},\"marker\":{\"line\":{\"color\":\"#E5ECF6\",\"width\":0.5},\"pattern\":{\"fillmode\":\"overlay\",\"size\":10,\"solidity\":0.2}},\"type\":\"bar\"}],\"barpolar\":[{\"marker\":{\"line\":{\"color\":\"#E5ECF6\",\"width\":0.5},\"pattern\":{\"fillmode\":\"overlay\",\"size\":10,\"solidity\":0.2}},\"type\":\"barpolar\"}],\"carpet\":[{\"aaxis\":{\"endlinecolor\":\"#2a3f5f\",\"gridcolor\":\"white\",\"linecolor\":\"white\",\"minorgridcolor\":\"white\",\"startlinecolor\":\"#2a3f5f\"},\"baxis\":{\"endlinecolor\":\"#2a3f5f\",\"gridcolor\":\"white\",\"linecolor\":\"white\",\"minorgridcolor\":\"white\",\"startlinecolor\":\"#2a3f5f\"},\"type\":\"carpet\"}],\"choropleth\":[{\"colorbar\":{\"outlinewidth\":0,\"ticks\":\"\"},\"type\":\"choropleth\"}],\"contour\":[{\"colorbar\":{\"outlinewidth\":0,\"ticks\":\"\"},\"colorscale\":[[0.0,\"#0d0887\"],[0.1111111111111111,\"#46039f\"],[0.2222222222222222,\"#7201a8\"],[0.3333333333333333,\"#9c179e\"],[0.4444444444444444,\"#bd3786\"],[0.5555555555555556,\"#d8576b\"],[0.6666666666666666,\"#ed7953\"],[0.7777777777777778,\"#fb9f3a\"],[0.8888888888888888,\"#fdca26\"],[1.0,\"#f0f921\"]],\"type\":\"contour\"}],\"contourcarpet\":[{\"colorbar\":{\"outlinewidth\":0,\"ticks\":\"\"},\"type\":\"contourcarpet\"}],\"heatmap\":[{\"colorbar\":{\"outlinewidth\":0,\"ticks\":\"\"},\"colorscale\":[[0.0,\"#0d0887\"],[0.1111111111111111,\"#46039f\"],[0.2222222222222222,\"#7201a8\"],[0.3333333333333333,\"#9c179e\"],[0.4444444444444444,\"#bd3786\"],[0.5555555555555556,\"#d8576b\"],[0.6666666666666666,\"#ed7953\"],[0.7777777777777778,\"#fb9f3a\"],[0.8888888888888888,\"#fdca26\"],[1.0,\"#f0f921\"]],\"type\":\"heatmap\"}],\"heatmapgl\":[{\"colorbar\":{\"outlinewidth\":0,\"ticks\":\"\"},\"colorscale\":[[0.0,\"#0d0887\"],[0.1111111111111111,\"#46039f\"],[0.2222222222222222,\"#7201a8\"],[0.3333333333333333,\"#9c179e\"],[0.4444444444444444,\"#bd3786\"],[0.5555555555555556,\"#d8576b\"],[0.6666666666666666,\"#ed7953\"],[0.7777777777777778,\"#fb9f3a\"],[0.8888888888888888,\"#fdca26\"],[1.0,\"#f0f921\"]],\"type\":\"heatmapgl\"}],\"histogram\":[{\"marker\":{\"pattern\":{\"fillmode\":\"overlay\",\"size\":10,\"solidity\":0.2}},\"type\":\"histogram\"}],\"histogram2d\":[{\"colorbar\":{\"outlinewidth\":0,\"ticks\":\"\"},\"colorscale\":[[0.0,\"#0d0887\"],[0.1111111111111111,\"#46039f\"],[0.2222222222222222,\"#7201a8\"],[0.3333333333333333,\"#9c179e\"],[0.4444444444444444,\"#bd3786\"],[0.5555555555555556,\"#d8576b\"],[0.6666666666666666,\"#ed7953\"],[0.7777777777777778,\"#fb9f3a\"],[0.8888888888888888,\"#fdca26\"],[1.0,\"#f0f921\"]],\"type\":\"histogram2d\"}],\"histogram2dcontour\":[{\"colorbar\":{\"outlinewidth\":0,\"ticks\":\"\"},\"colorscale\":[[0.0,\"#0d0887\"],[0.1111111111111111,\"#46039f\"],[0.2222222222222222,\"#7201a8\"],[0.3333333333333333,\"#9c179e\"],[0.4444444444444444,\"#bd3786\"],[0.5555555555555556,\"#d8576b\"],[0.6666666666666666,\"#ed7953\"],[0.7777777777777778,\"#fb9f3a\"],[0.8888888888888888,\"#fdca26\"],[1.0,\"#f0f921\"]],\"type\":\"histogram2dcontour\"}],\"mesh3d\":[{\"colorbar\":{\"outlinewidth\":0,\"ticks\":\"\"},\"type\":\"mesh3d\"}],\"parcoords\":[{\"line\":{\"colorbar\":{\"outlinewidth\":0,\"ticks\":\"\"}},\"type\":\"parcoords\"}],\"pie\":[{\"automargin\":true,\"type\":\"pie\"}],\"scatter\":[{\"marker\":{\"colorbar\":{\"outlinewidth\":0,\"ticks\":\"\"}},\"type\":\"scatter\"}],\"scatter3d\":[{\"line\":{\"colorbar\":{\"outlinewidth\":0,\"ticks\":\"\"}},\"marker\":{\"colorbar\":{\"outlinewidth\":0,\"ticks\":\"\"}},\"type\":\"scatter3d\"}],\"scattercarpet\":[{\"marker\":{\"colorbar\":{\"outlinewidth\":0,\"ticks\":\"\"}},\"type\":\"scattercarpet\"}],\"scattergeo\":[{\"marker\":{\"colorbar\":{\"outlinewidth\":0,\"ticks\":\"\"}},\"type\":\"scattergeo\"}],\"scattergl\":[{\"marker\":{\"colorbar\":{\"outlinewidth\":0,\"ticks\":\"\"}},\"type\":\"scattergl\"}],\"scattermapbox\":[{\"marker\":{\"colorbar\":{\"outlinewidth\":0,\"ticks\":\"\"}},\"type\":\"scattermapbox\"}],\"scatterpolar\":[{\"marker\":{\"colorbar\":{\"outlinewidth\":0,\"ticks\":\"\"}},\"type\":\"scatterpolar\"}],\"scatterpolargl\":[{\"marker\":{\"colorbar\":{\"outlinewidth\":0,\"ticks\":\"\"}},\"type\":\"scatterpolargl\"}],\"scatterternary\":[{\"marker\":{\"colorbar\":{\"outlinewidth\":0,\"ticks\":\"\"}},\"type\":\"scatterternary\"}],\"surface\":[{\"colorbar\":{\"outlinewidth\":0,\"ticks\":\"\"},\"colorscale\":[[0.0,\"#0d0887\"],[0.1111111111111111,\"#46039f\"],[0.2222222222222222,\"#7201a8\"],[0.3333333333333333,\"#9c179e\"],[0.4444444444444444,\"#bd3786\"],[0.5555555555555556,\"#d8576b\"],[0.6666666666666666,\"#ed7953\"],[0.7777777777777778,\"#fb9f3a\"],[0.8888888888888888,\"#fdca26\"],[1.0,\"#f0f921\"]],\"type\":\"surface\"}],\"table\":[{\"cells\":{\"fill\":{\"color\":\"#EBF0F8\"},\"line\":{\"color\":\"white\"}},\"header\":{\"fill\":{\"color\":\"#C8D4E3\"},\"line\":{\"color\":\"white\"}},\"type\":\"table\"}]},\"layout\":{\"annotationdefaults\":{\"arrowcolor\":\"#2a3f5f\",\"arrowhead\":0,\"arrowwidth\":1},\"autotypenumbers\":\"strict\",\"coloraxis\":{\"colorbar\":{\"outlinewidth\":0,\"ticks\":\"\"}},\"colorscale\":{\"diverging\":[[0,\"#8e0152\"],[0.1,\"#c51b7d\"],[0.2,\"#de77ae\"],[0.3,\"#f1b6da\"],[0.4,\"#fde0ef\"],[0.5,\"#f7f7f7\"],[0.6,\"#e6f5d0\"],[0.7,\"#b8e186\"],[0.8,\"#7fbc41\"],[0.9,\"#4d9221\"],[1,\"#276419\"]],\"sequential\":[[0.0,\"#0d0887\"],[0.1111111111111111,\"#46039f\"],[0.2222222222222222,\"#7201a8\"],[0.3333333333333333,\"#9c179e\"],[0.4444444444444444,\"#bd3786\"],[0.5555555555555556,\"#d8576b\"],[0.6666666666666666,\"#ed7953\"],[0.7777777777777778,\"#fb9f3a\"],[0.8888888888888888,\"#fdca26\"],[1.0,\"#f0f921\"]],\"sequentialminus\":[[0.0,\"#0d0887\"],[0.1111111111111111,\"#46039f\"],[0.2222222222222222,\"#7201a8\"],[0.3333333333333333,\"#9c179e\"],[0.4444444444444444,\"#bd3786\"],[0.5555555555555556,\"#d8576b\"],[0.6666666666666666,\"#ed7953\"],[0.7777777777777778,\"#fb9f3a\"],[0.8888888888888888,\"#fdca26\"],[1.0,\"#f0f921\"]]},\"colorway\":[\"#636efa\",\"#EF553B\",\"#00cc96\",\"#ab63fa\",\"#FFA15A\",\"#19d3f3\",\"#FF6692\",\"#B6E880\",\"#FF97FF\",\"#FECB52\"],\"font\":{\"color\":\"#2a3f5f\"},\"geo\":{\"bgcolor\":\"white\",\"lakecolor\":\"white\",\"landcolor\":\"#E5ECF6\",\"showlakes\":true,\"showland\":true,\"subunitcolor\":\"white\"},\"hoverlabel\":{\"align\":\"left\"},\"hovermode\":\"closest\",\"mapbox\":{\"style\":\"light\"},\"paper_bgcolor\":\"white\",\"plot_bgcolor\":\"#E5ECF6\",\"polar\":{\"angularaxis\":{\"gridcolor\":\"white\",\"linecolor\":\"white\",\"ticks\":\"\"},\"bgcolor\":\"#E5ECF6\",\"radialaxis\":{\"gridcolor\":\"white\",\"linecolor\":\"white\",\"ticks\":\"\"}},\"scene\":{\"xaxis\":{\"backgroundcolor\":\"#E5ECF6\",\"gridcolor\":\"white\",\"gridwidth\":2,\"linecolor\":\"white\",\"showbackground\":true,\"ticks\":\"\",\"zerolinecolor\":\"white\"},\"yaxis\":{\"backgroundcolor\":\"#E5ECF6\",\"gridcolor\":\"white\",\"gridwidth\":2,\"linecolor\":\"white\",\"showbackground\":true,\"ticks\":\"\",\"zerolinecolor\":\"white\"},\"zaxis\":{\"backgroundcolor\":\"#E5ECF6\",\"gridcolor\":\"white\",\"gridwidth\":2,\"linecolor\":\"white\",\"showbackground\":true,\"ticks\":\"\",\"zerolinecolor\":\"white\"}},\"shapedefaults\":{\"line\":{\"color\":\"#2a3f5f\"}},\"ternary\":{\"aaxis\":{\"gridcolor\":\"white\",\"linecolor\":\"white\",\"ticks\":\"\"},\"baxis\":{\"gridcolor\":\"white\",\"linecolor\":\"white\",\"ticks\":\"\"},\"bgcolor\":\"#E5ECF6\",\"caxis\":{\"gridcolor\":\"white\",\"linecolor\":\"white\",\"ticks\":\"\"}},\"title\":{\"x\":0.05},\"xaxis\":{\"automargin\":true,\"gridcolor\":\"white\",\"linecolor\":\"white\",\"ticks\":\"\",\"title\":{\"standoff\":15},\"zerolinecolor\":\"white\",\"zerolinewidth\":2},\"yaxis\":{\"automargin\":true,\"gridcolor\":\"white\",\"linecolor\":\"white\",\"ticks\":\"\",\"title\":{\"standoff\":15},\"zerolinecolor\":\"white\",\"zerolinewidth\":2}}},\"xaxis\":{\"anchor\":\"y\",\"domain\":[0.0,1.0],\"title\":{\"text\":\"LOCATION\"},\"categoryorder\":\"array\",\"categoryarray\":[\"Austria\",\"Australia\",\"United States\",\"Belgium\"]},\"yaxis\":{\"anchor\":\"x\",\"domain\":[0.0,1.0],\"title\":{\"text\":\"Attitudes towards working mothers [%]\"}},\"legend\":{\"title\":{\"text\":\"LOCATION\"},\"tracegroupgap\":0},\"title\":{\"text\":\"Discrimination in the family 2019\"},\"barmode\":\"relative\"},                        {\"responsive\": true}                    ).then(function(){\n                            \nvar gd = document.getElementById('b4e3b35f-945a-4c6f-b279-f24e620e86a2');\nvar x = new MutationObserver(function (mutations, observer) {{\n        var display = window.getComputedStyle(gd).display;\n        if (!display || display === 'none') {{\n            console.log([gd, 'removed!']);\n            Plotly.purge(gd);\n            observer.disconnect();\n        }}\n}});\n\n// Listen for the removal of the full notebook cells\nvar notebookContainer = gd.closest('#notebook-container');\nif (notebookContainer) {{\n    x.observe(notebookContainer, {childList: true});\n}}\n\n// Listen for the clearing of the current output cell\nvar outputEl = gd.closest('.output');\nif (outputEl) {{\n    x.observe(outputEl, {childList: true});\n}}\n\n                        })                };                });            </script>        </div>"
     },
     "metadata": {},
     "output_type": "display_data"
    },
    {
     "data": {
      "application/vnd.plotly.v1+json": {
       "data": [
        {
         "hovertemplate": "Values1=%{x}<br>Values2=%{y}<extra></extra>",
         "legendgroup": "",
         "marker": {
          "color": "#636efa",
          "symbol": "circle"
         },
         "mode": "markers",
         "name": "",
         "orientation": "v",
         "showlegend": false,
         "x": [
          10.028,
          8.706,
          24.173,
          22.624,
          12.217
         ],
         "xaxis": "x",
         "y": [
          27.743721,
          14.802574,
          37.604309,
          41.662415,
          34.989502
         ],
         "yaxis": "y",
         "type": "scatter"
        }
       ],
       "layout": {
        "template": {
         "data": {
          "bar": [
           {
            "error_x": {
             "color": "#2a3f5f"
            },
            "error_y": {
             "color": "#2a3f5f"
            },
            "marker": {
             "line": {
              "color": "#E5ECF6",
              "width": 0.5
             },
             "pattern": {
              "fillmode": "overlay",
              "size": 10,
              "solidity": 0.2
             }
            },
            "type": "bar"
           }
          ],
          "barpolar": [
           {
            "marker": {
             "line": {
              "color": "#E5ECF6",
              "width": 0.5
             },
             "pattern": {
              "fillmode": "overlay",
              "size": 10,
              "solidity": 0.2
             }
            },
            "type": "barpolar"
           }
          ],
          "carpet": [
           {
            "aaxis": {
             "endlinecolor": "#2a3f5f",
             "gridcolor": "white",
             "linecolor": "white",
             "minorgridcolor": "white",
             "startlinecolor": "#2a3f5f"
            },
            "baxis": {
             "endlinecolor": "#2a3f5f",
             "gridcolor": "white",
             "linecolor": "white",
             "minorgridcolor": "white",
             "startlinecolor": "#2a3f5f"
            },
            "type": "carpet"
           }
          ],
          "choropleth": [
           {
            "colorbar": {
             "outlinewidth": 0,
             "ticks": ""
            },
            "type": "choropleth"
           }
          ],
          "contour": [
           {
            "colorbar": {
             "outlinewidth": 0,
             "ticks": ""
            },
            "colorscale": [
             [
              0.0,
              "#0d0887"
             ],
             [
              0.1111111111111111,
              "#46039f"
             ],
             [
              0.2222222222222222,
              "#7201a8"
             ],
             [
              0.3333333333333333,
              "#9c179e"
             ],
             [
              0.4444444444444444,
              "#bd3786"
             ],
             [
              0.5555555555555556,
              "#d8576b"
             ],
             [
              0.6666666666666666,
              "#ed7953"
             ],
             [
              0.7777777777777778,
              "#fb9f3a"
             ],
             [
              0.8888888888888888,
              "#fdca26"
             ],
             [
              1.0,
              "#f0f921"
             ]
            ],
            "type": "contour"
           }
          ],
          "contourcarpet": [
           {
            "colorbar": {
             "outlinewidth": 0,
             "ticks": ""
            },
            "type": "contourcarpet"
           }
          ],
          "heatmap": [
           {
            "colorbar": {
             "outlinewidth": 0,
             "ticks": ""
            },
            "colorscale": [
             [
              0.0,
              "#0d0887"
             ],
             [
              0.1111111111111111,
              "#46039f"
             ],
             [
              0.2222222222222222,
              "#7201a8"
             ],
             [
              0.3333333333333333,
              "#9c179e"
             ],
             [
              0.4444444444444444,
              "#bd3786"
             ],
             [
              0.5555555555555556,
              "#d8576b"
             ],
             [
              0.6666666666666666,
              "#ed7953"
             ],
             [
              0.7777777777777778,
              "#fb9f3a"
             ],
             [
              0.8888888888888888,
              "#fdca26"
             ],
             [
              1.0,
              "#f0f921"
             ]
            ],
            "type": "heatmap"
           }
          ],
          "heatmapgl": [
           {
            "colorbar": {
             "outlinewidth": 0,
             "ticks": ""
            },
            "colorscale": [
             [
              0.0,
              "#0d0887"
             ],
             [
              0.1111111111111111,
              "#46039f"
             ],
             [
              0.2222222222222222,
              "#7201a8"
             ],
             [
              0.3333333333333333,
              "#9c179e"
             ],
             [
              0.4444444444444444,
              "#bd3786"
             ],
             [
              0.5555555555555556,
              "#d8576b"
             ],
             [
              0.6666666666666666,
              "#ed7953"
             ],
             [
              0.7777777777777778,
              "#fb9f3a"
             ],
             [
              0.8888888888888888,
              "#fdca26"
             ],
             [
              1.0,
              "#f0f921"
             ]
            ],
            "type": "heatmapgl"
           }
          ],
          "histogram": [
           {
            "marker": {
             "pattern": {
              "fillmode": "overlay",
              "size": 10,
              "solidity": 0.2
             }
            },
            "type": "histogram"
           }
          ],
          "histogram2d": [
           {
            "colorbar": {
             "outlinewidth": 0,
             "ticks": ""
            },
            "colorscale": [
             [
              0.0,
              "#0d0887"
             ],
             [
              0.1111111111111111,
              "#46039f"
             ],
             [
              0.2222222222222222,
              "#7201a8"
             ],
             [
              0.3333333333333333,
              "#9c179e"
             ],
             [
              0.4444444444444444,
              "#bd3786"
             ],
             [
              0.5555555555555556,
              "#d8576b"
             ],
             [
              0.6666666666666666,
              "#ed7953"
             ],
             [
              0.7777777777777778,
              "#fb9f3a"
             ],
             [
              0.8888888888888888,
              "#fdca26"
             ],
             [
              1.0,
              "#f0f921"
             ]
            ],
            "type": "histogram2d"
           }
          ],
          "histogram2dcontour": [
           {
            "colorbar": {
             "outlinewidth": 0,
             "ticks": ""
            },
            "colorscale": [
             [
              0.0,
              "#0d0887"
             ],
             [
              0.1111111111111111,
              "#46039f"
             ],
             [
              0.2222222222222222,
              "#7201a8"
             ],
             [
              0.3333333333333333,
              "#9c179e"
             ],
             [
              0.4444444444444444,
              "#bd3786"
             ],
             [
              0.5555555555555556,
              "#d8576b"
             ],
             [
              0.6666666666666666,
              "#ed7953"
             ],
             [
              0.7777777777777778,
              "#fb9f3a"
             ],
             [
              0.8888888888888888,
              "#fdca26"
             ],
             [
              1.0,
              "#f0f921"
             ]
            ],
            "type": "histogram2dcontour"
           }
          ],
          "mesh3d": [
           {
            "colorbar": {
             "outlinewidth": 0,
             "ticks": ""
            },
            "type": "mesh3d"
           }
          ],
          "parcoords": [
           {
            "line": {
             "colorbar": {
              "outlinewidth": 0,
              "ticks": ""
             }
            },
            "type": "parcoords"
           }
          ],
          "pie": [
           {
            "automargin": true,
            "type": "pie"
           }
          ],
          "scatter": [
           {
            "marker": {
             "colorbar": {
              "outlinewidth": 0,
              "ticks": ""
             }
            },
            "type": "scatter"
           }
          ],
          "scatter3d": [
           {
            "line": {
             "colorbar": {
              "outlinewidth": 0,
              "ticks": ""
             }
            },
            "marker": {
             "colorbar": {
              "outlinewidth": 0,
              "ticks": ""
             }
            },
            "type": "scatter3d"
           }
          ],
          "scattercarpet": [
           {
            "marker": {
             "colorbar": {
              "outlinewidth": 0,
              "ticks": ""
             }
            },
            "type": "scattercarpet"
           }
          ],
          "scattergeo": [
           {
            "marker": {
             "colorbar": {
              "outlinewidth": 0,
              "ticks": ""
             }
            },
            "type": "scattergeo"
           }
          ],
          "scattergl": [
           {
            "marker": {
             "colorbar": {
              "outlinewidth": 0,
              "ticks": ""
             }
            },
            "type": "scattergl"
           }
          ],
          "scattermapbox": [
           {
            "marker": {
             "colorbar": {
              "outlinewidth": 0,
              "ticks": ""
             }
            },
            "type": "scattermapbox"
           }
          ],
          "scatterpolar": [
           {
            "marker": {
             "colorbar": {
              "outlinewidth": 0,
              "ticks": ""
             }
            },
            "type": "scatterpolar"
           }
          ],
          "scatterpolargl": [
           {
            "marker": {
             "colorbar": {
              "outlinewidth": 0,
              "ticks": ""
             }
            },
            "type": "scatterpolargl"
           }
          ],
          "scatterternary": [
           {
            "marker": {
             "colorbar": {
              "outlinewidth": 0,
              "ticks": ""
             }
            },
            "type": "scatterternary"
           }
          ],
          "surface": [
           {
            "colorbar": {
             "outlinewidth": 0,
             "ticks": ""
            },
            "colorscale": [
             [
              0.0,
              "#0d0887"
             ],
             [
              0.1111111111111111,
              "#46039f"
             ],
             [
              0.2222222222222222,
              "#7201a8"
             ],
             [
              0.3333333333333333,
              "#9c179e"
             ],
             [
              0.4444444444444444,
              "#bd3786"
             ],
             [
              0.5555555555555556,
              "#d8576b"
             ],
             [
              0.6666666666666666,
              "#ed7953"
             ],
             [
              0.7777777777777778,
              "#fb9f3a"
             ],
             [
              0.8888888888888888,
              "#fdca26"
             ],
             [
              1.0,
              "#f0f921"
             ]
            ],
            "type": "surface"
           }
          ],
          "table": [
           {
            "cells": {
             "fill": {
              "color": "#EBF0F8"
             },
             "line": {
              "color": "white"
             }
            },
            "header": {
             "fill": {
              "color": "#C8D4E3"
             },
             "line": {
              "color": "white"
             }
            },
            "type": "table"
           }
          ]
         },
         "layout": {
          "annotationdefaults": {
           "arrowcolor": "#2a3f5f",
           "arrowhead": 0,
           "arrowwidth": 1
          },
          "autotypenumbers": "strict",
          "coloraxis": {
           "colorbar": {
            "outlinewidth": 0,
            "ticks": ""
           }
          },
          "colorscale": {
           "diverging": [
            [
             0,
             "#8e0152"
            ],
            [
             0.1,
             "#c51b7d"
            ],
            [
             0.2,
             "#de77ae"
            ],
            [
             0.3,
             "#f1b6da"
            ],
            [
             0.4,
             "#fde0ef"
            ],
            [
             0.5,
             "#f7f7f7"
            ],
            [
             0.6,
             "#e6f5d0"
            ],
            [
             0.7,
             "#b8e186"
            ],
            [
             0.8,
             "#7fbc41"
            ],
            [
             0.9,
             "#4d9221"
            ],
            [
             1,
             "#276419"
            ]
           ],
           "sequential": [
            [
             0.0,
             "#0d0887"
            ],
            [
             0.1111111111111111,
             "#46039f"
            ],
            [
             0.2222222222222222,
             "#7201a8"
            ],
            [
             0.3333333333333333,
             "#9c179e"
            ],
            [
             0.4444444444444444,
             "#bd3786"
            ],
            [
             0.5555555555555556,
             "#d8576b"
            ],
            [
             0.6666666666666666,
             "#ed7953"
            ],
            [
             0.7777777777777778,
             "#fb9f3a"
            ],
            [
             0.8888888888888888,
             "#fdca26"
            ],
            [
             1.0,
             "#f0f921"
            ]
           ],
           "sequentialminus": [
            [
             0.0,
             "#0d0887"
            ],
            [
             0.1111111111111111,
             "#46039f"
            ],
            [
             0.2222222222222222,
             "#7201a8"
            ],
            [
             0.3333333333333333,
             "#9c179e"
            ],
            [
             0.4444444444444444,
             "#bd3786"
            ],
            [
             0.5555555555555556,
             "#d8576b"
            ],
            [
             0.6666666666666666,
             "#ed7953"
            ],
            [
             0.7777777777777778,
             "#fb9f3a"
            ],
            [
             0.8888888888888888,
             "#fdca26"
            ],
            [
             1.0,
             "#f0f921"
            ]
           ]
          },
          "colorway": [
           "#636efa",
           "#EF553B",
           "#00cc96",
           "#ab63fa",
           "#FFA15A",
           "#19d3f3",
           "#FF6692",
           "#B6E880",
           "#FF97FF",
           "#FECB52"
          ],
          "font": {
           "color": "#2a3f5f"
          },
          "geo": {
           "bgcolor": "white",
           "lakecolor": "white",
           "landcolor": "#E5ECF6",
           "showlakes": true,
           "showland": true,
           "subunitcolor": "white"
          },
          "hoverlabel": {
           "align": "left"
          },
          "hovermode": "closest",
          "mapbox": {
           "style": "light"
          },
          "paper_bgcolor": "white",
          "plot_bgcolor": "#E5ECF6",
          "polar": {
           "angularaxis": {
            "gridcolor": "white",
            "linecolor": "white",
            "ticks": ""
           },
           "bgcolor": "#E5ECF6",
           "radialaxis": {
            "gridcolor": "white",
            "linecolor": "white",
            "ticks": ""
           }
          },
          "scene": {
           "xaxis": {
            "backgroundcolor": "#E5ECF6",
            "gridcolor": "white",
            "gridwidth": 2,
            "linecolor": "white",
            "showbackground": true,
            "ticks": "",
            "zerolinecolor": "white"
           },
           "yaxis": {
            "backgroundcolor": "#E5ECF6",
            "gridcolor": "white",
            "gridwidth": 2,
            "linecolor": "white",
            "showbackground": true,
            "ticks": "",
            "zerolinecolor": "white"
           },
           "zaxis": {
            "backgroundcolor": "#E5ECF6",
            "gridcolor": "white",
            "gridwidth": 2,
            "linecolor": "white",
            "showbackground": true,
            "ticks": "",
            "zerolinecolor": "white"
           }
          },
          "shapedefaults": {
           "line": {
            "color": "#2a3f5f"
           }
          },
          "ternary": {
           "aaxis": {
            "gridcolor": "white",
            "linecolor": "white",
            "ticks": ""
           },
           "baxis": {
            "gridcolor": "white",
            "linecolor": "white",
            "ticks": ""
           },
           "bgcolor": "#E5ECF6",
           "caxis": {
            "gridcolor": "white",
            "linecolor": "white",
            "ticks": ""
           }
          },
          "title": {
           "x": 0.05
          },
          "xaxis": {
           "automargin": true,
           "gridcolor": "white",
           "linecolor": "white",
           "ticks": "",
           "title": {
            "standoff": 15
           },
           "zerolinecolor": "white",
           "zerolinewidth": 2
          },
          "yaxis": {
           "automargin": true,
           "gridcolor": "white",
           "linecolor": "white",
           "ticks": "",
           "title": {
            "standoff": 15
           },
           "zerolinecolor": "white",
           "zerolinewidth": 2
          }
         }
        },
        "xaxis": {
         "anchor": "y",
         "domain": [
          0.0,
          1.0
         ],
         "title": {
          "text": "Values1"
         }
        },
        "yaxis": {
         "anchor": "x",
         "domain": [
          0.0,
          1.0
         ],
         "title": {
          "text": "Values2"
         }
        },
        "legend": {
         "tracegroupgap": 0
        },
        "margin": {
         "t": 60
        }
       },
       "config": {
        "plotlyServerURL": "https://plot.ly"
       }
      },
      "text/html": "<div>                            <div id=\"3735394e-6975-4965-a49f-5d54ccb78ee9\" class=\"plotly-graph-div\" style=\"height:525px; width:100%;\"></div>            <script type=\"text/javascript\">                require([\"plotly\"], function(Plotly) {                    window.PLOTLYENV=window.PLOTLYENV || {};                                    if (document.getElementById(\"3735394e-6975-4965-a49f-5d54ccb78ee9\")) {                    Plotly.newPlot(                        \"3735394e-6975-4965-a49f-5d54ccb78ee9\",                        [{\"hovertemplate\":\"Values1=%{x}<br>Values2=%{y}<extra></extra>\",\"legendgroup\":\"\",\"marker\":{\"color\":\"#636efa\",\"symbol\":\"circle\"},\"mode\":\"markers\",\"name\":\"\",\"orientation\":\"v\",\"showlegend\":false,\"x\":[10.028,8.706,24.173,22.624,12.217],\"xaxis\":\"x\",\"y\":[27.743721,14.802574,37.604309,41.662415,34.989502],\"yaxis\":\"y\",\"type\":\"scatter\"}],                        {\"template\":{\"data\":{\"bar\":[{\"error_x\":{\"color\":\"#2a3f5f\"},\"error_y\":{\"color\":\"#2a3f5f\"},\"marker\":{\"line\":{\"color\":\"#E5ECF6\",\"width\":0.5},\"pattern\":{\"fillmode\":\"overlay\",\"size\":10,\"solidity\":0.2}},\"type\":\"bar\"}],\"barpolar\":[{\"marker\":{\"line\":{\"color\":\"#E5ECF6\",\"width\":0.5},\"pattern\":{\"fillmode\":\"overlay\",\"size\":10,\"solidity\":0.2}},\"type\":\"barpolar\"}],\"carpet\":[{\"aaxis\":{\"endlinecolor\":\"#2a3f5f\",\"gridcolor\":\"white\",\"linecolor\":\"white\",\"minorgridcolor\":\"white\",\"startlinecolor\":\"#2a3f5f\"},\"baxis\":{\"endlinecolor\":\"#2a3f5f\",\"gridcolor\":\"white\",\"linecolor\":\"white\",\"minorgridcolor\":\"white\",\"startlinecolor\":\"#2a3f5f\"},\"type\":\"carpet\"}],\"choropleth\":[{\"colorbar\":{\"outlinewidth\":0,\"ticks\":\"\"},\"type\":\"choropleth\"}],\"contour\":[{\"colorbar\":{\"outlinewidth\":0,\"ticks\":\"\"},\"colorscale\":[[0.0,\"#0d0887\"],[0.1111111111111111,\"#46039f\"],[0.2222222222222222,\"#7201a8\"],[0.3333333333333333,\"#9c179e\"],[0.4444444444444444,\"#bd3786\"],[0.5555555555555556,\"#d8576b\"],[0.6666666666666666,\"#ed7953\"],[0.7777777777777778,\"#fb9f3a\"],[0.8888888888888888,\"#fdca26\"],[1.0,\"#f0f921\"]],\"type\":\"contour\"}],\"contourcarpet\":[{\"colorbar\":{\"outlinewidth\":0,\"ticks\":\"\"},\"type\":\"contourcarpet\"}],\"heatmap\":[{\"colorbar\":{\"outlinewidth\":0,\"ticks\":\"\"},\"colorscale\":[[0.0,\"#0d0887\"],[0.1111111111111111,\"#46039f\"],[0.2222222222222222,\"#7201a8\"],[0.3333333333333333,\"#9c179e\"],[0.4444444444444444,\"#bd3786\"],[0.5555555555555556,\"#d8576b\"],[0.6666666666666666,\"#ed7953\"],[0.7777777777777778,\"#fb9f3a\"],[0.8888888888888888,\"#fdca26\"],[1.0,\"#f0f921\"]],\"type\":\"heatmap\"}],\"heatmapgl\":[{\"colorbar\":{\"outlinewidth\":0,\"ticks\":\"\"},\"colorscale\":[[0.0,\"#0d0887\"],[0.1111111111111111,\"#46039f\"],[0.2222222222222222,\"#7201a8\"],[0.3333333333333333,\"#9c179e\"],[0.4444444444444444,\"#bd3786\"],[0.5555555555555556,\"#d8576b\"],[0.6666666666666666,\"#ed7953\"],[0.7777777777777778,\"#fb9f3a\"],[0.8888888888888888,\"#fdca26\"],[1.0,\"#f0f921\"]],\"type\":\"heatmapgl\"}],\"histogram\":[{\"marker\":{\"pattern\":{\"fillmode\":\"overlay\",\"size\":10,\"solidity\":0.2}},\"type\":\"histogram\"}],\"histogram2d\":[{\"colorbar\":{\"outlinewidth\":0,\"ticks\":\"\"},\"colorscale\":[[0.0,\"#0d0887\"],[0.1111111111111111,\"#46039f\"],[0.2222222222222222,\"#7201a8\"],[0.3333333333333333,\"#9c179e\"],[0.4444444444444444,\"#bd3786\"],[0.5555555555555556,\"#d8576b\"],[0.6666666666666666,\"#ed7953\"],[0.7777777777777778,\"#fb9f3a\"],[0.8888888888888888,\"#fdca26\"],[1.0,\"#f0f921\"]],\"type\":\"histogram2d\"}],\"histogram2dcontour\":[{\"colorbar\":{\"outlinewidth\":0,\"ticks\":\"\"},\"colorscale\":[[0.0,\"#0d0887\"],[0.1111111111111111,\"#46039f\"],[0.2222222222222222,\"#7201a8\"],[0.3333333333333333,\"#9c179e\"],[0.4444444444444444,\"#bd3786\"],[0.5555555555555556,\"#d8576b\"],[0.6666666666666666,\"#ed7953\"],[0.7777777777777778,\"#fb9f3a\"],[0.8888888888888888,\"#fdca26\"],[1.0,\"#f0f921\"]],\"type\":\"histogram2dcontour\"}],\"mesh3d\":[{\"colorbar\":{\"outlinewidth\":0,\"ticks\":\"\"},\"type\":\"mesh3d\"}],\"parcoords\":[{\"line\":{\"colorbar\":{\"outlinewidth\":0,\"ticks\":\"\"}},\"type\":\"parcoords\"}],\"pie\":[{\"automargin\":true,\"type\":\"pie\"}],\"scatter\":[{\"marker\":{\"colorbar\":{\"outlinewidth\":0,\"ticks\":\"\"}},\"type\":\"scatter\"}],\"scatter3d\":[{\"line\":{\"colorbar\":{\"outlinewidth\":0,\"ticks\":\"\"}},\"marker\":{\"colorbar\":{\"outlinewidth\":0,\"ticks\":\"\"}},\"type\":\"scatter3d\"}],\"scattercarpet\":[{\"marker\":{\"colorbar\":{\"outlinewidth\":0,\"ticks\":\"\"}},\"type\":\"scattercarpet\"}],\"scattergeo\":[{\"marker\":{\"colorbar\":{\"outlinewidth\":0,\"ticks\":\"\"}},\"type\":\"scattergeo\"}],\"scattergl\":[{\"marker\":{\"colorbar\":{\"outlinewidth\":0,\"ticks\":\"\"}},\"type\":\"scattergl\"}],\"scattermapbox\":[{\"marker\":{\"colorbar\":{\"outlinewidth\":0,\"ticks\":\"\"}},\"type\":\"scattermapbox\"}],\"scatterpolar\":[{\"marker\":{\"colorbar\":{\"outlinewidth\":0,\"ticks\":\"\"}},\"type\":\"scatterpolar\"}],\"scatterpolargl\":[{\"marker\":{\"colorbar\":{\"outlinewidth\":0,\"ticks\":\"\"}},\"type\":\"scatterpolargl\"}],\"scatterternary\":[{\"marker\":{\"colorbar\":{\"outlinewidth\":0,\"ticks\":\"\"}},\"type\":\"scatterternary\"}],\"surface\":[{\"colorbar\":{\"outlinewidth\":0,\"ticks\":\"\"},\"colorscale\":[[0.0,\"#0d0887\"],[0.1111111111111111,\"#46039f\"],[0.2222222222222222,\"#7201a8\"],[0.3333333333333333,\"#9c179e\"],[0.4444444444444444,\"#bd3786\"],[0.5555555555555556,\"#d8576b\"],[0.6666666666666666,\"#ed7953\"],[0.7777777777777778,\"#fb9f3a\"],[0.8888888888888888,\"#fdca26\"],[1.0,\"#f0f921\"]],\"type\":\"surface\"}],\"table\":[{\"cells\":{\"fill\":{\"color\":\"#EBF0F8\"},\"line\":{\"color\":\"white\"}},\"header\":{\"fill\":{\"color\":\"#C8D4E3\"},\"line\":{\"color\":\"white\"}},\"type\":\"table\"}]},\"layout\":{\"annotationdefaults\":{\"arrowcolor\":\"#2a3f5f\",\"arrowhead\":0,\"arrowwidth\":1},\"autotypenumbers\":\"strict\",\"coloraxis\":{\"colorbar\":{\"outlinewidth\":0,\"ticks\":\"\"}},\"colorscale\":{\"diverging\":[[0,\"#8e0152\"],[0.1,\"#c51b7d\"],[0.2,\"#de77ae\"],[0.3,\"#f1b6da\"],[0.4,\"#fde0ef\"],[0.5,\"#f7f7f7\"],[0.6,\"#e6f5d0\"],[0.7,\"#b8e186\"],[0.8,\"#7fbc41\"],[0.9,\"#4d9221\"],[1,\"#276419\"]],\"sequential\":[[0.0,\"#0d0887\"],[0.1111111111111111,\"#46039f\"],[0.2222222222222222,\"#7201a8\"],[0.3333333333333333,\"#9c179e\"],[0.4444444444444444,\"#bd3786\"],[0.5555555555555556,\"#d8576b\"],[0.6666666666666666,\"#ed7953\"],[0.7777777777777778,\"#fb9f3a\"],[0.8888888888888888,\"#fdca26\"],[1.0,\"#f0f921\"]],\"sequentialminus\":[[0.0,\"#0d0887\"],[0.1111111111111111,\"#46039f\"],[0.2222222222222222,\"#7201a8\"],[0.3333333333333333,\"#9c179e\"],[0.4444444444444444,\"#bd3786\"],[0.5555555555555556,\"#d8576b\"],[0.6666666666666666,\"#ed7953\"],[0.7777777777777778,\"#fb9f3a\"],[0.8888888888888888,\"#fdca26\"],[1.0,\"#f0f921\"]]},\"colorway\":[\"#636efa\",\"#EF553B\",\"#00cc96\",\"#ab63fa\",\"#FFA15A\",\"#19d3f3\",\"#FF6692\",\"#B6E880\",\"#FF97FF\",\"#FECB52\"],\"font\":{\"color\":\"#2a3f5f\"},\"geo\":{\"bgcolor\":\"white\",\"lakecolor\":\"white\",\"landcolor\":\"#E5ECF6\",\"showlakes\":true,\"showland\":true,\"subunitcolor\":\"white\"},\"hoverlabel\":{\"align\":\"left\"},\"hovermode\":\"closest\",\"mapbox\":{\"style\":\"light\"},\"paper_bgcolor\":\"white\",\"plot_bgcolor\":\"#E5ECF6\",\"polar\":{\"angularaxis\":{\"gridcolor\":\"white\",\"linecolor\":\"white\",\"ticks\":\"\"},\"bgcolor\":\"#E5ECF6\",\"radialaxis\":{\"gridcolor\":\"white\",\"linecolor\":\"white\",\"ticks\":\"\"}},\"scene\":{\"xaxis\":{\"backgroundcolor\":\"#E5ECF6\",\"gridcolor\":\"white\",\"gridwidth\":2,\"linecolor\":\"white\",\"showbackground\":true,\"ticks\":\"\",\"zerolinecolor\":\"white\"},\"yaxis\":{\"backgroundcolor\":\"#E5ECF6\",\"gridcolor\":\"white\",\"gridwidth\":2,\"linecolor\":\"white\",\"showbackground\":true,\"ticks\":\"\",\"zerolinecolor\":\"white\"},\"zaxis\":{\"backgroundcolor\":\"#E5ECF6\",\"gridcolor\":\"white\",\"gridwidth\":2,\"linecolor\":\"white\",\"showbackground\":true,\"ticks\":\"\",\"zerolinecolor\":\"white\"}},\"shapedefaults\":{\"line\":{\"color\":\"#2a3f5f\"}},\"ternary\":{\"aaxis\":{\"gridcolor\":\"white\",\"linecolor\":\"white\",\"ticks\":\"\"},\"baxis\":{\"gridcolor\":\"white\",\"linecolor\":\"white\",\"ticks\":\"\"},\"bgcolor\":\"#E5ECF6\",\"caxis\":{\"gridcolor\":\"white\",\"linecolor\":\"white\",\"ticks\":\"\"}},\"title\":{\"x\":0.05},\"xaxis\":{\"automargin\":true,\"gridcolor\":\"white\",\"linecolor\":\"white\",\"ticks\":\"\",\"title\":{\"standoff\":15},\"zerolinecolor\":\"white\",\"zerolinewidth\":2},\"yaxis\":{\"automargin\":true,\"gridcolor\":\"white\",\"linecolor\":\"white\",\"ticks\":\"\",\"title\":{\"standoff\":15},\"zerolinecolor\":\"white\",\"zerolinewidth\":2}}},\"xaxis\":{\"anchor\":\"y\",\"domain\":[0.0,1.0],\"title\":{\"text\":\"Values1\"}},\"yaxis\":{\"anchor\":\"x\",\"domain\":[0.0,1.0],\"title\":{\"text\":\"Values2\"}},\"legend\":{\"tracegroupgap\":0},\"margin\":{\"t\":60}},                        {\"responsive\": true}                    ).then(function(){\n                            \nvar gd = document.getElementById('3735394e-6975-4965-a49f-5d54ccb78ee9');\nvar x = new MutationObserver(function (mutations, observer) {{\n        var display = window.getComputedStyle(gd).display;\n        if (!display || display === 'none') {{\n            console.log([gd, 'removed!']);\n            Plotly.purge(gd);\n            observer.disconnect();\n        }}\n}});\n\n// Listen for the removal of the full notebook cells\nvar notebookContainer = gd.closest('#notebook-container');\nif (notebookContainer) {{\n    x.observe(notebookContainer, {childList: true});\n}}\n\n// Listen for the clearing of the current output cell\nvar outputEl = gd.closest('.output');\nif (outputEl) {{\n    x.observe(outputEl, {childList: true});\n}}\n\n                        })                };                });            </script>        </div>"
     },
     "metadata": {},
     "output_type": "display_data"
    }
   ],
   "source": [
    "# =========== final program ============\n",
    "plot_lineplot1()\n",
    "plot_lineplot2()\n",
    "plot_barplot1()\n",
    "plot_scatterplot1()"
   ]
  }
 ],
 "metadata": {
  "kernelspec": {
   "display_name": "Python 3",
   "language": "python",
   "name": "python3"
  },
  "language_info": {
   "codemirror_mode": {
    "name": "ipython",
    "version": 3
   },
   "file_extension": ".py",
   "mimetype": "text/x-python",
   "name": "python",
   "nbconvert_exporter": "python",
   "pygments_lexer": "ipython3",
   "version": "3.8.10"
  }
 },
 "nbformat": 4,
 "nbformat_minor": 5
}