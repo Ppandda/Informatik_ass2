{
 "cells": [
  {
   "cell_type": "code",
   "execution_count": 1,
   "id": "d9762908-3092-4fa4-ad89-722005436544",
   "metadata": {},
   "outputs": [],
   "source": [
    "################################################################################\n",
    "# Author 1:      Bernhard Lugger\n",
    "# MatNr 1:       01114792\n",
    "# Author 2:      Paula Nauta\n",
    "# MatNr 2:       11938311\n",
    "# File:          assignment2.ipynb\n",
    "# Description: ... short description of the file ...\n",
    "# Comments:    ... comments for the tutors ...\n",
    "#              ... can be multiline ...\n",
    "################################################################################"
   ]
  },
  {
   "cell_type": "code",
   "execution_count": 2,
   "id": "7d893ec2",
   "metadata": {
    "collapsed": false,
    "jupyter": {
     "outputs_hidden": false
    },
    "pycharm": {
     "name": "#%%\n"
    }
   },
   "outputs": [
    {
     "ename": "ModuleNotFoundError",
     "evalue": "No module named 'matplotlib'",
     "output_type": "error",
     "traceback": [
      "\u001B[0;31m---------------------------------------------------------------------------\u001B[0m",
      "\u001B[0;31mModuleNotFoundError\u001B[0m                       Traceback (most recent call last)",
      "\u001B[0;32m/tmp/ipykernel_57176/2969423364.py\u001B[0m in \u001B[0;36m<module>\u001B[0;34m\u001B[0m\n\u001B[1;32m      1\u001B[0m \u001B[0;31m# imports\u001B[0m\u001B[0;34m\u001B[0m\u001B[0;34m\u001B[0m\u001B[0;34m\u001B[0m\u001B[0m\n\u001B[0;32m----> 2\u001B[0;31m \u001B[0;32mimport\u001B[0m \u001B[0mmatplotlib\u001B[0m\u001B[0;34m.\u001B[0m\u001B[0mpyplot\u001B[0m \u001B[0;32mas\u001B[0m \u001B[0mplt\u001B[0m \u001B[0;31m# or from matplotlib import pyplot as plt\u001B[0m\u001B[0;34m\u001B[0m\u001B[0;34m\u001B[0m\u001B[0m\n\u001B[0m\u001B[1;32m      3\u001B[0m \u001B[0;32mimport\u001B[0m \u001B[0mmatplotlib\u001B[0m\u001B[0;34m.\u001B[0m\u001B[0mdates\u001B[0m \u001B[0;32mas\u001B[0m \u001B[0mmdates\u001B[0m \u001B[0;31m# we use this to space our date-xticks\u001B[0m\u001B[0;34m\u001B[0m\u001B[0;34m\u001B[0m\u001B[0m\n\u001B[1;32m      4\u001B[0m \u001B[0;32mimport\u001B[0m \u001B[0mnumpy\u001B[0m \u001B[0;32mas\u001B[0m \u001B[0mnp\u001B[0m\u001B[0;34m\u001B[0m\u001B[0;34m\u001B[0m\u001B[0m\n\u001B[1;32m      5\u001B[0m \u001B[0;32mimport\u001B[0m \u001B[0mpandas\u001B[0m \u001B[0;32mas\u001B[0m \u001B[0mpd\u001B[0m\u001B[0;34m\u001B[0m\u001B[0;34m\u001B[0m\u001B[0m\n",
      "\u001B[0;31mModuleNotFoundError\u001B[0m: No module named 'matplotlib'"
     ]
    }
   ],
   "source": [
    "# imports\n",
    "import matplotlib.pyplot as plt # or from matplotlib import pyplot as plt\n",
    "import matplotlib.dates as mdates # we use this to space our date-xticks\n",
    "import numpy as np\n",
    "import pandas as pd\n",
    "\n",
    "import plotly.express as px\n",
    "# Plotly express is especcialy useful if you want to plot dataframes (e.g. Pandas Dataframe).\n",
    "from plotly.subplots import make_subplots\n",
    "# import plotly.graph_objects as go\n"
   ]
  },
  {
   "cell_type": "markdown",
   "source": [],
   "metadata": {
    "collapsed": false
   }
  },
  {
   "cell_type": "code",
   "execution_count": null,
   "id": "c511d0e0-65b3-4ebb-bd73-2a0bbd3c2b9e",
   "metadata": {},
   "outputs": [],
   "source": [
    "# funktionen \n",
    "\n",
    "#\n",
    "def load_oecd_data_to_df(file_path):\n",
    "    \"\"\"loads one or more csv table at the given path and returns it to a dataframe.\"\"\"\n",
    "\n",
    "    #file_path_adv = r'athlete_events.csv'  # r before path to avoid '\\' in path\n",
    "    oecd_data = pd.read_csv(file_path, index_col=False)\n",
    "    return oecd_data\n",
    "\n",
    "def choosen_countries(raw_df, c1, c2, c3, c4, c5):\n",
    "    \"\"\"ausgewählte länder aus dem dataframe in ein neues dataframe\"\"\"\n",
    "\n",
    "    #TODO:\n",
    "    # - dataframe, spalten: 0:land, 5:jahr, 6:wert,\n",
    "    # - zeilen: where choosen countries, zB.\n",
    "    return cropped_df\n",
    "\n",
    "\n",
    "def plot_lineplot(df, country1, country2, country3, country4, country5):\n",
    "    \"\"\"plots a plot...\"\"\"\n",
    "    # entweder raw_df einlesen und nur einzelne Länder ausschneiden/verwenden und ploten\n",
    "    # ODER\n",
    "    # vorbereitetes cropped_df ploten <-- wirkt sinnvoller für diese funktion\n",
    "\n",
    "def plot_barplot(df, country1, country2, country3, country4, country5):\n",
    "\n",
    "def plot_scatterplot(df, country1, country2):\n"
   ]
  },
  {
   "cell_type": "code",
   "execution_count": null,
   "outputs": [],
   "source": [
    "# program\n",
    "\n",
    "plot_lineplot(land_a, land_b)\n",
    "plot_lineplot(land_a, land_b)\n",
    "plot_lineplot(land_a, land_b)\n",
    "\n",
    "bar_lineplot(country1, country2, country3, country4, country5)\n",
    "bar_lineplot(country1, country2, country3)\n",
    "bar_lineplot(country1, country2, country3)\n",
    "\n",
    "scatter\n",
    "scatter\n",
    "scatter"
   ],
   "metadata": {
    "collapsed": false,
    "pycharm": {
     "name": "#%%\n"
    }
   }
  }
 ],
 "metadata": {
  "kernelspec": {
   "display_name": "Python 3 (ipykernel)",
   "language": "python",
   "name": "python3"
  },
  "language_info": {
   "codemirror_mode": {
    "name": "ipython",
    "version": 3
   },
   "file_extension": ".py",
   "mimetype": "text/x-python",
   "name": "python",
   "nbconvert_exporter": "python",
   "pygments_lexer": "ipython3",
   "version": "3.9.9"
  }
 },
 "nbformat": 4,
 "nbformat_minor": 5
}