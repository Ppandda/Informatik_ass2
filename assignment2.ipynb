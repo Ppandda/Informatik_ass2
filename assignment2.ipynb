{
 "cells": [
  {
   "cell_type": "code",
   "execution_count": 1,
   "id": "d9762908-3092-4fa4-ad89-722005436544",
   "metadata": {},
   "outputs": [],
   "source": [
    "################################################################################\n",
    "# Author 1:      Bernhard Lugger\n",
    "# MatNr 1:       01114792\n",
    "# Author 2:      Paula Nauta\n",
    "# MatNr 2:       11938311\n",
    "# File:          assignment2.ipynb\n",
    "# Description: ... short description of the file ...\n",
    "# Comments:    ... comments for the tutors ...\n",
    "#              ... can be multiline ...\n",
    "################################################################################"
   ]
  },
  {
   "cell_type": "code",
   "execution_count": 2,
   "id": "7d893ec2",
   "metadata": {
    "collapsed": false,
    "jupyter": {
     "outputs_hidden": false
    },
    "pycharm": {
     "name": "#%%\n"
    }
   },
   "outputs": [],
   "source": [
    "# imports\n",
    "import matplotlib.pyplot as plt # or from matplotlib import pyplot as plt\n",
    "import matplotlib.dates as mdates # we use this to space our date-xticks\n",
    "import numpy as np\n",
    "import pandas as pd\n",
    "\n",
    "import plotly.express as px\n",
    "# Plotly express is especcialy useful if you want to plot dataframes (e.g. Pandas Dataframe).\n",
    "from plotly.subplots import make_subplots\n",
    "# import plotly.graph_objects as go\n"
   ]
  },
  {
   "cell_type": "markdown",
   "source": [],
   "metadata": {
    "collapsed": false
   }
  },
  {
   "cell_type": "code",
   "execution_count": 3,
   "outputs": [],
   "source": [
    "# -------- functions ------------\n",
    "\n",
    "def load_oecd_data_to_df(file_path):\n",
    "    \"\"\"loads one csv from the given path and returns the 3 relevant columns to a dataframe.\"\"\"\n",
    "    oecd_data = pd.read_csv(file_path, header=0, usecols=['LOCATION', 'TIME', 'Value'])\n",
    "    return oecd_data\n",
    "\n",
    "\n",
    "def choosen_countries(raw_df, c1, c2, c3, c4, c5):\n",
    "    \"\"\"ausgewählte länder aus dem dataframe in ein neues dataframe\"\"\"\n",
    "\n",
    "    #TODO:\n",
    "    # - dataframe, spalten: 0:land, 5:jahr, 6:wert,\n",
    "    # - zeilen: where choosen countries, zB.\n",
    "    return cropped_df\n",
    "\n",
    "\n",
    "def plot_lineplot(df, country1, country2, country3, country4, country5):\n",
    "    \"\"\"plots a plot...\"\"\"\n",
    "    return 0\n",
    "    # entweder raw_df einlesen und nur einzelne Länder ausschneiden/verwenden und ploten\n",
    "    # ODER\n",
    "    # vorbereitetes cropped_df ploten <-- wirkt sinnvoller für diese funktion\n",
    "\n",
    "\n",
    "def plot_barplot(df, country1, country2, country3, country4, country5):\n",
    "    return 0\n",
    "\n",
    "\n",
    "def plot_scatterplot(df, country1, country2):\n",
    "    return 0"
   ],
   "metadata": {
    "collapsed": false,
    "pycharm": {
     "name": "#%%\n"
    }
   }
  },
  {
   "cell_type": "code",
   "execution_count": 4,
   "outputs": [
    {
     "data": {
      "text/plain": "      LOCATION  TIME          Value\n0          AUS  1951       2.971132\n1          AUS  1952       2.550554\n2          AUS  1953       2.070283\n3          AUS  1954       1.942078\n4          AUS  1955       2.372448\n...        ...   ...            ...\n15843     EU27  2016  227831.860500\n15844     EU27  2017  228089.551500\n15845     EU27  2018  228375.375500\n15846     EU27  2019  228744.232000\n15847     EU27  2020  228910.866000\n\n[15848 rows x 3 columns]",
      "text/html": "<div>\n<style scoped>\n    .dataframe tbody tr th:only-of-type {\n        vertical-align: middle;\n    }\n\n    .dataframe tbody tr th {\n        vertical-align: top;\n    }\n\n    .dataframe thead th {\n        text-align: right;\n    }\n</style>\n<table border=\"1\" class=\"dataframe\">\n  <thead>\n    <tr style=\"text-align: right;\">\n      <th></th>\n      <th>LOCATION</th>\n      <th>TIME</th>\n      <th>Value</th>\n    </tr>\n  </thead>\n  <tbody>\n    <tr>\n      <th>0</th>\n      <td>AUS</td>\n      <td>1951</td>\n      <td>2.971132</td>\n    </tr>\n    <tr>\n      <th>1</th>\n      <td>AUS</td>\n      <td>1952</td>\n      <td>2.550554</td>\n    </tr>\n    <tr>\n      <th>2</th>\n      <td>AUS</td>\n      <td>1953</td>\n      <td>2.070283</td>\n    </tr>\n    <tr>\n      <th>3</th>\n      <td>AUS</td>\n      <td>1954</td>\n      <td>1.942078</td>\n    </tr>\n    <tr>\n      <th>4</th>\n      <td>AUS</td>\n      <td>1955</td>\n      <td>2.372448</td>\n    </tr>\n    <tr>\n      <th>...</th>\n      <td>...</td>\n      <td>...</td>\n      <td>...</td>\n    </tr>\n    <tr>\n      <th>15843</th>\n      <td>EU27</td>\n      <td>2016</td>\n      <td>227831.860500</td>\n    </tr>\n    <tr>\n      <th>15844</th>\n      <td>EU27</td>\n      <td>2017</td>\n      <td>228089.551500</td>\n    </tr>\n    <tr>\n      <th>15845</th>\n      <td>EU27</td>\n      <td>2018</td>\n      <td>228375.375500</td>\n    </tr>\n    <tr>\n      <th>15846</th>\n      <td>EU27</td>\n      <td>2019</td>\n      <td>228744.232000</td>\n    </tr>\n    <tr>\n      <th>15847</th>\n      <td>EU27</td>\n      <td>2020</td>\n      <td>228910.866000</td>\n    </tr>\n  </tbody>\n</table>\n<p>15848 rows × 3 columns</p>\n</div>"
     },
     "execution_count": 4,
     "metadata": {},
     "output_type": "execute_result"
    }
   ],
   "source": [
    "# ------------------ Test -------------------------\n",
    "path_to_file = 'datasets/original/DP_LIVE_15122021160749354.csv'\n",
    "df1 = load_oecd_data_to_df(path_to_file)\n",
    "df1"
   ],
   "metadata": {
    "collapsed": false,
    "pycharm": {
     "name": "#%%\n"
    }
   }
  },
  {
   "cell_type": "code",
   "execution_count": null,
   "outputs": [],
   "source": [
    "# ------------ final program (later) ----------\n",
    "\"\"\"\n",
    "\n",
    "plot_lineplot(land_a, land_b)\n",
    "plot_lineplot(land_a, land_b)\n",
    "plot_lineplot(land_a, land_b)\n",
    "\n",
    "bar_lineplot(country1, country2, country3, country4, country5)\n",
    "bar_lineplot(country1, country2, country3)\n",
    "bar_lineplot(country1, country2, country3)\n",
    "\n",
    "scatter\n",
    "scatter\n",
    "scatter\n",
    "\n",
    "\"\"\"\n"
   ],
   "metadata": {
    "collapsed": false,
    "pycharm": {
     "name": "#%%\n"
    }
   }
  }
 ],
 "metadata": {
  "kernelspec": {
   "display_name": "Python 3 (ipykernel)",
   "language": "python",
   "name": "python3"
  },
  "language_info": {
   "codemirror_mode": {
    "name": "ipython",
    "version": 3
   },
   "file_extension": ".py",
   "mimetype": "text/x-python",
   "name": "python",
   "nbconvert_exporter": "python",
   "pygments_lexer": "ipython3",
   "version": "3.9.9"
  }
 },
 "nbformat": 4,
 "nbformat_minor": 5
}