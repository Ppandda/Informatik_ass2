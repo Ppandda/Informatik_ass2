{
 "cells": [
  {
   "cell_type": "code",
   "execution_count": null,
   "id": "c8ba23df",
   "metadata": {},
   "outputs": [],
   "source": [
    "################################################################################\n",
    "# Author 1:      Bernhard Lugger\n",
    "# MatNr 1:       01114792\n",
    "# Author 2:      Paula Nauta\n",
    "# MatNr 2:       11938311\n",
    "# File:          assignment2.ipynb\n",
    "# Description:   several different plots of OECD data\n",
    "# Comments:    ... comments for the tutors ...\n",
    "#              ... can be multiline ...\n",
    "################################################################################"
   ]
  },
  {
   "cell_type": "code",
   "execution_count": null,
   "id": "73568c53",
   "metadata": {
    "jupyter": {
     "outputs_hidden": false
    },
    "pycharm": {
     "name": "#%%\n"
    }
   },
   "outputs": [],
   "source": [
    "# ========== imports ============\n",
    "\n",
    "import pandas as pd\n",
    "import pycountry as pc\n",
    "import pycountry_convert as pcc\n",
    "import plotly.express as px\n",
    "\n",
    "\n",
    "# import matplotlib.pyplot as plt # or from matplotlib import pyplot as plt\n",
    "# import matplotlib.dates as mdates # we use this to space our date-xticks\n",
    "# import numpy as np\n",
    "\n",
    "# Plotly express is especcialy useful if you want to plot dataframes (e.g. Pandas Dataframe).\n",
    "# from plotly.subplots import make_subplots\n",
    "# import plotly.graph_objects as go"
   ]
  },
  {
   "cell_type": "code",
   "execution_count": null,
   "id": "4c61e345",
   "metadata": {
    "pycharm": {
     "name": "#%%\n"
    }
   },
   "outputs": [],
   "source": [
    "# -- NEW or renewed functions --    !! WORKING !!\n",
    "\n",
    "# '*' means that you can pass as many parameters (in this case 'countries' as you wish)\n",
    "def load_oecd_csv_to_df(file_path, *chosen_countries):\n",
    "    \"\"\"loads one csv from the given path and returns the relevant columns of arbitrary chosen\n",
    "    country-alpha3 names to a dataframe. With LOCATION of countries in fullname. \"\"\"\n",
    "    oecd_data = pd.read_csv(file_path, header=0, usecols=['LOCATION','SUBJECT', 'MEASURE', 'TIME', 'Value'],\n",
    "                            delimiter=\",\")     # ('header=0' --> column names)\n",
    "\n",
    "    if not chosen_countries:    # DEFAULT if no countries chosen, all rows/entries get returned\n",
    "        return oecd_data  #  <--- works dirty, but works!\n",
    "        # TODO: ---->   https://towardsdatascience.com/using-python-to-create-a-world-map-from-a-list-of-country-names-cd7480d03b10\n",
    "\n",
    "    else:\n",
    "        final_filtered_df = pd.DataFrame()\n",
    "        country_alpha3_names = []\n",
    "\n",
    "        # try:\n",
    "        for country in chosen_countries:\n",
    "            country_alpha3_names.append(country)\n",
    "        # except:\n",
    "        for country in country_alpha3_names:\n",
    "            df_mask=oecd_data['LOCATION']==country            # known from assignment1\n",
    "            filtered_df = oecd_data[df_mask]\n",
    "            final_filtered_df = final_filtered_df.append(filtered_df)\n",
    "\n",
    "        for country in chosen_countries:        # replace alpha3 names with full names of countries\n",
    "            full_name = countries_fullname(country)\n",
    "            final_filtered_df = final_filtered_df.replace([country], full_name)\n",
    "\n",
    "        return final_filtered_df\n",
    "\n",
    "\n",
    "def load_oecd_csv_to_df_alpha3(file_path, *chosen_countries):\n",
    "    \"\"\"loads one csv from the given path and returns the relevant columns of arbitrary\n",
    "    chosen country-alpha3 codes to a dataframe. With LOCATION of countries in alpha3 name.\"\"\"\n",
    "    oecd_data = pd.read_csv(file_path, header=0, usecols=['LOCATION','SUBJECT', 'MEASURE', 'TIME', 'Value'],\n",
    "                            delimiter=\",\")\n",
    "    if not chosen_countries:    # DEFAULT if no countries chosen, all rows/entries get returned\n",
    "        return oecd_data\n",
    "    else:\n",
    "        final_filtered_df = pd.DataFrame()\n",
    "        country_alpha3_names = []\n",
    "\n",
    "        for country in chosen_countries:\n",
    "            country_alpha3_names.append(country)\n",
    "\n",
    "        for country in country_alpha3_names:\n",
    "            df_mask=oecd_data['LOCATION']==country\n",
    "            filtered_df = oecd_data[df_mask]\n",
    "            final_filtered_df = final_filtered_df.append(filtered_df)\n",
    "\n",
    "        return final_filtered_df\n",
    "\n",
    "\n",
    "# ---------------------------------------------------------------------------------------\n",
    "# ---------------------  !!! Experimental !!!  ------------------------------------------\n",
    "# ---------------------------------------------------------------------------------------\n",
    "def alpha3_column_to_continent_column(countries_alpha3_series):\n",
    "    \"\"\"expects alpha3 of a country and returns the continent in whitch it is located. \"\"\"\n",
    "    continent_series = pd.Series()\n",
    "    for country_alpha3 in countries_alpha3_series:\n",
    "        a2 = pcc.country_alpha3_to_country_alpha2(country_alpha3)\n",
    "        continent_code = pcc.country_alpha2_to_continent_code(a2)\n",
    "        continent_name = pcc.convert_continent_code_to_continent_name(continent_code)\n",
    "        final_continent_series = continent_series.append(continent_name)\n",
    "\n",
    "\n",
    "    continent_series = pd.Series()\n",
    "    continent_series.index = df_final.index  # would be to easy to be true -.-\n",
    "    continent_series = alpha3_column_to_continent_column(continent_series)\n",
    "    with_conti = pd.concat([df_final, continent_series], axis=1)\n",
    "    print(with_conti)\n",
    "\n",
    "    print(final_continent_series)\n",
    "    return final_continent_series\n",
    "\n"
   ]
  },
  {
   "cell_type": "code",
   "execution_count": null,
   "id": "7d9093b8",
   "metadata": {
    "pycharm": {
     "name": "#%%\n"
    }
   },
   "outputs": [],
   "source": [
    "# countries_continent('AUT')\n",
    "\n",
    "# alpha3_column_to_continent_column(countries_alpha3_series)"
   ]
  },
  {
   "cell_type": "code",
   "execution_count": null,
   "id": "058deaea",
   "metadata": {
    "pycharm": {
     "name": "#%%\n"
    }
   },
   "outputs": [],
   "source": [
    "# ========== functions ============\n",
    "\n",
    "def countries_fullname(country):\n",
    "    \"\"\"receives alpha_3 from a country (e.g. 'AUS') and returns the\n",
    "    full name of the country (e.g. 'Australia')\"\"\"\n",
    "    country_full = pc.countries.get(alpha_3=country)\n",
    "    country_name = country_full.name\n",
    "    return country_name\n",
    "\n",
    "\n",
    "def filter_dataframe(df, column, value):\n",
    "    \"\"\"returns only data where the given value is in column.\"\"\"\n",
    "    df_mask=df[column]==value\n",
    "    filtered_df = df[df_mask]\n",
    "    return filtered_df\n",
    "\n",
    "\n",
    "def prepare_scatterplot1_df(df1, df2, year):\n",
    "    \"\"\"prepares/edits data from 2 dataframes from one year [int] to one new dataframe\"\"\"\n",
    "    df1_filtered = filter_dataframe(df1, 'SUBJECT', 'GHG')\n",
    "    df1_filtered = filter_dataframe(df1_filtered, 'MEASURE', 'TONNE_CAP')\n",
    "    df1_filtered = filter_dataframe(df1_filtered, 'TIME', year)\n",
    "\n",
    "    df1_filtered_indexed = df1_filtered.set_index('LOCATION')\n",
    "    df1_filtered_indexed = df1_filtered_indexed.rename(columns={'Value': 'Values1'})\n",
    "    df1_final = df1_filtered_indexed.Values1\n",
    "\n",
    "    df2_filtered = filter_dataframe(df2, 'SUBJECT', 'TRY')\n",
    "    df2_filtered = filter_dataframe(df2_filtered, 'TIME', year)\n",
    "\n",
    "    df2_filtered_indexed = df2_filtered.set_index('LOCATION')\n",
    "    df2_filtered_indexed = df2_filtered_indexed.rename(columns={'Value': 'Values2'})\n",
    "    df2_final = df2_filtered_indexed.Values2\n",
    "\n",
    "    df_final = pd.concat([df1_final, df2_final], axis=1) # <-- works but i guess not clean\n",
    "\n",
    "    return df_final\n",
    "\n",
    "\n",
    "def plot_lineplot(df, title, xaxis_text):\n",
    "    \"\"\"plots a lineplot of the given DataFrame with the given title and x-axis text.\"\"\"\n",
    "    fig = px.line(df, x=\"TIME\",y=\"Value\", color=\"LOCATION\", title=title)\n",
    "    fig.update_layout(xaxis={\"rangeslider\": {\"visible\": True}})\n",
    "    fig.update_yaxes(title_text = xaxis_text)\n",
    "    fig.show()\n",
    "\n",
    "\n",
    "def plot_barplot(df, title, xaxis_text):\n",
    "    \"\"\"plots a barplot of the given DataFrame with the given title and x-axis text.\"\"\"\n",
    "    fig = px.bar(df, x=\"LOCATION\",y=\"Value\", color=\"LOCATION\", title=title)\n",
    "    fig.update_yaxes(title_text = xaxis_text)\n",
    "    fig.show()\n",
    "\n",
    "\n",
    "def plot_scatterplot(df, plot_title, x_axis_name, y_axis_name):\n",
    "    correlation = round(df['Values1'].corr(df['Values2']),3)\n",
    "    title_constructor = plot_title + ',        corr = ' + str(correlation)\n",
    "    fig = px.scatter(df, title = title_constructor,  x='Values1', y='Values2', color=df.index, hover_data=['Values1'])\n",
    "    # size='petal_length',\n",
    "\n",
    "    fig.update_xaxes(title_text = x_axis_name)\n",
    "    fig.update_yaxes(title_text = y_axis_name)\n",
    "    fig.show()"
   ]
  },
  {
   "cell_type": "code",
   "execution_count": null,
   "id": "5094bb4d",
   "metadata": {
    "pycharm": {
     "name": "#%%\n"
    }
   },
   "outputs": [],
   "source": [
    "# ---------> teeeeeeeest <------\n",
    "df_researchers = load_oecd_csv_to_df('datasets/DP_LIVE_02012022214642229.csv')\n",
    "print(df_researchers)\n"
   ]
  },
  {
   "cell_type": "code",
   "execution_count": null,
   "id": "255d4442",
   "metadata": {
    "pycharm": {
     "name": "#%%\n"
    }
   },
   "outputs": [],
   "source": [
    "# =============== Plot functions ==================\n",
    "\n",
    "# ----- Line-Plots --------\n",
    "# Government researchers\n",
    "def plot_lineplot1():\n",
    "    \"\"\"plots lineplot1 about Government researchers. \"\"\"\n",
    "    df_researchers = load_oecd_csv_to_df('datasets/DP_LIVE_02012022214642229.csv')\n",
    "    df_researchers_filtered = filter_dataframe(df_researchers, 'SUBJECT', 'TOT')\n",
    "    df_researchers_filtered = filter_dataframe(df_researchers_filtered, 'MEASURE', 'PC_NATIONAL')\n",
    "    plot_lineplot(df_researchers_filtered,\"Government researchers\",\"% of national total\")\n",
    "\n",
    "# Young population\n",
    "def plot_lineplot2():\n",
    "    \"\"\"plots lineplot2 about Young population. \"\"\"\n",
    "    df_young = load_oecd_csv_to_df('datasets/DP_LIVE_02012022233800555.csv', 'AUT', 'ITA', 'AUS', 'USA', 'BEL')\n",
    "    plot_lineplot(df_young,\"Young population\", \"% of population\")\n",
    "\n",
    "\n",
    "# ----- Bar-Plots --------\n",
    "# Discrimination in the family\n",
    "def plot_barplot1():\n",
    "    \"\"\"plots barplot1 about Attitudes towards working mothers. \"\"\"\n",
    "    df_discrimination = load_oecd_csv_to_df('datasets/DP_LIVE_03012022021117254.csv', 'AUT', 'ITA', 'AUS', 'USA', 'BEL')\n",
    "    df_discrimination_filtered = filter_dataframe(df_discrimination, 'SUBJECT', 'ATTWORKMUM')\n",
    "    plot_barplot(df_discrimination_filtered, \"Discrimination in the family 2019\", \"Attitudes towards working mothers [%]\")\n",
    "\n",
    "\n",
    "# ----- Scatter-Plots --------\n",
    "# Greenhouse gas (GHG), Tonnes/capita;   Adult education level - Tertiary, % of 25-64 year-olds, 2020 or latest available\n",
    "def plot_scatterplot1():\n",
    "    \"\"\"plots scatterplot1 about Greenhouse gas (GHG), Tonnes/capita and  Adult education level - Tertiary. \"\"\"\n",
    "    df_ghg = load_oecd_csv_to_df_alpha3('datasets/DP_LIVE_04012022042348960.csv', 'AUT', 'ITA', 'AUS', 'USA', 'BEL')\n",
    "    df_edu_ter = load_oecd_csv_to_df_alpha3('datasets/DP_LIVE_04012022044322787.csv', 'AUT', 'ITA', 'AUS', 'USA', 'BEL')\n",
    "    df_scatter1 = prepare_scatterplot1_df(df_ghg, df_edu_ter, 2010)\n",
    "    plot_scatterplot(df_scatter1, 'GHG and adult education', 'GHG in tonns per capita',\n",
    "                     'Adult education level - Tertiary, % of 25-64 year-olds')"
   ]
  },
  {
   "cell_type": "code",
   "execution_count": null,
   "id": "95ebe8df",
   "metadata": {
    "pycharm": {
     "name": "#%%\n"
    }
   },
   "outputs": [],
   "source": [
    "# =========== final program ============\n",
    "plot_lineplot1()\n",
    "# plot_lineplot2()\n",
    "# plot_barplot1()\n",
    "plot_scatterplot1()"
   ]
  }
 ],
 "metadata": {
  "kernelspec": {
   "display_name": "Python 3 (ipykernel)",
   "language": "python",
   "name": "python3"
  },
  "language_info": {
   "codemirror_mode": {
    "name": "ipython",
    "version": 3
   },
   "file_extension": ".py",
   "mimetype": "text/x-python",
   "name": "python",
   "nbconvert_exporter": "python",
   "pygments_lexer": "ipython3",
   "version": "3.9.7"
  }
 },
 "nbformat": 4,
 "nbformat_minor": 5
}
