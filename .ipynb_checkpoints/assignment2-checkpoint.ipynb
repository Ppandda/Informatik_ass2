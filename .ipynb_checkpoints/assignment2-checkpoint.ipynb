{
 "cells": [
  {
   "cell_type": "code",
   "execution_count": null,
   "metadata": {},
   "outputs": [],
   "source": [
    "################################################################################\n",
    "# Author 1:      Bernhard Lugger\n",
    "# MatNr 1:       01114792\n",
    "# Author 2:      Paula Nauta\n",
    "# MatNr 2:       11938311\n",
    "# File:          assignment2.ipynb\n",
    "# Description: ... short description of the file ...\n",
    "# Comments:    ... comments for the tutors ...\n",
    "#              ... can be multiline ...\n",
    "################################################################################"
   ]
  },
  {
   "cell_type": "code",
   "execution_count": null,
   "metadata": {
    "jupyter": {
     "outputs_hidden": false
    },
    "pycharm": {
     "name": "#%%\n"
    }
   },
   "outputs": [],
   "source": [
    "# imports\n",
    "import matplotlib.pyplot as plt # or from matplotlib import pyplot as plt\n",
    "import matplotlib.dates as mdates # we use this to space our date-xticks\n",
    "import numpy as np\n",
    "import pandas as pd\n",
    "import pycountry as pc\n",
    "import plotly.express as px\n",
    "# Plotly express is especcialy useful if you want to plot dataframes (e.g. Pandas Dataframe).\n",
    "# from plotly.subplots import make_subplots\n",
    "# import plotly.graph_objects as go"
   ]
  },
  {
   "cell_type": "markdown",
   "metadata": {},
   "source": []
  },
  {
   "cell_type": "code",
   "execution_count": null,
   "metadata": {
    "pycharm": {
     "name": "#%%\n"
    }
   },
   "outputs": [],
   "source": [
    "# ========== functions ============\n",
    "\n",
    "def countries_fullname(country):   # z.b 'AUS'\n",
    "    \"\"\"ausgewählte länder aus dem dataframe in ein neues dataframe\"\"\"\n",
    "    country_full = pc.countries.get(alpha_3=country)\n",
    "    country_name = country_full.name\n",
    "    return country_name\n",
    "\n",
    "def load_chosen_oecd_data(file_path, *chosen_countries):\n",
    "    \"\"\"loads one csv from the given path and returns the relevant columns of arbitrary chosen countries to a dataframe.\"\"\"\n",
    "    oecd_data = pd.read_csv(file_path, header=0, usecols=['LOCATION','SUBJECT', 'MEASURE', 'TIME', 'Value'], delimiter=\",\")\n",
    "\n",
    "    final_filtered_df = pd.DataFrame()\n",
    "    country_alpha3_names = []\n",
    "\n",
    "    for country in chosen_countries:\n",
    "        country_alpha3_names.append(country)\n",
    "\n",
    "    for country in country_alpha3_names:\n",
    "        df_mask=oecd_data['LOCATION']==country\n",
    "        filtered_df = oecd_data[df_mask]\n",
    "        final_filtered_df = final_filtered_df.append(filtered_df)\n",
    "\n",
    "    for country in chosen_countries:    # replace alpha3 names with full names of countries\n",
    "        full_name = countries_fullname(country)\n",
    "        final_filtered_df = final_filtered_df.replace([country], full_name)\n",
    "\n",
    "    return final_filtered_df\n",
    "\n",
    "\n",
    "def load_chosen_oecd_data_pure(file_path, *chosen_countries):\n",
    "    \"\"\"loads one csv from the given path and returns the relevant columns of arbitrary chosen countries to a dataframe.\"\"\"\n",
    "    oecd_data = pd.read_csv(file_path, header=0, usecols=['LOCATION','SUBJECT', 'MEASURE', 'TIME', 'Value'], delimiter=\",\")\n",
    "\n",
    "    final_filtered_df = pd.DataFrame()\n",
    "    country_alpha3_names = []\n",
    "\n",
    "    for country in chosen_countries:\n",
    "        country_alpha3_names.append(country)\n",
    "\n",
    "    for country in country_alpha3_names:\n",
    "        df_mask=oecd_data['LOCATION']==country\n",
    "        filtered_df = oecd_data[df_mask]\n",
    "        final_filtered_df = final_filtered_df.append(filtered_df)\n",
    "\n",
    "    return final_filtered_df\n",
    "\n",
    "\n",
    "def filter_dataframe(df, column, value):\n",
    "    \"\"\"returns only data where the given value is in column.\"\"\"\n",
    "    df_mask=df[column]==value\n",
    "    filtered_df = df[df_mask]\n",
    "    return filtered_df\n",
    "\n",
    "\n",
    "def prepare_scatterplot1_df(df1, df2, year):\n",
    "    \"\"\"prepares/edits data from 2 dataframes from one year [int] to one new dataframe\"\"\"\n",
    "    df1_filtered = filter_dataframe(df1, 'SUBJECT', 'GHG')\n",
    "    df1_filtered = filter_dataframe(df1_filtered, 'MEASURE', 'TONNE_CAP')\n",
    "    df1_filtered = filter_dataframe(df1_filtered, 'TIME', year)\n",
    "\n",
    "    df1_filtered_indexed = df1_filtered.set_index('LOCATION')\n",
    "    df1_filtered_indexed = df1_filtered_indexed.rename(columns={'Value': 'Values1'})\n",
    "    df1_final = df1_filtered_indexed.Values1\n",
    "\n",
    "\n",
    "    df2_filtered = filter_dataframe(df2, 'SUBJECT', 'TRY')\n",
    "    df2_filtered = filter_dataframe(df2_filtered, 'TIME', year)\n",
    "\n",
    "    df2_filtered_indexed = df2_filtered.set_index('LOCATION')\n",
    "    df2_filtered_indexed = df2_filtered_indexed.rename(columns={'Value': 'Values2'})\n",
    "    df2_final = df2_filtered_indexed.Values2\n",
    "\n",
    "    df_final = pd.concat([df1_final, df2_final], axis=1) # <-- works but i guess not clean\n",
    "    return df_final\n",
    "\n",
    "\n",
    "def plot_lineplot(df, title, xaxis_text):\n",
    "    \"\"\"plots a lineplot of the given DataFrame with the given title and x-axis text.\"\"\"\n",
    "    fig = px.line(df, x=\"TIME\",y=\"Value\", color=\"LOCATION\", title=title)\n",
    "    fig.update_layout(xaxis={\"rangeslider\": {\"visible\": True}})\n",
    "    fig.update_yaxes(title_text = xaxis_text)\n",
    "    fig.show()\n",
    "\n",
    "\n",
    "def plot_barplot(df, title, xaxis_text):\n",
    "    \"\"\"plots a barplot of the given DataFrame with the given title and x-axis text.\"\"\"\n",
    "    fig = px.bar(df, x=\"LOCATION\",y=\"Value\", color=\"LOCATION\", title=title)\n",
    "    fig.update_yaxes(title_text = xaxis_text)\n",
    "    fig.show()\n",
    "\n",
    "\n",
    "def plot_scatterplot(df):\n",
    "    fig = px.scatter(df, x=\"Values1\", y=\"Values2\") # size='petal_length', hover_data=['petal_width'],color=\"LOCATION\n",
    "    fig.show()"
   ]
  },
  {
   "cell_type": "code",
   "execution_count": null,
   "metadata": {
    "pycharm": {
     "name": "#%%\n"
    }
   },
   "outputs": [],
   "source": [
    "# =============== Plot functions ==================\n",
    "\n",
    "# ----- Line-Plots --------\n",
    "# Government researchers\n",
    "def plot_lineplot1():\n",
    "    \"\"\"plots lineplot1 about Government researchers. \"\"\"\n",
    "    df_researchers = load_chosen_oecd_data('datasets/DP_LIVE_02012022214642229.csv', 'AUT', 'ITA', 'AUS', 'USA', 'BEL')\n",
    "    df_researchers_filtered = filter_dataframe(df_researchers, 'SUBJECT', 'TOT')\n",
    "    df_researchers_filtered = filter_dataframe(df_researchers_filtered, 'MEASURE', 'PC_NATIONAL')\n",
    "    plot_lineplot(df_researchers_filtered,\"Government researchers\",\"% of national total\")\n",
    "\n",
    "# Young population\n",
    "def plot_lineplot2():\n",
    "    \"\"\"plots lineplot2 about Young population. \"\"\"\n",
    "    df_young = load_chosen_oecd_data('datasets/DP_LIVE_02012022233800555.csv', 'AUT', 'ITA', 'AUS', 'USA', 'BEL')\n",
    "    plot_lineplot(df_young,\"Young population\", \"% of population\")\n",
    "\n",
    "\n",
    "# ----- Bar-Plots --------\n",
    "# Discrimination in the family\n",
    "def plot_barplot1():\n",
    "    \"\"\"plots barplot1 about Attitudes towards working mothers. \"\"\"\n",
    "    df_discrimination = load_chosen_oecd_data('datasets/DP_LIVE_03012022021117254.csv', 'AUT', 'ITA', 'AUS', 'USA', 'BEL')\n",
    "    df_discrimination_filtered = filter_dataframe(df_discrimination, 'SUBJECT', 'ATTWORKMUM')\n",
    "    plot_barplot(df_discrimination_filtered, \"Discrimination in the family 2019\", \"Attitudes towards working mothers [%]\")\n",
    "\n",
    "\n",
    "# ----- Scatter-Plots --------\n",
    "# Greenhouse gas (GHG), Tonnes/capita;   Adult education level - Tertiary, % of 25-64 year-olds, 2020 or latest available\n",
    "def plot_scatterplot1():\n",
    "    \"\"\"plots scatterplot1 about Greenhouse gas (GHG), Tonnes/capita and  Adult education level - Tertiary. \"\"\"\n",
    "    df_GHG = load_chosen_oecd_data_pure('datasets/DP_LIVE_04012022042348960.csv', 'AUT', 'ITA', 'AUS', 'USA', 'BEL')\n",
    "    df_edu_ter = load_chosen_oecd_data_pure('datasets/DP_LIVE_04012022044322787.csv', 'AUT', 'ITA', 'AUS', 'USA', 'BEL')\n",
    "    df_scatter1 = prepare_scatterplot1_df(df_GHG, df_edu_ter, 2010)\n",
    "    plot_scatterplot(df_scatter1)"
   ]
  },
  {
   "cell_type": "code",
   "execution_count": null,
   "metadata": {
    "pycharm": {
     "name": "#%%\n"
    }
   },
   "outputs": [],
   "source": [
    "# =========== final program ============\n",
    "plot_lineplot1()\n",
    "plot_lineplot2()\n",
    "plot_barplot1()\n",
    "plot_scatterplot1()"
   ]
  }
 ],
 "metadata": {
  "kernelspec": {
   "display_name": "Python 3",
   "language": "python",
   "name": "python3"
  },
  "language_info": {
   "codemirror_mode": {
    "name": "ipython",
    "version": 3
   },
   "file_extension": ".py",
   "mimetype": "text/x-python",
   "name": "python",
   "nbconvert_exporter": "python",
   "pygments_lexer": "ipython3",
   "version": "3.8.10"
  }
 },
 "nbformat": 4,
 "nbformat_minor": 5
}
