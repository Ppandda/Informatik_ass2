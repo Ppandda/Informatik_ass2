{
 "cells": [
  {
   "cell_type": "code",
   "execution_count": null,
   "metadata": {},
   "outputs": [],
   "source": [
    "################################################################################\n",
    "# Author 1:      Bernhard Lugger\n",
    "# MatNr 1:       01114792\n",
    "# Author 2:      Paula Nauta\n",
    "# MatNr 2:       11938311\n",
    "# File:          assignment2.ipynb\n",
    "# Description: ... short description of the file ...\n",
    "# Comments:    ... comments for the tutors ...\n",
    "#              ... can be multiline ...\n",
    "################################################################################"
   ]
  },
  {
   "cell_type": "code",
   "execution_count": null,
   "metadata": {
    "jupyter": {
     "outputs_hidden": false
    },
    "pycharm": {
     "name": "#%%\n"
    }
   },
   "outputs": [],
   "source": [
    "# imports\n",
    "import matplotlib.pyplot as plt # or from matplotlib import pyplot as plt\n",
    "import matplotlib.dates as mdates # we use this to space our date-xticks\n",
    "import numpy as np\n",
    "import pandas as pd\n",
    "import pycountry as pc\n",
    "\n",
    "import plotly.express as px\n",
    "# Plotly express is especcialy useful if you want to plot dataframes (e.g. Pandas Dataframe).\n",
    "from plotly.subplots import make_subplots\n",
    "# import plotly.graph_objects as go\n"
   ]
  },
  {
   "cell_type": "markdown",
   "metadata": {},
   "source": []
  },
  {
   "cell_type": "code",
   "execution_count": null,
   "metadata": {},
   "outputs": [],
   "source": [
    "# -------- functions ------------\n",
    "\n",
    "def countries_fullname(country):   # z.b 'AUS', 'BEL'\n",
    "    \"\"\"ausgewählte länder aus dem dataframe in ein neues dataframe\"\"\"\n",
    "    country_full = pc.countries.get(alpha_3=country)\n",
    "    country_name = country_full.name\n",
    "    return country_name\n",
    "\n",
    "def load_chosen_oecd_data(file_path, *chosen_countries):\n",
    "    \"\"\"loads one csv from the given path and returns the relevant columns of arbitrary chosen countries to a dataframe.\"\"\"\n",
    "    oecd_data = pd.read_csv(file_path, header=0, usecols=['LOCATION','SUBJECT', 'MEASURE', 'TIME', 'Value'], delimiter=\",\")\n",
    "\n",
    "    final_filtered_df = pd.DataFrame()\n",
    "    country_alpha3_names = []\n",
    "\n",
    "    for country in chosen_countries:\n",
    "        country_alpha3_names.append(country)\n",
    "\n",
    "    for country in country_alpha3_names:\n",
    "        df_mask=oecd_data['LOCATION']==country\n",
    "        filtered_df = oecd_data[df_mask]\n",
    "        final_filtered_df = final_filtered_df.append(filtered_df)\n",
    "\n",
    "    for country in chosen_countries:    # replace alpha3 names with full names of countries\n",
    "        full_name = countries_fullname(country)\n",
    "        final_filtered_df = final_filtered_df.replace([country], full_name)\n",
    "\n",
    "    return final_filtered_df\n",
    "\n",
    "\n",
    "def filter_dataframe(df, column, value):\n",
    "    \"\"\"returns only data where the given value is in column.\"\"\"\n",
    "    df_mask=df[column]==value\n",
    "    filtered_df = df[df_mask]\n",
    "    return filtered_df\n",
    "\n",
    "\n",
    "def plot_lineplot(df, title, xaxis_text):\n",
    "    \"\"\"plots a lineplot of the given DataFrame with the given title and x-axis text.\"\"\"\n",
    "    fig = px.line(df, x=\"TIME\",y=\"Value\", color=\"LOCATION\", title=title)\n",
    "    fig.update_layout(xaxis={\"rangeslider\": {\"visible\": True}})\n",
    "    fig.update_yaxes(title_text = xaxis_text)\n",
    "    fig.show()\n",
    "\n",
    "\n",
    "def plot_barplot(df, title, xaxis_text):\n",
    "    \"\"\"plots a barplot of the given DataFrame with the given title and x-axis text.\"\"\"\n",
    "    fig = px.bar(df, x=\"LOCATION\",y=\"Value\", color=\"LOCATION\", title=title)\n",
    "    fig.update_yaxes(title_text = xaxis_text)\n",
    "    fig.show()\n",
    "\n",
    "\n",
    "def plot_scatterplot(df):\n",
    "    #df1_year = filter_dataframe(df1, 'TIME', year)\n",
    "    #df2_year = filter_dataframe(df2, 'TIME', year)\n",
    "\n",
    "    fig = px.scatter(df, x=\"Values1\", y=\"Values2\") # size='petal_length', hover_data=['petal_width'],color=\"LOCATION\n",
    "    fig.show()\n",
    "\n",
    "\n",
    "def load_chosen_oecd_data_pure(file_path, *chosen_countries):\n",
    "    \"\"\"loads one csv from the given path and returns the relevant columns of arbitrary chosen countries to a dataframe.\"\"\"\n",
    "    oecd_data = pd.read_csv(file_path, header=0, usecols=['LOCATION','SUBJECT', 'MEASURE', 'TIME', 'Value'], delimiter=\",\")\n",
    "\n",
    "    final_filtered_df = pd.DataFrame()\n",
    "    country_alpha3_names = []\n",
    "\n",
    "    for country in chosen_countries:\n",
    "        country_alpha3_names.append(country)\n",
    "\n",
    "    for country in country_alpha3_names:\n",
    "        df_mask=oecd_data['LOCATION']==country\n",
    "        filtered_df = oecd_data[df_mask]\n",
    "        final_filtered_df = final_filtered_df.append(filtered_df)\n",
    "\n",
    "    return final_filtered_df\n",
    "\n",
    "def plot_scatterplot_prepare(df, country1, country2):\n",
    "    \"\"\"plots data from 2 dataframes from one year in a scatterplot\"\"\"\n",
    "    df1_year = filter_dataframe(df1, 'TIME', year)\n",
    "    df2_year = filter_dataframe(df2, 'TIME', year)\n",
    "\n",
    "    fig = px.scatter(df1_year, x=\"sepal_width\", y=\"sepal_length\", color=\"species\",\n",
    "                     size='petal_length', hover_data=['petal_width'])\n",
    "    fig.show()"
   ]
  },
  {
   "cell_type": "code",
   "execution_count": null,
   "metadata": {
    "pycharm": {
     "name": "#%%\n"
    }
   },
   "outputs": [],
   "source": [
    "# ----- Scatter-Plots --------\n",
    "# Greenhouse gas (GHG), Tonnes/capita\n",
    "df_GHG = load_chosen_oecd_data_pure('datasets/used/DP_LIVE_04012022042348960.csv', 'AUT', 'ITA', 'AUS', 'USA', 'BEL')\n",
    "df_GHG_filtered = filter_dataframe(df_GHG, 'SUBJECT', 'GHG')\n",
    "df_GHG_filtered = filter_dataframe(df_GHG_filtered, 'MEASURE', 'TONNE_CAP')\n",
    "df_GHG_filtered = filter_dataframe(df_GHG_filtered, 'TIME', 2016)\n",
    "\n",
    "df_GHG_filtered_indexed = df_GHG_filtered.set_index('LOCATION')\n",
    "df_GHG_filtered_indexed = df_GHG_filtered_indexed.rename(columns={'Value': 'Values1'})\n",
    "df1_final = df_GHG_filtered_indexed.Values1\n",
    "\n",
    "\n",
    "# Adult education level - Tertiary, % of 25-64 year-olds, 2020 or latest available\n",
    "df_edu_ter = load_chosen_oecd_data_pure('datasets/used/DP_LIVE_04012022044322787.csv', 'AUT', 'ITA', 'AUS', 'USA', 'BEL')\n",
    "df_edu_ter_filtered = filter_dataframe(df_edu_ter, 'SUBJECT', 'TRY')\n",
    "df_edu_ter_filtered = filter_dataframe(df_edu_ter_filtered, 'TIME', 2016)\n",
    "\n",
    "df_edu_ter_filtered_indexed = df_edu_ter_filtered.set_index('LOCATION')\n",
    "df_edu_ter_filtered_indexed = df_edu_ter_filtered_indexed.rename(columns={'Value': 'Values2'})\n",
    "df2_final = df_edu_ter_filtered_indexed.Values2\n",
    "\n",
    "df_final = pd.concat([df1_final, df2_final], axis=1) # <-- works but i guess not clean\n",
    "# df_final_real = df_final[]\n",
    "print(df_final)\n",
    "\n",
    "plot_scatterplot(df_final)\n",
    "# df_now = df1_final.assign(df2_final)\n",
    "\n"
   ]
  },
  {
   "cell_type": "code",
   "execution_count": null,
   "metadata": {
    "pycharm": {
     "name": "#%%\n"
    }
   },
   "outputs": [],
   "source": [
    "# ------------------ Test -------------------------\n",
    "\n",
    "# Government researchers\n",
    "path_to_file = 'datasets/used/DP_LIVE_02012022214642229.csv'\n",
    "df_researchers = load_chosen_oecd_data(path_to_file, 'AUT', 'ITA', 'AUS', 'USA', 'BEL')\n",
    "df_researchers_filtered = filter_dataframe(df_researchers, 'SUBJECT', 'TOT')\n",
    "df_researchers_filtered = filter_dataframe(df_researchers_filtered, 'MEASURE', 'PC_NATIONAL')\n",
    "plot_lineplot(df_researchers_filtered,\"Government researchers\",\"% of national total\")\n",
    "\n",
    "# Young population\n",
    "path_to_file = 'datasets/used/DP_LIVE_02012022233800555.csv'\n",
    "df_young = load_chosen_oecd_data(path_to_file, 'AUT', 'ITA', 'AUS', 'USA', 'BEL')\n",
    "plot_lineplot(df_young,\"Young population\", \"% of population\")\n",
    "\n",
    "# Discrimination in the family\n",
    "path_to_file = 'datasets/used/DP_LIVE_03012022021117254.csv'\n",
    "df_discrimination = load_chosen_oecd_data(path_to_file, 'AUT', 'ITA', 'AUS', 'USA', 'BEL')\n",
    "df_discrimination_filtered = filter_dataframe(df_discrimination, 'SUBJECT', 'ATTWORKMUM')\n",
    "plot_barplot(df_discrimination_filtered, \"Discrimination in the family 2019\", \"Attitudes towards working mothers [%]\")\n"
   ]
  },
  {
   "cell_type": "code",
   "execution_count": null,
   "metadata": {
    "pycharm": {
     "name": "#%%\n"
    }
   },
   "outputs": [],
   "source": [
    "# program\n",
    "\"\"\"\n",
    "plot_lineplot(land_a, land_b)\n",
    "plot_lineplot(land_a, land_b)\n",
    "plot_lineplot(land_a, land_b)\n",
    "\n",
    "bar_lineplot(country1, country2, country3, country4, country5)\n",
    "bar_lineplot(country1, country2, country3)\n",
    "bar_lineplot(country1, country2, country3)\n",
    "\n",
    "scatter\n",
    "scatter\n",
    "scatter\n",
    "\"\"\""
   ]
  }
 ],
 "metadata": {
  "kernelspec": {
   "display_name": "Python 3",
   "language": "python",
   "name": "python3"
  },
  "language_info": {
   "codemirror_mode": {
    "name": "ipython",
    "version": 3
   },
   "file_extension": ".py",
   "mimetype": "text/x-python",
   "name": "python",
   "nbconvert_exporter": "python",
   "pygments_lexer": "ipython3",
   "version": "3.8.10"
  }
 },
 "nbformat": 4,
 "nbformat_minor": 5
}
