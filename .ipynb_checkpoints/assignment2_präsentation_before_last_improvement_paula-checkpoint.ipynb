{
 "cells": [
  {
   "cell_type": "code",
   "execution_count": null,
   "metadata": {},
   "outputs": [],
   "source": [
    "################################################################################\n",
    "# Author 1:      Bernhard Lugger\n",
    "# MatNr 1:       01114792\n",
    "# Author 2:      Paula Nauta\n",
    "# MatNr 2:       11938311\n",
    "# File:          assignment2.ipynb\n",
    "# Description:   several different plots of OECD data\n",
    "# Comments:      - filepaths of lineplot3, barplot2, barplot3 edited\n",
    "#                - schema of code design added\n",
    "#                -\n",
    "################################################################################"
   ]
  },
  {
   "cell_type": "code",
   "execution_count": null,
   "metadata": {
    "jupyter": {
     "outputs_hidden": false
    },
    "pycharm": {
     "name": "#%%\n"
    }
   },
   "outputs": [],
   "source": [
    "# ========== imports ============\n",
    "import pandas as pd\n",
    "import pycountry as pc\n",
    "import pycountry_convert as pcc\n",
    "import plotly.express as px\n",
    "from IPython import display"
   ]
  },
  {
   "cell_type": "markdown",
   "metadata": {
    "pycharm": {
     "name": "#%% md\n"
    }
   },
   "source": [
    "### Code Design"
   ]
  },
  {
   "cell_type": "code",
   "execution_count": null,
   "metadata": {
    "pycharm": {
     "name": "#%%\n"
    }
   },
   "outputs": [],
   "source": [
    "display.Image(\"./code_design_schema.png\")"
   ]
  },
  {
   "cell_type": "markdown",
   "metadata": {
    "pycharm": {
     "name": "#%% md\n"
    }
   },
   "source": [
    "### Functions"
   ]
  },
  {
   "cell_type": "code",
   "execution_count": null,
   "metadata": {
    "pycharm": {
     "name": "#%%\n"
    }
   },
   "outputs": [],
   "source": [
    "def countries_fullname(country):\n",
    "    \"\"\"receives alpha_3 from a country (e.g. 'AUS') and returns the\n",
    "    full name of the country (e.g. 'Australia')\"\"\"\n",
    "    country_full = pc.countries.get(alpha_3=country)\n",
    "    country_name = country_full.name\n",
    "    return country_name\n",
    "\n",
    "\n",
    "    # '*' means that you can pass as many parameters (in this case 'countries' as you wish)\n",
    "def load_oecd_csv_to_df(file_path, *chosen_countries):\n",
    "    \"\"\"loads one csv from the given path and returns the relevant columns of arbitrary chosen\n",
    "    country-alpha3 names to a dataframe. With LOCATION of countries in fullname. \"\"\"\n",
    "    oecd_data = pd.read_csv(file_path, header=0, usecols=['LOCATION','SUBJECT', 'MEASURE', 'TIME', 'Value'],\n",
    "                            delimiter=\",\")     # ('header=0' --> column names)\n",
    "\n",
    "    if not chosen_countries:    # DEFAULT if no countries chosen, all rows/entries get returned\n",
    "        return oecd_data\n",
    "\n",
    "    else:\n",
    "        final_filtered_df = pd.DataFrame()\n",
    "        country_alpha3_names = []\n",
    "        for country in chosen_countries:\n",
    "            country_alpha3_names.append(country)\n",
    "\n",
    "        for country in country_alpha3_names:\n",
    "            df_mask=oecd_data['LOCATION']==country            # known from assignment1\n",
    "            filtered_df = oecd_data[df_mask]\n",
    "            final_filtered_df = final_filtered_df.append(filtered_df)\n",
    "\n",
    "        for country in chosen_countries:        # replace alpha3 names with full names of countries\n",
    "            full_name = countries_fullname(country)\n",
    "            final_filtered_df = final_filtered_df.replace([country], full_name)\n",
    "\n",
    "        return final_filtered_df\n",
    "\n",
    "\n",
    "def load_oecd_csv_to_df_alpha3(file_path, *chosen_countries):\n",
    "    \"\"\"loads one csv from the given path and returns the relevant columns of arbitrary\n",
    "    chosen country-alpha3 codes to a dataframe. With LOCATION of countries in alpha3 name.\"\"\"\n",
    "    oecd_data = pd.read_csv(file_path, header=0, usecols=['LOCATION','SUBJECT', 'MEASURE', 'TIME', 'Value'],\n",
    "                            delimiter=\",\")\n",
    "\n",
    "    if not chosen_countries:    # DEFAULT if no countries chosen, all rows/entries get returned\n",
    "        return oecd_data\n",
    "    else:\n",
    "        final_filtered_df = pd.DataFrame()\n",
    "        country_alpha3_names = []\n",
    "        for country in chosen_countries:\n",
    "            country_alpha3_names.append(country)\n",
    "\n",
    "        for country in country_alpha3_names:\n",
    "            df_mask=oecd_data['LOCATION']==country\n",
    "            filtered_df = oecd_data[df_mask]\n",
    "            final_filtered_df = final_filtered_df.append(filtered_df)\n",
    "\n",
    "        return final_filtered_df\n",
    "\n",
    "\n",
    "def filter_dataframe_or_not(df, column, value):\n",
    "    \"\"\"returns only data where the given value is in column.\"\"\"\n",
    "    if value:\n",
    "        df_mask=df[column]==value\n",
    "        filtered_df = df[df_mask]\n",
    "        return filtered_df\n",
    "    else: return df\n",
    "\n",
    "\n",
    "def alpha3_to_continent_name(country_alpha3):   # not used so far\n",
    "    \"\"\"expects alpha3 of a country and returns the continent in which it is located. \"\"\"\n",
    "    try:\n",
    "        a2 = pcc.country_alpha3_to_country_alpha2(country_alpha3)\n",
    "        continent_code = pcc.country_alpha2_to_continent_code(a2)\n",
    "        continent_name = pcc.convert_continent_code_to_continent_name(continent_code)\n",
    "        return continent_name\n",
    "    except:\n",
    "        continent_name = \"unknown continent\"\n",
    "        return continent_name\n",
    "\n",
    "\n",
    "def plot_lineplot(df, title, y_axis_text):\n",
    "    \"\"\"plots a lineplot of the given DataFrame with the given title and x-axis text.\"\"\"\n",
    "    fig = px.line(df, x=\"TIME\",y=\"Value\", color=\"LOCATION\", title=title)\n",
    "    fig.update_layout(xaxis={\"rangeslider\": {\"visible\": True}}, legend_title=\"Countries\")\n",
    "    fig.update_xaxes(title_text = 'Year')\n",
    "    fig.update_yaxes(title_text = y_axis_text)\n",
    "    fig.show()\n",
    "\n",
    "\n",
    "def plot_barplot(df, title, y_axis_text):\n",
    "    \"\"\"plots a barplot of the given DataFrame with the given title and x-axis text.\"\"\"\n",
    "    fig = px.bar(df, x=\"LOCATION\",y=\"Value\", color=\"LOCATION\", title=title)\n",
    "    fig.update_layout(legend_title=\"Countries\")\n",
    "    fig.update_xaxes(title_text = 'Location')\n",
    "    fig.update_yaxes(title_text = y_axis_text)\n",
    "    fig.show()\n",
    "\n",
    "\n",
    "def prepare_df_4_scatterplot(df1, df2, year_df1=None, subject_df1=None,\n",
    "                             measure_df1=None, year_df2=None, subject_df2=None, measure_df2=None):\n",
    "    \"\"\"prepares/edits data from 2 dataframes with optional filter parameters to one new dataframe\"\"\"\n",
    "    df1_filtered = filter_dataframe_or_not(df1, 'TIME', year_df1)\n",
    "    df1_filtered = filter_dataframe_or_not(df1_filtered, 'SUBJECT', subject_df1)\n",
    "    df1_filtered = filter_dataframe_or_not(df1_filtered, 'MEASURE', measure_df1)\n",
    "    df1_filtered_indexed = df1_filtered.set_index('LOCATION')\n",
    "    df1_filtered_indexed = df1_filtered_indexed.rename(columns={'Value': 'Values1'})\n",
    "    df1_final = df1_filtered_indexed.Values1\n",
    "\n",
    "    df2_filtered = filter_dataframe_or_not(df2, 'TIME', year_df2)\n",
    "    df2_filtered = filter_dataframe_or_not(df2_filtered, 'SUBJECT', subject_df2)\n",
    "    df2_filtered = filter_dataframe_or_not(df2_filtered, 'MEASURE', measure_df2)\n",
    "    df2_filtered_indexed = df2_filtered.set_index('LOCATION')\n",
    "    df2_filtered_indexed = df2_filtered_indexed.rename(columns={'Value': 'Values2'})\n",
    "    df2_final = df2_filtered_indexed.Values2\n",
    "\n",
    "    df_final = pd.concat([df1_final, df2_final], axis=1)\n",
    "    return df_final\n",
    "\n",
    "\n",
    "def plot_scatterplot(df, plot_title, x_axis_name, y_axis_name):\n",
    "    correlation = round(df['Values1'].corr(df['Values2']),3)\n",
    "    title_constructor = plot_title + ',        corr = ' + str(correlation)\n",
    "    fig = px.scatter(df, title = title_constructor,  x='Values1', y='Values2', color=df.index , trendline=\"ols\")\n",
    "    # size='petal_length',\n",
    "    fig.update_layout(legend_title=\"Countries\")\n",
    "    fig.update_xaxes(title_text = x_axis_name)\n",
    "    fig.update_yaxes(title_text = y_axis_name)\n",
    "    fig.show()"
   ]
  },
  {
   "cell_type": "markdown",
   "metadata": {
    "pycharm": {
     "name": "#%% md\n"
    }
   },
   "source": [
    "### Plot functions\n",
    "These functions prepare the DataFrames und plot it."
   ]
  },
  {
   "cell_type": "markdown",
   "metadata": {
    "pycharm": {
     "name": "#%% md\n"
    }
   },
   "source": [
    "#### Lineplots"
   ]
  },
  {
   "cell_type": "code",
   "execution_count": null,
   "metadata": {
    "pycharm": {
     "name": "#%%\n"
    }
   },
   "outputs": [],
   "source": [
    "# Government researchers\n",
    "def plot_lineplot1():\n",
    "    \"\"\"plots lineplot1 about Government researchers. \"\"\"\n",
    "    df_researchers = load_oecd_csv_to_df('datasets/DP_LIVE_02012022214642229.csv', 'AUT', 'ITA', 'NLD', 'DEU', 'BEL')\n",
    "    df_researchers_filtered = filter_dataframe_or_not(df_researchers, 'SUBJECT', 'TOT')\n",
    "    df_researchers_filtered = filter_dataframe_or_not(df_researchers_filtered, 'MEASURE', 'PC_NATIONAL')\n",
    "    plot_lineplot(df_researchers_filtered,\"Government researchers\",\"% of national total\")\n",
    "\n",
    "# Young population\n",
    "def plot_lineplot2():\n",
    "    \"\"\"plots lineplot2 about Young population. \"\"\"\n",
    "    df_young1 = load_oecd_csv_to_df('datasets/DP_LIVE_02012022233800555.csv', 'AUT', 'ITA', 'AUS', 'USA', 'BEL')\n",
    "    plot_lineplot(df_young1,\"Young population (0-15 years)\", \"% of population\")\n",
    "\n",
    "# Fertility # solution needed: for uniformity the x-axis needs to be limited until the year 2019\n",
    "def plot_lineplot3():\n",
    "    \"\"\"\"plots lineplot3 of fertility rate\"\"\"\n",
    "    df_fertility = load_oecd_csv_to_df('datasets/DP_LIVE_11012022225843029.csv','AUT', 'ITA', 'AUS', 'USA', 'BEL')\n",
    "    plot_lineplot(df_fertility,\"Fertility Rate\", \"avg. Children per woman\")"
   ]
  },
  {
   "cell_type": "code",
   "execution_count": null,
   "metadata": {
    "pycharm": {
     "name": "#%%\n"
    }
   },
   "outputs": [],
   "source": [
    "plot_lineplot1()"
   ]
  },
  {
   "cell_type": "markdown",
   "metadata": {
    "pycharm": {
     "name": "#%% md\n"
    }
   },
   "source": [
    "The Netherlands experienced a big decrease in its proportion of government scientists since 1981 from 23% to 6%. Belgium increased its proportion by about 4%. The other countries stayed relatively around their starting proportion."
   ]
  },
  {
   "cell_type": "code",
   "execution_count": null,
   "metadata": {
    "pycharm": {
     "name": "#%%\n"
    }
   },
   "outputs": [],
   "source": [
    "plot_lineplot2()"
   ]
  },
  {
   "cell_type": "markdown",
   "metadata": {
    "pycharm": {
     "name": "#%% md\n"
    }
   },
   "source": [
    "All in one despite their varying amounts, all countries except Italy, at first slightly rise but at the latest from 1970 decrease. In 2020 the proportion of the young population is under 20%."
   ]
  },
  {
   "cell_type": "code",
   "execution_count": null,
   "metadata": {
    "pycharm": {
     "name": "#%%\n"
    }
   },
   "outputs": [],
   "source": [
    "plot_lineplot3()"
   ]
  },
  {
   "cell_type": "markdown",
   "metadata": {
    "pycharm": {
     "name": "#%% md\n"
    }
   },
   "source": [
    "Australia and the United States have a higher fertility rate (between 3 & 4 children) than Austria, Belgium and Italy (between 2 & 3 children). The three last mentioned, after 1969 shortly rose but then joined Australia and the United States by rapidly decreasing until the year 1980. Then stagnating and slightly decreasing all ending up in 2019 with an average fertility rate of 1 to 2 children per woman.\n"
   ]
  },
  {
   "cell_type": "markdown",
   "metadata": {},
   "source": [
    "#### Bar-Plots"
   ]
  },
  {
   "cell_type": "code",
   "execution_count": null,
   "metadata": {
    "pycharm": {
     "name": "#%%\n"
    }
   },
   "outputs": [],
   "source": [
    "# Discrimination in the family\n",
    "def plot_barplot1():\n",
    "    \"\"\"plots barplot1 about Attitudes towards working mothers. \"\"\"\n",
    "    df_discrimination = load_oecd_csv_to_df('datasets/DP_LIVE_03012022021117254.csv', 'AUT', 'CZE', 'AUS', 'USA', 'BEL')\n",
    "    df_discrimination_filtered = filter_dataframe_or_not(df_discrimination, 'SUBJECT', 'ATTWORKMUM')\n",
    "    plot_barplot(df_discrimination_filtered, \"Discrimination in the family 2019\", \"negative attitudes towards working mothers [%]\")\n",
    "\n",
    "# Income Inequality\n",
    "def plot_barplot2():\n",
    "    \"\"\"plots barplot2 about income inequality in 2018 of different countries\"\"\"\n",
    "    df_income_inequality = load_oecd_csv_to_df('datasets/DP_LIVE_11012022230348719.csv', 'AUT', 'DEU', 'ITA', 'AUS', 'BEL')\n",
    "    df_income_inequality_filtered = filter_dataframe_or_not(df_income_inequality, 'TIME', 2018)\n",
    "    df_income_inequality_filtered = filter_dataframe_or_not(df_income_inequality_filtered, 'SUBJECT','GINI')\n",
    "    plot_barplot(df_income_inequality_filtered, \"Income Inequality in 2018\", \"Gini Coefficient\")\n",
    "\n",
    "# Poverty Gap\n",
    "def plot_barplot3():\n",
    "    \"\"\"plots barplot3 about the poverty rate in 2019 of different countries\"\"\"\n",
    "    df_poverty_gap = load_oecd_csv_to_df('datasets/DP_LIVE_11012022232238857.csv', 'AUT', 'DEU', 'CZE', 'NLD', 'NOR', 'ESP')\n",
    "    df_poverty_gap_filtered = filter_dataframe_or_not(df_poverty_gap, 'TIME', 2019)\n",
    "    df_poverty_gap_filtered = filter_dataframe_or_not(df_poverty_gap_filtered, 'SUBJECT','18_65')\n",
    "    plot_barplot(df_poverty_gap_filtered, \"Poverty Gap in 2019\", \"ratio of people below the poverty line\")"
   ]
  },
  {
   "cell_type": "code",
   "execution_count": null,
   "metadata": {
    "pycharm": {
     "name": "#%%\n"
    }
   },
   "outputs": [],
   "source": [
    "plot_barplot1()"
   ]
  },
  {
   "cell_type": "markdown",
   "metadata": {
    "pycharm": {
     "name": "#%% md\n"
    }
   },
   "source": [
    "According to the diagram Austria has a high rate 58% of negative attitudes towards working mothers. Czech Republic and Belgium move in the same range with around 32%. The United States showed a rate of 25% followed by Australia with the lowest rate of 21%."
   ]
  },
  {
   "cell_type": "code",
   "execution_count": null,
   "metadata": {
    "pycharm": {
     "name": "#%%\n"
    }
   },
   "outputs": [],
   "source": [
    "plot_barplot2()"
   ]
  },
  {
   "cell_type": "markdown",
   "metadata": {
    "pycharm": {
     "name": "#%% md\n"
    }
   },
   "source": [
    "The Gini ranges between 0 in the case of perfect equality and 1 in the case of perfect inequality. The Gini coefficient of Austria, Germany and Belgium is between the values 0.25 and 0.3 and is lower in contrast to the gini coefficient of Italy and Australia that is over 0.3 which indicates that they have a higher income equality than the other countries."
   ]
  },
  {
   "cell_type": "code",
   "execution_count": null,
   "metadata": {
    "pycharm": {
     "name": "#%%\n"
    }
   },
   "outputs": [],
   "source": [
    "plot_barplot3()"
   ]
  },
  {
   "cell_type": "markdown",
   "metadata": {
    "pycharm": {
     "name": "#%% md\n"
    }
   },
   "source": [
    "Austria and Czech Republic had a proportion of under 3% whereas Netherlands, Norway and Spain had a higher proportion of around 4%. The higher the bars, the larger the poverty gap is in the country."
   ]
  },
  {
   "cell_type": "markdown",
   "metadata": {
    "pycharm": {
     "name": "#%% md\n"
    }
   },
   "source": [
    "#### Scatterplots"
   ]
  },
  {
   "cell_type": "code",
   "execution_count": null,
   "metadata": {
    "pycharm": {
     "name": "#%%\n"
    }
   },
   "outputs": [],
   "source": [
    "def plot_scatterplot1():\n",
    "    \"\"\"plots scatterplot1 about Greenhouse gas (GHG) in Tonnes/capita and\n",
    "    Adult tertiary education level (in % of 25-64 year-olds in 2020 or latest available).\"\"\"\n",
    "    df_ghg = load_oecd_csv_to_df_alpha3('datasets/DP_LIVE_04012022042348960.csv')# , 'AUT', 'ITA', 'AUS', 'BEL')\n",
    "    df_edu_ter = load_oecd_csv_to_df_alpha3('datasets/DP_LIVE_04012022044322787.csv')#, 'AUT', 'ITA', 'AUS','BEL')\n",
    "    df_scatter1 = prepare_df_4_scatterplot(df_ghg, df_edu_ter, year_df1=2010, year_df2=2010, subject_df1='GHG', measure_df1='TONNE_CAP', subject_df2='TRY')\n",
    "    plot_scatterplot(df_scatter1, 'GHG and adult education', 'GHG in tonns per capita',\n",
    "                     'Adult education level - Tertiary, % of 25-64 year-olds')\n",
    "\n",
    "def plot_scatterplot2():\n",
    "    \"\"\"plots scatterplot2 about Young population in people aged less than 15 years old in 2001 on x-axis and\n",
    "    ICT employment 2011 in percentage of business sector employment on the y-axis.\"\"\"\n",
    "    df1 = load_oecd_csv_to_df_alpha3('datasets/DP_LIVE_02012022233800555.csv')# , 'AUT', 'ITA', 'AUS', 'BEL')\n",
    "    df2 = load_oecd_csv_to_df_alpha3('datasets/DP_LIVE_07012022224048726.csv')# , 'AUT', 'ITA', 'AUS', 'BEL')\n",
    "    df_scatter = prepare_df_4_scatterplot(df1, df2, year_df1=2001)\n",
    "    plot_scatterplot(df_scatter, 'Young population (2001) & ICT employment (2011)',\n",
    "                     'Young population aged less than 15 (% of population)', 'ICT employment 2011')\n",
    "\n",
    "def plot_scatterplot3():\n",
    "    \"\"\"plots scatterplot3 about GDP 2020 in US dollars per capita\n",
    "     and unemployed tertiary educated 25-64 year-old people in % of 25-64 year-olds in the labour force. \"\"\"\n",
    "    df1 = load_oecd_csv_to_df_alpha3('datasets/DP_LIVE_07012022232019966.csv')# , 'AUT', 'ITA', 'AUS', 'BEL')\n",
    "    df2 = load_oecd_csv_to_df_alpha3('datasets/DP_LIVE_07012022232918512.csv')# , 'AUT', 'ITA', 'AUS', 'BEL')\n",
    "    df_scatter = prepare_df_4_scatterplot(df1, df2, year_df1=2020, measure_df1='USD_CAP', year_df2=2020, subject_df2='TRY')\n",
    "    plot_scatterplot(df_scatter, 'GDP 2020 and unemployed tertiary educated 25-64 year-old people',\n",
    "                     'GDP per capita 2020', 'unemployed tertiary educated [%]')"
   ]
  },
  {
   "cell_type": "code",
   "execution_count": null,
   "metadata": {
    "pycharm": {
     "name": "#%%\n"
    }
   },
   "outputs": [],
   "source": [
    "plot_scatterplot1()\n",
    "plot_scatterplot2()\n",
    "plot_scatterplot3()"
   ]
  },
  {
   "cell_type": "code",
   "execution_count": null,
   "metadata": {
    "pycharm": {
     "name": "#%%\n"
    }
   },
   "outputs": [],
   "source": []
  }
 ],
 "metadata": {
  "kernelspec": {
   "display_name": "Python 3",
   "language": "python",
   "name": "python3"
  },
  "language_info": {
   "codemirror_mode": {
    "name": "ipython",
    "version": 3
   },
   "file_extension": ".py",
   "mimetype": "text/x-python",
   "name": "python",
   "nbconvert_exporter": "python",
   "pygments_lexer": "ipython3",
   "version": "3.8.10"
  }
 },
 "nbformat": 4,
 "nbformat_minor": 5
}
