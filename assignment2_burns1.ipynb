{
 "cells": [
  {
   "cell_type": "code",
   "execution_count": null,
   "metadata": {},
   "outputs": [],
   "source": [
    "################################################################################\n",
    "# Author 1:      Bernhard Lugger\n",
    "# MatNr 1:       01114792\n",
    "# Author 2:      Paula Nauta\n",
    "# MatNr 2:       11938311\n",
    "# File:          assignment2.ipynb\n",
    "# Description:   several different plots of OECD data\n",
    "# Comments:    ... comments for the tutors ...\n",
    "#              ... can be multiline ...\n",
    "################################################################################"
   ]
  },
  {
   "cell_type": "code",
   "execution_count": 75,
   "metadata": {
    "jupyter": {
     "outputs_hidden": false
    },
    "pycharm": {
     "name": "#%%\n"
    }
   },
   "outputs": [],
   "source": [
    "# ========== imports ============\n",
    "\n",
    "import pandas as pd\n",
    "import pycountry as pc\n",
    "import pycountry_convert as pcc\n",
    "import plotly.express as px\n",
    "\n",
    "\n",
    "# import matplotlib.pyplot as plt # or from matplotlib import pyplot as plt\n",
    "# import matplotlib.dates as mdates # we use this to space our date-xticks\n",
    "# import numpy as np\n",
    "\n",
    "# Plotly express is especcialy useful if you want to plot dataframes (e.g. Pandas Dataframe).\n",
    "# from plotly.subplots import make_subplots\n",
    "# import plotly.graph_objects as go"
   ]
  },
  {
   "cell_type": "code",
   "execution_count": 107,
   "outputs": [],
   "source": [
    "# -- NEW or renewed functions --    !! WORKING !!\n",
    "\n",
    "# '*' means that you can pass as many parameters (in this case 'countries' as you wish)\n",
    "def load_oecd_csv_to_df(file_path, *chosen_countries):\n",
    "    \"\"\"loads one csv from the given path and returns the relevant columns of arbitrary chosen\n",
    "    country-alpha3 names to a dataframe. With LOCATION of countries in fullname. \"\"\"\n",
    "    oecd_data = pd.read_csv(file_path, header=0, usecols=['LOCATION','SUBJECT', 'MEASURE', 'TIME', 'Value'],\n",
    "                            delimiter=\",\")     # ('header=0' --> column names)\n",
    "\n",
    "    if not chosen_countries:    # DEFAULT if no countries chosen, all rows/entries get returned\n",
    "        return oecd_data  #  <--- works dirty, but works!\n",
    "        # TODO: ---->   https://towardsdatascience.com/using-python-to-create-a-world-map-from-a-list-of-country-names-cd7480d03b10\n",
    "\n",
    "    else:\n",
    "        final_filtered_df = pd.DataFrame()\n",
    "        country_alpha3_names = []\n",
    "\n",
    "        # try:\n",
    "        for country in chosen_countries:\n",
    "            country_alpha3_names.append(country)\n",
    "        # except:\n",
    "        for country in country_alpha3_names:\n",
    "            df_mask=oecd_data['LOCATION']==country            # known from assignment1\n",
    "            filtered_df = oecd_data[df_mask]\n",
    "            final_filtered_df = final_filtered_df.append(filtered_df)\n",
    "\n",
    "        for country in chosen_countries:        # replace alpha3 names with full names of countries\n",
    "            full_name = countries_fullname(country)\n",
    "            final_filtered_df = final_filtered_df.replace([country], full_name)\n",
    "\n",
    "        return final_filtered_df\n",
    "\n",
    "\n",
    "def load_oecd_csv_to_df_alpha3(file_path, *chosen_countries):\n",
    "    \"\"\"loads one csv from the given path and returns the relevant columns of arbitrary\n",
    "    chosen country-alpha3 codes to a dataframe. With LOCATION of countries in alpha3 name.\"\"\"\n",
    "    oecd_data = pd.read_csv(file_path, header=0, usecols=['LOCATION','SUBJECT', 'MEASURE', 'TIME', 'Value'],\n",
    "                            delimiter=\",\")\n",
    "    if not chosen_countries:    # DEFAULT if no countries chosen, all rows/entries get returned\n",
    "        return oecd_data\n",
    "    else:\n",
    "        final_filtered_df = pd.DataFrame()\n",
    "        country_alpha3_names = []\n",
    "\n",
    "        for country in chosen_countries:\n",
    "            country_alpha3_names.append(country)\n",
    "\n",
    "        for country in country_alpha3_names:\n",
    "            df_mask=oecd_data['LOCATION']==country\n",
    "            filtered_df = oecd_data[df_mask]\n",
    "            final_filtered_df = final_filtered_df.append(filtered_df)\n",
    "\n",
    "        return final_filtered_df\n",
    "\n",
    "\n",
    "# ---------------------------------------------------------------------------------------\n",
    "# ---------------------  !!! Experimental !!!  ------------------------------------------\n",
    "# ---------------------------------------------------------------------------------------\n",
    "def alpha3_column_to_continent_column(countries_alpha3_series):\n",
    "    \"\"\"expects alpha3 of a country and returns the continent in whitch it is located. \"\"\"\n",
    "    continent_series = pd.Series()\n",
    "    for country_alpha3 in countries_alpha3_series:\n",
    "        a2 = pcc.country_alpha3_to_country_alpha2(country_alpha3)\n",
    "        continent_code = pcc.country_alpha2_to_continent_code(a2)\n",
    "        continent_name = pcc.convert_continent_code_to_continent_name(continent_code)\n",
    "        final_continent_series = continent_series.append(continent_name)\n",
    "\n",
    "\n",
    "    continent_series = pd.Series()\n",
    "    continent_series.index = df_final.index  # would be to easy to be true -.-\n",
    "    continent_series = alpha3_column_to_continent_column(continent_series)\n",
    "    with_conti = pd.concat([df_final, continent_series], axis=1)\n",
    "    print(with_conti)\n",
    "\n",
    "    print(final_continent_series)\n",
    "    return final_continent_series\n",
    "\n"
   ],
   "metadata": {
    "collapsed": false,
    "pycharm": {
     "name": "#%%\n"
    }
   }
  },
  {
   "cell_type": "code",
   "execution_count": 85,
   "outputs": [
    {
     "name": "stdout",
     "output_type": "stream",
     "text": [
      "Europe\n"
     ]
    }
   ],
   "source": [
    "# countries_continent('AUT')\n",
    "\n",
    "alpha3_column_to_continent_column(countries_alpha3_series)"
   ],
   "metadata": {
    "collapsed": false,
    "pycharm": {
     "name": "#%%\n"
    }
   }
  },
  {
   "cell_type": "code",
   "execution_count": 108,
   "metadata": {
    "pycharm": {
     "name": "#%%\n"
    }
   },
   "outputs": [],
   "source": [
    "# ========== functions ============\n",
    "\n",
    "def countries_fullname(country):\n",
    "    \"\"\"receives alpha_3 from a country (e.g. 'AUS') and returns the\n",
    "    full name of the country (e.g. 'Australia')\"\"\"\n",
    "    country_full = pc.countries.get(alpha_3=country)\n",
    "    country_name = country_full.name\n",
    "    return country_name\n",
    "\n",
    "\n",
    "def filter_dataframe(df, column, value):\n",
    "    \"\"\"returns only data where the given value is in column.\"\"\"\n",
    "    df_mask=df[column]==value\n",
    "    filtered_df = df[df_mask]\n",
    "    return filtered_df\n",
    "\n",
    "\n",
    "def prepare_scatterplot1_df(df1, df2, year):\n",
    "    \"\"\"prepares/edits data from 2 dataframes from one year [int] to one new dataframe\"\"\"\n",
    "    df1_filtered = filter_dataframe(df1, 'SUBJECT', 'GHG')\n",
    "    df1_filtered = filter_dataframe(df1_filtered, 'MEASURE', 'TONNE_CAP')\n",
    "    df1_filtered = filter_dataframe(df1_filtered, 'TIME', year)\n",
    "\n",
    "    df1_filtered_indexed = df1_filtered.set_index('LOCATION')\n",
    "    df1_filtered_indexed = df1_filtered_indexed.rename(columns={'Value': 'Values1'})\n",
    "    df1_final = df1_filtered_indexed.Values1\n",
    "\n",
    "    df2_filtered = filter_dataframe(df2, 'SUBJECT', 'TRY')\n",
    "    df2_filtered = filter_dataframe(df2_filtered, 'TIME', year)\n",
    "\n",
    "    df2_filtered_indexed = df2_filtered.set_index('LOCATION')\n",
    "    df2_filtered_indexed = df2_filtered_indexed.rename(columns={'Value': 'Values2'})\n",
    "    df2_final = df2_filtered_indexed.Values2\n",
    "\n",
    "    df_final = pd.concat([df1_final, df2_final], axis=1) # <-- works but i guess not clean\n",
    "\n",
    "    return df_final\n",
    "\n",
    "\n",
    "def plot_lineplot(df, title, xaxis_text):\n",
    "    \"\"\"plots a lineplot of the given DataFrame with the given title and x-axis text.\"\"\"\n",
    "    fig = px.line(df, x=\"TIME\",y=\"Value\", color=\"LOCATION\", title=title)\n",
    "    fig.update_layout(xaxis={\"rangeslider\": {\"visible\": True}})\n",
    "    fig.update_yaxes(title_text = xaxis_text)\n",
    "    fig.show()\n",
    "\n",
    "\n",
    "def plot_barplot(df, title, xaxis_text):\n",
    "    \"\"\"plots a barplot of the given DataFrame with the given title and x-axis text.\"\"\"\n",
    "    fig = px.bar(df, x=\"LOCATION\",y=\"Value\", color=\"LOCATION\", title=title)\n",
    "    fig.update_yaxes(title_text = xaxis_text)\n",
    "    fig.show()\n",
    "\n",
    "\n",
    "def plot_scatterplot(df, plot_title, x_axis_name, y_axis_name):\n",
    "    correlation = round(df['Values1'].corr(df['Values2']),3)\n",
    "    title_constructor = plot_title + ',        corr = ' + str(correlation)\n",
    "    fig = px.scatter(df, title = title_constructor,  x='Values1', y='Values2', color=df.index, hover_data=['Values1'])\n",
    "    # size='petal_length',\n",
    "\n",
    "    fig.update_xaxes(title_text = x_axis_name)\n",
    "    fig.update_yaxes(title_text = y_axis_name)\n",
    "    fig.show()"
   ]
  },
  {
   "cell_type": "code",
   "execution_count": 97,
   "outputs": [
    {
     "name": "stdout",
     "output_type": "stream",
     "text": [
      "       LOCATION SUBJECT      MEASURE  TIME        Value\n",
      "0           AUT   WOMEN    HEADCOUNT  1998   730.000000\n",
      "1           AUT   WOMEN    HEADCOUNT  2002   820.000000\n",
      "2           AUT   WOMEN    HEADCOUNT  2004   839.000000\n",
      "3           AUT   WOMEN    HEADCOUNT  2006  1095.000000\n",
      "4           AUT   WOMEN    HEADCOUNT  2007  1094.000000\n",
      "...         ...     ...          ...   ...          ...\n",
      "3372  EU27_2020     TOT  PC_NATIONAL  2015    12.552025\n",
      "3373  EU27_2020     TOT  PC_NATIONAL  2016    11.631198\n",
      "3374  EU27_2020     TOT  PC_NATIONAL  2017    11.253709\n",
      "3375  EU27_2020     TOT  PC_NATIONAL  2018    11.154294\n",
      "3376  EU27_2020     TOT  PC_NATIONAL  2019    10.965171\n",
      "\n",
      "[3377 rows x 5 columns]\n"
     ]
    }
   ],
   "source": [
    "# ---------> teeeeeeeest <------\n",
    "df_researchers = load_oecd_csv_to_df('datasets/DP_LIVE_02012022214642229.csv')\n",
    "print(df_researchers)\n"
   ],
   "metadata": {
    "collapsed": false,
    "pycharm": {
     "name": "#%%\n"
    }
   }
  },
  {
   "cell_type": "code",
   "execution_count": 109,
   "metadata": {
    "pycharm": {
     "name": "#%%\n"
    }
   },
   "outputs": [],
   "source": [
    "# =============== Plot functions ==================\n",
    "\n",
    "# ----- Line-Plots --------\n",
    "# Government researchers\n",
    "def plot_lineplot1():\n",
    "    \"\"\"plots lineplot1 about Government researchers. \"\"\"\n",
    "    df_researchers = load_oecd_csv_to_df('datasets/DP_LIVE_02012022214642229.csv', 'AUT', 'ITA', 'AUS', 'USA', 'BEL')\n",
    "    df_researchers_filtered = filter_dataframe(df_researchers, 'SUBJECT', 'TOT')\n",
    "    df_researchers_filtered = filter_dataframe(df_researchers_filtered, 'MEASURE', 'PC_NATIONAL')\n",
    "    plot_lineplot(df_researchers_filtered,\"Government researchers\",\"% of national total\")\n",
    "\n",
    "# Young population\n",
    "def plot_lineplot2():\n",
    "    \"\"\"plots lineplot2 about Young population. \"\"\"\n",
    "    df_young = load_oecd_csv_to_df('datasets/DP_LIVE_02012022233800555.csv', 'AUT', 'ITA', 'AUS', 'USA', 'BEL')\n",
    "    plot_lineplot(df_young,\"Young population\", \"% of population\")\n",
    "\n",
    "\n",
    "# ----- Bar-Plots --------\n",
    "# Discrimination in the family\n",
    "def plot_barplot1():\n",
    "    \"\"\"plots barplot1 about Attitudes towards working mothers. \"\"\"\n",
    "    df_discrimination = load_oecd_csv_to_df('datasets/DP_LIVE_03012022021117254.csv', 'AUT', 'ITA', 'AUS', 'USA', 'BEL')\n",
    "    df_discrimination_filtered = filter_dataframe(df_discrimination, 'SUBJECT', 'ATTWORKMUM')\n",
    "    plot_barplot(df_discrimination_filtered, \"Discrimination in the family 2019\", \"Attitudes towards working mothers [%]\")\n",
    "\n",
    "\n",
    "# ----- Scatter-Plots --------\n",
    "# Greenhouse gas (GHG), Tonnes/capita;   Adult education level - Tertiary, % of 25-64 year-olds, 2020 or latest available\n",
    "def plot_scatterplot1():\n",
    "    \"\"\"plots scatterplot1 about Greenhouse gas (GHG), Tonnes/capita and  Adult education level - Tertiary. \"\"\"\n",
    "    # df_ghg = load_oecd_csv_to_df_alpha3('datasets/DP_LIVE_04012022042348960.csv', 'AUT', 'ITA', 'AUS', 'USA', 'BEL')\n",
    "    # df_edu_ter = load_oecd_csv_to_df_alpha3('datasets/DP_LIVE_04012022044322787.csv', 'AUT', 'ITA', 'AUS', 'USA', 'BEL')\n",
    "\n",
    "    df_ghg = load_oecd_csv_to_df_alpha3('datasets/DP_LIVE_04012022042348960.csv')\n",
    "    df_edu_ter = load_oecd_csv_to_df_alpha3('datasets/DP_LIVE_04012022044322787.csv')\n",
    "    df_scatter1 = prepare_scatterplot1_df(df_ghg, df_edu_ter, 2010)\n",
    "    plot_scatterplot(df_scatter1, 'GHG and adult education', 'GHG in tonns per capita',\n",
    "                     'Adult education level - Tertiary, % of 25-64 year-olds')"
   ]
  },
  {
   "cell_type": "code",
   "execution_count": 110,
   "metadata": {
    "pycharm": {
     "name": "#%%\n"
    }
   },
   "outputs": [
    {
     "data": {
      "application/vnd.plotly.v1+json": {
       "data": [
        {
         "hovertemplate": "LOCATION=Austria<br>TIME=%{x}<br>Value=%{y}<extra></extra>",
         "legendgroup": "Austria",
         "line": {
          "color": "#636efa",
          "dash": "solid"
         },
         "marker": {
          "symbol": "circle"
         },
         "mode": "lines",
         "name": "Austria",
         "orientation": "v",
         "showlegend": true,
         "x": [
          1981,
          1985,
          1989,
          1993,
          1998,
          2002,
          2004,
          2005,
          2006,
          2007,
          2008,
          2009,
          2010,
          2011,
          2012,
          2013,
          2014,
          2015,
          2016,
          2017,
          2018,
          2019
         ],
         "xaxis": "x",
         "y": [
          8.08998808104887,
          6.80772769089237,
          5.92120245957641,
          7.05093206458155,
          5.09756983777545,
          4.1398435589307,
          3.96760572062631,
          4.32601792789502,
          4.61835629668444,
          4.38507873568299,
          4.38503200679257,
          4.49836572552844,
          4.28638989199282,
          4.07153134413614,
          3.91579997330022,
          3.87576189345365,
          3.88016984540315,
          3.86116339929296,
          7.71270370228504,
          7.71237978998759,
          7.71269483780106,
          7.22994717232732
         ],
         "yaxis": "y",
         "type": "scatter"
        },
        {
         "hovertemplate": "LOCATION=Italy<br>TIME=%{x}<br>Value=%{y}<extra></extra>",
         "legendgroup": "Italy",
         "line": {
          "color": "#EF553B",
          "dash": "solid"
         },
         "marker": {
          "symbol": "circle"
         },
         "mode": "lines",
         "name": "Italy",
         "orientation": "v",
         "showlegend": true,
         "x": [
          1981,
          1982,
          1983,
          1984,
          1985,
          1986,
          1987,
          1988,
          1989,
          1990,
          1991,
          1992,
          1993,
          1994,
          1995,
          1996,
          1997,
          1998,
          1999,
          2000,
          2001,
          2002,
          2003,
          2004,
          2005,
          2006,
          2007,
          2008,
          2009,
          2010,
          2011,
          2012,
          2013,
          2014,
          2015,
          2016,
          2017,
          2018,
          2019
         ],
         "xaxis": "x",
         "y": [
          15.076834421821,
          16.4247800095226,
          15.4504054204154,
          17.6140305587376,
          17.7982716165561,
          17.0214020399741,
          17.7660298202846,
          18.6308179546457,
          18.3781581092095,
          18.6206276644923,
          16.8186288843404,
          17.625164601865,
          17.8654915764301,
          17.9432661577877,
          18.423003600932,
          17.8399026700331,
          20.8314305720462,
          20.8326957799064,
          21.0405849642078,
          21.6533050975647,
          19.4986657071752,
          19.0407343982482,
          19.8713819966075,
          19.7702886042762,
          17.5223575535618,
          18.7609126355881,
          18.5925606531606,
          16.2421436350783,
          16.3763425444962,
          16.9164306647471,
          17.6914460774385,
          18.5186657367826,
          18.3473609995584,
          17.8071296210115,
          17.1535253227408,
          16.2378651668586,
          15.7560301471741,
          14.8911046625221,
          14.4731867710958
         ],
         "yaxis": "y",
         "type": "scatter"
        },
        {
         "hovertemplate": "LOCATION=Australia<br>TIME=%{x}<br>Value=%{y}<extra></extra>",
         "legendgroup": "Australia",
         "line": {
          "color": "#00cc96",
          "dash": "solid"
         },
         "marker": {
          "symbol": "circle"
         },
         "mode": "lines",
         "name": "Australia",
         "orientation": "v",
         "showlegend": true,
         "x": [
          1981,
          1984,
          1985,
          1986,
          1987,
          1988,
          1990,
          1992,
          1994,
          1996,
          1998,
          2000,
          2002,
          2004,
          2006,
          2008
         ],
         "xaxis": "x",
         "y": [
          28.0651024454726,
          23.9470391993328,
          23.5384718408893,
          22.1045419509549,
          20.3838823849714,
          20.8787363790863,
          21.4957383731703,
          18.4308913472784,
          15.4843791759857,
          14.783318556322,
          13.550891202507,
          13.2185074862048,
          10.9821928853539,
          10.389018554898,
          10.0010320982558,
          8.94215575377123
         ],
         "yaxis": "y",
         "type": "scatter"
        },
        {
         "hovertemplate": "LOCATION=United States<br>TIME=%{x}<br>Value=%{y}<extra></extra>",
         "legendgroup": "United States",
         "line": {
          "color": "#ab63fa",
          "dash": "solid"
         },
         "marker": {
          "symbol": "circle"
         },
         "mode": "lines",
         "name": "United States",
         "orientation": "v",
         "showlegend": true,
         "x": [
          1981,
          1982,
          1983,
          1984,
          1985,
          1987,
          1988,
          1989,
          1990,
          1991,
          1992,
          1993,
          1995,
          1996,
          1997,
          1998,
          1999,
          2000,
          2001,
          2002
         ],
         "xaxis": "x",
         "y": [
          11.1278195488722,
          10.8590995634642,
          10.5493582617136,
          10.1008129446554,
          8.60150435523388,
          7.95322391181442,
          7.76672317363785,
          8.1587685254691,
          8.06071865242154,
          7.81338997929385,
          8.07348174779123,
          7.68008847461923,
          6.76669830317822,
          6.18162834294393,
          5.65092916934746,
          5.13935387567971,
          4.90703046500306,
          4.82473996537948,
          4.74600076035292,
          4.55796194613595
         ],
         "yaxis": "y",
         "type": "scatter"
        },
        {
         "hovertemplate": "LOCATION=Belgium<br>TIME=%{x}<br>Value=%{y}<extra></extra>",
         "legendgroup": "Belgium",
         "line": {
          "color": "#FFA15A",
          "dash": "solid"
         },
         "marker": {
          "symbol": "circle"
         },
         "mode": "lines",
         "name": "Belgium",
         "orientation": "v",
         "showlegend": true,
         "x": [
          1981,
          1982,
          1983,
          1984,
          1985,
          1986,
          1987,
          1988,
          1989,
          1991,
          1993,
          1994,
          1995,
          1996,
          1997,
          1998,
          1999,
          2000,
          2001,
          2002,
          2003,
          2004,
          2005,
          2006,
          2007,
          2008,
          2009,
          2010,
          2011,
          2012,
          2013,
          2014,
          2015,
          2016,
          2017,
          2018,
          2019
         ],
         "xaxis": "x",
         "y": [
          4.95802934023692,
          4.80984340044743,
          4.92889583798675,
          4.88997555012225,
          4.64801138288502,
          4.41260744985673,
          4.30663758180119,
          4.13312507509312,
          4.78433598183882,
          4.33581883457609,
          5.63559656818148,
          5.32967607233039,
          5.18638770765701,
          5.73268406450652,
          5.92034500498927,
          5.79286260067679,
          5.84576399527268,
          5.92326889303032,
          6.02175131264236,
          6.45576627569575,
          6.55445843904607,
          6.83507330743744,
          6.85940695527037,
          6.94935313066859,
          6.95577707018506,
          7.23522879289068,
          7.37701634018949,
          6.49043319666442,
          6.51505121844647,
          7.87551812619252,
          7.88927757934104,
          7.99291617473436,
          7.59970288465155,
          7.90342667649226,
          8.30530319118702,
          9.19493549484529,
          9.05672061937507
         ],
         "yaxis": "y",
         "type": "scatter"
        }
       ],
       "layout": {
        "template": {
         "data": {
          "bar": [
           {
            "error_x": {
             "color": "#2a3f5f"
            },
            "error_y": {
             "color": "#2a3f5f"
            },
            "marker": {
             "line": {
              "color": "#E5ECF6",
              "width": 0.5
             },
             "pattern": {
              "fillmode": "overlay",
              "size": 10,
              "solidity": 0.2
             }
            },
            "type": "bar"
           }
          ],
          "barpolar": [
           {
            "marker": {
             "line": {
              "color": "#E5ECF6",
              "width": 0.5
             },
             "pattern": {
              "fillmode": "overlay",
              "size": 10,
              "solidity": 0.2
             }
            },
            "type": "barpolar"
           }
          ],
          "carpet": [
           {
            "aaxis": {
             "endlinecolor": "#2a3f5f",
             "gridcolor": "white",
             "linecolor": "white",
             "minorgridcolor": "white",
             "startlinecolor": "#2a3f5f"
            },
            "baxis": {
             "endlinecolor": "#2a3f5f",
             "gridcolor": "white",
             "linecolor": "white",
             "minorgridcolor": "white",
             "startlinecolor": "#2a3f5f"
            },
            "type": "carpet"
           }
          ],
          "choropleth": [
           {
            "colorbar": {
             "outlinewidth": 0,
             "ticks": ""
            },
            "type": "choropleth"
           }
          ],
          "contour": [
           {
            "colorbar": {
             "outlinewidth": 0,
             "ticks": ""
            },
            "colorscale": [
             [
              0.0,
              "#0d0887"
             ],
             [
              0.1111111111111111,
              "#46039f"
             ],
             [
              0.2222222222222222,
              "#7201a8"
             ],
             [
              0.3333333333333333,
              "#9c179e"
             ],
             [
              0.4444444444444444,
              "#bd3786"
             ],
             [
              0.5555555555555556,
              "#d8576b"
             ],
             [
              0.6666666666666666,
              "#ed7953"
             ],
             [
              0.7777777777777778,
              "#fb9f3a"
             ],
             [
              0.8888888888888888,
              "#fdca26"
             ],
             [
              1.0,
              "#f0f921"
             ]
            ],
            "type": "contour"
           }
          ],
          "contourcarpet": [
           {
            "colorbar": {
             "outlinewidth": 0,
             "ticks": ""
            },
            "type": "contourcarpet"
           }
          ],
          "heatmap": [
           {
            "colorbar": {
             "outlinewidth": 0,
             "ticks": ""
            },
            "colorscale": [
             [
              0.0,
              "#0d0887"
             ],
             [
              0.1111111111111111,
              "#46039f"
             ],
             [
              0.2222222222222222,
              "#7201a8"
             ],
             [
              0.3333333333333333,
              "#9c179e"
             ],
             [
              0.4444444444444444,
              "#bd3786"
             ],
             [
              0.5555555555555556,
              "#d8576b"
             ],
             [
              0.6666666666666666,
              "#ed7953"
             ],
             [
              0.7777777777777778,
              "#fb9f3a"
             ],
             [
              0.8888888888888888,
              "#fdca26"
             ],
             [
              1.0,
              "#f0f921"
             ]
            ],
            "type": "heatmap"
           }
          ],
          "heatmapgl": [
           {
            "colorbar": {
             "outlinewidth": 0,
             "ticks": ""
            },
            "colorscale": [
             [
              0.0,
              "#0d0887"
             ],
             [
              0.1111111111111111,
              "#46039f"
             ],
             [
              0.2222222222222222,
              "#7201a8"
             ],
             [
              0.3333333333333333,
              "#9c179e"
             ],
             [
              0.4444444444444444,
              "#bd3786"
             ],
             [
              0.5555555555555556,
              "#d8576b"
             ],
             [
              0.6666666666666666,
              "#ed7953"
             ],
             [
              0.7777777777777778,
              "#fb9f3a"
             ],
             [
              0.8888888888888888,
              "#fdca26"
             ],
             [
              1.0,
              "#f0f921"
             ]
            ],
            "type": "heatmapgl"
           }
          ],
          "histogram": [
           {
            "marker": {
             "pattern": {
              "fillmode": "overlay",
              "size": 10,
              "solidity": 0.2
             }
            },
            "type": "histogram"
           }
          ],
          "histogram2d": [
           {
            "colorbar": {
             "outlinewidth": 0,
             "ticks": ""
            },
            "colorscale": [
             [
              0.0,
              "#0d0887"
             ],
             [
              0.1111111111111111,
              "#46039f"
             ],
             [
              0.2222222222222222,
              "#7201a8"
             ],
             [
              0.3333333333333333,
              "#9c179e"
             ],
             [
              0.4444444444444444,
              "#bd3786"
             ],
             [
              0.5555555555555556,
              "#d8576b"
             ],
             [
              0.6666666666666666,
              "#ed7953"
             ],
             [
              0.7777777777777778,
              "#fb9f3a"
             ],
             [
              0.8888888888888888,
              "#fdca26"
             ],
             [
              1.0,
              "#f0f921"
             ]
            ],
            "type": "histogram2d"
           }
          ],
          "histogram2dcontour": [
           {
            "colorbar": {
             "outlinewidth": 0,
             "ticks": ""
            },
            "colorscale": [
             [
              0.0,
              "#0d0887"
             ],
             [
              0.1111111111111111,
              "#46039f"
             ],
             [
              0.2222222222222222,
              "#7201a8"
             ],
             [
              0.3333333333333333,
              "#9c179e"
             ],
             [
              0.4444444444444444,
              "#bd3786"
             ],
             [
              0.5555555555555556,
              "#d8576b"
             ],
             [
              0.6666666666666666,
              "#ed7953"
             ],
             [
              0.7777777777777778,
              "#fb9f3a"
             ],
             [
              0.8888888888888888,
              "#fdca26"
             ],
             [
              1.0,
              "#f0f921"
             ]
            ],
            "type": "histogram2dcontour"
           }
          ],
          "mesh3d": [
           {
            "colorbar": {
             "outlinewidth": 0,
             "ticks": ""
            },
            "type": "mesh3d"
           }
          ],
          "parcoords": [
           {
            "line": {
             "colorbar": {
              "outlinewidth": 0,
              "ticks": ""
             }
            },
            "type": "parcoords"
           }
          ],
          "pie": [
           {
            "automargin": true,
            "type": "pie"
           }
          ],
          "scatter": [
           {
            "marker": {
             "colorbar": {
              "outlinewidth": 0,
              "ticks": ""
             }
            },
            "type": "scatter"
           }
          ],
          "scatter3d": [
           {
            "line": {
             "colorbar": {
              "outlinewidth": 0,
              "ticks": ""
             }
            },
            "marker": {
             "colorbar": {
              "outlinewidth": 0,
              "ticks": ""
             }
            },
            "type": "scatter3d"
           }
          ],
          "scattercarpet": [
           {
            "marker": {
             "colorbar": {
              "outlinewidth": 0,
              "ticks": ""
             }
            },
            "type": "scattercarpet"
           }
          ],
          "scattergeo": [
           {
            "marker": {
             "colorbar": {
              "outlinewidth": 0,
              "ticks": ""
             }
            },
            "type": "scattergeo"
           }
          ],
          "scattergl": [
           {
            "marker": {
             "colorbar": {
              "outlinewidth": 0,
              "ticks": ""
             }
            },
            "type": "scattergl"
           }
          ],
          "scattermapbox": [
           {
            "marker": {
             "colorbar": {
              "outlinewidth": 0,
              "ticks": ""
             }
            },
            "type": "scattermapbox"
           }
          ],
          "scatterpolar": [
           {
            "marker": {
             "colorbar": {
              "outlinewidth": 0,
              "ticks": ""
             }
            },
            "type": "scatterpolar"
           }
          ],
          "scatterpolargl": [
           {
            "marker": {
             "colorbar": {
              "outlinewidth": 0,
              "ticks": ""
             }
            },
            "type": "scatterpolargl"
           }
          ],
          "scatterternary": [
           {
            "marker": {
             "colorbar": {
              "outlinewidth": 0,
              "ticks": ""
             }
            },
            "type": "scatterternary"
           }
          ],
          "surface": [
           {
            "colorbar": {
             "outlinewidth": 0,
             "ticks": ""
            },
            "colorscale": [
             [
              0.0,
              "#0d0887"
             ],
             [
              0.1111111111111111,
              "#46039f"
             ],
             [
              0.2222222222222222,
              "#7201a8"
             ],
             [
              0.3333333333333333,
              "#9c179e"
             ],
             [
              0.4444444444444444,
              "#bd3786"
             ],
             [
              0.5555555555555556,
              "#d8576b"
             ],
             [
              0.6666666666666666,
              "#ed7953"
             ],
             [
              0.7777777777777778,
              "#fb9f3a"
             ],
             [
              0.8888888888888888,
              "#fdca26"
             ],
             [
              1.0,
              "#f0f921"
             ]
            ],
            "type": "surface"
           }
          ],
          "table": [
           {
            "cells": {
             "fill": {
              "color": "#EBF0F8"
             },
             "line": {
              "color": "white"
             }
            },
            "header": {
             "fill": {
              "color": "#C8D4E3"
             },
             "line": {
              "color": "white"
             }
            },
            "type": "table"
           }
          ]
         },
         "layout": {
          "annotationdefaults": {
           "arrowcolor": "#2a3f5f",
           "arrowhead": 0,
           "arrowwidth": 1
          },
          "autotypenumbers": "strict",
          "coloraxis": {
           "colorbar": {
            "outlinewidth": 0,
            "ticks": ""
           }
          },
          "colorscale": {
           "diverging": [
            [
             0,
             "#8e0152"
            ],
            [
             0.1,
             "#c51b7d"
            ],
            [
             0.2,
             "#de77ae"
            ],
            [
             0.3,
             "#f1b6da"
            ],
            [
             0.4,
             "#fde0ef"
            ],
            [
             0.5,
             "#f7f7f7"
            ],
            [
             0.6,
             "#e6f5d0"
            ],
            [
             0.7,
             "#b8e186"
            ],
            [
             0.8,
             "#7fbc41"
            ],
            [
             0.9,
             "#4d9221"
            ],
            [
             1,
             "#276419"
            ]
           ],
           "sequential": [
            [
             0.0,
             "#0d0887"
            ],
            [
             0.1111111111111111,
             "#46039f"
            ],
            [
             0.2222222222222222,
             "#7201a8"
            ],
            [
             0.3333333333333333,
             "#9c179e"
            ],
            [
             0.4444444444444444,
             "#bd3786"
            ],
            [
             0.5555555555555556,
             "#d8576b"
            ],
            [
             0.6666666666666666,
             "#ed7953"
            ],
            [
             0.7777777777777778,
             "#fb9f3a"
            ],
            [
             0.8888888888888888,
             "#fdca26"
            ],
            [
             1.0,
             "#f0f921"
            ]
           ],
           "sequentialminus": [
            [
             0.0,
             "#0d0887"
            ],
            [
             0.1111111111111111,
             "#46039f"
            ],
            [
             0.2222222222222222,
             "#7201a8"
            ],
            [
             0.3333333333333333,
             "#9c179e"
            ],
            [
             0.4444444444444444,
             "#bd3786"
            ],
            [
             0.5555555555555556,
             "#d8576b"
            ],
            [
             0.6666666666666666,
             "#ed7953"
            ],
            [
             0.7777777777777778,
             "#fb9f3a"
            ],
            [
             0.8888888888888888,
             "#fdca26"
            ],
            [
             1.0,
             "#f0f921"
            ]
           ]
          },
          "colorway": [
           "#636efa",
           "#EF553B",
           "#00cc96",
           "#ab63fa",
           "#FFA15A",
           "#19d3f3",
           "#FF6692",
           "#B6E880",
           "#FF97FF",
           "#FECB52"
          ],
          "font": {
           "color": "#2a3f5f"
          },
          "geo": {
           "bgcolor": "white",
           "lakecolor": "white",
           "landcolor": "#E5ECF6",
           "showlakes": true,
           "showland": true,
           "subunitcolor": "white"
          },
          "hoverlabel": {
           "align": "left"
          },
          "hovermode": "closest",
          "mapbox": {
           "style": "light"
          },
          "paper_bgcolor": "white",
          "plot_bgcolor": "#E5ECF6",
          "polar": {
           "angularaxis": {
            "gridcolor": "white",
            "linecolor": "white",
            "ticks": ""
           },
           "bgcolor": "#E5ECF6",
           "radialaxis": {
            "gridcolor": "white",
            "linecolor": "white",
            "ticks": ""
           }
          },
          "scene": {
           "xaxis": {
            "backgroundcolor": "#E5ECF6",
            "gridcolor": "white",
            "gridwidth": 2,
            "linecolor": "white",
            "showbackground": true,
            "ticks": "",
            "zerolinecolor": "white"
           },
           "yaxis": {
            "backgroundcolor": "#E5ECF6",
            "gridcolor": "white",
            "gridwidth": 2,
            "linecolor": "white",
            "showbackground": true,
            "ticks": "",
            "zerolinecolor": "white"
           },
           "zaxis": {
            "backgroundcolor": "#E5ECF6",
            "gridcolor": "white",
            "gridwidth": 2,
            "linecolor": "white",
            "showbackground": true,
            "ticks": "",
            "zerolinecolor": "white"
           }
          },
          "shapedefaults": {
           "line": {
            "color": "#2a3f5f"
           }
          },
          "ternary": {
           "aaxis": {
            "gridcolor": "white",
            "linecolor": "white",
            "ticks": ""
           },
           "baxis": {
            "gridcolor": "white",
            "linecolor": "white",
            "ticks": ""
           },
           "bgcolor": "#E5ECF6",
           "caxis": {
            "gridcolor": "white",
            "linecolor": "white",
            "ticks": ""
           }
          },
          "title": {
           "x": 0.05
          },
          "xaxis": {
           "automargin": true,
           "gridcolor": "white",
           "linecolor": "white",
           "ticks": "",
           "title": {
            "standoff": 15
           },
           "zerolinecolor": "white",
           "zerolinewidth": 2
          },
          "yaxis": {
           "automargin": true,
           "gridcolor": "white",
           "linecolor": "white",
           "ticks": "",
           "title": {
            "standoff": 15
           },
           "zerolinecolor": "white",
           "zerolinewidth": 2
          }
         }
        },
        "xaxis": {
         "anchor": "y",
         "domain": [
          0.0,
          1.0
         ],
         "title": {
          "text": "TIME"
         },
         "rangeslider": {
          "visible": true
         }
        },
        "yaxis": {
         "anchor": "x",
         "domain": [
          0.0,
          1.0
         ],
         "title": {
          "text": "% of national total"
         }
        },
        "legend": {
         "title": {
          "text": "LOCATION"
         },
         "tracegroupgap": 0
        },
        "title": {
         "text": "Government researchers"
        }
       },
       "config": {
        "plotlyServerURL": "https://plot.ly"
       }
      },
      "text/html": "<div>                            <div id=\"0839e48c-2314-456d-977d-5d8803cf9712\" class=\"plotly-graph-div\" style=\"height:525px; width:100%;\"></div>            <script type=\"text/javascript\">                require([\"plotly\"], function(Plotly) {                    window.PLOTLYENV=window.PLOTLYENV || {};                                    if (document.getElementById(\"0839e48c-2314-456d-977d-5d8803cf9712\")) {                    Plotly.newPlot(                        \"0839e48c-2314-456d-977d-5d8803cf9712\",                        [{\"hovertemplate\":\"LOCATION=Austria<br>TIME=%{x}<br>Value=%{y}<extra></extra>\",\"legendgroup\":\"Austria\",\"line\":{\"color\":\"#636efa\",\"dash\":\"solid\"},\"marker\":{\"symbol\":\"circle\"},\"mode\":\"lines\",\"name\":\"Austria\",\"orientation\":\"v\",\"showlegend\":true,\"x\":[1981,1985,1989,1993,1998,2002,2004,2005,2006,2007,2008,2009,2010,2011,2012,2013,2014,2015,2016,2017,2018,2019],\"xaxis\":\"x\",\"y\":[8.08998808104887,6.80772769089237,5.92120245957641,7.05093206458155,5.09756983777545,4.1398435589307,3.96760572062631,4.32601792789502,4.61835629668444,4.38507873568299,4.38503200679257,4.49836572552844,4.28638989199282,4.07153134413614,3.91579997330022,3.87576189345365,3.88016984540315,3.86116339929296,7.71270370228504,7.71237978998759,7.71269483780106,7.22994717232732],\"yaxis\":\"y\",\"type\":\"scatter\"},{\"hovertemplate\":\"LOCATION=Italy<br>TIME=%{x}<br>Value=%{y}<extra></extra>\",\"legendgroup\":\"Italy\",\"line\":{\"color\":\"#EF553B\",\"dash\":\"solid\"},\"marker\":{\"symbol\":\"circle\"},\"mode\":\"lines\",\"name\":\"Italy\",\"orientation\":\"v\",\"showlegend\":true,\"x\":[1981,1982,1983,1984,1985,1986,1987,1988,1989,1990,1991,1992,1993,1994,1995,1996,1997,1998,1999,2000,2001,2002,2003,2004,2005,2006,2007,2008,2009,2010,2011,2012,2013,2014,2015,2016,2017,2018,2019],\"xaxis\":\"x\",\"y\":[15.076834421821,16.4247800095226,15.4504054204154,17.6140305587376,17.7982716165561,17.0214020399741,17.7660298202846,18.6308179546457,18.3781581092095,18.6206276644923,16.8186288843404,17.625164601865,17.8654915764301,17.9432661577877,18.423003600932,17.8399026700331,20.8314305720462,20.8326957799064,21.0405849642078,21.6533050975647,19.4986657071752,19.0407343982482,19.8713819966075,19.7702886042762,17.5223575535618,18.7609126355881,18.5925606531606,16.2421436350783,16.3763425444962,16.9164306647471,17.6914460774385,18.5186657367826,18.3473609995584,17.8071296210115,17.1535253227408,16.2378651668586,15.7560301471741,14.8911046625221,14.4731867710958],\"yaxis\":\"y\",\"type\":\"scatter\"},{\"hovertemplate\":\"LOCATION=Australia<br>TIME=%{x}<br>Value=%{y}<extra></extra>\",\"legendgroup\":\"Australia\",\"line\":{\"color\":\"#00cc96\",\"dash\":\"solid\"},\"marker\":{\"symbol\":\"circle\"},\"mode\":\"lines\",\"name\":\"Australia\",\"orientation\":\"v\",\"showlegend\":true,\"x\":[1981,1984,1985,1986,1987,1988,1990,1992,1994,1996,1998,2000,2002,2004,2006,2008],\"xaxis\":\"x\",\"y\":[28.0651024454726,23.9470391993328,23.5384718408893,22.1045419509549,20.3838823849714,20.8787363790863,21.4957383731703,18.4308913472784,15.4843791759857,14.783318556322,13.550891202507,13.2185074862048,10.9821928853539,10.389018554898,10.0010320982558,8.94215575377123],\"yaxis\":\"y\",\"type\":\"scatter\"},{\"hovertemplate\":\"LOCATION=United States<br>TIME=%{x}<br>Value=%{y}<extra></extra>\",\"legendgroup\":\"United States\",\"line\":{\"color\":\"#ab63fa\",\"dash\":\"solid\"},\"marker\":{\"symbol\":\"circle\"},\"mode\":\"lines\",\"name\":\"United States\",\"orientation\":\"v\",\"showlegend\":true,\"x\":[1981,1982,1983,1984,1985,1987,1988,1989,1990,1991,1992,1993,1995,1996,1997,1998,1999,2000,2001,2002],\"xaxis\":\"x\",\"y\":[11.1278195488722,10.8590995634642,10.5493582617136,10.1008129446554,8.60150435523388,7.95322391181442,7.76672317363785,8.1587685254691,8.06071865242154,7.81338997929385,8.07348174779123,7.68008847461923,6.76669830317822,6.18162834294393,5.65092916934746,5.13935387567971,4.90703046500306,4.82473996537948,4.74600076035292,4.55796194613595],\"yaxis\":\"y\",\"type\":\"scatter\"},{\"hovertemplate\":\"LOCATION=Belgium<br>TIME=%{x}<br>Value=%{y}<extra></extra>\",\"legendgroup\":\"Belgium\",\"line\":{\"color\":\"#FFA15A\",\"dash\":\"solid\"},\"marker\":{\"symbol\":\"circle\"},\"mode\":\"lines\",\"name\":\"Belgium\",\"orientation\":\"v\",\"showlegend\":true,\"x\":[1981,1982,1983,1984,1985,1986,1987,1988,1989,1991,1993,1994,1995,1996,1997,1998,1999,2000,2001,2002,2003,2004,2005,2006,2007,2008,2009,2010,2011,2012,2013,2014,2015,2016,2017,2018,2019],\"xaxis\":\"x\",\"y\":[4.95802934023692,4.80984340044743,4.92889583798675,4.88997555012225,4.64801138288502,4.41260744985673,4.30663758180119,4.13312507509312,4.78433598183882,4.33581883457609,5.63559656818148,5.32967607233039,5.18638770765701,5.73268406450652,5.92034500498927,5.79286260067679,5.84576399527268,5.92326889303032,6.02175131264236,6.45576627569575,6.55445843904607,6.83507330743744,6.85940695527037,6.94935313066859,6.95577707018506,7.23522879289068,7.37701634018949,6.49043319666442,6.51505121844647,7.87551812619252,7.88927757934104,7.99291617473436,7.59970288465155,7.90342667649226,8.30530319118702,9.19493549484529,9.05672061937507],\"yaxis\":\"y\",\"type\":\"scatter\"}],                        {\"template\":{\"data\":{\"bar\":[{\"error_x\":{\"color\":\"#2a3f5f\"},\"error_y\":{\"color\":\"#2a3f5f\"},\"marker\":{\"line\":{\"color\":\"#E5ECF6\",\"width\":0.5},\"pattern\":{\"fillmode\":\"overlay\",\"size\":10,\"solidity\":0.2}},\"type\":\"bar\"}],\"barpolar\":[{\"marker\":{\"line\":{\"color\":\"#E5ECF6\",\"width\":0.5},\"pattern\":{\"fillmode\":\"overlay\",\"size\":10,\"solidity\":0.2}},\"type\":\"barpolar\"}],\"carpet\":[{\"aaxis\":{\"endlinecolor\":\"#2a3f5f\",\"gridcolor\":\"white\",\"linecolor\":\"white\",\"minorgridcolor\":\"white\",\"startlinecolor\":\"#2a3f5f\"},\"baxis\":{\"endlinecolor\":\"#2a3f5f\",\"gridcolor\":\"white\",\"linecolor\":\"white\",\"minorgridcolor\":\"white\",\"startlinecolor\":\"#2a3f5f\"},\"type\":\"carpet\"}],\"choropleth\":[{\"colorbar\":{\"outlinewidth\":0,\"ticks\":\"\"},\"type\":\"choropleth\"}],\"contour\":[{\"colorbar\":{\"outlinewidth\":0,\"ticks\":\"\"},\"colorscale\":[[0.0,\"#0d0887\"],[0.1111111111111111,\"#46039f\"],[0.2222222222222222,\"#7201a8\"],[0.3333333333333333,\"#9c179e\"],[0.4444444444444444,\"#bd3786\"],[0.5555555555555556,\"#d8576b\"],[0.6666666666666666,\"#ed7953\"],[0.7777777777777778,\"#fb9f3a\"],[0.8888888888888888,\"#fdca26\"],[1.0,\"#f0f921\"]],\"type\":\"contour\"}],\"contourcarpet\":[{\"colorbar\":{\"outlinewidth\":0,\"ticks\":\"\"},\"type\":\"contourcarpet\"}],\"heatmap\":[{\"colorbar\":{\"outlinewidth\":0,\"ticks\":\"\"},\"colorscale\":[[0.0,\"#0d0887\"],[0.1111111111111111,\"#46039f\"],[0.2222222222222222,\"#7201a8\"],[0.3333333333333333,\"#9c179e\"],[0.4444444444444444,\"#bd3786\"],[0.5555555555555556,\"#d8576b\"],[0.6666666666666666,\"#ed7953\"],[0.7777777777777778,\"#fb9f3a\"],[0.8888888888888888,\"#fdca26\"],[1.0,\"#f0f921\"]],\"type\":\"heatmap\"}],\"heatmapgl\":[{\"colorbar\":{\"outlinewidth\":0,\"ticks\":\"\"},\"colorscale\":[[0.0,\"#0d0887\"],[0.1111111111111111,\"#46039f\"],[0.2222222222222222,\"#7201a8\"],[0.3333333333333333,\"#9c179e\"],[0.4444444444444444,\"#bd3786\"],[0.5555555555555556,\"#d8576b\"],[0.6666666666666666,\"#ed7953\"],[0.7777777777777778,\"#fb9f3a\"],[0.8888888888888888,\"#fdca26\"],[1.0,\"#f0f921\"]],\"type\":\"heatmapgl\"}],\"histogram\":[{\"marker\":{\"pattern\":{\"fillmode\":\"overlay\",\"size\":10,\"solidity\":0.2}},\"type\":\"histogram\"}],\"histogram2d\":[{\"colorbar\":{\"outlinewidth\":0,\"ticks\":\"\"},\"colorscale\":[[0.0,\"#0d0887\"],[0.1111111111111111,\"#46039f\"],[0.2222222222222222,\"#7201a8\"],[0.3333333333333333,\"#9c179e\"],[0.4444444444444444,\"#bd3786\"],[0.5555555555555556,\"#d8576b\"],[0.6666666666666666,\"#ed7953\"],[0.7777777777777778,\"#fb9f3a\"],[0.8888888888888888,\"#fdca26\"],[1.0,\"#f0f921\"]],\"type\":\"histogram2d\"}],\"histogram2dcontour\":[{\"colorbar\":{\"outlinewidth\":0,\"ticks\":\"\"},\"colorscale\":[[0.0,\"#0d0887\"],[0.1111111111111111,\"#46039f\"],[0.2222222222222222,\"#7201a8\"],[0.3333333333333333,\"#9c179e\"],[0.4444444444444444,\"#bd3786\"],[0.5555555555555556,\"#d8576b\"],[0.6666666666666666,\"#ed7953\"],[0.7777777777777778,\"#fb9f3a\"],[0.8888888888888888,\"#fdca26\"],[1.0,\"#f0f921\"]],\"type\":\"histogram2dcontour\"}],\"mesh3d\":[{\"colorbar\":{\"outlinewidth\":0,\"ticks\":\"\"},\"type\":\"mesh3d\"}],\"parcoords\":[{\"line\":{\"colorbar\":{\"outlinewidth\":0,\"ticks\":\"\"}},\"type\":\"parcoords\"}],\"pie\":[{\"automargin\":true,\"type\":\"pie\"}],\"scatter\":[{\"marker\":{\"colorbar\":{\"outlinewidth\":0,\"ticks\":\"\"}},\"type\":\"scatter\"}],\"scatter3d\":[{\"line\":{\"colorbar\":{\"outlinewidth\":0,\"ticks\":\"\"}},\"marker\":{\"colorbar\":{\"outlinewidth\":0,\"ticks\":\"\"}},\"type\":\"scatter3d\"}],\"scattercarpet\":[{\"marker\":{\"colorbar\":{\"outlinewidth\":0,\"ticks\":\"\"}},\"type\":\"scattercarpet\"}],\"scattergeo\":[{\"marker\":{\"colorbar\":{\"outlinewidth\":0,\"ticks\":\"\"}},\"type\":\"scattergeo\"}],\"scattergl\":[{\"marker\":{\"colorbar\":{\"outlinewidth\":0,\"ticks\":\"\"}},\"type\":\"scattergl\"}],\"scattermapbox\":[{\"marker\":{\"colorbar\":{\"outlinewidth\":0,\"ticks\":\"\"}},\"type\":\"scattermapbox\"}],\"scatterpolar\":[{\"marker\":{\"colorbar\":{\"outlinewidth\":0,\"ticks\":\"\"}},\"type\":\"scatterpolar\"}],\"scatterpolargl\":[{\"marker\":{\"colorbar\":{\"outlinewidth\":0,\"ticks\":\"\"}},\"type\":\"scatterpolargl\"}],\"scatterternary\":[{\"marker\":{\"colorbar\":{\"outlinewidth\":0,\"ticks\":\"\"}},\"type\":\"scatterternary\"}],\"surface\":[{\"colorbar\":{\"outlinewidth\":0,\"ticks\":\"\"},\"colorscale\":[[0.0,\"#0d0887\"],[0.1111111111111111,\"#46039f\"],[0.2222222222222222,\"#7201a8\"],[0.3333333333333333,\"#9c179e\"],[0.4444444444444444,\"#bd3786\"],[0.5555555555555556,\"#d8576b\"],[0.6666666666666666,\"#ed7953\"],[0.7777777777777778,\"#fb9f3a\"],[0.8888888888888888,\"#fdca26\"],[1.0,\"#f0f921\"]],\"type\":\"surface\"}],\"table\":[{\"cells\":{\"fill\":{\"color\":\"#EBF0F8\"},\"line\":{\"color\":\"white\"}},\"header\":{\"fill\":{\"color\":\"#C8D4E3\"},\"line\":{\"color\":\"white\"}},\"type\":\"table\"}]},\"layout\":{\"annotationdefaults\":{\"arrowcolor\":\"#2a3f5f\",\"arrowhead\":0,\"arrowwidth\":1},\"autotypenumbers\":\"strict\",\"coloraxis\":{\"colorbar\":{\"outlinewidth\":0,\"ticks\":\"\"}},\"colorscale\":{\"diverging\":[[0,\"#8e0152\"],[0.1,\"#c51b7d\"],[0.2,\"#de77ae\"],[0.3,\"#f1b6da\"],[0.4,\"#fde0ef\"],[0.5,\"#f7f7f7\"],[0.6,\"#e6f5d0\"],[0.7,\"#b8e186\"],[0.8,\"#7fbc41\"],[0.9,\"#4d9221\"],[1,\"#276419\"]],\"sequential\":[[0.0,\"#0d0887\"],[0.1111111111111111,\"#46039f\"],[0.2222222222222222,\"#7201a8\"],[0.3333333333333333,\"#9c179e\"],[0.4444444444444444,\"#bd3786\"],[0.5555555555555556,\"#d8576b\"],[0.6666666666666666,\"#ed7953\"],[0.7777777777777778,\"#fb9f3a\"],[0.8888888888888888,\"#fdca26\"],[1.0,\"#f0f921\"]],\"sequentialminus\":[[0.0,\"#0d0887\"],[0.1111111111111111,\"#46039f\"],[0.2222222222222222,\"#7201a8\"],[0.3333333333333333,\"#9c179e\"],[0.4444444444444444,\"#bd3786\"],[0.5555555555555556,\"#d8576b\"],[0.6666666666666666,\"#ed7953\"],[0.7777777777777778,\"#fb9f3a\"],[0.8888888888888888,\"#fdca26\"],[1.0,\"#f0f921\"]]},\"colorway\":[\"#636efa\",\"#EF553B\",\"#00cc96\",\"#ab63fa\",\"#FFA15A\",\"#19d3f3\",\"#FF6692\",\"#B6E880\",\"#FF97FF\",\"#FECB52\"],\"font\":{\"color\":\"#2a3f5f\"},\"geo\":{\"bgcolor\":\"white\",\"lakecolor\":\"white\",\"landcolor\":\"#E5ECF6\",\"showlakes\":true,\"showland\":true,\"subunitcolor\":\"white\"},\"hoverlabel\":{\"align\":\"left\"},\"hovermode\":\"closest\",\"mapbox\":{\"style\":\"light\"},\"paper_bgcolor\":\"white\",\"plot_bgcolor\":\"#E5ECF6\",\"polar\":{\"angularaxis\":{\"gridcolor\":\"white\",\"linecolor\":\"white\",\"ticks\":\"\"},\"bgcolor\":\"#E5ECF6\",\"radialaxis\":{\"gridcolor\":\"white\",\"linecolor\":\"white\",\"ticks\":\"\"}},\"scene\":{\"xaxis\":{\"backgroundcolor\":\"#E5ECF6\",\"gridcolor\":\"white\",\"gridwidth\":2,\"linecolor\":\"white\",\"showbackground\":true,\"ticks\":\"\",\"zerolinecolor\":\"white\"},\"yaxis\":{\"backgroundcolor\":\"#E5ECF6\",\"gridcolor\":\"white\",\"gridwidth\":2,\"linecolor\":\"white\",\"showbackground\":true,\"ticks\":\"\",\"zerolinecolor\":\"white\"},\"zaxis\":{\"backgroundcolor\":\"#E5ECF6\",\"gridcolor\":\"white\",\"gridwidth\":2,\"linecolor\":\"white\",\"showbackground\":true,\"ticks\":\"\",\"zerolinecolor\":\"white\"}},\"shapedefaults\":{\"line\":{\"color\":\"#2a3f5f\"}},\"ternary\":{\"aaxis\":{\"gridcolor\":\"white\",\"linecolor\":\"white\",\"ticks\":\"\"},\"baxis\":{\"gridcolor\":\"white\",\"linecolor\":\"white\",\"ticks\":\"\"},\"bgcolor\":\"#E5ECF6\",\"caxis\":{\"gridcolor\":\"white\",\"linecolor\":\"white\",\"ticks\":\"\"}},\"title\":{\"x\":0.05},\"xaxis\":{\"automargin\":true,\"gridcolor\":\"white\",\"linecolor\":\"white\",\"ticks\":\"\",\"title\":{\"standoff\":15},\"zerolinecolor\":\"white\",\"zerolinewidth\":2},\"yaxis\":{\"automargin\":true,\"gridcolor\":\"white\",\"linecolor\":\"white\",\"ticks\":\"\",\"title\":{\"standoff\":15},\"zerolinecolor\":\"white\",\"zerolinewidth\":2}}},\"xaxis\":{\"anchor\":\"y\",\"domain\":[0.0,1.0],\"title\":{\"text\":\"TIME\"},\"rangeslider\":{\"visible\":true}},\"yaxis\":{\"anchor\":\"x\",\"domain\":[0.0,1.0],\"title\":{\"text\":\"% of national total\"}},\"legend\":{\"title\":{\"text\":\"LOCATION\"},\"tracegroupgap\":0},\"title\":{\"text\":\"Government researchers\"}},                        {\"responsive\": true}                    ).then(function(){\n                            \nvar gd = document.getElementById('0839e48c-2314-456d-977d-5d8803cf9712');\nvar x = new MutationObserver(function (mutations, observer) {{\n        var display = window.getComputedStyle(gd).display;\n        if (!display || display === 'none') {{\n            console.log([gd, 'removed!']);\n            Plotly.purge(gd);\n            observer.disconnect();\n        }}\n}});\n\n// Listen for the removal of the full notebook cells\nvar notebookContainer = gd.closest('#notebook-container');\nif (notebookContainer) {{\n    x.observe(notebookContainer, {childList: true});\n}}\n\n// Listen for the clearing of the current output cell\nvar outputEl = gd.closest('.output');\nif (outputEl) {{\n    x.observe(outputEl, {childList: true});\n}}\n\n                        })                };                });            </script>        </div>"
     },
     "metadata": {},
     "output_type": "display_data"
    },
    {
     "data": {
      "application/vnd.plotly.v1+json": {
       "data": [
        {
         "hovertemplate": "LOCATION=AUS<br>Values1=%{x}<br>Values2=%{y}<extra></extra>",
         "legendgroup": "AUS",
         "marker": {
          "color": "#636efa",
          "symbol": "circle"
         },
         "mode": "markers",
         "name": "AUS",
         "orientation": "v",
         "showlegend": true,
         "x": [
          24.173
         ],
         "xaxis": "x",
         "y": [
          37.604309
         ],
         "yaxis": "y",
         "type": "scatter"
        },
        {
         "hovertemplate": "LOCATION=AUT<br>Values1=%{x}<br>Values2=%{y}<extra></extra>",
         "legendgroup": "AUT",
         "marker": {
          "color": "#EF553B",
          "symbol": "circle"
         },
         "mode": "markers",
         "name": "AUT",
         "orientation": "v",
         "showlegend": true,
         "x": [
          10.028
         ],
         "xaxis": "x",
         "y": [
          27.743721
         ],
         "yaxis": "y",
         "type": "scatter"
        },
        {
         "hovertemplate": "LOCATION=BEL<br>Values1=%{x}<br>Values2=%{y}<extra></extra>",
         "legendgroup": "BEL",
         "marker": {
          "color": "#00cc96",
          "symbol": "circle"
         },
         "mode": "markers",
         "name": "BEL",
         "orientation": "v",
         "showlegend": true,
         "x": [
          12.217
         ],
         "xaxis": "x",
         "y": [
          34.989502
         ],
         "yaxis": "y",
         "type": "scatter"
        },
        {
         "hovertemplate": "LOCATION=CAN<br>Values1=%{x}<br>Values2=%{y}<extra></extra>",
         "legendgroup": "CAN",
         "marker": {
          "color": "#ab63fa",
          "symbol": "circle"
         },
         "mode": "markers",
         "name": "CAN",
         "orientation": "v",
         "showlegend": true,
         "x": [
          20.581
         ],
         "xaxis": "x",
         "y": [
          50.311695
         ],
         "yaxis": "y",
         "type": "scatter"
        },
        {
         "hovertemplate": "LOCATION=CZE<br>Values1=%{x}<br>Values2=%{y}<extra></extra>",
         "legendgroup": "CZE",
         "marker": {
          "color": "#FFA15A",
          "symbol": "circle"
         },
         "mode": "markers",
         "name": "CZE",
         "orientation": "v",
         "showlegend": true,
         "x": [
          13.25
         ],
         "xaxis": "x",
         "y": [
          16.764982
         ],
         "yaxis": "y",
         "type": "scatter"
        },
        {
         "hovertemplate": "LOCATION=DNK<br>Values1=%{x}<br>Values2=%{y}<extra></extra>",
         "legendgroup": "DNK",
         "marker": {
          "color": "#19d3f3",
          "symbol": "circle"
         },
         "mode": "markers",
         "name": "DNK",
         "orientation": "v",
         "showlegend": true,
         "x": [
          11.641
         ],
         "xaxis": "x",
         "y": [
          33.002644
         ],
         "yaxis": "y",
         "type": "scatter"
        },
        {
         "hovertemplate": "LOCATION=FIN<br>Values1=%{x}<br>Values2=%{y}<extra></extra>",
         "legendgroup": "FIN",
         "marker": {
          "color": "#FF6692",
          "symbol": "circle"
         },
         "mode": "markers",
         "name": "FIN",
         "orientation": "v",
         "showlegend": true,
         "x": [
          14.093
         ],
         "xaxis": "x",
         "y": [
          38.146343
         ],
         "yaxis": "y",
         "type": "scatter"
        },
        {
         "hovertemplate": "LOCATION=FRA<br>Values1=%{x}<br>Values2=%{y}<extra></extra>",
         "legendgroup": "FRA",
         "marker": {
          "color": "#B6E880",
          "symbol": "circle"
         },
         "mode": "markers",
         "name": "FRA",
         "orientation": "v",
         "showlegend": true,
         "x": [
          8.166
         ],
         "xaxis": "x",
         "y": [
          29.006897
         ],
         "yaxis": "y",
         "type": "scatter"
        },
        {
         "hovertemplate": "LOCATION=DEU<br>Values1=%{x}<br>Values2=%{y}<extra></extra>",
         "legendgroup": "DEU",
         "marker": {
          "color": "#FF97FF",
          "symbol": "circle"
         },
         "mode": "markers",
         "name": "DEU",
         "orientation": "v",
         "showlegend": true,
         "x": [
          11.652
         ],
         "xaxis": "x",
         "y": [
          26.609148
         ],
         "yaxis": "y",
         "type": "scatter"
        },
        {
         "hovertemplate": "LOCATION=GRC<br>Values1=%{x}<br>Values2=%{y}<extra></extra>",
         "legendgroup": "GRC",
         "marker": {
          "color": "#FECB52",
          "symbol": "circle"
         },
         "mode": "markers",
         "name": "GRC",
         "orientation": "v",
         "showlegend": true,
         "x": [
          10.884
         ],
         "xaxis": "x",
         "y": [
          24.744848
         ],
         "yaxis": "y",
         "type": "scatter"
        },
        {
         "hovertemplate": "LOCATION=HUN<br>Values1=%{x}<br>Values2=%{y}<extra></extra>",
         "legendgroup": "HUN",
         "marker": {
          "color": "#636efa",
          "symbol": "circle"
         },
         "mode": "markers",
         "name": "HUN",
         "orientation": "v",
         "showlegend": true,
         "x": [
          6.654
         ],
         "xaxis": "x",
         "y": [
          20.121918
         ],
         "yaxis": "y",
         "type": "scatter"
        },
        {
         "hovertemplate": "LOCATION=ISL<br>Values1=%{x}<br>Values2=%{y}<extra></extra>",
         "legendgroup": "ISL",
         "marker": {
          "color": "#EF553B",
          "symbol": "circle"
         },
         "mode": "markers",
         "name": "ISL",
         "orientation": "v",
         "showlegend": true,
         "x": [
          15.191
         ],
         "xaxis": "x",
         "y": [
          31.298735
         ],
         "yaxis": "y",
         "type": "scatter"
        },
        {
         "hovertemplate": "LOCATION=IRL<br>Values1=%{x}<br>Values2=%{y}<extra></extra>",
         "legendgroup": "IRL",
         "marker": {
          "color": "#00cc96",
          "symbol": "circle"
         },
         "mode": "markers",
         "name": "IRL",
         "orientation": "v",
         "showlegend": true,
         "x": [
          13.602
         ],
         "xaxis": "x",
         "y": [
          37.584061
         ],
         "yaxis": "y",
         "type": "scatter"
        },
        {
         "hovertemplate": "LOCATION=ITA<br>Values1=%{x}<br>Values2=%{y}<extra></extra>",
         "legendgroup": "ITA",
         "marker": {
          "color": "#ab63fa",
          "symbol": "circle"
         },
         "mode": "markers",
         "name": "ITA",
         "orientation": "v",
         "showlegend": true,
         "x": [
          8.706
         ],
         "xaxis": "x",
         "y": [
          14.802574
         ],
         "yaxis": "y",
         "type": "scatter"
        },
        {
         "hovertemplate": "LOCATION=JPN<br>Values1=%{x}<br>Values2=%{y}<extra></extra>",
         "legendgroup": "JPN",
         "marker": {
          "color": "#FFA15A",
          "symbol": "circle"
         },
         "mode": "markers",
         "name": "JPN",
         "orientation": "v",
         "showlegend": true,
         "x": [
          10.117
         ],
         "xaxis": "x",
         "y": [
          44.809975
         ],
         "yaxis": "y",
         "type": "scatter"
        },
        {
         "hovertemplate": "LOCATION=KOR<br>Values1=%{x}<br>Values2=%{y}<extra></extra>",
         "legendgroup": "KOR",
         "marker": {
          "color": "#19d3f3",
          "symbol": "circle"
         },
         "mode": "markers",
         "name": "KOR",
         "orientation": "v",
         "showlegend": true,
         "x": [
          13.247
         ],
         "xaxis": "x",
         "y": [
          39.044632
         ],
         "yaxis": "y",
         "type": "scatter"
        },
        {
         "hovertemplate": "LOCATION=LUX<br>Values1=%{x}<br>Values2=%{y}<extra></extra>",
         "legendgroup": "LUX",
         "marker": {
          "color": "#FF6692",
          "symbol": "circle"
         },
         "mode": "markers",
         "name": "LUX",
         "orientation": "v",
         "showlegend": true,
         "x": [
          23.975
         ],
         "xaxis": "x",
         "y": [
          35.475895
         ],
         "yaxis": "y",
         "type": "scatter"
        },
        {
         "hovertemplate": "LOCATION=MEX<br>Values1=%{x}<br>Values2=%{y}<extra></extra>",
         "legendgroup": "MEX",
         "marker": {
          "color": "#B6E880",
          "symbol": "circle"
         },
         "mode": "markers",
         "name": "MEX",
         "orientation": "v",
         "showlegend": true,
         "x": [
          5.864
         ],
         "xaxis": "x",
         "y": [
          14.654601
         ],
         "yaxis": "y",
         "type": "scatter"
        },
        {
         "hovertemplate": "LOCATION=NLD<br>Values1=%{x}<br>Values2=%{y}<extra></extra>",
         "legendgroup": "NLD",
         "marker": {
          "color": "#FF97FF",
          "symbol": "circle"
         },
         "mode": "markers",
         "name": "NLD",
         "orientation": "v",
         "showlegend": true,
         "x": [
          12.688
         ],
         "xaxis": "x",
         "y": [
          32.389164
         ],
         "yaxis": "y",
         "type": "scatter"
        },
        {
         "hovertemplate": "LOCATION=NZL<br>Values1=%{x}<br>Values2=%{y}<extra></extra>",
         "legendgroup": "NZL",
         "marker": {
          "color": "#FECB52",
          "symbol": "circle"
         },
         "mode": "markers",
         "name": "NZL",
         "orientation": "v",
         "showlegend": true,
         "x": [
          17.921
         ],
         "xaxis": "x",
         "y": [
          null
         ],
         "yaxis": "y",
         "type": "scatter"
        },
        {
         "hovertemplate": "LOCATION=NOR<br>Values1=%{x}<br>Values2=%{y}<extra></extra>",
         "legendgroup": "NOR",
         "marker": {
          "color": "#636efa",
          "symbol": "circle"
         },
         "mode": "markers",
         "name": "NOR",
         "orientation": "v",
         "showlegend": true,
         "x": [
          11.311
         ],
         "xaxis": "x",
         "y": [
          37.284328
         ],
         "yaxis": "y",
         "type": "scatter"
        },
        {
         "hovertemplate": "LOCATION=POL<br>Values1=%{x}<br>Values2=%{y}<extra></extra>",
         "legendgroup": "POL",
         "marker": {
          "color": "#EF553B",
          "symbol": "circle"
         },
         "mode": "markers",
         "name": "POL",
         "orientation": "v",
         "showlegend": true,
         "x": [
          10.788
         ],
         "xaxis": "x",
         "y": [
          22.468407
         ],
         "yaxis": "y",
         "type": "scatter"
        },
        {
         "hovertemplate": "LOCATION=PRT<br>Values1=%{x}<br>Values2=%{y}<extra></extra>",
         "legendgroup": "PRT",
         "marker": {
          "color": "#00cc96",
          "symbol": "circle"
         },
         "mode": "markers",
         "name": "PRT",
         "orientation": "v",
         "showlegend": true,
         "x": [
          6.486
         ],
         "xaxis": "x",
         "y": [
          15.445285
         ],
         "yaxis": "y",
         "type": "scatter"
        },
        {
         "hovertemplate": "LOCATION=SVK<br>Values1=%{x}<br>Values2=%{y}<extra></extra>",
         "legendgroup": "SVK",
         "marker": {
          "color": "#ab63fa",
          "symbol": "circle"
         },
         "mode": "markers",
         "name": "SVK",
         "orientation": "v",
         "showlegend": true,
         "x": [
          8.394
         ],
         "xaxis": "x",
         "y": [
          17.327984
         ],
         "yaxis": "y",
         "type": "scatter"
        },
        {
         "hovertemplate": "LOCATION=ESP<br>Values1=%{x}<br>Values2=%{y}<extra></extra>",
         "legendgroup": "ESP",
         "marker": {
          "color": "#FFA15A",
          "symbol": "circle"
         },
         "mode": "markers",
         "name": "ESP",
         "orientation": "v",
         "showlegend": true,
         "x": [
          7.626
         ],
         "xaxis": "x",
         "y": [
          31.016668
         ],
         "yaxis": "y",
         "type": "scatter"
        },
        {
         "hovertemplate": "LOCATION=SWE<br>Values1=%{x}<br>Values2=%{y}<extra></extra>",
         "legendgroup": "SWE",
         "marker": {
          "color": "#19d3f3",
          "symbol": "circle"
         },
         "mode": "markers",
         "name": "SWE",
         "orientation": "v",
         "showlegend": true,
         "x": [
          6.875
         ],
         "xaxis": "x",
         "y": [
          33.868935
         ],
         "yaxis": "y",
         "type": "scatter"
        },
        {
         "hovertemplate": "LOCATION=CHE<br>Values1=%{x}<br>Values2=%{y}<extra></extra>",
         "legendgroup": "CHE",
         "marker": {
          "color": "#FF6692",
          "symbol": "circle"
         },
         "mode": "markers",
         "name": "CHE",
         "orientation": "v",
         "showlegend": true,
         "x": [
          7.008
         ],
         "xaxis": "x",
         "y": [
          33.881504
         ],
         "yaxis": "y",
         "type": "scatter"
        },
        {
         "hovertemplate": "LOCATION=TUR<br>Values1=%{x}<br>Values2=%{y}<extra></extra>",
         "legendgroup": "TUR",
         "marker": {
          "color": "#B6E880",
          "symbol": "circle"
         },
         "mode": "markers",
         "name": "TUR",
         "orientation": "v",
         "showlegend": true,
         "x": [
          5.519
         ],
         "xaxis": "x",
         "y": [
          13.118464
         ],
         "yaxis": "y",
         "type": "scatter"
        },
        {
         "hovertemplate": "LOCATION=GBR<br>Values1=%{x}<br>Values2=%{y}<extra></extra>",
         "legendgroup": "GBR",
         "marker": {
          "color": "#FF97FF",
          "symbol": "circle"
         },
         "mode": "markers",
         "name": "GBR",
         "orientation": "v",
         "showlegend": true,
         "x": [
          9.592
         ],
         "xaxis": "x",
         "y": [
          38.187191
         ],
         "yaxis": "y",
         "type": "scatter"
        },
        {
         "hovertemplate": "LOCATION=USA<br>Values1=%{x}<br>Values2=%{y}<extra></extra>",
         "legendgroup": "USA",
         "marker": {
          "color": "#FECB52",
          "symbol": "circle"
         },
         "mode": "markers",
         "name": "USA",
         "orientation": "v",
         "showlegend": true,
         "x": [
          22.624
         ],
         "xaxis": "x",
         "y": [
          41.662415
         ],
         "yaxis": "y",
         "type": "scatter"
        },
        {
         "hovertemplate": "LOCATION=CHL<br>Values1=%{x}<br>Values2=%{y}<extra></extra>",
         "legendgroup": "CHL",
         "marker": {
          "color": "#636efa",
          "symbol": "circle"
         },
         "mode": "markers",
         "name": "CHL",
         "orientation": "v",
         "showlegend": true,
         "x": [
          5.154
         ],
         "xaxis": "x",
         "y": [
          null
         ],
         "yaxis": "y",
         "type": "scatter"
        },
        {
         "hovertemplate": "LOCATION=EST<br>Values1=%{x}<br>Values2=%{y}<extra></extra>",
         "legendgroup": "EST",
         "marker": {
          "color": "#EF553B",
          "symbol": "circle"
         },
         "mode": "markers",
         "name": "EST",
         "orientation": "v",
         "showlegend": true,
         "x": [
          15.928
         ],
         "xaxis": "x",
         "y": [
          35.423084
         ],
         "yaxis": "y",
         "type": "scatter"
        },
        {
         "hovertemplate": "LOCATION=ISR<br>Values1=%{x}<br>Values2=%{y}<extra></extra>",
         "legendgroup": "ISR",
         "marker": {
          "color": "#00cc96",
          "symbol": "circle"
         },
         "mode": "markers",
         "name": "ISR",
         "orientation": "v",
         "showlegend": true,
         "x": [
          10.304
         ],
         "xaxis": "x",
         "y": [
          45.560074
         ],
         "yaxis": "y",
         "type": "scatter"
        },
        {
         "hovertemplate": "LOCATION=SVN<br>Values1=%{x}<br>Values2=%{y}<extra></extra>",
         "legendgroup": "SVN",
         "marker": {
          "color": "#ab63fa",
          "symbol": "circle"
         },
         "mode": "markers",
         "name": "SVN",
         "orientation": "v",
         "showlegend": true,
         "x": [
          9.599
         ],
         "xaxis": "x",
         "y": [
          23.716619
         ],
         "yaxis": "y",
         "type": "scatter"
        },
        {
         "hovertemplate": "LOCATION=OECD<br>Values1=%{x}<br>Values2=%{y}<extra></extra>",
         "legendgroup": "OECD",
         "marker": {
          "color": "#FFA15A",
          "symbol": "circle"
         },
         "mode": "markers",
         "name": "OECD",
         "orientation": "v",
         "showlegend": true,
         "x": [
          12.702
         ],
         "xaxis": "x",
         "y": [
          null
         ],
         "yaxis": "y",
         "type": "scatter"
        },
        {
         "hovertemplate": "LOCATION=RUS<br>Values1=%{x}<br>Values2=%{y}<extra></extra>",
         "legendgroup": "RUS",
         "marker": {
          "color": "#19d3f3",
          "symbol": "circle"
         },
         "mode": "markers",
         "name": "RUS",
         "orientation": "v",
         "showlegend": true,
         "x": [
          14.033
         ],
         "xaxis": "x",
         "y": [
          50.371468
         ],
         "yaxis": "y",
         "type": "scatter"
        },
        {
         "hovertemplate": "LOCATION=OECDE<br>Values1=%{x}<br>Values2=%{y}<extra></extra>",
         "legendgroup": "OECDE",
         "marker": {
          "color": "#FF6692",
          "symbol": "circle"
         },
         "mode": "markers",
         "name": "OECDE",
         "orientation": "v",
         "showlegend": true,
         "x": [
          9.173
         ],
         "xaxis": "x",
         "y": [
          null
         ],
         "yaxis": "y",
         "type": "scatter"
        },
        {
         "hovertemplate": "LOCATION=BRA<br>Values1=%{x}<br>Values2=%{y}<extra></extra>",
         "legendgroup": "BRA",
         "marker": {
          "color": "#B6E880",
          "symbol": "circle"
         },
         "mode": "markers",
         "name": "BRA",
         "orientation": "v",
         "showlegend": true,
         "x": [
          4.706
         ],
         "xaxis": "x",
         "y": [
          null
         ],
         "yaxis": "y",
         "type": "scatter"
        },
        {
         "hovertemplate": "LOCATION=CHN<br>Values1=%{x}<br>Values2=%{y}<extra></extra>",
         "legendgroup": "CHN",
         "marker": {
          "color": "#FF97FF",
          "symbol": "circle"
         },
         "mode": "markers",
         "name": "CHN",
         "orientation": "v",
         "showlegend": true,
         "x": [
          7.703
         ],
         "xaxis": "x",
         "y": [
          9.6811743
         ],
         "yaxis": "y",
         "type": "scatter"
        },
        {
         "hovertemplate": "LOCATION=COL<br>Values1=%{x}<br>Values2=%{y}<extra></extra>",
         "legendgroup": "COL",
         "marker": {
          "color": "#FECB52",
          "symbol": "circle"
         },
         "mode": "markers",
         "name": "COL",
         "orientation": "v",
         "showlegend": true,
         "x": [
          3.057
         ],
         "xaxis": "x",
         "y": [
          null
         ],
         "yaxis": "y",
         "type": "scatter"
        },
        {
         "hovertemplate": "LOCATION=IND<br>Values1=%{x}<br>Values2=%{y}<extra></extra>",
         "legendgroup": "IND",
         "marker": {
          "color": "#636efa",
          "symbol": "circle"
         },
         "mode": "markers",
         "name": "IND",
         "orientation": "v",
         "showlegend": true,
         "x": [
          1.702
         ],
         "xaxis": "x",
         "y": [
          null
         ],
         "yaxis": "y",
         "type": "scatter"
        },
        {
         "hovertemplate": "LOCATION=IDN<br>Values1=%{x}<br>Values2=%{y}<extra></extra>",
         "legendgroup": "IDN",
         "marker": {
          "color": "#EF553B",
          "symbol": "circle"
         },
         "mode": "markers",
         "name": "IDN",
         "orientation": "v",
         "showlegend": true,
         "x": [
          2.835
         ],
         "xaxis": "x",
         "y": [
          7.9779863
         ],
         "yaxis": "y",
         "type": "scatter"
        },
        {
         "hovertemplate": "LOCATION=LVA<br>Values1=%{x}<br>Values2=%{y}<extra></extra>",
         "legendgroup": "LVA",
         "marker": {
          "color": "#00cc96",
          "symbol": "circle"
         },
         "mode": "markers",
         "name": "LVA",
         "orientation": "v",
         "showlegend": true,
         "x": [
          5.579
         ],
         "xaxis": "x",
         "y": [
          26.946114
         ],
         "yaxis": "y",
         "type": "scatter"
        },
        {
         "hovertemplate": "LOCATION=LTU<br>Values1=%{x}<br>Values2=%{y}<extra></extra>",
         "legendgroup": "LTU",
         "marker": {
          "color": "#ab63fa",
          "symbol": "circle"
         },
         "mode": "markers",
         "name": "LTU",
         "orientation": "v",
         "showlegend": true,
         "x": [
          6.64
         ],
         "xaxis": "x",
         "y": [
          32.440029
         ],
         "yaxis": "y",
         "type": "scatter"
        },
        {
         "hovertemplate": "LOCATION=CRI<br>Values1=%{x}<br>Values2=%{y}<extra></extra>",
         "legendgroup": "CRI",
         "marker": {
          "color": "#FFA15A",
          "symbol": "circle"
         },
         "mode": "markers",
         "name": "CRI",
         "orientation": "v",
         "showlegend": true,
         "x": [
          2.733
         ],
         "xaxis": "x",
         "y": [
          20.980572
         ],
         "yaxis": "y",
         "type": "scatter"
        },
        {
         "hovertemplate": "LOCATION=ARG<br>Values1=%{x}<br>Values2=%{y}<extra></extra>",
         "legendgroup": "ARG",
         "marker": {
          "color": "#19d3f3",
          "symbol": "circle"
         },
         "mode": "markers",
         "name": "ARG",
         "orientation": "v",
         "showlegend": true,
         "x": [
          7.294
         ],
         "xaxis": "x",
         "y": [
          null
         ],
         "yaxis": "y",
         "type": "scatter"
        },
        {
         "hovertemplate": "LOCATION=SAU<br>Values1=%{x}<br>Values2=%{y}<extra></extra>",
         "legendgroup": "SAU",
         "marker": {
          "color": "#FF6692",
          "symbol": "circle"
         },
         "mode": "markers",
         "name": "SAU",
         "orientation": "v",
         "showlegend": true,
         "x": [
          19.158
         ],
         "xaxis": "x",
         "y": [
          null
         ],
         "yaxis": "y",
         "type": "scatter"
        },
        {
         "hovertemplate": "LOCATION=ZAF<br>Values1=%{x}<br>Values2=%{y}<extra></extra>",
         "legendgroup": "ZAF",
         "marker": {
          "color": "#B6E880",
          "symbol": "circle"
         },
         "mode": "markers",
         "name": "ZAF",
         "orientation": "v",
         "showlegend": true,
         "x": [
          null
         ],
         "xaxis": "x",
         "y": [
          6.860743
         ],
         "yaxis": "y",
         "type": "scatter"
        },
        {
         "hovertemplate": "LOCATION=OAVG<br>Values1=%{x}<br>Values2=%{y}<extra></extra>",
         "legendgroup": "OAVG",
         "marker": {
          "color": "#FF97FF",
          "symbol": "circle"
         },
         "mode": "markers",
         "name": "OAVG",
         "orientation": "v",
         "showlegend": true,
         "x": [
          null
         ],
         "xaxis": "x",
         "y": [
          30.240952
         ],
         "yaxis": "y",
         "type": "scatter"
        },
        {
         "hovertemplate": "LOCATION=G20<br>Values1=%{x}<br>Values2=%{y}<extra></extra>",
         "legendgroup": "G20",
         "marker": {
          "color": "#FECB52",
          "symbol": "circle"
         },
         "mode": "markers",
         "name": "G20",
         "orientation": "v",
         "showlegend": true,
         "x": [
          null
         ],
         "xaxis": "x",
         "y": [
          28.313552
         ],
         "yaxis": "y",
         "type": "scatter"
        }
       ],
       "layout": {
        "template": {
         "data": {
          "bar": [
           {
            "error_x": {
             "color": "#2a3f5f"
            },
            "error_y": {
             "color": "#2a3f5f"
            },
            "marker": {
             "line": {
              "color": "#E5ECF6",
              "width": 0.5
             },
             "pattern": {
              "fillmode": "overlay",
              "size": 10,
              "solidity": 0.2
             }
            },
            "type": "bar"
           }
          ],
          "barpolar": [
           {
            "marker": {
             "line": {
              "color": "#E5ECF6",
              "width": 0.5
             },
             "pattern": {
              "fillmode": "overlay",
              "size": 10,
              "solidity": 0.2
             }
            },
            "type": "barpolar"
           }
          ],
          "carpet": [
           {
            "aaxis": {
             "endlinecolor": "#2a3f5f",
             "gridcolor": "white",
             "linecolor": "white",
             "minorgridcolor": "white",
             "startlinecolor": "#2a3f5f"
            },
            "baxis": {
             "endlinecolor": "#2a3f5f",
             "gridcolor": "white",
             "linecolor": "white",
             "minorgridcolor": "white",
             "startlinecolor": "#2a3f5f"
            },
            "type": "carpet"
           }
          ],
          "choropleth": [
           {
            "colorbar": {
             "outlinewidth": 0,
             "ticks": ""
            },
            "type": "choropleth"
           }
          ],
          "contour": [
           {
            "colorbar": {
             "outlinewidth": 0,
             "ticks": ""
            },
            "colorscale": [
             [
              0.0,
              "#0d0887"
             ],
             [
              0.1111111111111111,
              "#46039f"
             ],
             [
              0.2222222222222222,
              "#7201a8"
             ],
             [
              0.3333333333333333,
              "#9c179e"
             ],
             [
              0.4444444444444444,
              "#bd3786"
             ],
             [
              0.5555555555555556,
              "#d8576b"
             ],
             [
              0.6666666666666666,
              "#ed7953"
             ],
             [
              0.7777777777777778,
              "#fb9f3a"
             ],
             [
              0.8888888888888888,
              "#fdca26"
             ],
             [
              1.0,
              "#f0f921"
             ]
            ],
            "type": "contour"
           }
          ],
          "contourcarpet": [
           {
            "colorbar": {
             "outlinewidth": 0,
             "ticks": ""
            },
            "type": "contourcarpet"
           }
          ],
          "heatmap": [
           {
            "colorbar": {
             "outlinewidth": 0,
             "ticks": ""
            },
            "colorscale": [
             [
              0.0,
              "#0d0887"
             ],
             [
              0.1111111111111111,
              "#46039f"
             ],
             [
              0.2222222222222222,
              "#7201a8"
             ],
             [
              0.3333333333333333,
              "#9c179e"
             ],
             [
              0.4444444444444444,
              "#bd3786"
             ],
             [
              0.5555555555555556,
              "#d8576b"
             ],
             [
              0.6666666666666666,
              "#ed7953"
             ],
             [
              0.7777777777777778,
              "#fb9f3a"
             ],
             [
              0.8888888888888888,
              "#fdca26"
             ],
             [
              1.0,
              "#f0f921"
             ]
            ],
            "type": "heatmap"
           }
          ],
          "heatmapgl": [
           {
            "colorbar": {
             "outlinewidth": 0,
             "ticks": ""
            },
            "colorscale": [
             [
              0.0,
              "#0d0887"
             ],
             [
              0.1111111111111111,
              "#46039f"
             ],
             [
              0.2222222222222222,
              "#7201a8"
             ],
             [
              0.3333333333333333,
              "#9c179e"
             ],
             [
              0.4444444444444444,
              "#bd3786"
             ],
             [
              0.5555555555555556,
              "#d8576b"
             ],
             [
              0.6666666666666666,
              "#ed7953"
             ],
             [
              0.7777777777777778,
              "#fb9f3a"
             ],
             [
              0.8888888888888888,
              "#fdca26"
             ],
             [
              1.0,
              "#f0f921"
             ]
            ],
            "type": "heatmapgl"
           }
          ],
          "histogram": [
           {
            "marker": {
             "pattern": {
              "fillmode": "overlay",
              "size": 10,
              "solidity": 0.2
             }
            },
            "type": "histogram"
           }
          ],
          "histogram2d": [
           {
            "colorbar": {
             "outlinewidth": 0,
             "ticks": ""
            },
            "colorscale": [
             [
              0.0,
              "#0d0887"
             ],
             [
              0.1111111111111111,
              "#46039f"
             ],
             [
              0.2222222222222222,
              "#7201a8"
             ],
             [
              0.3333333333333333,
              "#9c179e"
             ],
             [
              0.4444444444444444,
              "#bd3786"
             ],
             [
              0.5555555555555556,
              "#d8576b"
             ],
             [
              0.6666666666666666,
              "#ed7953"
             ],
             [
              0.7777777777777778,
              "#fb9f3a"
             ],
             [
              0.8888888888888888,
              "#fdca26"
             ],
             [
              1.0,
              "#f0f921"
             ]
            ],
            "type": "histogram2d"
           }
          ],
          "histogram2dcontour": [
           {
            "colorbar": {
             "outlinewidth": 0,
             "ticks": ""
            },
            "colorscale": [
             [
              0.0,
              "#0d0887"
             ],
             [
              0.1111111111111111,
              "#46039f"
             ],
             [
              0.2222222222222222,
              "#7201a8"
             ],
             [
              0.3333333333333333,
              "#9c179e"
             ],
             [
              0.4444444444444444,
              "#bd3786"
             ],
             [
              0.5555555555555556,
              "#d8576b"
             ],
             [
              0.6666666666666666,
              "#ed7953"
             ],
             [
              0.7777777777777778,
              "#fb9f3a"
             ],
             [
              0.8888888888888888,
              "#fdca26"
             ],
             [
              1.0,
              "#f0f921"
             ]
            ],
            "type": "histogram2dcontour"
           }
          ],
          "mesh3d": [
           {
            "colorbar": {
             "outlinewidth": 0,
             "ticks": ""
            },
            "type": "mesh3d"
           }
          ],
          "parcoords": [
           {
            "line": {
             "colorbar": {
              "outlinewidth": 0,
              "ticks": ""
             }
            },
            "type": "parcoords"
           }
          ],
          "pie": [
           {
            "automargin": true,
            "type": "pie"
           }
          ],
          "scatter": [
           {
            "marker": {
             "colorbar": {
              "outlinewidth": 0,
              "ticks": ""
             }
            },
            "type": "scatter"
           }
          ],
          "scatter3d": [
           {
            "line": {
             "colorbar": {
              "outlinewidth": 0,
              "ticks": ""
             }
            },
            "marker": {
             "colorbar": {
              "outlinewidth": 0,
              "ticks": ""
             }
            },
            "type": "scatter3d"
           }
          ],
          "scattercarpet": [
           {
            "marker": {
             "colorbar": {
              "outlinewidth": 0,
              "ticks": ""
             }
            },
            "type": "scattercarpet"
           }
          ],
          "scattergeo": [
           {
            "marker": {
             "colorbar": {
              "outlinewidth": 0,
              "ticks": ""
             }
            },
            "type": "scattergeo"
           }
          ],
          "scattergl": [
           {
            "marker": {
             "colorbar": {
              "outlinewidth": 0,
              "ticks": ""
             }
            },
            "type": "scattergl"
           }
          ],
          "scattermapbox": [
           {
            "marker": {
             "colorbar": {
              "outlinewidth": 0,
              "ticks": ""
             }
            },
            "type": "scattermapbox"
           }
          ],
          "scatterpolar": [
           {
            "marker": {
             "colorbar": {
              "outlinewidth": 0,
              "ticks": ""
             }
            },
            "type": "scatterpolar"
           }
          ],
          "scatterpolargl": [
           {
            "marker": {
             "colorbar": {
              "outlinewidth": 0,
              "ticks": ""
             }
            },
            "type": "scatterpolargl"
           }
          ],
          "scatterternary": [
           {
            "marker": {
             "colorbar": {
              "outlinewidth": 0,
              "ticks": ""
             }
            },
            "type": "scatterternary"
           }
          ],
          "surface": [
           {
            "colorbar": {
             "outlinewidth": 0,
             "ticks": ""
            },
            "colorscale": [
             [
              0.0,
              "#0d0887"
             ],
             [
              0.1111111111111111,
              "#46039f"
             ],
             [
              0.2222222222222222,
              "#7201a8"
             ],
             [
              0.3333333333333333,
              "#9c179e"
             ],
             [
              0.4444444444444444,
              "#bd3786"
             ],
             [
              0.5555555555555556,
              "#d8576b"
             ],
             [
              0.6666666666666666,
              "#ed7953"
             ],
             [
              0.7777777777777778,
              "#fb9f3a"
             ],
             [
              0.8888888888888888,
              "#fdca26"
             ],
             [
              1.0,
              "#f0f921"
             ]
            ],
            "type": "surface"
           }
          ],
          "table": [
           {
            "cells": {
             "fill": {
              "color": "#EBF0F8"
             },
             "line": {
              "color": "white"
             }
            },
            "header": {
             "fill": {
              "color": "#C8D4E3"
             },
             "line": {
              "color": "white"
             }
            },
            "type": "table"
           }
          ]
         },
         "layout": {
          "annotationdefaults": {
           "arrowcolor": "#2a3f5f",
           "arrowhead": 0,
           "arrowwidth": 1
          },
          "autotypenumbers": "strict",
          "coloraxis": {
           "colorbar": {
            "outlinewidth": 0,
            "ticks": ""
           }
          },
          "colorscale": {
           "diverging": [
            [
             0,
             "#8e0152"
            ],
            [
             0.1,
             "#c51b7d"
            ],
            [
             0.2,
             "#de77ae"
            ],
            [
             0.3,
             "#f1b6da"
            ],
            [
             0.4,
             "#fde0ef"
            ],
            [
             0.5,
             "#f7f7f7"
            ],
            [
             0.6,
             "#e6f5d0"
            ],
            [
             0.7,
             "#b8e186"
            ],
            [
             0.8,
             "#7fbc41"
            ],
            [
             0.9,
             "#4d9221"
            ],
            [
             1,
             "#276419"
            ]
           ],
           "sequential": [
            [
             0.0,
             "#0d0887"
            ],
            [
             0.1111111111111111,
             "#46039f"
            ],
            [
             0.2222222222222222,
             "#7201a8"
            ],
            [
             0.3333333333333333,
             "#9c179e"
            ],
            [
             0.4444444444444444,
             "#bd3786"
            ],
            [
             0.5555555555555556,
             "#d8576b"
            ],
            [
             0.6666666666666666,
             "#ed7953"
            ],
            [
             0.7777777777777778,
             "#fb9f3a"
            ],
            [
             0.8888888888888888,
             "#fdca26"
            ],
            [
             1.0,
             "#f0f921"
            ]
           ],
           "sequentialminus": [
            [
             0.0,
             "#0d0887"
            ],
            [
             0.1111111111111111,
             "#46039f"
            ],
            [
             0.2222222222222222,
             "#7201a8"
            ],
            [
             0.3333333333333333,
             "#9c179e"
            ],
            [
             0.4444444444444444,
             "#bd3786"
            ],
            [
             0.5555555555555556,
             "#d8576b"
            ],
            [
             0.6666666666666666,
             "#ed7953"
            ],
            [
             0.7777777777777778,
             "#fb9f3a"
            ],
            [
             0.8888888888888888,
             "#fdca26"
            ],
            [
             1.0,
             "#f0f921"
            ]
           ]
          },
          "colorway": [
           "#636efa",
           "#EF553B",
           "#00cc96",
           "#ab63fa",
           "#FFA15A",
           "#19d3f3",
           "#FF6692",
           "#B6E880",
           "#FF97FF",
           "#FECB52"
          ],
          "font": {
           "color": "#2a3f5f"
          },
          "geo": {
           "bgcolor": "white",
           "lakecolor": "white",
           "landcolor": "#E5ECF6",
           "showlakes": true,
           "showland": true,
           "subunitcolor": "white"
          },
          "hoverlabel": {
           "align": "left"
          },
          "hovermode": "closest",
          "mapbox": {
           "style": "light"
          },
          "paper_bgcolor": "white",
          "plot_bgcolor": "#E5ECF6",
          "polar": {
           "angularaxis": {
            "gridcolor": "white",
            "linecolor": "white",
            "ticks": ""
           },
           "bgcolor": "#E5ECF6",
           "radialaxis": {
            "gridcolor": "white",
            "linecolor": "white",
            "ticks": ""
           }
          },
          "scene": {
           "xaxis": {
            "backgroundcolor": "#E5ECF6",
            "gridcolor": "white",
            "gridwidth": 2,
            "linecolor": "white",
            "showbackground": true,
            "ticks": "",
            "zerolinecolor": "white"
           },
           "yaxis": {
            "backgroundcolor": "#E5ECF6",
            "gridcolor": "white",
            "gridwidth": 2,
            "linecolor": "white",
            "showbackground": true,
            "ticks": "",
            "zerolinecolor": "white"
           },
           "zaxis": {
            "backgroundcolor": "#E5ECF6",
            "gridcolor": "white",
            "gridwidth": 2,
            "linecolor": "white",
            "showbackground": true,
            "ticks": "",
            "zerolinecolor": "white"
           }
          },
          "shapedefaults": {
           "line": {
            "color": "#2a3f5f"
           }
          },
          "ternary": {
           "aaxis": {
            "gridcolor": "white",
            "linecolor": "white",
            "ticks": ""
           },
           "baxis": {
            "gridcolor": "white",
            "linecolor": "white",
            "ticks": ""
           },
           "bgcolor": "#E5ECF6",
           "caxis": {
            "gridcolor": "white",
            "linecolor": "white",
            "ticks": ""
           }
          },
          "title": {
           "x": 0.05
          },
          "xaxis": {
           "automargin": true,
           "gridcolor": "white",
           "linecolor": "white",
           "ticks": "",
           "title": {
            "standoff": 15
           },
           "zerolinecolor": "white",
           "zerolinewidth": 2
          },
          "yaxis": {
           "automargin": true,
           "gridcolor": "white",
           "linecolor": "white",
           "ticks": "",
           "title": {
            "standoff": 15
           },
           "zerolinecolor": "white",
           "zerolinewidth": 2
          }
         }
        },
        "xaxis": {
         "anchor": "y",
         "domain": [
          0.0,
          1.0
         ],
         "title": {
          "text": "GHG in tonns per capita"
         }
        },
        "yaxis": {
         "anchor": "x",
         "domain": [
          0.0,
          1.0
         ],
         "title": {
          "text": "Adult education level - Tertiary, % of 25-64 year-olds"
         }
        },
        "legend": {
         "title": {
          "text": "LOCATION"
         },
         "tracegroupgap": 0
        },
        "title": {
         "text": "GHG and adult education,        corr = 0.594"
        }
       },
       "config": {
        "plotlyServerURL": "https://plot.ly"
       }
      },
      "text/html": "<div>                            <div id=\"17e1a7f9-3311-476d-b122-70c9afb058dd\" class=\"plotly-graph-div\" style=\"height:525px; width:100%;\"></div>            <script type=\"text/javascript\">                require([\"plotly\"], function(Plotly) {                    window.PLOTLYENV=window.PLOTLYENV || {};                                    if (document.getElementById(\"17e1a7f9-3311-476d-b122-70c9afb058dd\")) {                    Plotly.newPlot(                        \"17e1a7f9-3311-476d-b122-70c9afb058dd\",                        [{\"hovertemplate\":\"LOCATION=AUS<br>Values1=%{x}<br>Values2=%{y}<extra></extra>\",\"legendgroup\":\"AUS\",\"marker\":{\"color\":\"#636efa\",\"symbol\":\"circle\"},\"mode\":\"markers\",\"name\":\"AUS\",\"orientation\":\"v\",\"showlegend\":true,\"x\":[24.173],\"xaxis\":\"x\",\"y\":[37.604309],\"yaxis\":\"y\",\"type\":\"scatter\"},{\"hovertemplate\":\"LOCATION=AUT<br>Values1=%{x}<br>Values2=%{y}<extra></extra>\",\"legendgroup\":\"AUT\",\"marker\":{\"color\":\"#EF553B\",\"symbol\":\"circle\"},\"mode\":\"markers\",\"name\":\"AUT\",\"orientation\":\"v\",\"showlegend\":true,\"x\":[10.028],\"xaxis\":\"x\",\"y\":[27.743721],\"yaxis\":\"y\",\"type\":\"scatter\"},{\"hovertemplate\":\"LOCATION=BEL<br>Values1=%{x}<br>Values2=%{y}<extra></extra>\",\"legendgroup\":\"BEL\",\"marker\":{\"color\":\"#00cc96\",\"symbol\":\"circle\"},\"mode\":\"markers\",\"name\":\"BEL\",\"orientation\":\"v\",\"showlegend\":true,\"x\":[12.217],\"xaxis\":\"x\",\"y\":[34.989502],\"yaxis\":\"y\",\"type\":\"scatter\"},{\"hovertemplate\":\"LOCATION=CAN<br>Values1=%{x}<br>Values2=%{y}<extra></extra>\",\"legendgroup\":\"CAN\",\"marker\":{\"color\":\"#ab63fa\",\"symbol\":\"circle\"},\"mode\":\"markers\",\"name\":\"CAN\",\"orientation\":\"v\",\"showlegend\":true,\"x\":[20.581],\"xaxis\":\"x\",\"y\":[50.311695],\"yaxis\":\"y\",\"type\":\"scatter\"},{\"hovertemplate\":\"LOCATION=CZE<br>Values1=%{x}<br>Values2=%{y}<extra></extra>\",\"legendgroup\":\"CZE\",\"marker\":{\"color\":\"#FFA15A\",\"symbol\":\"circle\"},\"mode\":\"markers\",\"name\":\"CZE\",\"orientation\":\"v\",\"showlegend\":true,\"x\":[13.25],\"xaxis\":\"x\",\"y\":[16.764982],\"yaxis\":\"y\",\"type\":\"scatter\"},{\"hovertemplate\":\"LOCATION=DNK<br>Values1=%{x}<br>Values2=%{y}<extra></extra>\",\"legendgroup\":\"DNK\",\"marker\":{\"color\":\"#19d3f3\",\"symbol\":\"circle\"},\"mode\":\"markers\",\"name\":\"DNK\",\"orientation\":\"v\",\"showlegend\":true,\"x\":[11.641],\"xaxis\":\"x\",\"y\":[33.002644],\"yaxis\":\"y\",\"type\":\"scatter\"},{\"hovertemplate\":\"LOCATION=FIN<br>Values1=%{x}<br>Values2=%{y}<extra></extra>\",\"legendgroup\":\"FIN\",\"marker\":{\"color\":\"#FF6692\",\"symbol\":\"circle\"},\"mode\":\"markers\",\"name\":\"FIN\",\"orientation\":\"v\",\"showlegend\":true,\"x\":[14.093],\"xaxis\":\"x\",\"y\":[38.146343],\"yaxis\":\"y\",\"type\":\"scatter\"},{\"hovertemplate\":\"LOCATION=FRA<br>Values1=%{x}<br>Values2=%{y}<extra></extra>\",\"legendgroup\":\"FRA\",\"marker\":{\"color\":\"#B6E880\",\"symbol\":\"circle\"},\"mode\":\"markers\",\"name\":\"FRA\",\"orientation\":\"v\",\"showlegend\":true,\"x\":[8.166],\"xaxis\":\"x\",\"y\":[29.006897],\"yaxis\":\"y\",\"type\":\"scatter\"},{\"hovertemplate\":\"LOCATION=DEU<br>Values1=%{x}<br>Values2=%{y}<extra></extra>\",\"legendgroup\":\"DEU\",\"marker\":{\"color\":\"#FF97FF\",\"symbol\":\"circle\"},\"mode\":\"markers\",\"name\":\"DEU\",\"orientation\":\"v\",\"showlegend\":true,\"x\":[11.652],\"xaxis\":\"x\",\"y\":[26.609148],\"yaxis\":\"y\",\"type\":\"scatter\"},{\"hovertemplate\":\"LOCATION=GRC<br>Values1=%{x}<br>Values2=%{y}<extra></extra>\",\"legendgroup\":\"GRC\",\"marker\":{\"color\":\"#FECB52\",\"symbol\":\"circle\"},\"mode\":\"markers\",\"name\":\"GRC\",\"orientation\":\"v\",\"showlegend\":true,\"x\":[10.884],\"xaxis\":\"x\",\"y\":[24.744848],\"yaxis\":\"y\",\"type\":\"scatter\"},{\"hovertemplate\":\"LOCATION=HUN<br>Values1=%{x}<br>Values2=%{y}<extra></extra>\",\"legendgroup\":\"HUN\",\"marker\":{\"color\":\"#636efa\",\"symbol\":\"circle\"},\"mode\":\"markers\",\"name\":\"HUN\",\"orientation\":\"v\",\"showlegend\":true,\"x\":[6.654],\"xaxis\":\"x\",\"y\":[20.121918],\"yaxis\":\"y\",\"type\":\"scatter\"},{\"hovertemplate\":\"LOCATION=ISL<br>Values1=%{x}<br>Values2=%{y}<extra></extra>\",\"legendgroup\":\"ISL\",\"marker\":{\"color\":\"#EF553B\",\"symbol\":\"circle\"},\"mode\":\"markers\",\"name\":\"ISL\",\"orientation\":\"v\",\"showlegend\":true,\"x\":[15.191],\"xaxis\":\"x\",\"y\":[31.298735],\"yaxis\":\"y\",\"type\":\"scatter\"},{\"hovertemplate\":\"LOCATION=IRL<br>Values1=%{x}<br>Values2=%{y}<extra></extra>\",\"legendgroup\":\"IRL\",\"marker\":{\"color\":\"#00cc96\",\"symbol\":\"circle\"},\"mode\":\"markers\",\"name\":\"IRL\",\"orientation\":\"v\",\"showlegend\":true,\"x\":[13.602],\"xaxis\":\"x\",\"y\":[37.584061],\"yaxis\":\"y\",\"type\":\"scatter\"},{\"hovertemplate\":\"LOCATION=ITA<br>Values1=%{x}<br>Values2=%{y}<extra></extra>\",\"legendgroup\":\"ITA\",\"marker\":{\"color\":\"#ab63fa\",\"symbol\":\"circle\"},\"mode\":\"markers\",\"name\":\"ITA\",\"orientation\":\"v\",\"showlegend\":true,\"x\":[8.706],\"xaxis\":\"x\",\"y\":[14.802574],\"yaxis\":\"y\",\"type\":\"scatter\"},{\"hovertemplate\":\"LOCATION=JPN<br>Values1=%{x}<br>Values2=%{y}<extra></extra>\",\"legendgroup\":\"JPN\",\"marker\":{\"color\":\"#FFA15A\",\"symbol\":\"circle\"},\"mode\":\"markers\",\"name\":\"JPN\",\"orientation\":\"v\",\"showlegend\":true,\"x\":[10.117],\"xaxis\":\"x\",\"y\":[44.809975],\"yaxis\":\"y\",\"type\":\"scatter\"},{\"hovertemplate\":\"LOCATION=KOR<br>Values1=%{x}<br>Values2=%{y}<extra></extra>\",\"legendgroup\":\"KOR\",\"marker\":{\"color\":\"#19d3f3\",\"symbol\":\"circle\"},\"mode\":\"markers\",\"name\":\"KOR\",\"orientation\":\"v\",\"showlegend\":true,\"x\":[13.247],\"xaxis\":\"x\",\"y\":[39.044632],\"yaxis\":\"y\",\"type\":\"scatter\"},{\"hovertemplate\":\"LOCATION=LUX<br>Values1=%{x}<br>Values2=%{y}<extra></extra>\",\"legendgroup\":\"LUX\",\"marker\":{\"color\":\"#FF6692\",\"symbol\":\"circle\"},\"mode\":\"markers\",\"name\":\"LUX\",\"orientation\":\"v\",\"showlegend\":true,\"x\":[23.975],\"xaxis\":\"x\",\"y\":[35.475895],\"yaxis\":\"y\",\"type\":\"scatter\"},{\"hovertemplate\":\"LOCATION=MEX<br>Values1=%{x}<br>Values2=%{y}<extra></extra>\",\"legendgroup\":\"MEX\",\"marker\":{\"color\":\"#B6E880\",\"symbol\":\"circle\"},\"mode\":\"markers\",\"name\":\"MEX\",\"orientation\":\"v\",\"showlegend\":true,\"x\":[5.864],\"xaxis\":\"x\",\"y\":[14.654601],\"yaxis\":\"y\",\"type\":\"scatter\"},{\"hovertemplate\":\"LOCATION=NLD<br>Values1=%{x}<br>Values2=%{y}<extra></extra>\",\"legendgroup\":\"NLD\",\"marker\":{\"color\":\"#FF97FF\",\"symbol\":\"circle\"},\"mode\":\"markers\",\"name\":\"NLD\",\"orientation\":\"v\",\"showlegend\":true,\"x\":[12.688],\"xaxis\":\"x\",\"y\":[32.389164],\"yaxis\":\"y\",\"type\":\"scatter\"},{\"hovertemplate\":\"LOCATION=NZL<br>Values1=%{x}<br>Values2=%{y}<extra></extra>\",\"legendgroup\":\"NZL\",\"marker\":{\"color\":\"#FECB52\",\"symbol\":\"circle\"},\"mode\":\"markers\",\"name\":\"NZL\",\"orientation\":\"v\",\"showlegend\":true,\"x\":[17.921],\"xaxis\":\"x\",\"y\":[null],\"yaxis\":\"y\",\"type\":\"scatter\"},{\"hovertemplate\":\"LOCATION=NOR<br>Values1=%{x}<br>Values2=%{y}<extra></extra>\",\"legendgroup\":\"NOR\",\"marker\":{\"color\":\"#636efa\",\"symbol\":\"circle\"},\"mode\":\"markers\",\"name\":\"NOR\",\"orientation\":\"v\",\"showlegend\":true,\"x\":[11.311],\"xaxis\":\"x\",\"y\":[37.284328],\"yaxis\":\"y\",\"type\":\"scatter\"},{\"hovertemplate\":\"LOCATION=POL<br>Values1=%{x}<br>Values2=%{y}<extra></extra>\",\"legendgroup\":\"POL\",\"marker\":{\"color\":\"#EF553B\",\"symbol\":\"circle\"},\"mode\":\"markers\",\"name\":\"POL\",\"orientation\":\"v\",\"showlegend\":true,\"x\":[10.788],\"xaxis\":\"x\",\"y\":[22.468407],\"yaxis\":\"y\",\"type\":\"scatter\"},{\"hovertemplate\":\"LOCATION=PRT<br>Values1=%{x}<br>Values2=%{y}<extra></extra>\",\"legendgroup\":\"PRT\",\"marker\":{\"color\":\"#00cc96\",\"symbol\":\"circle\"},\"mode\":\"markers\",\"name\":\"PRT\",\"orientation\":\"v\",\"showlegend\":true,\"x\":[6.486],\"xaxis\":\"x\",\"y\":[15.445285],\"yaxis\":\"y\",\"type\":\"scatter\"},{\"hovertemplate\":\"LOCATION=SVK<br>Values1=%{x}<br>Values2=%{y}<extra></extra>\",\"legendgroup\":\"SVK\",\"marker\":{\"color\":\"#ab63fa\",\"symbol\":\"circle\"},\"mode\":\"markers\",\"name\":\"SVK\",\"orientation\":\"v\",\"showlegend\":true,\"x\":[8.394],\"xaxis\":\"x\",\"y\":[17.327984],\"yaxis\":\"y\",\"type\":\"scatter\"},{\"hovertemplate\":\"LOCATION=ESP<br>Values1=%{x}<br>Values2=%{y}<extra></extra>\",\"legendgroup\":\"ESP\",\"marker\":{\"color\":\"#FFA15A\",\"symbol\":\"circle\"},\"mode\":\"markers\",\"name\":\"ESP\",\"orientation\":\"v\",\"showlegend\":true,\"x\":[7.626],\"xaxis\":\"x\",\"y\":[31.016668],\"yaxis\":\"y\",\"type\":\"scatter\"},{\"hovertemplate\":\"LOCATION=SWE<br>Values1=%{x}<br>Values2=%{y}<extra></extra>\",\"legendgroup\":\"SWE\",\"marker\":{\"color\":\"#19d3f3\",\"symbol\":\"circle\"},\"mode\":\"markers\",\"name\":\"SWE\",\"orientation\":\"v\",\"showlegend\":true,\"x\":[6.875],\"xaxis\":\"x\",\"y\":[33.868935],\"yaxis\":\"y\",\"type\":\"scatter\"},{\"hovertemplate\":\"LOCATION=CHE<br>Values1=%{x}<br>Values2=%{y}<extra></extra>\",\"legendgroup\":\"CHE\",\"marker\":{\"color\":\"#FF6692\",\"symbol\":\"circle\"},\"mode\":\"markers\",\"name\":\"CHE\",\"orientation\":\"v\",\"showlegend\":true,\"x\":[7.008],\"xaxis\":\"x\",\"y\":[33.881504],\"yaxis\":\"y\",\"type\":\"scatter\"},{\"hovertemplate\":\"LOCATION=TUR<br>Values1=%{x}<br>Values2=%{y}<extra></extra>\",\"legendgroup\":\"TUR\",\"marker\":{\"color\":\"#B6E880\",\"symbol\":\"circle\"},\"mode\":\"markers\",\"name\":\"TUR\",\"orientation\":\"v\",\"showlegend\":true,\"x\":[5.519],\"xaxis\":\"x\",\"y\":[13.118464],\"yaxis\":\"y\",\"type\":\"scatter\"},{\"hovertemplate\":\"LOCATION=GBR<br>Values1=%{x}<br>Values2=%{y}<extra></extra>\",\"legendgroup\":\"GBR\",\"marker\":{\"color\":\"#FF97FF\",\"symbol\":\"circle\"},\"mode\":\"markers\",\"name\":\"GBR\",\"orientation\":\"v\",\"showlegend\":true,\"x\":[9.592],\"xaxis\":\"x\",\"y\":[38.187191],\"yaxis\":\"y\",\"type\":\"scatter\"},{\"hovertemplate\":\"LOCATION=USA<br>Values1=%{x}<br>Values2=%{y}<extra></extra>\",\"legendgroup\":\"USA\",\"marker\":{\"color\":\"#FECB52\",\"symbol\":\"circle\"},\"mode\":\"markers\",\"name\":\"USA\",\"orientation\":\"v\",\"showlegend\":true,\"x\":[22.624],\"xaxis\":\"x\",\"y\":[41.662415],\"yaxis\":\"y\",\"type\":\"scatter\"},{\"hovertemplate\":\"LOCATION=CHL<br>Values1=%{x}<br>Values2=%{y}<extra></extra>\",\"legendgroup\":\"CHL\",\"marker\":{\"color\":\"#636efa\",\"symbol\":\"circle\"},\"mode\":\"markers\",\"name\":\"CHL\",\"orientation\":\"v\",\"showlegend\":true,\"x\":[5.154],\"xaxis\":\"x\",\"y\":[null],\"yaxis\":\"y\",\"type\":\"scatter\"},{\"hovertemplate\":\"LOCATION=EST<br>Values1=%{x}<br>Values2=%{y}<extra></extra>\",\"legendgroup\":\"EST\",\"marker\":{\"color\":\"#EF553B\",\"symbol\":\"circle\"},\"mode\":\"markers\",\"name\":\"EST\",\"orientation\":\"v\",\"showlegend\":true,\"x\":[15.928],\"xaxis\":\"x\",\"y\":[35.423084],\"yaxis\":\"y\",\"type\":\"scatter\"},{\"hovertemplate\":\"LOCATION=ISR<br>Values1=%{x}<br>Values2=%{y}<extra></extra>\",\"legendgroup\":\"ISR\",\"marker\":{\"color\":\"#00cc96\",\"symbol\":\"circle\"},\"mode\":\"markers\",\"name\":\"ISR\",\"orientation\":\"v\",\"showlegend\":true,\"x\":[10.304],\"xaxis\":\"x\",\"y\":[45.560074],\"yaxis\":\"y\",\"type\":\"scatter\"},{\"hovertemplate\":\"LOCATION=SVN<br>Values1=%{x}<br>Values2=%{y}<extra></extra>\",\"legendgroup\":\"SVN\",\"marker\":{\"color\":\"#ab63fa\",\"symbol\":\"circle\"},\"mode\":\"markers\",\"name\":\"SVN\",\"orientation\":\"v\",\"showlegend\":true,\"x\":[9.599],\"xaxis\":\"x\",\"y\":[23.716619],\"yaxis\":\"y\",\"type\":\"scatter\"},{\"hovertemplate\":\"LOCATION=OECD<br>Values1=%{x}<br>Values2=%{y}<extra></extra>\",\"legendgroup\":\"OECD\",\"marker\":{\"color\":\"#FFA15A\",\"symbol\":\"circle\"},\"mode\":\"markers\",\"name\":\"OECD\",\"orientation\":\"v\",\"showlegend\":true,\"x\":[12.702],\"xaxis\":\"x\",\"y\":[null],\"yaxis\":\"y\",\"type\":\"scatter\"},{\"hovertemplate\":\"LOCATION=RUS<br>Values1=%{x}<br>Values2=%{y}<extra></extra>\",\"legendgroup\":\"RUS\",\"marker\":{\"color\":\"#19d3f3\",\"symbol\":\"circle\"},\"mode\":\"markers\",\"name\":\"RUS\",\"orientation\":\"v\",\"showlegend\":true,\"x\":[14.033],\"xaxis\":\"x\",\"y\":[50.371468],\"yaxis\":\"y\",\"type\":\"scatter\"},{\"hovertemplate\":\"LOCATION=OECDE<br>Values1=%{x}<br>Values2=%{y}<extra></extra>\",\"legendgroup\":\"OECDE\",\"marker\":{\"color\":\"#FF6692\",\"symbol\":\"circle\"},\"mode\":\"markers\",\"name\":\"OECDE\",\"orientation\":\"v\",\"showlegend\":true,\"x\":[9.173],\"xaxis\":\"x\",\"y\":[null],\"yaxis\":\"y\",\"type\":\"scatter\"},{\"hovertemplate\":\"LOCATION=BRA<br>Values1=%{x}<br>Values2=%{y}<extra></extra>\",\"legendgroup\":\"BRA\",\"marker\":{\"color\":\"#B6E880\",\"symbol\":\"circle\"},\"mode\":\"markers\",\"name\":\"BRA\",\"orientation\":\"v\",\"showlegend\":true,\"x\":[4.706],\"xaxis\":\"x\",\"y\":[null],\"yaxis\":\"y\",\"type\":\"scatter\"},{\"hovertemplate\":\"LOCATION=CHN<br>Values1=%{x}<br>Values2=%{y}<extra></extra>\",\"legendgroup\":\"CHN\",\"marker\":{\"color\":\"#FF97FF\",\"symbol\":\"circle\"},\"mode\":\"markers\",\"name\":\"CHN\",\"orientation\":\"v\",\"showlegend\":true,\"x\":[7.703],\"xaxis\":\"x\",\"y\":[9.6811743],\"yaxis\":\"y\",\"type\":\"scatter\"},{\"hovertemplate\":\"LOCATION=COL<br>Values1=%{x}<br>Values2=%{y}<extra></extra>\",\"legendgroup\":\"COL\",\"marker\":{\"color\":\"#FECB52\",\"symbol\":\"circle\"},\"mode\":\"markers\",\"name\":\"COL\",\"orientation\":\"v\",\"showlegend\":true,\"x\":[3.057],\"xaxis\":\"x\",\"y\":[null],\"yaxis\":\"y\",\"type\":\"scatter\"},{\"hovertemplate\":\"LOCATION=IND<br>Values1=%{x}<br>Values2=%{y}<extra></extra>\",\"legendgroup\":\"IND\",\"marker\":{\"color\":\"#636efa\",\"symbol\":\"circle\"},\"mode\":\"markers\",\"name\":\"IND\",\"orientation\":\"v\",\"showlegend\":true,\"x\":[1.702],\"xaxis\":\"x\",\"y\":[null],\"yaxis\":\"y\",\"type\":\"scatter\"},{\"hovertemplate\":\"LOCATION=IDN<br>Values1=%{x}<br>Values2=%{y}<extra></extra>\",\"legendgroup\":\"IDN\",\"marker\":{\"color\":\"#EF553B\",\"symbol\":\"circle\"},\"mode\":\"markers\",\"name\":\"IDN\",\"orientation\":\"v\",\"showlegend\":true,\"x\":[2.835],\"xaxis\":\"x\",\"y\":[7.9779863],\"yaxis\":\"y\",\"type\":\"scatter\"},{\"hovertemplate\":\"LOCATION=LVA<br>Values1=%{x}<br>Values2=%{y}<extra></extra>\",\"legendgroup\":\"LVA\",\"marker\":{\"color\":\"#00cc96\",\"symbol\":\"circle\"},\"mode\":\"markers\",\"name\":\"LVA\",\"orientation\":\"v\",\"showlegend\":true,\"x\":[5.579],\"xaxis\":\"x\",\"y\":[26.946114],\"yaxis\":\"y\",\"type\":\"scatter\"},{\"hovertemplate\":\"LOCATION=LTU<br>Values1=%{x}<br>Values2=%{y}<extra></extra>\",\"legendgroup\":\"LTU\",\"marker\":{\"color\":\"#ab63fa\",\"symbol\":\"circle\"},\"mode\":\"markers\",\"name\":\"LTU\",\"orientation\":\"v\",\"showlegend\":true,\"x\":[6.64],\"xaxis\":\"x\",\"y\":[32.440029],\"yaxis\":\"y\",\"type\":\"scatter\"},{\"hovertemplate\":\"LOCATION=CRI<br>Values1=%{x}<br>Values2=%{y}<extra></extra>\",\"legendgroup\":\"CRI\",\"marker\":{\"color\":\"#FFA15A\",\"symbol\":\"circle\"},\"mode\":\"markers\",\"name\":\"CRI\",\"orientation\":\"v\",\"showlegend\":true,\"x\":[2.733],\"xaxis\":\"x\",\"y\":[20.980572],\"yaxis\":\"y\",\"type\":\"scatter\"},{\"hovertemplate\":\"LOCATION=ARG<br>Values1=%{x}<br>Values2=%{y}<extra></extra>\",\"legendgroup\":\"ARG\",\"marker\":{\"color\":\"#19d3f3\",\"symbol\":\"circle\"},\"mode\":\"markers\",\"name\":\"ARG\",\"orientation\":\"v\",\"showlegend\":true,\"x\":[7.294],\"xaxis\":\"x\",\"y\":[null],\"yaxis\":\"y\",\"type\":\"scatter\"},{\"hovertemplate\":\"LOCATION=SAU<br>Values1=%{x}<br>Values2=%{y}<extra></extra>\",\"legendgroup\":\"SAU\",\"marker\":{\"color\":\"#FF6692\",\"symbol\":\"circle\"},\"mode\":\"markers\",\"name\":\"SAU\",\"orientation\":\"v\",\"showlegend\":true,\"x\":[19.158],\"xaxis\":\"x\",\"y\":[null],\"yaxis\":\"y\",\"type\":\"scatter\"},{\"hovertemplate\":\"LOCATION=ZAF<br>Values1=%{x}<br>Values2=%{y}<extra></extra>\",\"legendgroup\":\"ZAF\",\"marker\":{\"color\":\"#B6E880\",\"symbol\":\"circle\"},\"mode\":\"markers\",\"name\":\"ZAF\",\"orientation\":\"v\",\"showlegend\":true,\"x\":[null],\"xaxis\":\"x\",\"y\":[6.860743],\"yaxis\":\"y\",\"type\":\"scatter\"},{\"hovertemplate\":\"LOCATION=OAVG<br>Values1=%{x}<br>Values2=%{y}<extra></extra>\",\"legendgroup\":\"OAVG\",\"marker\":{\"color\":\"#FF97FF\",\"symbol\":\"circle\"},\"mode\":\"markers\",\"name\":\"OAVG\",\"orientation\":\"v\",\"showlegend\":true,\"x\":[null],\"xaxis\":\"x\",\"y\":[30.240952],\"yaxis\":\"y\",\"type\":\"scatter\"},{\"hovertemplate\":\"LOCATION=G20<br>Values1=%{x}<br>Values2=%{y}<extra></extra>\",\"legendgroup\":\"G20\",\"marker\":{\"color\":\"#FECB52\",\"symbol\":\"circle\"},\"mode\":\"markers\",\"name\":\"G20\",\"orientation\":\"v\",\"showlegend\":true,\"x\":[null],\"xaxis\":\"x\",\"y\":[28.313552],\"yaxis\":\"y\",\"type\":\"scatter\"}],                        {\"template\":{\"data\":{\"bar\":[{\"error_x\":{\"color\":\"#2a3f5f\"},\"error_y\":{\"color\":\"#2a3f5f\"},\"marker\":{\"line\":{\"color\":\"#E5ECF6\",\"width\":0.5},\"pattern\":{\"fillmode\":\"overlay\",\"size\":10,\"solidity\":0.2}},\"type\":\"bar\"}],\"barpolar\":[{\"marker\":{\"line\":{\"color\":\"#E5ECF6\",\"width\":0.5},\"pattern\":{\"fillmode\":\"overlay\",\"size\":10,\"solidity\":0.2}},\"type\":\"barpolar\"}],\"carpet\":[{\"aaxis\":{\"endlinecolor\":\"#2a3f5f\",\"gridcolor\":\"white\",\"linecolor\":\"white\",\"minorgridcolor\":\"white\",\"startlinecolor\":\"#2a3f5f\"},\"baxis\":{\"endlinecolor\":\"#2a3f5f\",\"gridcolor\":\"white\",\"linecolor\":\"white\",\"minorgridcolor\":\"white\",\"startlinecolor\":\"#2a3f5f\"},\"type\":\"carpet\"}],\"choropleth\":[{\"colorbar\":{\"outlinewidth\":0,\"ticks\":\"\"},\"type\":\"choropleth\"}],\"contour\":[{\"colorbar\":{\"outlinewidth\":0,\"ticks\":\"\"},\"colorscale\":[[0.0,\"#0d0887\"],[0.1111111111111111,\"#46039f\"],[0.2222222222222222,\"#7201a8\"],[0.3333333333333333,\"#9c179e\"],[0.4444444444444444,\"#bd3786\"],[0.5555555555555556,\"#d8576b\"],[0.6666666666666666,\"#ed7953\"],[0.7777777777777778,\"#fb9f3a\"],[0.8888888888888888,\"#fdca26\"],[1.0,\"#f0f921\"]],\"type\":\"contour\"}],\"contourcarpet\":[{\"colorbar\":{\"outlinewidth\":0,\"ticks\":\"\"},\"type\":\"contourcarpet\"}],\"heatmap\":[{\"colorbar\":{\"outlinewidth\":0,\"ticks\":\"\"},\"colorscale\":[[0.0,\"#0d0887\"],[0.1111111111111111,\"#46039f\"],[0.2222222222222222,\"#7201a8\"],[0.3333333333333333,\"#9c179e\"],[0.4444444444444444,\"#bd3786\"],[0.5555555555555556,\"#d8576b\"],[0.6666666666666666,\"#ed7953\"],[0.7777777777777778,\"#fb9f3a\"],[0.8888888888888888,\"#fdca26\"],[1.0,\"#f0f921\"]],\"type\":\"heatmap\"}],\"heatmapgl\":[{\"colorbar\":{\"outlinewidth\":0,\"ticks\":\"\"},\"colorscale\":[[0.0,\"#0d0887\"],[0.1111111111111111,\"#46039f\"],[0.2222222222222222,\"#7201a8\"],[0.3333333333333333,\"#9c179e\"],[0.4444444444444444,\"#bd3786\"],[0.5555555555555556,\"#d8576b\"],[0.6666666666666666,\"#ed7953\"],[0.7777777777777778,\"#fb9f3a\"],[0.8888888888888888,\"#fdca26\"],[1.0,\"#f0f921\"]],\"type\":\"heatmapgl\"}],\"histogram\":[{\"marker\":{\"pattern\":{\"fillmode\":\"overlay\",\"size\":10,\"solidity\":0.2}},\"type\":\"histogram\"}],\"histogram2d\":[{\"colorbar\":{\"outlinewidth\":0,\"ticks\":\"\"},\"colorscale\":[[0.0,\"#0d0887\"],[0.1111111111111111,\"#46039f\"],[0.2222222222222222,\"#7201a8\"],[0.3333333333333333,\"#9c179e\"],[0.4444444444444444,\"#bd3786\"],[0.5555555555555556,\"#d8576b\"],[0.6666666666666666,\"#ed7953\"],[0.7777777777777778,\"#fb9f3a\"],[0.8888888888888888,\"#fdca26\"],[1.0,\"#f0f921\"]],\"type\":\"histogram2d\"}],\"histogram2dcontour\":[{\"colorbar\":{\"outlinewidth\":0,\"ticks\":\"\"},\"colorscale\":[[0.0,\"#0d0887\"],[0.1111111111111111,\"#46039f\"],[0.2222222222222222,\"#7201a8\"],[0.3333333333333333,\"#9c179e\"],[0.4444444444444444,\"#bd3786\"],[0.5555555555555556,\"#d8576b\"],[0.6666666666666666,\"#ed7953\"],[0.7777777777777778,\"#fb9f3a\"],[0.8888888888888888,\"#fdca26\"],[1.0,\"#f0f921\"]],\"type\":\"histogram2dcontour\"}],\"mesh3d\":[{\"colorbar\":{\"outlinewidth\":0,\"ticks\":\"\"},\"type\":\"mesh3d\"}],\"parcoords\":[{\"line\":{\"colorbar\":{\"outlinewidth\":0,\"ticks\":\"\"}},\"type\":\"parcoords\"}],\"pie\":[{\"automargin\":true,\"type\":\"pie\"}],\"scatter\":[{\"marker\":{\"colorbar\":{\"outlinewidth\":0,\"ticks\":\"\"}},\"type\":\"scatter\"}],\"scatter3d\":[{\"line\":{\"colorbar\":{\"outlinewidth\":0,\"ticks\":\"\"}},\"marker\":{\"colorbar\":{\"outlinewidth\":0,\"ticks\":\"\"}},\"type\":\"scatter3d\"}],\"scattercarpet\":[{\"marker\":{\"colorbar\":{\"outlinewidth\":0,\"ticks\":\"\"}},\"type\":\"scattercarpet\"}],\"scattergeo\":[{\"marker\":{\"colorbar\":{\"outlinewidth\":0,\"ticks\":\"\"}},\"type\":\"scattergeo\"}],\"scattergl\":[{\"marker\":{\"colorbar\":{\"outlinewidth\":0,\"ticks\":\"\"}},\"type\":\"scattergl\"}],\"scattermapbox\":[{\"marker\":{\"colorbar\":{\"outlinewidth\":0,\"ticks\":\"\"}},\"type\":\"scattermapbox\"}],\"scatterpolar\":[{\"marker\":{\"colorbar\":{\"outlinewidth\":0,\"ticks\":\"\"}},\"type\":\"scatterpolar\"}],\"scatterpolargl\":[{\"marker\":{\"colorbar\":{\"outlinewidth\":0,\"ticks\":\"\"}},\"type\":\"scatterpolargl\"}],\"scatterternary\":[{\"marker\":{\"colorbar\":{\"outlinewidth\":0,\"ticks\":\"\"}},\"type\":\"scatterternary\"}],\"surface\":[{\"colorbar\":{\"outlinewidth\":0,\"ticks\":\"\"},\"colorscale\":[[0.0,\"#0d0887\"],[0.1111111111111111,\"#46039f\"],[0.2222222222222222,\"#7201a8\"],[0.3333333333333333,\"#9c179e\"],[0.4444444444444444,\"#bd3786\"],[0.5555555555555556,\"#d8576b\"],[0.6666666666666666,\"#ed7953\"],[0.7777777777777778,\"#fb9f3a\"],[0.8888888888888888,\"#fdca26\"],[1.0,\"#f0f921\"]],\"type\":\"surface\"}],\"table\":[{\"cells\":{\"fill\":{\"color\":\"#EBF0F8\"},\"line\":{\"color\":\"white\"}},\"header\":{\"fill\":{\"color\":\"#C8D4E3\"},\"line\":{\"color\":\"white\"}},\"type\":\"table\"}]},\"layout\":{\"annotationdefaults\":{\"arrowcolor\":\"#2a3f5f\",\"arrowhead\":0,\"arrowwidth\":1},\"autotypenumbers\":\"strict\",\"coloraxis\":{\"colorbar\":{\"outlinewidth\":0,\"ticks\":\"\"}},\"colorscale\":{\"diverging\":[[0,\"#8e0152\"],[0.1,\"#c51b7d\"],[0.2,\"#de77ae\"],[0.3,\"#f1b6da\"],[0.4,\"#fde0ef\"],[0.5,\"#f7f7f7\"],[0.6,\"#e6f5d0\"],[0.7,\"#b8e186\"],[0.8,\"#7fbc41\"],[0.9,\"#4d9221\"],[1,\"#276419\"]],\"sequential\":[[0.0,\"#0d0887\"],[0.1111111111111111,\"#46039f\"],[0.2222222222222222,\"#7201a8\"],[0.3333333333333333,\"#9c179e\"],[0.4444444444444444,\"#bd3786\"],[0.5555555555555556,\"#d8576b\"],[0.6666666666666666,\"#ed7953\"],[0.7777777777777778,\"#fb9f3a\"],[0.8888888888888888,\"#fdca26\"],[1.0,\"#f0f921\"]],\"sequentialminus\":[[0.0,\"#0d0887\"],[0.1111111111111111,\"#46039f\"],[0.2222222222222222,\"#7201a8\"],[0.3333333333333333,\"#9c179e\"],[0.4444444444444444,\"#bd3786\"],[0.5555555555555556,\"#d8576b\"],[0.6666666666666666,\"#ed7953\"],[0.7777777777777778,\"#fb9f3a\"],[0.8888888888888888,\"#fdca26\"],[1.0,\"#f0f921\"]]},\"colorway\":[\"#636efa\",\"#EF553B\",\"#00cc96\",\"#ab63fa\",\"#FFA15A\",\"#19d3f3\",\"#FF6692\",\"#B6E880\",\"#FF97FF\",\"#FECB52\"],\"font\":{\"color\":\"#2a3f5f\"},\"geo\":{\"bgcolor\":\"white\",\"lakecolor\":\"white\",\"landcolor\":\"#E5ECF6\",\"showlakes\":true,\"showland\":true,\"subunitcolor\":\"white\"},\"hoverlabel\":{\"align\":\"left\"},\"hovermode\":\"closest\",\"mapbox\":{\"style\":\"light\"},\"paper_bgcolor\":\"white\",\"plot_bgcolor\":\"#E5ECF6\",\"polar\":{\"angularaxis\":{\"gridcolor\":\"white\",\"linecolor\":\"white\",\"ticks\":\"\"},\"bgcolor\":\"#E5ECF6\",\"radialaxis\":{\"gridcolor\":\"white\",\"linecolor\":\"white\",\"ticks\":\"\"}},\"scene\":{\"xaxis\":{\"backgroundcolor\":\"#E5ECF6\",\"gridcolor\":\"white\",\"gridwidth\":2,\"linecolor\":\"white\",\"showbackground\":true,\"ticks\":\"\",\"zerolinecolor\":\"white\"},\"yaxis\":{\"backgroundcolor\":\"#E5ECF6\",\"gridcolor\":\"white\",\"gridwidth\":2,\"linecolor\":\"white\",\"showbackground\":true,\"ticks\":\"\",\"zerolinecolor\":\"white\"},\"zaxis\":{\"backgroundcolor\":\"#E5ECF6\",\"gridcolor\":\"white\",\"gridwidth\":2,\"linecolor\":\"white\",\"showbackground\":true,\"ticks\":\"\",\"zerolinecolor\":\"white\"}},\"shapedefaults\":{\"line\":{\"color\":\"#2a3f5f\"}},\"ternary\":{\"aaxis\":{\"gridcolor\":\"white\",\"linecolor\":\"white\",\"ticks\":\"\"},\"baxis\":{\"gridcolor\":\"white\",\"linecolor\":\"white\",\"ticks\":\"\"},\"bgcolor\":\"#E5ECF6\",\"caxis\":{\"gridcolor\":\"white\",\"linecolor\":\"white\",\"ticks\":\"\"}},\"title\":{\"x\":0.05},\"xaxis\":{\"automargin\":true,\"gridcolor\":\"white\",\"linecolor\":\"white\",\"ticks\":\"\",\"title\":{\"standoff\":15},\"zerolinecolor\":\"white\",\"zerolinewidth\":2},\"yaxis\":{\"automargin\":true,\"gridcolor\":\"white\",\"linecolor\":\"white\",\"ticks\":\"\",\"title\":{\"standoff\":15},\"zerolinecolor\":\"white\",\"zerolinewidth\":2}}},\"xaxis\":{\"anchor\":\"y\",\"domain\":[0.0,1.0],\"title\":{\"text\":\"GHG in tonns per capita\"}},\"yaxis\":{\"anchor\":\"x\",\"domain\":[0.0,1.0],\"title\":{\"text\":\"Adult education level - Tertiary, % of 25-64 year-olds\"}},\"legend\":{\"title\":{\"text\":\"LOCATION\"},\"tracegroupgap\":0},\"title\":{\"text\":\"GHG and adult education,        corr = 0.594\"}},                        {\"responsive\": true}                    ).then(function(){\n                            \nvar gd = document.getElementById('17e1a7f9-3311-476d-b122-70c9afb058dd');\nvar x = new MutationObserver(function (mutations, observer) {{\n        var display = window.getComputedStyle(gd).display;\n        if (!display || display === 'none') {{\n            console.log([gd, 'removed!']);\n            Plotly.purge(gd);\n            observer.disconnect();\n        }}\n}});\n\n// Listen for the removal of the full notebook cells\nvar notebookContainer = gd.closest('#notebook-container');\nif (notebookContainer) {{\n    x.observe(notebookContainer, {childList: true});\n}}\n\n// Listen for the clearing of the current output cell\nvar outputEl = gd.closest('.output');\nif (outputEl) {{\n    x.observe(outputEl, {childList: true});\n}}\n\n                        })                };                });            </script>        </div>"
     },
     "metadata": {},
     "output_type": "display_data"
    }
   ],
   "source": [
    "# =========== final program ============\n",
    "plot_lineplot1()\n",
    "# plot_lineplot2()\n",
    "# plot_barplot1()\n",
    "plot_scatterplot1()"
   ]
  }
 ],
 "metadata": {
  "kernelspec": {
   "display_name": "Python 3",
   "language": "python",
   "name": "python3"
  },
  "language_info": {
   "codemirror_mode": {
    "name": "ipython",
    "version": 3
   },
   "file_extension": ".py",
   "mimetype": "text/x-python",
   "name": "python",
   "nbconvert_exporter": "python",
   "pygments_lexer": "ipython3",
   "version": "3.8.10"
  }
 },
 "nbformat": 4,
 "nbformat_minor": 5
}